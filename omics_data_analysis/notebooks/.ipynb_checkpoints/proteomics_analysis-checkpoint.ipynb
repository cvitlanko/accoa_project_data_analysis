{
 "cells": [
  {
   "cell_type": "code",
   "execution_count": 1,
   "metadata": {},
   "outputs": [
    {
     "name": "stderr",
     "output_type": "stream",
     "text": [
      "/miniconda3/envs/rbcenv/lib/python3.7/site-packages/statsmodels/tools/_testing.py:19: FutureWarning: pandas.util.testing is deprecated. Use the functions in the public API at pandas.testing instead.\n",
      "  import pandas.util.testing as tm\n"
     ]
    }
   ],
   "source": [
    "import pandas as pd\n",
    "import numpy as np\n",
    "\n",
    "import matplotlib.pyplot as plt\n",
    "import seaborn as sns\n",
    "\n",
    "from scipy.stats import ttest_ind\n",
    "\n",
    "import cobra\n",
    "from cobra.io import read_sbml_model, load_json_model, load_yaml_model, load_matlab_model, load_model"
   ]
  },
  {
   "cell_type": "markdown",
   "metadata": {},
   "source": [
    "## Get ids of central carbon metabolism from GSM"
   ]
  },
  {
   "cell_type": "code",
   "execution_count": 2,
   "metadata": {},
   "outputs": [
    {
     "name": "stdout",
     "output_type": "stream",
     "text": [
      "\n",
      "--------------------------------------------\n",
      "Warning: your license will expire in 10 days\n",
      "--------------------------------------------\n",
      "\n",
      "Using license file /Users/svevol/gurobi.lic\n",
      "Academic license - for non-commercial use only\n"
     ]
    }
   ],
   "source": [
    "# Load P putida model iJN1563\n",
    "model = load_model('iJN1463')\n",
    "# Read proteins ids of Central Carbon Metabolism\n",
    "ids = pd.read_excel('../data/proteins_id.xlsx')\n",
    "# Ensembl Gene ID to Gene Symbol\n",
    "id_convervtion = pd.read_excel('../data/gs_to_geneid.xlsx')"
   ]
  },
  {
   "cell_type": "code",
   "execution_count": 3,
   "metadata": {},
   "outputs": [],
   "source": [
    "# Get Gene reaction rule from GSM for proteins of interests\n",
    "genes_ids = [] \n",
    "for i in range(0,ids.shape[0]):\n",
    "    genes_ids.append(model.reactions.get_by_id(ids.iloc[i,0]).gene_reaction_rule)\n",
    "genes_ids\n",
    "\n",
    "#Parsing gene ids\n",
    "ids['genes'] = [i.replace(' and ', ',').replace(' or ', ',') for i in genes_ids]\n",
    "ids.to_excel('../data/ccm_ids.xlsx')\n",
    "list_of_strings = [i.replace(' and ', ',').replace(' or ', ',') for i in genes_ids]\n",
    "list_of_lists = [i.split(\",\") for i in list_of_strings]\n",
    "list_of_ids = [item for sublist in list_of_lists for item in sublist]\n",
    "\n",
    "list_of_ids = list_of_ids  + ['PP_0339','PP_0338','PP_4187','PP_0339','PP_0338','PP_5366' ] # add PDH which did not parsed correctly"
   ]
  },
  {
   "cell_type": "markdown",
   "metadata": {},
   "source": [
    "## Read proteomics data"
   ]
  },
  {
   "cell_type": "code",
   "execution_count": 4,
   "metadata": {},
   "outputs": [],
   "source": [
    "proteomics_file_name = '../data/Proteomics.xlsx'\n",
    "proteomics = pd.read_excel(proteomics_file_name)\n",
    "proteomics.set_index('Ensembl Gene ID', inplace=True) # Ensembl Gene ID\n",
    "meta = pd.read_excel('../data/meta_proteomics.xlsx')"
   ]
  },
  {
   "cell_type": "code",
   "execution_count": 5,
   "metadata": {},
   "outputs": [],
   "source": [
    "# drop proteins which have more than 15 NAs and fill the rest of NAs with 0\n",
    "proteomics = proteomics.dropna(thresh=15, axis=0)\n",
    "proteomics = proteomics.fillna(0)"
   ]
  },
  {
   "cell_type": "code",
   "execution_count": 6,
   "metadata": {},
   "outputs": [],
   "source": [
    "# Proteomics with gene symbols \n",
    "proteomics_gs = pd.read_excel('../data/Proteomics_gs.xlsx')\n",
    "proteomics_gs.set_index('Gene Symbol', inplace=True)\n",
    "proteomics_gs = proteomics_gs.dropna(thresh=15, axis=0)\n",
    "proteomics_gs = proteomics_gs.fillna(0)"
   ]
  },
  {
   "cell_type": "markdown",
   "metadata": {},
   "source": [
    "## t-test analysis of proteomics"
   ]
  },
  {
   "cell_type": "code",
   "execution_count": 7,
   "metadata": {},
   "outputs": [],
   "source": [
    "def fdr(p_vals):\n",
    "\n",
    "    from scipy.stats import rankdata\n",
    "    ranked_p_values = rankdata(p_vals)\n",
    "    fdr = p_vals * len(p_vals) / ranked_p_values\n",
    "    fdr[fdr > 1] = 1\n",
    "\n",
    "    return fdr\n",
    "\n",
    "def do_ttest(group1,group2):\n",
    "    g1_boolen = meta['Strain'].isin([group1]).values\n",
    "    g2_boolen = meta['Strain'].isin([group2]).values\n",
    "    g1 = proteomics.loc[:,g1_boolen]\n",
    "    g2 = proteomics.loc[:,g2_boolen]\n",
    "    g1_mean = g1.transpose().mean()\n",
    "    g2_mean = g2.transpose().mean()\n",
    "    fc = g2_mean/(g1_mean+1e-9)\n",
    "    lfc = np.log(fc)\n",
    "    ttest = ttest_ind(g1.transpose(), \n",
    "          g2.transpose(), \n",
    "          equal_var=False, # it's not necessarily fair to assume that these two populations have equal variance\n",
    "          nan_policy='omit')\n",
    "    return ttest,lfc\n",
    "\n",
    "def analyze_ttest(group1,group2):\n",
    "    ttest, lfc = do_ttest(group1,group2)\n",
    "    calculated = np.transpose(np.array([fdr(ttest.pvalue),ttest.pvalue,lfc]))\n",
    "    df = pd.DataFrame(calculated,columns=['p-value corrected', 'p-value', 'logFC'])\n",
    "    df['significant'] = df['p-value corrected']<0.01\n",
    "    df['-log10 p-value'] = -np.log10(df['p-value corrected'])\n",
    "    df['abundance'] = np.where(df['logFC']>0, 'increased', 'decreased')\n",
    "    df['more than 1.5 FC'] = np.where(df['logFC'].abs() > 1.5, True, False)\n",
    "    df.index = proteomics.index\n",
    "    df['gene symbol'] = proteomics_gs.index\n",
    "    more_than_fc = df[df['more than 1.5 FC']==True]\n",
    "    return df,more_than_fc\n",
    "\n",
    "def do_volcano(df,group1,group2,plotname):\n",
    "    sns.scatterplot(data=df, y = '-log10 p-value', x = 'logFC', color=['grey'] ).set(xlim=(-11, 11))\n",
    "    sns.scatterplot(data=df[df['significant']==True], y = '-log10 p-value', x = 'logFC',hue = 'abundance',\n",
    "                    palette = ['navy','crimson'] ).set(xlim=(-11, 11))\n",
    "    plt.title(f\"{group1} vs. {group2}\")\n",
    "    plt.savefig(plotname, transparent=True)"
   ]
  },
  {
   "cell_type": "markdown",
   "metadata": {},
   "source": [
    "### PHB vs WT"
   ]
  },
  {
   "cell_type": "code",
   "execution_count": 8,
   "metadata": {},
   "outputs": [
    {
     "name": "stderr",
     "output_type": "stream",
     "text": [
      "/miniconda3/envs/rbcenv/lib/python3.7/site-packages/pandas/core/series.py:726: RuntimeWarning: divide by zero encountered in log\n",
      "  result = getattr(ufunc, method)(*inputs, **kwargs)\n"
     ]
    },
    {
     "data": {
      "image/png": "[encoded data removed]",
      "text/plain": [
       "<Figure size 432x288 with 1 Axes>"
      ]
     },
     "metadata": {
      "needs_background": "light"
     },
     "output_type": "display_data"
    }
   ],
   "source": [
    "group1 = 'PHB'\n",
    "group2 = 'WT'\n",
    "plotname = '../figures/proteomics_ttest_results/' + group1 + 'vs' + group2 + '.svg'\n",
    "df,more_than_fc = analyze_ttest(group1,group2)\n",
    "do_volcano(df,group1,group2,plotname)\n",
    "ccm = df.loc[[l for l in list_of_ids if l in df.index.values]]\n",
    "np.sum(df.significant.values)\n",
    "dfname =  '../figures/proteomics_ttest_results/' + group1 + 'vs' + group2 +'.xlsx'\n",
    "df.to_excel(dfname)"
   ]
  },
  {
   "cell_type": "code",
   "execution_count": 9,
   "metadata": {},
   "outputs": [],
   "source": [
    "phb_wt = df.copy()"
   ]
  },
  {
   "cell_type": "code",
   "execution_count": 10,
   "metadata": {},
   "outputs": [
    {
     "data": {
      "text/plain": [
       "'Number of proteins with signicantly changed abundance level and more than 1.5 logFC: 112'"
      ]
     },
     "execution_count": 10,
     "metadata": {},
     "output_type": "execute_result"
    }
   ],
   "source": [
    "n = more_than_fc[more_than_fc['significant']==True].shape[0]\n",
    "f\"Number of proteins with signicantly changed abundance level and more than 1.5 logFC: {n}\""
   ]
  },
  {
   "cell_type": "markdown",
   "metadata": {},
   "source": [
    "### PHB vs gltA"
   ]
  },
  {
   "cell_type": "code",
   "execution_count": 11,
   "metadata": {},
   "outputs": [
    {
     "name": "stderr",
     "output_type": "stream",
     "text": [
      "/miniconda3/envs/rbcenv/lib/python3.7/site-packages/pandas/core/series.py:726: RuntimeWarning: divide by zero encountered in log\n",
      "  result = getattr(ufunc, method)(*inputs, **kwargs)\n"
     ]
    },
    {
     "data": {
      "image/png": "[encoded data removed]",
      "text/plain": [
       "<Figure size 432x288 with 1 Axes>"
      ]
     },
     "metadata": {
      "needs_background": "light"
     },
     "output_type": "display_data"
    }
   ],
   "source": [
    "group1 = 'PHB'\n",
    "group2 = 'gltA'\n",
    "plotname = '../figures/proteomics_ttest_results/' + group1 + 'vs' + group2 + '.svg'\n",
    "df,more_than_fc = analyze_ttest(group1,group2,)\n",
    "do_volcano(df,group1,group2,plotname)\n",
    "ccm = df.loc[[l for l in list_of_ids if l in df.index.values]]\n",
    "np.sum(df.significant.values)\n",
    "dfname = '../figures/proteomics_ttest_results/' + group1 + 'vs' + group2 +'.xlsx'\n",
    "df.to_excel(dfname)"
   ]
  },
  {
   "cell_type": "code",
   "execution_count": 12,
   "metadata": {},
   "outputs": [],
   "source": [
    "phb_glta = df.copy()"
   ]
  },
  {
   "cell_type": "code",
   "execution_count": 13,
   "metadata": {},
   "outputs": [
    {
     "data": {
      "text/plain": [
       "'Number of proteins with signicantly changed abundance level and more than 1.5 logFC: 5'"
      ]
     },
     "execution_count": 13,
     "metadata": {},
     "output_type": "execute_result"
    }
   ],
   "source": [
    "n = more_than_fc[more_than_fc['significant']==True].shape[0]\n",
    "f\"Number of proteins with signicantly changed abundance level and more than 1.5 logFC: {n}\""
   ]
  },
  {
   "cell_type": "markdown",
   "metadata": {},
   "source": [
    "### PHB versus accA"
   ]
  },
  {
   "cell_type": "code",
   "execution_count": 14,
   "metadata": {},
   "outputs": [
    {
     "data": {
      "image/png": "[encoded data removed]",
      "text/plain": [
       "<Figure size 432x288 with 1 Axes>"
      ]
     },
     "metadata": {
      "needs_background": "light"
     },
     "output_type": "display_data"
    }
   ],
   "source": [
    "group1 = 'PHB'\n",
    "group2 = 'accA'\n",
    "plotname = '../figures/proteomics_ttest_results/' + group1 + 'vs' + group2 + '.svg'\n",
    "df,more_than_fc = analyze_ttest(group1,group2)\n",
    "do_volcano(df,group1,group2,plotname)\n",
    "ccm = df.loc[[l for l in list_of_ids if l in df.index.values]]\n",
    "np.sum(df.significant.values)\n",
    "dfname = '../figures/proteomics_ttest_results/' + group1 + 'vs' + group2 +'.xlsx'\n",
    "df.to_excel(dfname)"
   ]
  },
  {
   "cell_type": "code",
   "execution_count": 15,
   "metadata": {},
   "outputs": [],
   "source": [
    "phb_acca = df.copy()"
   ]
  },
  {
   "cell_type": "code",
   "execution_count": 16,
   "metadata": {},
   "outputs": [
    {
     "data": {
      "text/plain": [
       "'Number of proteins with signicantly changed abundance level and more than 1.5 logFC: 5'"
      ]
     },
     "execution_count": 16,
     "metadata": {},
     "output_type": "execute_result"
    }
   ],
   "source": [
    "n = more_than_fc[more_than_fc['significant']==True].shape[0]\n",
    "f\"Number of proteins with signicantly changed abundance level and more than 1.5 logFC: {n}\""
   ]
  },
  {
   "cell_type": "markdown",
   "metadata": {},
   "source": [
    "### PHB vs gltAaccA"
   ]
  },
  {
   "cell_type": "code",
   "execution_count": 17,
   "metadata": {},
   "outputs": [
    {
     "data": {
      "image/png": "[encoded data removed]",
      "text/plain": [
       "<Figure size 432x288 with 1 Axes>"
      ]
     },
     "metadata": {
      "needs_background": "light"
     },
     "output_type": "display_data"
    }
   ],
   "source": [
    "group1 = 'PHB'\n",
    "group2 = 'gltAaccA'\n",
    "plotname = '../figures/proteomics_ttest_results/' + group1 + 'vs' + group2 + '.svg'\n",
    "df,more_than_fc = analyze_ttest(group1,group2)\n",
    "do_volcano(df,group1,group2,plotname)\n",
    "ccm = df.loc[[l for l in list_of_ids if l in df.index.values]]\n",
    "np.sum(df.significant.values)\n",
    "dfname = '../figures/proteomics_ttest_results/' + group1 + 'vs' + group2 + '.xlsx'\n",
    "df.to_excel(dfname)"
   ]
  },
  {
   "cell_type": "code",
   "execution_count": 18,
   "metadata": {},
   "outputs": [],
   "source": [
    "phb_gltaacca = df.copy()"
   ]
  },
  {
   "cell_type": "code",
   "execution_count": 19,
   "metadata": {},
   "outputs": [
    {
     "data": {
      "text/plain": [
       "'Number of proteins with signicantly changed abundance level and more than 1.5 logFC: 50'"
      ]
     },
     "execution_count": 19,
     "metadata": {},
     "output_type": "execute_result"
    }
   ],
   "source": [
    "n = more_than_fc[more_than_fc['significant']==True].shape[0]\n",
    "f\"Number of proteins with signicantly changed abundance level and more than 1.5 logFC: {n}\""
   ]
  },
  {
   "cell_type": "markdown",
   "metadata": {},
   "source": [
    "#### Check what proteins have significantly changed in Central Carbon Metabolism"
   ]
  },
  {
   "cell_type": "code",
   "execution_count": 20,
   "metadata": {},
   "outputs": [],
   "source": [
    "phb_gltaacca['Strain'] = 'gltaacca'\n",
    "phb_acca['Strain'] = 'acca'\n",
    "phb_glta['Strain'] = 'glta'"
   ]
  },
  {
   "cell_type": "code",
   "execution_count": 21,
   "metadata": {},
   "outputs": [],
   "source": [
    "phb_vs_each = pd.concat([phb_acca,phb_glta,phb_gltaacca])"
   ]
  },
  {
   "cell_type": "code",
   "execution_count": 22,
   "metadata": {},
   "outputs": [],
   "source": [
    "phb_vs_each_signif = phb_vs_each[phb_vs_each['p-value corrected']<0.01]"
   ]
  },
  {
   "cell_type": "code",
   "execution_count": 24,
   "metadata": {},
   "outputs": [
    {
     "data": {
      "text/html": [
       "<div>\n",
       "<style scoped>\n",
       "    .dataframe tbody tr th:only-of-type {\n",
       "        vertical-align: middle;\n",
       "    }\n",
       "\n",
       "    .dataframe tbody tr th {\n",
       "        vertical-align: top;\n",
       "    }\n",
       "\n",
       "    .dataframe thead th {\n",
       "        text-align: right;\n",
       "    }\n",
       "</style>\n",
       "<table border=\"1\" class=\"dataframe\">\n",
       "  <thead>\n",
       "    <tr style=\"text-align: right;\">\n",
       "      <th></th>\n",
       "      <th>p-value corrected</th>\n",
       "      <th>p-value</th>\n",
       "      <th>logFC</th>\n",
       "      <th>significant</th>\n",
       "      <th>-log10 p-value</th>\n",
       "      <th>abundance</th>\n",
       "      <th>more than 1.5 FC</th>\n",
       "      <th>gene symbol</th>\n",
       "      <th>Strain</th>\n",
       "    </tr>\n",
       "    <tr>\n",
       "      <th>Ensembl Gene ID</th>\n",
       "      <th></th>\n",
       "      <th></th>\n",
       "      <th></th>\n",
       "      <th></th>\n",
       "      <th></th>\n",
       "      <th></th>\n",
       "      <th></th>\n",
       "      <th></th>\n",
       "      <th></th>\n",
       "    </tr>\n",
       "  </thead>\n",
       "  <tbody>\n",
       "    <tr>\n",
       "      <th>PP_3376</th>\n",
       "      <td>0.009767</td>\n",
       "      <td>3.269741e-04</td>\n",
       "      <td>1.336431</td>\n",
       "      <td>True</td>\n",
       "      <td>2.010221</td>\n",
       "      <td>increased</td>\n",
       "      <td>False</td>\n",
       "      <td>kguD; ptxD</td>\n",
       "      <td>acca</td>\n",
       "    </tr>\n",
       "    <tr>\n",
       "      <th>PP_3378</th>\n",
       "      <td>0.006101</td>\n",
       "      <td>7.125059e-06</td>\n",
       "      <td>1.082513</td>\n",
       "      <td>True</td>\n",
       "      <td>2.214569</td>\n",
       "      <td>increased</td>\n",
       "      <td>False</td>\n",
       "      <td>kguK</td>\n",
       "      <td>acca</td>\n",
       "    </tr>\n",
       "    <tr>\n",
       "      <th>PP_1024</th>\n",
       "      <td>0.007013</td>\n",
       "      <td>1.310323e-04</td>\n",
       "      <td>0.414900</td>\n",
       "      <td>True</td>\n",
       "      <td>2.154099</td>\n",
       "      <td>increased</td>\n",
       "      <td>False</td>\n",
       "      <td>eda</td>\n",
       "      <td>acca</td>\n",
       "    </tr>\n",
       "    <tr>\n",
       "      <th>PP_3384</th>\n",
       "      <td>0.003360</td>\n",
       "      <td>1.307768e-06</td>\n",
       "      <td>0.919651</td>\n",
       "      <td>True</td>\n",
       "      <td>2.473705</td>\n",
       "      <td>increased</td>\n",
       "      <td>False</td>\n",
       "      <td>PP_3384</td>\n",
       "      <td>acca</td>\n",
       "    </tr>\n",
       "    <tr>\n",
       "      <th>PP_3384</th>\n",
       "      <td>0.002685</td>\n",
       "      <td>5.226471e-06</td>\n",
       "      <td>0.944966</td>\n",
       "      <td>True</td>\n",
       "      <td>2.570997</td>\n",
       "      <td>increased</td>\n",
       "      <td>False</td>\n",
       "      <td>PP_3384</td>\n",
       "      <td>glta</td>\n",
       "    </tr>\n",
       "    <tr>\n",
       "      <th>PP_4187</th>\n",
       "      <td>0.009958</td>\n",
       "      <td>1.314022e-03</td>\n",
       "      <td>0.558145</td>\n",
       "      <td>True</td>\n",
       "      <td>2.001833</td>\n",
       "      <td>increased</td>\n",
       "      <td>False</td>\n",
       "      <td>lpdG</td>\n",
       "      <td>gltaacca</td>\n",
       "    </tr>\n",
       "    <tr>\n",
       "      <th>PP_4188</th>\n",
       "      <td>0.001802</td>\n",
       "      <td>3.437838e-05</td>\n",
       "      <td>0.564839</td>\n",
       "      <td>True</td>\n",
       "      <td>2.744147</td>\n",
       "      <td>increased</td>\n",
       "      <td>False</td>\n",
       "      <td>kgdB; sucB</td>\n",
       "      <td>gltaacca</td>\n",
       "    </tr>\n",
       "    <tr>\n",
       "      <th>PP_0897</th>\n",
       "      <td>0.006667</td>\n",
       "      <td>5.735423e-04</td>\n",
       "      <td>0.529762</td>\n",
       "      <td>True</td>\n",
       "      <td>2.176063</td>\n",
       "      <td>increased</td>\n",
       "      <td>False</td>\n",
       "      <td>PP_0897</td>\n",
       "      <td>gltaacca</td>\n",
       "    </tr>\n",
       "    <tr>\n",
       "      <th>PP_0356</th>\n",
       "      <td>0.000557</td>\n",
       "      <td>3.034147e-06</td>\n",
       "      <td>0.413441</td>\n",
       "      <td>True</td>\n",
       "      <td>3.254327</td>\n",
       "      <td>increased</td>\n",
       "      <td>False</td>\n",
       "      <td>glcB</td>\n",
       "      <td>gltaacca</td>\n",
       "    </tr>\n",
       "    <tr>\n",
       "      <th>PP_1607</th>\n",
       "      <td>0.000650</td>\n",
       "      <td>3.794529e-06</td>\n",
       "      <td>-1.832642</td>\n",
       "      <td>True</td>\n",
       "      <td>3.187169</td>\n",
       "      <td>decreased</td>\n",
       "      <td>True</td>\n",
       "      <td>accA</td>\n",
       "      <td>gltaacca</td>\n",
       "    </tr>\n",
       "    <tr>\n",
       "      <th>PP_4011</th>\n",
       "      <td>0.008192</td>\n",
       "      <td>9.375371e-04</td>\n",
       "      <td>0.186356</td>\n",
       "      <td>True</td>\n",
       "      <td>2.086595</td>\n",
       "      <td>increased</td>\n",
       "      <td>False</td>\n",
       "      <td>icd</td>\n",
       "      <td>gltaacca</td>\n",
       "    </tr>\n",
       "    <tr>\n",
       "      <th>PP_1612</th>\n",
       "      <td>0.006871</td>\n",
       "      <td>6.311757e-04</td>\n",
       "      <td>0.408667</td>\n",
       "      <td>True</td>\n",
       "      <td>2.162998</td>\n",
       "      <td>increased</td>\n",
       "      <td>False</td>\n",
       "      <td>eno</td>\n",
       "      <td>gltaacca</td>\n",
       "    </tr>\n",
       "    <tr>\n",
       "      <th>PP_5056</th>\n",
       "      <td>0.003408</td>\n",
       "      <td>1.299942e-04</td>\n",
       "      <td>0.581777</td>\n",
       "      <td>True</td>\n",
       "      <td>2.467538</td>\n",
       "      <td>increased</td>\n",
       "      <td>False</td>\n",
       "      <td>pgm; gpmI</td>\n",
       "      <td>gltaacca</td>\n",
       "    </tr>\n",
       "    <tr>\n",
       "      <th>PP_2168</th>\n",
       "      <td>0.000691</td>\n",
       "      <td>4.573665e-06</td>\n",
       "      <td>0.837161</td>\n",
       "      <td>True</td>\n",
       "      <td>3.160420</td>\n",
       "      <td>increased</td>\n",
       "      <td>False</td>\n",
       "      <td>tal</td>\n",
       "      <td>gltaacca</td>\n",
       "    </tr>\n",
       "    <tr>\n",
       "      <th>PP_4194</th>\n",
       "      <td>0.005540</td>\n",
       "      <td>3.428504e-04</td>\n",
       "      <td>-1.048131</td>\n",
       "      <td>True</td>\n",
       "      <td>2.256528</td>\n",
       "      <td>decreased</td>\n",
       "      <td>False</td>\n",
       "      <td>gltA</td>\n",
       "      <td>gltaacca</td>\n",
       "    </tr>\n",
       "    <tr>\n",
       "      <th>PP_3384</th>\n",
       "      <td>0.000113</td>\n",
       "      <td>2.195483e-07</td>\n",
       "      <td>1.280072</td>\n",
       "      <td>True</td>\n",
       "      <td>3.947676</td>\n",
       "      <td>increased</td>\n",
       "      <td>False</td>\n",
       "      <td>PP_3384</td>\n",
       "      <td>gltaacca</td>\n",
       "    </tr>\n",
       "    <tr>\n",
       "      <th>PP_3382</th>\n",
       "      <td>0.002602</td>\n",
       "      <td>6.380644e-05</td>\n",
       "      <td>2.120152</td>\n",
       "      <td>True</td>\n",
       "      <td>2.584712</td>\n",
       "      <td>increased</td>\n",
       "      <td>True</td>\n",
       "      <td>PP_3382</td>\n",
       "      <td>gltaacca</td>\n",
       "    </tr>\n",
       "  </tbody>\n",
       "</table>\n",
       "</div>"
      ],
      "text/plain": [
       "                 p-value corrected       p-value     logFC  significant  \\\n",
       "Ensembl Gene ID                                                           \n",
       "PP_3376                   0.009767  3.269741e-04  1.336431         True   \n",
       "PP_3378                   0.006101  7.125059e-06  1.082513         True   \n",
       "PP_1024                   0.007013  1.310323e-04  0.414900         True   \n",
       "PP_3384                   0.003360  1.307768e-06  0.919651         True   \n",
       "PP_3384                   0.002685  5.226471e-06  0.944966         True   \n",
       "PP_4187                   0.009958  1.314022e-03  0.558145         True   \n",
       "PP_4188                   0.001802  3.437838e-05  0.564839         True   \n",
       "PP_0897                   0.006667  5.735423e-04  0.529762         True   \n",
       "PP_0356                   0.000557  3.034147e-06  0.413441         True   \n",
       "PP_1607                   0.000650  3.794529e-06 -1.832642         True   \n",
       "PP_4011                   0.008192  9.375371e-04  0.186356         True   \n",
       "PP_1612                   0.006871  6.311757e-04  0.408667         True   \n",
       "PP_5056                   0.003408  1.299942e-04  0.581777         True   \n",
       "PP_2168                   0.000691  4.573665e-06  0.837161         True   \n",
       "PP_4194                   0.005540  3.428504e-04 -1.048131         True   \n",
       "PP_3384                   0.000113  2.195483e-07  1.280072         True   \n",
       "PP_3382                   0.002602  6.380644e-05  2.120152         True   \n",
       "\n",
       "                 -log10 p-value  abundance  more than 1.5 FC gene symbol  \\\n",
       "Ensembl Gene ID                                                            \n",
       "PP_3376                2.010221  increased             False  kguD; ptxD   \n",
       "PP_3378                2.214569  increased             False        kguK   \n",
       "PP_1024                2.154099  increased             False         eda   \n",
       "PP_3384                2.473705  increased             False     PP_3384   \n",
       "PP_3384                2.570997  increased             False     PP_3384   \n",
       "PP_4187                2.001833  increased             False        lpdG   \n",
       "PP_4188                2.744147  increased             False  kgdB; sucB   \n",
       "PP_0897                2.176063  increased             False     PP_0897   \n",
       "PP_0356                3.254327  increased             False        glcB   \n",
       "PP_1607                3.187169  decreased              True        accA   \n",
       "PP_4011                2.086595  increased             False         icd   \n",
       "PP_1612                2.162998  increased             False         eno   \n",
       "PP_5056                2.467538  increased             False   pgm; gpmI   \n",
       "PP_2168                3.160420  increased             False         tal   \n",
       "PP_4194                2.256528  decreased             False        gltA   \n",
       "PP_3384                3.947676  increased             False     PP_3384   \n",
       "PP_3382                2.584712  increased              True     PP_3382   \n",
       "\n",
       "                   Strain  \n",
       "Ensembl Gene ID            \n",
       "PP_3376              acca  \n",
       "PP_3378              acca  \n",
       "PP_1024              acca  \n",
       "PP_3384              acca  \n",
       "PP_3384              glta  \n",
       "PP_4187          gltaacca  \n",
       "PP_4188          gltaacca  \n",
       "PP_0897          gltaacca  \n",
       "PP_0356          gltaacca  \n",
       "PP_1607          gltaacca  \n",
       "PP_4011          gltaacca  \n",
       "PP_1612          gltaacca  \n",
       "PP_5056          gltaacca  \n",
       "PP_2168          gltaacca  \n",
       "PP_4194          gltaacca  \n",
       "PP_3384          gltaacca  \n",
       "PP_3382          gltaacca  "
      ]
     },
     "execution_count": 24,
     "metadata": {},
     "output_type": "execute_result"
    }
   ],
   "source": [
    "#Significantly changed only in Central Carbon Metabolism\n",
    "phb_vs_each_signif[phb_vs_each_signif.index.isin(ccm.index.values)]"
   ]
  },
  {
   "cell_type": "markdown",
   "metadata": {},
   "source": [
    "### PHB versus ftsZ"
   ]
  },
  {
   "cell_type": "code",
   "execution_count": 93,
   "metadata": {},
   "outputs": [
    {
     "name": "stderr",
     "output_type": "stream",
     "text": [
      "/miniconda3/envs/rbcenv/lib/python3.7/site-packages/pandas/core/series.py:726: RuntimeWarning: divide by zero encountered in log\n",
      "  result = getattr(ufunc, method)(*inputs, **kwargs)\n"
     ]
    },
    {
     "data": {
      "image/png": "[encoded data removed]",
      "text/plain": [
       "<Figure size 432x288 with 1 Axes>"
      ]
     },
     "metadata": {
      "needs_background": "light"
     },
     "output_type": "display_data"
    }
   ],
   "source": [
    "group1 = 'PHB'\n",
    "group2 = 'ftsZ'\n",
    "plotname = group1+'vs'+group2+'.svg'\n",
    "df,more_than_2p5_fc = analyze_ttest(group1,group2)\n",
    "do_volcano(df,group1,group2,plotname)\n",
    "ccm = df.loc[[l for l in list_of_ids if l in df.index.values]]\n",
    "np.sum(df.significant.values)\n",
    "dfname = '../figures/proteomics_ttest_results/' + group1 + 'vs' + group2 + '.xlsx'\n",
    "df.to_excel(dfname)\n"
   ]
  },
  {
   "cell_type": "code",
   "execution_count": 94,
   "metadata": {},
   "outputs": [
    {
     "data": {
      "text/plain": [
       "'Number of proteins with signicantly changed abundance level and more than 2.5 logFC: 35'"
      ]
     },
     "execution_count": 94,
     "metadata": {},
     "output_type": "execute_result"
    }
   ],
   "source": [
    "n = more_than_2p5_fc[more_than_2p5_fc['significant']==True].shape[0]\n",
    "f\"Number of proteins with signicantly changed abundance level and more than 2.5 logFC: {n}\""
   ]
  },
  {
   "cell_type": "code",
   "execution_count": 95,
   "metadata": {},
   "outputs": [],
   "source": [
    "# Subset of proteimics of only central carbon metabolism proteins\n",
    "ccm_proteomics = proteomics.loc[[l for l in ccm.index.values if l in proteomics.index.values]]"
   ]
  },
  {
   "cell_type": "code",
   "execution_count": 96,
   "metadata": {},
   "outputs": [
    {
     "data": {
      "text/plain": [
       "['PP_1016',\n",
       " 'PP_1017',\n",
       " 'PP_3417',\n",
       " 'PP_0652',\n",
       " 'PP_3377',\n",
       " 'PP_4301',\n",
       " 'PP_1445',\n",
       " '( PP_0339',\n",
       " 'PP_4187 )',\n",
       " '( PP_0339',\n",
       " 'PP_5366 )',\n",
       " 'PP_4379']"
      ]
     },
     "execution_count": 96,
     "metadata": {},
     "output_type": "execute_result"
    }
   ],
   "source": [
    "# list of gene ids not found in proteomics\n",
    "[l for l in list_of_ids if l not in proteomics.index.values]"
   ]
  },
  {
   "cell_type": "code",
   "execution_count": 97,
   "metadata": {},
   "outputs": [],
   "source": [
    "# take away WT and ftsZ1\n",
    "ids = [0,1,2,6,7,8,9,10,11,12,13,14]\n",
    "strain = ['PHB','PHB','PHB','gltA','gltA','gltA','accA','accA','accA','gltAaccA','gltAaccA','gltAaccA']\n",
    "strain_short = ['PHB','gltA','accA','gltAaccA']"
   ]
  },
  {
   "cell_type": "code",
   "execution_count": 98,
   "metadata": {},
   "outputs": [
    {
     "data": {
      "text/html": [
       "<div>\n",
       "<style scoped>\n",
       "    .dataframe tbody tr th:only-of-type {\n",
       "        vertical-align: middle;\n",
       "    }\n",
       "\n",
       "    .dataframe tbody tr th {\n",
       "        vertical-align: top;\n",
       "    }\n",
       "\n",
       "    .dataframe thead th {\n",
       "        text-align: right;\n",
       "    }\n",
       "</style>\n",
       "<table border=\"1\" class=\"dataframe\">\n",
       "  <thead>\n",
       "    <tr style=\"text-align: right;\">\n",
       "      <th>Ensembl Gene ID</th>\n",
       "      <th>PP_1015</th>\n",
       "      <th>PP_1018</th>\n",
       "      <th>PP_1011</th>\n",
       "      <th>PP_3416</th>\n",
       "      <th>PP_3378</th>\n",
       "      <th>PP_3376</th>\n",
       "      <th>PP_1444</th>\n",
       "      <th>PP_3382</th>\n",
       "      <th>PP_3383</th>\n",
       "      <th>PP_3384</th>\n",
       "      <th>...</th>\n",
       "      <th>PP_1915</th>\n",
       "      <th>PP_1913</th>\n",
       "      <th>PP_0356</th>\n",
       "      <th>PP_4116</th>\n",
       "      <th>PP_0339</th>\n",
       "      <th>PP_0338</th>\n",
       "      <th>PP_4187</th>\n",
       "      <th>PP_0339</th>\n",
       "      <th>PP_0338</th>\n",
       "      <th>PP_5366</th>\n",
       "    </tr>\n",
       "    <tr>\n",
       "      <th>Strain</th>\n",
       "      <th></th>\n",
       "      <th></th>\n",
       "      <th></th>\n",
       "      <th></th>\n",
       "      <th></th>\n",
       "      <th></th>\n",
       "      <th></th>\n",
       "      <th></th>\n",
       "      <th></th>\n",
       "      <th></th>\n",
       "      <th></th>\n",
       "      <th></th>\n",
       "      <th></th>\n",
       "      <th></th>\n",
       "      <th></th>\n",
       "      <th></th>\n",
       "      <th></th>\n",
       "      <th></th>\n",
       "      <th></th>\n",
       "      <th></th>\n",
       "      <th></th>\n",
       "    </tr>\n",
       "  </thead>\n",
       "  <tbody>\n",
       "    <tr>\n",
       "      <th>PHB</th>\n",
       "      <td>1.000000</td>\n",
       "      <td>1.000000</td>\n",
       "      <td>1.000000</td>\n",
       "      <td>1.000000</td>\n",
       "      <td>1.000000</td>\n",
       "      <td>1.000000</td>\n",
       "      <td>1.000000</td>\n",
       "      <td>1.000000</td>\n",
       "      <td>1.000000</td>\n",
       "      <td>1.000000</td>\n",
       "      <td>...</td>\n",
       "      <td>1.000000</td>\n",
       "      <td>1.000000</td>\n",
       "      <td>1.000000</td>\n",
       "      <td>1.000000</td>\n",
       "      <td>1.000000</td>\n",
       "      <td>1.000000</td>\n",
       "      <td>1.000000</td>\n",
       "      <td>1.000000</td>\n",
       "      <td>1.000000</td>\n",
       "      <td>1.000000</td>\n",
       "    </tr>\n",
       "    <tr>\n",
       "      <th>WT</th>\n",
       "      <td>0.700273</td>\n",
       "      <td>1.074124</td>\n",
       "      <td>0.674101</td>\n",
       "      <td>0.665053</td>\n",
       "      <td>1.654718</td>\n",
       "      <td>1.906735</td>\n",
       "      <td>1.020746</td>\n",
       "      <td>4.551519</td>\n",
       "      <td>1.771823</td>\n",
       "      <td>1.946819</td>\n",
       "      <td>...</td>\n",
       "      <td>1.185728</td>\n",
       "      <td>1.114162</td>\n",
       "      <td>1.349615</td>\n",
       "      <td>4.130824</td>\n",
       "      <td>1.643502</td>\n",
       "      <td>1.303332</td>\n",
       "      <td>1.862737</td>\n",
       "      <td>1.643502</td>\n",
       "      <td>1.303332</td>\n",
       "      <td>1.449793</td>\n",
       "    </tr>\n",
       "    <tr>\n",
       "      <th>accA</th>\n",
       "      <td>0.897489</td>\n",
       "      <td>1.338354</td>\n",
       "      <td>0.964011</td>\n",
       "      <td>1.129226</td>\n",
       "      <td>3.023827</td>\n",
       "      <td>3.912039</td>\n",
       "      <td>1.030873</td>\n",
       "      <td>3.918362</td>\n",
       "      <td>3.339386</td>\n",
       "      <td>2.451763</td>\n",
       "      <td>...</td>\n",
       "      <td>1.207781</td>\n",
       "      <td>0.793159</td>\n",
       "      <td>1.486832</td>\n",
       "      <td>1.759242</td>\n",
       "      <td>1.872842</td>\n",
       "      <td>1.148200</td>\n",
       "      <td>1.095918</td>\n",
       "      <td>1.872842</td>\n",
       "      <td>1.148200</td>\n",
       "      <td>1.495735</td>\n",
       "    </tr>\n",
       "    <tr>\n",
       "      <th>ftsZ</th>\n",
       "      <td>0.397944</td>\n",
       "      <td>1.072216</td>\n",
       "      <td>1.114448</td>\n",
       "      <td>1.175857</td>\n",
       "      <td>9.003474</td>\n",
       "      <td>7.158588</td>\n",
       "      <td>0.847506</td>\n",
       "      <td>13.168864</td>\n",
       "      <td>3.008095</td>\n",
       "      <td>3.141698</td>\n",
       "      <td>...</td>\n",
       "      <td>0.819148</td>\n",
       "      <td>0.786288</td>\n",
       "      <td>1.034853</td>\n",
       "      <td>0.974183</td>\n",
       "      <td>2.792800</td>\n",
       "      <td>1.693421</td>\n",
       "      <td>1.372584</td>\n",
       "      <td>2.792800</td>\n",
       "      <td>1.693421</td>\n",
       "      <td>1.166156</td>\n",
       "    </tr>\n",
       "    <tr>\n",
       "      <th>gltA</th>\n",
       "      <td>0.463515</td>\n",
       "      <td>0.848957</td>\n",
       "      <td>0.914902</td>\n",
       "      <td>0.784745</td>\n",
       "      <td>1.363499</td>\n",
       "      <td>4.031294</td>\n",
       "      <td>0.635674</td>\n",
       "      <td>7.357859</td>\n",
       "      <td>2.300262</td>\n",
       "      <td>2.558975</td>\n",
       "      <td>...</td>\n",
       "      <td>0.939761</td>\n",
       "      <td>0.615982</td>\n",
       "      <td>1.172877</td>\n",
       "      <td>2.136380</td>\n",
       "      <td>2.076695</td>\n",
       "      <td>1.414369</td>\n",
       "      <td>1.682217</td>\n",
       "      <td>2.076695</td>\n",
       "      <td>1.414369</td>\n",
       "      <td>1.538031</td>\n",
       "    </tr>\n",
       "    <tr>\n",
       "      <th>gltAaccA</th>\n",
       "      <td>0.485037</td>\n",
       "      <td>1.193438</td>\n",
       "      <td>0.906338</td>\n",
       "      <td>0.915021</td>\n",
       "      <td>4.561384</td>\n",
       "      <td>7.067411</td>\n",
       "      <td>1.155164</td>\n",
       "      <td>11.148108</td>\n",
       "      <td>3.652707</td>\n",
       "      <td>3.565478</td>\n",
       "      <td>...</td>\n",
       "      <td>1.153306</td>\n",
       "      <td>1.535435</td>\n",
       "      <td>1.523062</td>\n",
       "      <td>2.633105</td>\n",
       "      <td>2.192230</td>\n",
       "      <td>1.444523</td>\n",
       "      <td>1.729450</td>\n",
       "      <td>2.192230</td>\n",
       "      <td>1.444523</td>\n",
       "      <td>1.715430</td>\n",
       "    </tr>\n",
       "  </tbody>\n",
       "</table>\n",
       "<p>6 rows × 79 columns</p>\n",
       "</div>"
      ],
      "text/plain": [
       "Ensembl Gene ID   PP_1015   PP_1018   PP_1011   PP_3416   PP_3378   PP_3376  \\\n",
       "Strain                                                                        \n",
       "PHB              1.000000  1.000000  1.000000  1.000000  1.000000  1.000000   \n",
       "WT               0.700273  1.074124  0.674101  0.665053  1.654718  1.906735   \n",
       "accA             0.897489  1.338354  0.964011  1.129226  3.023827  3.912039   \n",
       "ftsZ             0.397944  1.072216  1.114448  1.175857  9.003474  7.158588   \n",
       "gltA             0.463515  0.848957  0.914902  0.784745  1.363499  4.031294   \n",
       "gltAaccA         0.485037  1.193438  0.906338  0.915021  4.561384  7.067411   \n",
       "\n",
       "Ensembl Gene ID   PP_1444    PP_3382   PP_3383   PP_3384  ...   PP_1915  \\\n",
       "Strain                                                    ...             \n",
       "PHB              1.000000   1.000000  1.000000  1.000000  ...  1.000000   \n",
       "WT               1.020746   4.551519  1.771823  1.946819  ...  1.185728   \n",
       "accA             1.030873   3.918362  3.339386  2.451763  ...  1.207781   \n",
       "ftsZ             0.847506  13.168864  3.008095  3.141698  ...  0.819148   \n",
       "gltA             0.635674   7.357859  2.300262  2.558975  ...  0.939761   \n",
       "gltAaccA         1.155164  11.148108  3.652707  3.565478  ...  1.153306   \n",
       "\n",
       "Ensembl Gene ID   PP_1913   PP_0356   PP_4116   PP_0339   PP_0338   PP_4187  \\\n",
       "Strain                                                                        \n",
       "PHB              1.000000  1.000000  1.000000  1.000000  1.000000  1.000000   \n",
       "WT               1.114162  1.349615  4.130824  1.643502  1.303332  1.862737   \n",
       "accA             0.793159  1.486832  1.759242  1.872842  1.148200  1.095918   \n",
       "ftsZ             0.786288  1.034853  0.974183  2.792800  1.693421  1.372584   \n",
       "gltA             0.615982  1.172877  2.136380  2.076695  1.414369  1.682217   \n",
       "gltAaccA         1.535435  1.523062  2.633105  2.192230  1.444523  1.729450   \n",
       "\n",
       "Ensembl Gene ID   PP_0339   PP_0338   PP_5366  \n",
       "Strain                                         \n",
       "PHB              1.000000  1.000000  1.000000  \n",
       "WT               1.643502  1.303332  1.449793  \n",
       "accA             1.872842  1.148200  1.495735  \n",
       "ftsZ             2.792800  1.693421  1.166156  \n",
       "gltA             2.076695  1.414369  1.538031  \n",
       "gltAaccA         2.192230  1.444523  1.715430  \n",
       "\n",
       "[6 rows x 79 columns]"
      ]
     },
     "execution_count": 98,
     "metadata": {},
     "output_type": "execute_result"
    }
   ],
   "source": [
    "# Get median value for each strain and each protein. Normalize to PHB\n",
    "t_df = ccm_proteomics.copy().transpose()\n",
    "t_df[\"Strain\"] = meta[\"Strain\"].values\n",
    "t_df.head()\n",
    "median_df = t_df.groupby([\"Strain\"]).median()\n",
    "median_df_norm = median_df/median_df.loc['PHB']\n",
    "median_df_norm"
   ]
  },
  {
   "cell_type": "code",
   "execution_count": 173,
   "metadata": {},
   "outputs": [],
   "source": [
    "import matplotlib.colors as mcolors\n",
    "# Create a norm for matplotlib in order to have same colormap for every plot\n",
    "mini = median_df_norm.drop(['PHB','WT','ftsZ']).min().min()\n",
    "maxi = median_df_norm.drop(['PHB','WT','ftsZ']).max().max()\n",
    "norm_ = mcolors.DivergingNorm(vmin= 0.1, vcenter = 1.0 , vmax = 2.5)"
   ]
  },
  {
   "cell_type": "code",
   "execution_count": null,
   "metadata": {},
   "outputs": [],
   "source": []
  },
  {
   "cell_type": "code",
   "execution_count": 175,
   "metadata": {},
   "outputs": [],
   "source": [
    "# Generate png plots\n",
    "for gene in median_df_norm.columns.values:\n",
    "    plot_name = '../figures/mini_heatmaps_proteomics/' + 'hm_'+gene+'.png'\n",
    "    fig, ax = plt.subplots()\n",
    "    data_ = median_df_norm[[gene]].iloc[:,[0]].drop(['PHB','WT','ftsZ']).transpose().values\n",
    "    ax.imshow(data_, cmap='coolwarm', norm = norm_)\n",
    "    plt.title(f\"{ccm.loc[gene]['gene symbol']}\")\n",
    "    plt.savefig(plot_name, transparent=True)\n",
    "    plt.close()"
   ]
  },
  {
   "cell_type": "code",
   "execution_count": 176,
   "metadata": {},
   "outputs": [],
   "source": [
    "# Generate svg plots\n",
    "for gene in median_df_norm.columns.values:\n",
    "    plot_name = '../figures/mini_heatmaps_proteomics/' + 'hm_'+gene+'.svg'\n",
    "    fig, ax = plt.subplots(figsize=(1.1,1.1))\n",
    "    data_ = median_df_norm[[gene]].iloc[:,[0]].drop(['PHB','WT','ftsZ']).transpose().values\n",
    "    ax.imshow(data_, cmap='coolwarm', norm = norm_)\n",
    "    ax.axis('off')\n",
    "    plt.savefig(plot_name, transparent=True)\n",
    "    plt.close()"
   ]
  },
  {
   "cell_type": "code",
   "execution_count": 104,
   "metadata": {},
   "outputs": [
    {
     "data": {
      "text/plain": [
       "array(['PP_1015; gtsA', 'PP_1018; gtsD', 'glk', 'gnuK', 'kguK',\n",
       "       'kguD; ptxD', 'gcd', 'PP_3382', 'PP_3383', 'PP_3384',\n",
       "       'zwf-1; zwfA', 'zwf-3; zwf', 'zwf-2; zwfB', 'pgl', 'gnd; gntZ',\n",
       "       'rpiA', 'rpe', 'tktA', 'tktA', 'tal', 'edd', 'eda', 'pgi; pgi-I',\n",
       "       'pgi; pgi-II', 'fbp', 'fda; fba', 'tpiA', 'gap-1; gapA',\n",
       "       'gap-2; gapB', 'pgk', 'pgm; gpmI', 'eno', 'pykA', 'PP_1874; gpx',\n",
       "       'PP_1686', 'PP_0777', 'gor', 'oprB-1; oprB-I', 'PP_3570; oprB-III',\n",
       "       'aceF', 'aceF', 'eda', 'ppc', 'maeB', 'mdh', 'fumC; fumC-I',\n",
       "       'fumC-2; fumC-II', 'PP_0897', 'sdhB', 'sdhA', 'sdhD', 'sdhC',\n",
       "       'sucC', 'sucD', 'sucA', 'kgdB; sucB', 'lpdG', 'PP_4012; idh',\n",
       "       'icd', 'acnA; acnA-I', 'acnB', 'acnB', 'acnA; acnA-I', 'gltA',\n",
       "       'accA', 'accB', 'accC-1; accC', 'accD', 'PP_4545', 'acpP', 'fabD',\n",
       "       'glcB', 'aceA', 'aceE', 'aceF', 'lpdG', 'aceE', 'aceF',\n",
       "       'lpd3; lpd'], dtype=object)"
      ]
     },
     "execution_count": 104,
     "metadata": {},
     "output_type": "execute_result"
    }
   ],
   "source": [
    "id_conv = pd.read_excel('../data/gs_to_geneid.xlsx')\n",
    "id_conv.index = id_conv['Ensembl Gene ID']\n",
    "median_df_norm.columns\n",
    "id_conv.loc[median_df_norm.columns]['Gene Symbol'].values"
   ]
  },
  {
   "cell_type": "code",
   "execution_count": null,
   "metadata": {},
   "outputs": [],
   "source": [
    "# All central carbon metabolism proteins heatmap\n",
    "ccm_mediam_norm = median_df_norm.copy()\n",
    "ccm_mediam_norm.columns = id_conv.loc[median_df_norm.columns]['Gene Symbol'].values\n",
    "sns.clustermap(data = ccm_mediam_norm.drop(['PHB','WT','ftsZ']).transpose(), center=1, cmap='coolwarm',vmin=0.1,vmax=2.5, norm = norm,col_cluster=False)\n",
    "plt.title(f\"\")\n",
    "plt.savefig('../figures/ccm_heatmap.svg')"
   ]
  },
  {
   "cell_type": "code",
   "execution_count": null,
   "metadata": {},
   "outputs": [],
   "source": [
    "# Generate legend for mini heatmaps\n",
    "import matplotlib as mpl\n",
    "import matplotlib.colors as mcolors\n",
    "\n",
    "fig, ax = plt.subplots(figsize=(1, 6))\n",
    "fig.subplots_adjust(bottom=0.5)\n",
    "\n",
    "#norm_ = plt.Normalize(mini, maxi)\n",
    "norm_ = mcolors.DivergingNorm(vmin= 0.1, vcenter = 1.0 , vmax = 2.5)\n",
    "\n",
    "fig.colorbar(mpl.cm.ScalarMappable(norm=norm_, cmap='coolwarm'),\n",
    "             cax=ax, orientation='vertical', label='Fold Change')\n",
    "\n",
    "plt.savefig('../figures/mini_heatmaps_proteomics/legend.svg')"
   ]
  },
  {
   "cell_type": "code",
   "execution_count": null,
   "metadata": {},
   "outputs": [],
   "source": []
  }
 ],
 "metadata": {
  "kernelspec": {
   "display_name": "Python (rbcenv)",
   "language": "python",
   "name": "rbc-env"
  },
  "language_info": {
   "codemirror_mode": {
    "name": "ipython",
    "version": 3
   },
   "file_extension": ".py",
   "mimetype": "text/x-python",
   "name": "python",
   "nbconvert_exporter": "python",
   "pygments_lexer": "ipython3",
   "version": "3.7.3"
  }
 },
 "nbformat": 4,
 "nbformat_minor": 4
}
