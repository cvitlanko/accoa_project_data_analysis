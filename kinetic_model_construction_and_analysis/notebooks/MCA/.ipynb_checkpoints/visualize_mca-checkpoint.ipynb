{
 "cells": [
  {
   "cell_type": "code",
   "execution_count": 1,
   "metadata": {},
   "outputs": [
    {
     "data": {
      "text/plain": [
       "DataTransformerRegistry.enable('default')"
      ]
     },
     "execution_count": 1,
     "metadata": {},
     "output_type": "execute_result"
    }
   ],
   "source": [
    "import pandas as pd\n",
    "import altair as alt\n",
    "import numpy as np\n",
    "import scipy.io\n",
    "alt.data_transformers.enable('default', max_rows=None)"
   ]
  },
  {
   "cell_type": "markdown",
   "metadata": {},
   "source": [
    "### Specify the path to the folder that contains the MCA results"
   ]
  },
  {
   "cell_type": "code",
   "execution_count": 2,
   "metadata": {},
   "outputs": [],
   "source": [
    "base_dir = './'"
   ]
  },
  {
   "cell_type": "markdown",
   "metadata": {},
   "source": [
    "### Specify the model ID used to generate the MCA file "
   ]
  },
  {
   "cell_type": "markdown",
   "metadata": {},
   "source": [
    "Typically the MCA output file is named as `MCA_modelID.mat`"
   ]
  },
  {
   "cell_type": "code",
   "execution_count": 3,
   "metadata": {},
   "outputs": [],
   "source": [
    "model_id = 'pputida_ccm'"
   ]
  },
  {
   "cell_type": "markdown",
   "metadata": {},
   "source": [
    "### Specify the number of models in the ensemble"
   ]
  },
  {
   "cell_type": "code",
   "execution_count": 4,
   "metadata": {},
   "outputs": [],
   "source": [
    "n_models = 10000"
   ]
  },
  {
   "cell_type": "markdown",
   "metadata": {},
   "source": [
    "### Load the data"
   ]
  },
  {
   "cell_type": "code",
   "execution_count": 5,
   "metadata": {},
   "outputs": [],
   "source": [
    "file_in_MCA = f'{base_dir}MCA_{model_id}.mat'\n",
    "file_in_mets = f'{base_dir}{model_id}_metsActive.dat'\n",
    "file_in_rxns = f'{base_dir}{model_id}_rxnsActive.dat'\n",
    "file_in_enzs = f'{base_dir}{model_id}_enzNames.dat'"
   ]
  },
  {
   "cell_type": "markdown",
   "metadata": {},
   "source": [
    "### Get reaction, enzyme, and metabolite names"
   ]
  },
  {
   "cell_type": "code",
   "execution_count": 6,
   "metadata": {},
   "outputs": [],
   "source": [
    "def get_name_list(file_in):\n",
    "    \n",
    "    name_list = []\n",
    "    with open(file_in, 'r') as f_in:\n",
    "        line = f_in.readline()\n",
    "        line = f_in.readline()\n",
    "        while line:          \n",
    "            name_list.append(line[2:].strip())\n",
    "            line = f_in.readline()\n",
    "\n",
    "    return name_list\n",
    "\n",
    "rxn_names = get_name_list(file_in_rxns)\n",
    "enz_names = get_name_list(file_in_enzs)\n",
    "met_names = get_name_list(file_in_mets)"
   ]
  },
  {
   "cell_type": "code",
   "execution_count": 7,
   "metadata": {},
   "outputs": [],
   "source": [
    "rxn_names = [i.replace('R_', '').replace('_', ' ') for i in rxn_names]\n",
    "enz_names = [i.replace('R_', '').replace('_', ' ') for i in enz_names]\n",
    "met_names = [i.replace('__', '-').replace('m_', '').replace('_c', '').replace('_', ' ') for i in met_names]"
   ]
  },
  {
   "cell_type": "markdown",
   "metadata": {},
   "source": [
    "### Get control coefficients median and interquartile range"
   ]
  },
  {
   "cell_type": "code",
   "execution_count": 8,
   "metadata": {},
   "outputs": [],
   "source": [
    "def get_df_median(mat, key_name, id_col, col_names, row_names, n_models):\n",
    "    \n",
    "    try:\n",
    "        df = pd.DataFrame(data=mat['mcaResults'][key_name].item())\n",
    "        df.columns = col_names\n",
    "    except ValueError:\n",
    "        df = pd.DataFrame(data=mat['mcaResults'][key_name].item()[0])\n",
    "        df.columns = col_names\n",
    "\n",
    "    df[id_col] = np.tile(row_names, n_models)\n",
    "    df_median = df.groupby(id_col).median()\n",
    "    \n",
    "    return df_median\n",
    "\n",
    "\n",
    "def get_df_iqr(mat, key_name, id_col, col_names, row_names, n_models):\n",
    "    \n",
    "    try:\n",
    "        df = pd.DataFrame(data=mat['mcaResults'][key_name].item())\n",
    "        df.columns = col_names\n",
    "    except ValueError:\n",
    "        df = pd.DataFrame(data=mat['mcaResults'][key_name].item()[0])\n",
    "        df.columns = col_names\n",
    "\n",
    "    df[id_col] = np.tile(row_names, n_models)\n",
    "   \n",
    "    df_q2 = df.groupby(id_col).quantile(0.25)\n",
    "    df_q4 = df.groupby(id_col).quantile(0.75)\n",
    "    \n",
    "    df_iqr = df_q4.subtract(df_q2)    \n",
    "\n",
    "    return df_iqr\n",
    "\n",
    "\n",
    "\n",
    "mat = scipy.io.loadmat(file_in_MCA, squeeze_me=True)\n",
    "\n",
    "key_name = 'vControl'\n",
    "id_col = 'rxns'\n",
    "col_names = rxn_names\n",
    "row_names = rxn_names\n",
    "Cv_df_median = get_df_median(mat, key_name, id_col, col_names, row_names, n_models)\n",
    "Cv_df_iqr = get_df_iqr(mat, key_name, id_col, col_names, row_names, n_models)\n",
    "\n",
    "key_name = 'xControl'\n",
    "id_col = 'mets'\n",
    "col_names = rxn_names\n",
    "row_names = met_names\n",
    "Cx_df_median = get_df_median(mat, key_name, id_col, col_names, row_names, n_models)\n",
    "Cx_df_iqr = get_df_iqr(mat, key_name, id_col, col_names, row_names, n_models)\n",
    "    \n"
   ]
  },
  {
   "cell_type": "markdown",
   "metadata": {},
   "source": [
    "### Define function to plot heatmaps with altair"
   ]
  },
  {
   "cell_type": "code",
   "execution_count": 15,
   "metadata": {},
   "outputs": [],
   "source": [
    "def get_heatmaps(C_df_in, id_col,width,height):\n",
    "    \n",
    "    C_df = C_df_in\n",
    "    \n",
    "    C_df[id_col] = C_df.index\n",
    "    C_df = C_df.melt(id_vars=[id_col], var_name='variable')\n",
    "    \n",
    "    Cx_in = alt.Chart(C_df).mark_rect().encode(\n",
    "        x='variable:N',\n",
    "        y=id_col,\n",
    "        color=alt.Color('value:Q', scale=alt.Scale(scheme='redblue', domain=[1.5,-1.5])),\n",
    "        tooltip='value:Q'\n",
    "    ).properties(\n",
    "        width=width,\n",
    "        height=height\n",
    "    )\n",
    "    \n",
    "\n",
    "    return Cx_in "
   ]
  },
  {
   "cell_type": "markdown",
   "metadata": {},
   "source": [
    "### Plot concentration control coefficients median"
   ]
  },
  {
   "cell_type": "code",
   "execution_count": 18,
   "metadata": {},
   "outputs": [
    {
     "data": {
      "application/vnd.vegalite.v3+json": {
       "$schema": "https://vega.github.io/schema/vega-lite/v3.3.0.json",
       "config": {
        "mark": {
         "tooltip": null
        },
        "view": {
         "height": 300,
         "width": 400
        }
       },
       "data": {
        "name": "data-2263ba1ef011774a66c8eeaeb5f42f18"
       },
       "datasets": {
        "data-2263ba1ef011774a66c8eeaeb5f42f18": [
         {
          "mets": "13dpg",
          "value": -0.00016039355467574307,
          "variable": "GLCabcpp"
         },
         {
          "mets": "2ddg6p",
          "value": 0.0008377575134577169,
          "variable": "GLCabcpp"
         },
         {
          "mets": "2dhglcn",
          "value": -0.0013521215033965544,
          "variable": "GLCabcpp"
         },
         {
          "mets": "2dhglcn p",
          "value": -0.002180938006223758,
          "variable": "GLCabcpp"
         },
         {
          "mets": "2pg",
          "value": 5.968332051999929e-05,
          "variable": "GLCabcpp"
         },
         {
          "mets": "3pg",
          "value": 0.00020696375877025944,
          "variable": "GLCabcpp"
         },
         {
          "mets": "6p2dhglcn",
          "value": -0.0016266213131081973,
          "variable": "GLCabcpp"
         },
         {
          "mets": "6pgc",
          "value": 5.069175757472582e-05,
          "variable": "GLCabcpp"
         },
         {
          "mets": "6pgl",
          "value": 0.0024551323703774874,
          "variable": "GLCabcpp"
         },
         {
          "mets": "accoa",
          "value": -0.00020168090171625506,
          "variable": "GLCabcpp"
         },
         {
          "mets": "acon C",
          "value": 0.0005332126601081997,
          "variable": "GLCabcpp"
         },
         {
          "mets": "adp",
          "value": 9.409154285547637e-05,
          "variable": "GLCabcpp"
         },
         {
          "mets": "akg",
          "value": 0.00017876192399158284,
          "variable": "GLCabcpp"
         },
         {
          "mets": "atp",
          "value": -0.000637366184123974,
          "variable": "GLCabcpp"
         },
         {
          "mets": "cit",
          "value": 4.6586868352423676e-05,
          "variable": "GLCabcpp"
         },
         {
          "mets": "coa",
          "value": -0.00027031135172364974,
          "variable": "GLCabcpp"
         },
         {
          "mets": "dhap",
          "value": 0.0011490168698619551,
          "variable": "GLCabcpp"
         },
         {
          "mets": "e4p",
          "value": -2.7074828133233055e-05,
          "variable": "GLCabcpp"
         },
         {
          "mets": "f6p",
          "value": 0.002636331112904652,
          "variable": "GLCabcpp"
         },
         {
          "mets": "fdp",
          "value": 0.0023223142763484743,
          "variable": "GLCabcpp"
         },
         {
          "mets": "fuc",
          "value": 1.27654944479741e-06,
          "variable": "GLCabcpp"
         },
         {
          "mets": "g3p",
          "value": 0.0008774084272462207,
          "variable": "GLCabcpp"
         },
         {
          "mets": "g6p",
          "value": 0.010397906744677974,
          "variable": "GLCabcpp"
         },
         {
          "mets": "glc-D",
          "value": 0.0118930461862514,
          "variable": "GLCabcpp"
         },
         {
          "mets": "glc-D p",
          "value": -9.139512439442547e-07,
          "variable": "GLCabcpp"
         },
         {
          "mets": "glcn",
          "value": -0.0001677746986838664,
          "variable": "GLCabcpp"
         },
         {
          "mets": "glcn p",
          "value": -0.0007846510320921109,
          "variable": "GLCabcpp"
         },
         {
          "mets": "icit",
          "value": 0.0021384862475733067,
          "variable": "GLCabcpp"
         },
         {
          "mets": "mal-L",
          "value": 0.0005792244418980211,
          "variable": "GLCabcpp"
         },
         {
          "mets": "malcoa",
          "value": -0.0006597741585253875,
          "variable": "GLCabcpp"
         },
         {
          "mets": "nad",
          "value": -0.0007186108713907653,
          "variable": "GLCabcpp"
         },
         {
          "mets": "nadh",
          "value": 0.0004916017686053319,
          "variable": "GLCabcpp"
         },
         {
          "mets": "nadp",
          "value": -0.002260847448365767,
          "variable": "GLCabcpp"
         },
         {
          "mets": "nadph",
          "value": -0.0002114819038393846,
          "variable": "GLCabcpp"
         },
         {
          "mets": "oaa",
          "value": 0.00035856323620940864,
          "variable": "GLCabcpp"
         },
         {
          "mets": "pep",
          "value": -0.0004019381344836266,
          "variable": "GLCabcpp"
         },
         {
          "mets": "pyr",
          "value": 0.0003665409726255442,
          "variable": "GLCabcpp"
         },
         {
          "mets": "q8",
          "value": -0.0029564426449419567,
          "variable": "GLCabcpp"
         },
         {
          "mets": "q8h2",
          "value": -0.0008898137548434622,
          "variable": "GLCabcpp"
         },
         {
          "mets": "r5p",
          "value": -1.592360619027354e-05,
          "variable": "GLCabcpp"
         },
         {
          "mets": "ru5p-D",
          "value": -4.267560841835489e-05,
          "variable": "GLCabcpp"
         },
         {
          "mets": "s7p",
          "value": 0.0001816882425053512,
          "variable": "GLCabcpp"
         },
         {
          "mets": "succ",
          "value": 0.001579797319705611,
          "variable": "GLCabcpp"
         },
         {
          "mets": "succoa",
          "value": -0.00040381925022687083,
          "variable": "GLCabcpp"
         },
         {
          "mets": "xu5p-D",
          "value": 0.0003139735489758196,
          "variable": "GLCabcpp"
         },
         {
          "mets": "13dpg",
          "value": -6.858662874445175e-05,
          "variable": "GLK"
         },
         {
          "mets": "2ddg6p",
          "value": 0.0009451463033106881,
          "variable": "GLK"
         },
         {
          "mets": "2dhglcn",
          "value": -0.0011985660709546275,
          "variable": "GLK"
         },
         {
          "mets": "2dhglcn p",
          "value": -0.001971446310003481,
          "variable": "GLK"
         },
         {
          "mets": "2pg",
          "value": 0.00010449623030665909,
          "variable": "GLK"
         },
         {
          "mets": "3pg",
          "value": 0.0002575896654989626,
          "variable": "GLK"
         },
         {
          "mets": "6p2dhglcn",
          "value": -0.0013825294658827254,
          "variable": "GLK"
         },
         {
          "mets": "6pgc",
          "value": 7.473264724922225e-05,
          "variable": "GLK"
         },
         {
          "mets": "6pgl",
          "value": 0.0024777399639630358,
          "variable": "GLK"
         },
         {
          "mets": "accoa",
          "value": -0.00014602538392567496,
          "variable": "GLK"
         },
         {
          "mets": "acon C",
          "value": 0.0006491763914115516,
          "variable": "GLK"
         },
         {
          "mets": "adp",
          "value": 7.646858353262635e-05,
          "variable": "GLK"
         },
         {
          "mets": "akg",
          "value": 0.00014623567402646912,
          "variable": "GLK"
         },
         {
          "mets": "atp",
          "value": -0.0005756979559056049,
          "variable": "GLK"
         },
         {
          "mets": "cit",
          "value": 0.00010457206635748543,
          "variable": "GLK"
         },
         {
          "mets": "coa",
          "value": -0.00021615116613678915,
          "variable": "GLK"
         },
         {
          "mets": "dhap",
          "value": 0.0012471823816878366,
          "variable": "GLK"
         },
         {
          "mets": "e4p",
          "value": -1.794625681882701e-05,
          "variable": "GLK"
         },
         {
          "mets": "f6p",
          "value": 0.002883510755246388,
          "variable": "GLK"
         },
         {
          "mets": "fdp",
          "value": 0.002534703038037914,
          "variable": "GLK"
         },
         {
          "mets": "fuc",
          "value": 3.764360304112651e-05,
          "variable": "GLK"
         },
         {
          "mets": "g3p",
          "value": 0.0009512841278836409,
          "variable": "GLK"
         },
         {
          "mets": "g6p",
          "value": 0.010782939395470483,
          "variable": "GLK"
         },
         {
          "mets": "glc-D",
          "value": -0.0010308390108035152,
          "variable": "GLK"
         },
         {
          "mets": "glc-D p",
          "value": -1.1521769836641302e-06,
          "variable": "GLK"
         },
         {
          "mets": "glcn",
          "value": -0.00014677690557404836,
          "variable": "GLK"
         },
         {
          "mets": "glcn p",
          "value": -0.0007068582153537005,
          "variable": "GLK"
         },
         {
          "mets": "icit",
          "value": 0.0024077991985477446,
          "variable": "GLK"
         },
         {
          "mets": "mal-L",
          "value": 0.0006990508660352297,
          "variable": "GLK"
         },
         {
          "mets": "malcoa",
          "value": -0.0005368338405661772,
          "variable": "GLK"
         },
         {
          "mets": "nad",
          "value": -0.0006783739558713622,
          "variable": "GLK"
         },
         {
          "mets": "nadh",
          "value": 0.0005075602547811489,
          "variable": "GLK"
         },
         {
          "mets": "nadp",
          "value": -0.002505550062871202,
          "variable": "GLK"
         },
         {
          "mets": "nadph",
          "value": -0.0002477607257360115,
          "variable": "GLK"
         },
         {
          "mets": "oaa",
          "value": 0.00035374532251548186,
          "variable": "GLK"
         },
         {
          "mets": "pep",
          "value": -0.0003212348111847897,
          "variable": "GLK"
         },
         {
          "mets": "pyr",
          "value": 0.00035870828477045554,
          "variable": "GLK"
         },
         {
          "mets": "q8",
          "value": -0.002715862038133833,
          "variable": "GLK"
         },
         {
          "mets": "q8h2",
          "value": -0.0008099583322060963,
          "variable": "GLK"
         },
         {
          "mets": "r5p",
          "value": -1.3221440502695178e-06,
          "variable": "GLK"
         },
         {
          "mets": "ru5p-D",
          "value": -1.1933729802050307e-05,
          "variable": "GLK"
         },
         {
          "mets": "s7p",
          "value": 0.00022939843549192764,
          "variable": "GLK"
         },
         {
          "mets": "succ",
          "value": 0.0015287727414919293,
          "variable": "GLK"
         },
         {
          "mets": "succoa",
          "value": -0.0003165975206979851,
          "variable": "GLK"
         },
         {
          "mets": "xu5p-D",
          "value": 0.00037414047806659826,
          "variable": "GLK"
         },
         {
          "mets": "13dpg",
          "value": 0.20416561831749247,
          "variable": "GLCNt2rpp"
         },
         {
          "mets": "2ddg6p",
          "value": 0.18328775732863284,
          "variable": "GLCNt2rpp"
         },
         {
          "mets": "2dhglcn",
          "value": -0.8017180453465853,
          "variable": "GLCNt2rpp"
         },
         {
          "mets": "2dhglcn p",
          "value": -0.7612113199833331,
          "variable": "GLCNt2rpp"
         },
         {
          "mets": "2pg",
          "value": 0.08071098735641194,
          "variable": "GLCNt2rpp"
         },
         {
          "mets": "3pg",
          "value": 0.05953109325377853,
          "variable": "GLCNt2rpp"
         },
         {
          "mets": "6p2dhglcn",
          "value": -0.39868299093534254,
          "variable": "GLCNt2rpp"
         },
         {
          "mets": "6pgc",
          "value": 0.06202948851499421,
          "variable": "GLCNt2rpp"
         },
         {
          "mets": "6pgl",
          "value": -0.04230227513015556,
          "variable": "GLCNt2rpp"
         },
         {
          "mets": "accoa",
          "value": 0.00483053488501013,
          "variable": "GLCNt2rpp"
         },
         {
          "mets": "acon C",
          "value": 0.12982844082262224,
          "variable": "GLCNt2rpp"
         },
         {
          "mets": "adp",
          "value": -0.10987808951787942,
          "variable": "GLCNt2rpp"
         },
         {
          "mets": "akg",
          "value": 0.0030857224872002653,
          "variable": "GLCNt2rpp"
         },
         {
          "mets": "atp",
          "value": -0.0050652367154359005,
          "variable": "GLCNt2rpp"
         },
         {
          "mets": "cit",
          "value": 0.06200056124524354,
          "variable": "GLCNt2rpp"
         },
         {
          "mets": "coa",
          "value": -0.016075398746973522,
          "variable": "GLCNt2rpp"
         },
         {
          "mets": "dhap",
          "value": 0.10986950778388165,
          "variable": "GLCNt2rpp"
         },
         {
          "mets": "e4p",
          "value": 0.021116154974780713,
          "variable": "GLCNt2rpp"
         },
         {
          "mets": "f6p",
          "value": 0.2235939401685711,
          "variable": "GLCNt2rpp"
         },
         {
          "mets": "fdp",
          "value": 0.22557998293000736,
          "variable": "GLCNt2rpp"
         },
         {
          "mets": "fuc",
          "value": 0.06064931712250779,
          "variable": "GLCNt2rpp"
         },
         {
          "mets": "g3p",
          "value": 0.11466079555069629,
          "variable": "GLCNt2rpp"
         },
         {
          "mets": "g6p",
          "value": 0.2639062833186767,
          "variable": "GLCNt2rpp"
         },
         {
          "mets": "glc-D",
          "value": 0.13122468594258724,
          "variable": "GLCNt2rpp"
         },
         {
          "mets": "glc-D p",
          "value": -0.0003926897139012066,
          "variable": "GLCNt2rpp"
         },
         {
          "mets": "glcn",
          "value": 0.5270231003952275,
          "variable": "GLCNt2rpp"
         },
         {
          "mets": "glcn p",
          "value": -1.9092322478447188,
          "variable": "GLCNt2rpp"
         },
         {
          "mets": "icit",
          "value": 0.30209982099415644,
          "variable": "GLCNt2rpp"
         },
         {
          "mets": "mal-L",
          "value": 0.12090500065585444,
          "variable": "GLCNt2rpp"
         },
         {
          "mets": "malcoa",
          "value": 0.022848678702232908,
          "variable": "GLCNt2rpp"
         },
         {
          "mets": "nad",
          "value": 0.014213132330955206,
          "variable": "GLCNt2rpp"
         },
         {
          "mets": "nadh",
          "value": 0.01982036613650426,
          "variable": "GLCNt2rpp"
         },
         {
          "mets": "nadp",
          "value": -0.2089422965478932,
          "variable": "GLCNt2rpp"
         },
         {
          "mets": "nadph",
          "value": -0.05748064600634256,
          "variable": "GLCNt2rpp"
         },
         {
          "mets": "oaa",
          "value": 0.03391219028380891,
          "variable": "GLCNt2rpp"
         },
         {
          "mets": "pep",
          "value": 0.1663243882369962,
          "variable": "GLCNt2rpp"
         },
         {
          "mets": "pyr",
          "value": 0.03176295445231592,
          "variable": "GLCNt2rpp"
         },
         {
          "mets": "q8",
          "value": 0.4195779388523513,
          "variable": "GLCNt2rpp"
         },
         {
          "mets": "q8h2",
          "value": 0.20554756264656504,
          "variable": "GLCNt2rpp"
         },
         {
          "mets": "r5p",
          "value": 0.05511617397459424,
          "variable": "GLCNt2rpp"
         },
         {
          "mets": "ru5p-D",
          "value": 0.08572164347235957,
          "variable": "GLCNt2rpp"
         },
         {
          "mets": "s7p",
          "value": 0.0759686079282055,
          "variable": "GLCNt2rpp"
         },
         {
          "mets": "succ",
          "value": -0.17488309879550448,
          "variable": "GLCNt2rpp"
         },
         {
          "mets": "succoa",
          "value": -0.009501036897945583,
          "variable": "GLCNt2rpp"
         },
         {
          "mets": "xu5p-D",
          "value": 0.1047363116991089,
          "variable": "GLCNt2rpp"
         },
         {
          "mets": "13dpg",
          "value": 0.08293476684105389,
          "variable": "GNK"
         },
         {
          "mets": "2ddg6p",
          "value": 0.07400505793426583,
          "variable": "GNK"
         },
         {
          "mets": "2dhglcn",
          "value": 0.04257551032658643,
          "variable": "GNK"
         },
         {
          "mets": "2dhglcn p",
          "value": -0.023576337426137246,
          "variable": "GNK"
         },
         {
          "mets": "2pg",
          "value": -0.00034866789322136296,
          "variable": "GNK"
         },
         {
          "mets": "3pg",
          "value": -0.010284210880714767,
          "variable": "GNK"
         },
         {
          "mets": "6p2dhglcn",
          "value": -0.0049191533022675555,
          "variable": "GNK"
         },
         {
          "mets": "6pgc",
          "value": 0.010003885222407152,
          "variable": "GNK"
         },
         {
          "mets": "6pgl",
          "value": -0.048905819245921404,
          "variable": "GNK"
         },
         {
          "mets": "accoa",
          "value": -0.01829143684847659,
          "variable": "GNK"
         },
         {
          "mets": "acon C",
          "value": -0.001491853497972399,
          "variable": "GNK"
         },
         {
          "mets": "adp",
          "value": -0.4553920298792711,
          "variable": "GNK"
         },
         {
          "mets": "akg",
          "value": 0.02626711926625159,
          "variable": "GNK"
         },
         {
          "mets": "atp",
          "value": -0.4133270404257868,
          "variable": "GNK"
         },
         {
          "mets": "cit",
          "value": -0.012093994481998865,
          "variable": "GNK"
         },
         {
          "mets": "coa",
          "value": -0.024609932647901303,
          "variable": "GNK"
         },
         {
          "mets": "dhap",
          "value": 0.06823167163095895,
          "variable": "GNK"
         },
         {
          "mets": "e4p",
          "value": 0.0035333151429432657,
          "variable": "GNK"
         },
         {
          "mets": "f6p",
          "value": 0.1330824724912921,
          "variable": "GNK"
         },
         {
          "mets": "fdp",
          "value": 0.1401251486419237,
          "variable": "GNK"
         },
         {
          "mets": "fuc",
          "value": -0.017155094427513472,
          "variable": "GNK"
         },
         {
          "mets": "g3p",
          "value": 0.07792756661530068,
          "variable": "GNK"
         },
         {
          "mets": "g6p",
          "value": 0.05971437379361258,
          "variable": "GNK"
         },
         {
          "mets": "glc-D",
          "value": 0.02945200968237212,
          "variable": "GNK"
         },
         {
          "mets": "glc-D p",
          "value": -8.625275276733774e-06,
          "variable": "GNK"
         },
         {
          "mets": "glcn",
          "value": -2.6518046318564465,
          "variable": "GNK"
         },
         {
          "mets": "glcn p",
          "value": -0.07842601768059848,
          "variable": "GNK"
         },
         {
          "mets": "icit",
          "value": 0.02630438341661235,
          "variable": "GNK"
         },
         {
          "mets": "mal-L",
          "value": 0.005839881757891104,
          "variable": "GNK"
         },
         {
          "mets": "malcoa",
          "value": -0.06677214751628452,
          "variable": "GNK"
         },
         {
          "mets": "nad",
          "value": -0.057743009495415984,
          "variable": "GNK"
         },
         {
          "mets": "nadh",
          "value": 0.09519617211197696,
          "variable": "GNK"
         },
         {
          "mets": "nadp",
          "value": -0.04992574398475399,
          "variable": "GNK"
         },
         {
          "mets": "nadph",
          "value": -0.01107642620747665,
          "variable": "GNK"
         },
         {
          "mets": "oaa",
          "value": 0.013045492686381062,
          "variable": "GNK"
         },
         {
          "mets": "pep",
          "value": 0.04381543152640852,
          "variable": "GNK"
         },
         {
          "mets": "pyr",
          "value": 0.012594722314624447,
          "variable": "GNK"
         },
         {
          "mets": "q8",
          "value": 0.09156404038902792,
          "variable": "GNK"
         },
         {
          "mets": "q8h2",
          "value": 0.36470608966371376,
          "variable": "GNK"
         },
         {
          "mets": "r5p",
          "value": 0.009265627746176168,
          "variable": "GNK"
         },
         {
          "mets": "ru5p-D",
          "value": 0.01433000521663914,
          "variable": "GNK"
         },
         {
          "mets": "s7p",
          "value": 0.011416232537253036,
          "variable": "GNK"
         },
         {
          "mets": "succ",
          "value": -0.004073647194015222,
          "variable": "GNK"
         },
         {
          "mets": "succoa",
          "value": 0.04728041831208952,
          "variable": "GNK"
         },
         {
          "mets": "xu5p-D",
          "value": 0.03484891209922669,
          "variable": "GNK"
         },
         {
          "mets": "13dpg",
          "value": 0.0168205699426611,
          "variable": "2DHGLCNkt tpp"
         },
         {
          "mets": "2ddg6p",
          "value": 0.04662970570635914,
          "variable": "2DHGLCNkt tpp"
         },
         {
          "mets": "2dhglcn",
          "value": 0.28775229589859574,
          "variable": "2DHGLCNkt tpp"
         },
         {
          "mets": "2dhglcn p",
          "value": -1.6357318671581271,
          "variable": "2DHGLCNkt tpp"
         },
         {
          "mets": "2pg",
          "value": 0.009672287972063185,
          "variable": "2DHGLCNkt tpp"
         },
         {
          "mets": "3pg",
          "value": 0.004975827482215895,
          "variable": "2DHGLCNkt tpp"
         },
         {
          "mets": "6p2dhglcn",
          "value": 0.18824678883504214,
          "variable": "2DHGLCNkt tpp"
         },
         {
          "mets": "6pgc",
          "value": 0.00763716800983596,
          "variable": "2DHGLCNkt tpp"
         },
         {
          "mets": "6pgl",
          "value": 0.0015376656854278073,
          "variable": "2DHGLCNkt tpp"
         },
         {
          "mets": "accoa",
          "value": -0.005128075112767373,
          "variable": "2DHGLCNkt tpp"
         },
         {
          "mets": "acon C",
          "value": 0.0042613910440666035,
          "variable": "2DHGLCNkt tpp"
         },
         {
          "mets": "adp",
          "value": 0.0003174774670363372,
          "variable": "2DHGLCNkt tpp"
         },
         {
          "mets": "akg",
          "value": 0.004114533482116747,
          "variable": "2DHGLCNkt tpp"
         },
         {
          "mets": "atp",
          "value": 0.021533774875244174,
          "variable": "2DHGLCNkt tpp"
         },
         {
          "mets": "cit",
          "value": 0.0013911671827237858,
          "variable": "2DHGLCNkt tpp"
         },
         {
          "mets": "coa",
          "value": 0.014345119245639484,
          "variable": "2DHGLCNkt tpp"
         },
         {
          "mets": "dhap",
          "value": 0.03332937085960422,
          "variable": "2DHGLCNkt tpp"
         },
         {
          "mets": "e4p",
          "value": 0.0024378029449512216,
          "variable": "2DHGLCNkt tpp"
         },
         {
          "mets": "f6p",
          "value": 0.06493236341067815,
          "variable": "2DHGLCNkt tpp"
         },
         {
          "mets": "fdp",
          "value": 0.06813033899628326,
          "variable": "2DHGLCNkt tpp"
         },
         {
          "mets": "fuc",
          "value": 0.009642864514883704,
          "variable": "2DHGLCNkt tpp"
         },
         {
          "mets": "g3p",
          "value": 0.037149231787918346,
          "variable": "2DHGLCNkt tpp"
         },
         {
          "mets": "g6p",
          "value": 0.04465061111750367,
          "variable": "2DHGLCNkt tpp"
         },
         {
          "mets": "glc-D",
          "value": 0.02222490517541499,
          "variable": "2DHGLCNkt tpp"
         },
         {
          "mets": "glc-D p",
          "value": -5.5719024560671354e-05,
          "variable": "2DHGLCNkt tpp"
         },
         {
          "mets": "glcn",
          "value": 0.004751156293830542,
          "variable": "2DHGLCNkt tpp"
         },
         {
          "mets": "glcn p",
          "value": 0.014379570693828355,
          "variable": "2DHGLCNkt tpp"
         },
         {
          "mets": "icit",
          "value": 0.013088300384571186,
          "variable": "2DHGLCNkt tpp"
         },
         {
          "mets": "mal-L",
          "value": 0.02045712084479326,
          "variable": "2DHGLCNkt tpp"
         },
         {
          "mets": "malcoa",
          "value": 0.010494263523621136,
          "variable": "2DHGLCNkt tpp"
         },
         {
          "mets": "nad",
          "value": -0.031208220446293046,
          "variable": "2DHGLCNkt tpp"
         },
         {
          "mets": "nadh",
          "value": -0.016827108962944027,
          "variable": "2DHGLCNkt tpp"
         },
         {
          "mets": "nadp",
          "value": -0.024143674578514553,
          "variable": "2DHGLCNkt tpp"
         },
         {
          "mets": "nadph",
          "value": -0.002785932784291006,
          "variable": "2DHGLCNkt tpp"
         },
         {
          "mets": "oaa",
          "value": 0.0062991987115553,
          "variable": "2DHGLCNkt tpp"
         },
         {
          "mets": "pep",
          "value": 0.029592558739695476,
          "variable": "2DHGLCNkt tpp"
         },
         {
          "mets": "pyr",
          "value": 0.006050482890231126,
          "variable": "2DHGLCNkt tpp"
         },
         {
          "mets": "q8",
          "value": 0.08489631390801508,
          "variable": "2DHGLCNkt tpp"
         },
         {
          "mets": "q8h2",
          "value": 0.02073577511891137,
          "variable": "2DHGLCNkt tpp"
         },
         {
          "mets": "r5p",
          "value": 0.006529900023423888,
          "variable": "2DHGLCNkt tpp"
         },
         {
          "mets": "ru5p-D",
          "value": 0.010038405697339024,
          "variable": "2DHGLCNkt tpp"
         },
         {
          "mets": "s7p",
          "value": 0.00799443280381623,
          "variable": "2DHGLCNkt tpp"
         },
         {
          "mets": "succ",
          "value": -0.05751336534774492,
          "variable": "2DHGLCNkt tpp"
         },
         {
          "mets": "succoa",
          "value": -0.01198685587643845,
          "variable": "2DHGLCNkt tpp"
         },
         {
          "mets": "xu5p-D",
          "value": 0.020315689103698582,
          "variable": "2DHGLCNkt tpp"
         },
         {
          "mets": "13dpg",
          "value": 0.06306098247528345,
          "variable": "2DHGLCK"
         },
         {
          "mets": "2ddg6p",
          "value": 0.04931963387181036,
          "variable": "2DHGLCK"
         },
         {
          "mets": "2dhglcn",
          "value": -1.6325720093239275,
          "variable": "2DHGLCK"
         },
         {
          "mets": "2dhglcn p",
          "value": -0.13377400307352122,
          "variable": "2DHGLCK"
         },
         {
          "mets": "2pg",
          "value": 0.01003073802636708,
          "variable": "2DHGLCK"
         },
         {
          "mets": "3pg",
          "value": 0.003275947826264718,
          "variable": "2DHGLCK"
         },
         {
          "mets": "6p2dhglcn",
          "value": 0.3068895495841996,
          "variable": "2DHGLCK"
         },
         {
          "mets": "6pgc",
          "value": 0.013119410069872339,
          "variable": "2DHGLCK"
         },
         {
          "mets": "6pgl",
          "value": -0.014909930717245154,
          "variable": "2DHGLCK"
         },
         {
          "mets": "accoa",
          "value": -0.004473288305306001,
          "variable": "2DHGLCK"
         },
         {
          "mets": "acon C",
          "value": 0.014182432752901286,
          "variable": "2DHGLCK"
         },
         {
          "mets": "adp",
          "value": -0.12808003888274852,
          "variable": "2DHGLCK"
         },
         {
          "mets": "akg",
          "value": 0.003754672251761907,
          "variable": "2DHGLCK"
         },
         {
          "mets": "atp",
          "value": -0.07612434266515684,
          "variable": "2DHGLCK"
         },
         {
          "mets": "cit",
          "value": 0.0018753448895298648,
          "variable": "2DHGLCK"
         },
         {
          "mets": "coa",
          "value": -0.01130106757765134,
          "variable": "2DHGLCK"
         },
         {
          "mets": "dhap",
          "value": 0.04126913286937572,
          "variable": "2DHGLCK"
         },
         {
          "mets": "e4p",
          "value": 0.005512522317588646,
          "variable": "2DHGLCK"
         },
         {
          "mets": "f6p",
          "value": 0.08252450911898598,
          "variable": "2DHGLCK"
         },
         {
          "mets": "fdp",
          "value": 0.0845768258096607,
          "variable": "2DHGLCK"
         },
         {
          "mets": "fuc",
          "value": 0.0021730906068431416,
          "variable": "2DHGLCK"
         },
         {
          "mets": "g3p",
          "value": 0.04439142895110009,
          "variable": "2DHGLCK"
         },
         {
          "mets": "g6p",
          "value": 0.07663680063326464,
          "variable": "2DHGLCK"
         },
         {
          "mets": "glc-D",
          "value": 0.0379299923954525,
          "variable": "2DHGLCK"
         },
         {
          "mets": "glc-D p",
          "value": -4.305479717379481e-05,
          "variable": "2DHGLCK"
         },
         {
          "mets": "glcn",
          "value": 0.08561605251982765,
          "variable": "2DHGLCK"
         },
         {
          "mets": "glcn p",
          "value": 0.04516444914535328,
          "variable": "2DHGLCK"
         },
         {
          "mets": "icit",
          "value": 0.05271582534684145,
          "variable": "2DHGLCK"
         },
         {
          "mets": "mal-L",
          "value": 0.019613262920080827,
          "variable": "2DHGLCK"
         },
         {
          "mets": "malcoa",
          "value": -0.009039902845658549,
          "variable": "2DHGLCK"
         },
         {
          "mets": "nad",
          "value": -0.014804723915805073,
          "variable": "2DHGLCK"
         },
         {
          "mets": "nadh",
          "value": 0.019218553496758276,
          "variable": "2DHGLCK"
         },
         {
          "mets": "nadp",
          "value": -0.05507671534594441,
          "variable": "2DHGLCK"
         },
         {
          "mets": "nadph",
          "value": -0.02071864373998393,
          "variable": "2DHGLCK"
         },
         {
          "mets": "oaa",
          "value": 0.0070184351349193395,
          "variable": "2DHGLCK"
         },
         {
          "mets": "pep",
          "value": 0.04681301930070005,
          "variable": "2DHGLCK"
         },
         {
          "mets": "pyr",
          "value": 0.006547285812275254,
          "variable": "2DHGLCK"
         },
         {
          "mets": "q8",
          "value": 0.12658497586303014,
          "variable": "2DHGLCK"
         },
         {
          "mets": "q8h2",
          "value": 0.14518391225049299,
          "variable": "2DHGLCK"
         },
         {
          "mets": "r5p",
          "value": 0.013798483387170888,
          "variable": "2DHGLCK"
         },
         {
          "mets": "ru5p-D",
          "value": 0.02183057175977956,
          "variable": "2DHGLCK"
         },
         {
          "mets": "s7p",
          "value": 0.019328134724028646,
          "variable": "2DHGLCK"
         },
         {
          "mets": "succ",
          "value": -0.04477546051938067,
          "variable": "2DHGLCK"
         },
         {
          "mets": "succoa",
          "value": 0.0012074265806177244,
          "variable": "2DHGLCK"
         },
         {
          "mets": "xu5p-D",
          "value": 0.031325032087203275,
          "variable": "2DHGLCK"
         },
         {
          "mets": "13dpg",
          "value": 0.022490829269953126,
          "variable": "PGLCNDH NAD"
         },
         {
          "mets": "2ddg6p",
          "value": 0.003963473591515986,
          "variable": "PGLCNDH NAD"
         },
         {
          "mets": "2dhglcn",
          "value": -0.05750892354489365,
          "variable": "PGLCNDH NAD"
         },
         {
          "mets": "2dhglcn p",
          "value": 0.009895080529579551,
          "variable": "PGLCNDH NAD"
         },
         {
          "mets": "2pg",
          "value": 0.007286276963592521,
          "variable": "PGLCNDH NAD"
         },
         {
          "mets": "3pg",
          "value": 0.006108549254100381,
          "variable": "PGLCNDH NAD"
         },
         {
          "mets": "6p2dhglcn",
          "value": -0.20254729254460005,
          "variable": "PGLCNDH NAD"
         },
         {
          "mets": "6pgc",
          "value": 0.004159076933660738,
          "variable": "PGLCNDH NAD"
         },
         {
          "mets": "6pgl",
          "value": -0.0039718435274577885,
          "variable": "PGLCNDH NAD"
         },
         {
          "mets": "accoa",
          "value": 0.0035028401433399936,
          "variable": "PGLCNDH NAD"
         },
         {
          "mets": "acon C",
          "value": 0.016592225703994903,
          "variable": "PGLCNDH NAD"
         },
         {
          "mets": "adp",
          "value": -0.014612576743918788,
          "variable": "PGLCNDH NAD"
         },
         {
          "mets": "akg",
          "value": -0.0026030839155125407,
          "variable": "PGLCNDH NAD"
         },
         {
          "mets": "atp",
          "value": -0.004272826140563686,
          "variable": "PGLCNDH NAD"
         },
         {
          "mets": "cit",
          "value": 0.00884917752712926,
          "variable": "PGLCNDH NAD"
         },
         {
          "mets": "coa",
          "value": -0.008809465886527375,
          "variable": "PGLCNDH NAD"
         },
         {
          "mets": "dhap",
          "value": 0.001707850563610017,
          "variable": "PGLCNDH NAD"
         },
         {
          "mets": "e4p",
          "value": 0.0013075993006852913,
          "variable": "PGLCNDH NAD"
         },
         {
          "mets": "f6p",
          "value": 0.004020351908979274,
          "variable": "PGLCNDH NAD"
         },
         {
          "mets": "fdp",
          "value": 0.003415149902375912,
          "variable": "PGLCNDH NAD"
         },
         {
          "mets": "fuc",
          "value": 0.005408198340624112,
          "variable": "PGLCNDH NAD"
         },
         {
          "mets": "g3p",
          "value": 0.0011265725477931639,
          "variable": "PGLCNDH NAD"
         },
         {
          "mets": "g6p",
          "value": 0.021347025893801726,
          "variable": "PGLCNDH NAD"
         },
         {
          "mets": "glc-D",
          "value": 0.010679785459058146,
          "variable": "PGLCNDH NAD"
         },
         {
          "mets": "glc-D p",
          "value": -2.329637245471237e-05,
          "variable": "PGLCNDH NAD"
         },
         {
          "mets": "glcn",
          "value": 0.012221956922963755,
          "variable": "PGLCNDH NAD"
         },
         {
          "mets": "glcn p",
          "value": 0.010745552259768226,
          "variable": "PGLCNDH NAD"
         },
         {
          "mets": "icit",
          "value": 0.0369573867364555,
          "variable": "PGLCNDH NAD"
         },
         {
          "mets": "mal-L",
          "value": 0.008964159001690189,
          "variable": "PGLCNDH NAD"
         },
         {
          "mets": "malcoa",
          "value": 0.0011917410718601867,
          "variable": "PGLCNDH NAD"
         },
         {
          "mets": "nad",
          "value": 0.017644244483196368,
          "variable": "PGLCNDH NAD"
         },
         {
          "mets": "nadh",
          "value": 0.004048920693288153,
          "variable": "PGLCNDH NAD"
         },
         {
          "mets": "nadp",
          "value": -0.019484511098612156,
          "variable": "PGLCNDH NAD"
         },
         {
          "mets": "nadph",
          "value": -0.006313414800063417,
          "variable": "PGLCNDH NAD"
         },
         {
          "mets": "oaa",
          "value": 0.0012413747780827891,
          "variable": "PGLCNDH NAD"
         },
         {
          "mets": "pep",
          "value": 0.011228609255247386,
          "variable": "PGLCNDH NAD"
         },
         {
          "mets": "pyr",
          "value": 0.0010616829864159758,
          "variable": "PGLCNDH NAD"
         },
         {
          "mets": "q8",
          "value": 0.029771782827000985,
          "variable": "PGLCNDH NAD"
         },
         {
          "mets": "q8h2",
          "value": 0.02186494134701596,
          "variable": "PGLCNDH NAD"
         },
         {
          "mets": "r5p",
          "value": 0.003423099356929365,
          "variable": "PGLCNDH NAD"
         },
         {
          "mets": "ru5p-D",
          "value": 0.0055698082061918786,
          "variable": "PGLCNDH NAD"
         },
         {
          "mets": "s7p",
          "value": 0.006076464670698825,
          "variable": "PGLCNDH NAD"
         },
         {
          "mets": "succ",
          "value": -0.008823609152959542,
          "variable": "PGLCNDH NAD"
         },
         {
          "mets": "succoa",
          "value": 0.0013698442658859912,
          "variable": "PGLCNDH NAD"
         },
         {
          "mets": "xu5p-D",
          "value": 0.0042407993747300135,
          "variable": "PGLCNDH NAD"
         },
         {
          "mets": "13dpg",
          "value": 0.1842006924737733,
          "variable": "PGLCNDH NADP"
         },
         {
          "mets": "2ddg6p",
          "value": 0.033335437123343,
          "variable": "PGLCNDH NADP"
         },
         {
          "mets": "2dhglcn",
          "value": -0.49757402174257026,
          "variable": "PGLCNDH NADP"
         },
         {
          "mets": "2dhglcn p",
          "value": 0.07326580139047115,
          "variable": "PGLCNDH NADP"
         },
         {
          "mets": "2pg",
          "value": 0.05907664928201247,
          "variable": "PGLCNDH NADP"
         },
         {
          "mets": "3pg",
          "value": 0.047210679627043645,
          "variable": "PGLCNDH NADP"
         },
         {
          "mets": "6p2dhglcn",
          "value": -1.717064165150696,
          "variable": "PGLCNDH NADP"
         },
         {
          "mets": "6pgc",
          "value": 0.045423766051574485,
          "variable": "PGLCNDH NADP"
         },
         {
          "mets": "6pgl",
          "value": -0.010457484625819947,
          "variable": "PGLCNDH NADP"
         },
         {
          "mets": "accoa",
          "value": 0.02882891850708872,
          "variable": "PGLCNDH NADP"
         },
         {
          "mets": "acon C",
          "value": 0.11991499439792677,
          "variable": "PGLCNDH NADP"
         },
         {
          "mets": "adp",
          "value": -0.12184801394214777,
          "variable": "PGLCNDH NADP"
         },
         {
          "mets": "akg",
          "value": -0.02089930393485227,
          "variable": "PGLCNDH NADP"
         },
         {
          "mets": "atp",
          "value": -0.02987753775845336,
          "variable": "PGLCNDH NADP"
         },
         {
          "mets": "cit",
          "value": 0.06078033434009353,
          "variable": "PGLCNDH NADP"
         },
         {
          "mets": "coa",
          "value": -0.061051004770559164,
          "variable": "PGLCNDH NADP"
         },
         {
          "mets": "dhap",
          "value": 0.017459266017362952,
          "variable": "PGLCNDH NADP"
         },
         {
          "mets": "e4p",
          "value": 0.023486683810512797,
          "variable": "PGLCNDH NADP"
         },
         {
          "mets": "f6p",
          "value": 0.04025508651529364,
          "variable": "PGLCNDH NADP"
         },
         {
          "mets": "fdp",
          "value": 0.03485003326453895,
          "variable": "PGLCNDH NADP"
         },
         {
          "mets": "fuc",
          "value": 0.0347032484117893,
          "variable": "PGLCNDH NADP"
         },
         {
          "mets": "g3p",
          "value": 0.012334425663110084,
          "variable": "PGLCNDH NADP"
         },
         {
          "mets": "g6p",
          "value": 0.18648407033722536,
          "variable": "PGLCNDH NADP"
         },
         {
          "mets": "glc-D",
          "value": 0.09288654222868933,
          "variable": "PGLCNDH NADP"
         },
         {
          "mets": "glc-D p",
          "value": -0.00020520412307635486,
          "variable": "PGLCNDH NADP"
         },
         {
          "mets": "glcn",
          "value": 0.09789434114723407,
          "variable": "PGLCNDH NADP"
         },
         {
          "mets": "glcn p",
          "value": 0.08614037479232231,
          "variable": "PGLCNDH NADP"
         },
         {
          "mets": "icit",
          "value": 0.28099584842353587,
          "variable": "PGLCNDH NADP"
         },
         {
          "mets": "mal-L",
          "value": 0.06093825276712098,
          "variable": "PGLCNDH NADP"
         },
         {
          "mets": "malcoa",
          "value": 0.013905379740622665,
          "variable": "PGLCNDH NADP"
         },
         {
          "mets": "nad",
          "value": 0.1274826830727357,
          "variable": "PGLCNDH NADP"
         },
         {
          "mets": "nadh",
          "value": 0.06232938594794238,
          "variable": "PGLCNDH NADP"
         },
         {
          "mets": "nadp",
          "value": -0.1611752586344808,
          "variable": "PGLCNDH NADP"
         },
         {
          "mets": "nadph",
          "value": -0.10134169784429148,
          "variable": "PGLCNDH NADP"
         },
         {
          "mets": "oaa",
          "value": 0.009958898008766606,
          "variable": "PGLCNDH NADP"
         },
         {
          "mets": "pep",
          "value": 0.09725109082890487,
          "variable": "PGLCNDH NADP"
         },
         {
          "mets": "pyr",
          "value": 0.008394794832033956,
          "variable": "PGLCNDH NADP"
         },
         {
          "mets": "q8",
          "value": 0.2424016706599026,
          "variable": "PGLCNDH NADP"
         },
         {
          "mets": "q8h2",
          "value": 0.18552628948390373,
          "variable": "PGLCNDH NADP"
         },
         {
          "mets": "r5p",
          "value": 0.058434591094701394,
          "variable": "PGLCNDH NADP"
         },
         {
          "mets": "ru5p-D",
          "value": 0.09342994201995702,
          "variable": "PGLCNDH NADP"
         },
         {
          "mets": "s7p",
          "value": 0.0927794325675042,
          "variable": "PGLCNDH NADP"
         },
         {
          "mets": "succ",
          "value": -0.07485544260208746,
          "variable": "PGLCNDH NADP"
         },
         {
          "mets": "succoa",
          "value": 0.010764638359817526,
          "variable": "PGLCNDH NADP"
         },
         {
          "mets": "xu5p-D",
          "value": 0.0699795917168188,
          "variable": "PGLCNDH NADP"
         },
         {
          "mets": "13dpg",
          "value": -0.26564222588105046,
          "variable": "GLCDpp"
         },
         {
          "mets": "2ddg6p",
          "value": 0.9495939924964967,
          "variable": "GLCDpp"
         },
         {
          "mets": "2dhglcn",
          "value": 0.01769195223773437,
          "variable": "GLCDpp"
         },
         {
          "mets": "2dhglcn p",
          "value": -0.07909046578500484,
          "variable": "GLCDpp"
         },
         {
          "mets": "2pg",
          "value": 0.13306524269608344,
          "variable": "GLCDpp"
         },
         {
          "mets": "3pg",
          "value": 0.20604827523420827,
          "variable": "GLCDpp"
         },
         {
          "mets": "6p2dhglcn",
          "value": 0.08024759796293854,
          "variable": "GLCDpp"
         },
         {
          "mets": "6pgc",
          "value": 0.20521811182794514,
          "variable": "GLCDpp"
         },
         {
          "mets": "6pgl",
          "value": -1.1282714923701318,
          "variable": "GLCDpp"
         },
         {
          "mets": "accoa",
          "value": -0.14154574983205886,
          "variable": "GLCDpp"
         },
         {
          "mets": "acon C",
          "value": 0.2765044090645567,
          "variable": "GLCDpp"
         },
         {
          "mets": "adp",
          "value": 0.9851835291648428,
          "variable": "GLCDpp"
         },
         {
          "mets": "akg",
          "value": 0.3888474739568808,
          "variable": "GLCDpp"
         },
         {
          "mets": "atp",
          "value": 0.45309490317176027,
          "variable": "GLCDpp"
         },
         {
          "mets": "cit",
          "value": 0.23167927187985488,
          "variable": "GLCDpp"
         },
         {
          "mets": "coa",
          "value": -0.057197048292177435,
          "variable": "GLCDpp"
         },
         {
          "mets": "dhap",
          "value": 0.26396213538755386,
          "variable": "GLCDpp"
         },
         {
          "mets": "e4p",
          "value": 0.09135773155045496,
          "variable": "GLCDpp"
         },
         {
          "mets": "f6p",
          "value": 0.46002818317434474,
          "variable": "GLCDpp"
         },
         {
          "mets": "fdp",
          "value": 0.5384265801559069,
          "variable": "GLCDpp"
         },
         {
          "mets": "fuc",
          "value": 0.03168270516836548,
          "variable": "GLCDpp"
         },
         {
          "mets": "g3p",
          "value": 0.3578481355844544,
          "variable": "GLCDpp"
         },
         {
          "mets": "g6p",
          "value": -0.879751020692937,
          "variable": "GLCDpp"
         },
         {
          "mets": "glc-D",
          "value": -0.44254173017909715,
          "variable": "GLCDpp"
         },
         {
          "mets": "glc-D p",
          "value": -0.001603294078939498,
          "variable": "GLCDpp"
         },
         {
          "mets": "glcn",
          "value": 1.6527856529796283,
          "variable": "GLCDpp"
         },
         {
          "mets": "glcn p",
          "value": 1.8861658730453088,
          "variable": "GLCDpp"
         },
         {
          "mets": "icit",
          "value": 0.444719433293421,
          "variable": "GLCDpp"
         },
         {
          "mets": "mal-L",
          "value": 0.11341029150545948,
          "variable": "GLCDpp"
         },
         {
          "mets": "malcoa",
          "value": -0.16112317453559516,
          "variable": "GLCDpp"
         },
         {
          "mets": "nad",
          "value": -0.17807053595437786,
          "variable": "GLCDpp"
         },
         {
          "mets": "nadh",
          "value": 0.1366413180459637,
          "variable": "GLCDpp"
         },
         {
          "mets": "nadp",
          "value": -0.2151129334095287,
          "variable": "GLCDpp"
         },
         {
          "mets": "nadph",
          "value": -0.03708000540542847,
          "variable": "GLCDpp"
         },
         {
          "mets": "oaa",
          "value": 0.3816399724018892,
          "variable": "GLCDpp"
         },
         {
          "mets": "pep",
          "value": -0.10907527680923751,
          "variable": "GLCDpp"
         },
         {
          "mets": "pyr",
          "value": 0.38837354207392955,
          "variable": "GLCDpp"
         },
         {
          "mets": "q8",
          "value": -2.450343037467992,
          "variable": "GLCDpp"
         },
         {
          "mets": "q8h2",
          "value": -1.0558902633942586,
          "variable": "GLCDpp"
         },
         {
          "mets": "r5p",
          "value": 0.20217967532220282,
          "variable": "GLCDpp"
         },
         {
          "mets": "ru5p-D",
          "value": 0.32835543364357933,
          "variable": "GLCDpp"
         },
         {
          "mets": "s7p",
          "value": 0.20108339993568422,
          "variable": "GLCDpp"
         },
         {
          "mets": "succ",
          "value": 1.6719592902342448,
          "variable": "GLCDpp"
         },
         {
          "mets": "succoa",
          "value": 0.1403443847754077,
          "variable": "GLCDpp"
         },
         {
          "mets": "xu5p-D",
          "value": 0.3355930567271973,
          "variable": "GLCDpp"
         },
         {
          "mets": "13dpg",
          "value": -0.3278263474569144,
          "variable": "GAD2ktpp"
         },
         {
          "mets": "2ddg6p",
          "value": -0.16202248614254258,
          "variable": "GAD2ktpp"
         },
         {
          "mets": "2dhglcn",
          "value": 1.630966865445421,
          "variable": "GAD2ktpp"
         },
         {
          "mets": "2dhglcn p",
          "value": 1.6393451895308666,
          "variable": "GAD2ktpp"
         },
         {
          "mets": "2pg",
          "value": -0.10909831391585766,
          "variable": "GAD2ktpp"
         },
         {
          "mets": "3pg",
          "value": -0.07980192142231317,
          "variable": "GAD2ktpp"
         },
         {
          "mets": "6p2dhglcn",
          "value": 1.0184431495167243,
          "variable": "GAD2ktpp"
         },
         {
          "mets": "6pgc",
          "value": -0.07171868903044948,
          "variable": "GAD2ktpp"
         },
         {
          "mets": "6pgl",
          "value": 0.0394123826673835,
          "variable": "GAD2ktpp"
         },
         {
          "mets": "accoa",
          "value": -0.0328307917983242,
          "variable": "GAD2ktpp"
         },
         {
          "mets": "acon C",
          "value": -0.18868742698384508,
          "variable": "GAD2ktpp"
         },
         {
          "mets": "adp",
          "value": 0.25128665975893216,
          "variable": "GAD2ktpp"
         },
         {
          "mets": "akg",
          "value": 0.023570585475516236,
          "variable": "GAD2ktpp"
         },
         {
          "mets": "atp",
          "value": 0.059453856994545626,
          "variable": "GAD2ktpp"
         },
         {
          "mets": "cit",
          "value": -0.09553646102057509,
          "variable": "GAD2ktpp"
         },
         {
          "mets": "coa",
          "value": 0.06126137798362276,
          "variable": "GAD2ktpp"
         },
         {
          "mets": "dhap",
          "value": -0.11044561618249873,
          "variable": "GAD2ktpp"
         },
         {
          "mets": "e4p",
          "value": -0.027953607904074043,
          "variable": "GAD2ktpp"
         },
         {
          "mets": "f6p",
          "value": -0.22793509465464173,
          "variable": "GAD2ktpp"
         },
         {
          "mets": "fdp",
          "value": -0.22485308617206212,
          "variable": "GAD2ktpp"
         },
         {
          "mets": "fuc",
          "value": -0.08839621599284253,
          "variable": "GAD2ktpp"
         },
         {
          "mets": "g3p",
          "value": -0.10972178068874344,
          "variable": "GAD2ktpp"
         },
         {
          "mets": "g6p",
          "value": -0.3943927181310716,
          "variable": "GAD2ktpp"
         },
         {
          "mets": "glc-D",
          "value": -0.19626477515141538,
          "variable": "GAD2ktpp"
         },
         {
          "mets": "glc-D p",
          "value": 0.00040918909118164266,
          "variable": "GAD2ktpp"
         },
         {
          "mets": "glcn",
          "value": -0.6067868284378181,
          "variable": "GAD2ktpp"
         },
         {
          "mets": "glcn p",
          "value": -0.6500127572521011,
          "variable": "GAD2ktpp"
         },
         {
          "mets": "icit",
          "value": -0.43924425415091506,
          "variable": "GAD2ktpp"
         },
         {
          "mets": "mal-L",
          "value": -0.15937643583668742,
          "variable": "GAD2ktpp"
         },
         {
          "mets": "malcoa",
          "value": -0.04298742280813614,
          "variable": "GAD2ktpp"
         },
         {
          "mets": "nad",
          "value": -0.1090415501589452,
          "variable": "GAD2ktpp"
         },
         {
          "mets": "nadh",
          "value": -0.06249497927226766,
          "variable": "GAD2ktpp"
         },
         {
          "mets": "nadp",
          "value": 0.29809404457765865,
          "variable": "GAD2ktpp"
         },
         {
          "mets": "nadph",
          "value": 0.09570969252112141,
          "variable": "GAD2ktpp"
         },
         {
          "mets": "oaa",
          "value": -0.029536498380405275,
          "variable": "GAD2ktpp"
         },
         {
          "mets": "pep",
          "value": -0.22045373946418687,
          "variable": "GAD2ktpp"
         },
         {
          "mets": "pyr",
          "value": -0.02654104077986025,
          "variable": "GAD2ktpp"
         },
         {
          "mets": "q8",
          "value": -0.654421314181723,
          "variable": "GAD2ktpp"
         },
         {
          "mets": "q8h2",
          "value": -0.37175437158781455,
          "variable": "GAD2ktpp"
         },
         {
          "mets": "r5p",
          "value": -0.0691655361673239,
          "variable": "GAD2ktpp"
         },
         {
          "mets": "ru5p-D",
          "value": -0.11180142764252665,
          "variable": "GAD2ktpp"
         },
         {
          "mets": "s7p",
          "value": -0.11297440821813781,
          "variable": "GAD2ktpp"
         },
         {
          "mets": "succ",
          "value": 0.29560482851352143,
          "variable": "GAD2ktpp"
         },
         {
          "mets": "succoa",
          "value": 0.020592978782808198,
          "variable": "GAD2ktpp"
         },
         {
          "mets": "xu5p-D",
          "value": -0.12337434508641121,
          "variable": "GAD2ktpp"
         },
         {
          "mets": "13dpg",
          "value": -0.003572931426465324,
          "variable": "G6PDH2 NAD"
         },
         {
          "mets": "2ddg6p",
          "value": 0.010860424843658994,
          "variable": "G6PDH2 NAD"
         },
         {
          "mets": "2dhglcn",
          "value": -0.004824420071188648,
          "variable": "G6PDH2 NAD"
         },
         {
          "mets": "2dhglcn p",
          "value": -0.009729703702055257,
          "variable": "G6PDH2 NAD"
         },
         {
          "mets": "2pg",
          "value": -0.00010144250323011213,
          "variable": "G6PDH2 NAD"
         },
         {
          "mets": "3pg",
          "value": -8.493007589162624e-05,
          "variable": "G6PDH2 NAD"
         },
         {
          "mets": "6p2dhglcn",
          "value": -0.00106785057808537,
          "variable": "G6PDH2 NAD"
         },
         {
          "mets": "6pgc",
          "value": 0.0035506120169636604,
          "variable": "G6PDH2 NAD"
         },
         {
          "mets": "6pgl",
          "value": 0.030452480887395203,
          "variable": "G6PDH2 NAD"
         },
         {
          "mets": "accoa",
          "value": -0.001130142914729093,
          "variable": "G6PDH2 NAD"
         },
         {
          "mets": "acon C",
          "value": 0.0045544404547188475,
          "variable": "G6PDH2 NAD"
         },
         {
          "mets": "adp",
          "value": 0.0005375996897934145,
          "variable": "G6PDH2 NAD"
         },
         {
          "mets": "akg",
          "value": 0.002647521867684406,
          "variable": "G6PDH2 NAD"
         },
         {
          "mets": "atp",
          "value": -0.003786236720917593,
          "variable": "G6PDH2 NAD"
         },
         {
          "mets": "cit",
          "value": 0.0009932113314703806,
          "variable": "G6PDH2 NAD"
         },
         {
          "mets": "coa",
          "value": 0.0016240724855051988,
          "variable": "G6PDH2 NAD"
         },
         {
          "mets": "dhap",
          "value": 0.00461044936522158,
          "variable": "G6PDH2 NAD"
         },
         {
          "mets": "e4p",
          "value": 0.0017716271402432276,
          "variable": "G6PDH2 NAD"
         },
         {
          "mets": "f6p",
          "value": 0.008333585716714165,
          "variable": "G6PDH2 NAD"
         },
         {
          "mets": "fdp",
          "value": 0.009536305606082589,
          "variable": "G6PDH2 NAD"
         },
         {
          "mets": "fuc",
          "value": 0.0012408576346902398,
          "variable": "G6PDH2 NAD"
         },
         {
          "mets": "g3p",
          "value": 0.0060038208938974465,
          "variable": "G6PDH2 NAD"
         },
         {
          "mets": "g6p",
          "value": -0.009855335716206049,
          "variable": "G6PDH2 NAD"
         },
         {
          "mets": "glc-D",
          "value": -0.004914299748442327,
          "variable": "G6PDH2 NAD"
         },
         {
          "mets": "glc-D p",
          "value": -9.049854285575383e-06,
          "variable": "G6PDH2 NAD"
         },
         {
          "mets": "glcn",
          "value": -0.0012394723271327683,
          "variable": "G6PDH2 NAD"
         },
         {
          "mets": "glcn p",
          "value": -0.004681929286608728,
          "variable": "G6PDH2 NAD"
         },
         {
          "mets": "icit",
          "value": 0.014151595375404764,
          "variable": "G6PDH2 NAD"
         },
         {
          "mets": "mal-L",
          "value": 0.006679198025493594,
          "variable": "G6PDH2 NAD"
         },
         {
          "mets": "malcoa",
          "value": -0.0020261953098090024,
          "variable": "G6PDH2 NAD"
         },
         {
          "mets": "nad",
          "value": -0.01184220109936917,
          "variable": "G6PDH2 NAD"
         },
         {
          "mets": "nadh",
          "value": 0.0062063820589490695,
          "variable": "G6PDH2 NAD"
         },
         {
          "mets": "nadp",
          "value": -0.018938483813636737,
          "variable": "G6PDH2 NAD"
         },
         {
          "mets": "nadph",
          "value": -0.006632444535531497,
          "variable": "G6PDH2 NAD"
         },
         {
          "mets": "oaa",
          "value": 0.004064192850147222,
          "variable": "G6PDH2 NAD"
         },
         {
          "mets": "pep",
          "value": -0.0002571039425808809,
          "variable": "G6PDH2 NAD"
         },
         {
          "mets": "pyr",
          "value": 0.004083275927594389,
          "variable": "G6PDH2 NAD"
         },
         {
          "mets": "q8",
          "value": -0.013969193869170615,
          "variable": "G6PDH2 NAD"
         },
         {
          "mets": "q8h2",
          "value": -0.004193490894562736,
          "variable": "G6PDH2 NAD"
         },
         {
          "mets": "r5p",
          "value": 0.003968152348140961,
          "variable": "G6PDH2 NAD"
         },
         {
          "mets": "ru5p-D",
          "value": 0.006583011932113882,
          "variable": "G6PDH2 NAD"
         },
         {
          "mets": "s7p",
          "value": 0.004361018081506192,
          "variable": "G6PDH2 NAD"
         },
         {
          "mets": "succ",
          "value": 0.009025970867738597,
          "variable": "G6PDH2 NAD"
         },
         {
          "mets": "succoa",
          "value": -0.0011933765239537705,
          "variable": "G6PDH2 NAD"
         },
         {
          "mets": "xu5p-D",
          "value": 0.006022294224022012,
          "variable": "G6PDH2 NAD"
         },
         {
          "mets": "13dpg",
          "value": -0.028946649706887373,
          "variable": "G6PDH2 NADP"
         },
         {
          "mets": "2ddg6p",
          "value": 0.16879773184503954,
          "variable": "G6PDH2 NADP"
         },
         {
          "mets": "2dhglcn",
          "value": -0.08975663531128454,
          "variable": "G6PDH2 NADP"
         },
         {
          "mets": "2dhglcn p",
          "value": -0.12365616615136064,
          "variable": "G6PDH2 NADP"
         },
         {
          "mets": "2pg",
          "value": 0.006176217115443642,
          "variable": "G6PDH2 NADP"
         },
         {
          "mets": "3pg",
          "value": 0.008856833388512916,
          "variable": "G6PDH2 NADP"
         },
         {
          "mets": "6p2dhglcn",
          "value": -0.12562334013927692,
          "variable": "G6PDH2 NADP"
         },
         {
          "mets": "6pgc",
          "value": 0.036216624680939266,
          "variable": "G6PDH2 NADP"
         },
         {
          "mets": "6pgl",
          "value": 0.42285305998359024,
          "variable": "G6PDH2 NADP"
         },
         {
          "mets": "accoa",
          "value": -0.015516456863886665,
          "variable": "G6PDH2 NADP"
         },
         {
          "mets": "acon C",
          "value": 0.11924482091483726,
          "variable": "G6PDH2 NADP"
         },
         {
          "mets": "adp",
          "value": -0.006446878544384353,
          "variable": "G6PDH2 NADP"
         },
         {
          "mets": "akg",
          "value": 0.035462594486827134,
          "variable": "G6PDH2 NADP"
         },
         {
          "mets": "atp",
          "value": -0.0720961217817284,
          "variable": "G6PDH2 NADP"
         },
         {
          "mets": "cit",
          "value": 0.04429036128636033,
          "variable": "G6PDH2 NADP"
         },
         {
          "mets": "coa",
          "value": 3.3663720113226305e-05,
          "variable": "G6PDH2 NADP"
         },
         {
          "mets": "dhap",
          "value": 0.06497379529554977,
          "variable": "G6PDH2 NADP"
         },
         {
          "mets": "e4p",
          "value": 0.007539509679727316,
          "variable": "G6PDH2 NADP"
         },
         {
          "mets": "f6p",
          "value": 0.11604710736618842,
          "variable": "G6PDH2 NADP"
         },
         {
          "mets": "fdp",
          "value": 0.13440329461156286,
          "variable": "G6PDH2 NADP"
         },
         {
          "mets": "fuc",
          "value": 0.04208376486181356,
          "variable": "G6PDH2 NADP"
         },
         {
          "mets": "g3p",
          "value": 0.0858893079485311,
          "variable": "G6PDH2 NADP"
         },
         {
          "mets": "g6p",
          "value": -0.14185835040852923,
          "variable": "G6PDH2 NADP"
         },
         {
          "mets": "glc-D",
          "value": -0.07123146735747343,
          "variable": "G6PDH2 NADP"
         },
         {
          "mets": "glc-D p",
          "value": -0.0001473785408912073,
          "variable": "G6PDH2 NADP"
         },
         {
          "mets": "glcn",
          "value": -0.003105276781012592,
          "variable": "G6PDH2 NADP"
         },
         {
          "mets": "glcn p",
          "value": -0.05352706513692777,
          "variable": "G6PDH2 NADP"
         },
         {
          "mets": "icit",
          "value": 0.3057728572105598,
          "variable": "G6PDH2 NADP"
         },
         {
          "mets": "mal-L",
          "value": 0.1387720646935822,
          "variable": "G6PDH2 NADP"
         },
         {
          "mets": "malcoa",
          "value": -0.04005122869997696,
          "variable": "G6PDH2 NADP"
         },
         {
          "mets": "nad",
          "value": -0.1300250878644734,
          "variable": "G6PDH2 NADP"
         },
         {
          "mets": "nadh",
          "value": 0.04817267428624625,
          "variable": "G6PDH2 NADP"
         },
         {
          "mets": "nadp",
          "value": -0.3271636763188437,
          "variable": "G6PDH2 NADP"
         },
         {
          "mets": "nadph",
          "value": -0.02163900616636371,
          "variable": "G6PDH2 NADP"
         },
         {
          "mets": "oaa",
          "value": 0.062130179747013806,
          "variable": "G6PDH2 NADP"
         },
         {
          "mets": "pep",
          "value": 1.7920176789467676e-06,
          "variable": "G6PDH2 NADP"
         },
         {
          "mets": "pyr",
          "value": 0.0624835796852761,
          "variable": "G6PDH2 NADP"
         },
         {
          "mets": "q8",
          "value": -0.172992238181799,
          "variable": "G6PDH2 NADP"
         },
         {
          "mets": "q8h2",
          "value": -0.047256332245382913,
          "variable": "G6PDH2 NADP"
         },
         {
          "mets": "r5p",
          "value": 0.0150502615980875,
          "variable": "G6PDH2 NADP"
         },
         {
          "mets": "ru5p-D",
          "value": 0.02536659689119357,
          "variable": "G6PDH2 NADP"
         },
         {
          "mets": "s7p",
          "value": 0.007035576423474122,
          "variable": "G6PDH2 NADP"
         },
         {
          "mets": "succ",
          "value": 0.13357544623183565,
          "variable": "G6PDH2 NADP"
         },
         {
          "mets": "succoa",
          "value": -0.016750428778500772,
          "variable": "G6PDH2 NADP"
         },
         {
          "mets": "xu5p-D",
          "value": 0.043810932155854444,
          "variable": "G6PDH2 NADP"
         },
         {
          "mets": "13dpg",
          "value": 0.07549494866480794,
          "variable": "PGL"
         },
         {
          "mets": "2ddg6p",
          "value": 0.14666787766082218,
          "variable": "PGL"
         },
         {
          "mets": "2dhglcn",
          "value": -0.027915986943412012,
          "variable": "PGL"
         },
         {
          "mets": "2dhglcn p",
          "value": -0.019050114923290767,
          "variable": "PGL"
         },
         {
          "mets": "2pg",
          "value": 0.0523302938971172,
          "variable": "PGL"
         },
         {
          "mets": "3pg",
          "value": 0.0599727441066134,
          "variable": "PGL"
         },
         {
          "mets": "6p2dhglcn",
          "value": -0.017510933501298592,
          "variable": "PGL"
         },
         {
          "mets": "6pgc",
          "value": 0.01590064509297823,
          "variable": "PGL"
         },
         {
          "mets": "6pgl",
          "value": -0.9466414832588104,
          "variable": "PGL"
         },
         {
          "mets": "accoa",
          "value": 0.001610971813389121,
          "variable": "PGL"
         },
         {
          "mets": "acon C",
          "value": 0.029132045361999856,
          "variable": "PGL"
         },
         {
          "mets": "adp",
          "value": 0.020585839996269752,
          "variable": "PGL"
         },
         {
          "mets": "akg",
          "value": 0.04783480172483558,
          "variable": "PGL"
         },
         {
          "mets": "atp",
          "value": 0.016100530158757054,
          "variable": "PGL"
         },
         {
          "mets": "cit",
          "value": 0.050758314064746436,
          "variable": "PGL"
         },
         {
          "mets": "coa",
          "value": -0.028304044847846606,
          "variable": "PGL"
         },
         {
          "mets": "dhap",
          "value": 0.045765986985298934,
          "variable": "PGL"
         },
         {
          "mets": "e4p",
          "value": 0.009287606355950277,
          "variable": "PGL"
         },
         {
          "mets": "f6p",
          "value": 0.08495191411005229,
          "variable": "PGL"
         },
         {
          "mets": "fdp",
          "value": 0.09370127495386894,
          "variable": "PGL"
         },
         {
          "mets": "fuc",
          "value": 0.008876579005299652,
          "variable": "PGL"
         },
         {
          "mets": "g3p",
          "value": 0.055524171153847154,
          "variable": "PGL"
         },
         {
          "mets": "g6p",
          "value": -0.0180362276387439,
          "variable": "PGL"
         },
         {
          "mets": "glc-D",
          "value": -0.00917050039497008,
          "variable": "PGL"
         },
         {
          "mets": "glc-D p",
          "value": -0.0003749778498565057,
          "variable": "PGL"
         },
         {
          "mets": "glcn",
          "value": -0.014431324603003287,
          "variable": "PGL"
         },
         {
          "mets": "glcn p",
          "value": -0.008768781726908672,
          "variable": "PGL"
         },
         {
          "mets": "icit",
          "value": -0.012931230642221635,
          "variable": "PGL"
         },
         {
          "mets": "mal-L",
          "value": -0.012192165730146004,
          "variable": "PGL"
         },
         {
          "mets": "malcoa",
          "value": -0.0037012828784729964,
          "variable": "PGL"
         },
         {
          "mets": "nad",
          "value": 0.10392257874542452,
          "variable": "PGL"
         },
         {
          "mets": "nadh",
          "value": 0.012087768381921365,
          "variable": "PGL"
         },
         {
          "mets": "nadp",
          "value": 0.12652916161081423,
          "variable": "PGL"
         },
         {
          "mets": "nadph",
          "value": 0.05476291487959896,
          "variable": "PGL"
         },
         {
          "mets": "oaa",
          "value": 0.03905372333414596,
          "variable": "PGL"
         },
         {
          "mets": "pep",
          "value": 0.031939899121275796,
          "variable": "PGL"
         },
         {
          "mets": "pyr",
          "value": 0.03933369044311473,
          "variable": "PGL"
         },
         {
          "mets": "q8",
          "value": -0.01666982154494942,
          "variable": "PGL"
         },
         {
          "mets": "q8h2",
          "value": -0.013834814602732295,
          "variable": "PGL"
         },
         {
          "mets": "r5p",
          "value": 0.02192130666844609,
          "variable": "PGL"
         },
         {
          "mets": "ru5p-D",
          "value": 0.03515380343854288,
          "variable": "PGL"
         },
         {
          "mets": "s7p",
          "value": 0.025786882763977333,
          "variable": "PGL"
         },
         {
          "mets": "succ",
          "value": 0.04871386364742555,
          "variable": "PGL"
         },
         {
          "mets": "succoa",
          "value": 0.038719196612086025,
          "variable": "PGL"
         },
         {
          "mets": "xu5p-D",
          "value": 0.04479335550554206,
          "variable": "PGL"
         },
         {
          "mets": "13dpg",
          "value": -0.01206785127758863,
          "variable": "GND NAD"
         },
         {
          "mets": "2ddg6p",
          "value": -0.021643491827327443,
          "variable": "GND NAD"
         },
         {
          "mets": "2dhglcn",
          "value": -0.0012900603342144764,
          "variable": "GND NAD"
         },
         {
          "mets": "2dhglcn p",
          "value": 8.49283264967651e-05,
          "variable": "GND NAD"
         },
         {
          "mets": "2pg",
          "value": -0.007865965631738556,
          "variable": "GND NAD"
         },
         {
          "mets": "3pg",
          "value": -0.00800544594469675,
          "variable": "GND NAD"
         },
         {
          "mets": "6p2dhglcn",
          "value": -0.010793370245919805,
          "variable": "GND NAD"
         },
         {
          "mets": "6pgc",
          "value": -0.009268407519578511,
          "variable": "GND NAD"
         },
         {
          "mets": "6pgl",
          "value": -0.0050823192686234005,
          "variable": "GND NAD"
         },
         {
          "mets": "accoa",
          "value": 0.0015426326400335413,
          "variable": "GND NAD"
         },
         {
          "mets": "acon C",
          "value": -0.011375520316747444,
          "variable": "GND NAD"
         },
         {
          "mets": "adp",
          "value": -0.002559138480313034,
          "variable": "GND NAD"
         },
         {
          "mets": "akg",
          "value": -0.005224553959929221,
          "variable": "GND NAD"
         },
         {
          "mets": "atp",
          "value": -0.004011388335331056,
          "variable": "GND NAD"
         },
         {
          "mets": "cit",
          "value": -0.009290422545214585,
          "variable": "GND NAD"
         },
         {
          "mets": "coa",
          "value": 0.00807399573746392,
          "variable": "GND NAD"
         },
         {
          "mets": "dhap",
          "value": -0.004312700353451461,
          "variable": "GND NAD"
         },
         {
          "mets": "e4p",
          "value": 0.03078338169535184,
          "variable": "GND NAD"
         },
         {
          "mets": "f6p",
          "value": -0.006992823500807996,
          "variable": "GND NAD"
         },
         {
          "mets": "fdp",
          "value": -0.009138157020241944,
          "variable": "GND NAD"
         },
         {
          "mets": "fuc",
          "value": -0.003926840519994621,
          "variable": "GND NAD"
         },
         {
          "mets": "g3p",
          "value": -0.00667641142840825,
          "variable": "GND NAD"
         },
         {
          "mets": "g6p",
          "value": -0.002465561223609687,
          "variable": "GND NAD"
         },
         {
          "mets": "glc-D",
          "value": -0.0012336096150881853,
          "variable": "GND NAD"
         },
         {
          "mets": "glc-D p",
          "value": -3.501637035084685e-06,
          "variable": "GND NAD"
         },
         {
          "mets": "glcn",
          "value": 0.0004041519173486481,
          "variable": "GND NAD"
         },
         {
          "mets": "glcn p",
          "value": 0.00015326706560038966,
          "variable": "GND NAD"
         },
         {
          "mets": "icit",
          "value": -0.018723542981396897,
          "variable": "GND NAD"
         },
         {
          "mets": "mal-L",
          "value": -0.004784792237510506,
          "variable": "GND NAD"
         },
         {
          "mets": "malcoa",
          "value": 0.0017979668235538456,
          "variable": "GND NAD"
         },
         {
          "mets": "nad",
          "value": -0.012287241042559339,
          "variable": "GND NAD"
         },
         {
          "mets": "nadh",
          "value": -0.0008230683838684963,
          "variable": "GND NAD"
         },
         {
          "mets": "nadp",
          "value": 0.0032608495979524746,
          "variable": "GND NAD"
         },
         {
          "mets": "nadph",
          "value": 0.0017695447794317857,
          "variable": "GND NAD"
         },
         {
          "mets": "oaa",
          "value": -0.007641446292096318,
          "variable": "GND NAD"
         },
         {
          "mets": "pep",
          "value": -0.00873284685153018,
          "variable": "GND NAD"
         },
         {
          "mets": "pyr",
          "value": -0.0076334532166317986,
          "variable": "GND NAD"
         },
         {
          "mets": "q8",
          "value": 0.0009477491727515634,
          "variable": "GND NAD"
         },
         {
          "mets": "q8h2",
          "value": 0.0016326334892656814,
          "variable": "GND NAD"
         },
         {
          "mets": "r5p",
          "value": 0.0764381621539096,
          "variable": "GND NAD"
         },
         {
          "mets": "ru5p-D",
          "value": 0.11463771354180888,
          "variable": "GND NAD"
         },
         {
          "mets": "s7p",
          "value": 0.09526780927006723,
          "variable": "GND NAD"
         },
         {
          "mets": "succ",
          "value": -0.004200762008011942,
          "variable": "GND NAD"
         },
         {
          "mets": "succoa",
          "value": -0.0007387169361451407,
          "variable": "GND NAD"
         },
         {
          "mets": "xu5p-D",
          "value": 0.07925897915606264,
          "variable": "GND NAD"
         },
         {
          "mets": "13dpg",
          "value": -0.11081428104814725,
          "variable": "GND NADP"
         },
         {
          "mets": "2ddg6p",
          "value": -0.22323400760544646,
          "variable": "GND NADP"
         },
         {
          "mets": "2dhglcn",
          "value": -0.024578341510612757,
          "variable": "GND NADP"
         },
         {
          "mets": "2dhglcn p",
          "value": 0.009179720838061775,
          "variable": "GND NADP"
         },
         {
          "mets": "2pg",
          "value": -0.07760533077905488,
          "variable": "GND NADP"
         },
         {
          "mets": "3pg",
          "value": -0.07721519364003178,
          "variable": "GND NADP"
         },
         {
          "mets": "6p2dhglcn",
          "value": -0.17378243979334998,
          "variable": "GND NADP"
         },
         {
          "mets": "6pgc",
          "value": -0.10953477904745262,
          "variable": "GND NADP"
         },
         {
          "mets": "6pgl",
          "value": -0.07170773635159447,
          "variable": "GND NADP"
         },
         {
          "mets": "accoa",
          "value": 0.017174154623794367,
          "variable": "GND NADP"
         },
         {
          "mets": "acon C",
          "value": -0.09782353629132484,
          "variable": "GND NADP"
         },
         {
          "mets": "adp",
          "value": -0.034329214682151485,
          "variable": "GND NADP"
         },
         {
          "mets": "akg",
          "value": -0.055003716809771605,
          "variable": "GND NADP"
         },
         {
          "mets": "atp",
          "value": -0.048356683435892237,
          "variable": "GND NADP"
         },
         {
          "mets": "cit",
          "value": -0.08158382781447047,
          "variable": "GND NADP"
         },
         {
          "mets": "coa",
          "value": 0.07147597014448774,
          "variable": "GND NADP"
         },
         {
          "mets": "dhap",
          "value": -0.04605859526234396,
          "variable": "GND NADP"
         },
         {
          "mets": "e4p",
          "value": 0.30943960622476896,
          "variable": "GND NADP"
         },
         {
          "mets": "f6p",
          "value": -0.07542929179604847,
          "variable": "GND NADP"
         },
         {
          "mets": "fdp",
          "value": -0.09646276991358053,
          "variable": "GND NADP"
         },
         {
          "mets": "fuc",
          "value": -0.030551364222905716,
          "variable": "GND NADP"
         },
         {
          "mets": "g3p",
          "value": -0.07010340203951958,
          "variable": "GND NADP"
         },
         {
          "mets": "g6p",
          "value": -0.02346924400086173,
          "variable": "GND NADP"
         },
         {
          "mets": "glc-D",
          "value": -0.011594709582068853,
          "variable": "GND NADP"
         },
         {
          "mets": "glc-D p",
          "value": -4.3362615972730554e-05,
          "variable": "GND NADP"
         },
         {
          "mets": "glcn",
          "value": 0.011701685885602792,
          "variable": "GND NADP"
         },
         {
          "mets": "glcn p",
          "value": 0.005623695459888695,
          "variable": "GND NADP"
         },
         {
          "mets": "icit",
          "value": -0.1549043600001364,
          "variable": "GND NADP"
         },
         {
          "mets": "mal-L",
          "value": -0.03872463956660736,
          "variable": "GND NADP"
         },
         {
          "mets": "malcoa",
          "value": 0.01494726476747477,
          "variable": "GND NADP"
         },
         {
          "mets": "nad",
          "value": -0.09974484199698586,
          "variable": "GND NADP"
         },
         {
          "mets": "nadh",
          "value": -0.03380918678326361,
          "variable": "GND NADP"
         },
         {
          "mets": "nadp",
          "value": 0.029518249185598654,
          "variable": "GND NADP"
         },
         {
          "mets": "nadph",
          "value": 0.06407091906055859,
          "variable": "GND NADP"
         },
         {
          "mets": "oaa",
          "value": -0.07930529546058915,
          "variable": "GND NADP"
         },
         {
          "mets": "pep",
          "value": -0.0892678294172512,
          "variable": "GND NADP"
         },
         {
          "mets": "pyr",
          "value": -0.0793068231976912,
          "variable": "GND NADP"
         },
         {
          "mets": "q8",
          "value": 0.0268943249412417,
          "variable": "GND NADP"
         },
         {
          "mets": "q8h2",
          "value": 0.023792602917072546,
          "variable": "GND NADP"
         },
         {
          "mets": "r5p",
          "value": 0.7691777162328872,
          "variable": "GND NADP"
         },
         {
          "mets": "ru5p-D",
          "value": 1.1570441998633874,
          "variable": "GND NADP"
         },
         {
          "mets": "s7p",
          "value": 0.951776741586694,
          "variable": "GND NADP"
         },
         {
          "mets": "succ",
          "value": -0.04639264743076707,
          "variable": "GND NADP"
         },
         {
          "mets": "succoa",
          "value": -0.002466535038939393,
          "variable": "GND NADP"
         },
         {
          "mets": "xu5p-D",
          "value": 0.7969932499448558,
          "variable": "GND NADP"
         },
         {
          "mets": "13dpg",
          "value": 0.023349829511428673,
          "variable": "RPI"
         },
         {
          "mets": "2ddg6p",
          "value": 0.017364177484727704,
          "variable": "RPI"
         },
         {
          "mets": "2dhglcn",
          "value": 0.02627109158281071,
          "variable": "RPI"
         },
         {
          "mets": "2dhglcn p",
          "value": 0.028640179992643826,
          "variable": "RPI"
         },
         {
          "mets": "2pg",
          "value": 0.01090575636190471,
          "variable": "RPI"
         },
         {
          "mets": "3pg",
          "value": 0.009960669036758654,
          "variable": "RPI"
         },
         {
          "mets": "6p2dhglcn",
          "value": 0.04524633694721326,
          "variable": "RPI"
         },
         {
          "mets": "6pgc",
          "value": 0.01506861947967036,
          "variable": "RPI"
         },
         {
          "mets": "6pgl",
          "value": 0.05268467414548625,
          "variable": "RPI"
         },
         {
          "mets": "accoa",
          "value": 0.0007919519162831719,
          "variable": "RPI"
         },
         {
          "mets": "acon C",
          "value": 0.010894292504726594,
          "variable": "RPI"
         },
         {
          "mets": "adp",
          "value": 0.00500709803159936,
          "variable": "RPI"
         },
         {
          "mets": "akg",
          "value": 0.0013357921862714776,
          "variable": "RPI"
         },
         {
          "mets": "atp",
          "value": 0.015153788678117001,
          "variable": "RPI"
         },
         {
          "mets": "cit",
          "value": 0.011654011617301813,
          "variable": "RPI"
         },
         {
          "mets": "coa",
          "value": -0.012818504216058433,
          "variable": "RPI"
         },
         {
          "mets": "dhap",
          "value": -0.0017276778177966962,
          "variable": "RPI"
         },
         {
          "mets": "e4p",
          "value": -0.07018699426515664,
          "variable": "RPI"
         },
         {
          "mets": "f6p",
          "value": -0.00620326576711785,
          "variable": "RPI"
         },
         {
          "mets": "fdp",
          "value": -0.0030211674949467385,
          "variable": "RPI"
         },
         {
          "mets": "fuc",
          "value": 0.0050552995260766224,
          "variable": "RPI"
         },
         {
          "mets": "g3p",
          "value": 0.0005051292047421223,
          "variable": "RPI"
         },
         {
          "mets": "g6p",
          "value": 0.0146833601165907,
          "variable": "RPI"
         },
         {
          "mets": "glc-D",
          "value": 0.007301254612180007,
          "variable": "RPI"
         },
         {
          "mets": "glc-D p",
          "value": -0.00014889192221549013,
          "variable": "RPI"
         },
         {
          "mets": "glcn",
          "value": 0.004549597377029924,
          "variable": "RPI"
         },
         {
          "mets": "glcn p",
          "value": 0.009389083164568462,
          "variable": "RPI"
         },
         {
          "mets": "icit",
          "value": 0.006823127939096981,
          "variable": "RPI"
         },
         {
          "mets": "mal-L",
          "value": 0.0010592814332050205,
          "variable": "RPI"
         },
         {
          "mets": "malcoa",
          "value": 0.0021834482981597826,
          "variable": "RPI"
         },
         {
          "mets": "nad",
          "value": 0.03974636940953627,
          "variable": "RPI"
         },
         {
          "mets": "nadh",
          "value": -6.246436019972966e-06,
          "variable": "RPI"
         },
         {
          "mets": "nadp",
          "value": 0.016425245886345835,
          "variable": "RPI"
         },
         {
          "mets": "nadph",
          "value": 0.0034229393535091706,
          "variable": "RPI"
         },
         {
          "mets": "oaa",
          "value": 0.005470765973573411,
          "variable": "RPI"
         },
         {
          "mets": "pep",
          "value": 0.015167581522218884,
          "variable": "RPI"
         },
         {
          "mets": "pyr",
          "value": 0.005400181480170649,
          "variable": "RPI"
         },
         {
          "mets": "q8",
          "value": 0.03369125663649297,
          "variable": "RPI"
         },
         {
          "mets": "q8h2",
          "value": 0.007066903954003612,
          "variable": "RPI"
         },
         {
          "mets": "r5p",
          "value": 0.2938605476192875,
          "variable": "RPI"
         },
         {
          "mets": "ru5p-D",
          "value": -0.5677618697189115,
          "variable": "RPI"
         },
         {
          "mets": "s7p",
          "value": -0.24665476973826905,
          "variable": "RPI"
         },
         {
          "mets": "succ",
          "value": -0.01614742699988763,
          "variable": "RPI"
         },
         {
          "mets": "succoa",
          "value": -0.0014506742450664056,
          "variable": "RPI"
         },
         {
          "mets": "xu5p-D",
          "value": -0.7594677884752912,
          "variable": "RPI"
         },
         {
          "mets": "13dpg",
          "value": -0.014602364912385273,
          "variable": "RPE"
         },
         {
          "mets": "2ddg6p",
          "value": -0.02946062018494331,
          "variable": "RPE"
         },
         {
          "mets": "2dhglcn",
          "value": -0.035741450438836475,
          "variable": "RPE"
         },
         {
          "mets": "2dhglcn p",
          "value": -0.0427109368941514,
          "variable": "RPE"
         },
         {
          "mets": "2pg",
          "value": -0.005319541157338005,
          "variable": "RPE"
         },
         {
          "mets": "3pg",
          "value": -0.002094292196116834,
          "variable": "RPE"
         },
         {
          "mets": "6p2dhglcn",
          "value": -0.03956504239684533,
          "variable": "RPE"
         },
         {
          "mets": "6pgc",
          "value": -0.013933306933336305,
          "variable": "RPE"
         },
         {
          "mets": "6pgl",
          "value": -0.07147166746586449,
          "variable": "RPE"
         },
         {
          "mets": "accoa",
          "value": -0.0010147909845938828,
          "variable": "RPE"
         },
         {
          "mets": "acon C",
          "value": -0.007426476045945924,
          "variable": "RPE"
         },
         {
          "mets": "adp",
          "value": -0.003418052138117366,
          "variable": "RPE"
         },
         {
          "mets": "akg",
          "value": -0.005386272752541041,
          "variable": "RPE"
         },
         {
          "mets": "atp",
          "value": -0.014150857012947363,
          "variable": "RPE"
         },
         {
          "mets": "cit",
          "value": -0.011201161153665085,
          "variable": "RPE"
         },
         {
          "mets": "coa",
          "value": 0.0032716498717255734,
          "variable": "RPE"
         },
         {
          "mets": "dhap",
          "value": 0.008440196959752858,
          "variable": "RPE"
         },
         {
          "mets": "e4p",
          "value": 0.23899625829191395,
          "variable": "RPE"
         },
         {
          "mets": "f6p",
          "value": 0.02602106861549381,
          "variable": "RPE"
         },
         {
          "mets": "fdp",
          "value": 0.016065825847670606,
          "variable": "RPE"
         },
         {
          "mets": "fuc",
          "value": -0.008321624665707615,
          "variable": "RPE"
         },
         {
          "mets": "g3p",
          "value": 0.00015291228741730187,
          "variable": "RPE"
         },
         {
          "mets": "g6p",
          "value": -0.01616067206019902,
          "variable": "RPE"
         },
         {
          "mets": "glc-D",
          "value": -0.00788111413820828,
          "variable": "RPE"
         },
         {
          "mets": "glc-D p",
          "value": 0.00022634761281205032,
          "variable": "RPE"
         },
         {
          "mets": "glcn",
          "value": -0.010718239527609896,
          "variable": "RPE"
         },
         {
          "mets": "glcn p",
          "value": -0.015281607156299677,
          "variable": "RPE"
         },
         {
          "mets": "icit",
          "value": 0.006820447388690186,
          "variable": "RPE"
         },
         {
          "mets": "mal-L",
          "value": -0.002474819021501823,
          "variable": "RPE"
         },
         {
          "mets": "malcoa",
          "value": -0.005647901543246803,
          "variable": "RPE"
         },
         {
          "mets": "nad",
          "value": -0.024978767680027672,
          "variable": "RPE"
         },
         {
          "mets": "nadh",
          "value": 0.005431510909049704,
          "variable": "RPE"
         },
         {
          "mets": "nadp",
          "value": -0.029248461913288414,
          "variable": "RPE"
         },
         {
          "mets": "nadph",
          "value": -0.012490046152935166,
          "variable": "RPE"
         },
         {
          "mets": "oaa",
          "value": -0.007340066234976619,
          "variable": "RPE"
         },
         {
          "mets": "pep",
          "value": -0.018853605718975812,
          "variable": "RPE"
         },
         {
          "mets": "pyr",
          "value": -0.0072661641723303135,
          "variable": "RPE"
         },
         {
          "mets": "q8",
          "value": -0.05456267860906511,
          "variable": "RPE"
         },
         {
          "mets": "q8h2",
          "value": -0.014703869511318229,
          "variable": "RPE"
         },
         {
          "mets": "r5p",
          "value": -0.5056992646619791,
          "variable": "RPE"
         },
         {
          "mets": "ru5p-D",
          "value": -0.5623805143361342,
          "variable": "RPE"
         },
         {
          "mets": "s7p",
          "value": 0.7862045304195134,
          "variable": "RPE"
         },
         {
          "mets": "succ",
          "value": 0.026628010625608996,
          "variable": "RPE"
         },
         {
          "mets": "succoa",
          "value": -0.0027704622393098857,
          "variable": "RPE"
         },
         {
          "mets": "xu5p-D",
          "value": 1.772972465097153,
          "variable": "RPE"
         },
         {
          "mets": "13dpg",
          "value": 0.019686605668810857,
          "variable": "TKT1"
         },
         {
          "mets": "2ddg6p",
          "value": 0.03810629004061294,
          "variable": "TKT1"
         },
         {
          "mets": "2dhglcn",
          "value": 0.006771635376145363,
          "variable": "TKT1"
         },
         {
          "mets": "2dhglcn p",
          "value": 0.012654669472240199,
          "variable": "TKT1"
         },
         {
          "mets": "2pg",
          "value": 0.0072148683339993275,
          "variable": "TKT1"
         },
         {
          "mets": "3pg",
          "value": 0.006915204681875576,
          "variable": "TKT1"
         },
         {
          "mets": "6p2dhglcn",
          "value": 0.00433364872191877,
          "variable": "TKT1"
         },
         {
          "mets": "6pgc",
          "value": 0.0035029318079807747,
          "variable": "TKT1"
         },
         {
          "mets": "6pgl",
          "value": 0.02004909480876384,
          "variable": "TKT1"
         },
         {
          "mets": "accoa",
          "value": -0.001226691160021033,
          "variable": "TKT1"
         },
         {
          "mets": "acon C",
          "value": 0.0006214047305204598,
          "variable": "TKT1"
         },
         {
          "mets": "adp",
          "value": -0.001773239067629422,
          "variable": "TKT1"
         },
         {
          "mets": "akg",
          "value": 0.004844712427553251,
          "variable": "TKT1"
         },
         {
          "mets": "atp",
          "value": 0.002689103873106239,
          "variable": "TKT1"
         },
         {
          "mets": "cit",
          "value": 0.0019009592229300143,
          "variable": "TKT1"
         },
         {
          "mets": "coa",
          "value": 0.0017351579758541143,
          "variable": "TKT1"
         },
         {
          "mets": "dhap",
          "value": 0.035342946555755886,
          "variable": "TKT1"
         },
         {
          "mets": "e4p",
          "value": 0.2148057878868438,
          "variable": "TKT1"
         },
         {
          "mets": "f6p",
          "value": 0.07310588168013728,
          "variable": "TKT1"
         },
         {
          "mets": "fdp",
          "value": 0.0712738023578793,
          "variable": "TKT1"
         },
         {
          "mets": "fuc",
          "value": 0.0024530655369317013,
          "variable": "TKT1"
         },
         {
          "mets": "g3p",
          "value": 0.03426331433774192,
          "variable": "TKT1"
         },
         {
          "mets": "g6p",
          "value": 0.010260160222260688,
          "variable": "TKT1"
         },
         {
          "mets": "glc-D",
          "value": 0.005092579238006779,
          "variable": "TKT1"
         },
         {
          "mets": "glc-D p",
          "value": -1.093153943402144e-05,
          "variable": "TKT1"
         },
         {
          "mets": "glcn",
          "value": 0.003226648707786959,
          "variable": "TKT1"
         },
         {
          "mets": "glcn p",
          "value": 0.004674097186473542,
          "variable": "TKT1"
         },
         {
          "mets": "icit",
          "value": -0.004643781003674904,
          "variable": "TKT1"
         },
         {
          "mets": "mal-L",
          "value": 0.002749966539426563,
          "variable": "TKT1"
         },
         {
          "mets": "malcoa",
          "value": 0.001683954141626797,
          "variable": "TKT1"
         },
         {
          "mets": "nad",
          "value": -0.001783985013613711,
          "variable": "TKT1"
         },
         {
          "mets": "nadh",
          "value": -0.0019381004180854858,
          "variable": "TKT1"
         },
         {
          "mets": "nadp",
          "value": 0.006995597283714379,
          "variable": "TKT1"
         },
         {
          "mets": "nadph",
          "value": 0.006374936525476896,
          "variable": "TKT1"
         },
         {
          "mets": "oaa",
          "value": 0.004258942516833676,
          "variable": "TKT1"
         },
         {
          "mets": "pep",
          "value": 0.009949447809483874,
          "variable": "TKT1"
         },
         {
          "mets": "pyr",
          "value": 0.00423380513178062,
          "variable": "TKT1"
         },
         {
          "mets": "q8",
          "value": 0.01679429045781184,
          "variable": "TKT1"
         },
         {
          "mets": "q8h2",
          "value": 0.0058068255719480035,
          "variable": "TKT1"
         },
         {
          "mets": "r5p",
          "value": -0.12649337583944292,
          "variable": "TKT1"
         },
         {
          "mets": "ru5p-D",
          "value": -0.10733315056772824,
          "variable": "TKT1"
         },
         {
          "mets": "s7p",
          "value": 0.6126080575457333,
          "variable": "TKT1"
         },
         {
          "mets": "succ",
          "value": -0.008181439767096774,
          "variable": "TKT1"
         },
         {
          "mets": "succoa",
          "value": 0.0019740405619513637,
          "variable": "TKT1"
         },
         {
          "mets": "xu5p-D",
          "value": -1.3077669711761897,
          "variable": "TKT1"
         },
         {
          "mets": "13dpg",
          "value": 0.008243814213557271,
          "variable": "TKT2"
         },
         {
          "mets": "2ddg6p",
          "value": 0.00546781509146228,
          "variable": "TKT2"
         },
         {
          "mets": "2dhglcn",
          "value": 0.0014169185657878793,
          "variable": "TKT2"
         },
         {
          "mets": "2dhglcn p",
          "value": 0.001310153401967224,
          "variable": "TKT2"
         },
         {
          "mets": "2pg",
          "value": 0.004093735570206647,
          "variable": "TKT2"
         },
         {
          "mets": "3pg",
          "value": 0.00475640761369374,
          "variable": "TKT2"
         },
         {
          "mets": "6p2dhglcn",
          "value": 0.005854789429762027,
          "variable": "TKT2"
         },
         {
          "mets": "6pgc",
          "value": 0.0014659443990678775,
          "variable": "TKT2"
         },
         {
          "mets": "6pgl",
          "value": 0.004248204999550993,
          "variable": "TKT2"
         },
         {
          "mets": "accoa",
          "value": 3.833468804845053e-05,
          "variable": "TKT2"
         },
         {
          "mets": "acon C",
          "value": 0.0027214653794723613,
          "variable": "TKT2"
         },
         {
          "mets": "adp",
          "value": 0.0009547547144617178,
          "variable": "TKT2"
         },
         {
          "mets": "akg",
          "value": 7.257383534542444e-05,
          "variable": "TKT2"
         },
         {
          "mets": "atp",
          "value": 0.002585692721373518,
          "variable": "TKT2"
         },
         {
          "mets": "cit",
          "value": 0.002019447434821333,
          "variable": "TKT2"
         },
         {
          "mets": "coa",
          "value": -0.0034811586662124973,
          "variable": "TKT2"
         },
         {
          "mets": "dhap",
          "value": 0.006267580137525302,
          "variable": "TKT2"
         },
         {
          "mets": "e4p",
          "value": -0.09270753987422958,
          "variable": "TKT2"
         },
         {
          "mets": "f6p",
          "value": 0.013160709157783331,
          "variable": "TKT2"
         },
         {
          "mets": "fdp",
          "value": 0.012534760777132519,
          "variable": "TKT2"
         },
         {
          "mets": "fuc",
          "value": 0.0007347712679665998,
          "variable": "TKT2"
         },
         {
          "mets": "g3p",
          "value": 0.005807873710110324,
          "variable": "TKT2"
         },
         {
          "mets": "g6p",
          "value": 0.0030292840888297068,
          "variable": "TKT2"
         },
         {
          "mets": "glc-D",
          "value": 0.0015170225951436737,
          "variable": "TKT2"
         },
         {
          "mets": "glc-D p",
          "value": -6.793772714443038e-07,
          "variable": "TKT2"
         },
         {
          "mets": "glcn",
          "value": -0.00046640242235656984,
          "variable": "TKT2"
         },
         {
          "mets": "glcn p",
          "value": 0.00024353900197187348,
          "variable": "TKT2"
         },
         {
          "mets": "icit",
          "value": 0.004602605422046754,
          "variable": "TKT2"
         },
         {
          "mets": "mal-L",
          "value": 0.0005531991041537645,
          "variable": "TKT2"
         },
         {
          "mets": "malcoa",
          "value": 0.00014137923723674432,
          "variable": "TKT2"
         },
         {
          "mets": "nad",
          "value": 0.006961967705893826,
          "variable": "TKT2"
         },
         {
          "mets": "nadh",
          "value": 0.001182285502496586,
          "variable": "TKT2"
         },
         {
          "mets": "nadp",
          "value": 2.973998380527984e-05,
          "variable": "TKT2"
         },
         {
          "mets": "nadph",
          "value": -0.0006027100189692607,
          "variable": "TKT2"
         },
         {
          "mets": "oaa",
          "value": 0.0009617238499956295,
          "variable": "TKT2"
         },
         {
          "mets": "pep",
          "value": 0.002359405773254874,
          "variable": "TKT2"
         },
         {
          "mets": "pyr",
          "value": 0.0009368732659194665,
          "variable": "TKT2"
         },
         {
          "mets": "q8",
          "value": 0.00151032905401638,
          "variable": "TKT2"
         },
         {
          "mets": "q8h2",
          "value": 0.000214022073866607,
          "variable": "TKT2"
         },
         {
          "mets": "r5p",
          "value": 0.018091338109020146,
          "variable": "TKT2"
         },
         {
          "mets": "ru5p-D",
          "value": 0.012838316487295089,
          "variable": "TKT2"
         },
         {
          "mets": "s7p",
          "value": -0.10107971748294373,
          "variable": "TKT2"
         },
         {
          "mets": "succ",
          "value": -0.0007134319156154121,
          "variable": "TKT2"
         },
         {
          "mets": "succoa",
          "value": -0.0006113362636827413,
          "variable": "TKT2"
         },
         {
          "mets": "xu5p-D",
          "value": -0.14139817810165023,
          "variable": "TKT2"
         },
         {
          "mets": "13dpg",
          "value": 0.03385121920941522,
          "variable": "TALA"
         },
         {
          "mets": "2ddg6p",
          "value": 0.015537539649176814,
          "variable": "TALA"
         },
         {
          "mets": "2dhglcn",
          "value": 0.017021823382274738,
          "variable": "TALA"
         },
         {
          "mets": "2dhglcn p",
          "value": 0.016390224701698528,
          "variable": "TALA"
         },
         {
          "mets": "2pg",
          "value": 0.0171522047626341,
          "variable": "TALA"
         },
         {
          "mets": "3pg",
          "value": 0.0182039773600277,
          "variable": "TALA"
         },
         {
          "mets": "6p2dhglcn",
          "value": 0.044373306491636774,
          "variable": "TALA"
         },
         {
          "mets": "6pgc",
          "value": 0.012060173006256683,
          "variable": "TALA"
         },
         {
          "mets": "6pgl",
          "value": 0.03546779784744908,
          "variable": "TALA"
         },
         {
          "mets": "accoa",
          "value": 0.0010385510769821554,
          "variable": "TALA"
         },
         {
          "mets": "acon C",
          "value": 0.015209644878861638,
          "variable": "TALA"
         },
         {
          "mets": "adp",
          "value": 0.0061000914469056325,
          "variable": "TALA"
         },
         {
          "mets": "akg",
          "value": 5.9863167430188724e-05,
          "variable": "TALA"
         },
         {
          "mets": "atp",
          "value": 0.01676847338504303,
          "variable": "TALA"
         },
         {
          "mets": "cit",
          "value": 0.012763626966063127,
          "variable": "TALA"
         },
         {
          "mets": "coa",
          "value": -0.018677053394547533,
          "variable": "TALA"
         },
         {
          "mets": "dhap",
          "value": 0.010616835581252778,
          "variable": "TALA"
         },
         {
          "mets": "e4p",
          "value": 0.2141608260662928,
          "variable": "TALA"
         },
         {
          "mets": "f6p",
          "value": 0.024782183217129987,
          "variable": "TALA"
         },
         {
          "mets": "fdp",
          "value": 0.020541074894955356,
          "variable": "TALA"
         },
         {
          "mets": "fuc",
          "value": 0.004790816631112133,
          "variable": "TALA"
         },
         {
          "mets": "g3p",
          "value": 0.006298117179381543,
          "variable": "TALA"
         },
         {
          "mets": "g6p",
          "value": 0.01628759845777595,
          "variable": "TALA"
         },
         {
          "mets": "glc-D",
          "value": 0.008201236958665923,
          "variable": "TALA"
         },
         {
          "mets": "glc-D p",
          "value": -6.1783911718947e-05,
          "variable": "TALA"
         },
         {
          "mets": "glcn",
          "value": 0.0006197952297533726,
          "variable": "TALA"
         },
         {
          "mets": "glcn p",
          "value": 0.004434302552228646,
          "variable": "TALA"
         },
         {
          "mets": "icit",
          "value": 0.02008634075689552,
          "variable": "TALA"
         },
         {
          "mets": "mal-L",
          "value": 0.001922256593625103,
          "variable": "TALA"
         },
         {
          "mets": "malcoa",
          "value": 0.002010848149864148,
          "variable": "TALA"
         },
         {
          "mets": "nad",
          "value": 0.047958480400764836,
          "variable": "TALA"
         },
         {
          "mets": "nadh",
          "value": 0.003620624572310263,
          "variable": "TALA"
         },
         {
          "mets": "nadp",
          "value": 0.005959814179494809,
          "variable": "TALA"
         },
         {
          "mets": "nadph",
          "value": -0.0005725786610998146,
          "variable": "TALA"
         },
         {
          "mets": "oaa",
          "value": 0.004526699218693615,
          "variable": "TALA"
         },
         {
          "mets": "pep",
          "value": 0.013633337451302768,
          "variable": "TALA"
         },
         {
          "mets": "pyr",
          "value": 0.004392727351071208,
          "variable": "TALA"
         },
         {
          "mets": "q8",
          "value": 0.019271500532520396,
          "variable": "TALA"
         },
         {
          "mets": "q8h2",
          "value": 0.003641758259811673,
          "variable": "TALA"
         },
         {
          "mets": "r5p",
          "value": 0.011232597204422117,
          "variable": "TALA"
         },
         {
          "mets": "ru5p-D",
          "value": 0.04909085635998414,
          "variable": "TALA"
         },
         {
          "mets": "s7p",
          "value": -1.5088704229252863,
          "variable": "TALA"
         },
         {
          "mets": "succ",
          "value": -0.009305834192004547,
          "variable": "TALA"
         },
         {
          "mets": "succoa",
          "value": -0.0023062617957955566,
          "variable": "TALA"
         },
         {
          "mets": "xu5p-D",
          "value": -0.3989184971044695,
          "variable": "TALA"
         },
         {
          "mets": "13dpg",
          "value": 0.23658546303660988,
          "variable": "EDD"
         },
         {
          "mets": "2ddg6p",
          "value": 0.2719653224583919,
          "variable": "EDD"
         },
         {
          "mets": "2dhglcn",
          "value": -0.017208786979874123,
          "variable": "EDD"
         },
         {
          "mets": "2dhglcn p",
          "value": 0.028275817532016537,
          "variable": "EDD"
         },
         {
          "mets": "2pg",
          "value": 0.13259209480050282,
          "variable": "EDD"
         },
         {
          "mets": "3pg",
          "value": 0.12781973057759027,
          "variable": "EDD"
         },
         {
          "mets": "6p2dhglcn",
          "value": -0.046551324676039826,
          "variable": "EDD"
         },
         {
          "mets": "6pgc",
          "value": -0.6939668514101487,
          "variable": "EDD"
         },
         {
          "mets": "6pgl",
          "value": -0.29867904639763476,
          "variable": "EDD"
         },
         {
          "mets": "accoa",
          "value": -0.007250532197536543,
          "variable": "EDD"
         },
         {
          "mets": "acon C",
          "value": 0.17721762535279392,
          "variable": "EDD"
         },
         {
          "mets": "adp",
          "value": -0.0049030185917342435,
          "variable": "EDD"
         },
         {
          "mets": "akg",
          "value": 0.05632074217477183,
          "variable": "EDD"
         },
         {
          "mets": "atp",
          "value": 0.0405037994117273,
          "variable": "EDD"
         },
         {
          "mets": "cit",
          "value": 0.1362252804934056,
          "variable": "EDD"
         },
         {
          "mets": "coa",
          "value": -0.127467145034931,
          "variable": "EDD"
         },
         {
          "mets": "dhap",
          "value": 0.06486358160340493,
          "variable": "EDD"
         },
         {
          "mets": "e4p",
          "value": -0.29799966770243475,
          "variable": "EDD"
         },
         {
          "mets": "f6p",
          "value": 0.11247872947244578,
          "variable": "EDD"
         },
         {
          "mets": "fdp",
          "value": 0.1316402439351573,
          "variable": "EDD"
         },
         {
          "mets": "fuc",
          "value": 0.05067597255802884,
          "variable": "EDD"
         },
         {
          "mets": "g3p",
          "value": 0.08452932134726909,
          "variable": "EDD"
         },
         {
          "mets": "g6p",
          "value": 0.09523787573464479,
          "variable": "EDD"
         },
         {
          "mets": "glc-D",
          "value": 0.047711905758964654,
          "variable": "EDD"
         },
         {
          "mets": "glc-D p",
          "value": -0.00013871349189000548,
          "variable": "EDD"
         },
         {
          "mets": "glcn",
          "value": -0.10308118902653726,
          "variable": "EDD"
         },
         {
          "mets": "glcn p",
          "value": 0.005479463440317972,
          "variable": "EDD"
         },
         {
          "mets": "icit",
          "value": 0.2709533208397492,
          "variable": "EDD"
         },
         {
          "mets": "mal-L",
          "value": 0.05461551693482698,
          "variable": "EDD"
         },
         {
          "mets": "malcoa",
          "value": -0.014567169152009493,
          "variable": "EDD"
         },
         {
          "mets": "nad",
          "value": 0.21168959046206576,
          "variable": "EDD"
         },
         {
          "mets": "nadh",
          "value": 0.0577578537474818,
          "variable": "EDD"
         },
         {
          "mets": "nadp",
          "value": -0.021185362508408898,
          "variable": "EDD"
         },
         {
          "mets": "nadph",
          "value": -0.06288058007990867,
          "variable": "EDD"
         },
         {
          "mets": "oaa",
          "value": 0.10219383788064557,
          "variable": "EDD"
         },
         {
          "mets": "pep",
          "value": 0.15126734997936353,
          "variable": "EDD"
         },
         {
          "mets": "pyr",
          "value": 0.1011322534284423,
          "variable": "EDD"
         },
         {
          "mets": "q8",
          "value": 0.06421596845238178,
          "variable": "EDD"
         },
         {
          "mets": "q8h2",
          "value": 0.042327441441057906,
          "variable": "EDD"
         },
         {
          "mets": "r5p",
          "value": -0.7234993105217079,
          "variable": "EDD"
         },
         {
          "mets": "ru5p-D",
          "value": -1.144645311847324,
          "variable": "EDD"
         },
         {
          "mets": "s7p",
          "value": -0.9743794230768943,
          "variable": "EDD"
         },
         {
          "mets": "succ",
          "value": 0.016197727110704656,
          "variable": "EDD"
         },
         {
          "mets": "succoa",
          "value": 0.020705286851952373,
          "variable": "EDD"
         },
         {
          "mets": "xu5p-D",
          "value": -0.7130745696008756,
          "variable": "EDD"
         },
         {
          "mets": "13dpg",
          "value": 0.046490993762832014,
          "variable": "EDA"
         },
         {
          "mets": "2ddg6p",
          "value": -1.4855757105905512,
          "variable": "EDA"
         },
         {
          "mets": "2dhglcn",
          "value": 0.018520692944444958,
          "variable": "EDA"
         },
         {
          "mets": "2dhglcn p",
          "value": 0.047568936556911884,
          "variable": "EDA"
         },
         {
          "mets": "2pg",
          "value": 0.03460497759297297,
          "variable": "EDA"
         },
         {
          "mets": "3pg",
          "value": 0.02648350744414113,
          "variable": "EDA"
         },
         {
          "mets": "6p2dhglcn",
          "value": 0.0008033055358333025,
          "variable": "EDA"
         },
         {
          "mets": "6pgc",
          "value": 0.01243997528812361,
          "variable": "EDA"
         },
         {
          "mets": "6pgl",
          "value": 0.13653553580573563,
          "variable": "EDA"
         },
         {
          "mets": "accoa",
          "value": -0.03978449999661855,
          "variable": "EDA"
         },
         {
          "mets": "acon C",
          "value": -0.007176659069079218,
          "variable": "EDA"
         },
         {
          "mets": "adp",
          "value": 0.005781330259037884,
          "variable": "EDA"
         },
         {
          "mets": "akg",
          "value": 0.026759770842937302,
          "variable": "EDA"
         },
         {
          "mets": "atp",
          "value": 0.019871429696315328,
          "variable": "EDA"
         },
         {
          "mets": "cit",
          "value": 0.006358390514160031,
          "variable": "EDA"
         },
         {
          "mets": "coa",
          "value": -0.005069981331888469,
          "variable": "EDA"
         },
         {
          "mets": "dhap",
          "value": 0.0798214758233014,
          "variable": "EDA"
         },
         {
          "mets": "e4p",
          "value": 0.0021419251458802916,
          "variable": "EDA"
         },
         {
          "mets": "f6p",
          "value": 0.1520698927180374,
          "variable": "EDA"
         },
         {
          "mets": "fdp",
          "value": 0.1633423148224934,
          "variable": "EDA"
         },
         {
          "mets": "fuc",
          "value": 0.005615938938829314,
          "variable": "EDA"
         },
         {
          "mets": "g3p",
          "value": 0.09349714714416901,
          "variable": "EDA"
         },
         {
          "mets": "g6p",
          "value": 0.02152255185106704,
          "variable": "EDA"
         },
         {
          "mets": "glc-D",
          "value": 0.010481432809386456,
          "variable": "EDA"
         },
         {
          "mets": "glc-D p",
          "value": -0.00024107804315364031,
          "variable": "EDA"
         },
         {
          "mets": "glcn",
          "value": 0.009947508406030672,
          "variable": "EDA"
         },
         {
          "mets": "glcn p",
          "value": 0.021928205834748228,
          "variable": "EDA"
         },
         {
          "mets": "icit",
          "value": -0.05582828735921831,
          "variable": "EDA"
         },
         {
          "mets": "mal-L",
          "value": -0.000935730685160561,
          "variable": "EDA"
         },
         {
          "mets": "malcoa",
          "value": -0.011253677997327505,
          "variable": "EDA"
         },
         {
          "mets": "nad",
          "value": -0.0006823522071403784,
          "variable": "EDA"
         },
         {
          "mets": "nadh",
          "value": -0.019910312448197687,
          "variable": "EDA"
         },
         {
          "mets": "nadp",
          "value": 0.07675025038918423,
          "variable": "EDA"
         },
         {
          "mets": "nadph",
          "value": 0.04179375526047879,
          "variable": "EDA"
         },
         {
          "mets": "oaa",
          "value": 0.04592351064662083,
          "variable": "EDA"
         },
         {
          "mets": "pep",
          "value": 0.06344886466366854,
          "variable": "EDA"
         },
         {
          "mets": "pyr",
          "value": 0.04612447363860637,
          "variable": "EDA"
         },
         {
          "mets": "q8",
          "value": 0.06633842164006515,
          "variable": "EDA"
         },
         {
          "mets": "q8h2",
          "value": 0.010096412306274283,
          "variable": "EDA"
         },
         {
          "mets": "r5p",
          "value": 0.006318279266275262,
          "variable": "EDA"
         },
         {
          "mets": "ru5p-D",
          "value": 0.010028253594317794,
          "variable": "EDA"
         },
         {
          "mets": "s7p",
          "value": 0.002464294535170582,
          "variable": "EDA"
         },
         {
          "mets": "succ",
          "value": -0.03321893759374099,
          "variable": "EDA"
         },
         {
          "mets": "succoa",
          "value": -0.001653446923770849,
          "variable": "EDA"
         },
         {
          "mets": "xu5p-D",
          "value": 0.034065024718792664,
          "variable": "EDA"
         },
         {
          "mets": "13dpg",
          "value": -0.12527469982435602,
          "variable": "PGI"
         },
         {
          "mets": "2ddg6p",
          "value": 0.003509320355204564,
          "variable": "PGI"
         },
         {
          "mets": "2dhglcn",
          "value": 0.0966610398485333,
          "variable": "PGI"
         },
         {
          "mets": "2dhglcn p",
          "value": 0.13507484656996516,
          "variable": "PGI"
         },
         {
          "mets": "2pg",
          "value": -0.07654612466142122,
          "variable": "PGI"
         },
         {
          "mets": "3pg",
          "value": -0.11474846954058718,
          "variable": "PGI"
         },
         {
          "mets": "6p2dhglcn",
          "value": 0.028828729101787562,
          "variable": "PGI"
         },
         {
          "mets": "6pgc",
          "value": 0.027671923824435313,
          "variable": "PGI"
         },
         {
          "mets": "6pgl",
          "value": 0.2180321972122266,
          "variable": "PGI"
         },
         {
          "mets": "accoa",
          "value": -0.005241867366107792,
          "variable": "PGI"
         },
         {
          "mets": "acon C",
          "value": -0.03805043194689493,
          "variable": "PGI"
         },
         {
          "mets": "adp",
          "value": -0.03263570416953519,
          "variable": "PGI"
         },
         {
          "mets": "akg",
          "value": 0.028771992692515087,
          "variable": "PGI"
         },
         {
          "mets": "atp",
          "value": 0.004702752455140178,
          "variable": "PGI"
         },
         {
          "mets": "cit",
          "value": -0.0049674557150447395,
          "variable": "PGI"
         },
         {
          "mets": "coa",
          "value": 0.05743204378535777,
          "variable": "PGI"
         },
         {
          "mets": "dhap",
          "value": -0.24287635464647853,
          "variable": "PGI"
         },
         {
          "mets": "e4p",
          "value": 0.021326446358585757,
          "variable": "PGI"
         },
         {
          "mets": "f6p",
          "value": -0.6019807551271448,
          "variable": "PGI"
         },
         {
          "mets": "fdp",
          "value": -0.4942157256276604,
          "variable": "PGI"
         },
         {
          "mets": "fuc",
          "value": 0.013821286987205639,
          "variable": "PGI"
         },
         {
          "mets": "g3p",
          "value": -0.14343569336585021,
          "variable": "PGI"
         },
         {
          "mets": "g6p",
          "value": 0.07771508923575576,
          "variable": "PGI"
         },
         {
          "mets": "glc-D",
          "value": 0.0385365725033662,
          "variable": "PGI"
         },
         {
          "mets": "glc-D p",
          "value": -4.517379331772984e-06,
          "variable": "PGI"
         },
         {
          "mets": "glcn",
          "value": 0.06120561989397008,
          "variable": "PGI"
         },
         {
          "mets": "glcn p",
          "value": 0.06392413261753793,
          "variable": "PGI"
         },
         {
          "mets": "icit",
          "value": -0.12418533782833707,
          "variable": "PGI"
         },
         {
          "mets": "mal-L",
          "value": 0.0016039063780887556,
          "variable": "PGI"
         },
         {
          "mets": "malcoa",
          "value": 0.02521012606208653,
          "variable": "PGI"
         },
         {
          "mets": "nad",
          "value": -0.05666737547539656,
          "variable": "PGI"
         },
         {
          "mets": "nadh",
          "value": -0.050182329917271035,
          "variable": "PGI"
         },
         {
          "mets": "nadp",
          "value": 0.10351288445199287,
          "variable": "PGI"
         },
         {
          "mets": "nadph",
          "value": 0.0611321894003088,
          "variable": "PGI"
         },
         {
          "mets": "oaa",
          "value": 0.011810722228623434,
          "variable": "PGI"
         },
         {
          "mets": "pep",
          "value": 0.050023873067891696,
          "variable": "PGI"
         },
         {
          "mets": "pyr",
          "value": 0.01198498361941086,
          "variable": "PGI"
         },
         {
          "mets": "q8",
          "value": 0.17845633591475885,
          "variable": "PGI"
         },
         {
          "mets": "q8h2",
          "value": 0.0748744102153776,
          "variable": "PGI"
         },
         {
          "mets": "r5p",
          "value": 0.012451581629765868,
          "variable": "PGI"
         },
         {
          "mets": "ru5p-D",
          "value": 0.026354757702895262,
          "variable": "PGI"
         },
         {
          "mets": "s7p",
          "value": -0.1267413841065701,
          "variable": "PGI"
         },
         {
          "mets": "succ",
          "value": -0.1030384751544362,
          "variable": "PGI"
         },
         {
          "mets": "succoa",
          "value": 0.03104511781123039,
          "variable": "PGI"
         },
         {
          "mets": "xu5p-D",
          "value": -0.08427617652796794,
          "variable": "PGI"
         },
         {
          "mets": "13dpg",
          "value": -0.012876677652499365,
          "variable": "FBP"
         },
         {
          "mets": "2ddg6p",
          "value": -0.008900370598406171,
          "variable": "FBP"
         },
         {
          "mets": "2dhglcn",
          "value": 0.00235240996749462,
          "variable": "FBP"
         },
         {
          "mets": "2dhglcn p",
          "value": 0.0036033408685978135,
          "variable": "FBP"
         },
         {
          "mets": "2pg",
          "value": -0.006510860522957542,
          "variable": "FBP"
         },
         {
          "mets": "3pg",
          "value": -0.009059270728426246,
          "variable": "FBP"
         },
         {
          "mets": "6p2dhglcn",
          "value": 0.0002782787683847938,
          "variable": "FBP"
         },
         {
          "mets": "6pgc",
          "value": 0.0006411335860248095,
          "variable": "FBP"
         },
         {
          "mets": "6pgl",
          "value": 0.0068379268546309565,
          "variable": "FBP"
         },
         {
          "mets": "accoa",
          "value": -3.339898115230951e-05,
          "variable": "FBP"
         },
         {
          "mets": "acon C",
          "value": -0.0016965666620911946,
          "variable": "FBP"
         },
         {
          "mets": "adp",
          "value": -0.00045943876767280434,
          "variable": "FBP"
         },
         {
          "mets": "akg",
          "value": 7.914930170321448e-05,
          "variable": "FBP"
         },
         {
          "mets": "atp",
          "value": -0.00011200214913924402,
          "variable": "FBP"
         },
         {
          "mets": "cit",
          "value": -0.0005584380986862886,
          "variable": "FBP"
         },
         {
          "mets": "coa",
          "value": 0.0014335469086710901,
          "variable": "FBP"
         },
         {
          "mets": "dhap",
          "value": -0.028250218282327797,
          "variable": "FBP"
         },
         {
          "mets": "e4p",
          "value": -0.00223783830946805,
          "variable": "FBP"
         },
         {
          "mets": "f6p",
          "value": 0.04992289368997512,
          "variable": "FBP"
         },
         {
          "mets": "fdp",
          "value": -0.058520244684962294,
          "variable": "FBP"
         },
         {
          "mets": "fuc",
          "value": -5.5367316960496004e-05,
          "variable": "FBP"
         },
         {
          "mets": "g3p",
          "value": -0.020928740418115363,
          "variable": "FBP"
         },
         {
          "mets": "g6p",
          "value": 0.0010123947878507098,
          "variable": "FBP"
         },
         {
          "mets": "glc-D",
          "value": 0.000504785273244128,
          "variable": "FBP"
         },
         {
          "mets": "glc-D p",
          "value": 3.038043180958476e-06,
          "variable": "FBP"
         },
         {
          "mets": "glcn",
          "value": 0.00156356873280851,
          "variable": "FBP"
         },
         {
          "mets": "glcn p",
          "value": 0.001462982269686643,
          "variable": "FBP"
         },
         {
          "mets": "icit",
          "value": -0.005245003584251985,
          "variable": "FBP"
         },
         {
          "mets": "mal-L",
          "value": -0.0006975989856167948,
          "variable": "FBP"
         },
         {
          "mets": "malcoa",
          "value": 0.00029023362228712915,
          "variable": "FBP"
         },
         {
          "mets": "nad",
          "value": -0.000819083549683167,
          "variable": "FBP"
         },
         {
          "mets": "nadh",
          "value": -0.0019131372721517626,
          "variable": "FBP"
         },
         {
          "mets": "nadp",
          "value": 0.0035009579345732698,
          "variable": "FBP"
         },
         {
          "mets": "nadph",
          "value": 0.0014789088181803478,
          "variable": "FBP"
         },
         {
          "mets": "oaa",
          "value": -0.0002229333182222983,
          "variable": "FBP"
         },
         {
          "mets": "pep",
          "value": 5.6739928376626124e-05,
          "variable": "FBP"
         },
         {
          "mets": "pyr",
          "value": -0.00021923578224900187,
          "variable": "FBP"
         },
         {
          "mets": "q8",
          "value": 0.004587053777680376,
          "variable": "FBP"
         },
         {
          "mets": "q8h2",
          "value": 0.0015006371441204625,
          "variable": "FBP"
         },
         {
          "mets": "r5p",
          "value": 6.577984862215979e-05,
          "variable": "FBP"
         },
         {
          "mets": "ru5p-D",
          "value": 2.1576366636118876e-05,
          "variable": "FBP"
         },
         {
          "mets": "s7p",
          "value": 0.03791249411279584,
          "variable": "FBP"
         },
         {
          "mets": "succ",
          "value": -0.002602749412438918,
          "variable": "FBP"
         },
         {
          "mets": "succoa",
          "value": 0.00046444302737536915,
          "variable": "FBP"
         },
         {
          "mets": "xu5p-D",
          "value": 0.003670377611234752,
          "variable": "FBP"
         },
         {
          "mets": "13dpg",
          "value": -0.015698394684804585,
          "variable": "FBA"
         },
         {
          "mets": "2ddg6p",
          "value": -0.01973917525562256,
          "variable": "FBA"
         },
         {
          "mets": "2dhglcn",
          "value": 0.00044789538944767617,
          "variable": "FBA"
         },
         {
          "mets": "2dhglcn p",
          "value": 0.000109682421894072,
          "variable": "FBA"
         },
         {
          "mets": "2pg",
          "value": -0.006989722297249511,
          "variable": "FBA"
         },
         {
          "mets": "3pg",
          "value": -0.009059669141244828,
          "variable": "FBA"
         },
         {
          "mets": "6p2dhglcn",
          "value": 0.0006414912665534685,
          "variable": "FBA"
         },
         {
          "mets": "6pgc",
          "value": 0.0002705912652697216,
          "variable": "FBA"
         },
         {
          "mets": "6pgl",
          "value": 0.002130881925491334,
          "variable": "FBA"
         },
         {
          "mets": "accoa",
          "value": 5.1360336587761646e-05,
          "variable": "FBA"
         },
         {
          "mets": "acon C",
          "value": -0.0007780517700177853,
          "variable": "FBA"
         },
         {
          "mets": "adp",
          "value": 0.00019326861325375598,
          "variable": "FBA"
         },
         {
          "mets": "akg",
          "value": -0.000992600516895379,
          "variable": "FBA"
         },
         {
          "mets": "atp",
          "value": -5.559540064502845e-05,
          "variable": "FBA"
         },
         {
          "mets": "cit",
          "value": -0.0005414823208906667,
          "variable": "FBA"
         },
         {
          "mets": "coa",
          "value": -0.0003684298511842861,
          "variable": "FBA"
         },
         {
          "mets": "dhap",
          "value": -0.03752374848557319,
          "variable": "FBA"
         },
         {
          "mets": "e4p",
          "value": -0.002078499866838379,
          "variable": "FBA"
         },
         {
          "mets": "f6p",
          "value": 0.03487729441587478,
          "variable": "FBA"
         },
         {
          "mets": "fdp",
          "value": 0.03809474256495875,
          "variable": "FBA"
         },
         {
          "mets": "fuc",
          "value": -0.0005472698887208342,
          "variable": "FBA"
         },
         {
          "mets": "g3p",
          "value": -0.030905239560744303,
          "variable": "FBA"
         },
         {
          "mets": "g6p",
          "value": -0.00027097346505116146,
          "variable": "FBA"
         },
         {
          "mets": "glc-D",
          "value": -0.0001301018801245336,
          "variable": "FBA"
         },
         {
          "mets": "glc-D p",
          "value": 1.2048876335732754e-05,
          "variable": "FBA"
         },
         {
          "mets": "glcn",
          "value": 0.0001331368950413614,
          "variable": "FBA"
         },
         {
          "mets": "glcn p",
          "value": 2.34814032670903e-05,
          "variable": "FBA"
         },
         {
          "mets": "icit",
          "value": -0.0014904624010366428,
          "variable": "FBA"
         },
         {
          "mets": "mal-L",
          "value": -0.0014536284332998042,
          "variable": "FBA"
         },
         {
          "mets": "malcoa",
          "value": -0.00017122072494870624,
          "variable": "FBA"
         },
         {
          "mets": "nad",
          "value": 0.0015425760482809337,
          "variable": "FBA"
         },
         {
          "mets": "nadh",
          "value": -0.0004540283809796441,
          "variable": "FBA"
         },
         {
          "mets": "nadp",
          "value": 0.0010911982323195976,
          "variable": "FBA"
         },
         {
          "mets": "nadph",
          "value": -0.0002661151499037664,
          "variable": "FBA"
         },
         {
          "mets": "oaa",
          "value": -0.0010529493167547091,
          "variable": "FBA"
         },
         {
          "mets": "pep",
          "value": -0.0014469921286115002,
          "variable": "FBA"
         },
         {
          "mets": "pyr",
          "value": -0.0010443443567975921,
          "variable": "FBA"
         },
         {
          "mets": "q8",
          "value": 1.740332862185239e-06,
          "variable": "FBA"
         },
         {
          "mets": "q8h2",
          "value": -0.00015106750036073332,
          "variable": "FBA"
         },
         {
          "mets": "r5p",
          "value": 5.1572147656915385e-06,
          "variable": "FBA"
         },
         {
          "mets": "ru5p-D",
          "value": -3.366121560634155e-05,
          "variable": "FBA"
         },
         {
          "mets": "s7p",
          "value": 0.04103798886276571,
          "variable": "FBA"
         },
         {
          "mets": "succ",
          "value": -0.00017531364691261367,
          "variable": "FBA"
         },
         {
          "mets": "succoa",
          "value": -0.0001759319251055089,
          "variable": "FBA"
         },
         {
          "mets": "xu5p-D",
          "value": 0.001480230721471511,
          "variable": "FBA"
         },
         {
          "mets": "13dpg",
          "value": -0.018602969929547006,
          "variable": "TPI"
         },
         {
          "mets": "2ddg6p",
          "value": -0.02764045190597765,
          "variable": "TPI"
         },
         {
          "mets": "2dhglcn",
          "value": -1.7879806074787105e-05,
          "variable": "TPI"
         },
         {
          "mets": "2dhglcn p",
          "value": -0.0008328611916354918,
          "variable": "TPI"
         },
         {
          "mets": "2pg",
          "value": -0.007988606977865548,
          "variable": "TPI"
         },
         {
          "mets": "3pg",
          "value": -0.009968622696787641,
          "variable": "TPI"
         },
         {
          "mets": "6p2dhglcn",
          "value": 0.0007779055460625536,
          "variable": "TPI"
         },
         {
          "mets": "6pgc",
          "value": 0.0001322610186541806,
          "variable": "TPI"
         },
         {
          "mets": "6pgl",
          "value": 0.0006660909734205983,
          "variable": "TPI"
         },
         {
          "mets": "accoa",
          "value": 0.00013114269632667606,
          "variable": "TPI"
         },
         {
          "mets": "acon C",
          "value": -0.000526969954934604,
          "variable": "TPI"
         },
         {
          "mets": "adp",
          "value": 0.0006146780453650692,
          "variable": "TPI"
         },
         {
          "mets": "akg",
          "value": -0.0017675599841901588,
          "variable": "TPI"
         },
         {
          "mets": "atp",
          "value": -3.925250436115292e-05,
          "variable": "TPI"
         },
         {
          "mets": "cit",
          "value": -0.0005617088056714801,
          "variable": "TPI"
         },
         {
          "mets": "coa",
          "value": -0.0013341988343611197,
          "variable": "TPI"
         },
         {
          "mets": "dhap",
          "value": 0.07949398686316245,
          "variable": "TPI"
         },
         {
          "mets": "e4p",
          "value": -0.002189170193512986,
          "variable": "TPI"
         },
         {
          "mets": "f6p",
          "value": 0.028460307296519567,
          "variable": "TPI"
         },
         {
          "mets": "fdp",
          "value": 0.03148635777483633,
          "variable": "TPI"
         },
         {
          "mets": "fuc",
          "value": -0.000902166805910172,
          "variable": "TPI"
         },
         {
          "mets": "g3p",
          "value": -0.040027487316552764,
          "variable": "TPI"
         },
         {
          "mets": "g6p",
          "value": -0.001171359338807144,
          "variable": "TPI"
         },
         {
          "mets": "glc-D",
          "value": -0.0005730142230392587,
          "variable": "TPI"
         },
         {
          "mets": "glc-D p",
          "value": 1.544259446178775e-05,
          "variable": "TPI"
         },
         {
          "mets": "glcn",
          "value": -0.00018997777915175313,
          "variable": "TPI"
         },
         {
          "mets": "glcn p",
          "value": -0.0003216099647194646,
          "variable": "TPI"
         },
         {
          "mets": "icit",
          "value": -0.0003885607172185318,
          "variable": "TPI"
         },
         {
          "mets": "mal-L",
          "value": -0.0020841129940893915,
          "variable": "TPI"
         },
         {
          "mets": "malcoa",
          "value": -0.0005007682995621923,
          "variable": "TPI"
         },
         {
          "mets": "nad",
          "value": 0.0034603586952988113,
          "variable": "TPI"
         },
         {
          "mets": "nadh",
          "value": -5.6491444792794446e-05,
          "variable": "TPI"
         },
         {
          "mets": "nadp",
          "value": 0.0004659712898985974,
          "variable": "TPI"
         },
         {
          "mets": "nadph",
          "value": -0.0011033699480801707,
          "variable": "TPI"
         },
         {
          "mets": "oaa",
          "value": -0.0015533859248647707,
          "variable": "TPI"
         },
         {
          "mets": "pep",
          "value": -0.002582130960605892,
          "variable": "TPI"
         },
         {
          "mets": "pyr",
          "value": -0.001543330427101489,
          "variable": "TPI"
         },
         {
          "mets": "q8",
          "value": -0.0015321606990964004,
          "variable": "TPI"
         },
         {
          "mets": "q8h2",
          "value": -0.0009014888111317312,
          "variable": "TPI"
         },
         {
          "mets": "r5p",
          "value": -2.3411938791776674e-05,
          "variable": "TPI"
         },
         {
          "mets": "ru5p-D",
          "value": -0.00010458504214073157,
          "variable": "TPI"
         },
         {
          "mets": "s7p",
          "value": 0.04584110269162611,
          "variable": "TPI"
         },
         {
          "mets": "succ",
          "value": 0.00041709674388488516,
          "variable": "TPI"
         },
         {
          "mets": "succoa",
          "value": -0.0005936131249698734,
          "variable": "TPI"
         },
         {
          "mets": "xu5p-D",
          "value": 0.0006646950113816523,
          "variable": "TPI"
         },
         {
          "mets": "13dpg",
          "value": 0.8436130879060326,
          "variable": "GAPD NAD"
         },
         {
          "mets": "2ddg6p",
          "value": -0.14030769288573947,
          "variable": "GAPD NAD"
         },
         {
          "mets": "2dhglcn",
          "value": 0.03709453245517365,
          "variable": "GAPD NAD"
         },
         {
          "mets": "2dhglcn p",
          "value": 0.10115458932446311,
          "variable": "GAPD NAD"
         },
         {
          "mets": "2pg",
          "value": 0.3966227649074205,
          "variable": "GAPD NAD"
         },
         {
          "mets": "3pg",
          "value": 0.45660022322502625,
          "variable": "GAPD NAD"
         },
         {
          "mets": "6p2dhglcn",
          "value": -0.0261885327247527,
          "variable": "GAPD NAD"
         },
         {
          "mets": "6pgc",
          "value": 0.017211019789120232,
          "variable": "GAPD NAD"
         },
         {
          "mets": "6pgl",
          "value": 0.1434452806952657,
          "variable": "GAPD NAD"
         },
         {
          "mets": "accoa",
          "value": -0.09013298083670616,
          "variable": "GAPD NAD"
         },
         {
          "mets": "acon C",
          "value": -0.06244904755212926,
          "variable": "GAPD NAD"
         },
         {
          "mets": "adp",
          "value": -0.03919952187735162,
          "variable": "GAPD NAD"
         },
         {
          "mets": "akg",
          "value": 0.1941790185079531,
          "variable": "GAPD NAD"
         },
         {
          "mets": "atp",
          "value": 0.021739050863966276,
          "variable": "GAPD NAD"
         },
         {
          "mets": "cit",
          "value": 0.001201252776020762,
          "variable": "GAPD NAD"
         },
         {
          "mets": "coa",
          "value": 0.1709671339962605,
          "variable": "GAPD NAD"
         },
         {
          "mets": "dhap",
          "value": -0.4017446792722578,
          "variable": "GAPD NAD"
         },
         {
          "mets": "e4p",
          "value": -0.0031650255259021666,
          "variable": "GAPD NAD"
         },
         {
          "mets": "f6p",
          "value": -0.7474700206732443,
          "variable": "GAPD NAD"
         },
         {
          "mets": "fdp",
          "value": -0.821714242904096,
          "variable": "GAPD NAD"
         },
         {
          "mets": "fuc",
          "value": 0.048013241310727026,
          "variable": "GAPD NAD"
         },
         {
          "mets": "g3p",
          "value": -0.49213256258743066,
          "variable": "GAPD NAD"
         },
         {
          "mets": "g6p",
          "value": 0.09585586916050765,
          "variable": "GAPD NAD"
         },
         {
          "mets": "glc-D",
          "value": 0.04713164271998023,
          "variable": "GAPD NAD"
         },
         {
          "mets": "glc-D p",
          "value": -0.0011251644641574582,
          "variable": "GAPD NAD"
         },
         {
          "mets": "glcn",
          "value": 0.03574537942276563,
          "variable": "GAPD NAD"
         },
         {
          "mets": "glcn p",
          "value": 0.04931700083298514,
          "variable": "GAPD NAD"
         },
         {
          "mets": "icit",
          "value": -0.23372540034459457,
          "variable": "GAPD NAD"
         },
         {
          "mets": "mal-L",
          "value": 0.10354868551080929,
          "variable": "GAPD NAD"
         },
         {
          "mets": "malcoa",
          "value": 0.03508981419332046,
          "variable": "GAPD NAD"
         },
         {
          "mets": "nad",
          "value": -0.4189643391004119,
          "variable": "GAPD NAD"
         },
         {
          "mets": "nadh",
          "value": 0.002734111442070979,
          "variable": "GAPD NAD"
         },
         {
          "mets": "nadp",
          "value": 0.11147979881157621,
          "variable": "GAPD NAD"
         },
         {
          "mets": "nadph",
          "value": 0.08762731028950871,
          "variable": "GAPD NAD"
         },
         {
          "mets": "oaa",
          "value": 0.1632220309310798,
          "variable": "GAPD NAD"
         },
         {
          "mets": "pep",
          "value": 0.23582840554127588,
          "variable": "GAPD NAD"
         },
         {
          "mets": "pyr",
          "value": 0.16374388156822245,
          "variable": "GAPD NAD"
         },
         {
          "mets": "q8",
          "value": 0.15345949112383372,
          "variable": "GAPD NAD"
         },
         {
          "mets": "q8h2",
          "value": 0.07545463064321954,
          "variable": "GAPD NAD"
         },
         {
          "mets": "r5p",
          "value": -0.015880921607659262,
          "variable": "GAPD NAD"
         },
         {
          "mets": "ru5p-D",
          "value": -0.019308381942439494,
          "variable": "GAPD NAD"
         },
         {
          "mets": "s7p",
          "value": 0.03308796789667471,
          "variable": "GAPD NAD"
         },
         {
          "mets": "succ",
          "value": -0.10017446165719647,
          "variable": "GAPD NAD"
         },
         {
          "mets": "succoa",
          "value": 0.0657246912514626,
          "variable": "GAPD NAD"
         },
         {
          "mets": "xu5p-D",
          "value": -0.17346022589560056,
          "variable": "GAPD NAD"
         },
         {
          "mets": "13dpg",
          "value": 0.482103938116096,
          "variable": "GAPD NADP"
         },
         {
          "mets": "2ddg6p",
          "value": -0.06649742563587538,
          "variable": "GAPD NADP"
         },
         {
          "mets": "2dhglcn",
          "value": 0.00043594102547793445,
          "variable": "GAPD NADP"
         },
         {
          "mets": "2dhglcn p",
          "value": 0.09344682498438833,
          "variable": "GAPD NADP"
         },
         {
          "mets": "2pg",
          "value": 0.2217244969976437,
          "variable": "GAPD NADP"
         },
         {
          "mets": "3pg",
          "value": 0.25659884795296284,
          "variable": "GAPD NADP"
         },
         {
          "mets": "6p2dhglcn",
          "value": -0.17986575494326995,
          "variable": "GAPD NADP"
         },
         {
          "mets": "6pgc",
          "value": -0.012333240077411163,
          "variable": "GAPD NADP"
         },
         {
          "mets": "6pgl",
          "value": 0.014116023383331393,
          "variable": "GAPD NADP"
         },
         {
          "mets": "accoa",
          "value": -0.038356342033036256,
          "variable": "GAPD NADP"
         },
         {
          "mets": "acon C",
          "value": 0.0316564942734716,
          "variable": "GAPD NADP"
         },
         {
          "mets": "adp",
          "value": -0.044239087544829865,
          "variable": "GAPD NADP"
         },
         {
          "mets": "akg",
          "value": 0.09137473429824201,
          "variable": "GAPD NADP"
         },
         {
          "mets": "atp",
          "value": -0.006857714640280269,
          "variable": "GAPD NADP"
         },
         {
          "mets": "cit",
          "value": 0.04163724167761808,
          "variable": "GAPD NADP"
         },
         {
          "mets": "coa",
          "value": 0.05073187784412961,
          "variable": "GAPD NADP"
         },
         {
          "mets": "dhap",
          "value": -0.2183163101285276,
          "variable": "GAPD NADP"
         },
         {
          "mets": "e4p",
          "value": -0.03169891494203199,
          "variable": "GAPD NADP"
         },
         {
          "mets": "f6p",
          "value": -0.4074489096954803,
          "variable": "GAPD NADP"
         },
         {
          "mets": "fdp",
          "value": -0.4455640641838408,
          "variable": "GAPD NADP"
         },
         {
          "mets": "fuc",
          "value": 0.05611746424160301,
          "variable": "GAPD NADP"
         },
         {
          "mets": "g3p",
          "value": -0.26437559861820703,
          "variable": "GAPD NADP"
         },
         {
          "mets": "g6p",
          "value": 0.06291180235375156,
          "variable": "GAPD NADP"
         },
         {
          "mets": "glc-D",
          "value": 0.031095844271329318,
          "variable": "GAPD NADP"
         },
         {
          "mets": "glc-D p",
          "value": -0.0005822418229691252,
          "variable": "GAPD NADP"
         },
         {
          "mets": "glcn",
          "value": 0.04626257208418169,
          "variable": "GAPD NADP"
         },
         {
          "mets": "glcn p",
          "value": 0.05075447408319695,
          "variable": "GAPD NADP"
         },
         {
          "mets": "icit",
          "value": 0.0030688748792283946,
          "variable": "GAPD NADP"
         },
         {
          "mets": "mal-L",
          "value": 0.09277572182442928,
          "variable": "GAPD NADP"
         },
         {
          "mets": "malcoa",
          "value": 0.007678771474788223,
          "variable": "GAPD NADP"
         },
         {
          "mets": "nad",
          "value": -0.12265076730587282,
          "variable": "GAPD NADP"
         },
         {
          "mets": "nadh",
          "value": -0.07264086219801888,
          "variable": "GAPD NADP"
         },
         {
          "mets": "nadp",
          "value": 0.02230536758317798,
          "variable": "GAPD NADP"
         },
         {
          "mets": "nadph",
          "value": 0.16911205251834785,
          "variable": "GAPD NADP"
         },
         {
          "mets": "oaa",
          "value": 0.08578482240411837,
          "variable": "GAPD NADP"
         },
         {
          "mets": "pep",
          "value": 0.12829532077471661,
          "variable": "GAPD NADP"
         },
         {
          "mets": "pyr",
          "value": 0.08573920262245471,
          "variable": "GAPD NADP"
         },
         {
          "mets": "q8",
          "value": 0.1422916402106052,
          "variable": "GAPD NADP"
         },
         {
          "mets": "q8h2",
          "value": 0.06382240280842152,
          "variable": "GAPD NADP"
         },
         {
          "mets": "r5p",
          "value": -0.07350332412606815,
          "variable": "GAPD NADP"
         },
         {
          "mets": "ru5p-D",
          "value": -0.11450533862602047,
          "variable": "GAPD NADP"
         },
         {
          "mets": "s7p",
          "value": -0.07999825312324073,
          "variable": "GAPD NADP"
         },
         {
          "mets": "succ",
          "value": -0.06167219591211878,
          "variable": "GAPD NADP"
         },
         {
          "mets": "succoa",
          "value": 0.03751285811927717,
          "variable": "GAPD NADP"
         },
         {
          "mets": "xu5p-D",
          "value": -0.17128451864851263,
          "variable": "GAPD NADP"
         },
         {
          "mets": "13dpg",
          "value": -1.4634099466637571,
          "variable": "PGK"
         },
         {
          "mets": "2ddg6p",
          "value": 0.006925657335947771,
          "variable": "PGK"
         },
         {
          "mets": "2dhglcn",
          "value": 0.06519271864782648,
          "variable": "PGK"
         },
         {
          "mets": "2dhglcn p",
          "value": 0.09634223426734714,
          "variable": "PGK"
         },
         {
          "mets": "2pg",
          "value": 0.24463523887939748,
          "variable": "PGK"
         },
         {
          "mets": "3pg",
          "value": 0.2754275386439703,
          "variable": "PGK"
         },
         {
          "mets": "6p2dhglcn",
          "value": 0.028193711409988893,
          "variable": "PGK"
         },
         {
          "mets": "6pgc",
          "value": 0.011996998198862567,
          "variable": "PGK"
         },
         {
          "mets": "6pgl",
          "value": 0.15323614939567431,
          "variable": "PGK"
         },
         {
          "mets": "accoa",
          "value": -0.007326862994879755,
          "variable": "PGK"
         },
         {
          "mets": "acon C",
          "value": 0.03668274298946999,
          "variable": "PGK"
         },
         {
          "mets": "adp",
          "value": -0.06665930745974763,
          "variable": "PGK"
         },
         {
          "mets": "akg",
          "value": 0.08900290604062333,
          "variable": "PGK"
         },
         {
          "mets": "atp",
          "value": -0.010441055063918493,
          "variable": "PGK"
         },
         {
          "mets": "cit",
          "value": 0.05874651831718647,
          "variable": "PGK"
         },
         {
          "mets": "coa",
          "value": 0.007622748668389212,
          "variable": "PGK"
         },
         {
          "mets": "dhap",
          "value": -0.1474563916323754,
          "variable": "PGK"
         },
         {
          "mets": "e4p",
          "value": 2.1938495025686474e-06,
          "variable": "PGK"
         },
         {
          "mets": "f6p",
          "value": -0.27101070672174765,
          "variable": "PGK"
         },
         {
          "mets": "fdp",
          "value": -0.3029715194780431,
          "variable": "PGK"
         },
         {
          "mets": "fuc",
          "value": 0.032866003602642135,
          "variable": "PGK"
         },
         {
          "mets": "g3p",
          "value": -0.1844786944230738,
          "variable": "PGK"
         },
         {
          "mets": "g6p",
          "value": 0.09751081470844769,
          "variable": "PGK"
         },
         {
          "mets": "glc-D",
          "value": 0.048164700358055014,
          "variable": "PGK"
         },
         {
          "mets": "glc-D p",
          "value": -0.0007196700695053589,
          "variable": "PGK"
         },
         {
          "mets": "glcn",
          "value": 0.038956875806318236,
          "variable": "PGK"
         },
         {
          "mets": "glcn p",
          "value": 0.042711497873342,
          "variable": "PGK"
         },
         {
          "mets": "icit",
          "value": 0.0003969316921083936,
          "variable": "PGK"
         },
         {
          "mets": "mal-L",
          "value": 0.029436107487574262,
          "variable": "PGK"
         },
         {
          "mets": "malcoa",
          "value": 0.0039053729803048623,
          "variable": "PGK"
         },
         {
          "mets": "nad",
          "value": 0.001114000390972637,
          "variable": "PGK"
         },
         {
          "mets": "nadh",
          "value": 0.018249624264926288,
          "variable": "PGK"
         },
         {
          "mets": "nadp",
          "value": 0.07229688023977984,
          "variable": "PGK"
         },
         {
          "mets": "nadph",
          "value": 0.07079429894672157,
          "variable": "PGK"
         },
         {
          "mets": "oaa",
          "value": 0.08652043519776993,
          "variable": "PGK"
         },
         {
          "mets": "pep",
          "value": 0.15594145050120917,
          "variable": "PGK"
         },
         {
          "mets": "pyr",
          "value": 0.0864189113115077,
          "variable": "PGK"
         },
         {
          "mets": "q8",
          "value": 0.13400970201162493,
          "variable": "PGK"
         },
         {
          "mets": "q8h2",
          "value": 0.10855007618467888,
          "variable": "PGK"
         },
         {
          "mets": "r5p",
          "value": -0.00010267767973497056,
          "variable": "PGK"
         },
         {
          "mets": "ru5p-D",
          "value": 0.00031363621650535634,
          "variable": "PGK"
         },
         {
          "mets": "s7p",
          "value": 0.015508995469856639,
          "variable": "PGK"
         },
         {
          "mets": "succ",
          "value": -0.008888744338275502,
          "variable": "PGK"
         },
         {
          "mets": "succoa",
          "value": 0.09464082647542077,
          "variable": "PGK"
         },
         {
          "mets": "xu5p-D",
          "value": -0.04358557711061939,
          "variable": "PGK"
         },
         {
          "mets": "13dpg",
          "value": -0.4664197409821233,
          "variable": "PGM"
         },
         {
          "mets": "2ddg6p",
          "value": 0.08534898361423711,
          "variable": "PGM"
         },
         {
          "mets": "2dhglcn",
          "value": -0.018390708768663055,
          "variable": "PGM"
         },
         {
          "mets": "2dhglcn p",
          "value": 0.000235224162944134,
          "variable": "PGM"
         },
         {
          "mets": "2pg",
          "value": 0.5931803556846855,
          "variable": "PGM"
         },
         {
          "mets": "3pg",
          "value": -1.0689629770071745,
          "variable": "PGM"
         },
         {
          "mets": "6p2dhglcn",
          "value": -0.015384972746072964,
          "variable": "PGM"
         },
         {
          "mets": "6pgc",
          "value": -0.002294646295827113,
          "variable": "PGM"
         },
         {
          "mets": "6pgl",
          "value": 0.033923465480748774,
          "variable": "PGM"
         },
         {
          "mets": "accoa",
          "value": -0.040581796752712763,
          "variable": "PGM"
         },
         {
          "mets": "acon C",
          "value": 0.11623082650415847,
          "variable": "PGM"
         },
         {
          "mets": "adp",
          "value": -0.033586570281548794,
          "variable": "PGM"
         },
         {
          "mets": "akg",
          "value": 0.17437852359096878,
          "variable": "PGM"
         },
         {
          "mets": "atp",
          "value": 0.0011547082344095113,
          "variable": "PGM"
         },
         {
          "mets": "cit",
          "value": 0.12612082295778657,
          "variable": "PGM"
         },
         {
          "mets": "coa",
          "value": -0.003949719442971738,
          "variable": "PGM"
         },
         {
          "mets": "dhap",
          "value": -0.040571105768943815,
          "variable": "PGM"
         },
         {
          "mets": "e4p",
          "value": -0.0039578116669682075,
          "variable": "PGM"
         },
         {
          "mets": "f6p",
          "value": -0.0727455052317288,
          "variable": "PGM"
         },
         {
          "mets": "fdp",
          "value": -0.08380598820446206,
          "variable": "PGM"
         },
         {
          "mets": "fuc",
          "value": 0.06369668982790896,
          "variable": "PGM"
         },
         {
          "mets": "g3p",
          "value": -0.05341283129271311,
          "variable": "PGM"
         },
         {
          "mets": "g6p",
          "value": 0.0731127650680198,
          "variable": "PGM"
         },
         {
          "mets": "glc-D",
          "value": 0.03644044355874832,
          "variable": "PGM"
         },
         {
          "mets": "glc-D p",
          "value": -0.00011349236942203176,
          "variable": "PGM"
         },
         {
          "mets": "glcn",
          "value": -0.004591730234407263,
          "variable": "PGM"
         },
         {
          "mets": "glcn p",
          "value": 0.001018202676900488,
          "variable": "PGM"
         },
         {
          "mets": "icit",
          "value": 0.1062605767951183,
          "variable": "PGM"
         },
         {
          "mets": "mal-L",
          "value": 0.08599559761161804,
          "variable": "PGM"
         },
         {
          "mets": "malcoa",
          "value": -0.009540559122538865,
          "variable": "PGM"
         },
         {
          "mets": "nad",
          "value": -0.013566071359040097,
          "variable": "PGM"
         },
         {
          "mets": "nadh",
          "value": 0.022599031031547666,
          "variable": "PGM"
         },
         {
          "mets": "nadp",
          "value": 0.010918156162817896,
          "variable": "PGM"
         },
         {
          "mets": "nadph",
          "value": 0.03373536120538073,
          "variable": "PGM"
         },
         {
          "mets": "oaa",
          "value": 0.17436256282523693,
          "variable": "PGM"
         },
         {
          "mets": "pep",
          "value": 0.21912682457307137,
          "variable": "PGM"
         },
         {
          "mets": "pyr",
          "value": 0.1746896674081408,
          "variable": "PGM"
         },
         {
          "mets": "q8",
          "value": 0.012265251403022884,
          "variable": "PGM"
         },
         {
          "mets": "q8h2",
          "value": 0.038043096709311,
          "variable": "PGM"
         },
         {
          "mets": "r5p",
          "value": -0.008616112193895492,
          "variable": "PGM"
         },
         {
          "mets": "ru5p-D",
          "value": -0.014078208683197441,
          "variable": "PGM"
         },
         {
          "mets": "s7p",
          "value": -0.004244332598110689,
          "variable": "PGM"
         },
         {
          "mets": "succ",
          "value": 0.06618868153074567,
          "variable": "PGM"
         },
         {
          "mets": "succoa",
          "value": 0.104952441214967,
          "variable": "PGM"
         },
         {
          "mets": "xu5p-D",
          "value": -0.02516540338515326,
          "variable": "PGM"
         },
         {
          "mets": "13dpg",
          "value": -0.09900819327513864,
          "variable": "ENO"
         },
         {
          "mets": "2ddg6p",
          "value": 0.08351763503635132,
          "variable": "ENO"
         },
         {
          "mets": "2dhglcn",
          "value": 0.0022740090123848904,
          "variable": "ENO"
         },
         {
          "mets": "2dhglcn p",
          "value": 0.018152139661599377,
          "variable": "ENO"
         },
         {
          "mets": "2pg",
          "value": -1.7319481460450783,
          "variable": "ENO"
         },
         {
          "mets": "3pg",
          "value": -0.40378383000949447,
          "variable": "ENO"
         },
         {
          "mets": "6p2dhglcn",
          "value": 0.025027861795359492,
          "variable": "ENO"
         },
         {
          "mets": "6pgc",
          "value": 0.007553071197068444,
          "variable": "ENO"
         },
         {
          "mets": "6pgl",
          "value": 0.08903287527407974,
          "variable": "ENO"
         },
         {
          "mets": "accoa",
          "value": -0.02736355581156258,
          "variable": "ENO"
         },
         {
          "mets": "acon C",
          "value": 0.08053257507543554,
          "variable": "ENO"
         },
         {
          "mets": "adp",
          "value": 0.007030065470677126,
          "variable": "ENO"
         },
         {
          "mets": "akg",
          "value": 0.07824754638483616,
          "variable": "ENO"
         },
         {
          "mets": "atp",
          "value": 0.03671345194553487,
          "variable": "ENO"
         },
         {
          "mets": "cit",
          "value": 0.09096026539962272,
          "variable": "ENO"
         },
         {
          "mets": "coa",
          "value": -0.029673044621729247,
          "variable": "ENO"
         },
         {
          "mets": "dhap",
          "value": -0.011721278116097859,
          "variable": "ENO"
         },
         {
          "mets": "e4p",
          "value": 0.0021673030065078066,
          "variable": "ENO"
         },
         {
          "mets": "f6p",
          "value": -0.019712891894994203,
          "variable": "ENO"
         },
         {
          "mets": "fdp",
          "value": -0.024732633891698035,
          "variable": "ENO"
         },
         {
          "mets": "fuc",
          "value": 0.037891551774434165,
          "variable": "ENO"
         },
         {
          "mets": "g3p",
          "value": -0.01728032900852461,
          "variable": "ENO"
         },
         {
          "mets": "g6p",
          "value": 0.05787089353601649,
          "variable": "ENO"
         },
         {
          "mets": "glc-D",
          "value": 0.028624803065808134,
          "variable": "ENO"
         },
         {
          "mets": "glc-D p",
          "value": -0.00024893795303670854,
          "variable": "ENO"
         },
         {
          "mets": "glcn",
          "value": -0.007873710338610913,
          "variable": "ENO"
         },
         {
          "mets": "glcn p",
          "value": 0.006728294632796094,
          "variable": "ENO"
         },
         {
          "mets": "icit",
          "value": 0.06282024632170483,
          "variable": "ENO"
         },
         {
          "mets": "mal-L",
          "value": 0.0318405273483277,
          "variable": "ENO"
         },
         {
          "mets": "malcoa",
          "value": -0.00557193211185243,
          "variable": "ENO"
         },
         {
          "mets": "nad",
          "value": 0.05420755648226294,
          "variable": "ENO"
         },
         {
          "mets": "nadh",
          "value": 0.010737650064633808,
          "variable": "ENO"
         },
         {
          "mets": "nadp",
          "value": 0.03486604067084661,
          "variable": "ENO"
         },
         {
          "mets": "nadph",
          "value": 0.02034744697622927,
          "variable": "ENO"
         },
         {
          "mets": "oaa",
          "value": 0.10869398580001896,
          "variable": "ENO"
         },
         {
          "mets": "pep",
          "value": 0.146104811136628,
          "variable": "ENO"
         },
         {
          "mets": "pyr",
          "value": 0.10859306107244895,
          "variable": "ENO"
         },
         {
          "mets": "q8",
          "value": 0.033685465284172295,
          "variable": "ENO"
         },
         {
          "mets": "q8h2",
          "value": 0.011203125377668745,
          "variable": "ENO"
         },
         {
          "mets": "r5p",
          "value": 0.006149600152484593,
          "variable": "ENO"
         },
         {
          "mets": "ru5p-D",
          "value": 0.010192859376154176,
          "variable": "ENO"
         },
         {
          "mets": "s7p",
          "value": 0.013576886330756373,
          "variable": "ENO"
         },
         {
          "mets": "succ",
          "value": 0.01859087176759508,
          "variable": "ENO"
         },
         {
          "mets": "succoa",
          "value": 0.04722686576220778,
          "variable": "ENO"
         },
         {
          "mets": "xu5p-D",
          "value": 0.00262246184353945,
          "variable": "ENO"
         },
         {
          "mets": "13dpg",
          "value": 0.00027289495055897277,
          "variable": "PYK"
         },
         {
          "mets": "2ddg6p",
          "value": 0.0008158824938745314,
          "variable": "PYK"
         },
         {
          "mets": "2dhglcn",
          "value": -0.0006315781837042691,
          "variable": "PYK"
         },
         {
          "mets": "2dhglcn p",
          "value": -0.0002914814147430198,
          "variable": "PYK"
         },
         {
          "mets": "2pg",
          "value": -0.0008855018827025535,
          "variable": "PYK"
         },
         {
          "mets": "3pg",
          "value": -0.0001842978360345241,
          "variable": "PYK"
         },
         {
          "mets": "6p2dhglcn",
          "value": -3.4786926514613724e-05,
          "variable": "PYK"
         },
         {
          "mets": "6pgc",
          "value": 1.1072319302966925e-05,
          "variable": "PYK"
         },
         {
          "mets": "6pgl",
          "value": 0.00024285804672085417,
          "variable": "PYK"
         },
         {
          "mets": "accoa",
          "value": -0.000539736721827338,
          "variable": "PYK"
         },
         {
          "mets": "acon C",
          "value": 0.00039532573496418866,
          "variable": "PYK"
         },
         {
          "mets": "adp",
          "value": -0.00030774203762197336,
          "variable": "PYK"
         },
         {
          "mets": "akg",
          "value": 0.0004927301521577826,
          "variable": "PYK"
         },
         {
          "mets": "atp",
          "value": 0.0002205161731339343,
          "variable": "PYK"
         },
         {
          "mets": "cit",
          "value": 0.00027155130906625466,
          "variable": "PYK"
         },
         {
          "mets": "coa",
          "value": -0.00033888364516404697,
          "variable": "PYK"
         },
         {
          "mets": "dhap",
          "value": 0.0002740377963945261,
          "variable": "PYK"
         },
         {
          "mets": "e4p",
          "value": -1.676614904785887e-06,
          "variable": "PYK"
         },
         {
          "mets": "f6p",
          "value": 0.0005849260905830941,
          "variable": "PYK"
         },
         {
          "mets": "fdp",
          "value": 0.0005597258866340513,
          "variable": "PYK"
         },
         {
          "mets": "fuc",
          "value": 9.64472495965575e-05,
          "variable": "PYK"
         },
         {
          "mets": "g3p",
          "value": 0.00025337732731932393,
          "variable": "PYK"
         },
         {
          "mets": "g6p",
          "value": 0.0015312059855740767,
          "variable": "PYK"
         },
         {
          "mets": "glc-D",
          "value": 0.0007669867780475677,
          "variable": "PYK"
         },
         {
          "mets": "glc-D p",
          "value": -9.98059439203843e-08,
          "variable": "PYK"
         },
         {
          "mets": "glcn",
          "value": -0.0003102166181580625,
          "variable": "PYK"
         },
         {
          "mets": "glcn p",
          "value": -7.437179476031357e-05,
          "variable": "PYK"
         },
         {
          "mets": "icit",
          "value": 0.0007283012831886544,
          "variable": "PYK"
         },
         {
          "mets": "mal-L",
          "value": 0.0003328261424170328,
          "variable": "PYK"
         },
         {
          "mets": "malcoa",
          "value": -7.631726223502331e-05,
          "variable": "PYK"
         },
         {
          "mets": "nad",
          "value": -0.00012903000090148958,
          "variable": "PYK"
         },
         {
          "mets": "nadh",
          "value": 0.0001607643169481932,
          "variable": "PYK"
         },
         {
          "mets": "nadp",
          "value": -0.00037544712634845313,
          "variable": "PYK"
         },
         {
          "mets": "nadph",
          "value": -1.983155004719077e-05,
          "variable": "PYK"
         },
         {
          "mets": "oaa",
          "value": 0.0007657548128842771,
          "variable": "PYK"
         },
         {
          "mets": "pep",
          "value": -0.005141395350401633,
          "variable": "PYK"
         },
         {
          "mets": "pyr",
          "value": 0.0008435141315193801,
          "variable": "PYK"
         },
         {
          "mets": "q8",
          "value": -0.00012696782288880288,
          "variable": "PYK"
         },
         {
          "mets": "q8h2",
          "value": 0.0001498069765370083,
          "variable": "PYK"
         },
         {
          "mets": "r5p",
          "value": 8.578870943752305e-07,
          "variable": "PYK"
         },
         {
          "mets": "ru5p-D",
          "value": 3.233323570206859e-07,
          "variable": "PYK"
         },
         {
          "mets": "s7p",
          "value": 2.985367362140303e-05,
          "variable": "PYK"
         },
         {
          "mets": "succ",
          "value": 0.0002775245819420849,
          "variable": "PYK"
         },
         {
          "mets": "succoa",
          "value": 0.00030857014198384025,
          "variable": "PYK"
         },
         {
          "mets": "xu5p-D",
          "value": 8.195231292438832e-05,
          "variable": "PYK"
         },
         {
          "mets": "13dpg",
          "value": -0.08388646785562855,
          "variable": "PDH"
         },
         {
          "mets": "2ddg6p",
          "value": -0.4422339612160605,
          "variable": "PDH"
         },
         {
          "mets": "2dhglcn",
          "value": -0.08390844474315892,
          "variable": "PDH"
         },
         {
          "mets": "2dhglcn p",
          "value": 0.025855212395967084,
          "variable": "PDH"
         },
         {
          "mets": "2pg",
          "value": -0.2558318388502092,
          "variable": "PDH"
         },
         {
          "mets": "3pg",
          "value": -0.09616596808599785,
          "variable": "PDH"
         },
         {
          "mets": "6p2dhglcn",
          "value": -0.2513118777567045,
          "variable": "PDH"
         },
         {
          "mets": "6pgc",
          "value": -0.027757341471311796,
          "variable": "PDH"
         },
         {
          "mets": "6pgl",
          "value": 0.07706845828601752,
          "variable": "PDH"
         },
         {
          "mets": "accoa",
          "value": 1.5059770545525153,
          "variable": "PDH"
         },
         {
          "mets": "acon C",
          "value": 0.5799091417511939,
          "variable": "PDH"
         },
         {
          "mets": "adp",
          "value": -0.020658600970072667,
          "variable": "PDH"
         },
         {
          "mets": "akg",
          "value": 1.2101491543712921,
          "variable": "PDH"
         },
         {
          "mets": "atp",
          "value": 0.027125077667949,
          "variable": "PDH"
         },
         {
          "mets": "cit",
          "value": 0.639945638517819,
          "variable": "PDH"
         },
         {
          "mets": "coa",
          "value": -1.0372153028352877,
          "variable": "PDH"
         },
         {
          "mets": "dhap",
          "value": 0.19733443605255405,
          "variable": "PDH"
         },
         {
          "mets": "e4p",
          "value": -0.036876031014300266,
          "variable": "PDH"
         },
         {
          "mets": "f6p",
          "value": 0.3721793320416743,
          "variable": "PDH"
         },
         {
          "mets": "fdp",
          "value": 0.4039823974527495,
          "variable": "PDH"
         },
         {
          "mets": "fuc",
          "value": -0.04224535796851104,
          "variable": "PDH"
         },
         {
          "mets": "g3p",
          "value": 0.23316289408242946,
          "variable": "PDH"
         },
         {
          "mets": "g6p",
          "value": 0.10584401306184715,
          "variable": "PDH"
         },
         {
          "mets": "glc-D",
          "value": 0.052965841952346,
          "variable": "PDH"
         },
         {
          "mets": "glc-D p",
          "value": -2.5978577085857414e-05,
          "variable": "PDH"
         },
         {
          "mets": "glcn",
          "value": 0.002266768216186315,
          "variable": "PDH"
         },
         {
          "mets": "glcn p",
          "value": 0.01914299497298918,
          "variable": "PDH"
         },
         {
          "mets": "icit",
          "value": 0.5157047150433324,
          "variable": "PDH"
         },
         {
          "mets": "mal-L",
          "value": -0.15165751079250137,
          "variable": "PDH"
         },
         {
          "mets": "malcoa",
          "value": 0.4635961541138012,
          "variable": "PDH"
         },
         {
          "mets": "nad",
          "value": -0.362401650312259,
          "variable": "PDH"
         },
         {
          "mets": "nadh",
          "value": 0.06605082636362755,
          "variable": "PDH"
         },
         {
          "mets": "nadp",
          "value": 0.17552499204816452,
          "variable": "PDH"
         },
         {
          "mets": "nadph",
          "value": 0.256011910960619,
          "variable": "PDH"
         },
         {
          "mets": "oaa",
          "value": -0.9993370606229488,
          "variable": "PDH"
         },
         {
          "mets": "pep",
          "value": -0.9350489027732571,
          "variable": "PDH"
         },
         {
          "mets": "pyr",
          "value": -0.9969297995452784,
          "variable": "PDH"
         },
         {
          "mets": "q8",
          "value": 0.07952791464377762,
          "variable": "PDH"
         },
         {
          "mets": "q8h2",
          "value": 0.06330384735992933,
          "variable": "PDH"
         },
         {
          "mets": "r5p",
          "value": -0.08754678760733617,
          "variable": "PDH"
         },
         {
          "mets": "ru5p-D",
          "value": -0.14616248311538105,
          "variable": "PDH"
         },
         {
          "mets": "s7p",
          "value": -0.14737237032548992,
          "variable": "PDH"
         },
         {
          "mets": "succ",
          "value": -0.009553257227251684,
          "variable": "PDH"
         },
         {
          "mets": "succoa",
          "value": -0.3781453342620654,
          "variable": "PDH"
         },
         {
          "mets": "xu5p-D",
          "value": -0.006110803031186442,
          "variable": "PDH"
         },
         {
          "mets": "13dpg",
          "value": 0.0004084125358168601,
          "variable": "OAADC"
         },
         {
          "mets": "2ddg6p",
          "value": -0.0012596025464900865,
          "variable": "OAADC"
         },
         {
          "mets": "2dhglcn",
          "value": -0.0006626972397662201,
          "variable": "OAADC"
         },
         {
          "mets": "2dhglcn p",
          "value": -0.0002617145552341626,
          "variable": "OAADC"
         },
         {
          "mets": "2pg",
          "value": -0.00024776121476965837,
          "variable": "OAADC"
         },
         {
          "mets": "3pg",
          "value": -3.9125992110743685e-05,
          "variable": "OAADC"
         },
         {
          "mets": "6p2dhglcn",
          "value": -0.00015456325524862045,
          "variable": "OAADC"
         },
         {
          "mets": "6pgc",
          "value": 1.5134208206817778e-05,
          "variable": "OAADC"
         },
         {
          "mets": "6pgl",
          "value": 0.000379804888203976,
          "variable": "OAADC"
         },
         {
          "mets": "accoa",
          "value": -0.003447914529056405,
          "variable": "OAADC"
         },
         {
          "mets": "acon C",
          "value": 0.0006221197163364867,
          "variable": "OAADC"
         },
         {
          "mets": "adp",
          "value": -0.00021320531634614338,
          "variable": "OAADC"
         },
         {
          "mets": "akg",
          "value": 0.00041687434787253776,
          "variable": "OAADC"
         },
         {
          "mets": "atp",
          "value": 0.00025358545401209785,
          "variable": "OAADC"
         },
         {
          "mets": "cit",
          "value": 0.0005179889511340299,
          "variable": "OAADC"
         },
         {
          "mets": "coa",
          "value": 0.00019125532802482015,
          "variable": "OAADC"
         },
         {
          "mets": "dhap",
          "value": 0.00033369290432847855,
          "variable": "OAADC"
         },
         {
          "mets": "e4p",
          "value": -5.7537970038243775e-06,
          "variable": "OAADC"
         },
         {
          "mets": "f6p",
          "value": 0.0006924783493206885,
          "variable": "OAADC"
         },
         {
          "mets": "fdp",
          "value": 0.0006827576273330518,
          "variable": "OAADC"
         },
         {
          "mets": "fuc",
          "value": 0.0003276066595690316,
          "variable": "OAADC"
         },
         {
          "mets": "g3p",
          "value": 0.0003290603249277328,
          "variable": "OAADC"
         },
         {
          "mets": "g6p",
          "value": 0.0013384674540173845,
          "variable": "OAADC"
         },
         {
          "mets": "glc-D",
          "value": 0.0006694092468383079,
          "variable": "OAADC"
         },
         {
          "mets": "glc-D p",
          "value": -2.208120792859591e-07,
          "variable": "OAADC"
         },
         {
          "mets": "glcn",
          "value": -0.00029939069512378597,
          "variable": "OAADC"
         },
         {
          "mets": "glcn p",
          "value": -5.8255007730625565e-05,
          "variable": "OAADC"
         },
         {
          "mets": "icit",
          "value": 0.0008284128071190319,
          "variable": "OAADC"
         },
         {
          "mets": "mal-L",
          "value": 0.0005467005713765598,
          "variable": "OAADC"
         },
         {
          "mets": "malcoa",
          "value": -0.0009297149353963763,
          "variable": "OAADC"
         },
         {
          "mets": "nad",
          "value": -4.400275766103102e-05,
          "variable": "OAADC"
         },
         {
          "mets": "nadh",
          "value": 3.041945739683135e-05,
          "variable": "OAADC"
         },
         {
          "mets": "nadp",
          "value": -0.00020779096346956082,
          "variable": "OAADC"
         },
         {
          "mets": "nadph",
          "value": 3.491098914219188e-05,
          "variable": "OAADC"
         },
         {
          "mets": "oaa",
          "value": 0.004199487448732906,
          "variable": "OAADC"
         },
         {
          "mets": "pep",
          "value": -0.0014769619420910453,
          "variable": "OAADC"
         },
         {
          "mets": "pyr",
          "value": -0.0027447828292778216,
          "variable": "OAADC"
         },
         {
          "mets": "q8",
          "value": -9.792208654840243e-05,
          "variable": "OAADC"
         },
         {
          "mets": "q8h2",
          "value": 0.00010279315767164166,
          "variable": "OAADC"
         },
         {
          "mets": "r5p",
          "value": -7.597213920027902e-06,
          "variable": "OAADC"
         },
         {
          "mets": "ru5p-D",
          "value": -1.573550582239149e-05,
          "variable": "OAADC"
         },
         {
          "mets": "s7p",
          "value": 4.804153363884563e-06,
          "variable": "OAADC"
         },
         {
          "mets": "succ",
          "value": 0.0005741536721466803,
          "variable": "OAADC"
         },
         {
          "mets": "succoa",
          "value": 0.0011929749858774468,
          "variable": "OAADC"
         },
         {
          "mets": "xu5p-D",
          "value": 7.047354975006645e-05,
          "variable": "OAADC"
         },
         {
          "mets": "13dpg",
          "value": 0.00029717796643695144,
          "variable": "PPC"
         },
         {
          "mets": "2ddg6p",
          "value": 8.186630960432286e-05,
          "variable": "PPC"
         },
         {
          "mets": "2dhglcn",
          "value": -0.0005276517632899675,
          "variable": "PPC"
         },
         {
          "mets": "2dhglcn p",
          "value": -0.0003520577438665364,
          "variable": "PPC"
         },
         {
          "mets": "2pg",
          "value": 7.260923546943171e-05,
          "variable": "PPC"
         },
         {
          "mets": "3pg",
          "value": -1.1426046200445913e-05,
          "variable": "PPC"
         },
         {
          "mets": "6p2dhglcn",
          "value": -8.19875669755808e-05,
          "variable": "PPC"
         },
         {
          "mets": "6pgc",
          "value": 1.2571136165084337e-05,
          "variable": "PPC"
         },
         {
          "mets": "6pgl",
          "value": 0.00019520310514601605,
          "variable": "PPC"
         },
         {
          "mets": "accoa",
          "value": -0.00011534983245322392,
          "variable": "PPC"
         },
         {
          "mets": "acon C",
          "value": -3.114015323603673e-05,
          "variable": "PPC"
         },
         {
          "mets": "adp",
          "value": -0.0002668723633329938,
          "variable": "PPC"
         },
         {
          "mets": "akg",
          "value": -1.9689632482474903e-05,
          "variable": "PPC"
         },
         {
          "mets": "atp",
          "value": 0.00017483266674870929,
          "variable": "PPC"
         },
         {
          "mets": "cit",
          "value": -0.00011226758726965774,
          "variable": "PPC"
         },
         {
          "mets": "coa",
          "value": -0.00014530590157061664,
          "variable": "PPC"
         },
         {
          "mets": "dhap",
          "value": 0.00017272055104081542,
          "variable": "PPC"
         },
         {
          "mets": "e4p",
          "value": 1.8884018139018272e-07,
          "variable": "PPC"
         },
         {
          "mets": "f6p",
          "value": 0.00036692929634511565,
          "variable": "PPC"
         },
         {
          "mets": "fdp",
          "value": 0.00035034499162782656,
          "variable": "PPC"
         },
         {
          "mets": "fuc",
          "value": -0.00010143220604671036,
          "variable": "PPC"
         },
         {
          "mets": "g3p",
          "value": 0.00016106912603143172,
          "variable": "PPC"
         },
         {
          "mets": "g6p",
          "value": 0.0009490462286619305,
          "variable": "PPC"
         },
         {
          "mets": "glc-D",
          "value": 0.0004736853919842303,
          "variable": "PPC"
         },
         {
          "mets": "glc-D p",
          "value": 1.583425038191052e-08,
          "variable": "PPC"
         },
         {
          "mets": "glcn",
          "value": -0.00027966277408380104,
          "variable": "PPC"
         },
         {
          "mets": "glcn p",
          "value": -0.0001174099782146528,
          "variable": "PPC"
         },
         {
          "mets": "icit",
          "value": 0.0001632682132206331,
          "variable": "PPC"
         },
         {
          "mets": "mal-L",
          "value": -9.05662645182325e-06,
          "variable": "PPC"
         },
         {
          "mets": "malcoa",
          "value": 6.137995530884152e-05,
          "variable": "PPC"
         },
         {
          "mets": "nad",
          "value": -0.00014423725065975992,
          "variable": "PPC"
         },
         {
          "mets": "nadh",
          "value": 0.00011579011899047394,
          "variable": "PPC"
         },
         {
          "mets": "nadp",
          "value": -0.00032021918690751307,
          "variable": "PPC"
         },
         {
          "mets": "nadph",
          "value": -8.351268446837653e-05,
          "variable": "PPC"
         },
         {
          "mets": "oaa",
          "value": -4.110364175752542e-05,
          "variable": "PPC"
         },
         {
          "mets": "pep",
          "value": 0.0005048455391830452,
          "variable": "PPC"
         },
         {
          "mets": "pyr",
          "value": -8.622767458288589e-06,
          "variable": "PPC"
         },
         {
          "mets": "q8",
          "value": -0.0003022070472235163,
          "variable": "PPC"
         },
         {
          "mets": "q8h2",
          "value": 6.944046904183944e-05,
          "variable": "PPC"
         },
         {
          "mets": "r5p",
          "value": 7.4539438656871784e-06,
          "variable": "PPC"
         },
         {
          "mets": "ru5p-D",
          "value": 1.0419919057024029e-05,
          "variable": "PPC"
         },
         {
          "mets": "s7p",
          "value": 4.585055087198708e-05,
          "variable": "PPC"
         },
         {
          "mets": "succ",
          "value": 0.00011703918472793612,
          "variable": "PPC"
         },
         {
          "mets": "succoa",
          "value": 0.0001005279167210357,
          "variable": "PPC"
         },
         {
          "mets": "xu5p-D",
          "value": 7.968233107451728e-05,
          "variable": "PPC"
         },
         {
          "mets": "13dpg",
          "value": 0.015119522171076271,
          "variable": "ME2 NADP"
         },
         {
          "mets": "2ddg6p",
          "value": 0.045123388191352684,
          "variable": "ME2 NADP"
         },
         {
          "mets": "2dhglcn",
          "value": -0.02729412057017009,
          "variable": "ME2 NADP"
         },
         {
          "mets": "2dhglcn p",
          "value": 0.013904787607196257,
          "variable": "ME2 NADP"
         },
         {
          "mets": "2pg",
          "value": 0.019266212315777416,
          "variable": "ME2 NADP"
         },
         {
          "mets": "3pg",
          "value": 0.0009287917050344437,
          "variable": "ME2 NADP"
         },
         {
          "mets": "6p2dhglcn",
          "value": -0.09688704771972312,
          "variable": "ME2 NADP"
         },
         {
          "mets": "6pgc",
          "value": -0.020081388150434597,
          "variable": "ME2 NADP"
         },
         {
          "mets": "6pgl",
          "value": -0.09640294507992082,
          "variable": "ME2 NADP"
         },
         {
          "mets": "accoa",
          "value": 0.03410927530148273,
          "variable": "ME2 NADP"
         },
         {
          "mets": "acon C",
          "value": 0.12535647407157843,
          "variable": "ME2 NADP"
         },
         {
          "mets": "adp",
          "value": -0.017849842247400067,
          "variable": "ME2 NADP"
         },
         {
          "mets": "akg",
          "value": 0.0012869505331519595,
          "variable": "ME2 NADP"
         },
         {
          "mets": "atp",
          "value": 0.003363131889803297,
          "variable": "ME2 NADP"
         },
         {
          "mets": "cit",
          "value": 0.10792537618216154,
          "variable": "ME2 NADP"
         },
         {
          "mets": "coa",
          "value": 0.0672906393955863,
          "variable": "ME2 NADP"
         },
         {
          "mets": "dhap",
          "value": 0.00035276728664855833,
          "variable": "ME2 NADP"
         },
         {
          "mets": "e4p",
          "value": -0.023772849429065296,
          "variable": "ME2 NADP"
         },
         {
          "mets": "f6p",
          "value": 0.001733214496806345,
          "variable": "ME2 NADP"
         },
         {
          "mets": "fdp",
          "value": 0.0005455467024932687,
          "variable": "ME2 NADP"
         },
         {
          "mets": "fuc",
          "value": -0.44931465879814575,
          "variable": "ME2 NADP"
         },
         {
          "mets": "g3p",
          "value": -0.0007510386356074679,
          "variable": "ME2 NADP"
         },
         {
          "mets": "g6p",
          "value": 0.04826857896413986,
          "variable": "ME2 NADP"
         },
         {
          "mets": "glc-D",
          "value": 0.02397422405990128,
          "variable": "ME2 NADP"
         },
         {
          "mets": "glc-D p",
          "value": 3.823752811428773e-05,
          "variable": "ME2 NADP"
         },
         {
          "mets": "glcn",
          "value": 0.004314437363292294,
          "variable": "ME2 NADP"
         },
         {
          "mets": "glcn p",
          "value": 0.009954771541446441,
          "variable": "ME2 NADP"
         },
         {
          "mets": "icit",
          "value": 0.17708572484775587,
          "variable": "ME2 NADP"
         },
         {
          "mets": "mal-L",
          "value": -0.9798087813843971,
          "variable": "ME2 NADP"
         },
         {
          "mets": "malcoa",
          "value": 0.045071417874548415,
          "variable": "ME2 NADP"
         },
         {
          "mets": "nad",
          "value": 0.027246919020290028,
          "variable": "ME2 NADP"
         },
         {
          "mets": "nadh",
          "value": 0.0034446428695563596,
          "variable": "ME2 NADP"
         },
         {
          "mets": "nadp",
          "value": -0.07535060590606824,
          "variable": "ME2 NADP"
         },
         {
          "mets": "nadph",
          "value": 0.08135689227297241,
          "variable": "ME2 NADP"
         },
         {
          "mets": "oaa",
          "value": 0.0716642789272722,
          "variable": "ME2 NADP"
         },
         {
          "mets": "pep",
          "value": 0.09584331900021334,
          "variable": "ME2 NADP"
         },
         {
          "mets": "pyr",
          "value": 0.07241786979134153,
          "variable": "ME2 NADP"
         },
         {
          "mets": "q8",
          "value": 0.033870349652132925,
          "variable": "ME2 NADP"
         },
         {
          "mets": "q8h2",
          "value": 0.03591161167696123,
          "variable": "ME2 NADP"
         },
         {
          "mets": "r5p",
          "value": -0.05533403396405441,
          "variable": "ME2 NADP"
         },
         {
          "mets": "ru5p-D",
          "value": -0.08964932269876952,
          "variable": "ME2 NADP"
         },
         {
          "mets": "s7p",
          "value": -0.07372723070773887,
          "variable": "ME2 NADP"
         },
         {
          "mets": "succ",
          "value": -0.18506567972161342,
          "variable": "ME2 NADP"
         },
         {
          "mets": "succoa",
          "value": 0.03712036273683862,
          "variable": "ME2 NADP"
         },
         {
          "mets": "xu5p-D",
          "value": -0.05966145720848447,
          "variable": "ME2 NADP"
         },
         {
          "mets": "13dpg",
          "value": -0.0013471082453120316,
          "variable": "ME2 NAD"
         },
         {
          "mets": "2ddg6p",
          "value": 0.0014380517950930963,
          "variable": "ME2 NAD"
         },
         {
          "mets": "2dhglcn",
          "value": -0.0001255363222315503,
          "variable": "ME2 NAD"
         },
         {
          "mets": "2dhglcn p",
          "value": -0.0011397549410006127,
          "variable": "ME2 NAD"
         },
         {
          "mets": "2pg",
          "value": 4.387143452571261e-06,
          "variable": "ME2 NAD"
         },
         {
          "mets": "3pg",
          "value": -0.0007206387699894153,
          "variable": "ME2 NAD"
         },
         {
          "mets": "6p2dhglcn",
          "value": 0.004546464814586155,
          "variable": "ME2 NAD"
         },
         {
          "mets": "6pgc",
          "value": 0.00025471521771716773,
          "variable": "ME2 NAD"
         },
         {
          "mets": "6pgl",
          "value": -0.00027466169378838063,
          "variable": "ME2 NAD"
         },
         {
          "mets": "accoa",
          "value": 0.0010734632675398416,
          "variable": "ME2 NAD"
         },
         {
          "mets": "acon C",
          "value": 0.001175948472341585,
          "variable": "ME2 NAD"
         },
         {
          "mets": "adp",
          "value": 0.00039230973105809674,
          "variable": "ME2 NAD"
         },
         {
          "mets": "akg",
          "value": 0.00032436009613345687,
          "variable": "ME2 NAD"
         },
         {
          "mets": "atp",
          "value": 0.0009709956466255932,
          "variable": "ME2 NAD"
         },
         {
          "mets": "cit",
          "value": 0.001599508571434959,
          "variable": "ME2 NAD"
         },
         {
          "mets": "coa",
          "value": 0.004648145688532134,
          "variable": "ME2 NAD"
         },
         {
          "mets": "dhap",
          "value": 0.0003172714125013231,
          "variable": "ME2 NAD"
         },
         {
          "mets": "e4p",
          "value": 0.00039276751657467255,
          "variable": "ME2 NAD"
         },
         {
          "mets": "f6p",
          "value": 0.0006792671805996415,
          "variable": "ME2 NAD"
         },
         {
          "mets": "fdp",
          "value": 0.0006446884951878133,
          "variable": "ME2 NAD"
         },
         {
          "mets": "fuc",
          "value": -0.01838854118140402,
          "variable": "ME2 NAD"
         },
         {
          "mets": "g3p",
          "value": 0.00028549461126447243,
          "variable": "ME2 NAD"
         },
         {
          "mets": "g6p",
          "value": 0.001214678794008371,
          "variable": "ME2 NAD"
         },
         {
          "mets": "glc-D",
          "value": 0.0006092343985265518,
          "variable": "ME2 NAD"
         },
         {
          "mets": "glc-D p",
          "value": 2.1311588725208633e-06,
          "variable": "ME2 NAD"
         },
         {
          "mets": "glcn",
          "value": -0.0011475976500137128,
          "variable": "ME2 NAD"
         },
         {
          "mets": "glcn p",
          "value": -0.0005501560365823176,
          "variable": "ME2 NAD"
         },
         {
          "mets": "icit",
          "value": 0.00027867799437110175,
          "variable": "ME2 NAD"
         },
         {
          "mets": "mal-L",
          "value": -0.037408282344221624,
          "variable": "ME2 NAD"
         },
         {
          "mets": "malcoa",
          "value": 0.0023595468889500686,
          "variable": "ME2 NAD"
         },
         {
          "mets": "nad",
          "value": -0.0032310751671481225,
          "variable": "ME2 NAD"
         },
         {
          "mets": "nadh",
          "value": 0.003923978094877537,
          "variable": "ME2 NAD"
         },
         {
          "mets": "nadp",
          "value": -0.0008023424693271051,
          "variable": "ME2 NAD"
         },
         {
          "mets": "nadph",
          "value": -0.002999091393793413,
          "variable": "ME2 NAD"
         },
         {
          "mets": "oaa",
          "value": 0.002590503947888205,
          "variable": "ME2 NAD"
         },
         {
          "mets": "pep",
          "value": 0.0032771051749270275,
          "variable": "ME2 NAD"
         },
         {
          "mets": "pyr",
          "value": 0.0026487591965833343,
          "variable": "ME2 NAD"
         },
         {
          "mets": "q8",
          "value": -0.001542747362995823,
          "variable": "ME2 NAD"
         },
         {
          "mets": "q8h2",
          "value": 0.0002171035347159876,
          "variable": "ME2 NAD"
         },
         {
          "mets": "r5p",
          "value": 0.0009452442025505872,
          "variable": "ME2 NAD"
         },
         {
          "mets": "ru5p-D",
          "value": 0.0015824049773575635,
          "variable": "ME2 NAD"
         },
         {
          "mets": "s7p",
          "value": 0.001380442551652726,
          "variable": "ME2 NAD"
         },
         {
          "mets": "succ",
          "value": -0.005860695085279484,
          "variable": "ME2 NAD"
         },
         {
          "mets": "succoa",
          "value": 0.0013320917299328222,
          "variable": "ME2 NAD"
         },
         {
          "mets": "xu5p-D",
          "value": 0.001087049633952967,
          "variable": "ME2 NAD"
         },
         {
          "mets": "13dpg",
          "value": -0.02736843147141757,
          "variable": "MDH NAD"
         },
         {
          "mets": "2ddg6p",
          "value": 0.028466768654659184,
          "variable": "MDH NAD"
         },
         {
          "mets": "2dhglcn",
          "value": -0.0031413366697823786,
          "variable": "MDH NAD"
         },
         {
          "mets": "2dhglcn p",
          "value": -0.02381057418148018,
          "variable": "MDH NAD"
         },
         {
          "mets": "2pg",
          "value": -0.00013984056366032546,
          "variable": "MDH NAD"
         },
         {
          "mets": "3pg",
          "value": -0.014864387681518033,
          "variable": "MDH NAD"
         },
         {
          "mets": "6p2dhglcn",
          "value": 0.0928849793648142,
          "variable": "MDH NAD"
         },
         {
          "mets": "6pgc",
          "value": 0.0053015113848834654,
          "variable": "MDH NAD"
         },
         {
          "mets": "6pgl",
          "value": -0.0052693006167238154,
          "variable": "MDH NAD"
         },
         {
          "mets": "accoa",
          "value": 0.01990004604204821,
          "variable": "MDH NAD"
         },
         {
          "mets": "acon C",
          "value": 0.02447824414681471,
          "variable": "MDH NAD"
         },
         {
          "mets": "adp",
          "value": 0.007801400009685421,
          "variable": "MDH NAD"
         },
         {
          "mets": "akg",
          "value": 0.007209170240931132,
          "variable": "MDH NAD"
         },
         {
          "mets": "atp",
          "value": 0.020301091256889316,
          "variable": "MDH NAD"
         },
         {
          "mets": "cit",
          "value": 0.033015907369692274,
          "variable": "MDH NAD"
         },
         {
          "mets": "coa",
          "value": 0.09581029513475836,
          "variable": "MDH NAD"
         },
         {
          "mets": "dhap",
          "value": 0.006762857799537173,
          "variable": "MDH NAD"
         },
         {
          "mets": "e4p",
          "value": 0.008003066778451154,
          "variable": "MDH NAD"
         },
         {
          "mets": "f6p",
          "value": 0.014640905968578928,
          "variable": "MDH NAD"
         },
         {
          "mets": "fdp",
          "value": 0.013727524159910864,
          "variable": "MDH NAD"
         },
         {
          "mets": "fuc",
          "value": -0.3787579474324708,
          "variable": "MDH NAD"
         },
         {
          "mets": "g3p",
          "value": 0.0060739770806918746,
          "variable": "MDH NAD"
         },
         {
          "mets": "g6p",
          "value": 0.02632881620502863,
          "variable": "MDH NAD"
         },
         {
          "mets": "glc-D",
          "value": 0.013206551857125513,
          "variable": "MDH NAD"
         },
         {
          "mets": "glc-D p",
          "value": 4.323088365560448e-05,
          "variable": "MDH NAD"
         },
         {
          "mets": "glcn",
          "value": -0.024189584382400826,
          "variable": "MDH NAD"
         },
         {
          "mets": "glcn p",
          "value": -0.011328119130577356,
          "variable": "MDH NAD"
         },
         {
          "mets": "icit",
          "value": 0.0061680887078182905,
          "variable": "MDH NAD"
         },
         {
          "mets": "mal-L",
          "value": -0.7644620301418268,
          "variable": "MDH NAD"
         },
         {
          "mets": "malcoa",
          "value": 0.0474798483930564,
          "variable": "MDH NAD"
         },
         {
          "mets": "nad",
          "value": -0.06723889159744348,
          "variable": "MDH NAD"
         },
         {
          "mets": "nadh",
          "value": 0.08046874430582673,
          "variable": "MDH NAD"
         },
         {
          "mets": "nadp",
          "value": -0.016779419284009472,
          "variable": "MDH NAD"
         },
         {
          "mets": "nadph",
          "value": -0.061440460613743045,
          "variable": "MDH NAD"
         },
         {
          "mets": "oaa",
          "value": 0.05546019198734161,
          "variable": "MDH NAD"
         },
         {
          "mets": "pep",
          "value": 0.0663517048307436,
          "variable": "MDH NAD"
         },
         {
          "mets": "pyr",
          "value": 0.05278057881578119,
          "variable": "MDH NAD"
         },
         {
          "mets": "q8",
          "value": -0.03185992176897669,
          "variable": "MDH NAD"
         },
         {
          "mets": "q8h2",
          "value": 0.004541280511494657,
          "variable": "MDH NAD"
         },
         {
          "mets": "r5p",
          "value": 0.019773526946803344,
          "variable": "MDH NAD"
         },
         {
          "mets": "ru5p-D",
          "value": 0.032475832396313596,
          "variable": "MDH NAD"
         },
         {
          "mets": "s7p",
          "value": 0.028490521766194196,
          "variable": "MDH NAD"
         },
         {
          "mets": "succ",
          "value": -0.12018659702258724,
          "variable": "MDH NAD"
         },
         {
          "mets": "succoa",
          "value": 0.028440506730168125,
          "variable": "MDH NAD"
         },
         {
          "mets": "xu5p-D",
          "value": 0.022667702704480857,
          "variable": "MDH NAD"
         },
         {
          "mets": "13dpg",
          "value": 0.0003018051683194242,
          "variable": "MDH NADP"
         },
         {
          "mets": "2ddg6p",
          "value": 0.0008465645368513063,
          "variable": "MDH NADP"
         },
         {
          "mets": "2dhglcn",
          "value": -0.0005429767805009862,
          "variable": "MDH NADP"
         },
         {
          "mets": "2dhglcn p",
          "value": 0.0002638586385280829,
          "variable": "MDH NADP"
         },
         {
          "mets": "2pg",
          "value": 0.0003627484390866582,
          "variable": "MDH NADP"
         },
         {
          "mets": "3pg",
          "value": 1.4956753601144294e-05,
          "variable": "MDH NADP"
         },
         {
          "mets": "6p2dhglcn",
          "value": -0.0018691686188965146,
          "variable": "MDH NADP"
         },
         {
          "mets": "6pgc",
          "value": -0.0003869046086387408,
          "variable": "MDH NADP"
         },
         {
          "mets": "6pgl",
          "value": -0.0018475076327592941,
          "variable": "MDH NADP"
         },
         {
          "mets": "accoa",
          "value": 0.000605216104442204,
          "variable": "MDH NADP"
         },
         {
          "mets": "acon C",
          "value": 0.0024373755026412787,
          "variable": "MDH NADP"
         },
         {
          "mets": "adp",
          "value": -0.000350029329348143,
          "variable": "MDH NADP"
         },
         {
          "mets": "akg",
          "value": 3.459278026581563e-05,
          "variable": "MDH NADP"
         },
         {
          "mets": "atp",
          "value": 7.254313595040472e-05,
          "variable": "MDH NADP"
         },
         {
          "mets": "cit",
          "value": 0.0020893761935637965,
          "variable": "MDH NADP"
         },
         {
          "mets": "coa",
          "value": 0.0013103549667254377,
          "variable": "MDH NADP"
         },
         {
          "mets": "dhap",
          "value": 1.581201811875175e-05,
          "variable": "MDH NADP"
         },
         {
          "mets": "e4p",
          "value": -0.00045638057237398506,
          "variable": "MDH NADP"
         },
         {
          "mets": "f6p",
          "value": 4.6428572641028844e-05,
          "variable": "MDH NADP"
         },
         {
          "mets": "fdp",
          "value": 2.790890783121012e-05,
          "variable": "MDH NADP"
         },
         {
          "mets": "fuc",
          "value": -0.008631416299170733,
          "variable": "MDH NADP"
         },
         {
          "mets": "g3p",
          "value": -7.310573671510192e-06,
          "variable": "MDH NADP"
         },
         {
          "mets": "g6p",
          "value": 0.0009646326537521666,
          "variable": "MDH NADP"
         },
         {
          "mets": "glc-D",
          "value": 0.0004791547845171086,
          "variable": "MDH NADP"
         },
         {
          "mets": "glc-D p",
          "value": 7.418677809734787e-07,
          "variable": "MDH NADP"
         },
         {
          "mets": "glcn",
          "value": 7.334092466253746e-05,
          "variable": "MDH NADP"
         },
         {
          "mets": "glcn p",
          "value": 0.00019093519578948306,
          "variable": "MDH NADP"
         },
         {
          "mets": "icit",
          "value": 0.003440199538055775,
          "variable": "MDH NADP"
         },
         {
          "mets": "mal-L",
          "value": -0.018973519684762623,
          "variable": "MDH NADP"
         },
         {
          "mets": "malcoa",
          "value": 0.0008565024163477612,
          "variable": "MDH NADP"
         },
         {
          "mets": "nad",
          "value": 0.0005335609006095315,
          "variable": "MDH NADP"
         },
         {
          "mets": "nadh",
          "value": 6.857380802426323e-05,
          "variable": "MDH NADP"
         },
         {
          "mets": "nadp",
          "value": -0.0014468082330960784,
          "variable": "MDH NADP"
         },
         {
          "mets": "nadph",
          "value": 0.0015684825361738479,
          "variable": "MDH NADP"
         },
         {
          "mets": "oaa",
          "value": 0.0014429654663195232,
          "variable": "MDH NADP"
         },
         {
          "mets": "pep",
          "value": 0.0018333498282693216,
          "variable": "MDH NADP"
         },
         {
          "mets": "pyr",
          "value": 0.001364011509052818,
          "variable": "MDH NADP"
         },
         {
          "mets": "q8",
          "value": 0.0006521457766425116,
          "variable": "MDH NADP"
         },
         {
          "mets": "q8h2",
          "value": 0.0006924223733545704,
          "variable": "MDH NADP"
         },
         {
          "mets": "r5p",
          "value": -0.0010722004445706027,
          "variable": "MDH NADP"
         },
         {
          "mets": "ru5p-D",
          "value": -0.0017356759795389856,
          "variable": "MDH NADP"
         },
         {
          "mets": "s7p",
          "value": -0.0014242489001560104,
          "variable": "MDH NADP"
         },
         {
          "mets": "succ",
          "value": -0.003564638189885732,
          "variable": "MDH NADP"
         },
         {
          "mets": "succoa",
          "value": 0.0007461892307333074,
          "variable": "MDH NADP"
         },
         {
          "mets": "xu5p-D",
          "value": -0.0011427142942184642,
          "variable": "MDH NADP"
         },
         {
          "mets": "13dpg",
          "value": 0.024463877683160495,
          "variable": "FUM"
         },
         {
          "mets": "2ddg6p",
          "value": -0.01140871306533393,
          "variable": "FUM"
         },
         {
          "mets": "2dhglcn",
          "value": -0.0055067711056302135,
          "variable": "FUM"
         },
         {
          "mets": "2dhglcn p",
          "value": -0.024070480513596518,
          "variable": "FUM"
         },
         {
          "mets": "2pg",
          "value": 0.002695256585536769,
          "variable": "FUM"
         },
         {
          "mets": "3pg",
          "value": 0.007809213796345247,
          "variable": "FUM"
         },
         {
          "mets": "6p2dhglcn",
          "value": 0.010726025523424991,
          "variable": "FUM"
         },
         {
          "mets": "6pgc",
          "value": 0.0006336678460828931,
          "variable": "FUM"
         },
         {
          "mets": "6pgl",
          "value": 0.04469366097278937,
          "variable": "FUM"
         },
         {
          "mets": "accoa",
          "value": 0.0830056184550742,
          "variable": "FUM"
         },
         {
          "mets": "acon C",
          "value": 0.008025722297619865,
          "variable": "FUM"
         },
         {
          "mets": "adp",
          "value": -0.01956000691625266,
          "variable": "FUM"
         },
         {
          "mets": "akg",
          "value": -0.057007453276564056,
          "variable": "FUM"
         },
         {
          "mets": "atp",
          "value": -0.015210216916945496,
          "variable": "FUM"
         },
         {
          "mets": "cit",
          "value": 0.017771983423108505,
          "variable": "FUM"
         },
         {
          "mets": "coa",
          "value": 0.07002744080504622,
          "variable": "FUM"
         },
         {
          "mets": "dhap",
          "value": -0.0027283958439461107,
          "variable": "FUM"
         },
         {
          "mets": "e4p",
          "value": 0.0009240934962957553,
          "variable": "FUM"
         },
         {
          "mets": "f6p",
          "value": -0.005073019418708972,
          "variable": "FUM"
         },
         {
          "mets": "fdp",
          "value": -0.005812723731373735,
          "variable": "FUM"
         },
         {
          "mets": "fuc",
          "value": -1.013324297395525,
          "variable": "FUM"
         },
         {
          "mets": "g3p",
          "value": -0.003844541156231147,
          "variable": "FUM"
         },
         {
          "mets": "g6p",
          "value": 0.0047263164173212795,
          "variable": "FUM"
         },
         {
          "mets": "glc-D",
          "value": 0.0022962939974065597,
          "variable": "FUM"
         },
         {
          "mets": "glc-D p",
          "value": -2.4272508944498196e-05,
          "variable": "FUM"
         },
         {
          "mets": "glcn",
          "value": -0.0011205574462369887,
          "variable": "FUM"
         },
         {
          "mets": "glcn p",
          "value": -0.005999997519796854,
          "variable": "FUM"
         },
         {
          "mets": "icit",
          "value": -0.005993343820800004,
          "variable": "FUM"
         },
         {
          "mets": "mal-L",
          "value": 0.15703723069280281,
          "variable": "FUM"
         },
         {
          "mets": "malcoa",
          "value": 0.05854970975222677,
          "variable": "FUM"
         },
         {
          "mets": "nad",
          "value": 0.06143199393996568,
          "variable": "FUM"
         },
         {
          "mets": "nadh",
          "value": 0.047038303807542876,
          "variable": "FUM"
         },
         {
          "mets": "nadp",
          "value": 0.033813604853466524,
          "variable": "FUM"
         },
         {
          "mets": "nadph",
          "value": 0.002241616469602848,
          "variable": "FUM"
         },
         {
          "mets": "oaa",
          "value": -0.01777523695906117,
          "variable": "FUM"
         },
         {
          "mets": "pep",
          "value": -0.014473804382881745,
          "variable": "FUM"
         },
         {
          "mets": "pyr",
          "value": -0.01788773000689229,
          "variable": "FUM"
         },
         {
          "mets": "q8",
          "value": -0.03188219962253122,
          "variable": "FUM"
         },
         {
          "mets": "q8h2",
          "value": 0.01762090732540041,
          "variable": "FUM"
         },
         {
          "mets": "r5p",
          "value": 0.002264034784569935,
          "variable": "FUM"
         },
         {
          "mets": "ru5p-D",
          "value": 0.0038807095902060776,
          "variable": "FUM"
         },
         {
          "mets": "s7p",
          "value": 0.0037815907078098563,
          "variable": "FUM"
         },
         {
          "mets": "succ",
          "value": -0.33865485888400926,
          "variable": "FUM"
         },
         {
          "mets": "succoa",
          "value": -0.006067078604845887,
          "variable": "FUM"
         },
         {
          "mets": "xu5p-D",
          "value": 0.0011695888837059446,
          "variable": "FUM"
         },
         {
          "mets": "13dpg",
          "value": 0.04924323095661182,
          "variable": "SUCDi"
         },
         {
          "mets": "2ddg6p",
          "value": -0.045617678861857455,
          "variable": "SUCDi"
         },
         {
          "mets": "2dhglcn",
          "value": -0.02312780838746223,
          "variable": "SUCDi"
         },
         {
          "mets": "2dhglcn p",
          "value": -0.09389811767374587,
          "variable": "SUCDi"
         },
         {
          "mets": "2pg",
          "value": -0.0013404818421729225,
          "variable": "SUCDi"
         },
         {
          "mets": "3pg",
          "value": 0.006617880902528661,
          "variable": "SUCDi"
         },
         {
          "mets": "6p2dhglcn",
          "value": -0.0063364266535338425,
          "variable": "SUCDi"
         },
         {
          "mets": "6pgc",
          "value": -0.005612595187738059,
          "variable": "SUCDi"
         },
         {
          "mets": "6pgl",
          "value": 0.0855815915500529,
          "variable": "SUCDi"
         },
         {
          "mets": "accoa",
          "value": 0.19118041923157508,
          "variable": "SUCDi"
         },
         {
          "mets": "acon C",
          "value": 0.01038573715556887,
          "variable": "SUCDi"
         },
         {
          "mets": "adp",
          "value": -0.11934338859754902,
          "variable": "SUCDi"
         },
         {
          "mets": "akg",
          "value": -0.12369506800982624,
          "variable": "SUCDi"
         },
         {
          "mets": "atp",
          "value": -0.13006552515818864,
          "variable": "SUCDi"
         },
         {
          "mets": "cit",
          "value": 0.03265550320145459,
          "variable": "SUCDi"
         },
         {
          "mets": "coa",
          "value": 0.15582736335500386,
          "variable": "SUCDi"
         },
         {
          "mets": "dhap",
          "value": -0.019288601448298665,
          "variable": "SUCDi"
         },
         {
          "mets": "e4p",
          "value": -0.000789831552256963,
          "variable": "SUCDi"
         },
         {
          "mets": "f6p",
          "value": -0.03783102856583158,
          "variable": "SUCDi"
         },
         {
          "mets": "fdp",
          "value": -0.03979639112581812,
          "variable": "SUCDi"
         },
         {
          "mets": "fuc",
          "value": 0.14868641888723985,
          "variable": "SUCDi"
         },
         {
          "mets": "g3p",
          "value": -0.022091660703265383,
          "variable": "SUCDi"
         },
         {
          "mets": "g6p",
          "value": -0.008620033116329869,
          "variable": "SUCDi"
         },
         {
          "mets": "glc-D",
          "value": -0.004513603055229283,
          "variable": "SUCDi"
         },
         {
          "mets": "glc-D p",
          "value": -3.6372084135161645e-06,
          "variable": "SUCDi"
         },
         {
          "mets": "glcn",
          "value": 0.016530793943049946,
          "variable": "SUCDi"
         },
         {
          "mets": "glcn p",
          "value": -0.028959839300975197,
          "variable": "SUCDi"
         },
         {
          "mets": "icit",
          "value": -0.03130485649095627,
          "variable": "SUCDi"
         },
         {
          "mets": "mal-L",
          "value": 0.1044226207346127,
          "variable": "SUCDi"
         },
         {
          "mets": "malcoa",
          "value": 0.10931959826133365,
          "variable": "SUCDi"
         },
         {
          "mets": "nad",
          "value": 0.14123530886183852,
          "variable": "SUCDi"
         },
         {
          "mets": "nadh",
          "value": 0.12299581868147401,
          "variable": "SUCDi"
         },
         {
          "mets": "nadp",
          "value": 0.10789028481118187,
          "variable": "SUCDi"
         },
         {
          "mets": "nadph",
          "value": 0.019948596547064434,
          "variable": "SUCDi"
         },
         {
          "mets": "oaa",
          "value": -0.037399843498686886,
          "variable": "SUCDi"
         },
         {
          "mets": "pep",
          "value": -0.04543200160360569,
          "variable": "SUCDi"
         },
         {
          "mets": "pyr",
          "value": -0.03727201554797976,
          "variable": "SUCDi"
         },
         {
          "mets": "q8",
          "value": -0.12927348688399137,
          "variable": "SUCDi"
         },
         {
          "mets": "q8h2",
          "value": 0.07733379222813322,
          "variable": "SUCDi"
         },
         {
          "mets": "r5p",
          "value": -0.001705390438095684,
          "variable": "SUCDi"
         },
         {
          "mets": "ru5p-D",
          "value": -0.0028424880732928906,
          "variable": "SUCDi"
         },
         {
          "mets": "s7p",
          "value": -0.002588154912151952,
          "variable": "SUCDi"
         },
         {
          "mets": "succ",
          "value": -1.2592514026385968,
          "variable": "SUCDi"
         },
         {
          "mets": "succoa",
          "value": -0.20423589971895656,
          "variable": "SUCDi"
         },
         {
          "mets": "xu5p-D",
          "value": -0.007959672754570279,
          "variable": "SUCDi"
         },
         {
          "mets": "13dpg",
          "value": 0.07949118280604153,
          "variable": "SUCOAS"
         },
         {
          "mets": "2ddg6p",
          "value": 0.0022175597585868817,
          "variable": "SUCOAS"
         },
         {
          "mets": "2dhglcn",
          "value": 0.0001664959110179537,
          "variable": "SUCOAS"
         },
         {
          "mets": "2dhglcn p",
          "value": -0.01896037271403733,
          "variable": "SUCOAS"
         },
         {
          "mets": "2pg",
          "value": 0.0047963881701375295,
          "variable": "SUCOAS"
         },
         {
          "mets": "3pg",
          "value": 0.007921933532065148,
          "variable": "SUCOAS"
         },
         {
          "mets": "6p2dhglcn",
          "value": 0.005758925114937738,
          "variable": "SUCOAS"
         },
         {
          "mets": "6pgc",
          "value": -0.003207908169141291,
          "variable": "SUCOAS"
         },
         {
          "mets": "6pgl",
          "value": 0.06945921481253584,
          "variable": "SUCOAS"
         },
         {
          "mets": "accoa",
          "value": 0.28566793265892426,
          "variable": "SUCOAS"
         },
         {
          "mets": "acon C",
          "value": 0.02660683880529141,
          "variable": "SUCOAS"
         },
         {
          "mets": "adp",
          "value": -0.14023876567101878,
          "variable": "SUCOAS"
         },
         {
          "mets": "akg",
          "value": -0.23145411882918593,
          "variable": "SUCOAS"
         },
         {
          "mets": "atp",
          "value": -0.09927177067826586,
          "variable": "SUCOAS"
         },
         {
          "mets": "cit",
          "value": 0.05446889439700059,
          "variable": "SUCOAS"
         },
         {
          "mets": "coa",
          "value": 0.3601380151511333,
          "variable": "SUCOAS"
         },
         {
          "mets": "dhap",
          "value": 0.020444724612823022,
          "variable": "SUCOAS"
         },
         {
          "mets": "e4p",
          "value": -0.002940438919740645,
          "variable": "SUCOAS"
         },
         {
          "mets": "f6p",
          "value": 0.04106786119982231,
          "variable": "SUCOAS"
         },
         {
          "mets": "fdp",
          "value": 0.04174352331749552,
          "variable": "SUCOAS"
         },
         {
          "mets": "fuc",
          "value": 0.151000891484957,
          "variable": "SUCOAS"
         },
         {
          "mets": "g3p",
          "value": 0.02143962286782977,
          "variable": "SUCOAS"
         },
         {
          "mets": "g6p",
          "value": 0.06175123772805814,
          "variable": "SUCOAS"
         },
         {
          "mets": "glc-D",
          "value": 0.030738003668839733,
          "variable": "SUCOAS"
         },
         {
          "mets": "glc-D p",
          "value": -3.750503930918586e-05,
          "variable": "SUCOAS"
         },
         {
          "mets": "glcn",
          "value": 0.019930315551501425,
          "variable": "SUCOAS"
         },
         {
          "mets": "glcn p",
          "value": -0.0030526192067523994,
          "variable": "SUCOAS"
         },
         {
          "mets": "icit",
          "value": -0.023300756561666858,
          "variable": "SUCOAS"
         },
         {
          "mets": "mal-L",
          "value": 0.07931320749785531,
          "variable": "SUCOAS"
         },
         {
          "mets": "malcoa",
          "value": 0.24464849109044848,
          "variable": "SUCOAS"
         },
         {
          "mets": "nad",
          "value": 0.07581630695404754,
          "variable": "SUCOAS"
         },
         {
          "mets": "nadh",
          "value": 0.11429995644474483,
          "variable": "SUCOAS"
         },
         {
          "mets": "nadp",
          "value": 0.05671068523482517,
          "variable": "SUCOAS"
         },
         {
          "mets": "nadph",
          "value": 0.039632735104524856,
          "variable": "SUCOAS"
         },
         {
          "mets": "oaa",
          "value": -0.03451371242796345,
          "variable": "SUCOAS"
         },
         {
          "mets": "pep",
          "value": -0.0058352618967966435,
          "variable": "SUCOAS"
         },
         {
          "mets": "pyr",
          "value": -0.03472216375859813,
          "variable": "SUCOAS"
         },
         {
          "mets": "q8",
          "value": -0.019674235847646875,
          "variable": "SUCOAS"
         },
         {
          "mets": "q8h2",
          "value": 0.1437311748238077,
          "variable": "SUCOAS"
         },
         {
          "mets": "r5p",
          "value": -0.006476307145236727,
          "variable": "SUCOAS"
         },
         {
          "mets": "ru5p-D",
          "value": -0.01110893901892504,
          "variable": "SUCOAS"
         },
         {
          "mets": "s7p",
          "value": -0.008244165458911126,
          "variable": "SUCOAS"
         },
         {
          "mets": "succ",
          "value": 0.46096981179907043,
          "variable": "SUCOAS"
         },
         {
          "mets": "succoa",
          "value": -1.6436184392441497,
          "variable": "SUCOAS"
         },
         {
          "mets": "xu5p-D",
          "value": 0.0009144678684037154,
          "variable": "SUCOAS"
         },
         {
          "mets": "13dpg",
          "value": -0.01424427740571398,
          "variable": "AKGDH"
         },
         {
          "mets": "2ddg6p",
          "value": 0.23065328161444276,
          "variable": "AKGDH"
         },
         {
          "mets": "2dhglcn",
          "value": -0.13757944594475185,
          "variable": "AKGDH"
         },
         {
          "mets": "2dhglcn p",
          "value": -0.002901717718810859,
          "variable": "AKGDH"
         },
         {
          "mets": "2pg",
          "value": 0.062274669522556905,
          "variable": "AKGDH"
         },
         {
          "mets": "3pg",
          "value": -0.010674772127463476,
          "variable": "AKGDH"
         },
         {
          "mets": "6p2dhglcn",
          "value": -0.0507281097536747,
          "variable": "AKGDH"
         },
         {
          "mets": "6pgc",
          "value": -0.01568230883161547,
          "variable": "AKGDH"
         },
         {
          "mets": "6pgl",
          "value": -0.15195768012739325,
          "variable": "AKGDH"
         },
         {
          "mets": "accoa",
          "value": -0.7146140635481866,
          "variable": "AKGDH"
         },
         {
          "mets": "acon C",
          "value": -0.05780594891937199,
          "variable": "AKGDH"
         },
         {
          "mets": "adp",
          "value": 0.12472128568187914,
          "variable": "AKGDH"
         },
         {
          "mets": "akg",
          "value": -1.6650857265471988,
          "variable": "AKGDH"
         },
         {
          "mets": "atp",
          "value": 0.25176336514488945,
          "variable": "AKGDH"
         },
         {
          "mets": "cit",
          "value": -0.016533498940291567,
          "variable": "AKGDH"
         },
         {
          "mets": "coa",
          "value": -0.8657509137182582,
          "variable": "AKGDH"
         },
         {
          "mets": "dhap",
          "value": 0.05039899917056746,
          "variable": "AKGDH"
         },
         {
          "mets": "e4p",
          "value": -0.019681905418372087,
          "variable": "AKGDH"
         },
         {
          "mets": "f6p",
          "value": 0.10560832791718747,
          "variable": "AKGDH"
         },
         {
          "mets": "fdp",
          "value": 0.10194748486006996,
          "variable": "AKGDH"
         },
         {
          "mets": "fuc",
          "value": 0.8078546476835298,
          "variable": "AKGDH"
         },
         {
          "mets": "g3p",
          "value": 0.047519738576153575,
          "variable": "AKGDH"
         },
         {
          "mets": "g6p",
          "value": 0.24546128396758216,
          "variable": "AKGDH"
         },
         {
          "mets": "glc-D",
          "value": 0.12267627854478168,
          "variable": "AKGDH"
         },
         {
          "mets": "glc-D p",
          "value": 8.708776447900133e-05,
          "variable": "AKGDH"
         },
         {
          "mets": "glcn",
          "value": -0.1179027052112458,
          "variable": "AKGDH"
         },
         {
          "mets": "glcn p",
          "value": 0.0004198876250945646,
          "variable": "AKGDH"
         },
         {
          "mets": "icit",
          "value": -0.17754358131772274,
          "variable": "AKGDH"
         },
         {
          "mets": "mal-L",
          "value": 0.7844843576804388,
          "variable": "AKGDH"
         },
         {
          "mets": "malcoa",
          "value": -0.5266510788455735,
          "variable": "AKGDH"
         },
         {
          "mets": "nad",
          "value": -0.14275870308028554,
          "variable": "AKGDH"
         },
         {
          "mets": "nadh",
          "value": 0.012359116928056416,
          "variable": "AKGDH"
         },
         {
          "mets": "nadp",
          "value": -0.22515080303424473,
          "variable": "AKGDH"
         },
         {
          "mets": "nadph",
          "value": 0.027522261070075126,
          "variable": "AKGDH"
         },
         {
          "mets": "oaa",
          "value": 0.29214715583332135,
          "variable": "AKGDH"
         },
         {
          "mets": "pep",
          "value": 0.4164384004172643,
          "variable": "AKGDH"
         },
         {
          "mets": "pyr",
          "value": 0.2905682455412564,
          "variable": "AKGDH"
         },
         {
          "mets": "q8",
          "value": 0.06304158403077623,
          "variable": "AKGDH"
         },
         {
          "mets": "q8h2",
          "value": 0.02875296635983669,
          "variable": "AKGDH"
         },
         {
          "mets": "r5p",
          "value": -0.04379722114398428,
          "variable": "AKGDH"
         },
         {
          "mets": "ru5p-D",
          "value": -0.07419142304094581,
          "variable": "AKGDH"
         },
         {
          "mets": "s7p",
          "value": -0.05016039455110097,
          "variable": "AKGDH"
         },
         {
          "mets": "succ",
          "value": 0.928949006031373,
          "variable": "AKGDH"
         },
         {
          "mets": "succoa",
          "value": 0.9039550872961772,
          "variable": "AKGDH"
         },
         {
          "mets": "xu5p-D",
          "value": -0.025832029452237767,
          "variable": "AKGDH"
         },
         {
          "mets": "13dpg",
          "value": 0.129448210682478,
          "variable": "ICDHyr NADP"
         },
         {
          "mets": "2ddg6p",
          "value": -0.137859672719806,
          "variable": "ICDHyr NADP"
         },
         {
          "mets": "2dhglcn",
          "value": 0.06179029371520311,
          "variable": "ICDHyr NADP"
         },
         {
          "mets": "2dhglcn p",
          "value": 0.07722480750057514,
          "variable": "ICDHyr NADP"
         },
         {
          "mets": "2pg",
          "value": 0.03831331025363967,
          "variable": "ICDHyr NADP"
         },
         {
          "mets": "3pg",
          "value": 0.05776327635428114,
          "variable": "ICDHyr NADP"
         },
         {
          "mets": "6p2dhglcn",
          "value": 0.23313218104217492,
          "variable": "ICDHyr NADP"
         },
         {
          "mets": "6pgc",
          "value": 0.017826843891161185,
          "variable": "ICDHyr NADP"
         },
         {
          "mets": "6pgl",
          "value": -0.1147340768305053,
          "variable": "ICDHyr NADP"
         },
         {
          "mets": "accoa",
          "value": -0.013126128519397793,
          "variable": "ICDHyr NADP"
         },
         {
          "mets": "acon C",
          "value": -0.5140484004978627,
          "variable": "ICDHyr NADP"
         },
         {
          "mets": "adp",
          "value": 0.04401319155469996,
          "variable": "ICDHyr NADP"
         },
         {
          "mets": "akg",
          "value": 0.063765264569201,
          "variable": "ICDHyr NADP"
         },
         {
          "mets": "atp",
          "value": 0.12868786932607817,
          "variable": "ICDHyr NADP"
         },
         {
          "mets": "cit",
          "value": -0.16447689693146456,
          "variable": "ICDHyr NADP"
         },
         {
          "mets": "coa",
          "value": -0.04956990616727938,
          "variable": "ICDHyr NADP"
         },
         {
          "mets": "dhap",
          "value": -0.059559497603552974,
          "variable": "ICDHyr NADP"
         },
         {
          "mets": "e4p",
          "value": -9.140353300004481e-05,
          "variable": "ICDHyr NADP"
         },
         {
          "mets": "f6p",
          "value": -0.10590606751425657,
          "variable": "ICDHyr NADP"
         },
         {
          "mets": "fdp",
          "value": -0.1241626911376568,
          "variable": "ICDHyr NADP"
         },
         {
          "mets": "fuc",
          "value": 0.09425460417451749,
          "variable": "ICDHyr NADP"
         },
         {
          "mets": "g3p",
          "value": -0.08136921339272216,
          "variable": "ICDHyr NADP"
         },
         {
          "mets": "g6p",
          "value": 0.16048972580988372,
          "variable": "ICDHyr NADP"
         },
         {
          "mets": "glc-D",
          "value": 0.07998054426062323,
          "variable": "ICDHyr NADP"
         },
         {
          "mets": "glc-D p",
          "value": -7.449327630860186e-05,
          "variable": "ICDHyr NADP"
         },
         {
          "mets": "glcn",
          "value": -0.025232942096549252,
          "variable": "ICDHyr NADP"
         },
         {
          "mets": "glcn p",
          "value": 0.026101651911209965,
          "variable": "ICDHyr NADP"
         },
         {
          "mets": "icit",
          "value": -1.2953030088472939,
          "variable": "ICDHyr NADP"
         },
         {
          "mets": "mal-L",
          "value": 0.09472866526623044,
          "variable": "ICDHyr NADP"
         },
         {
          "mets": "malcoa",
          "value": 0.01585398028440073,
          "variable": "ICDHyr NADP"
         },
         {
          "mets": "nad",
          "value": 0.27856826895737996,
          "variable": "ICDHyr NADP"
         },
         {
          "mets": "nadh",
          "value": 0.06170656931814879,
          "variable": "ICDHyr NADP"
         },
         {
          "mets": "nadp",
          "value": -0.3095654605890178,
          "variable": "ICDHyr NADP"
         },
         {
          "mets": "nadph",
          "value": -0.09129609271562335,
          "variable": "ICDHyr NADP"
         },
         {
          "mets": "oaa",
          "value": -0.08204771043460798,
          "variable": "ICDHyr NADP"
         },
         {
          "mets": "pep",
          "value": -0.011078752981699212,
          "variable": "ICDHyr NADP"
         },
         {
          "mets": "pyr",
          "value": -0.08374097327452662,
          "variable": "ICDHyr NADP"
         },
         {
          "mets": "q8",
          "value": 0.10903839004213164,
          "variable": "ICDHyr NADP"
         },
         {
          "mets": "q8h2",
          "value": 0.022303951761655144,
          "variable": "ICDHyr NADP"
         },
         {
          "mets": "r5p",
          "value": 0.0010093060945524028,
          "variable": "ICDHyr NADP"
         },
         {
          "mets": "ru5p-D",
          "value": 0.0027327916093578116,
          "variable": "ICDHyr NADP"
         },
         {
          "mets": "s7p",
          "value": 0.016386154956627062,
          "variable": "ICDHyr NADP"
         },
         {
          "mets": "succ",
          "value": 0.02219748431719823,
          "variable": "ICDHyr NADP"
         },
         {
          "mets": "succoa",
          "value": 0.09607552078094417,
          "variable": "ICDHyr NADP"
         },
         {
          "mets": "xu5p-D",
          "value": -0.02059996084569874,
          "variable": "ICDHyr NADP"
         },
         {
          "mets": "13dpg",
          "value": 0.0024759402116702606,
          "variable": "ICDHyr NAD"
         },
         {
          "mets": "2ddg6p",
          "value": -0.020803008857048593,
          "variable": "ICDHyr NAD"
         },
         {
          "mets": "2dhglcn",
          "value": 0.015722075127857074,
          "variable": "ICDHyr NAD"
         },
         {
          "mets": "2dhglcn p",
          "value": -0.00023946432067240125,
          "variable": "ICDHyr NAD"
         },
         {
          "mets": "2pg",
          "value": 0.0004949851714894045,
          "variable": "ICDHyr NAD"
         },
         {
          "mets": "3pg",
          "value": 0.001616096649721318,
          "variable": "ICDHyr NAD"
         },
         {
          "mets": "6p2dhglcn",
          "value": 0.090603820593056,
          "variable": "ICDHyr NAD"
         },
         {
          "mets": "6pgc",
          "value": 0.01028715568391339,
          "variable": "ICDHyr NAD"
         },
         {
          "mets": "6pgl",
          "value": 0.003776555133484299,
          "variable": "ICDHyr NAD"
         },
         {
          "mets": "accoa",
          "value": -0.004265737585936153,
          "variable": "ICDHyr NAD"
         },
         {
          "mets": "acon C",
          "value": -0.08925691966742356,
          "variable": "ICDHyr NAD"
         },
         {
          "mets": "adp",
          "value": 0.012664415363931918,
          "variable": "ICDHyr NAD"
         },
         {
          "mets": "akg",
          "value": 0.010315462233475323,
          "variable": "ICDHyr NAD"
         },
         {
          "mets": "atp",
          "value": 0.02285860311159725,
          "variable": "ICDHyr NAD"
         },
         {
          "mets": "cit",
          "value": -0.03666236732623713,
          "variable": "ICDHyr NAD"
         },
         {
          "mets": "coa",
          "value": 0.005943610646394502,
          "variable": "ICDHyr NAD"
         },
         {
          "mets": "dhap",
          "value": -0.005681934008452806,
          "variable": "ICDHyr NAD"
         },
         {
          "mets": "e4p",
          "value": 0.009197159858753252,
          "variable": "ICDHyr NAD"
         },
         {
          "mets": "f6p",
          "value": -0.009708213285129531,
          "variable": "ICDHyr NAD"
         },
         {
          "mets": "fdp",
          "value": -0.012299554120606244,
          "variable": "ICDHyr NAD"
         },
         {
          "mets": "fuc",
          "value": 0.0015276868446765716,
          "variable": "ICDHyr NAD"
         },
         {
          "mets": "g3p",
          "value": -0.008574697511256668,
          "variable": "ICDHyr NAD"
         },
         {
          "mets": "g6p",
          "value": 0.017904850164980005,
          "variable": "ICDHyr NAD"
         },
         {
          "mets": "glc-D",
          "value": 0.00886222190866302,
          "variable": "ICDHyr NAD"
         },
         {
          "mets": "glc-D p",
          "value": -4.101054914671394e-06,
          "variable": "ICDHyr NAD"
         },
         {
          "mets": "glcn",
          "value": -0.01226910991769099,
          "variable": "ICDHyr NAD"
         },
         {
          "mets": "glcn p",
          "value": -0.0017711389586366325,
          "variable": "ICDHyr NAD"
         },
         {
          "mets": "icit",
          "value": -0.20859655917667969,
          "variable": "ICDHyr NAD"
         },
         {
          "mets": "mal-L",
          "value": -0.0005332723335732849,
          "variable": "ICDHyr NAD"
         },
         {
          "mets": "malcoa",
          "value": 0.005983472198661344,
          "variable": "ICDHyr NAD"
         },
         {
          "mets": "nad",
          "value": 0.006763144325006848,
          "variable": "ICDHyr NAD"
         },
         {
          "mets": "nadh",
          "value": 0.03499747502674254,
          "variable": "ICDHyr NAD"
         },
         {
          "mets": "nadp",
          "value": -0.032668763519860027,
          "variable": "ICDHyr NAD"
         },
         {
          "mets": "nadph",
          "value": -0.058657823378389595,
          "variable": "ICDHyr NAD"
         },
         {
          "mets": "oaa",
          "value": -0.01084626527292014,
          "variable": "ICDHyr NAD"
         },
         {
          "mets": "pep",
          "value": -0.0028211334445142023,
          "variable": "ICDHyr NAD"
         },
         {
          "mets": "pyr",
          "value": -0.0110317246413494,
          "variable": "ICDHyr NAD"
         },
         {
          "mets": "q8",
          "value": -0.003950381681316683,
          "variable": "ICDHyr NAD"
         },
         {
          "mets": "q8h2",
          "value": -0.002624373429179026,
          "variable": "ICDHyr NAD"
         },
         {
          "mets": "r5p",
          "value": 0.021938776283396494,
          "variable": "ICDHyr NAD"
         },
         {
          "mets": "ru5p-D",
          "value": 0.036157664783091376,
          "variable": "ICDHyr NAD"
         },
         {
          "mets": "s7p",
          "value": 0.033606118529419825,
          "variable": "ICDHyr NAD"
         },
         {
          "mets": "succ",
          "value": 0.006493767302417568,
          "variable": "ICDHyr NAD"
         },
         {
          "mets": "succoa",
          "value": 0.010648098411528788,
          "variable": "ICDHyr NAD"
         },
         {
          "mets": "xu5p-D",
          "value": 0.018955108864795477,
          "variable": "ICDHyr NAD"
         },
         {
          "mets": "13dpg",
          "value": 0.01128063757859894,
          "variable": "ACONTa"
         },
         {
          "mets": "2ddg6p",
          "value": -0.0037490383866825333,
          "variable": "ACONTa"
         },
         {
          "mets": "2dhglcn",
          "value": -0.023036937711155656,
          "variable": "ACONTa"
         },
         {
          "mets": "2dhglcn p",
          "value": 0.0026166900842273695,
          "variable": "ACONTa"
         },
         {
          "mets": "2pg",
          "value": 0.0008755372911443483,
          "variable": "ACONTa"
         },
         {
          "mets": "3pg",
          "value": 0.006256215144205459,
          "variable": "ACONTa"
         },
         {
          "mets": "6p2dhglcn",
          "value": -0.011873133132863466,
          "variable": "ACONTa"
         },
         {
          "mets": "6pgc",
          "value": -0.00020098078528508367,
          "variable": "ACONTa"
         },
         {
          "mets": "6pgl",
          "value": 0.017830783354564037,
          "variable": "ACONTa"
         },
         {
          "mets": "accoa",
          "value": -0.24755731395694147,
          "variable": "ACONTa"
         },
         {
          "mets": "acon C",
          "value": 0.21942321944942078,
          "variable": "ACONTa"
         },
         {
          "mets": "adp",
          "value": 0.02956082780196531,
          "variable": "ACONTa"
         },
         {
          "mets": "akg",
          "value": 0.143035112313949,
          "variable": "ACONTa"
         },
         {
          "mets": "atp",
          "value": 0.04954936212961755,
          "variable": "ACONTa"
         },
         {
          "mets": "cit",
          "value": -1.0085760804263186,
          "variable": "ACONTa"
         },
         {
          "mets": "coa",
          "value": 0.05792109723212778,
          "variable": "ACONTa"
         },
         {
          "mets": "dhap",
          "value": 0.014083703387498318,
          "variable": "ACONTa"
         },
         {
          "mets": "e4p",
          "value": -0.0021354429619202726,
          "variable": "ACONTa"
         },
         {
          "mets": "f6p",
          "value": 0.02818440222385541,
          "variable": "ACONTa"
         },
         {
          "mets": "fdp",
          "value": 0.029205504079172738,
          "variable": "ACONTa"
         },
         {
          "mets": "fuc",
          "value": 0.05157743938880778,
          "variable": "ACONTa"
         },
         {
          "mets": "g3p",
          "value": 0.015277316564867539,
          "variable": "ACONTa"
         },
         {
          "mets": "g6p",
          "value": 0.03377514175907881,
          "variable": "ACONTa"
         },
         {
          "mets": "glc-D",
          "value": 0.016836828181712858,
          "variable": "ACONTa"
         },
         {
          "mets": "glc-D p",
          "value": -3.9984930665410685e-05,
          "variable": "ACONTa"
         },
         {
          "mets": "glcn",
          "value": -0.01800892983584445,
          "variable": "ACONTa"
         },
         {
          "mets": "glcn p",
          "value": 0.0012943472860300585,
          "variable": "ACONTa"
         },
         {
          "mets": "icit",
          "value": 0.2179135040178253,
          "variable": "ACONTa"
         },
         {
          "mets": "mal-L",
          "value": 0.028367257024282867,
          "variable": "ACONTa"
         },
         {
          "mets": "malcoa",
          "value": -0.053604141257725724,
          "variable": "ACONTa"
         },
         {
          "mets": "nad",
          "value": 0.011507399431882288,
          "variable": "ACONTa"
         },
         {
          "mets": "nadh",
          "value": 0.0015163035586236912,
          "variable": "ACONTa"
         },
         {
          "mets": "nadp",
          "value": 0.005698943603959673,
          "variable": "ACONTa"
         },
         {
          "mets": "nadph",
          "value": 0.03033116949957546,
          "variable": "ACONTa"
         },
         {
          "mets": "oaa",
          "value": -0.043080719481323124,
          "variable": "ACONTa"
         },
         {
          "mets": "pep",
          "value": -0.0211675811958279,
          "variable": "ACONTa"
         },
         {
          "mets": "pyr",
          "value": -0.04272454439982894,
          "variable": "ACONTa"
         },
         {
          "mets": "q8",
          "value": 0.014930636724305717,
          "variable": "ACONTa"
         },
         {
          "mets": "q8h2",
          "value": -0.004950741637322428,
          "variable": "ACONTa"
         },
         {
          "mets": "r5p",
          "value": -0.00462157533895014,
          "variable": "ACONTa"
         },
         {
          "mets": "ru5p-D",
          "value": -0.008104818228801094,
          "variable": "ACONTa"
         },
         {
          "mets": "s7p",
          "value": -0.005919643035974238,
          "variable": "ACONTa"
         },
         {
          "mets": "succ",
          "value": 0.05385226988409372,
          "variable": "ACONTa"
         },
         {
          "mets": "succoa",
          "value": 0.15736842133008228,
          "variable": "ACONTa"
         },
         {
          "mets": "xu5p-D",
          "value": -0.0002139911436753059,
          "variable": "ACONTa"
         },
         {
          "mets": "13dpg",
          "value": 0.03230811235347973,
          "variable": "ACONTb"
         },
         {
          "mets": "2ddg6p",
          "value": -0.011197190088772704,
          "variable": "ACONTb"
         },
         {
          "mets": "2dhglcn",
          "value": -0.00391770722713715,
          "variable": "ACONTb"
         },
         {
          "mets": "2dhglcn p",
          "value": 0.009383089348479801,
          "variable": "ACONTb"
         },
         {
          "mets": "2pg",
          "value": 0.010375110686253372,
          "variable": "ACONTb"
         },
         {
          "mets": "3pg",
          "value": 0.01920197792093619,
          "variable": "ACONTb"
         },
         {
          "mets": "6p2dhglcn",
          "value": 0.02754374814427537,
          "variable": "ACONTb"
         },
         {
          "mets": "6pgc",
          "value": 0.003946872911398305,
          "variable": "ACONTb"
         },
         {
          "mets": "6pgl",
          "value": 0.017886589947231732,
          "variable": "ACONTb"
         },
         {
          "mets": "accoa",
          "value": -0.08672852849379929,
          "variable": "ACONTb"
         },
         {
          "mets": "acon C",
          "value": -1.120984130475597,
          "variable": "ACONTb"
         },
         {
          "mets": "adp",
          "value": 0.03170963566460536,
          "variable": "ACONTb"
         },
         {
          "mets": "akg",
          "value": 0.08638699257550712,
          "variable": "ACONTb"
         },
         {
          "mets": "atp",
          "value": 0.058759056239829424,
          "variable": "ACONTb"
         },
         {
          "mets": "cit",
          "value": -0.4776544829679161,
          "variable": "ACONTb"
         },
         {
          "mets": "coa",
          "value": 0.021514289767043705,
          "variable": "ACONTb"
         },
         {
          "mets": "dhap",
          "value": 0.0022208917389890965,
          "variable": "ACONTb"
         },
         {
          "mets": "e4p",
          "value": 7.290168451497419e-05,
          "variable": "ACONTb"
         },
         {
          "mets": "f6p",
          "value": 0.005941547934777596,
          "variable": "ACONTb"
         },
         {
          "mets": "fdp",
          "value": 0.0042382682414059715,
          "variable": "ACONTb"
         },
         {
          "mets": "fuc",
          "value": 0.04141074596213972,
          "variable": "ACONTb"
         },
         {
          "mets": "g3p",
          "value": 0.0006943178591028966,
          "variable": "ACONTb"
         },
         {
          "mets": "g6p",
          "value": 0.045259324923911354,
          "variable": "ACONTb"
         },
         {
          "mets": "glc-D",
          "value": 0.022444609309049235,
          "variable": "ACONTb"
         },
         {
          "mets": "glc-D p",
          "value": -7.140271976549965e-05,
          "variable": "ACONTb"
         },
         {
          "mets": "glcn",
          "value": -0.018786974733283165,
          "variable": "ACONTb"
         },
         {
          "mets": "glcn p",
          "value": 0.0030646281526434628,
          "variable": "ACONTb"
         },
         {
          "mets": "icit",
          "value": 0.29859139438118987,
          "variable": "ACONTb"
         },
         {
          "mets": "mal-L",
          "value": 0.022871126703051095,
          "variable": "ACONTb"
         },
         {
          "mets": "malcoa",
          "value": -0.013475214593257212,
          "variable": "ACONTb"
         },
         {
          "mets": "nad",
          "value": 0.05787673108864617,
          "variable": "ACONTb"
         },
         {
          "mets": "nadh",
          "value": 0.013081468805162342,
          "variable": "ACONTb"
         },
         {
          "mets": "nadp",
          "value": -0.01241816896255083,
          "variable": "ACONTb"
         },
         {
          "mets": "nadph",
          "value": 0.0039408149585245895,
          "variable": "ACONTb"
         },
         {
          "mets": "oaa",
          "value": -0.03368147362715304,
          "variable": "ACONTb"
         },
         {
          "mets": "pep",
          "value": -0.010760697017046107,
          "variable": "ACONTb"
         },
         {
          "mets": "pyr",
          "value": -0.03379607296809338,
          "variable": "ACONTb"
         },
         {
          "mets": "q8",
          "value": 0.021900341024576803,
          "variable": "ACONTb"
         },
         {
          "mets": "q8h2",
          "value": -0.0024332251466332236,
          "variable": "ACONTb"
         },
         {
          "mets": "r5p",
          "value": 0.0005939768373042027,
          "variable": "ACONTb"
         },
         {
          "mets": "ru5p-D",
          "value": 0.0009221219220312766,
          "variable": "ACONTb"
         },
         {
          "mets": "s7p",
          "value": 0.002940854877425742,
          "variable": "ACONTb"
         },
         {
          "mets": "succ",
          "value": 0.03696170309368175,
          "variable": "ACONTb"
         },
         {
          "mets": "succoa",
          "value": 0.11051073391248359,
          "variable": "ACONTb"
         },
         {
          "mets": "xu5p-D",
          "value": 0.0018085739827343227,
          "variable": "ACONTb"
         },
         {
          "mets": "13dpg",
          "value": -0.010207557307255588,
          "variable": "CS"
         },
         {
          "mets": "2ddg6p",
          "value": -0.02357365634000077,
          "variable": "CS"
         },
         {
          "mets": "2dhglcn",
          "value": -0.03630274129287611,
          "variable": "CS"
         },
         {
          "mets": "2dhglcn p",
          "value": -0.0038680555144954385,
          "variable": "CS"
         },
         {
          "mets": "2pg",
          "value": -0.018534575726015252,
          "variable": "CS"
         },
         {
          "mets": "3pg",
          "value": -0.012505767883933254,
          "variable": "CS"
         },
         {
          "mets": "6p2dhglcn",
          "value": -0.060164167516258575,
          "variable": "CS"
         },
         {
          "mets": "6pgc",
          "value": -0.008763200149611756,
          "variable": "CS"
         },
         {
          "mets": "6pgl",
          "value": -0.011314084359691123,
          "variable": "CS"
         },
         {
          "mets": "accoa",
          "value": -0.48465422297314276,
          "variable": "CS"
         },
         {
          "mets": "acon C",
          "value": 0.22674014967211117,
          "variable": "CS"
         },
         {
          "mets": "adp",
          "value": 0.005341520183613833,
          "variable": "CS"
         },
         {
          "mets": "akg",
          "value": 0.24206115844313833,
          "variable": "CS"
         },
         {
          "mets": "atp",
          "value": 0.01618365746659945,
          "variable": "CS"
         },
         {
          "mets": "cit",
          "value": 0.2334562111675773,
          "variable": "CS"
         },
         {
          "mets": "coa",
          "value": 0.0434129448845305,
          "variable": "CS"
         },
         {
          "mets": "dhap",
          "value": 0.015839747777627273,
          "variable": "CS"
         },
         {
          "mets": "e4p",
          "value": -0.007792404983568194,
          "variable": "CS"
         },
         {
          "mets": "f6p",
          "value": 0.030811405007478587,
          "variable": "CS"
         },
         {
          "mets": "fdp",
          "value": 0.03237890023379205,
          "variable": "CS"
         },
         {
          "mets": "fuc",
          "value": 0.06559127060375983,
          "variable": "CS"
         },
         {
          "mets": "g3p",
          "value": 0.017944805444724356,
          "variable": "CS"
         },
         {
          "mets": "g6p",
          "value": 0.023795300454818,
          "variable": "CS"
         },
         {
          "mets": "glc-D",
          "value": 0.011992165737565737,
          "variable": "CS"
         },
         {
          "mets": "glc-D p",
          "value": 1.769527285129661e-05,
          "variable": "CS"
         },
         {
          "mets": "glcn",
          "value": -0.010356519394422831,
          "variable": "CS"
         },
         {
          "mets": "glcn p",
          "value": -0.00022228579531870726,
          "variable": "CS"
         },
         {
          "mets": "icit",
          "value": 0.2224335448151518,
          "variable": "CS"
         },
         {
          "mets": "mal-L",
          "value": 0.05092372058100333,
          "variable": "CS"
         },
         {
          "mets": "malcoa",
          "value": -0.1860358350573079,
          "variable": "CS"
         },
         {
          "mets": "nad",
          "value": -0.03410307556803163,
          "variable": "CS"
         },
         {
          "mets": "nadh",
          "value": -0.002537696193484634,
          "variable": "CS"
         },
         {
          "mets": "nadp",
          "value": 0.00039066843746855774,
          "variable": "CS"
         },
         {
          "mets": "nadph",
          "value": 0.0413408772226099,
          "variable": "CS"
         },
         {
          "mets": "oaa",
          "value": -0.06249858562680995,
          "variable": "CS"
         },
         {
          "mets": "pep",
          "value": -0.04475835780339317,
          "variable": "CS"
         },
         {
          "mets": "pyr",
          "value": -0.061909670855402235,
          "variable": "CS"
         },
         {
          "mets": "q8",
          "value": 0.004247904299464077,
          "variable": "CS"
         },
         {
          "mets": "q8h2",
          "value": 0.0024447703726131666,
          "variable": "CS"
         },
         {
          "mets": "r5p",
          "value": -0.017591936440060546,
          "variable": "CS"
         },
         {
          "mets": "ru5p-D",
          "value": -0.029159160089201337,
          "variable": "CS"
         },
         {
          "mets": "s7p",
          "value": -0.025995220353378482,
          "variable": "CS"
         },
         {
          "mets": "succ",
          "value": 0.0902530983703268,
          "variable": "CS"
         },
         {
          "mets": "succoa",
          "value": 0.1661305710385313,
          "variable": "CS"
         },
         {
          "mets": "xu5p-D",
          "value": -0.01231357984013564,
          "variable": "CS"
         },
         {
          "mets": "13dpg",
          "value": 0.007098455198687892,
          "variable": "ACCOAC"
         },
         {
          "mets": "2ddg6p",
          "value": 0.00281625308801213,
          "variable": "ACCOAC"
         },
         {
          "mets": "2dhglcn",
          "value": 0.036182938989344396,
          "variable": "ACCOAC"
         },
         {
          "mets": "2dhglcn p",
          "value": 0.001996627035931997,
          "variable": "ACCOAC"
         },
         {
          "mets": "2pg",
          "value": 0.0056313064842147854,
          "variable": "ACCOAC"
         },
         {
          "mets": "3pg",
          "value": 0.005592556504184916,
          "variable": "ACCOAC"
         },
         {
          "mets": "6p2dhglcn",
          "value": 0.03598947753243876,
          "variable": "ACCOAC"
         },
         {
          "mets": "6pgc",
          "value": 0.003541962875884011,
          "variable": "ACCOAC"
         },
         {
          "mets": "6pgl",
          "value": 0.006203281033954492,
          "variable": "ACCOAC"
         },
         {
          "mets": "accoa",
          "value": -0.21471738619564704,
          "variable": "ACCOAC"
         },
         {
          "mets": "acon C",
          "value": -0.11286963696979002,
          "variable": "ACCOAC"
         },
         {
          "mets": "adp",
          "value": -0.02266916746029479,
          "variable": "ACCOAC"
         },
         {
          "mets": "akg",
          "value": -0.10757114995746234,
          "variable": "ACCOAC"
         },
         {
          "mets": "atp",
          "value": -0.04209365686146724,
          "variable": "ACCOAC"
         },
         {
          "mets": "cit",
          "value": -0.11654772304874231,
          "variable": "ACCOAC"
         },
         {
          "mets": "coa",
          "value": -0.0689757272716604,
          "variable": "ACCOAC"
         },
         {
          "mets": "dhap",
          "value": -0.016332630060226165,
          "variable": "ACCOAC"
         },
         {
          "mets": "e4p",
          "value": 0.0045916339342517935,
          "variable": "ACCOAC"
         },
         {
          "mets": "f6p",
          "value": -0.03240115970360241,
          "variable": "ACCOAC"
         },
         {
          "mets": "fdp",
          "value": -0.03349532737294825,
          "variable": "ACCOAC"
         },
         {
          "mets": "fuc",
          "value": -0.049360847401614893,
          "variable": "ACCOAC"
         },
         {
          "mets": "g3p",
          "value": -0.017876572895713073,
          "variable": "ACCOAC"
         },
         {
          "mets": "g6p",
          "value": -0.03733339096740376,
          "variable": "ACCOAC"
         },
         {
          "mets": "glc-D",
          "value": -0.018595738042890365,
          "variable": "ACCOAC"
         },
         {
          "mets": "glc-D p",
          "value": -3.0972022349601284e-06,
          "variable": "ACCOAC"
         },
         {
          "mets": "glcn",
          "value": 0.019264255030968628,
          "variable": "ACCOAC"
         },
         {
          "mets": "glcn p",
          "value": -3.475534944434295e-05,
          "variable": "ACCOAC"
         },
         {
          "mets": "icit",
          "value": -0.1141741385368431,
          "variable": "ACCOAC"
         },
         {
          "mets": "mal-L",
          "value": -0.047960975969880346,
          "variable": "ACCOAC"
         },
         {
          "mets": "malcoa",
          "value": 0.8488256446536099,
          "variable": "ACCOAC"
         },
         {
          "mets": "nad",
          "value": 0.03511472899461333,
          "variable": "ACCOAC"
         },
         {
          "mets": "nadh",
          "value": 0.012169786982176392,
          "variable": "ACCOAC"
         },
         {
          "mets": "nadp",
          "value": 0.013856139438410724,
          "variable": "ACCOAC"
         },
         {
          "mets": "nadph",
          "value": -0.021618972843998774,
          "variable": "ACCOAC"
         },
         {
          "mets": "oaa",
          "value": 0.024928663485468704,
          "variable": "ACCOAC"
         },
         {
          "mets": "pep",
          "value": 0.006805483384010642,
          "variable": "ACCOAC"
         },
         {
          "mets": "pyr",
          "value": 0.024777076050630606,
          "variable": "ACCOAC"
         },
         {
          "mets": "q8",
          "value": -0.00969055761120531,
          "variable": "ACCOAC"
         },
         {
          "mets": "q8h2",
          "value": 0.008921774167736977,
          "variable": "ACCOAC"
         },
         {
          "mets": "r5p",
          "value": 0.010001733863305249,
          "variable": "ACCOAC"
         },
         {
          "mets": "ru5p-D",
          "value": 0.016951509843118044,
          "variable": "ACCOAC"
         },
         {
          "mets": "s7p",
          "value": 0.014116285695038866,
          "variable": "ACCOAC"
         },
         {
          "mets": "succ",
          "value": -0.038822161482345616,
          "variable": "ACCOAC"
         },
         {
          "mets": "succoa",
          "value": -0.1072159594366151,
          "variable": "ACCOAC"
         },
         {
          "mets": "xu5p-D",
          "value": 0.004201224550702777,
          "variable": "ACCOAC"
         },
         {
          "mets": "13dpg",
          "value": 0.0035979866223415182,
          "variable": "KAS15"
         },
         {
          "mets": "2ddg6p",
          "value": -0.0016537562804155872,
          "variable": "KAS15"
         },
         {
          "mets": "2dhglcn",
          "value": 0.003197963281522719,
          "variable": "KAS15"
         },
         {
          "mets": "2dhglcn p",
          "value": 0.0005786607594717164,
          "variable": "KAS15"
         },
         {
          "mets": "2pg",
          "value": 0.0017923976263014316,
          "variable": "KAS15"
         },
         {
          "mets": "3pg",
          "value": 0.0023049706783562674,
          "variable": "KAS15"
         },
         {
          "mets": "6p2dhglcn",
          "value": 0.010411342400831566,
          "variable": "KAS15"
         },
         {
          "mets": "6pgc",
          "value": 0.0014589611241296661,
          "variable": "KAS15"
         },
         {
          "mets": "6pgl",
          "value": 0.0034180775119591516,
          "variable": "KAS15"
         },
         {
          "mets": "accoa",
          "value": -0.015988459195031675,
          "variable": "KAS15"
         },
         {
          "mets": "acon C",
          "value": -0.020167486411634135,
          "variable": "KAS15"
         },
         {
          "mets": "adp",
          "value": 0.000895466969453767,
          "variable": "KAS15"
         },
         {
          "mets": "akg",
          "value": -0.03384786598541888,
          "variable": "KAS15"
         },
         {
          "mets": "atp",
          "value": 0.0012356057574567994,
          "variable": "KAS15"
         },
         {
          "mets": "cit",
          "value": -0.021239348294028057,
          "variable": "KAS15"
         },
         {
          "mets": "coa",
          "value": 0.015313498021511624,
          "variable": "KAS15"
         },
         {
          "mets": "dhap",
          "value": -0.0016795578140208255,
          "variable": "KAS15"
         },
         {
          "mets": "e4p",
          "value": 0.0011637568129068017,
          "variable": "KAS15"
         },
         {
          "mets": "f6p",
          "value": -0.003066898110893445,
          "variable": "KAS15"
         },
         {
          "mets": "fdp",
          "value": -0.0034499114988247818,
          "variable": "KAS15"
         },
         {
          "mets": "fuc",
          "value": -0.005729803693940588,
          "variable": "KAS15"
         },
         {
          "mets": "g3p",
          "value": -0.0021263123721043907,
          "variable": "KAS15"
         },
         {
          "mets": "g6p",
          "value": 0.0005391697891946388,
          "variable": "KAS15"
         },
         {
          "mets": "glc-D",
          "value": 0.00026422797518238104,
          "variable": "KAS15"
         },
         {
          "mets": "glc-D p",
          "value": -6.3049751256556866e-06,
          "variable": "KAS15"
         },
         {
          "mets": "glcn",
          "value": -0.0003129247037329107,
          "variable": "KAS15"
         },
         {
          "mets": "glcn p",
          "value": 1.6963773806035192e-05,
          "variable": "KAS15"
         },
         {
          "mets": "icit",
          "value": -0.01957320503032091,
          "variable": "KAS15"
         },
         {
          "mets": "mal-L",
          "value": -0.006315077899194388,
          "variable": "KAS15"
         },
         {
          "mets": "malcoa",
          "value": -0.003076012259178697,
          "variable": "KAS15"
         },
         {
          "mets": "nad",
          "value": 0.008848105735671186,
          "variable": "KAS15"
         },
         {
          "mets": "nadh",
          "value": 0.0029858070968149628,
          "variable": "KAS15"
         },
         {
          "mets": "nadp",
          "value": -0.0011114862352904287,
          "variable": "KAS15"
         },
         {
          "mets": "nadph",
          "value": -0.0052814963535840346,
          "variable": "KAS15"
         },
         {
          "mets": "oaa",
          "value": -3.480726177442269e-05,
          "variable": "KAS15"
         },
         {
          "mets": "pep",
          "value": 9.260692942999113e-05,
          "variable": "KAS15"
         },
         {
          "mets": "pyr",
          "value": -0.0001311185236402168,
          "variable": "KAS15"
         },
         {
          "mets": "q8",
          "value": -0.00016958950213414933,
          "variable": "KAS15"
         },
         {
          "mets": "q8h2",
          "value": -0.000684898826397419,
          "variable": "KAS15"
         },
         {
          "mets": "r5p",
          "value": 0.0027617019246564726,
          "variable": "KAS15"
         },
         {
          "mets": "ru5p-D",
          "value": 0.0044872662095452025,
          "variable": "KAS15"
         },
         {
          "mets": "s7p",
          "value": 0.004170535286934865,
          "variable": "KAS15"
         },
         {
          "mets": "succ",
          "value": -0.007107202199240815,
          "variable": "KAS15"
         },
         {
          "mets": "succoa",
          "value": -0.001780687138224307,
          "variable": "KAS15"
         },
         {
          "mets": "xu5p-D",
          "value": 0.002245188810349963,
          "variable": "KAS15"
         },
         {
          "mets": "13dpg",
          "value": 0.003038704992564317,
          "variable": "MCOATA"
         },
         {
          "mets": "2ddg6p",
          "value": -0.012599677910575993,
          "variable": "MCOATA"
         },
         {
          "mets": "2dhglcn",
          "value": 0.0025376797149154772,
          "variable": "MCOATA"
         },
         {
          "mets": "2dhglcn p",
          "value": 0.009838077697896491,
          "variable": "MCOATA"
         },
         {
          "mets": "2pg",
          "value": 0.0022370533544318234,
          "variable": "MCOATA"
         },
         {
          "mets": "3pg",
          "value": 0.006856187645566451,
          "variable": "MCOATA"
         },
         {
          "mets": "6p2dhglcn",
          "value": 0.027972409653944062,
          "variable": "MCOATA"
         },
         {
          "mets": "6pgc",
          "value": 0.0039108112114461255,
          "variable": "MCOATA"
         },
         {
          "mets": "6pgl",
          "value": 0.0042668597321564965,
          "variable": "MCOATA"
         },
         {
          "mets": "accoa",
          "value": 0.09022303395513506,
          "variable": "MCOATA"
         },
         {
          "mets": "acon C",
          "value": -0.0185618848389031,
          "variable": "MCOATA"
         },
         {
          "mets": "adp",
          "value": 0.037661534620512596,
          "variable": "MCOATA"
         },
         {
          "mets": "akg",
          "value": -0.10097589701270128,
          "variable": "MCOATA"
         },
         {
          "mets": "atp",
          "value": 0.04390536299430115,
          "variable": "MCOATA"
         },
         {
          "mets": "cit",
          "value": -0.020430130577646977,
          "variable": "MCOATA"
         },
         {
          "mets": "coa",
          "value": 0.1690038683824322,
          "variable": "MCOATA"
         },
         {
          "mets": "dhap",
          "value": 0.00010697046628489916,
          "variable": "MCOATA"
         },
         {
          "mets": "e4p",
          "value": 0.0016099349039153585,
          "variable": "MCOATA"
         },
         {
          "mets": "f6p",
          "value": 0.0005451503514163453,
          "variable": "MCOATA"
         },
         {
          "mets": "fdp",
          "value": 0.0001656300340063102,
          "variable": "MCOATA"
         },
         {
          "mets": "fuc",
          "value": 0.010983708156622987,
          "variable": "MCOATA"
         },
         {
          "mets": "g3p",
          "value": -0.00040761030824952886,
          "variable": "MCOATA"
         },
         {
          "mets": "g6p",
          "value": 0.009797956586994453,
          "variable": "MCOATA"
         },
         {
          "mets": "glc-D",
          "value": 0.004803070242817129,
          "variable": "MCOATA"
         },
         {
          "mets": "glc-D p",
          "value": -2.8121342289540615e-05,
          "variable": "MCOATA"
         },
         {
          "mets": "glcn",
          "value": -0.012703796417975052,
          "variable": "MCOATA"
         },
         {
          "mets": "glcn p",
          "value": 0.0025860262490629772,
          "variable": "MCOATA"
         },
         {
          "mets": "icit",
          "value": -0.015194012153129707,
          "variable": "MCOATA"
         },
         {
          "mets": "mal-L",
          "value": 0.004295875761485643,
          "variable": "MCOATA"
         },
         {
          "mets": "malcoa",
          "value": -0.8780836739357849,
          "variable": "MCOATA"
         },
         {
          "mets": "nad",
          "value": 0.014349837830303164,
          "variable": "MCOATA"
         },
         {
          "mets": "nadh",
          "value": 0.0016683895463663109,
          "variable": "MCOATA"
         },
         {
          "mets": "nadp",
          "value": -0.007895458164446801,
          "variable": "MCOATA"
         },
         {
          "mets": "nadph",
          "value": -0.0058515820687198156,
          "variable": "MCOATA"
         },
         {
          "mets": "oaa",
          "value": -0.021173075731297404,
          "variable": "MCOATA"
         },
         {
          "mets": "pep",
          "value": -0.015997207697950863,
          "variable": "MCOATA"
         },
         {
          "mets": "pyr",
          "value": -0.021382453946339836,
          "variable": "MCOATA"
         },
         {
          "mets": "q8",
          "value": 0.015763061445140295,
          "variable": "MCOATA"
         },
         {
          "mets": "q8h2",
          "value": -0.016101616975711608,
          "variable": "MCOATA"
         },
         {
          "mets": "r5p",
          "value": 0.0041974993453763616,
          "variable": "MCOATA"
         },
         {
          "mets": "ru5p-D",
          "value": 0.006778224104182145,
          "variable": "MCOATA"
         },
         {
          "mets": "s7p",
          "value": 0.006919841446466435,
          "variable": "MCOATA"
         },
         {
          "mets": "succ",
          "value": -0.010315878502283056,
          "variable": "MCOATA"
         },
         {
          "mets": "succoa",
          "value": 0.08657677354136611,
          "variable": "MCOATA"
         },
         {
          "mets": "xu5p-D",
          "value": 0.004537998128778274,
          "variable": "MCOATA"
         },
         {
          "mets": "13dpg",
          "value": 0.1292478819697414,
          "variable": "OPNAD"
         },
         {
          "mets": "2ddg6p",
          "value": 0.025984477734656217,
          "variable": "OPNAD"
         },
         {
          "mets": "2dhglcn",
          "value": -0.242718265928757,
          "variable": "OPNAD"
         },
         {
          "mets": "2dhglcn p",
          "value": -0.13261030485826897,
          "variable": "OPNAD"
         },
         {
          "mets": "2pg",
          "value": 0.033454926998544035,
          "variable": "OPNAD"
         },
         {
          "mets": "3pg",
          "value": 0.004219788688053713,
          "variable": "OPNAD"
         },
         {
          "mets": "6p2dhglcn",
          "value": -0.12874886544415692,
          "variable": "OPNAD"
         },
         {
          "mets": "6pgc",
          "value": 0.009619320540747102,
          "variable": "OPNAD"
         },
         {
          "mets": "6pgl",
          "value": 0.08147264738483811,
          "variable": "OPNAD"
         },
         {
          "mets": "accoa",
          "value": -0.08283125633049859,
          "variable": "OPNAD"
         },
         {
          "mets": "acon C",
          "value": 0.017724659093465992,
          "variable": "OPNAD"
         },
         {
          "mets": "adp",
          "value": -0.09427463743194245,
          "variable": "OPNAD"
         },
         {
          "mets": "akg",
          "value": 0.016656670474564775,
          "variable": "OPNAD"
         },
         {
          "mets": "atp",
          "value": 0.07520213696915776,
          "variable": "OPNAD"
         },
         {
          "mets": "cit",
          "value": -0.01777843807715019,
          "variable": "OPNAD"
         },
         {
          "mets": "coa",
          "value": -0.07268281017607395,
          "variable": "OPNAD"
         },
         {
          "mets": "dhap",
          "value": 0.05806739456618386,
          "variable": "OPNAD"
         },
         {
          "mets": "e4p",
          "value": 0.0011573351934492078,
          "variable": "OPNAD"
         },
         {
          "mets": "f6p",
          "value": 0.12403600924754843,
          "variable": "OPNAD"
         },
         {
          "mets": "fdp",
          "value": 0.11666718543656793,
          "variable": "OPNAD"
         },
         {
          "mets": "fuc",
          "value": -0.03353328744575344,
          "variable": "OPNAD"
         },
         {
          "mets": "g3p",
          "value": 0.05230601685093591,
          "variable": "OPNAD"
         },
         {
          "mets": "g6p",
          "value": 0.3552248890085264,
          "variable": "OPNAD"
         },
         {
          "mets": "glc-D",
          "value": 0.17729715131839072,
          "variable": "OPNAD"
         },
         {
          "mets": "glc-D p",
          "value": -8.053472306547353e-06,
          "variable": "OPNAD"
         },
         {
          "mets": "glcn",
          "value": -0.10142055379958537,
          "variable": "OPNAD"
         },
         {
          "mets": "glcn p",
          "value": -0.03630007966892612,
          "variable": "OPNAD"
         },
         {
          "mets": "icit",
          "value": 0.1107707690388573,
          "variable": "OPNAD"
         },
         {
          "mets": "mal-L",
          "value": 0.000734638953815556,
          "variable": "OPNAD"
         },
         {
          "mets": "malcoa",
          "value": 0.0003808386914080209,
          "variable": "OPNAD"
         },
         {
          "mets": "nad",
          "value": -0.0636878721166073,
          "variable": "OPNAD"
         },
         {
          "mets": "nadh",
          "value": -0.1208099906244903,
          "variable": "OPNAD"
         },
         {
          "mets": "nadp",
          "value": -0.16405854872677084,
          "variable": "OPNAD"
         },
         {
          "mets": "nadph",
          "value": -0.03889195073240303,
          "variable": "OPNAD"
         },
         {
          "mets": "oaa",
          "value": -0.004047103570504801,
          "variable": "OPNAD"
         },
         {
          "mets": "pep",
          "value": 0.16810163547521978,
          "variable": "OPNAD"
         },
         {
          "mets": "pyr",
          "value": -0.006809840963408666,
          "variable": "OPNAD"
         },
         {
          "mets": "q8",
          "value": -0.08389157481759951,
          "variable": "OPNAD"
         },
         {
          "mets": "q8h2",
          "value": 0.19860965385413565,
          "variable": "OPNAD"
         },
         {
          "mets": "r5p",
          "value": 0.005893800151848275,
          "variable": "OPNAD"
         },
         {
          "mets": "ru5p-D",
          "value": 0.009035500414359774,
          "variable": "OPNAD"
         },
         {
          "mets": "s7p",
          "value": 0.02331028021886759,
          "variable": "OPNAD"
         },
         {
          "mets": "succ",
          "value": 0.123653377699977,
          "variable": "OPNAD"
         },
         {
          "mets": "succoa",
          "value": 0.06823754306653113,
          "variable": "OPNAD"
         },
         {
          "mets": "xu5p-D",
          "value": 0.031979329480700924,
          "variable": "OPNAD"
         },
         {
          "mets": "13dpg",
          "value": 0.12810712098691324,
          "variable": "OPQ8"
         },
         {
          "mets": "2ddg6p",
          "value": 0.01652313525235187,
          "variable": "OPQ8"
         },
         {
          "mets": "2dhglcn",
          "value": -0.10340576532757054,
          "variable": "OPQ8"
         },
         {
          "mets": "2dhglcn p",
          "value": -0.09269756979078597,
          "variable": "OPQ8"
         },
         {
          "mets": "2pg",
          "value": 0.015540852307800808,
          "variable": "OPQ8"
         },
         {
          "mets": "3pg",
          "value": -0.008614327905111612,
          "variable": "OPQ8"
         },
         {
          "mets": "6p2dhglcn",
          "value": 0.008742809699888663,
          "variable": "OPQ8"
         },
         {
          "mets": "6pgc",
          "value": 0.0014321751246348805,
          "variable": "OPQ8"
         },
         {
          "mets": "6pgl",
          "value": 0.07851589537110798,
          "variable": "OPQ8"
         },
         {
          "mets": "accoa",
          "value": -0.005363366205174253,
          "variable": "OPQ8"
         },
         {
          "mets": "acon C",
          "value": -0.008708489106840672,
          "variable": "OPQ8"
         },
         {
          "mets": "adp",
          "value": -0.215982646128471,
          "variable": "OPQ8"
         },
         {
          "mets": "akg",
          "value": -0.026059333366085107,
          "variable": "OPQ8"
         },
         {
          "mets": "atp",
          "value": -0.06663533197439267,
          "variable": "OPQ8"
         },
         {
          "mets": "cit",
          "value": -0.029391426707159704,
          "variable": "OPQ8"
         },
         {
          "mets": "coa",
          "value": -0.016429152288249205,
          "variable": "OPQ8"
         },
         {
          "mets": "dhap",
          "value": 0.058850947430419395,
          "variable": "OPQ8"
         },
         {
          "mets": "e4p",
          "value": -0.0008986133685051223,
          "variable": "OPQ8"
         },
         {
          "mets": "f6p",
          "value": 0.12393949028877702,
          "variable": "OPQ8"
         },
         {
          "mets": "fdp",
          "value": 0.11908191774822158,
          "variable": "OPQ8"
         },
         {
          "mets": "fuc",
          "value": -0.008935262729406479,
          "variable": "OPQ8"
         },
         {
          "mets": "g3p",
          "value": 0.055338964547440764,
          "variable": "OPQ8"
         },
         {
          "mets": "g6p",
          "value": 0.30093168047864843,
          "variable": "OPQ8"
         },
         {
          "mets": "glc-D",
          "value": 0.1503548326199612,
          "variable": "OPQ8"
         },
         {
          "mets": "glc-D p",
          "value": 1.2876349541802935e-05,
          "variable": "OPQ8"
         },
         {
          "mets": "glcn",
          "value": -0.039950532775378994,
          "variable": "OPQ8"
         },
         {
          "mets": "glcn p",
          "value": -0.04900895683944302,
          "variable": "OPQ8"
         },
         {
          "mets": "icit",
          "value": 0.04333871716439602,
          "variable": "OPQ8"
         },
         {
          "mets": "mal-L",
          "value": 0.017603232442369728,
          "variable": "OPQ8"
         },
         {
          "mets": "malcoa",
          "value": 0.02274634100942655,
          "variable": "OPQ8"
         },
         {
          "mets": "nad",
          "value": -0.022012735931377654,
          "variable": "OPQ8"
         },
         {
          "mets": "nadh",
          "value": 0.09467311630536854,
          "variable": "OPQ8"
         },
         {
          "mets": "nadp",
          "value": -0.07756209415288177,
          "variable": "OPQ8"
         },
         {
          "mets": "nadph",
          "value": -0.021591650547732877,
          "variable": "OPQ8"
         },
         {
          "mets": "oaa",
          "value": -0.01488069912453864,
          "variable": "OPQ8"
         },
         {
          "mets": "pep",
          "value": 0.13254345851843208,
          "variable": "OPQ8"
         },
         {
          "mets": "pyr",
          "value": -0.01733703523339379,
          "variable": "OPQ8"
         },
         {
          "mets": "q8",
          "value": -0.16224287098202633,
          "variable": "OPQ8"
         },
         {
          "mets": "q8h2",
          "value": -0.4613215873773364,
          "variable": "OPQ8"
         },
         {
          "mets": "r5p",
          "value": 0.00037215964977094137,
          "variable": "OPQ8"
         },
         {
          "mets": "ru5p-D",
          "value": -0.00029902531285981387,
          "variable": "OPQ8"
         },
         {
          "mets": "s7p",
          "value": 0.011400058400042282,
          "variable": "OPQ8"
         },
         {
          "mets": "succ",
          "value": -0.13305091055779936,
          "variable": "OPQ8"
         },
         {
          "mets": "succoa",
          "value": 0.03212101168211238,
          "variable": "OPQ8"
         },
         {
          "mets": "xu5p-D",
          "value": 0.02435615635742123,
          "variable": "OPQ8"
         },
         {
          "mets": "13dpg",
          "value": -0.41017769093235923,
          "variable": "AXPr"
         },
         {
          "mets": "2ddg6p",
          "value": -0.10753877813648466,
          "variable": "AXPr"
         },
         {
          "mets": "2dhglcn",
          "value": 0.721649854844506,
          "variable": "AXPr"
         },
         {
          "mets": "2dhglcn p",
          "value": 0.4820867892645685,
          "variable": "AXPr"
         },
         {
          "mets": "2pg",
          "value": -0.0862739650148366,
          "variable": "AXPr"
         },
         {
          "mets": "3pg",
          "value": 0.01887855789267362,
          "variable": "AXPr"
         },
         {
          "mets": "6p2dhglcn",
          "value": 0.11641584742648878,
          "variable": "AXPr"
         },
         {
          "mets": "6pgc",
          "value": -0.017700031751518144,
          "variable": "AXPr"
         },
         {
          "mets": "6pgl",
          "value": -0.2740682261215375,
          "variable": "AXPr"
         },
         {
          "mets": "accoa",
          "value": 0.18720308412405534,
          "variable": "AXPr"
         },
         {
          "mets": "acon C",
          "value": 0.03320482095381386,
          "variable": "AXPr"
         },
         {
          "mets": "adp",
          "value": 0.36936142701409336,
          "variable": "AXPr"
         },
         {
          "mets": "akg",
          "value": 0.017637557546295653,
          "variable": "AXPr"
         },
         {
          "mets": "atp",
          "value": -0.24793995248160483,
          "variable": "AXPr"
         },
         {
          "mets": "cit",
          "value": 0.14180795089185813,
          "variable": "AXPr"
         },
         {
          "mets": "coa",
          "value": 0.19839055682256107,
          "variable": "AXPr"
         },
         {
          "mets": "dhap",
          "value": -0.2383743685251315,
          "variable": "AXPr"
         },
         {
          "mets": "e4p",
          "value": 1.6761810531631288e-05,
          "variable": "AXPr"
         },
         {
          "mets": "f6p",
          "value": -0.5034864283885075,
          "variable": "AXPr"
         },
         {
          "mets": "fdp",
          "value": -0.4816384489964811,
          "variable": "AXPr"
         },
         {
          "mets": "fuc",
          "value": 0.13101555404448725,
          "variable": "AXPr"
         },
         {
          "mets": "g3p",
          "value": -0.22279302620370248,
          "variable": "AXPr"
         },
         {
          "mets": "g6p",
          "value": -1.2971578574066163,
          "variable": "AXPr"
         },
         {
          "mets": "glc-D",
          "value": -0.647519923202207,
          "variable": "AXPr"
         },
         {
          "mets": "glc-D p",
          "value": -1.9748294082328176e-05,
          "variable": "AXPr"
         },
         {
          "mets": "glcn",
          "value": 0.38553809779489967,
          "variable": "AXPr"
         },
         {
          "mets": "glcn p",
          "value": 0.15987960516401362,
          "variable": "AXPr"
         },
         {
          "mets": "icit",
          "value": -0.23916320890901027,
          "variable": "AXPr"
         },
         {
          "mets": "mal-L",
          "value": 0.004457026516255489,
          "variable": "AXPr"
         },
         {
          "mets": "malcoa",
          "value": -0.07363886247050835,
          "variable": "AXPr"
         },
         {
          "mets": "nad",
          "value": 0.19747639359943914,
          "variable": "AXPr"
         },
         {
          "mets": "nadh",
          "value": -0.15896639185740102,
          "variable": "AXPr"
         },
         {
          "mets": "nadp",
          "value": 0.43917241456178896,
          "variable": "AXPr"
         },
         {
          "mets": "nadph",
          "value": 0.11269346145779184,
          "variable": "AXPr"
         },
         {
          "mets": "oaa",
          "value": 0.01663043608168966,
          "variable": "AXPr"
         },
         {
          "mets": "pep",
          "value": -0.610573216097366,
          "variable": "AXPr"
         },
         {
          "mets": "pyr",
          "value": 0.027262412269016625,
          "variable": "AXPr"
         },
         {
          "mets": "q8",
          "value": 0.4125925514929242,
          "variable": "AXPr"
         },
         {
          "mets": "q8h2",
          "value": -0.10168248738268634,
          "variable": "AXPr"
         },
         {
          "mets": "r5p",
          "value": -0.010643480031052734,
          "variable": "AXPr"
         },
         {
          "mets": "ru5p-D",
          "value": -0.015392407055670838,
          "variable": "AXPr"
         },
         {
          "mets": "s7p",
          "value": -0.06544635622094731,
          "variable": "AXPr"
         },
         {
          "mets": "succ",
          "value": -0.17092198512240195,
          "variable": "AXPr"
         },
         {
          "mets": "succoa",
          "value": -0.15461128179356312,
          "variable": "AXPr"
         },
         {
          "mets": "xu5p-D",
          "value": -0.11131312031370896,
          "variable": "AXPr"
         },
         {
          "mets": "13dpg",
          "value": 0.03265283685709715,
          "variable": "NADHr"
         },
         {
          "mets": "2ddg6p",
          "value": -0.03480327160022538,
          "variable": "NADHr"
         },
         {
          "mets": "2dhglcn",
          "value": 0.09193468234959497,
          "variable": "NADHr"
         },
         {
          "mets": "2dhglcn p",
          "value": 0.12000433082530376,
          "variable": "NADHr"
         },
         {
          "mets": "2pg",
          "value": 0.013282354548344989,
          "variable": "NADHr"
         },
         {
          "mets": "3pg",
          "value": 0.048564037922836464,
          "variable": "NADHr"
         },
         {
          "mets": "6p2dhglcn",
          "value": -0.3617477821831765,
          "variable": "NADHr"
         },
         {
          "mets": "6pgc",
          "value": 0.015172570448572321,
          "variable": "NADHr"
         },
         {
          "mets": "6pgl",
          "value": -0.004077069813329648,
          "variable": "NADHr"
         },
         {
          "mets": "accoa",
          "value": 0.04015097952828564,
          "variable": "NADHr"
         },
         {
          "mets": "acon C",
          "value": 0.12351441232397323,
          "variable": "NADHr"
         },
         {
          "mets": "adp",
          "value": -0.06350633935432877,
          "variable": "NADHr"
         },
         {
          "mets": "akg",
          "value": 0.041595202002256124,
          "variable": "NADHr"
         },
         {
          "mets": "atp",
          "value": -0.20311409380875492,
          "variable": "NADHr"
         },
         {
          "mets": "cit",
          "value": 0.128163006557826,
          "variable": "NADHr"
         },
         {
          "mets": "coa",
          "value": 0.03070287133823616,
          "variable": "NADHr"
         },
         {
          "mets": "dhap",
          "value": -0.08232204575432653,
          "variable": "NADHr"
         },
         {
          "mets": "e4p",
          "value": 0.004741471497496786,
          "variable": "NADHr"
         },
         {
          "mets": "f6p",
          "value": -0.16807764086833582,
          "variable": "NADHr"
         },
         {
          "mets": "fdp",
          "value": -0.16699189271060416,
          "variable": "NADHr"
         },
         {
          "mets": "fuc",
          "value": 0.07900438125961612,
          "variable": "NADHr"
         },
         {
          "mets": "g3p",
          "value": -0.08413377939944382,
          "variable": "NADHr"
         },
         {
          "mets": "g6p",
          "value": -0.2853174190591653,
          "variable": "NADHr"
         },
         {
          "mets": "glc-D",
          "value": -0.14271141796937878,
          "variable": "NADHr"
         },
         {
          "mets": "glc-D p",
          "value": -0.00012823548258729167,
          "variable": "NADHr"
         },
         {
          "mets": "glcn",
          "value": 0.18679364378873603,
          "variable": "NADHr"
         },
         {
          "mets": "glcn p",
          "value": 0.05496040159118213,
          "variable": "NADHr"
         },
         {
          "mets": "icit",
          "value": 0.11567738073654406,
          "variable": "NADHr"
         },
         {
          "mets": "mal-L",
          "value": 0.04358831175984421,
          "variable": "NADHr"
         },
         {
          "mets": "malcoa",
          "value": -0.05647311872452783,
          "variable": "NADHr"
         },
         {
          "mets": "nad",
          "value": 0.05484498497406857,
          "variable": "NADHr"
         },
         {
          "mets": "nadh",
          "value": -0.779396725822122,
          "variable": "NADHr"
         },
         {
          "mets": "nadp",
          "value": -0.04065851319444469,
          "variable": "NADHr"
         },
         {
          "mets": "nadph",
          "value": -0.004147699867315133,
          "variable": "NADHr"
         },
         {
          "mets": "oaa",
          "value": 0.008110067841419112,
          "variable": "NADHr"
         },
         {
          "mets": "pep",
          "value": -0.13444173447885255,
          "variable": "NADHr"
         },
         {
          "mets": "pyr",
          "value": 0.009729731006442708,
          "variable": "NADHr"
         },
         {
          "mets": "q8",
          "value": 0.12137612587042412,
          "variable": "NADHr"
         },
         {
          "mets": "q8h2",
          "value": -0.05654526716933778,
          "variable": "NADHr"
         },
         {
          "mets": "r5p",
          "value": 0.008013811525391181,
          "variable": "NADHr"
         },
         {
          "mets": "ru5p-D",
          "value": 0.014832189521032678,
          "variable": "NADHr"
         },
         {
          "mets": "s7p",
          "value": 0.006025288125371486,
          "variable": "NADHr"
         },
         {
          "mets": "succ",
          "value": -0.021989419526864812,
          "variable": "NADHr"
         },
         {
          "mets": "succoa",
          "value": 0.05816906989064906,
          "variable": "NADHr"
         },
         {
          "mets": "xu5p-D",
          "value": -0.024809127982315573,
          "variable": "NADHr"
         },
         {
          "mets": "13dpg",
          "value": -0.18153123312236624,
          "variable": "NADPHr"
         },
         {
          "mets": "2ddg6p",
          "value": -0.0667584072741719,
          "variable": "NADPHr"
         },
         {
          "mets": "2dhglcn",
          "value": 0.17696790960085457,
          "variable": "NADPHr"
         },
         {
          "mets": "2dhglcn p",
          "value": -0.1065373074855426,
          "variable": "NADPHr"
         },
         {
          "mets": "2pg",
          "value": -0.06382361262146209,
          "variable": "NADPHr"
         },
         {
          "mets": "3pg",
          "value": -0.05280898465840311,
          "variable": "NADPHr"
         },
         {
          "mets": "6p2dhglcn",
          "value": 0.7331301559991478,
          "variable": "NADPHr"
         },
         {
          "mets": "6pgc",
          "value": 0.13673709613579432,
          "variable": "NADPHr"
         },
         {
          "mets": "6pgl",
          "value": 0.3438906160909294,
          "variable": "NADPHr"
         },
         {
          "mets": "accoa",
          "value": -0.04774483283096332,
          "variable": "NADPHr"
         },
         {
          "mets": "acon C",
          "value": -0.20504007978403374,
          "variable": "NADPHr"
         },
         {
          "mets": "adp",
          "value": 0.07778887005151199,
          "variable": "NADPHr"
         },
         {
          "mets": "akg",
          "value": 0.06378363682436897,
          "variable": "NADPHr"
         },
         {
          "mets": "atp",
          "value": -0.025942516863576015,
          "variable": "NADPHr"
         },
         {
          "mets": "cit",
          "value": -0.1082339174579296,
          "variable": "NADPHr"
         },
         {
          "mets": "coa",
          "value": 0.20962915717150038,
          "variable": "NADPHr"
         },
         {
          "mets": "dhap",
          "value": -0.030383661696331467,
          "variable": "NADPHr"
         },
         {
          "mets": "e4p",
          "value": 0.16316378796579098,
          "variable": "NADPHr"
         },
         {
          "mets": "f6p",
          "value": -0.05899260568157284,
          "variable": "NADPHr"
         },
         {
          "mets": "fdp",
          "value": -0.06174265929897235,
          "variable": "NADPHr"
         },
         {
          "mets": "fuc",
          "value": -0.1113348387634417,
          "variable": "NADPHr"
         },
         {
          "mets": "g3p",
          "value": -0.032719152568343575,
          "variable": "NADPHr"
         },
         {
          "mets": "g6p",
          "value": -0.2408401498581874,
          "variable": "NADPHr"
         },
         {
          "mets": "glc-D",
          "value": -0.12043882770989717,
          "variable": "NADPHr"
         },
         {
          "mets": "glc-D p",
          "value": -3.861147663927009e-06,
          "variable": "NADPHr"
         },
         {
          "mets": "glcn",
          "value": -0.026562287608502134,
          "variable": "NADPHr"
         },
         {
          "mets": "glcn p",
          "value": -0.07197919551119622,
          "variable": "NADPHr"
         },
         {
          "mets": "icit",
          "value": -0.5025046465162328,
          "variable": "NADPHr"
         },
         {
          "mets": "mal-L",
          "value": -0.1892829777425738,
          "variable": "NADPHr"
         },
         {
          "mets": "malcoa",
          "value": -0.0034150521302741335,
          "variable": "NADPHr"
         },
         {
          "mets": "nad",
          "value": -0.4041209220976325,
          "variable": "NADPHr"
         },
         {
          "mets": "nadh",
          "value": -0.08999250145697466,
          "variable": "NADPHr"
         },
         {
          "mets": "nadp",
          "value": 0.07097307234934763,
          "variable": "NADPHr"
         },
         {
          "mets": "nadph",
          "value": -0.7897873219447371,
          "variable": "NADPHr"
         },
         {
          "mets": "oaa",
          "value": -0.00706788773569673,
          "variable": "NADPHr"
         },
         {
          "mets": "pep",
          "value": -0.11359821700314354,
          "variable": "NADPHr"
         },
         {
          "mets": "pyr",
          "value": -0.0050160409833639044,
          "variable": "NADPHr"
         },
         {
          "mets": "q8",
          "value": -0.2363408352368547,
          "variable": "NADPHr"
         },
         {
          "mets": "q8h2",
          "value": -0.1526383395467688,
          "variable": "NADPHr"
         },
         {
          "mets": "r5p",
          "value": 0.3818832303078954,
          "variable": "NADPHr"
         },
         {
          "mets": "ru5p-D",
          "value": 0.6185148190140151,
          "variable": "NADPHr"
         },
         {
          "mets": "s7p",
          "value": 0.5230816781409979,
          "variable": "NADPHr"
         },
         {
          "mets": "succ",
          "value": 0.04336245639184666,
          "variable": "NADPHr"
         },
         {
          "mets": "succoa",
          "value": 0.010628990174177342,
          "variable": "NADPHr"
         },
         {
          "mets": "xu5p-D",
          "value": 0.378474349517036,
          "variable": "NADPHr"
         },
         {
          "mets": "13dpg",
          "value": 0.02105138278119796,
          "variable": "ACCOAr"
         },
         {
          "mets": "2ddg6p",
          "value": -0.009593939181148143,
          "variable": "ACCOAr"
         },
         {
          "mets": "2dhglcn",
          "value": 0.018790449385582223,
          "variable": "ACCOAr"
         },
         {
          "mets": "2dhglcn p",
          "value": 0.003396253659754116,
          "variable": "ACCOAr"
         },
         {
          "mets": "2pg",
          "value": 0.010409171309353753,
          "variable": "ACCOAr"
         },
         {
          "mets": "3pg",
          "value": 0.0134625779181574,
          "variable": "ACCOAr"
         },
         {
          "mets": "6p2dhglcn",
          "value": 0.06072359289592558,
          "variable": "ACCOAr"
         },
         {
          "mets": "6pgc",
          "value": 0.008594946208018851,
          "variable": "ACCOAr"
         },
         {
          "mets": "6pgl",
          "value": 0.019997757522104656,
          "variable": "ACCOAr"
         },
         {
          "mets": "accoa",
          "value": -0.09434038943326545,
          "variable": "ACCOAr"
         },
         {
          "mets": "acon C",
          "value": -0.11716469929760023,
          "variable": "ACCOAr"
         },
         {
          "mets": "adp",
          "value": 0.0052091479212551355,
          "variable": "ACCOAr"
         },
         {
          "mets": "akg",
          "value": -0.19704640792004313,
          "variable": "ACCOAr"
         },
         {
          "mets": "atp",
          "value": 0.007181896053361916,
          "variable": "ACCOAr"
         },
         {
          "mets": "cit",
          "value": -0.12482872291802646,
          "variable": "ACCOAr"
         },
         {
          "mets": "coa",
          "value": 0.09037379452936896,
          "variable": "ACCOAr"
         },
         {
          "mets": "dhap",
          "value": -0.009881878897200248,
          "variable": "ACCOAr"
         },
         {
          "mets": "e4p",
          "value": 0.006880885197153244,
          "variable": "ACCOAr"
         },
         {
          "mets": "f6p",
          "value": -0.018230664308738393,
          "variable": "ACCOAr"
         },
         {
          "mets": "fdp",
          "value": -0.02035079407495119,
          "variable": "ACCOAr"
         },
         {
          "mets": "fuc",
          "value": -0.033471796619782605,
          "variable": "ACCOAr"
         },
         {
          "mets": "g3p",
          "value": -0.012536386419031743,
          "variable": "ACCOAr"
         },
         {
          "mets": "g6p",
          "value": 0.003157763691016199,
          "variable": "ACCOAr"
         },
         {
          "mets": "glc-D",
          "value": 0.001486442396838481,
          "variable": "ACCOAr"
         },
         {
          "mets": "glc-D p",
          "value": -3.650789873613152e-05,
          "variable": "ACCOAr"
         },
         {
          "mets": "glcn",
          "value": -0.0018728970063448464,
          "variable": "ACCOAr"
         },
         {
          "mets": "glcn p",
          "value": 0.00010388194389796682,
          "variable": "ACCOAr"
         },
         {
          "mets": "icit",
          "value": -0.11428068970685432,
          "variable": "ACCOAr"
         },
         {
          "mets": "mal-L",
          "value": -0.03691444570907538,
          "variable": "ACCOAr"
         },
         {
          "mets": "malcoa",
          "value": -0.017881761079412285,
          "variable": "ACCOAr"
         },
         {
          "mets": "nad",
          "value": 0.051915300912806224,
          "variable": "ACCOAr"
         },
         {
          "mets": "nadh",
          "value": 0.017535552032367667,
          "variable": "ACCOAr"
         },
         {
          "mets": "nadp",
          "value": -0.006520883256446959,
          "variable": "ACCOAr"
         },
         {
          "mets": "nadph",
          "value": -0.030796357618365983,
          "variable": "ACCOAr"
         },
         {
          "mets": "oaa",
          "value": -0.00020585221292480815,
          "variable": "ACCOAr"
         },
         {
          "mets": "pep",
          "value": 0.0005602699226508515,
          "variable": "ACCOAr"
         },
         {
          "mets": "pyr",
          "value": -0.0008048158291475118,
          "variable": "ACCOAr"
         },
         {
          "mets": "q8",
          "value": -0.001021129065634788,
          "variable": "ACCOAr"
         },
         {
          "mets": "q8h2",
          "value": -0.003977783716903601,
          "variable": "ACCOAr"
         },
         {
          "mets": "r5p",
          "value": 0.01620531289657276,
          "variable": "ACCOAr"
         },
         {
          "mets": "ru5p-D",
          "value": 0.02620958303280845,
          "variable": "ACCOAr"
         },
         {
          "mets": "s7p",
          "value": 0.024245534613044455,
          "variable": "ACCOAr"
         },
         {
          "mets": "succ",
          "value": -0.04164365632037244,
          "variable": "ACCOAr"
         },
         {
          "mets": "succoa",
          "value": -0.010329859219544796,
          "variable": "ACCOAr"
         },
         {
          "mets": "xu5p-D",
          "value": 0.013048140570053476,
          "variable": "ACCOAr"
         },
         {
          "mets": "13dpg",
          "value": -0.07127669754164906,
          "variable": "Q8H2r"
         },
         {
          "mets": "2ddg6p",
          "value": -0.02771397804384082,
          "variable": "Q8H2r"
         },
         {
          "mets": "2dhglcn",
          "value": 0.207017825001502,
          "variable": "Q8H2r"
         },
         {
          "mets": "2dhglcn p",
          "value": 0.11841354795193496,
          "variable": "Q8H2r"
         },
         {
          "mets": "2pg",
          "value": -0.023050090634435055,
          "variable": "Q8H2r"
         },
         {
          "mets": "3pg",
          "value": 0.0022947580583610534,
          "variable": "Q8H2r"
         },
         {
          "mets": "6p2dhglcn",
          "value": 0.04944436421486943,
          "variable": "Q8H2r"
         },
         {
          "mets": "6pgc",
          "value": -0.005274732654758733,
          "variable": "Q8H2r"
         },
         {
          "mets": "6pgl",
          "value": -0.051699538573952944,
          "variable": "Q8H2r"
         },
         {
          "mets": "accoa",
          "value": 0.06903081227839919,
          "variable": "Q8H2r"
         },
         {
          "mets": "acon C",
          "value": 0.007751840928875977,
          "variable": "Q8H2r"
         },
         {
          "mets": "adp",
          "value": -0.0011442964095876652,
          "variable": "Q8H2r"
         },
         {
          "mets": "akg",
          "value": -0.009484299904157542,
          "variable": "Q8H2r"
         },
         {
          "mets": "atp",
          "value": -0.14418223589551601,
          "variable": "Q8H2r"
         },
         {
          "mets": "cit",
          "value": 0.0345710857965638,
          "variable": "Q8H2r"
         },
         {
          "mets": "coa",
          "value": 0.06535670584331513,
          "variable": "Q8H2r"
         },
         {
          "mets": "dhap",
          "value": -0.0523735104384917,
          "variable": "Q8H2r"
         },
         {
          "mets": "e4p",
          "value": -0.00016228236457443848,
          "variable": "Q8H2r"
         },
         {
          "mets": "f6p",
          "value": -0.11149118123929286,
          "variable": "Q8H2r"
         },
         {
          "mets": "fdp",
          "value": -0.10586537945508298,
          "variable": "Q8H2r"
         },
         {
          "mets": "fuc",
          "value": 0.04424394878643294,
          "variable": "Q8H2r"
         },
         {
          "mets": "g3p",
          "value": -0.048386261234584636,
          "variable": "Q8H2r"
         },
         {
          "mets": "g6p",
          "value": -0.296530646144629,
          "variable": "Q8H2r"
         },
         {
          "mets": "glc-D",
          "value": -0.14816372037456232,
          "variable": "Q8H2r"
         },
         {
          "mets": "glc-D p",
          "value": -2.6359051814883853e-06,
          "variable": "Q8H2r"
         },
         {
          "mets": "glcn",
          "value": 0.12165560105277659,
          "variable": "Q8H2r"
         },
         {
          "mets": "glcn p",
          "value": 0.03192410090648952,
          "variable": "Q8H2r"
         },
         {
          "mets": "icit",
          "value": -0.06084200642480588,
          "variable": "Q8H2r"
         },
         {
          "mets": "mal-L",
          "value": 0.012579475151347837,
          "variable": "Q8H2r"
         },
         {
          "mets": "malcoa",
          "value": -0.012588955301759113,
          "variable": "Q8H2r"
         },
         {
          "mets": "nad",
          "value": 0.06151931840269201,
          "variable": "Q8H2r"
         },
         {
          "mets": "nadh",
          "value": -0.00014513462599601766,
          "variable": "Q8H2r"
         },
         {
          "mets": "nadp",
          "value": 0.11663977314553567,
          "variable": "Q8H2r"
         },
         {
          "mets": "nadph",
          "value": 0.028067967246331156,
          "variable": "Q8H2r"
         },
         {
          "mets": "oaa",
          "value": -0.0019629324374207087,
          "variable": "Q8H2r"
         },
         {
          "mets": "pep",
          "value": -0.1457497850457301,
          "variable": "Q8H2r"
         },
         {
          "mets": "pyr",
          "value": 0.00020474687843619857,
          "variable": "Q8H2r"
         },
         {
          "mets": "q8",
          "value": 0.05267456070844846,
          "variable": "Q8H2r"
         },
         {
          "mets": "q8h2",
          "value": -0.3583321217488634,
          "variable": "Q8H2r"
         },
         {
          "mets": "r5p",
          "value": -0.0025921963831003736,
          "variable": "Q8H2r"
         },
         {
          "mets": "ru5p-D",
          "value": -0.004043935582653419,
          "variable": "Q8H2r"
         },
         {
          "mets": "s7p",
          "value": -0.015759535350630537,
          "variable": "Q8H2r"
         },
         {
          "mets": "succ",
          "value": -0.17099787940003386,
          "variable": "Q8H2r"
         },
         {
          "mets": "succoa",
          "value": -0.03462099152128123,
          "variable": "Q8H2r"
         },
         {
          "mets": "xu5p-D",
          "value": -0.024837802864428472,
          "variable": "Q8H2r"
         },
         {
          "mets": "13dpg",
          "value": -0.0004693793042892694,
          "variable": "GLCtex"
         },
         {
          "mets": "2ddg6p",
          "value": 0.0023732755317739133,
          "variable": "GLCtex"
         },
         {
          "mets": "2dhglcn",
          "value": -0.0009560726266526383,
          "variable": "GLCtex"
         },
         {
          "mets": "2dhglcn p",
          "value": -0.0017715758754865934,
          "variable": "GLCtex"
         },
         {
          "mets": "2pg",
          "value": 0.00020930531583690818,
          "variable": "GLCtex"
         },
         {
          "mets": "3pg",
          "value": 0.0004974464729847792,
          "variable": "GLCtex"
         },
         {
          "mets": "6p2dhglcn",
          "value": -0.0010773274434026623,
          "variable": "GLCtex"
         },
         {
          "mets": "6pgc",
          "value": 0.00033794358554249394,
          "variable": "GLCtex"
         },
         {
          "mets": "6pgl",
          "value": 0.0005320069716696627,
          "variable": "GLCtex"
         },
         {
          "mets": "accoa",
          "value": -0.00035671095119816086,
          "variable": "GLCtex"
         },
         {
          "mets": "acon C",
          "value": 0.0010598615026086733,
          "variable": "GLCtex"
         },
         {
          "mets": "adp",
          "value": 0.001266513845737938,
          "variable": "GLCtex"
         },
         {
          "mets": "akg",
          "value": 0.0007535718675758922,
          "variable": "GLCtex"
         },
         {
          "mets": "atp",
          "value": -0.00010902937406852877,
          "variable": "GLCtex"
         },
         {
          "mets": "cit",
          "value": 0.0003665008150115192,
          "variable": "GLCtex"
         },
         {
          "mets": "coa",
          "value": -0.00029259634665296296,
          "variable": "GLCtex"
         },
         {
          "mets": "dhap",
          "value": 0.0016347723747030794,
          "variable": "GLCtex"
         },
         {
          "mets": "e4p",
          "value": 4.774764747823655e-05,
          "variable": "GLCtex"
         },
         {
          "mets": "f6p",
          "value": 0.0035190304236930314,
          "variable": "GLCtex"
         },
         {
          "mets": "fdp",
          "value": 0.0033421677548204033,
          "variable": "GLCtex"
         },
         {
          "mets": "fuc",
          "value": 2.8852096335057676e-05,
          "variable": "GLCtex"
         },
         {
          "mets": "g3p",
          "value": 0.001490239611310455,
          "variable": "GLCtex"
         },
         {
          "mets": "g6p",
          "value": 0.007388937586324236,
          "variable": "GLCtex"
         },
         {
          "mets": "glc-D",
          "value": 0.010445057891870764,
          "variable": "GLCtex"
         },
         {
          "mets": "glc-D p",
          "value": 0.013316094455206484,
          "variable": "GLCtex"
         },
         {
          "mets": "glcn",
          "value": 0.0016981380039798562,
          "variable": "GLCtex"
         },
         {
          "mets": "glcn p",
          "value": 0.0013992913473162391,
          "variable": "GLCtex"
         },
         {
          "mets": "icit",
          "value": 0.0029476826906636236,
          "variable": "GLCtex"
         },
         {
          "mets": "mal-L",
          "value": 0.0007614169670233407,
          "variable": "GLCtex"
         },
         {
          "mets": "malcoa",
          "value": -0.0008460141586698135,
          "variable": "GLCtex"
         },
         {
          "mets": "nad",
          "value": -0.0010777168134529175,
          "variable": "GLCtex"
         },
         {
          "mets": "nadh",
          "value": 0.0006586508063891795,
          "variable": "GLCtex"
         },
         {
          "mets": "nadp",
          "value": -0.0027774264688341104,
          "variable": "GLCtex"
         },
         {
          "mets": "nadph",
          "value": -0.00025112061707814875,
          "variable": "GLCtex"
         },
         {
          "mets": "oaa",
          "value": 0.0010295645652135203,
          "variable": "GLCtex"
         },
         {
          "mets": "pep",
          "value": -0.00046812917570696896,
          "variable": "GLCtex"
         },
         {
          "mets": "pyr",
          "value": 0.0010565987884698321,
          "variable": "GLCtex"
         },
         {
          "mets": "q8",
          "value": -0.007568742463943052,
          "variable": "GLCtex"
         },
         {
          "mets": "q8h2",
          "value": -0.00261831643098304,
          "variable": "GLCtex"
         },
         {
          "mets": "r5p",
          "value": 0.00016405553001967374,
          "variable": "GLCtex"
         },
         {
          "mets": "ru5p-D",
          "value": 0.0002543743082135656,
          "variable": "GLCtex"
         },
         {
          "mets": "s7p",
          "value": 0.0004438688949894885,
          "variable": "GLCtex"
         },
         {
          "mets": "succ",
          "value": 0.004615091956511778,
          "variable": "GLCtex"
         },
         {
          "mets": "succoa",
          "value": -0.00017716610172254085,
          "variable": "GLCtex"
         },
         {
          "mets": "xu5p-D",
          "value": 0.0008138088131452076,
          "variable": "GLCtex"
         },
         {
          "mets": "13dpg",
          "value": 0.03801179843144424,
          "variable": "EX pyr"
         },
         {
          "mets": "2ddg6p",
          "value": -0.1296072043009637,
          "variable": "EX pyr"
         },
         {
          "mets": "2dhglcn",
          "value": 0.036054729779062,
          "variable": "EX pyr"
         },
         {
          "mets": "2dhglcn p",
          "value": 0.026160901118395564,
          "variable": "EX pyr"
         },
         {
          "mets": "2pg",
          "value": -0.01671386870746406,
          "variable": "EX pyr"
         },
         {
          "mets": "3pg",
          "value": 0.017414335929201143,
          "variable": "EX pyr"
         },
         {
          "mets": "6p2dhglcn",
          "value": 0.05819931579943059,
          "variable": "EX pyr"
         },
         {
          "mets": "6pgc",
          "value": 0.017100346981699908,
          "variable": "EX pyr"
         },
         {
          "mets": "6pgl",
          "value": 0.06869011756290352,
          "variable": "EX pyr"
         },
         {
          "mets": "accoa",
          "value": 0.06446178585107126,
          "variable": "EX pyr"
         },
         {
          "mets": "acon C",
          "value": -0.15310683275960524,
          "variable": "EX pyr"
         },
         {
          "mets": "adp",
          "value": 0.004249247070758749,
          "variable": "EX pyr"
         },
         {
          "mets": "akg",
          "value": -0.21601878714020198,
          "variable": "EX pyr"
         },
         {
          "mets": "atp",
          "value": 0.007998295146674946,
          "variable": "EX pyr"
         },
         {
          "mets": "cit",
          "value": -0.15735829517364752,
          "variable": "EX pyr"
         },
         {
          "mets": "coa",
          "value": -0.0013553961025197826,
          "variable": "EX pyr"
         },
         {
          "mets": "dhap",
          "value": 0.007830128158864502,
          "variable": "EX pyr"
         },
         {
          "mets": "e4p",
          "value": 0.008938684369193818,
          "variable": "EX pyr"
         },
         {
          "mets": "f6p",
          "value": 0.015273967983966335,
          "variable": "EX pyr"
         },
         {
          "mets": "fdp",
          "value": 0.015733531199375036,
          "variable": "EX pyr"
         },
         {
          "mets": "fuc",
          "value": -0.08682258546059292,
          "variable": "EX pyr"
         },
         {
          "mets": "g3p",
          "value": 0.008487657324618184,
          "variable": "EX pyr"
         },
         {
          "mets": "g6p",
          "value": 0.005229177825147698,
          "variable": "EX pyr"
         },
         {
          "mets": "glc-D",
          "value": 0.0025501727941559995,
          "variable": "EX pyr"
         },
         {
          "mets": "glc-D p",
          "value": -0.00013756441767903606,
          "variable": "EX pyr"
         },
         {
          "mets": "glcn",
          "value": 0.009928116553985771,
          "variable": "EX pyr"
         },
         {
          "mets": "glcn p",
          "value": 0.009505512731947954,
          "variable": "EX pyr"
         },
         {
          "mets": "icit",
          "value": -0.15821396247666977,
          "variable": "EX pyr"
         },
         {
          "mets": "mal-L",
          "value": -0.12524550660180128,
          "variable": "EX pyr"
         },
         {
          "mets": "malcoa",
          "value": 0.0310547178397947,
          "variable": "EX pyr"
         },
         {
          "mets": "nad",
          "value": 0.0521865751602458,
          "variable": "EX pyr"
         },
         {
          "mets": "nadh",
          "value": -0.014047770138997936,
          "variable": "EX pyr"
         },
         {
          "mets": "nadp",
          "value": 0.011967678193620969,
          "variable": "EX pyr"
         },
         {
          "mets": "nadph",
          "value": -0.02161615391747952,
          "variable": "EX pyr"
         },
         {
          "mets": "oaa",
          "value": -0.22157476141546392,
          "variable": "EX pyr"
         },
         {
          "mets": "pep",
          "value": -0.21580134592395456,
          "variable": "EX pyr"
         },
         {
          "mets": "pyr",
          "value": -0.2223386806678263,
          "variable": "EX pyr"
         },
         {
          "mets": "q8",
          "value": 0.026849064630803988,
          "variable": "EX pyr"
         },
         {
          "mets": "q8h2",
          "value": -0.0014090627492515117,
          "variable": "EX pyr"
         },
         {
          "mets": "r5p",
          "value": 0.020920283659806582,
          "variable": "EX pyr"
         },
         {
          "mets": "ru5p-D",
          "value": 0.034663593346215646,
          "variable": "EX pyr"
         },
         {
          "mets": "s7p",
          "value": 0.029218288514345908,
          "variable": "EX pyr"
         },
         {
          "mets": "succ",
          "value": -0.10833692143326178,
          "variable": "EX pyr"
         },
         {
          "mets": "succoa",
          "value": -0.09596894743629844,
          "variable": "EX pyr"
         },
         {
          "mets": "xu5p-D",
          "value": 0.02735152168433949,
          "variable": "EX pyr"
         },
         {
          "mets": "13dpg",
          "value": 0.0061313072806681995,
          "variable": "EX pep"
         },
         {
          "mets": "2ddg6p",
          "value": -0.048460891647680554,
          "variable": "EX pep"
         },
         {
          "mets": "2dhglcn",
          "value": 0.027058835601631595,
          "variable": "EX pep"
         },
         {
          "mets": "2dhglcn p",
          "value": 0.018789324519293563,
          "variable": "EX pep"
         },
         {
          "mets": "2pg",
          "value": -0.007545853209293251,
          "variable": "EX pep"
         },
         {
          "mets": "3pg",
          "value": 0.00701995768427531,
          "variable": "EX pep"
         },
         {
          "mets": "6p2dhglcn",
          "value": 0.02364969647855903,
          "variable": "EX pep"
         },
         {
          "mets": "6pgc",
          "value": 0.005754306721292374,
          "variable": "EX pep"
         },
         {
          "mets": "6pgl",
          "value": 0.019170278721575895,
          "variable": "EX pep"
         },
         {
          "mets": "accoa",
          "value": 0.027463816798133305,
          "variable": "EX pep"
         },
         {
          "mets": "acon C",
          "value": -0.054428247841104886,
          "variable": "EX pep"
         },
         {
          "mets": "adp",
          "value": 0.00989938715342253,
          "variable": "EX pep"
         },
         {
          "mets": "akg",
          "value": -0.07728495547050637,
          "variable": "EX pep"
         },
         {
          "mets": "atp",
          "value": 2.77212501323991e-05,
          "variable": "EX pep"
         },
         {
          "mets": "cit",
          "value": -0.053618498680368984,
          "variable": "EX pep"
         },
         {
          "mets": "coa",
          "value": 0.003814903830024651,
          "variable": "EX pep"
         },
         {
          "mets": "dhap",
          "value": -0.0016254401848653757,
          "variable": "EX pep"
         },
         {
          "mets": "e4p",
          "value": 0.0032179405895335377,
          "variable": "EX pep"
         },
         {
          "mets": "f6p",
          "value": -0.0038191508775463887,
          "variable": "EX pep"
         },
         {
          "mets": "fdp",
          "value": -0.003292971731561771,
          "variable": "EX pep"
         },
         {
          "mets": "fuc",
          "value": -0.028387918194400917,
          "variable": "EX pep"
         },
         {
          "mets": "g3p",
          "value": -0.0012249699961330623,
          "variable": "EX pep"
         },
         {
          "mets": "g6p",
          "value": -0.02078478376585606,
          "variable": "EX pep"
         },
         {
          "mets": "glc-D",
          "value": -0.010425138083539006,
          "variable": "EX pep"
         },
         {
          "mets": "glc-D p",
          "value": -4.9040358304416625e-05,
          "variable": "EX pep"
         },
         {
          "mets": "glcn",
          "value": 0.010505234754189807,
          "variable": "EX pep"
         },
         {
          "mets": "glcn p",
          "value": 0.00663832709355186,
          "variable": "EX pep"
         },
         {
          "mets": "icit",
          "value": -0.06183898098475368,
          "variable": "EX pep"
         },
         {
          "mets": "mal-L",
          "value": -0.04529493377576024,
          "variable": "EX pep"
         },
         {
          "mets": "malcoa",
          "value": 0.010418167830444,
          "variable": "EX pep"
         },
         {
          "mets": "nad",
          "value": 0.02288938386871131,
          "variable": "EX pep"
         },
         {
          "mets": "nadh",
          "value": -0.008222298016991415,
          "variable": "EX pep"
         },
         {
          "mets": "nadp",
          "value": 0.01376287618218101,
          "variable": "EX pep"
         },
         {
          "mets": "nadph",
          "value": -0.0053280706024182965,
          "variable": "EX pep"
         },
         {
          "mets": "oaa",
          "value": -0.0785148110279558,
          "variable": "EX pep"
         },
         {
          "mets": "pep",
          "value": -0.0890320445632248,
          "variable": "EX pep"
         },
         {
          "mets": "pyr",
          "value": -0.0785474126724679,
          "variable": "EX pep"
         },
         {
          "mets": "q8",
          "value": 0.017885272285927064,
          "variable": "EX pep"
         },
         {
          "mets": "q8h2",
          "value": -0.002974443673755667,
          "variable": "EX pep"
         },
         {
          "mets": "r5p",
          "value": 0.007195437720867956,
          "variable": "EX pep"
         },
         {
          "mets": "ru5p-D",
          "value": 0.0120498509196909,
          "variable": "EX pep"
         },
         {
          "mets": "s7p",
          "value": 0.00918723483824736,
          "variable": "EX pep"
         },
         {
          "mets": "succ",
          "value": -0.04266762593826674,
          "variable": "EX pep"
         },
         {
          "mets": "succoa",
          "value": -0.03767490407093739,
          "variable": "EX pep"
         },
         {
          "mets": "xu5p-D",
          "value": 0.007469160808990466,
          "variable": "EX pep"
         },
         {
          "mets": "13dpg",
          "value": -0.0013391803667777737,
          "variable": "EX g6p"
         },
         {
          "mets": "2ddg6p",
          "value": -0.000637261397638167,
          "variable": "EX g6p"
         },
         {
          "mets": "2dhglcn",
          "value": 0.0028008311979644362,
          "variable": "EX g6p"
         },
         {
          "mets": "2dhglcn p",
          "value": 0.0021023551336594743,
          "variable": "EX g6p"
         },
         {
          "mets": "2pg",
          "value": -0.00034930561200148796,
          "variable": "EX g6p"
         },
         {
          "mets": "3pg",
          "value": -3.2894958130226602e-06,
          "variable": "EX g6p"
         },
         {
          "mets": "6p2dhglcn",
          "value": 0.0007442457033379935,
          "variable": "EX g6p"
         },
         {
          "mets": "6pgc",
          "value": -9.240906380104831e-05,
          "variable": "EX g6p"
         },
         {
          "mets": "6pgl",
          "value": -0.0014976689303647299,
          "variable": "EX g6p"
         },
         {
          "mets": "accoa",
          "value": 0.000713865573720388,
          "variable": "EX g6p"
         },
         {
          "mets": "acon C",
          "value": -4.140299094830756e-05,
          "variable": "EX g6p"
         },
         {
          "mets": "adp",
          "value": 0.001213361671497481,
          "variable": "EX g6p"
         },
         {
          "mets": "akg",
          "value": -5.123706017940081e-06,
          "variable": "EX g6p"
         },
         {
          "mets": "atp",
          "value": -0.0006484119718798925,
          "variable": "EX g6p"
         },
         {
          "mets": "cit",
          "value": 0.0004454056535914003,
          "variable": "EX g6p"
         },
         {
          "mets": "coa",
          "value": 0.0007754247448601721,
          "variable": "EX g6p"
         },
         {
          "mets": "dhap",
          "value": -0.0010942728852495302,
          "variable": "EX g6p"
         },
         {
          "mets": "e4p",
          "value": 5.42993018928004e-06,
          "variable": "EX g6p"
         },
         {
          "mets": "f6p",
          "value": -0.002330624702613692,
          "variable": "EX g6p"
         },
         {
          "mets": "fdp",
          "value": -0.0022111068938757018,
          "variable": "EX g6p"
         },
         {
          "mets": "fuc",
          "value": 0.0004409521951961679,
          "variable": "EX g6p"
         },
         {
          "mets": "g3p",
          "value": -0.0009939084146849337,
          "variable": "EX g6p"
         },
         {
          "mets": "g6p",
          "value": -0.006304269760355932,
          "variable": "EX g6p"
         },
         {
          "mets": "glc-D",
          "value": -0.0031081179268809597,
          "variable": "EX g6p"
         },
         {
          "mets": "glc-D p",
          "value": -9.750928326440125e-05,
          "variable": "EX g6p"
         },
         {
          "mets": "glcn",
          "value": 0.0013227497365086173,
          "variable": "EX g6p"
         },
         {
          "mets": "glcn p",
          "value": 0.0006931639922654161,
          "variable": "EX g6p"
         },
         {
          "mets": "icit",
          "value": -0.0013378217669262737,
          "variable": "EX g6p"
         },
         {
          "mets": "mal-L",
          "value": -0.00014786738845629435,
          "variable": "EX g6p"
         },
         {
          "mets": "malcoa",
          "value": -0.0001047965925689512,
          "variable": "EX g6p"
         },
         {
          "mets": "nad",
          "value": 0.0008934336936578239,
          "variable": "EX g6p"
         },
         {
          "mets": "nadh",
          "value": -0.0006807576168349996,
          "variable": "EX g6p"
         },
         {
          "mets": "nadp",
          "value": 0.002069144995126537,
          "variable": "EX g6p"
         },
         {
          "mets": "nadph",
          "value": 0.0004593839313495261,
          "variable": "EX g6p"
         },
         {
          "mets": "oaa",
          "value": -4.295120270258916e-05,
          "variable": "EX g6p"
         },
         {
          "mets": "pep",
          "value": -0.0019465179785623022,
          "variable": "EX g6p"
         },
         {
          "mets": "pyr",
          "value": -9.204484821560657e-06,
          "variable": "EX g6p"
         },
         {
          "mets": "q8",
          "value": 0.0020928570939038587,
          "variable": "EX g6p"
         },
         {
          "mets": "q8h2",
          "value": -9.863952753378413e-05,
          "variable": "EX g6p"
         },
         {
          "mets": "r5p",
          "value": -4.037822711942274e-05,
          "variable": "EX g6p"
         },
         {
          "mets": "ru5p-D",
          "value": -5.197760291664159e-05,
          "variable": "EX g6p"
         },
         {
          "mets": "s7p",
          "value": -0.0003120178763142597,
          "variable": "EX g6p"
         },
         {
          "mets": "succ",
          "value": -0.001021009376196035,
          "variable": "EX g6p"
         },
         {
          "mets": "succoa",
          "value": -0.00042966221593367755,
          "variable": "EX g6p"
         },
         {
          "mets": "xu5p-D",
          "value": -0.0005088066715794165,
          "variable": "EX g6p"
         },
         {
          "mets": "13dpg",
          "value": 0.019586971345669512,
          "variable": "EX r5p"
         },
         {
          "mets": "2ddg6p",
          "value": 0.0018602583790085707,
          "variable": "EX r5p"
         },
         {
          "mets": "2dhglcn",
          "value": 0.021614658323114884,
          "variable": "EX r5p"
         },
         {
          "mets": "2dhglcn p",
          "value": 0.020803225123391392,
          "variable": "EX r5p"
         },
         {
          "mets": "2pg",
          "value": 0.010474336364419978,
          "variable": "EX r5p"
         },
         {
          "mets": "3pg",
          "value": 0.010478853677922256,
          "variable": "EX r5p"
         },
         {
          "mets": "6p2dhglcn",
          "value": 0.045781661919581704,
          "variable": "EX r5p"
         },
         {
          "mets": "6pgc",
          "value": 0.012474438995049412,
          "variable": "EX r5p"
         },
         {
          "mets": "6pgl",
          "value": 0.04542307019718094,
          "variable": "EX r5p"
         },
         {
          "mets": "accoa",
          "value": 0.0017724753118448172,
          "variable": "EX r5p"
         },
         {
          "mets": "acon C",
          "value": 0.013217390249687846,
          "variable": "EX r5p"
         },
         {
          "mets": "adp",
          "value": 0.007826734092354053,
          "variable": "EX r5p"
         },
         {
          "mets": "akg",
          "value": -0.0011288272323451407,
          "variable": "EX r5p"
         },
         {
          "mets": "atp",
          "value": 0.01579612669740248,
          "variable": "EX r5p"
         },
         {
          "mets": "cit",
          "value": 0.012222077417280536,
          "variable": "EX r5p"
         },
         {
          "mets": "coa",
          "value": -0.019157359289093366,
          "variable": "EX r5p"
         },
         {
          "mets": "dhap",
          "value": -0.016582009938372506,
          "variable": "EX r5p"
         },
         {
          "mets": "e4p",
          "value": -0.1312849158501131,
          "variable": "EX r5p"
         },
         {
          "mets": "f6p",
          "value": -0.0357773712534889,
          "variable": "EX r5p"
         },
         {
          "mets": "fdp",
          "value": -0.033765581229698235,
          "variable": "EX r5p"
         },
         {
          "mets": "fuc",
          "value": 0.004662284847459496,
          "variable": "EX r5p"
         },
         {
          "mets": "g3p",
          "value": -0.014906530277159477,
          "variable": "EX r5p"
         },
         {
          "mets": "g6p",
          "value": 0.01038739127475741,
          "variable": "EX r5p"
         },
         {
          "mets": "glc-D",
          "value": 0.005227293036370264,
          "variable": "EX r5p"
         },
         {
          "mets": "glc-D p",
          "value": -0.00012617331237494992,
          "variable": "EX r5p"
         },
         {
          "mets": "glcn",
          "value": 0.0025151396034557754,
          "variable": "EX r5p"
         },
         {
          "mets": "glcn p",
          "value": 0.006094101471067466,
          "variable": "EX r5p"
         },
         {
          "mets": "icit",
          "value": 0.016180744135664483,
          "variable": "EX r5p"
         },
         {
          "mets": "mal-L",
          "value": -0.00025877151426209215,
          "variable": "EX r5p"
         },
         {
          "mets": "malcoa",
          "value": 0.0010462349159624648,
          "variable": "EX r5p"
         },
         {
          "mets": "nad",
          "value": 0.04943202822244168,
          "variable": "EX r5p"
         },
         {
          "mets": "nadh",
          "value": 0.002458800134734716,
          "variable": "EX r5p"
         },
         {
          "mets": "nadp",
          "value": 0.01384041274577362,
          "variable": "EX r5p"
         },
         {
          "mets": "nadph",
          "value": -0.00044323657410568005,
          "variable": "EX r5p"
         },
         {
          "mets": "oaa",
          "value": 0.004517364541934124,
          "variable": "EX r5p"
         },
         {
          "mets": "pep",
          "value": 0.011831011306319385,
          "variable": "EX r5p"
         },
         {
          "mets": "pyr",
          "value": 0.004424973386180144,
          "variable": "EX r5p"
         },
         {
          "mets": "q8",
          "value": 0.023846113962202715,
          "variable": "EX r5p"
         },
         {
          "mets": "q8h2",
          "value": 0.00339120458206645,
          "variable": "EX r5p"
         },
         {
          "mets": "r5p",
          "value": -0.691933464256459,
          "variable": "EX r5p"
         },
         {
          "mets": "ru5p-D",
          "value": -0.2874029114820036,
          "variable": "EX r5p"
         },
         {
          "mets": "s7p",
          "value": -0.3883933420150778,
          "variable": "EX r5p"
         },
         {
          "mets": "succ",
          "value": -0.01242235383655052,
          "variable": "EX r5p"
         },
         {
          "mets": "succoa",
          "value": -0.004651084255843435,
          "variable": "EX r5p"
         },
         {
          "mets": "xu5p-D",
          "value": 0.02266677348251442,
          "variable": "EX r5p"
         },
         {
          "mets": "13dpg",
          "value": -0.010732596943636631,
          "variable": "EX g3p"
         },
         {
          "mets": "2ddg6p",
          "value": -0.005000061809266857,
          "variable": "EX g3p"
         },
         {
          "mets": "2dhglcn",
          "value": 0.006755319255892284,
          "variable": "EX g3p"
         },
         {
          "mets": "2dhglcn p",
          "value": 0.008146997122270787,
          "variable": "EX g3p"
         },
         {
          "mets": "2pg",
          "value": -0.005756533307032778,
          "variable": "EX g3p"
         },
         {
          "mets": "3pg",
          "value": -0.007886737498969376,
          "variable": "EX g3p"
         },
         {
          "mets": "6p2dhglcn",
          "value": 0.00208944430167149,
          "variable": "EX g3p"
         },
         {
          "mets": "6pgc",
          "value": 0.0014034057134479248,
          "variable": "EX g3p"
         },
         {
          "mets": "6pgl",
          "value": 0.010446094716836501,
          "variable": "EX g3p"
         },
         {
          "mets": "accoa",
          "value": 0.0002613498111739787,
          "variable": "EX g3p"
         },
         {
          "mets": "acon C",
          "value": -0.0023532883534512234,
          "variable": "EX g3p"
         },
         {
          "mets": "adp",
          "value": -0.0007194983335644925,
          "variable": "EX g3p"
         },
         {
          "mets": "akg",
          "value": 0.0010507169023732798,
          "variable": "EX g3p"
         },
         {
          "mets": "atp",
          "value": -0.00016882979186137606,
          "variable": "EX g3p"
         },
         {
          "mets": "cit",
          "value": -0.000210068110368873,
          "variable": "EX g3p"
         },
         {
          "mets": "coa",
          "value": 0.0032138518139093034,
          "variable": "EX g3p"
         },
         {
          "mets": "dhap",
          "value": -0.011349788343086045,
          "variable": "EX g3p"
         },
         {
          "mets": "e4p",
          "value": 0.0003810810070082808,
          "variable": "EX g3p"
         },
         {
          "mets": "f6p",
          "value": -0.021243978428891128,
          "variable": "EX g3p"
         },
         {
          "mets": "fdp",
          "value": -0.023153558557136564,
          "variable": "EX g3p"
         },
         {
          "mets": "fuc",
          "value": 0.0007185783237132792,
          "variable": "EX g3p"
         },
         {
          "mets": "g3p",
          "value": -0.013685690235546819,
          "variable": "EX g3p"
         },
         {
          "mets": "g6p",
          "value": -0.00037482422219908384,
          "variable": "EX g3p"
         },
         {
          "mets": "glc-D",
          "value": -0.00024190817102659847,
          "variable": "EX g3p"
         },
         {
          "mets": "glc-D p",
          "value": -5.342813593581434e-05,
          "variable": "EX g3p"
         },
         {
          "mets": "glcn",
          "value": 0.003967984401640927,
          "variable": "EX g3p"
         },
         {
          "mets": "glcn p",
          "value": 0.003622693159405237,
          "variable": "EX g3p"
         },
         {
          "mets": "icit",
          "value": -0.007725923893289964,
          "variable": "EX g3p"
         },
         {
          "mets": "mal-L",
          "value": -0.0005268297053625175,
          "variable": "EX g3p"
         },
         {
          "mets": "malcoa",
          "value": 0.0011075429176926525,
          "variable": "EX g3p"
         },
         {
          "mets": "nad",
          "value": -0.0016099539237593521,
          "variable": "EX g3p"
         },
         {
          "mets": "nadh",
          "value": -0.0031707721884193033,
          "variable": "EX g3p"
         },
         {
          "mets": "nadp",
          "value": 0.007169371599566282,
          "variable": "EX g3p"
         },
         {
          "mets": "nadph",
          "value": 0.0032694192289680485,
          "variable": "EX g3p"
         },
         {
          "mets": "oaa",
          "value": 0.00021784702543238853,
          "variable": "EX g3p"
         },
         {
          "mets": "pep",
          "value": 0.0007343322600361491,
          "variable": "EX g3p"
         },
         {
          "mets": "pyr",
          "value": 0.00023964970446961573,
          "variable": "EX g3p"
         },
         {
          "mets": "q8",
          "value": 0.010219861451108595,
          "variable": "EX g3p"
         },
         {
          "mets": "q8h2",
          "value": 0.003621133041136539,
          "variable": "EX g3p"
         },
         {
          "mets": "r5p",
          "value": 0.0005918354291814551,
          "variable": "EX g3p"
         },
         {
          "mets": "ru5p-D",
          "value": 0.0011889758340567968,
          "variable": "EX g3p"
         },
         {
          "mets": "s7p",
          "value": 0.0026475274099247432,
          "variable": "EX g3p"
         },
         {
          "mets": "succ",
          "value": -0.005832034865172104,
          "variable": "EX g3p"
         },
         {
          "mets": "succoa",
          "value": 0.0012248282873502717,
          "variable": "EX g3p"
         },
         {
          "mets": "xu5p-D",
          "value": -0.0037799398853628555,
          "variable": "EX g3p"
         },
         {
          "mets": "13dpg",
          "value": 0.009361952675034459,
          "variable": "EX e4p"
         },
         {
          "mets": "2ddg6p",
          "value": 0.002295191988540201,
          "variable": "EX e4p"
         },
         {
          "mets": "2dhglcn",
          "value": 0.005627316005876348,
          "variable": "EX e4p"
         },
         {
          "mets": "2dhglcn p",
          "value": 0.005098320621298476,
          "variable": "EX e4p"
         },
         {
          "mets": "2pg",
          "value": 0.005046953110259194,
          "variable": "EX e4p"
         },
         {
          "mets": "3pg",
          "value": 0.005432121504928763,
          "variable": "EX e4p"
         },
         {
          "mets": "6p2dhglcn",
          "value": 0.015413741156461673,
          "variable": "EX e4p"
         },
         {
          "mets": "6pgc",
          "value": 0.0039487989589232966,
          "variable": "EX e4p"
         },
         {
          "mets": "6pgl",
          "value": 0.012845375393487787,
          "variable": "EX e4p"
         },
         {
          "mets": "accoa",
          "value": 0.000398931765571496,
          "variable": "EX e4p"
         },
         {
          "mets": "acon C",
          "value": 0.005036452085989419,
          "variable": "EX e4p"
         },
         {
          "mets": "adp",
          "value": 0.002482514202462385,
          "variable": "EX e4p"
         },
         {
          "mets": "akg",
          "value": -0.00024124558525287656,
          "variable": "EX e4p"
         },
         {
          "mets": "atp",
          "value": 0.00550288718263557,
          "variable": "EX e4p"
         },
         {
          "mets": "cit",
          "value": 0.004235274297855855,
          "variable": "EX e4p"
         },
         {
          "mets": "coa",
          "value": -0.007023310219495638,
          "variable": "EX e4p"
         },
         {
          "mets": "dhap",
          "value": -0.00010203240864590198,
          "variable": "EX e4p"
         },
         {
          "mets": "e4p",
          "value": -0.8724922282090577,
          "variable": "EX e4p"
         },
         {
          "mets": "f6p",
          "value": 0.0006216107846832192,
          "variable": "EX e4p"
         },
         {
          "mets": "fdp",
          "value": -0.00032099830945185126,
          "variable": "EX e4p"
         },
         {
          "mets": "fuc",
          "value": 0.001333453564393924,
          "variable": "EX e4p"
         },
         {
          "mets": "g3p",
          "value": -0.0011056266304842214,
          "variable": "EX e4p"
         },
         {
          "mets": "g6p",
          "value": 0.004436687375163185,
          "variable": "EX e4p"
         },
         {
          "mets": "glc-D",
          "value": 0.0021864582202699235,
          "variable": "EX e4p"
         },
         {
          "mets": "glc-D p",
          "value": -2.5910013338376906e-05,
          "variable": "EX e4p"
         },
         {
          "mets": "glcn",
          "value": 3.5386744223333604e-05,
          "variable": "EX e4p"
         },
         {
          "mets": "glcn p",
          "value": 0.00124733471252949,
          "variable": "EX e4p"
         },
         {
          "mets": "icit",
          "value": 0.0070198341371277805,
          "variable": "EX e4p"
         },
         {
          "mets": "mal-L",
          "value": 8.536654967207058e-05,
          "variable": "EX e4p"
         },
         {
          "mets": "malcoa",
          "value": 0.00025621281471498083,
          "variable": "EX e4p"
         },
         {
          "mets": "nad",
          "value": 0.01707052271058223,
          "variable": "EX e4p"
         },
         {
          "mets": "nadh",
          "value": 0.0013323510938892868,
          "variable": "EX e4p"
         },
         {
          "mets": "nadp",
          "value": 0.0029179212114320363,
          "variable": "EX e4p"
         },
         {
          "mets": "nadph",
          "value": -0.0006136143414120643,
          "variable": "EX e4p"
         },
         {
          "mets": "oaa",
          "value": 0.0014578448033576229,
          "variable": "EX e4p"
         },
         {
          "mets": "pep",
          "value": 0.004008638922219819,
          "variable": "EX e4p"
         },
         {
          "mets": "pyr",
          "value": 0.0014304109641726486,
          "variable": "EX e4p"
         },
         {
          "mets": "q8",
          "value": 0.005721395608480742,
          "variable": "EX e4p"
         },
         {
          "mets": "q8h2",
          "value": 0.0005728812209519902,
          "variable": "EX e4p"
         },
         {
          "mets": "r5p",
          "value": 0.006283749567900345,
          "variable": "EX e4p"
         },
         {
          "mets": "ru5p-D",
          "value": 0.022074575444662226,
          "variable": "EX e4p"
         },
         {
          "mets": "s7p",
          "value": -0.3190437550671238,
          "variable": "EX e4p"
         },
         {
          "mets": "succ",
          "value": -0.0028993678712566093,
          "variable": "EX e4p"
         },
         {
          "mets": "succoa",
          "value": -0.0014687183376762137,
          "variable": "EX e4p"
         },
         {
          "mets": "xu5p-D",
          "value": -0.03245941000541293,
          "variable": "EX e4p"
         },
         {
          "mets": "13dpg",
          "value": -0.006369285040103866,
          "variable": "EX f6p"
         },
         {
          "mets": "2ddg6p",
          "value": -0.0003078204863974642,
          "variable": "EX f6p"
         },
         {
          "mets": "2dhglcn",
          "value": 0.00601381813793633,
          "variable": "EX f6p"
         },
         {
          "mets": "2dhglcn p",
          "value": 0.007238528799945226,
          "variable": "EX f6p"
         },
         {
          "mets": "2pg",
          "value": -0.0036292553292508354,
          "variable": "EX f6p"
         },
         {
          "mets": "3pg",
          "value": -0.0050388359140027435,
          "variable": "EX f6p"
         },
         {
          "mets": "6p2dhglcn",
          "value": 0.0017304467975498307,
          "variable": "EX f6p"
         },
         {
          "mets": "6pgc",
          "value": 0.0011597328456983214,
          "variable": "EX f6p"
         },
         {
          "mets": "6pgl",
          "value": 0.00845682333855086,
          "variable": "EX f6p"
         },
         {
          "mets": "accoa",
          "value": 0.00024141264232198714,
          "variable": "EX f6p"
         },
         {
          "mets": "acon C",
          "value": -0.0017587241870013624,
          "variable": "EX f6p"
         },
         {
          "mets": "adp",
          "value": -0.0007182887276915273,
          "variable": "EX f6p"
         },
         {
          "mets": "akg",
          "value": 0.0012391300071410215,
          "variable": "EX f6p"
         },
         {
          "mets": "atp",
          "value": -0.0001295347017729149,
          "variable": "EX f6p"
         },
         {
          "mets": "cit",
          "value": 2.811109938120122e-05,
          "variable": "EX f6p"
         },
         {
          "mets": "coa",
          "value": 0.0029918566171023737,
          "variable": "EX f6p"
         },
         {
          "mets": "dhap",
          "value": -0.011446956890456779,
          "variable": "EX f6p"
         },
         {
          "mets": "e4p",
          "value": 0.000942355335410918,
          "variable": "EX f6p"
         },
         {
          "mets": "f6p",
          "value": -0.028134104468525243,
          "variable": "EX f6p"
         },
         {
          "mets": "fdp",
          "value": -0.0231415849735154,
          "variable": "EX f6p"
         },
         {
          "mets": "fuc",
          "value": 0.0008573520519635179,
          "variable": "EX f6p"
         },
         {
          "mets": "g3p",
          "value": -0.00695301272279037,
          "variable": "EX f6p"
         },
         {
          "mets": "g6p",
          "value": -0.00034799727034792163,
          "variable": "EX f6p"
         },
         {
          "mets": "glc-D",
          "value": -0.0002249153561239325,
          "variable": "EX f6p"
         },
         {
          "mets": "glc-D p",
          "value": -5.445209162456131e-05,
          "variable": "EX f6p"
         },
         {
          "mets": "glcn",
          "value": 0.003539578361903396,
          "variable": "EX f6p"
         },
         {
          "mets": "glcn p",
          "value": 0.0032632722356295595,
          "variable": "EX f6p"
         },
         {
          "mets": "icit",
          "value": -0.006347517077588788,
          "variable": "EX f6p"
         },
         {
          "mets": "mal-L",
          "value": -5.347729041112892e-05,
          "variable": "EX f6p"
         },
         {
          "mets": "malcoa",
          "value": 0.0010457545887909184,
          "variable": "EX f6p"
         },
         {
          "mets": "nad",
          "value": -0.0018958971441310954,
          "variable": "EX f6p"
         },
         {
          "mets": "nadh",
          "value": -0.002656564158522479,
          "variable": "EX f6p"
         },
         {
          "mets": "nadp",
          "value": 0.005862006717251482,
          "variable": "EX f6p"
         },
         {
          "mets": "nadph",
          "value": 0.002974932946490015,
          "variable": "EX f6p"
         },
         {
          "mets": "oaa",
          "value": 0.00047100255425703083,
          "variable": "EX f6p"
         },
         {
          "mets": "pep",
          "value": 0.001010523021621668,
          "variable": "EX f6p"
         },
         {
          "mets": "pyr",
          "value": 0.0004858839754772824,
          "variable": "EX f6p"
         },
         {
          "mets": "q8",
          "value": 0.009212029798160236,
          "variable": "EX f6p"
         },
         {
          "mets": "q8h2",
          "value": 0.003273884488507406,
          "variable": "EX f6p"
         },
         {
          "mets": "r5p",
          "value": 0.0005472652315129267,
          "variable": "EX f6p"
         },
         {
          "mets": "ru5p-D",
          "value": 0.0011604288180466276,
          "variable": "EX f6p"
         },
         {
          "mets": "s7p",
          "value": -0.005745801326311148,
          "variable": "EX f6p"
         },
         {
          "mets": "succ",
          "value": -0.005150463919613621,
          "variable": "EX f6p"
         },
         {
          "mets": "succoa",
          "value": 0.0011085347765806446,
          "variable": "EX f6p"
         },
         {
          "mets": "xu5p-D",
          "value": -0.004080653182571842,
          "variable": "EX f6p"
         },
         {
          "mets": "13dpg",
          "value": -0.10701349933979576,
          "variable": "EX 3pg"
         },
         {
          "mets": "2ddg6p",
          "value": -0.028473110760178052,
          "variable": "EX 3pg"
         },
         {
          "mets": "2dhglcn",
          "value": 0.03621609149395928,
          "variable": "EX 3pg"
         },
         {
          "mets": "2dhglcn p",
          "value": 0.03437749059525837,
          "variable": "EX 3pg"
         },
         {
          "mets": "2pg",
          "value": -0.20290737389199642,
          "variable": "EX 3pg"
         },
         {
          "mets": "3pg",
          "value": -0.26036144614048895,
          "variable": "EX 3pg"
         },
         {
          "mets": "6p2dhglcn",
          "value": 0.04167984040004478,
          "variable": "EX 3pg"
         },
         {
          "mets": "6pgc",
          "value": 0.010436970518539392,
          "variable": "EX 3pg"
         },
         {
          "mets": "6pgl",
          "value": 0.06818969672055608,
          "variable": "EX 3pg"
         },
         {
          "mets": "accoa",
          "value": 0.022603384067275578,
          "variable": "EX 3pg"
         },
         {
          "mets": "acon C",
          "value": -0.03408974258390343,
          "variable": "EX 3pg"
         },
         {
          "mets": "adp",
          "value": 0.011507696544572416,
          "variable": "EX 3pg"
         },
         {
          "mets": "akg",
          "value": -0.054161125729084686,
          "variable": "EX 3pg"
         },
         {
          "mets": "atp",
          "value": 0.013268318919764665,
          "variable": "EX 3pg"
         },
         {
          "mets": "cit",
          "value": -0.029217685248800633,
          "variable": "EX 3pg"
         },
         {
          "mets": "coa",
          "value": -0.005085712017367114,
          "variable": "EX 3pg"
         },
         {
          "mets": "dhap",
          "value": -0.015709604237319683,
          "variable": "EX 3pg"
         },
         {
          "mets": "e4p",
          "value": 0.004924539610721646,
          "variable": "EX 3pg"
         },
         {
          "mets": "f6p",
          "value": -0.029385259009563888,
          "variable": "EX 3pg"
         },
         {
          "mets": "fdp",
          "value": -0.03229637575264625,
          "variable": "EX 3pg"
         },
         {
          "mets": "fuc",
          "value": -0.016980107304434444,
          "variable": "EX 3pg"
         },
         {
          "mets": "g3p",
          "value": -0.019110033468600254,
          "variable": "EX 3pg"
         },
         {
          "mets": "g6p",
          "value": -0.001289223785319075,
          "variable": "EX 3pg"
         },
         {
          "mets": "glc-D",
          "value": -0.0007162733441156105,
          "variable": "EX 3pg"
         },
         {
          "mets": "glc-D p",
          "value": -0.00020309024505249127,
          "variable": "EX 3pg"
         },
         {
          "mets": "glcn",
          "value": 0.01031892473797786,
          "variable": "EX 3pg"
         },
         {
          "mets": "glcn p",
          "value": 0.013363411683416163,
          "variable": "EX 3pg"
         },
         {
          "mets": "icit",
          "value": -0.050088055890844696,
          "variable": "EX 3pg"
         },
         {
          "mets": "mal-L",
          "value": -0.03923962119380223,
          "variable": "EX 3pg"
         },
         {
          "mets": "malcoa",
          "value": 0.013008383211079253,
          "variable": "EX 3pg"
         },
         {
          "mets": "nad",
          "value": 0.05141810983206612,
          "variable": "EX 3pg"
         },
         {
          "mets": "nadh",
          "value": -0.0032097466094301633,
          "variable": "EX 3pg"
         },
         {
          "mets": "nadp",
          "value": 0.035952136791308924,
          "variable": "EX 3pg"
         },
         {
          "mets": "nadph",
          "value": 0.005201594961821312,
          "variable": "EX 3pg"
         },
         {
          "mets": "oaa",
          "value": -0.05399925742674021,
          "variable": "EX 3pg"
         },
         {
          "mets": "pep",
          "value": -0.05255601124694187,
          "variable": "EX 3pg"
         },
         {
          "mets": "pyr",
          "value": -0.05411942550846412,
          "variable": "EX 3pg"
         },
         {
          "mets": "q8",
          "value": 0.04159670733486208,
          "variable": "EX 3pg"
         },
         {
          "mets": "q8h2",
          "value": 0.005986672337113629,
          "variable": "EX 3pg"
         },
         {
          "mets": "r5p",
          "value": 0.01115446563707112,
          "variable": "EX 3pg"
         },
         {
          "mets": "ru5p-D",
          "value": 0.018668031120259474,
          "variable": "EX 3pg"
         },
         {
          "mets": "s7p",
          "value": 0.018354294947411767,
          "variable": "EX 3pg"
         },
         {
          "mets": "succ",
          "value": -0.043320847769523635,
          "variable": "EX 3pg"
         },
         {
          "mets": "succoa",
          "value": -0.01952800569922185,
          "variable": "EX 3pg"
         },
         {
          "mets": "xu5p-D",
          "value": 0.006798572612229727,
          "variable": "EX 3pg"
         },
         {
          "mets": "13dpg",
          "value": 0.0337410184579511,
          "variable": "EX oaa"
         },
         {
          "mets": "2ddg6p",
          "value": -0.11668177955114789,
          "variable": "EX oaa"
         },
         {
          "mets": "2dhglcn",
          "value": 0.03317772949242102,
          "variable": "EX oaa"
         },
         {
          "mets": "2dhglcn p",
          "value": 0.02387925659325111,
          "variable": "EX oaa"
         },
         {
          "mets": "2pg",
          "value": -0.014913550448203191,
          "variable": "EX oaa"
         },
         {
          "mets": "3pg",
          "value": 0.015708140653391503,
          "variable": "EX oaa"
         },
         {
          "mets": "6p2dhglcn",
          "value": 0.05260827290553767,
          "variable": "EX oaa"
         },
         {
          "mets": "6pgc",
          "value": 0.015522093110370599,
          "variable": "EX oaa"
         },
         {
          "mets": "6pgl",
          "value": 0.06174537525250766,
          "variable": "EX oaa"
         },
         {
          "mets": "accoa",
          "value": 0.0598418360091284,
          "variable": "EX oaa"
         },
         {
          "mets": "acon C",
          "value": -0.13863035005230734,
          "variable": "EX oaa"
         },
         {
          "mets": "adp",
          "value": 0.00419805640424782,
          "variable": "EX oaa"
         },
         {
          "mets": "akg",
          "value": -0.19612408708745138,
          "variable": "EX oaa"
         },
         {
          "mets": "atp",
          "value": 0.007118681997260552,
          "variable": "EX oaa"
         },
         {
          "mets": "cit",
          "value": -0.14282381962603916,
          "variable": "EX oaa"
         },
         {
          "mets": "coa",
          "value": -0.0012643282591059725,
          "variable": "EX oaa"
         },
         {
          "mets": "dhap",
          "value": 0.00691415313541284,
          "variable": "EX oaa"
         },
         {
          "mets": "e4p",
          "value": 0.008037599656687083,
          "variable": "EX oaa"
         },
         {
          "mets": "f6p",
          "value": 0.0135781457257695,
          "variable": "EX oaa"
         },
         {
          "mets": "fdp",
          "value": 0.013945795695760122,
          "variable": "EX oaa"
         },
         {
          "mets": "fuc",
          "value": -0.07899688429939793,
          "variable": "EX oaa"
         },
         {
          "mets": "g3p",
          "value": 0.007630678665700812,
          "variable": "EX oaa"
         },
         {
          "mets": "g6p",
          "value": 0.0037629768415861128,
          "variable": "EX oaa"
         },
         {
          "mets": "glc-D",
          "value": 0.0018342993606296088,
          "variable": "EX oaa"
         },
         {
          "mets": "glc-D p",
          "value": -0.00012446884885732886,
          "variable": "EX oaa"
         },
         {
          "mets": "glcn",
          "value": 0.00918223524626613,
          "variable": "EX oaa"
         },
         {
          "mets": "glcn p",
          "value": 0.008632105749223275,
          "variable": "EX oaa"
         },
         {
          "mets": "icit",
          "value": -0.14333013152607899,
          "variable": "EX oaa"
         },
         {
          "mets": "mal-L",
          "value": -0.11379567222038857,
          "variable": "EX oaa"
         },
         {
          "mets": "malcoa",
          "value": 0.02815181262762027,
          "variable": "EX oaa"
         },
         {
          "mets": "nad",
          "value": 0.04741015780671687,
          "variable": "EX oaa"
         },
         {
          "mets": "nadh",
          "value": -0.0127287625349079,
          "variable": "EX oaa"
         },
         {
          "mets": "nadp",
          "value": 0.010880046904193252,
          "variable": "EX oaa"
         },
         {
          "mets": "nadph",
          "value": -0.019622694827310334,
          "variable": "EX oaa"
         },
         {
          "mets": "oaa",
          "value": -0.20255469157871667,
          "variable": "EX oaa"
         },
         {
          "mets": "pep",
          "value": -0.19568791267587637,
          "variable": "EX oaa"
         },
         {
          "mets": "pyr",
          "value": -0.20054279904874284,
          "variable": "EX oaa"
         },
         {
          "mets": "q8",
          "value": 0.024251216240735226,
          "variable": "EX oaa"
         },
         {
          "mets": "q8h2",
          "value": -0.0013838272910161556,
          "variable": "EX oaa"
         },
         {
          "mets": "r5p",
          "value": 0.018927832445198807,
          "variable": "EX oaa"
         },
         {
          "mets": "ru5p-D",
          "value": 0.0315180610502034,
          "variable": "EX oaa"
         },
         {
          "mets": "s7p",
          "value": 0.026421863441102943,
          "variable": "EX oaa"
         },
         {
          "mets": "succ",
          "value": -0.0987062854911399,
          "variable": "EX oaa"
         },
         {
          "mets": "succoa",
          "value": -0.08754273544668817,
          "variable": "EX oaa"
         },
         {
          "mets": "xu5p-D",
          "value": 0.024483579388303423,
          "variable": "EX oaa"
         },
         {
          "mets": "13dpg",
          "value": 0.00685649950658564,
          "variable": "EX malL"
         },
         {
          "mets": "2ddg6p",
          "value": -0.03469810053294814,
          "variable": "EX malL"
         },
         {
          "mets": "2dhglcn",
          "value": 0.014154297227629595,
          "variable": "EX malL"
         },
         {
          "mets": "2dhglcn p",
          "value": 0.006708223614856681,
          "variable": "EX malL"
         },
         {
          "mets": "2pg",
          "value": -0.0057764572848264875,
          "variable": "EX malL"
         },
         {
          "mets": "3pg",
          "value": 0.003605903467225025,
          "variable": "EX malL"
         },
         {
          "mets": "6p2dhglcn",
          "value": 0.03134878615189718,
          "variable": "EX malL"
         },
         {
          "mets": "6pgc",
          "value": 0.007888466129677831,
          "variable": "EX malL"
         },
         {
          "mets": "6pgl",
          "value": 0.019972054521705144,
          "variable": "EX malL"
         },
         {
          "mets": "accoa",
          "value": 0.028900247342884613,
          "variable": "EX malL"
         },
         {
          "mets": "acon C",
          "value": -0.03706614743463549,
          "variable": "EX malL"
         },
         {
          "mets": "adp",
          "value": 0.0033698415272293896,
          "variable": "EX malL"
         },
         {
          "mets": "akg",
          "value": -0.06789623250107989,
          "variable": "EX malL"
         },
         {
          "mets": "atp",
          "value": 0.0037635412420746373,
          "variable": "EX malL"
         },
         {
          "mets": "cit",
          "value": -0.03604692251488585,
          "variable": "EX malL"
         },
         {
          "mets": "coa",
          "value": 0.025828597839031405,
          "variable": "EX malL"
         },
         {
          "mets": "dhap",
          "value": 0.001506709861496707,
          "variable": "EX malL"
         },
         {
          "mets": "e4p",
          "value": 0.005241586292253483,
          "variable": "EX malL"
         },
         {
          "mets": "f6p",
          "value": 0.003169746408194737,
          "variable": "EX malL"
         },
         {
          "mets": "fdp",
          "value": 0.0031439459892440257,
          "variable": "EX malL"
         },
         {
          "mets": "fuc",
          "value": -0.1206109005795091,
          "variable": "EX malL"
         },
         {
          "mets": "g3p",
          "value": 0.0015401870191070041,
          "variable": "EX malL"
         },
         {
          "mets": "g6p",
          "value": 0.00035637464539464963,
          "variable": "EX malL"
         },
         {
          "mets": "glc-D",
          "value": 0.00014906260687406092,
          "variable": "EX malL"
         },
         {
          "mets": "glc-D p",
          "value": -3.0868838604377946e-05,
          "variable": "EX malL"
         },
         {
          "mets": "glcn",
          "value": 0.0022638790114610898,
          "variable": "EX malL"
         },
         {
          "mets": "glcn p",
          "value": 0.0018310202739391847,
          "variable": "EX malL"
         },
         {
          "mets": "icit",
          "value": -0.04353528368693597,
          "variable": "EX malL"
         },
         {
          "mets": "mal-L",
          "value": -0.22520392356370844,
          "variable": "EX malL"
         },
         {
          "mets": "malcoa",
          "value": 0.02315288649695792,
          "variable": "EX malL"
         },
         {
          "mets": "nad",
          "value": 0.004690308189302267,
          "variable": "EX malL"
         },
         {
          "mets": "nadh",
          "value": -0.0093358091192318,
          "variable": "EX malL"
         },
         {
          "mets": "nadp",
          "value": -0.003471775804772703,
          "variable": "EX malL"
         },
         {
          "mets": "nadph",
          "value": -0.022775360991243852,
          "variable": "EX malL"
         },
         {
          "mets": "oaa",
          "value": -0.05640981579333543,
          "variable": "EX malL"
         },
         {
          "mets": "pep",
          "value": -0.055642496977944,
          "variable": "EX malL"
         },
         {
          "mets": "pyr",
          "value": -0.05631054677722179,
          "variable": "EX malL"
         },
         {
          "mets": "q8",
          "value": 0.004900562265672596,
          "variable": "EX malL"
         },
         {
          "mets": "q8h2",
          "value": -0.0017477129093231253,
          "variable": "EX malL"
         },
         {
          "mets": "r5p",
          "value": 0.012403743435722606,
          "variable": "EX malL"
         },
         {
          "mets": "ru5p-D",
          "value": 0.020240404492920368,
          "variable": "EX malL"
         },
         {
          "mets": "s7p",
          "value": 0.01705159541342014,
          "variable": "EX malL"
         },
         {
          "mets": "succ",
          "value": -0.06865124736555228,
          "variable": "EX malL"
         },
         {
          "mets": "succoa",
          "value": -0.021660722077778458,
          "variable": "EX malL"
         },
         {
          "mets": "xu5p-D",
          "value": 0.014046723761584737,
          "variable": "EX malL"
         },
         {
          "mets": "13dpg",
          "value": 0.026229875542375984,
          "variable": "EX akg"
         },
         {
          "mets": "2ddg6p",
          "value": -0.034977145248152666,
          "variable": "EX akg"
         },
         {
          "mets": "2dhglcn",
          "value": 0.03705028332295368,
          "variable": "EX akg"
         },
         {
          "mets": "2dhglcn p",
          "value": 0.012425037864033036,
          "variable": "EX akg"
         },
         {
          "mets": "2pg",
          "value": -0.00024513648283489074,
          "variable": "EX akg"
         },
         {
          "mets": "3pg",
          "value": 0.014754024350376099,
          "variable": "EX akg"
         },
         {
          "mets": "6p2dhglcn",
          "value": 0.02971523461818585,
          "variable": "EX akg"
         },
         {
          "mets": "6pgc",
          "value": 0.006768979046669097,
          "variable": "EX akg"
         },
         {
          "mets": "6pgl",
          "value": 0.044096082695734756,
          "variable": "EX akg"
         },
         {
          "mets": "accoa",
          "value": 0.0686090810531553,
          "variable": "EX akg"
         },
         {
          "mets": "acon C",
          "value": -0.041049059708563033,
          "variable": "EX akg"
         },
         {
          "mets": "adp",
          "value": -0.01955912312971199,
          "variable": "EX akg"
         },
         {
          "mets": "akg",
          "value": -0.548437344971793,
          "variable": "EX akg"
         },
         {
          "mets": "atp",
          "value": -0.033643931019718465,
          "variable": "EX akg"
         },
         {
          "mets": "cit",
          "value": -0.009160778733908142,
          "variable": "EX akg"
         },
         {
          "mets": "coa",
          "value": 0.06378934429855565,
          "variable": "EX akg"
         },
         {
          "mets": "dhap",
          "value": -0.005411962534742761,
          "variable": "EX akg"
         },
         {
          "mets": "e4p",
          "value": 0.004143144773622964,
          "variable": "EX akg"
         },
         {
          "mets": "f6p",
          "value": -0.011276364224633191,
          "variable": "EX akg"
         },
         {
          "mets": "fdp",
          "value": -0.011114383803076524,
          "variable": "EX akg"
         },
         {
          "mets": "fuc",
          "value": -0.1416257564980935,
          "variable": "EX akg"
         },
         {
          "mets": "g3p",
          "value": -0.005269122160090138,
          "variable": "EX akg"
         },
         {
          "mets": "g6p",
          "value": -0.027433352408621686,
          "variable": "EX akg"
         },
         {
          "mets": "glc-D",
          "value": -0.013783323177638137,
          "variable": "EX akg"
         },
         {
          "mets": "glc-D p",
          "value": -6.989199121334948e-05,
          "variable": "EX akg"
         },
         {
          "mets": "glcn",
          "value": 0.0238016886193498,
          "variable": "EX akg"
         },
         {
          "mets": "glcn p",
          "value": 0.00466393308696493,
          "variable": "EX akg"
         },
         {
          "mets": "icit",
          "value": -0.12370153722797153,
          "variable": "EX akg"
         },
         {
          "mets": "mal-L",
          "value": -0.14284078977801745,
          "variable": "EX akg"
         },
         {
          "mets": "malcoa",
          "value": 0.04211951741154399,
          "variable": "EX akg"
         },
         {
          "mets": "nad",
          "value": 0.059362098459107046,
          "variable": "EX akg"
         },
         {
          "mets": "nadh",
          "value": 0.004455064922639628,
          "variable": "EX akg"
         },
         {
          "mets": "nadp",
          "value": 0.034712753038545596,
          "variable": "EX akg"
         },
         {
          "mets": "nadph",
          "value": -0.0040851034286598555,
          "variable": "EX akg"
         },
         {
          "mets": "oaa",
          "value": -0.06176446041684367,
          "variable": "EX akg"
         },
         {
          "mets": "pep",
          "value": -0.0757907376770524,
          "variable": "EX akg"
         },
         {
          "mets": "pyr",
          "value": -0.061495658178130845,
          "variable": "EX akg"
         },
         {
          "mets": "q8",
          "value": 0.003191065557807493,
          "variable": "EX akg"
         },
         {
          "mets": "q8h2",
          "value": 0.0011066069853121801,
          "variable": "EX akg"
         },
         {
          "mets": "r5p",
          "value": 0.009454335275718245,
          "variable": "EX akg"
         },
         {
          "mets": "ru5p-D",
          "value": 0.015924216896145413,
          "variable": "EX akg"
         },
         {
          "mets": "s7p",
          "value": 0.011770431001109461,
          "variable": "EX akg"
         },
         {
          "mets": "succ",
          "value": -0.17743915086404421,
          "variable": "EX akg"
         },
         {
          "mets": "succoa",
          "value": -0.19380664528089864,
          "variable": "EX akg"
         },
         {
          "mets": "xu5p-D",
          "value": 0.007972430734814889,
          "variable": "EX akg"
         },
         {
          "mets": "13dpg",
          "value": -0.0001985003433679472,
          "variable": "EX succ"
         },
         {
          "mets": "2ddg6p",
          "value": 0.0006946714763112416,
          "variable": "EX succ"
         },
         {
          "mets": "2dhglcn",
          "value": -0.0003660544253441645,
          "variable": "EX succ"
         },
         {
          "mets": "2dhglcn p",
          "value": -1.7708196565573626e-05,
          "variable": "EX succ"
         },
         {
          "mets": "2pg",
          "value": 9.500619331992831e-05,
          "variable": "EX succ"
         },
         {
          "mets": "3pg",
          "value": -0.0001074403383034397,
          "variable": "EX succ"
         },
         {
          "mets": "6p2dhglcn",
          "value": -0.00053493741983811,
          "variable": "EX succ"
         },
         {
          "mets": "6pgc",
          "value": -9.90867920329858e-05,
          "variable": "EX succ"
         },
         {
          "mets": "6pgl",
          "value": -0.0005489948755970006,
          "variable": "EX succ"
         },
         {
          "mets": "accoa",
          "value": -0.0011059945196554674,
          "variable": "EX succ"
         },
         {
          "mets": "acon C",
          "value": 0.0004634924621950932,
          "variable": "EX succ"
         },
         {
          "mets": "adp",
          "value": 0.00017056735655190643,
          "variable": "EX succ"
         },
         {
          "mets": "akg",
          "value": 0.0014810112572290128,
          "variable": "EX succ"
         },
         {
          "mets": "atp",
          "value": 0.00033747249194413095,
          "variable": "EX succ"
         },
         {
          "mets": "cit",
          "value": 0.00034042089411450566,
          "variable": "EX succ"
         },
         {
          "mets": "coa",
          "value": -0.0010259601331054295,
          "variable": "EX succ"
         },
         {
          "mets": "dhap",
          "value": 9.754625970819499e-05,
          "variable": "EX succ"
         },
         {
          "mets": "e4p",
          "value": -8.029830735509078e-05,
          "variable": "EX succ"
         },
         {
          "mets": "f6p",
          "value": 0.0001972890961221568,
          "variable": "EX succ"
         },
         {
          "mets": "fdp",
          "value": 0.00020112200375683472,
          "variable": "EX succ"
         },
         {
          "mets": "fuc",
          "value": 0.002978980143644383,
          "variable": "EX succ"
         },
         {
          "mets": "g3p",
          "value": 0.00010523093049879605,
          "variable": "EX succ"
         },
         {
          "mets": "g6p",
          "value": 0.00033319137522150164,
          "variable": "EX succ"
         },
         {
          "mets": "glc-D",
          "value": 0.00016722137066580036,
          "variable": "EX succ"
         },
         {
          "mets": "glc-D p",
          "value": 5.717471038289681e-07,
          "variable": "EX succ"
         },
         {
          "mets": "glcn",
          "value": -0.00017321426514101392,
          "variable": "EX succ"
         },
         {
          "mets": "glcn p",
          "value": -4.23178319551678e-07,
          "variable": "EX succ"
         },
         {
          "mets": "icit",
          "value": 0.000823221963821988,
          "variable": "EX succ"
         },
         {
          "mets": "mal-L",
          "value": 0.0027945043147234823,
          "variable": "EX succ"
         },
         {
          "mets": "malcoa",
          "value": -0.0007455252962986612,
          "variable": "EX succ"
         },
         {
          "mets": "nad",
          "value": -0.0005806133222381225,
          "variable": "EX succ"
         },
         {
          "mets": "nadh",
          "value": -0.00019063566832390718,
          "variable": "EX succ"
         },
         {
          "mets": "nadp",
          "value": -0.0004236992054741294,
          "variable": "EX succ"
         },
         {
          "mets": "nadph",
          "value": 0.00022658941782572402,
          "variable": "EX succ"
         },
         {
          "mets": "oaa",
          "value": 0.000974457478077493,
          "variable": "EX succ"
         },
         {
          "mets": "pep",
          "value": 0.0011363916099478007,
          "variable": "EX succ"
         },
         {
          "mets": "pyr",
          "value": 0.0009710320751925143,
          "variable": "EX succ"
         },
         {
          "mets": "q8",
          "value": 0.00015613200167897138,
          "variable": "EX succ"
         },
         {
          "mets": "q8h2",
          "value": 0.0002745693446349885,
          "variable": "EX succ"
         },
         {
          "mets": "r5p",
          "value": -0.00018406477686928733,
          "variable": "EX succ"
         },
         {
          "mets": "ru5p-D",
          "value": -0.00029958842565688256,
          "variable": "EX succ"
         },
         {
          "mets": "s7p",
          "value": -0.00024805820634731,
          "variable": "EX succ"
         },
         {
          "mets": "succ",
          "value": 0.003836329220436354,
          "variable": "EX succ"
         },
         {
          "mets": "succoa",
          "value": 0.0007653756214628501,
          "variable": "EX succ"
         },
         {
          "mets": "xu5p-D",
          "value": -0.00016077533473782323,
          "variable": "EX succ"
         },
         {
          "mets": "13dpg",
          "value": 0.0009552462814550568,
          "variable": "EX ru5p  D"
         },
         {
          "mets": "2ddg6p",
          "value": 0.0004682771477797009,
          "variable": "EX ru5p  D"
         },
         {
          "mets": "2dhglcn",
          "value": 0.0010305381330631444,
          "variable": "EX ru5p  D"
         },
         {
          "mets": "2dhglcn p",
          "value": 0.0010211528397215041,
          "variable": "EX ru5p  D"
         },
         {
          "mets": "2pg",
          "value": 0.0004721100297946715,
          "variable": "EX ru5p  D"
         },
         {
          "mets": "3pg",
          "value": 0.00045950154717512397,
          "variable": "EX ru5p  D"
         },
         {
          "mets": "6p2dhglcn",
          "value": 0.001951585659369977,
          "variable": "EX ru5p  D"
         },
         {
          "mets": "6pgc",
          "value": 0.0005744199194663642,
          "variable": "EX ru5p  D"
         },
         {
          "mets": "6pgl",
          "value": 0.002219044965859056,
          "variable": "EX ru5p  D"
         },
         {
          "mets": "accoa",
          "value": 6.164161998628096e-05,
          "variable": "EX ru5p  D"
         },
         {
          "mets": "acon C",
          "value": 0.0005445988971627652,
          "variable": "EX ru5p  D"
         },
         {
          "mets": "adp",
          "value": 0.00029712393013043897,
          "variable": "EX ru5p  D"
         },
         {
          "mets": "akg",
          "value": 3.902949546676663e-06,
          "variable": "EX ru5p  D"
         },
         {
          "mets": "atp",
          "value": 0.0006860954434688741,
          "variable": "EX ru5p  D"
         },
         {
          "mets": "cit",
          "value": 0.0005323397906022594,
          "variable": "EX ru5p  D"
         },
         {
          "mets": "coa",
          "value": -0.0007462296401209195,
          "variable": "EX ru5p  D"
         },
         {
          "mets": "dhap",
          "value": -0.0003934077747696664,
          "variable": "EX ru5p  D"
         },
         {
          "mets": "e4p",
          "value": -0.004105500270474129,
          "variable": "EX ru5p  D"
         },
         {
          "mets": "f6p",
          "value": -0.0008798497326318697,
          "variable": "EX ru5p  D"
         },
         {
          "mets": "fdp",
          "value": -0.0007767005546717757,
          "variable": "EX ru5p  D"
         },
         {
          "mets": "fuc",
          "value": 0.00022514645044438935,
          "variable": "EX ru5p  D"
         },
         {
          "mets": "g3p",
          "value": -0.00029526110830441785,
          "variable": "EX ru5p  D"
         },
         {
          "mets": "g6p",
          "value": 0.0005519316233127038,
          "variable": "EX ru5p  D"
         },
         {
          "mets": "glc-D",
          "value": 0.00027568875260338506,
          "variable": "EX ru5p  D"
         },
         {
          "mets": "glc-D p",
          "value": -5.657213926543374e-06,
          "variable": "EX ru5p  D"
         },
         {
          "mets": "glcn",
          "value": 0.00016171262547044638,
          "variable": "EX ru5p  D"
         },
         {
          "mets": "glcn p",
          "value": 0.0003320894515506512,
          "variable": "EX ru5p  D"
         },
         {
          "mets": "icit",
          "value": 0.0005774970869990724,
          "variable": "EX ru5p  D"
         },
         {
          "mets": "mal-L",
          "value": 2.091080841056417e-05,
          "variable": "EX ru5p  D"
         },
         {
          "mets": "malcoa",
          "value": 7.999284766870335e-05,
          "variable": "EX ru5p  D"
         },
         {
          "mets": "nad",
          "value": 0.0019435875786697596,
          "variable": "EX ru5p  D"
         },
         {
          "mets": "nadh",
          "value": 6.573703264834958e-05,
          "variable": "EX ru5p  D"
         },
         {
          "mets": "nadp",
          "value": 0.0007546697486706744,
          "variable": "EX ru5p  D"
         },
         {
          "mets": "nadph",
          "value": 8.459999238519036e-05,
          "variable": "EX ru5p  D"
         },
         {
          "mets": "oaa",
          "value": 0.0002299477882177304,
          "variable": "EX ru5p  D"
         },
         {
          "mets": "pep",
          "value": 0.0005799125312457801,
          "variable": "EX ru5p  D"
         },
         {
          "mets": "pyr",
          "value": 0.0002241534726966151,
          "variable": "EX ru5p  D"
         },
         {
          "mets": "q8",
          "value": 0.0011816279017971601,
          "variable": "EX ru5p  D"
         },
         {
          "mets": "q8h2",
          "value": 0.00024242962917573325,
          "variable": "EX ru5p  D"
         },
         {
          "mets": "r5p",
          "value": -0.010159141623294017,
          "variable": "EX ru5p  D"
         },
         {
          "mets": "ru5p-D",
          "value": -0.015101459064068273,
          "variable": "EX ru5p  D"
         },
         {
          "mets": "s7p",
          "value": -0.012623555247744504,
          "variable": "EX ru5p  D"
         },
         {
          "mets": "succ",
          "value": -0.0006307850645863567,
          "variable": "EX ru5p  D"
         },
         {
          "mets": "succoa",
          "value": -0.0001579364306626611,
          "variable": "EX ru5p  D"
         },
         {
          "mets": "xu5p-D",
          "value": -0.011056031820094538,
          "variable": "EX ru5p  D"
         },
         {
          "mets": "13dpg",
          "value": -0.0091208682168777,
          "variable": "EX fum"
         },
         {
          "mets": "2ddg6p",
          "value": 0.029523776163028335,
          "variable": "EX fum"
         },
         {
          "mets": "2dhglcn",
          "value": -0.009943516363715751,
          "variable": "EX fum"
         },
         {
          "mets": "2dhglcn p",
          "value": -0.0023927204298958525,
          "variable": "EX fum"
         },
         {
          "mets": "2pg",
          "value": 0.0037087140486951452,
          "variable": "EX fum"
         },
         {
          "mets": "3pg",
          "value": -0.004251321267783952,
          "variable": "EX fum"
         },
         {
          "mets": "6p2dhglcn",
          "value": -0.027160094388944886,
          "variable": "EX fum"
         },
         {
          "mets": "6pgc",
          "value": -0.00653043718259492,
          "variable": "EX fum"
         },
         {
          "mets": "6pgl",
          "value": -0.022839892795940717,
          "variable": "EX fum"
         },
         {
          "mets": "accoa",
          "value": -0.0339359196785641,
          "variable": "EX fum"
         },
         {
          "mets": "acon C",
          "value": 0.027703003733520172,
          "variable": "EX fum"
         },
         {
          "mets": "adp",
          "value": -0.0001137101738895809,
          "variable": "EX fum"
         },
         {
          "mets": "akg",
          "value": 0.06279576384724303,
          "variable": "EX fum"
         },
         {
          "mets": "atp",
          "value": -0.0009325229907685233,
          "variable": "EX fum"
         },
         {
          "mets": "cit",
          "value": 0.025475049811235512,
          "variable": "EX fum"
         },
         {
          "mets": "coa",
          "value": -0.030571411138417638,
          "variable": "EX fum"
         },
         {
          "mets": "dhap",
          "value": -0.0006957216329520435,
          "variable": "EX fum"
         },
         {
          "mets": "e4p",
          "value": -0.004481561903095382,
          "variable": "EX fum"
         },
         {
          "mets": "f6p",
          "value": -0.0015325297574064528,
          "variable": "EX fum"
         },
         {
          "mets": "fdp",
          "value": -0.001358604422375558,
          "variable": "EX fum"
         },
         {
          "mets": "fuc",
          "value": 0.18164808431756435,
          "variable": "EX fum"
         },
         {
          "mets": "g3p",
          "value": -0.0005445965759886331,
          "variable": "EX fum"
         },
         {
          "mets": "g6p",
          "value": -0.0012001545199181731,
          "variable": "EX fum"
         },
         {
          "mets": "glc-D",
          "value": -0.0005791811071184971,
          "variable": "EX fum"
         },
         {
          "mets": "glc-D p",
          "value": 2.957691816818722e-05,
          "variable": "EX fum"
         },
         {
          "mets": "glcn",
          "value": -0.0014733014922940994,
          "variable": "EX fum"
         },
         {
          "mets": "glcn p",
          "value": -0.000564121527617833,
          "variable": "EX fum"
         },
         {
          "mets": "icit",
          "value": 0.03551508651869888,
          "variable": "EX fum"
         },
         {
          "mets": "mal-L",
          "value": 0.16484659128862839,
          "variable": "EX fum"
         },
         {
          "mets": "malcoa",
          "value": -0.026603640447828224,
          "variable": "EX fum"
         },
         {
          "mets": "nad",
          "value": -0.011485486542248442,
          "variable": "EX fum"
         },
         {
          "mets": "nadh",
          "value": 0.001972949165221738,
          "variable": "EX fum"
         },
         {
          "mets": "nadp",
          "value": -0.0028818863100185535,
          "variable": "EX fum"
         },
         {
          "mets": "nadph",
          "value": 0.017431218931515835,
          "variable": "EX fum"
         },
         {
          "mets": "oaa",
          "value": 0.04796654235341806,
          "variable": "EX fum"
         },
         {
          "mets": "pep",
          "value": 0.046675024600597,
          "variable": "EX fum"
         },
         {
          "mets": "pyr",
          "value": 0.04786829490751152,
          "variable": "EX fum"
         },
         {
          "mets": "q8",
          "value": -0.00018818224571136587,
          "variable": "EX fum"
         },
         {
          "mets": "q8h2",
          "value": -0.001038272398445217,
          "variable": "EX fum"
         },
         {
          "mets": "r5p",
          "value": -0.010602382811047733,
          "variable": "EX fum"
         },
         {
          "mets": "ru5p-D",
          "value": -0.017349963446668084,
          "variable": "EX fum"
         },
         {
          "mets": "s7p",
          "value": -0.014761254729925195,
          "variable": "EX fum"
         },
         {
          "mets": "succ",
          "value": 0.09292580018328023,
          "variable": "EX fum"
         },
         {
          "mets": "succoa",
          "value": 0.018604025040439932,
          "variable": "EX fum"
         },
         {
          "mets": "xu5p-D",
          "value": -0.01167483613889839,
          "variable": "EX fum"
         },
         {
          "mets": "13dpg",
          "value": 0.0016308921701206312,
          "variable": "EX s7p"
         },
         {
          "mets": "2ddg6p",
          "value": 0.0011819751821969464,
          "variable": "EX s7p"
         },
         {
          "mets": "2dhglcn",
          "value": 0.0016415132694255151,
          "variable": "EX s7p"
         },
         {
          "mets": "2dhglcn p",
          "value": 0.0016484825920444783,
          "variable": "EX s7p"
         },
         {
          "mets": "2pg",
          "value": 0.0007662405111629844,
          "variable": "EX s7p"
         },
         {
          "mets": "3pg",
          "value": 0.00074284730446549,
          "variable": "EX s7p"
         },
         {
          "mets": "6p2dhglcn",
          "value": 0.002846839132256987,
          "variable": "EX s7p"
         },
         {
          "mets": "6pgc",
          "value": 0.0007981214330104974,
          "variable": "EX s7p"
         },
         {
          "mets": "6pgl",
          "value": 0.0031358500077507817,
          "variable": "EX s7p"
         },
         {
          "mets": "accoa",
          "value": 0.00012430159421781466,
          "variable": "EX s7p"
         },
         {
          "mets": "acon C",
          "value": 0.000829996239526174,
          "variable": "EX s7p"
         },
         {
          "mets": "adp",
          "value": 0.00041078343569973303,
          "variable": "EX s7p"
         },
         {
          "mets": "akg",
          "value": 9.883180685972247e-05,
          "variable": "EX s7p"
         },
         {
          "mets": "atp",
          "value": 0.0010335796902582756,
          "variable": "EX s7p"
         },
         {
          "mets": "cit",
          "value": 0.0008193791504197134,
          "variable": "EX s7p"
         },
         {
          "mets": "coa",
          "value": -0.0008738346346585232,
          "variable": "EX s7p"
         },
         {
          "mets": "dhap",
          "value": -0.000827873624754115,
          "variable": "EX s7p"
         },
         {
          "mets": "e4p",
          "value": -0.024796905684777368,
          "variable": "EX s7p"
         },
         {
          "mets": "f6p",
          "value": -0.002440945480570153,
          "variable": "EX s7p"
         },
         {
          "mets": "fdp",
          "value": -0.0015570470892982875,
          "variable": "EX s7p"
         },
         {
          "mets": "fuc",
          "value": 0.0004077949912223165,
          "variable": "EX s7p"
         },
         {
          "mets": "g3p",
          "value": 9.799975055519014e-05,
          "variable": "EX s7p"
         },
         {
          "mets": "g6p",
          "value": 0.0008906497601023636,
          "variable": "EX s7p"
         },
         {
          "mets": "glc-D",
          "value": 0.0004395434593433216,
          "variable": "EX s7p"
         },
         {
          "mets": "glc-D p",
          "value": -9.787517020767246e-06,
          "variable": "EX s7p"
         },
         {
          "mets": "glcn",
          "value": 0.00028566459160669894,
          "variable": "EX s7p"
         },
         {
          "mets": "glcn p",
          "value": 0.0005324339217321282,
          "variable": "EX s7p"
         },
         {
          "mets": "icit",
          "value": 0.0007929150511194734,
          "variable": "EX s7p"
         },
         {
          "mets": "mal-L",
          "value": 0.00014160184968238688,
          "variable": "EX s7p"
         },
         {
          "mets": "malcoa",
          "value": 0.00022881133278031775,
          "variable": "EX s7p"
         },
         {
          "mets": "nad",
          "value": 0.0026488331227375143,
          "variable": "EX s7p"
         },
         {
          "mets": "nadh",
          "value": 3.680260524076296e-05,
          "variable": "EX s7p"
         },
         {
          "mets": "nadp",
          "value": 0.0010293286960142661,
          "variable": "EX s7p"
         },
         {
          "mets": "nadph",
          "value": 0.0002035760422828571,
          "variable": "EX s7p"
         },
         {
          "mets": "oaa",
          "value": 0.00036899616993234165,
          "variable": "EX s7p"
         },
         {
          "mets": "pep",
          "value": 0.0009343680228761124,
          "variable": "EX s7p"
         },
         {
          "mets": "pyr",
          "value": 0.00036147956511258157,
          "variable": "EX s7p"
         },
         {
          "mets": "q8",
          "value": 0.0019732602789767685,
          "variable": "EX s7p"
         },
         {
          "mets": "q8h2",
          "value": 0.0004497155366448059,
          "variable": "EX s7p"
         },
         {
          "mets": "r5p",
          "value": 0.0009426419034772168,
          "variable": "EX s7p"
         },
         {
          "mets": "ru5p-D",
          "value": 0.003364983767784364,
          "variable": "EX s7p"
         },
         {
          "mets": "s7p",
          "value": -0.06902514073458382,
          "variable": "EX s7p"
         },
         {
          "mets": "succ",
          "value": -0.0010353764205218714,
          "variable": "EX s7p"
         },
         {
          "mets": "succoa",
          "value": -0.0001251174024747115,
          "variable": "EX s7p"
         },
         {
          "mets": "xu5p-D",
          "value": -0.01852587556545255,
          "variable": "EX s7p"
         },
         {
          "mets": "13dpg",
          "value": 0.03658429586515764,
          "variable": "EX 13dpg"
         },
         {
          "mets": "2ddg6p",
          "value": 0.0032558016387660652,
          "variable": "EX 13dpg"
         },
         {
          "mets": "2dhglcn",
          "value": -0.008213221620746104,
          "variable": "EX 13dpg"
         },
         {
          "mets": "2dhglcn p",
          "value": -0.007619083239143834,
          "variable": "EX 13dpg"
         },
         {
          "mets": "2pg",
          "value": 0.018387784714255506,
          "variable": "EX 13dpg"
         },
         {
          "mets": "3pg",
          "value": 0.023468632264748025,
          "variable": "EX 13dpg"
         },
         {
          "mets": "6p2dhglcn",
          "value": -0.005940737365082412,
          "variable": "EX 13dpg"
         },
         {
          "mets": "6pgc",
          "value": -0.0014276417428455961,
          "variable": "EX 13dpg"
         },
         {
          "mets": "6pgl",
          "value": -0.010470853352661819,
          "variable": "EX 13dpg"
         },
         {
          "mets": "accoa",
          "value": -0.0027757086650690823,
          "variable": "EX 13dpg"
         },
         {
          "mets": "acon C",
          "value": 0.002803854171802357,
          "variable": "EX 13dpg"
         },
         {
          "mets": "adp",
          "value": -0.0009295685655460249,
          "variable": "EX 13dpg"
         },
         {
          "mets": "akg",
          "value": 0.0038309337077656602,
          "variable": "EX 13dpg"
         },
         {
          "mets": "atp",
          "value": -0.0005257215167884099,
          "variable": "EX 13dpg"
         },
         {
          "mets": "cit",
          "value": 0.0014490964598684493,
          "variable": "EX 13dpg"
         },
         {
          "mets": "coa",
          "value": -0.0002806860634453137,
          "variable": "EX 13dpg"
         },
         {
          "mets": "dhap",
          "value": 0.005394153277085867,
          "variable": "EX 13dpg"
         },
         {
          "mets": "e4p",
          "value": -0.0005558362943354907,
          "variable": "EX 13dpg"
         },
         {
          "mets": "f6p",
          "value": 0.0102441188763366,
          "variable": "EX 13dpg"
         },
         {
          "mets": "fdp",
          "value": 0.011154311766199944,
          "variable": "EX 13dpg"
         },
         {
          "mets": "fuc",
          "value": 0.0006471411011223589,
          "variable": "EX 13dpg"
         },
         {
          "mets": "g3p",
          "value": 0.006512362457581912,
          "variable": "EX 13dpg"
         },
         {
          "mets": "g6p",
          "value": 0.0017673842540169107,
          "variable": "EX 13dpg"
         },
         {
          "mets": "glc-D",
          "value": 0.0009119038730499344,
          "variable": "EX 13dpg"
         },
         {
          "mets": "glc-D p",
          "value": 3.953612998508348e-05,
          "variable": "EX 13dpg"
         },
         {
          "mets": "glcn",
          "value": -0.00339193903885449,
          "variable": "EX 13dpg"
         },
         {
          "mets": "glcn p",
          "value": -0.003093780849432747,
          "variable": "EX 13dpg"
         },
         {
          "mets": "icit",
          "value": 0.0064251883968212764,
          "variable": "EX 13dpg"
         },
         {
          "mets": "mal-L",
          "value": 0.003557868567461493,
          "variable": "EX 13dpg"
         },
         {
          "mets": "malcoa",
          "value": -0.0014164246485490562,
          "variable": "EX 13dpg"
         },
         {
          "mets": "nad",
          "value": -0.006581922359992683,
          "variable": "EX 13dpg"
         },
         {
          "mets": "nadh",
          "value": 0.00033528311151218774,
          "variable": "EX 13dpg"
         },
         {
          "mets": "nadp",
          "value": -0.007359196971495187,
          "variable": "EX 13dpg"
         },
         {
          "mets": "nadph",
          "value": -0.0023424924459959405,
          "variable": "EX 13dpg"
         },
         {
          "mets": "oaa",
          "value": 0.00396794150588965,
          "variable": "EX 13dpg"
         },
         {
          "mets": "pep",
          "value": 0.004423654280046735,
          "variable": "EX 13dpg"
         },
         {
          "mets": "pyr",
          "value": 0.003964932593392237,
          "variable": "EX 13dpg"
         },
         {
          "mets": "q8",
          "value": -0.009138887123017966,
          "variable": "EX 13dpg"
         },
         {
          "mets": "q8h2",
          "value": -0.002730720459013668,
          "variable": "EX 13dpg"
         },
         {
          "mets": "r5p",
          "value": -0.0012432471991130566,
          "variable": "EX 13dpg"
         },
         {
          "mets": "ru5p-D",
          "value": -0.0021154355885955995,
          "variable": "EX 13dpg"
         },
         {
          "mets": "s7p",
          "value": -0.0024901053936906255,
          "variable": "EX 13dpg"
         },
         {
          "mets": "succ",
          "value": 0.0057962031680318694,
          "variable": "EX 13dpg"
         },
         {
          "mets": "succoa",
          "value": 0.0005827760186406705,
          "variable": "EX 13dpg"
         },
         {
          "mets": "xu5p-D",
          "value": 0.0005575667803184186,
          "variable": "EX 13dpg"
         },
         {
          "mets": "13dpg",
          "value": -0.002847520986250196,
          "variable": "EX dhap"
         },
         {
          "mets": "2ddg6p",
          "value": -0.00023494407711654991,
          "variable": "EX dhap"
         },
         {
          "mets": "2dhglcn",
          "value": 0.0025087313607589454,
          "variable": "EX dhap"
         },
         {
          "mets": "2dhglcn p",
          "value": 0.003081730842494145,
          "variable": "EX dhap"
         },
         {
          "mets": "2pg",
          "value": -0.0016012115779101134,
          "variable": "EX dhap"
         },
         {
          "mets": "3pg",
          "value": -0.0022737531578176954,
          "variable": "EX dhap"
         },
         {
          "mets": "6p2dhglcn",
          "value": 0.0006835509871095141,
          "variable": "EX dhap"
         },
         {
          "mets": "6pgc",
          "value": 0.0004976507724079925,
          "variable": "EX dhap"
         },
         {
          "mets": "6pgl",
          "value": 0.003719061841835531,
          "variable": "EX dhap"
         },
         {
          "mets": "accoa",
          "value": 7.770186231728933e-05,
          "variable": "EX dhap"
         },
         {
          "mets": "acon C",
          "value": -0.0007981620878603267,
          "variable": "EX dhap"
         },
         {
          "mets": "adp",
          "value": -0.0003378870351589253,
          "variable": "EX dhap"
         },
         {
          "mets": "akg",
          "value": 0.0005328350666820357,
          "variable": "EX dhap"
         },
         {
          "mets": "atp",
          "value": -5.546473665700265e-05,
          "variable": "EX dhap"
         },
         {
          "mets": "cit",
          "value": -9.57884825369254e-06,
          "variable": "EX dhap"
         },
         {
          "mets": "coa",
          "value": 0.001304767073613487,
          "variable": "EX dhap"
         },
         {
          "mets": "dhap",
          "value": -0.008092053224486268,
          "variable": "EX dhap"
         },
         {
          "mets": "e4p",
          "value": 0.0003028772240804806,
          "variable": "EX dhap"
         },
         {
          "mets": "f6p",
          "value": -0.009596390076516095,
          "variable": "EX dhap"
         },
         {
          "mets": "fdp",
          "value": -0.010486921206247446,
          "variable": "EX dhap"
         },
         {
          "mets": "fuc",
          "value": 0.000347883203494135,
          "variable": "EX dhap"
         },
         {
          "mets": "g3p",
          "value": -0.0032183919830399187,
          "variable": "EX dhap"
         },
         {
          "mets": "g6p",
          "value": -3.851439705740871e-05,
          "variable": "EX dhap"
         },
         {
          "mets": "glc-D",
          "value": -4.083776932486872e-05,
          "variable": "EX dhap"
         },
         {
          "mets": "glc-D p",
          "value": -2.1433630385807593e-05,
          "variable": "EX dhap"
         },
         {
          "mets": "glcn",
          "value": 0.0014977405890436544,
          "variable": "EX dhap"
         },
         {
          "mets": "glcn p",
          "value": 0.0013857622837996908,
          "variable": "EX dhap"
         },
         {
          "mets": "icit",
          "value": -0.002795212068930416,
          "variable": "EX dhap"
         },
         {
          "mets": "mal-L",
          "value": -4.49306953553462e-05,
          "variable": "EX dhap"
         },
         {
          "mets": "malcoa",
          "value": 0.00045220681562410333,
          "variable": "EX dhap"
         },
         {
          "mets": "nad",
          "value": -0.0008681586982893532,
          "variable": "EX dhap"
         },
         {
          "mets": "nadh",
          "value": -0.0011584284871365897,
          "variable": "EX dhap"
         },
         {
          "mets": "nadp",
          "value": 0.0025090264770400153,
          "variable": "EX dhap"
         },
         {
          "mets": "nadph",
          "value": 0.0012730818995489394,
          "variable": "EX dhap"
         },
         {
          "mets": "oaa",
          "value": 0.00019504263709683515,
          "variable": "EX dhap"
         },
         {
          "mets": "pep",
          "value": 0.0004491907221975812,
          "variable": "EX dhap"
         },
         {
          "mets": "pyr",
          "value": 0.0002010342502287024,
          "variable": "EX dhap"
         },
         {
          "mets": "q8",
          "value": 0.0039227305618305475,
          "variable": "EX dhap"
         },
         {
          "mets": "q8h2",
          "value": 0.0014182434544104886,
          "variable": "EX dhap"
         },
         {
          "mets": "r5p",
          "value": 0.00023066737472290482,
          "variable": "EX dhap"
         },
         {
          "mets": "ru5p-D",
          "value": 0.0004665844197310802,
          "variable": "EX dhap"
         },
         {
          "mets": "s7p",
          "value": -0.001198199989538557,
          "variable": "EX dhap"
         },
         {
          "mets": "succ",
          "value": -0.0021931610320417927,
          "variable": "EX dhap"
         },
         {
          "mets": "succoa",
          "value": 0.0005007283973099868,
          "variable": "EX dhap"
         },
         {
          "mets": "xu5p-D",
          "value": -0.001451609576864086,
          "variable": "EX dhap"
         },
         {
          "mets": "13dpg",
          "value": 0,
          "variable": "EX amp in"
         },
         {
          "mets": "2ddg6p",
          "value": 0,
          "variable": "EX amp in"
         },
         {
          "mets": "2dhglcn",
          "value": 0,
          "variable": "EX amp in"
         },
         {
          "mets": "2dhglcn p",
          "value": 0,
          "variable": "EX amp in"
         },
         {
          "mets": "2pg",
          "value": 0,
          "variable": "EX amp in"
         },
         {
          "mets": "3pg",
          "value": 0,
          "variable": "EX amp in"
         },
         {
          "mets": "6p2dhglcn",
          "value": 0,
          "variable": "EX amp in"
         },
         {
          "mets": "6pgc",
          "value": 0,
          "variable": "EX amp in"
         },
         {
          "mets": "6pgl",
          "value": 0,
          "variable": "EX amp in"
         },
         {
          "mets": "accoa",
          "value": 0,
          "variable": "EX amp in"
         },
         {
          "mets": "acon C",
          "value": 0,
          "variable": "EX amp in"
         },
         {
          "mets": "adp",
          "value": 0,
          "variable": "EX amp in"
         },
         {
          "mets": "akg",
          "value": 0,
          "variable": "EX amp in"
         },
         {
          "mets": "atp",
          "value": 0,
          "variable": "EX amp in"
         },
         {
          "mets": "cit",
          "value": 0,
          "variable": "EX amp in"
         },
         {
          "mets": "coa",
          "value": 0,
          "variable": "EX amp in"
         },
         {
          "mets": "dhap",
          "value": 0,
          "variable": "EX amp in"
         },
         {
          "mets": "e4p",
          "value": 0,
          "variable": "EX amp in"
         },
         {
          "mets": "f6p",
          "value": 0,
          "variable": "EX amp in"
         },
         {
          "mets": "fdp",
          "value": 0,
          "variable": "EX amp in"
         },
         {
          "mets": "fuc",
          "value": 0,
          "variable": "EX amp in"
         },
         {
          "mets": "g3p",
          "value": 0,
          "variable": "EX amp in"
         },
         {
          "mets": "g6p",
          "value": 0,
          "variable": "EX amp in"
         },
         {
          "mets": "glc-D",
          "value": 0,
          "variable": "EX amp in"
         },
         {
          "mets": "glc-D p",
          "value": 0,
          "variable": "EX amp in"
         },
         {
          "mets": "glcn",
          "value": 0,
          "variable": "EX amp in"
         },
         {
          "mets": "glcn p",
          "value": 0,
          "variable": "EX amp in"
         },
         {
          "mets": "icit",
          "value": 0,
          "variable": "EX amp in"
         },
         {
          "mets": "mal-L",
          "value": 0,
          "variable": "EX amp in"
         },
         {
          "mets": "malcoa",
          "value": 0,
          "variable": "EX amp in"
         },
         {
          "mets": "nad",
          "value": 0,
          "variable": "EX amp in"
         },
         {
          "mets": "nadh",
          "value": 0,
          "variable": "EX amp in"
         },
         {
          "mets": "nadp",
          "value": 0,
          "variable": "EX amp in"
         },
         {
          "mets": "nadph",
          "value": 0,
          "variable": "EX amp in"
         },
         {
          "mets": "oaa",
          "value": 0,
          "variable": "EX amp in"
         },
         {
          "mets": "pep",
          "value": 0,
          "variable": "EX amp in"
         },
         {
          "mets": "pyr",
          "value": 0,
          "variable": "EX amp in"
         },
         {
          "mets": "q8",
          "value": 0,
          "variable": "EX amp in"
         },
         {
          "mets": "q8h2",
          "value": 0,
          "variable": "EX amp in"
         },
         {
          "mets": "r5p",
          "value": 0,
          "variable": "EX amp in"
         },
         {
          "mets": "ru5p-D",
          "value": 0,
          "variable": "EX amp in"
         },
         {
          "mets": "s7p",
          "value": 0,
          "variable": "EX amp in"
         },
         {
          "mets": "succ",
          "value": 0,
          "variable": "EX amp in"
         },
         {
          "mets": "succoa",
          "value": 0,
          "variable": "EX amp in"
         },
         {
          "mets": "xu5p-D",
          "value": 0,
          "variable": "EX amp in"
         },
         {
          "mets": "13dpg",
          "value": 0,
          "variable": "EX amp out"
         },
         {
          "mets": "2ddg6p",
          "value": 0,
          "variable": "EX amp out"
         },
         {
          "mets": "2dhglcn",
          "value": 0,
          "variable": "EX amp out"
         },
         {
          "mets": "2dhglcn p",
          "value": 0,
          "variable": "EX amp out"
         },
         {
          "mets": "2pg",
          "value": 0,
          "variable": "EX amp out"
         },
         {
          "mets": "3pg",
          "value": 0,
          "variable": "EX amp out"
         },
         {
          "mets": "6p2dhglcn",
          "value": 0,
          "variable": "EX amp out"
         },
         {
          "mets": "6pgc",
          "value": 0,
          "variable": "EX amp out"
         },
         {
          "mets": "6pgl",
          "value": 0,
          "variable": "EX amp out"
         },
         {
          "mets": "accoa",
          "value": 0,
          "variable": "EX amp out"
         },
         {
          "mets": "acon C",
          "value": 0,
          "variable": "EX amp out"
         },
         {
          "mets": "adp",
          "value": 0,
          "variable": "EX amp out"
         },
         {
          "mets": "akg",
          "value": 0,
          "variable": "EX amp out"
         },
         {
          "mets": "atp",
          "value": 0,
          "variable": "EX amp out"
         },
         {
          "mets": "cit",
          "value": 0,
          "variable": "EX amp out"
         },
         {
          "mets": "coa",
          "value": 0,
          "variable": "EX amp out"
         },
         {
          "mets": "dhap",
          "value": 0,
          "variable": "EX amp out"
         },
         {
          "mets": "e4p",
          "value": 0,
          "variable": "EX amp out"
         },
         {
          "mets": "f6p",
          "value": 0,
          "variable": "EX amp out"
         },
         {
          "mets": "fdp",
          "value": 0,
          "variable": "EX amp out"
         },
         {
          "mets": "fuc",
          "value": 0,
          "variable": "EX amp out"
         },
         {
          "mets": "g3p",
          "value": 0,
          "variable": "EX amp out"
         },
         {
          "mets": "g6p",
          "value": 0,
          "variable": "EX amp out"
         },
         {
          "mets": "glc-D",
          "value": 0,
          "variable": "EX amp out"
         },
         {
          "mets": "glc-D p",
          "value": 0,
          "variable": "EX amp out"
         },
         {
          "mets": "glcn",
          "value": 0,
          "variable": "EX amp out"
         },
         {
          "mets": "glcn p",
          "value": 0,
          "variable": "EX amp out"
         },
         {
          "mets": "icit",
          "value": 0,
          "variable": "EX amp out"
         },
         {
          "mets": "mal-L",
          "value": 0,
          "variable": "EX amp out"
         },
         {
          "mets": "malcoa",
          "value": 0,
          "variable": "EX amp out"
         },
         {
          "mets": "nad",
          "value": 0,
          "variable": "EX amp out"
         },
         {
          "mets": "nadh",
          "value": 0,
          "variable": "EX amp out"
         },
         {
          "mets": "nadp",
          "value": 0,
          "variable": "EX amp out"
         },
         {
          "mets": "nadph",
          "value": 0,
          "variable": "EX amp out"
         },
         {
          "mets": "oaa",
          "value": 0,
          "variable": "EX amp out"
         },
         {
          "mets": "pep",
          "value": 0,
          "variable": "EX amp out"
         },
         {
          "mets": "pyr",
          "value": 0,
          "variable": "EX amp out"
         },
         {
          "mets": "q8",
          "value": 0,
          "variable": "EX amp out"
         },
         {
          "mets": "q8h2",
          "value": 0,
          "variable": "EX amp out"
         },
         {
          "mets": "r5p",
          "value": 0,
          "variable": "EX amp out"
         },
         {
          "mets": "ru5p-D",
          "value": 0,
          "variable": "EX amp out"
         },
         {
          "mets": "s7p",
          "value": 0,
          "variable": "EX amp out"
         },
         {
          "mets": "succ",
          "value": 0,
          "variable": "EX amp out"
         },
         {
          "mets": "succoa",
          "value": 0,
          "variable": "EX amp out"
         },
         {
          "mets": "xu5p-D",
          "value": 0,
          "variable": "EX amp out"
         }
        ]
       },
       "encoding": {
        "color": {
         "field": "value",
         "scale": {
          "domain": [
           1.5,
           -1.5
          ],
          "scheme": "redblue"
         },
         "type": "quantitative"
        },
        "tooltip": {
         "field": "value",
         "type": "quantitative"
        },
        "x": {
         "field": "variable",
         "type": "nominal"
        },
        "y": {
         "field": "mets",
         "type": "nominal"
        }
       },
       "height": 420,
       "mark": "rect",
       "width": 800
      },
      "image/png": "[encoded data removed]",
      "text/plain": [
       "<VegaLite 3 object>\n",
       "\n",
       "If you see this message, it means the renderer has not been properly enabled\n",
       "for the frontend that you are using. For more information, see\n",
       "https://altair-viz.github.io/user_guide/troubleshooting.html\n"
      ]
     },
     "execution_count": 18,
     "metadata": {},
     "output_type": "execute_result"
    }
   ],
   "source": [
    "get_heatmaps(Cx_df_median, 'mets', width=800, height=420)"
   ]
  },
  {
   "cell_type": "markdown",
   "metadata": {},
   "source": [
    "### Plot concentration control coefficients for AcCoa"
   ]
  },
  {
   "cell_type": "code",
   "execution_count": 20,
   "metadata": {},
   "outputs": [
    {
     "data": {
      "application/vnd.vegalite.v3+json": {
       "$schema": "https://vega.github.io/schema/vega-lite/v3.3.0.json",
       "config": {
        "mark": {
         "tooltip": null
        },
        "view": {
         "height": 300,
         "width": 400
        }
       },
       "data": {
        "name": "data-54e76ae169fa6d516981f0cdc93515d7"
       },
       "datasets": {
        "data-54e76ae169fa6d516981f0cdc93515d7": [
         {
          "index": "GLCabcpp",
          "value": 0,
          "variable": "accoa"
         },
         {
          "index": "GLK",
          "value": 0,
          "variable": "accoa"
         },
         {
          "index": "GLCNt2rpp",
          "value": 0,
          "variable": "accoa"
         },
         {
          "index": "GNK",
          "value": -0.02,
          "variable": "accoa"
         },
         {
          "index": "2DHGLCNkt tpp",
          "value": -0.01,
          "variable": "accoa"
         },
         {
          "index": "2DHGLCK",
          "value": 0,
          "variable": "accoa"
         },
         {
          "index": "PGLCNDH NAD",
          "value": 0,
          "variable": "accoa"
         },
         {
          "index": "PGLCNDH NADP",
          "value": 0.03,
          "variable": "accoa"
         },
         {
          "index": "GLCDpp",
          "value": -0.14,
          "variable": "accoa"
         },
         {
          "index": "GAD2ktpp",
          "value": -0.03,
          "variable": "accoa"
         },
         {
          "index": "G6PDH2 NAD",
          "value": 0,
          "variable": "accoa"
         },
         {
          "index": "G6PDH2 NADP",
          "value": -0.02,
          "variable": "accoa"
         },
         {
          "index": "PGL",
          "value": 0,
          "variable": "accoa"
         },
         {
          "index": "GND NAD",
          "value": 0,
          "variable": "accoa"
         },
         {
          "index": "GND NADP",
          "value": 0.02,
          "variable": "accoa"
         },
         {
          "index": "RPI",
          "value": 0,
          "variable": "accoa"
         },
         {
          "index": "RPE",
          "value": 0,
          "variable": "accoa"
         },
         {
          "index": "TKT1",
          "value": 0,
          "variable": "accoa"
         },
         {
          "index": "TKT2",
          "value": 0,
          "variable": "accoa"
         },
         {
          "index": "TALA",
          "value": 0,
          "variable": "accoa"
         },
         {
          "index": "EDD",
          "value": -0.01,
          "variable": "accoa"
         },
         {
          "index": "EDA",
          "value": -0.04,
          "variable": "accoa"
         },
         {
          "index": "PGI",
          "value": -0.01,
          "variable": "accoa"
         },
         {
          "index": "FBP",
          "value": 0,
          "variable": "accoa"
         },
         {
          "index": "FBA",
          "value": 0,
          "variable": "accoa"
         },
         {
          "index": "TPI",
          "value": 0,
          "variable": "accoa"
         },
         {
          "index": "GAPD NAD",
          "value": -0.09,
          "variable": "accoa"
         },
         {
          "index": "GAPD NADP",
          "value": -0.04,
          "variable": "accoa"
         },
         {
          "index": "PGK",
          "value": -0.01,
          "variable": "accoa"
         },
         {
          "index": "PGM",
          "value": -0.04,
          "variable": "accoa"
         },
         {
          "index": "ENO",
          "value": -0.03,
          "variable": "accoa"
         },
         {
          "index": "PYK",
          "value": 0,
          "variable": "accoa"
         },
         {
          "index": "PDH",
          "value": 1.51,
          "variable": "accoa"
         },
         {
          "index": "OAADC",
          "value": 0,
          "variable": "accoa"
         },
         {
          "index": "PPC",
          "value": 0,
          "variable": "accoa"
         },
         {
          "index": "ME2 NADP",
          "value": 0.03,
          "variable": "accoa"
         },
         {
          "index": "ME2 NAD",
          "value": 0,
          "variable": "accoa"
         },
         {
          "index": "MDH NAD",
          "value": 0.02,
          "variable": "accoa"
         },
         {
          "index": "MDH NADP",
          "value": 0,
          "variable": "accoa"
         },
         {
          "index": "FUM",
          "value": 0.08,
          "variable": "accoa"
         },
         {
          "index": "SUCDi",
          "value": 0.19,
          "variable": "accoa"
         },
         {
          "index": "SUCOAS",
          "value": 0.29,
          "variable": "accoa"
         },
         {
          "index": "AKGDH",
          "value": -0.71,
          "variable": "accoa"
         },
         {
          "index": "ICDHyr NADP",
          "value": -0.01,
          "variable": "accoa"
         },
         {
          "index": "ICDHyr NAD",
          "value": 0,
          "variable": "accoa"
         },
         {
          "index": "ACONTa",
          "value": -0.25,
          "variable": "accoa"
         },
         {
          "index": "ACONTb",
          "value": -0.09,
          "variable": "accoa"
         },
         {
          "index": "CS",
          "value": -0.48,
          "variable": "accoa"
         },
         {
          "index": "ACCOAC",
          "value": -0.21,
          "variable": "accoa"
         },
         {
          "index": "KAS15",
          "value": -0.02,
          "variable": "accoa"
         },
         {
          "index": "MCOATA",
          "value": 0.09,
          "variable": "accoa"
         },
         {
          "index": "OPNAD",
          "value": -0.08,
          "variable": "accoa"
         },
         {
          "index": "OPQ8",
          "value": -0.01,
          "variable": "accoa"
         },
         {
          "index": "AXPr",
          "value": 0.19,
          "variable": "accoa"
         },
         {
          "index": "NADHr",
          "value": 0.04,
          "variable": "accoa"
         },
         {
          "index": "NADPHr",
          "value": -0.05,
          "variable": "accoa"
         },
         {
          "index": "ACCOAr",
          "value": -0.09,
          "variable": "accoa"
         },
         {
          "index": "Q8H2r",
          "value": 0.07,
          "variable": "accoa"
         },
         {
          "index": "GLCtex",
          "value": 0,
          "variable": "accoa"
         },
         {
          "index": "EX pyr",
          "value": 0.06,
          "variable": "accoa"
         },
         {
          "index": "EX pep",
          "value": 0.03,
          "variable": "accoa"
         },
         {
          "index": "EX g6p",
          "value": 0,
          "variable": "accoa"
         },
         {
          "index": "EX r5p",
          "value": 0,
          "variable": "accoa"
         },
         {
          "index": "EX g3p",
          "value": 0,
          "variable": "accoa"
         },
         {
          "index": "EX e4p",
          "value": 0,
          "variable": "accoa"
         },
         {
          "index": "EX f6p",
          "value": 0,
          "variable": "accoa"
         },
         {
          "index": "EX 3pg",
          "value": 0.02,
          "variable": "accoa"
         },
         {
          "index": "EX oaa",
          "value": 0.06,
          "variable": "accoa"
         },
         {
          "index": "EX malL",
          "value": 0.03,
          "variable": "accoa"
         },
         {
          "index": "EX akg",
          "value": 0.07,
          "variable": "accoa"
         },
         {
          "index": "EX succ",
          "value": 0,
          "variable": "accoa"
         },
         {
          "index": "EX ru5p  D",
          "value": 0,
          "variable": "accoa"
         },
         {
          "index": "EX fum",
          "value": -0.03,
          "variable": "accoa"
         },
         {
          "index": "EX s7p",
          "value": 0,
          "variable": "accoa"
         },
         {
          "index": "EX 13dpg",
          "value": 0,
          "variable": "accoa"
         },
         {
          "index": "EX dhap",
          "value": 0,
          "variable": "accoa"
         },
         {
          "index": "EX amp in",
          "value": 0,
          "variable": "accoa"
         },
         {
          "index": "EX amp out",
          "value": 0,
          "variable": "accoa"
         }
        ]
       },
       "layer": [
        {
         "encoding": {
          "color": {
           "field": "value",
           "scale": {
            "domain": [
             1.5,
             -1.5
            ],
            "scheme": "redblue"
           },
           "type": "quantitative"
          },
          "tooltip": {
           "field": "value",
           "type": "quantitative"
          },
          "x": {
           "field": "variable",
           "type": "nominal"
          },
          "y": {
           "field": "index",
           "type": "nominal"
          }
         },
         "height": 1500,
         "mark": "rect",
         "width": 30
        },
        {
         "encoding": {
          "color": {
           "value": "white"
          },
          "text": {
           "field": "value",
           "type": "quantitative"
          },
          "x": {
           "field": "variable",
           "type": "nominal"
          },
          "y": {
           "field": "index",
           "type": "nominal"
          }
         },
         "height": 1500,
         "mark": {
          "baseline": "middle",
          "type": "text"
         },
         "width": 30
        }
       ]
      },
      "image/png": "[encoded data removed]",
      "text/plain": [
       "<VegaLite 3 object>\n",
       "\n",
       "If you see this message, it means the renderer has not been properly enabled\n",
       "for the frontend that you are using. For more information, see\n",
       "https://altair-viz.github.io/user_guide/troubleshooting.html\n"
      ]
     },
     "execution_count": 20,
     "metadata": {},
     "output_type": "execute_result"
    }
   ],
   "source": [
    "plot_df = Cx_df_median.loc[['accoa']].transpose()\n",
    "plot_df = plot_df.drop(\"mets\", axis=\"index\")\n",
    "plot_df = plot_df.reset_index().melt(id_vars=\"index\", var_name=\"variable\")\n",
    "plot_df[\"value\"] = plot_df[\"value\"].astype(\"float\").round(2)\n",
    "\n",
    "# get_heatmaps(plot_df, 'mets', width=30, height=1200)\n",
    "\n",
    "base_chart = alt.Chart(\n",
    "        plot_df,\n",
    "        width=30,\n",
    "        height=1500\n",
    "    ).encode(\n",
    "        x=\"variable:N\",\n",
    "        y=\"index:N\"\n",
    "    )\n",
    "\n",
    "heatmap = base_chart.mark_rect().encode(\n",
    "    color=alt.Color('value:Q', scale=alt.Scale(scheme='redblue', domain=[1.5,-1.5])),\n",
    "    tooltip='value:Q'\n",
    ")\n",
    "\n",
    "numbers = base_chart.mark_text(baseline=\"middle\").encode(\n",
    "    text=\"value:Q\",\n",
    "    color=alt.value(\"white\"),\n",
    ")\n",
    "\n",
    "heatmap + numbers"
   ]
  }
 ],
 "metadata": {
  "kernelspec": {
   "display_name": "Python (rbcenv)",
   "language": "python",
   "name": "rbc-env"
  },
  "language_info": {
   "codemirror_mode": {
    "name": "ipython",
    "version": 3
   },
   "file_extension": ".py",
   "mimetype": "text/x-python",
   "name": "python",
   "nbconvert_exporter": "python",
   "pygments_lexer": "ipython3",
   "version": "3.7.3"
  }
 },
 "nbformat": 4,
 "nbformat_minor": 4
}
