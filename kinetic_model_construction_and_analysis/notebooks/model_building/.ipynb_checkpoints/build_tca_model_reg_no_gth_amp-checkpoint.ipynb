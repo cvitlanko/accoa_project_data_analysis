{
 "cells": [
  {
   "cell_type": "code",
   "execution_count": 29,
   "metadata": {},
   "outputs": [
    {
     "name": "stdout",
     "output_type": "stream",
     "text": [
      "The autoreload extension is already loaded. To reload it, use:\n",
      "  %reload_ext autoreload\n"
     ]
    }
   ],
   "source": [
    "%load_ext autoreload\n",
    "%autoreload 2"
   ]
  },
  {
   "cell_type": "code",
   "execution_count": 30,
   "metadata": {},
   "outputs": [],
   "source": [
    "from set_up_grasp_models.set_up_models.convert_mechanisms import generate_mechanisms\n",
    "from set_up_grasp_models.set_up_models.set_up_model import set_up_model\n",
    "from set_up_grasp_models.check_models.mass_balance_checks import check_flux_balance\n",
    "\n",
    "from set_up_grasp_models.check_models.format_checks import check_met_rxn_order, check_kinetics_met_separators, \\\n",
    "    check_kinetics_subs_prod_order, check_rxn_mechanism_order\n",
    "from set_up_grasp_models.check_models.thermodynamics_checks import check_thermodynamic_feasibility\n",
    "from set_up_grasp_models.check_models.mass_balance_checks import check_flux_balance, check_balanced_metabolites\n",
    "from set_up_grasp_models.set_up_models.manipulate_model import reorder_reactions\n",
    "from set_up_grasp_models.set_up_models.set_up_ode_model import convert_to_ode_model\n",
    "\n",
    "from src.visualization.viz_thermodynamics import plot_dG_and_flux\n",
    "import pandas as pd\n",
    "import os"
   ]
  },
  {
   "cell_type": "markdown",
   "metadata": {},
   "source": [
    "# Create model from putida_TCA_OP_reg"
   ]
  },
  {
   "cell_type": "markdown",
   "metadata": {},
   "source": [
    " - Originally the base model was putida_TCA_OP2\n",
    " - Added promiscuous enzymes for ICDHyr, ME2, MDH, and GAPD (cofactor specificity)\n",
    " - Added glyoxylate shunt with a flux of 10 mmol/L/h, just like the glutathione reactions\n",
    " - Defined fluxes for promiscuous enzymes according to quasi in vivo conditions in table 3 of pseudomonas putida KT2440 strain metabolizes glucose through a cycle formed by enzymes of the Entner-Doudoroff, embden-meyerhof-parnas, and pentose phosphate pathways."
   ]
  },
  {
   "cell_type": "code",
   "execution_count": 33,
   "metadata": {},
   "outputs": [
    {
     "name": "stdin",
     "output_type": "stream",
     "text": [
      "No KEGG id was found for q8h2. If you know it, please insert it below,otherwise all reaction involving q8h2 will be ignored.\n",
      " \n"
     ]
    },
    {
     "name": "stdout",
     "output_type": "stream",
     "text": [
      "R_OPNAD is not balanced.\n",
      "R_AXPr is not balanced.\n",
      "R_NADHr is not balanced.\n",
      "R_NADPHr is not balanced.\n",
      "R_ACCOAr is not balanced.\n"
     ]
    }
   ],
   "source": [
    "model_name = 'putida_TCA_OP_reg_no_gth_amp'\n",
    "models_dir = '../../models'\n",
    "data_dir = '../../data/omics'\n",
    "\n",
    "file_in_stoic = os.path.join(models_dir, 'putida_TCA_OP_reg_no_gth_amp.txt')\n",
    "file_in_metabolomics = os.path.join(data_dir, 'P. putida wt Glucose.xlsx')\n",
    "base_excel_file = os.path.join(models_dir, 'putida_TCA_OP_reg_no_gth.xlsx')\n",
    "\n",
    "file_out = os.path.join(models_dir, f'{model_name}.xlsx')\n",
    "\n",
    "set_up_model(model_name, file_in_stoic, base_excel_file, file_out, use_equilibrator=True, file_in_mets_conc=file_in_metabolomics)"
   ]
  },
  {
   "cell_type": "markdown",
   "metadata": {},
   "source": [
    "### Manual changes\n",
    "\n",
    " - **mets**\n",
    "   - added glyoxylate info\n",
    "\n",
    " - **rxns**\n",
    "   - set new CS reactions as active\n",
    "   - add info for ICL and MALS \n",
    "   \n",
    " - **thermoMets**\n",
    "    - set succoa, g3p, 3pg, succoas, and 2pg concentration ranges from 0 to [10^-9, 10^-7] mol/L\n",
    "    - update lower limit for concentrations from 10^12 to 10^-9 mol/L\n",
    " \n",
    " - **measRates**\n",
    "    - set fluxes for promiscuous enzymes according to quasi in vivo conditions in table 3 of Pseudomonas putida KT2440 strain metabolizes glucose through a cycle formed by enzymes of the Entner-Doudoroff, embden-meyerhof-parnas, and pentose phosphate pathways\n",
    "    - updated CS_small and CS_large fluxes, small has 22% of the flux and large 78%, according to protein amounts in \"Molecular size diversity of citrate synthases from Pseudomonas species\"\n",
    "    - reduced flux through gth reactions from 500 to 10 and adjusted h2o2 exchange reaction and nadph regeneration reaction.\n",
    "    - set flux for ICL and MALS to 10\n",
    "    - add +1 to G6PDH_NADP to add up to the total measured flux\n",
    "    \n",
    " - **kinetics**\n",
    "    - added regulation"
   ]
  },
  {
   "cell_type": "code",
   "execution_count": 34,
   "metadata": {},
   "outputs": [],
   "source": [
    "def full_model_check(data_dict):\n",
    "    # check metabolite lists separators in kinetics sheet\n",
    "    check_kinetics_met_separators(data_dict)\n",
    "\n",
    "    # check if the order of metabolites and reactions in all excel sheets is correct\n",
    "    check_met_rxn_order(data_dict)\n",
    "\n",
    "    # check consistency between stoic sheet and mets sheet, take the results with a grain of salt\n",
    "    check_balanced_metabolites(data_dict)\n",
    "\n",
    "    # check if fluxes and Gibbs energies are compatible\n",
    "    check_thermodynamic_feasibility(data_dict)\n",
    "\n",
    "    # check if all metabolites marked as balanced are indeed mass balance, only works if fluxes for all reactions are\n",
    "    # either specified or can be calculated\n",
    "    check_flux_balance(data_dict)\n",
    "\n",
    "\n",
    "    check_kinetics_subs_prod_order(data_dict)\n",
    "\n",
    "\n",
    "    check_rxn_mechanism_order(data_dict)"
   ]
  },
  {
   "cell_type": "code",
   "execution_count": 27,
   "metadata": {},
   "outputs": [
    {
     "name": "stdout",
     "output_type": "stream",
     "text": [
      "\n",
      "Checking if values are separated by a space in the kinetics sheet in columns order, promiscuous, inhibitors, activators, negative effector, and positive effector.\n",
      "It looks for dots, commas, and semi-colons.\n",
      "\n",
      "Everything seems to be OK.\n",
      "\n",
      "\n",
      "Checking if the order of reactions and metabolites is the same in all excel sheets.\n",
      "\n",
      "Everything seems to be OK.\n",
      "\n",
      "\n",
      "Checking if metabolites are both consumed and produced in the stoichiometric matrix, and if so checks if they are marked as balanced in the mets sheet. However, the metabolite might be balanced/not balanced anyways depending on the flux of the reactions that consume/produce it, so take this with a grain of salt.\n",
      "\n",
      "m_h2o_c is marked as not balanced but it seems to be balanced.\n",
      "m_pi_c is marked as not balanced but it seems to be balanced.\n",
      "m_co2_c is marked as not balanced but it seems to be balanced.\n",
      "m_amp_c is marked as balanced but it does not seem to be balanced.\n",
      "m_amp_c is not set as constant but maybe it should, since it does not seem to be balanced.\n",
      "\n",
      "Checking if fluxes and Gibbs energies are compatible.\n",
      "\n",
      "Everything seems to be OK.\n",
      "\n",
      "Checking if the fluxes for each metabolite production/consumptions add up to zero.\n",
      "\n",
      "Everything seems to be OK.\n",
      "\n",
      "Checking if the metabolite names in the substrate and product order columns in the kinetics sheet are valid, i.e., if they are indeed substrates and products of the respective reaction.\n",
      "\n",
      "The following metabolites in the substrate order column for reaction R_PGLCNDH_NAD are not part of the reaction substrates:\n",
      "{'m_nadph_c'}\n",
      "\n",
      "The following metabolites in the product order column for reaction R_PGLCNDH_NAD are not part of the reaction products:\n",
      "{'m_nadp_c'}\n",
      "\n",
      "The following metabolites in the substrate order column for reaction R_PGLCNDH_NADP are not part of the reaction substrates:\n",
      "{'m_nadh_c'}\n",
      "\n",
      "The following metabolites in the product order column for reaction R_PGLCNDH_NADP are not part of the reaction products:\n",
      "{'m_nad_c'}\n",
      "\n",
      "The following metabolites in the substrate order column for reaction R_G6PDH2_NAD are not part of the reaction substrates:\n",
      "{'m_nadp_c'}\n",
      "\n",
      "The following metabolites in the product order column for reaction R_G6PDH2_NAD are not part of the reaction products:\n",
      "{'m_nadph_c'}\n",
      "\n",
      "The following metabolites in the substrate order column for reaction R_G6PDH2_NADP are not part of the reaction substrates:\n",
      "{'m_nad_c'}\n",
      "\n",
      "The following metabolites in the product order column for reaction R_G6PDH2_NADP are not part of the reaction products:\n",
      "{'m_nadh_c'}\n",
      "\n",
      "The following metabolites in the substrate order column for reaction R_GND_NAD are not part of the reaction substrates:\n",
      "{'m_nadp_c'}\n",
      "\n",
      "The following metabolites in the product order column for reaction R_GND_NAD are not part of the reaction products:\n",
      "{'m_nadph_c'}\n",
      "\n",
      "The following metabolites in the substrate order column for reaction R_GND_NADP are not part of the reaction substrates:\n",
      "{'m_nad_c'}\n",
      "\n",
      "The following metabolites in the product order column for reaction R_GND_NADP are not part of the reaction products:\n",
      "{'m_nadh_c'}\n",
      "\n",
      "The following metabolites in the substrate order column for reaction R_GAPD_NAD are not part of the reaction substrates:\n",
      "{'m_nadp_c'}\n",
      "\n",
      "The following metabolites in the product order column for reaction R_GAPD_NAD are not part of the reaction products:\n",
      "{'m_nadph_c'}\n",
      "\n",
      "The following metabolites in the substrate order column for reaction R_GAPD_NADP are not part of the reaction substrates:\n",
      "{'m_nad_c'}\n",
      "\n",
      "The following metabolites in the product order column for reaction R_GAPD_NADP are not part of the reaction products:\n",
      "{'m_nadh_c'}\n",
      "\n",
      "The following metabolites in the substrate order column for reaction R_ME2_NADP are not part of the reaction substrates:\n",
      "{'m_nad_c'}\n",
      "\n",
      "The following metabolites in the product order column for reaction R_ME2_NADP are not part of the reaction products:\n",
      "{'m_nadh_c'}\n",
      "\n",
      "The following metabolites in the substrate order column for reaction R_ME2_NAD are not part of the reaction substrates:\n",
      "{'m_nadp_c'}\n",
      "\n",
      "The following metabolites in the product order column for reaction R_ME2_NAD are not part of the reaction products:\n",
      "{'m_nadph_c'}\n",
      "\n",
      "The following metabolites in the substrate order column for reaction R_MDH_NAD are not part of the reaction substrates:\n",
      "{'m_nadp_c'}\n",
      "\n",
      "The following metabolites in the product order column for reaction R_MDH_NAD are not part of the reaction products:\n",
      "{'m_nadph_c'}\n",
      "\n",
      "The following metabolites in the substrate order column for reaction R_MDH_NADP are not part of the reaction substrates:\n",
      "{'m_nad_c'}\n",
      "\n",
      "The following metabolites in the product order column for reaction R_MDH_NADP are not part of the reaction products:\n",
      "{'m_nadh_c'}\n",
      "\n",
      "The following metabolites in the substrate order column for reaction R_ICDHyr_NADP are not part of the reaction substrates:\n",
      "{'m_nad_c'}\n",
      "\n",
      "The following metabolites in the product order column for reaction R_ICDHyr_NADP are not part of the reaction products:\n",
      "{'m_nadh_c'}\n",
      "\n",
      "The following metabolites in the substrate order column for reaction R_ICDHyr_NAD are not part of the reaction substrates:\n",
      "{'m_nadp_c'}\n",
      "\n",
      "The following metabolites in the product order column for reaction R_ICDHyr_NAD are not part of the reaction products:\n",
      "{'m_nadph_c'}\n",
      "\n",
      "\n",
      "Checking if non enzymatic mechanisms come only after enzymatic ones and if fixedExchange is the very last one.\n",
      "\n",
      "Everything seems to be OK.\n",
      "\n"
     ]
    }
   ],
   "source": [
    "model_name = 'putida_TCA_OP_reg_no_gth_amp'\n",
    "models_dir = '../../models'\n",
    "\n",
    "file_in = os.path.join(models_dir,f'{model_name}.xlsx')\n",
    "data_dict = pd.read_excel(file_in, sheet_name=None, index_col=0)\n",
    "full_model_check(data_dict)"
   ]
  },
  {
   "cell_type": "code",
   "execution_count": 28,
   "metadata": {},
   "outputs": [
    {
     "name": "stdout",
     "output_type": "stream",
     "text": [
      "\n",
      "Checking if fluxes and Gibbs energies are compatible.\n",
      "\n",
      "Everything seems to be OK.\n"
     ]
    },
    {
     "data": {
      "application/vnd.vegalite.v3+json": {
       "$schema": "https://vega.github.io/schema/vega-lite/v3.4.0.json",
       "config": {
        "mark": {
         "tooltip": null
        },
        "view": {
         "height": 300,
         "width": 400
        }
       },
       "datasets": {
        "data-56c1fbfd3003e68f0c4fa9a729cfedef": [
         {
          "flux": 481,
          "flux_max": 541,
          "flux_min": 421,
          "rxn": "R_GLCabcpp",
          "vref_mean (mmol/L/h)": 481,
          "vref_mean (mmol/L/h).1": 481,
          "vref_std (mmol/L/h)": 60,
          "vref_std (mmol/L/h).1": 60
         },
         {
          "flux": 481,
          "flux_max": 521,
          "flux_min": 441,
          "rxn": "R_GLK",
          "vref_mean (mmol/L/h)": 481,
          "vref_mean (mmol/L/h).1": 481,
          "vref_std (mmol/L/h)": 40,
          "vref_std (mmol/L/h).1": 40
         },
         {
          "flux": 3654,
          "flux_max": 3724,
          "flux_min": 3584,
          "rxn": "R_GLCNt2rpp",
          "vref_mean (mmol/L/h)": 3654,
          "vref_mean (mmol/L/h).1": 3654,
          "vref_std (mmol/L/h)": 70,
          "vref_std (mmol/L/h).1": 70
         },
         {
          "flux": 3654,
          "flux_max": 3724,
          "flux_min": 3584,
          "rxn": "R_GNK",
          "vref_mean (mmol/L/h)": 3654,
          "vref_mean (mmol/L/h).1": 3654,
          "vref_std (mmol/L/h)": 70,
          "vref_std (mmol/L/h).1": 70
         },
         {
          "flux": 549,
          "flux_max": 609,
          "flux_min": 489,
          "rxn": "R_2DHGLCNkt_tpp",
          "vref_mean (mmol/L/h)": 549,
          "vref_mean (mmol/L/h).1": 549,
          "vref_std (mmol/L/h)": 60,
          "vref_std (mmol/L/h).1": 60
         },
         {
          "flux": 549,
          "flux_max": 609,
          "flux_min": 489,
          "rxn": "R_2DHGLCK",
          "vref_mean (mmol/L/h)": 549,
          "vref_mean (mmol/L/h).1": 549,
          "vref_std (mmol/L/h)": 60,
          "vref_std (mmol/L/h).1": 60
         },
         {
          "flux": 56,
          "flux_max": 116,
          "flux_min": -4,
          "rxn": "R_PGLCNDH_NAD",
          "vref_mean (mmol/L/h)": 56,
          "vref_mean (mmol/L/h).1": 56,
          "vref_std (mmol/L/h)": 60,
          "vref_std (mmol/L/h).1": 60
         },
         {
          "flux": 493,
          "flux_max": 553,
          "flux_min": 433,
          "rxn": "R_PGLCNDH_NADP",
          "vref_mean (mmol/L/h)": 493,
          "vref_mean (mmol/L/h).1": 493,
          "vref_std (mmol/L/h)": 60,
          "vref_std (mmol/L/h).1": 60
         },
         {
          "flux": 4203,
          "flux_max": 4243,
          "flux_min": 4163,
          "rxn": "R_GLCDpp",
          "vref_mean (mmol/L/h)": 4203,
          "vref_mean (mmol/L/h).1": 4203,
          "vref_std (mmol/L/h)": 40,
          "vref_std (mmol/L/h).1": 40
         },
         {
          "flux": 549,
          "flux_max": 609,
          "flux_min": 489,
          "rxn": "R_GAD2ktpp",
          "vref_mean (mmol/L/h)": 549,
          "vref_mean (mmol/L/h).1": 549,
          "vref_std (mmol/L/h)": 60,
          "vref_std (mmol/L/h).1": 60
         },
         {
          "flux": 55,
          "flux_max": 125,
          "flux_min": -15,
          "rxn": "R_G6PDH2_NAD",
          "vref_mean (mmol/L/h)": 55,
          "vref_mean (mmol/L/h).1": 55,
          "vref_std (mmol/L/h)": 70,
          "vref_std (mmol/L/h).1": 70
         },
         {
          "flux": 838,
          "flux_max": 908,
          "flux_min": 768,
          "rxn": "R_G6PDH2_NADP",
          "vref_mean (mmol/L/h)": 838,
          "vref_mean (mmol/L/h).1": 838,
          "vref_std (mmol/L/h)": 70,
          "vref_std (mmol/L/h).1": 70
         },
         {
          "flux": 893,
          "flux_max": 963,
          "flux_min": 823,
          "rxn": "R_PGL",
          "vref_mean (mmol/L/h)": 893,
          "vref_mean (mmol/L/h).1": 893,
          "vref_std (mmol/L/h)": 70,
          "vref_std (mmol/L/h).1": 70
         },
         {
          "flux": 39,
          "flux_max": 69,
          "flux_min": 9,
          "rxn": "R_GND_NAD",
          "vref_mean (mmol/L/h)": 39,
          "vref_mean (mmol/L/h).1": 39,
          "vref_std (mmol/L/h)": 30,
          "vref_std (mmol/L/h).1": 30
         },
         {
          "flux": 411,
          "flux_max": 441,
          "flux_min": 381,
          "rxn": "R_GND_NADP",
          "vref_mean (mmol/L/h)": 411,
          "vref_mean (mmol/L/h).1": 411,
          "vref_std (mmol/L/h)": 30,
          "vref_std (mmol/L/h).1": 30
         },
         {
          "flux": 336,
          "flux_max": 926,
          "flux_min": -254,
          "rxn": "R_RPI",
          "vref_mean (mmol/L/h)": 336,
          "vref_mean (mmol/L/h).1": 336,
          "vref_std (mmol/L/h)": 590,
          "vref_std (mmol/L/h).1": 590
         },
         {
          "flux": 114,
          "flux_max": 704,
          "flux_min": -476,
          "rxn": "R_RPE",
          "vref_mean (mmol/L/h)": 114,
          "vref_mean (mmol/L/h).1": 114,
          "vref_std (mmol/L/h)": 590,
          "vref_std (mmol/L/h).1": 590
         },
         {
          "flux": 114,
          "flux_max": 124,
          "flux_min": 104,
          "rxn": "R_TKT1",
          "vref_mean (mmol/L/h)": 114,
          "vref_mean (mmol/L/h).1": 114,
          "vref_std (mmol/L/h)": 10,
          "vref_std (mmol/L/h).1": 10
         },
         {
          "flux": 8,
          "flux_max": 12,
          "flux_min": 4,
          "rxn": "R_TKT2",
          "vref_mean (mmol/L/h)": 8,
          "vref_mean (mmol/L/h).1": 8,
          "vref_std (mmol/L/h)": 4,
          "vref_std (mmol/L/h).1": 4
         },
         {
          "flux": 114,
          "flux_max": 124,
          "flux_min": 104,
          "rxn": "R_TALA",
          "vref_mean (mmol/L/h)": 114,
          "vref_mean (mmol/L/h).1": 114,
          "vref_std (mmol/L/h)": 10,
          "vref_std (mmol/L/h).1": 10
         },
         {
          "flux": 4661,
          "flux_max": 4701,
          "flux_min": 4621,
          "rxn": "R_EDD",
          "vref_mean (mmol/L/h)": 4661,
          "vref_mean (mmol/L/h).1": 4661,
          "vref_std (mmol/L/h)": 40,
          "vref_std (mmol/L/h).1": 40
         },
         {
          "flux": 4661,
          "flux_max": 4701,
          "flux_min": 4621,
          "rxn": "R_EDA",
          "vref_mean (mmol/L/h)": 4661,
          "vref_mean (mmol/L/h).1": 4661,
          "vref_std (mmol/L/h)": 40,
          "vref_std (mmol/L/h).1": 40
         },
         {
          "flux": 435,
          "flux_max": 475,
          "flux_min": 395,
          "rxn": "R_PGI",
          "vref_mean (mmol/L/h)": 435,
          "vref_mean (mmol/L/h).1": 435,
          "vref_std (mmol/L/h)": 40,
          "vref_std (mmol/L/h).1": 40
         },
         {
          "flux": 351,
          "flux_max": 381,
          "flux_min": 321,
          "rxn": "R_FBP",
          "vref_mean (mmol/L/h)": 351,
          "vref_mean (mmol/L/h).1": 351,
          "vref_std (mmol/L/h)": 30,
          "vref_std (mmol/L/h).1": 30
         },
         {
          "flux": 351,
          "flux_max": 381,
          "flux_min": 321,
          "rxn": "R_FBA",
          "vref_mean (mmol/L/h)": 351,
          "vref_mean (mmol/L/h).1": 351,
          "vref_std (mmol/L/h)": 30,
          "vref_std (mmol/L/h).1": 30
         },
         {
          "flux": 351,
          "flux_max": 381,
          "flux_min": 321,
          "rxn": "R_TPI",
          "vref_mean (mmol/L/h)": 351,
          "vref_mean (mmol/L/h).1": 351,
          "vref_std (mmol/L/h)": 30,
          "vref_std (mmol/L/h).1": 30
         },
         {
          "flux": 2604,
          "flux_max": 2630,
          "flux_min": 2578,
          "rxn": "R_GAPD_NAD",
          "vref_mean (mmol/L/h)": 2604,
          "vref_mean (mmol/L/h).1": 2604,
          "vref_std (mmol/L/h)": 26,
          "vref_std (mmol/L/h).1": 26
         },
         {
          "flux": 1294,
          "flux_max": 1306,
          "flux_min": 1282,
          "rxn": "R_GAPD_NADP",
          "vref_mean (mmol/L/h)": 1294,
          "vref_mean (mmol/L/h).1": 1294,
          "vref_std (mmol/L/h)": 12,
          "vref_std (mmol/L/h).1": 12
         },
         {
          "flux": 3898,
          "flux_max": 3938,
          "flux_min": 3858,
          "rxn": "R_PGK",
          "vref_mean (mmol/L/h)": 3898,
          "vref_mean (mmol/L/h).1": 3898,
          "vref_std (mmol/L/h)": 40,
          "vref_std (mmol/L/h).1": 40
         },
         {
          "flux": 3326,
          "flux_max": 3396,
          "flux_min": 3256,
          "rxn": "R_PGM",
          "vref_mean (mmol/L/h)": 3326,
          "vref_mean (mmol/L/h).1": 3326,
          "vref_std (mmol/L/h)": 70,
          "vref_std (mmol/L/h).1": 70
         },
         {
          "flux": 3326,
          "flux_max": 3396,
          "flux_min": 3256,
          "rxn": "R_ENO",
          "vref_mean (mmol/L/h)": 3326,
          "vref_mean (mmol/L/h).1": 3326,
          "vref_std (mmol/L/h)": 70,
          "vref_std (mmol/L/h).1": 70
         },
         {
          "flux": 2968,
          "flux_max": 3048,
          "flux_min": 2888,
          "rxn": "R_PYK",
          "vref_mean (mmol/L/h)": 2968,
          "vref_mean (mmol/L/h).1": 2968,
          "vref_std (mmol/L/h)": 80,
          "vref_std (mmol/L/h).1": 80
         },
         {
          "flux": 5088,
          "flux_max": 5268,
          "flux_min": 4908,
          "rxn": "R_PDH",
          "vref_mean (mmol/L/h)": 5088,
          "vref_mean (mmol/L/h).1": 5088,
          "vref_std (mmol/L/h)": 180,
          "vref_std (mmol/L/h).1": 180
         },
         {
          "flux": 3387,
          "flux_max": 3537,
          "flux_min": 3237,
          "rxn": "R_OAADC",
          "vref_mean (mmol/L/h)": 3387,
          "vref_mean (mmol/L/h).1": 3387,
          "vref_std (mmol/L/h)": 150,
          "vref_std (mmol/L/h).1": 150
         },
         {
          "flux": 114,
          "flux_max": 244,
          "flux_min": -16,
          "rxn": "R_PPC",
          "vref_mean (mmol/L/h)": 114,
          "vref_mean (mmol/L/h).1": 114,
          "vref_std (mmol/L/h)": 130,
          "vref_std (mmol/L/h).1": 130
         },
         {
          "flux": 1980,
          "flux_max": 1999,
          "flux_min": 1961,
          "rxn": "R_ME2_NADP",
          "vref_mean (mmol/L/h)": 1980,
          "vref_mean (mmol/L/h).1": 1980,
          "vref_std (mmol/L/h)": 19,
          "vref_std (mmol/L/h).1": 19
         },
         {
          "flux": 72,
          "flux_max": 79,
          "flux_min": 65,
          "rxn": "R_ME2_NAD",
          "vref_mean (mmol/L/h)": 72,
          "vref_mean (mmol/L/h).1": 72,
          "vref_std (mmol/L/h)": 7,
          "vref_std (mmol/L/h).1": 7
         },
         {
          "flux": 1495,
          "flux_max": 1510,
          "flux_min": 1480,
          "rxn": "R_MDH_NAD",
          "vref_mean (mmol/L/h)": 1495,
          "vref_mean (mmol/L/h).1": 1495,
          "vref_std (mmol/L/h)": 15,
          "vref_std (mmol/L/h).1": 15
         },
         {
          "flux": 38,
          "flux_max": 41,
          "flux_min": 35,
          "rxn": "R_MDH_NADP",
          "vref_mean (mmol/L/h)": 38,
          "vref_mean (mmol/L/h).1": 38,
          "vref_std (mmol/L/h)": 3,
          "vref_std (mmol/L/h).1": 3
         },
         {
          "flux": 3593,
          "flux_max": 3813,
          "flux_min": 3373,
          "rxn": "R_FUM",
          "vref_mean (mmol/L/h)": 3593,
          "vref_mean (mmol/L/h).1": 3593,
          "vref_std (mmol/L/h)": 220,
          "vref_std (mmol/L/h).1": 220
         },
         {
          "flux": 3593,
          "flux_max": 3813,
          "flux_min": 3373,
          "rxn": "R_SUCDi",
          "vref_mean (mmol/L/h)": 3593,
          "vref_mean (mmol/L/h).1": 3593,
          "vref_std (mmol/L/h)": 220,
          "vref_std (mmol/L/h).1": 220
         },
         {
          "flux": 3593,
          "flux_max": 3813,
          "flux_min": 3373,
          "rxn": "R_SUCOAS",
          "vref_mean (mmol/L/h)": 3593,
          "vref_mean (mmol/L/h).1": 3593,
          "vref_std (mmol/L/h)": 220,
          "vref_std (mmol/L/h).1": 220
         },
         {
          "flux": 3593,
          "flux_max": 3813,
          "flux_min": 3373,
          "rxn": "R_AKGDH",
          "vref_mean (mmol/L/h)": 3593,
          "vref_mean (mmol/L/h).1": 3593,
          "vref_std (mmol/L/h)": 220,
          "vref_std (mmol/L/h).1": 220
         },
         {
          "flux": 3689,
          "flux_max": 3725,
          "flux_min": 3653,
          "rxn": "R_ICDHyr_NADP",
          "vref_mean (mmol/L/h)": 3689,
          "vref_mean (mmol/L/h).1": 3689,
          "vref_std (mmol/L/h)": 36,
          "vref_std (mmol/L/h).1": 36
         },
         {
          "flux": 461,
          "flux_max": 465,
          "flux_min": 457,
          "rxn": "R_ICDHyr_NAD",
          "vref_mean (mmol/L/h)": 461,
          "vref_mean (mmol/L/h).1": 461,
          "vref_std (mmol/L/h)": 4,
          "vref_std (mmol/L/h).1": 4
         },
         {
          "flux": 4150,
          "flux_max": 4360,
          "flux_min": 3940,
          "rxn": "R_ACONTa",
          "vref_mean (mmol/L/h)": 4150,
          "vref_mean (mmol/L/h).1": 4150,
          "vref_std (mmol/L/h)": 210,
          "vref_std (mmol/L/h).1": 210
         },
         {
          "flux": 4150,
          "flux_max": 4360,
          "flux_min": 3940,
          "rxn": "R_ACONTb",
          "vref_mean (mmol/L/h)": 4150,
          "vref_mean (mmol/L/h).1": 4150,
          "vref_std (mmol/L/h)": 210,
          "vref_std (mmol/L/h).1": 210
         },
         {
          "flux": 3237,
          "flux_max": 3269,
          "flux_min": 3205,
          "rxn": "R_CS_large",
          "vref_mean (mmol/L/h)": 3237,
          "vref_mean (mmol/L/h).1": 3237,
          "vref_std (mmol/L/h)": 32,
          "vref_std (mmol/L/h).1": 32
         },
         {
          "flux": 913,
          "flux_max": 922,
          "flux_min": 904,
          "rxn": "R_CS_small",
          "vref_mean (mmol/L/h)": 913,
          "vref_mean (mmol/L/h).1": 913,
          "vref_std (mmol/L/h)": 9,
          "vref_std (mmol/L/h).1": 9
         },
         {
          "flux": 10,
          "flux_max": 11,
          "flux_min": 9,
          "rxn": "R_ICL",
          "vref_mean (mmol/L/h)": 10,
          "vref_mean (mmol/L/h).1": 10,
          "vref_std (mmol/L/h)": 1,
          "vref_std (mmol/L/h).1": 1
         },
         {
          "flux": 10,
          "flux_max": 11,
          "flux_min": 9,
          "rxn": "R_MALS",
          "vref_mean (mmol/L/h)": 10,
          "vref_mean (mmol/L/h).1": 10,
          "vref_std (mmol/L/h)": 1,
          "vref_std (mmol/L/h).1": 1
         },
         {
          "flux": 5000,
          "flux_max": 5050,
          "flux_min": 4950,
          "rxn": "R_OPNAD",
          "vref_mean (mmol/L/h)": 5000,
          "vref_mean (mmol/L/h).1": 5000,
          "vref_std (mmol/L/h)": 50,
          "vref_std (mmol/L/h).1": 50
         },
         {
          "flux": 5500,
          "flux_max": 5550,
          "flux_min": 5450,
          "rxn": "R_OPQ8",
          "vref_mean (mmol/L/h)": 5500,
          "vref_mean (mmol/L/h).1": 5500,
          "vref_std (mmol/L/h)": 50,
          "vref_std (mmol/L/h).1": 50
         },
         {
          "flux": 24981.5,
          "flux_max": 25181.5,
          "flux_min": 24781.5,
          "rxn": "R_AXPr2",
          "vref_mean (mmol/L/h)": 24981.5,
          "vref_mean (mmol/L/h).1": 24981.5,
          "vref_std (mmol/L/h)": 200,
          "vref_std (mmol/L/h).1": 200
         },
         {
          "flux": 8351,
          "flux_max": 8551,
          "flux_min": 8151,
          "rxn": "R_NADHr",
          "vref_mean (mmol/L/h)": 8351,
          "vref_mean (mmol/L/h).1": 8351,
          "vref_std (mmol/L/h)": 200,
          "vref_std (mmol/L/h).1": 200
         },
         {
          "flux": 7757,
          "flux_max": 7957,
          "flux_min": 7557,
          "rxn": "R_NADPHr",
          "vref_mean (mmol/L/h)": 7757,
          "vref_mean (mmol/L/h).1": 7757,
          "vref_std (mmol/L/h)": 200,
          "vref_std (mmol/L/h).1": 200
         },
         {
          "flux": 928,
          "flux_max": 1128,
          "flux_min": 728,
          "rxn": "R_ACCOAr",
          "vref_mean (mmol/L/h)": 928,
          "vref_mean (mmol/L/h).1": 928,
          "vref_std (mmol/L/h)": 200,
          "vref_std (mmol/L/h).1": 200
         },
         {
          "flux": 2845,
          "flux_max": 2945,
          "flux_min": 2745,
          "rxn": "R_Q8H2r",
          "vref_mean (mmol/L/h)": 2845,
          "vref_mean (mmol/L/h).1": 2845,
          "vref_std (mmol/L/h)": 100,
          "vref_std (mmol/L/h).1": 100
         },
         {
          "flux": 4684,
          "flux_max": 5295,
          "flux_min": 4073,
          "rxn": "R_GLCtex",
          "vref_mean (mmol/L/h)": 4684,
          "vref_mean (mmol/L/h).1": 4684,
          "vref_std (mmol/L/h)": 611,
          "vref_std (mmol/L/h).1": 611
         },
         {
          "flux": 1206,
          "flux_max": 1406,
          "flux_min": 1006,
          "rxn": "R_EX_pyr",
          "vref_mean (mmol/L/h)": 1206,
          "vref_mean (mmol/L/h).1": 1206,
          "vref_std (mmol/L/h)": 200,
          "vref_std (mmol/L/h).1": 200
         },
         {
          "flux": 472,
          "flux_max": 534,
          "flux_min": 410,
          "rxn": "R_EX_pep",
          "vref_mean (mmol/L/h)": 472,
          "vref_mean (mmol/L/h).1": 472,
          "vref_std (mmol/L/h)": 62,
          "vref_std (mmol/L/h).1": 62
         },
         {
          "flux": 23,
          "flux_max": 26,
          "flux_min": 20,
          "rxn": "R_EX_g6p",
          "vref_mean (mmol/L/h)": 23,
          "vref_mean (mmol/L/h).1": 23,
          "vref_std (mmol/L/h)": 3,
          "vref_std (mmol/L/h).1": 3
         },
         {
          "flux": 15,
          "flux_max": 17,
          "flux_min": 13,
          "rxn": "R_EX_6pgc",
          "vref_mean (mmol/L/h)": 15,
          "vref_mean (mmol/L/h).1": 15,
          "vref_std (mmol/L/h)": 2,
          "vref_std (mmol/L/h).1": 2
         },
         {
          "flux": 222,
          "flux_max": 251,
          "flux_min": 193,
          "rxn": "R_EX_r5p",
          "vref_mean (mmol/L/h)": 222,
          "vref_mean (mmol/L/h).1": 222,
          "vref_std (mmol/L/h)": 29,
          "vref_std (mmol/L/h).1": 29
         },
         {
          "flux": 8,
          "flux_max": 9,
          "flux_min": 7,
          "rxn": "R_EX_xu5p__D",
          "vref_mean (mmol/L/h)": 8,
          "vref_mean (mmol/L/h).1": 8,
          "vref_std (mmol/L/h)": 1,
          "vref_std (mmol/L/h).1": 1
         },
         {
          "flux": 69,
          "flux_max": 78,
          "flux_min": 60,
          "rxn": "R_EX_g3p",
          "vref_mean (mmol/L/h)": 69,
          "vref_mean (mmol/L/h).1": 69,
          "vref_std (mmol/L/h)": 9,
          "vref_std (mmol/L/h).1": 9
         },
         {
          "flux": 106,
          "flux_max": 120,
          "flux_min": 92,
          "rxn": "R_EX_e4p",
          "vref_mean (mmol/L/h)": 106,
          "vref_mean (mmol/L/h).1": 106,
          "vref_std (mmol/L/h)": 14,
          "vref_std (mmol/L/h).1": 14
         },
         {
          "flux": 38,
          "flux_max": 43,
          "flux_min": 33,
          "rxn": "R_EX_f6p",
          "vref_mean (mmol/L/h)": 38,
          "vref_mean (mmol/L/h).1": 38,
          "vref_std (mmol/L/h)": 5,
          "vref_std (mmol/L/h).1": 5
         },
         {
          "flux": 572,
          "flux_max": 647,
          "flux_min": 497,
          "rxn": "R_EX_3pg",
          "vref_mean (mmol/L/h)": 572,
          "vref_mean (mmol/L/h).1": 572,
          "vref_std (mmol/L/h)": 75,
          "vref_std (mmol/L/h).1": 75
         },
         {
          "flux": 656,
          "flux_max": 736,
          "flux_min": 576,
          "rxn": "R_EX_oaa",
          "vref_mean (mmol/L/h)": 656,
          "vref_mean (mmol/L/h).1": 656,
          "vref_std (mmol/L/h)": 80,
          "vref_std (mmol/L/h).1": 80
         },
         {
          "flux": 18,
          "flux_max": 19,
          "flux_min": 17,
          "rxn": "R_EX_malL",
          "vref_mean (mmol/L/h)": 18,
          "vref_mean (mmol/L/h).1": 18,
          "vref_std (mmol/L/h)": 1,
          "vref_std (mmol/L/h).1": 1
         },
         {
          "flux": 557,
          "flux_max": 627,
          "flux_min": 487,
          "rxn": "R_EX_akg",
          "vref_mean (mmol/L/h)": 557,
          "vref_mean (mmol/L/h).1": 557,
          "vref_std (mmol/L/h)": 70,
          "vref_std (mmol/L/h).1": 70
         },
         {
          "flux": 10,
          "flux_max": 10,
          "flux_min": 10,
          "rxn": "R_EX_succ",
          "vref_mean (mmol/L/h)": 10,
          "vref_mean (mmol/L/h).1": 10,
          "vref_std (mmol/L/h)": 0,
          "vref_std (mmol/L/h).1": 0
         },
         {
          "flux": -10,
          "flux_max": -10,
          "flux_min": -10,
          "rxn": "R_EX_icit",
          "vref_mean (mmol/L/h)": -10,
          "vref_mean (mmol/L/h).1": -10,
          "vref_std (mmol/L/h)": 0,
          "vref_std (mmol/L/h).1": 0
         },
         {
          "flux": 24981.5,
          "flux_max": 25181.5,
          "flux_min": 24781.5,
          "rxn": "R_EX_adp",
          "vref_mean (mmol/L/h)": 24981.5,
          "vref_mean (mmol/L/h).1": 24981.5,
          "vref_std (mmol/L/h)": 200,
          "vref_std (mmol/L/h).1": 200
         },
         {
          "flux": -24981.5,
          "flux_max": -24781.5,
          "flux_min": -25181.5,
          "rxn": "R_EX_amp",
          "vref_mean (mmol/L/h)": -24981.5,
          "vref_mean (mmol/L/h).1": -24981.5,
          "vref_std (mmol/L/h)": 200,
          "vref_std (mmol/L/h).1": 200
         }
        ],
        "data-beb21937bf5d2057af5ebf4a396216d3": [
         {
          "rxn": "R_GLCabcpp",
          "∆G_max": 9.376988375905626,
          "∆G_mean": -38.99584312289824,
          "∆G_min": -129.49017250799469
         },
         {
          "rxn": "R_GLK",
          "∆G_max": 18.074888857953027,
          "∆G_mean": -27.04051898910412,
          "∆G_min": -29.870504639808757
         },
         {
          "rxn": "R_GLCNt2rpp",
          "∆G_max": 50.63856283215555,
          "∆G_mean": 0,
          "∆G_min": -50.63856283215555
         },
         {
          "rxn": "R_GNK",
          "∆G_max": 19.92450943145836,
          "∆G_mean": -28.31875521456616,
          "∆G_min": -34.33164206857911
         },
         {
          "rxn": "R_2DHGLCNkt_tpp",
          "∆G_max": 50.63856283215555,
          "∆G_mean": 0,
          "∆G_min": -50.63856283215555
         },
         {
          "rxn": "R_2DHGLCK",
          "∆G_max": 32.89180872992506,
          "∆G_mean": -16.983700747220258,
          "∆G_min": -66.77678932181968
         },
         {
          "rxn": "R_PGLCNDH_NAD",
          "∆G_max": 27.06746072948347,
          "∆G_mean": -19.29022048851697,
          "∆G_min": -23.51360375905405
         },
         {
          "rxn": "R_PGLCNDH_NADP",
          "∆G_max": 23.806742410486358,
          "∆G_mean": -22.880467387766963,
          "∆G_min": -27.432288790705545
         },
         {
          "rxn": "R_GLCDpp",
          "∆G_max": -16.322874335688894,
          "∆G_mean": -116.1,
          "∆G_min": -215.8771256643111
         },
         {
          "rxn": "R_GAD2ktpp",
          "∆G_max": 30.977125664311103,
          "∆G_mean": -66.5,
          "∆G_min": -163.9771256643111
         },
         {
          "rxn": "R_G6PDH2_NAD",
          "∆G_max": -5.827533669716303,
          "∆G_mean": -9.168015736945065,
          "∆G_min": -54.697840155978135
         },
         {
          "rxn": "R_G6PDH2_NADP",
          "∆G_max": -1.9788486380648043,
          "∆G_mean": -5.587768837695068,
          "∆G_min": -51.38712183698102
         },
         {
          "rxn": "R_PGL",
          "∆G_max": 11.781263533688847,
          "∆G_mean": -34.1750544673459,
          "∆G_min": -37.98341557891497
         },
         {
          "rxn": "R_GND_NAD",
          "∆G_max": -0.07423799526746677,
          "∆G_mean": -5.824467039798712,
          "∆G_min": -53.72784913194082
         },
         {
          "rxn": "R_GND_NADP",
          "∆G_max": 3.8244470363840293,
          "∆G_mean": -2.2342201405487145,
          "∆G_min": -50.44713081294371
         },
         {
          "rxn": "R_RPI",
          "∆G_max": -5.65328925850397,
          "∆G_mean": -6.928020469818933,
          "∆G_min": -8.21670867806485
         },
         {
          "rxn": "R_RPE",
          "∆G_max": 10.945568048437906,
          "∆G_mean": 7.8225451526376935,
          "∆G_min": -37.48554143185347
         },
         {
          "rxn": "R_TKT1",
          "∆G_max": 17.03394321318806,
          "∆G_mean": -31.024827218211616,
          "∆G_min": -44.88577427394985
         },
         {
          "rxn": "R_TKT2",
          "∆G_max": 38.93866673630205,
          "∆G_mean": -52.665165244756636,
          "∆G_min": -67.89044857146584
         },
         {
          "rxn": "R_TALA",
          "∆G_max": 47.425094776999345,
          "∆G_mean": 34.244497083691435,
          "∆G_min": -13.106098874131423
         },
         {
          "rxn": "R_EDD",
          "∆G_max": -25.136584421085026,
          "∆G_mean": -29.874945532654102,
          "∆G_min": -76.76126353368885
         },
         {
          "rxn": "R_EDA",
          "∆G_max": 13.779762943270912,
          "∆G_mean": -34.34431832871896,
          "∆G_min": -48.366106807494866
         },
         {
          "rxn": "R_PGI",
          "∆G_max": 1.9249658673382468,
          "∆G_mean": -1.1259224849070582,
          "∆G_min": -4.1727413462522485
         },
         {
          "rxn": "R_FBP",
          "∆G_max": -9.676737821776653,
          "∆G_mean": -12.332044982137015,
          "∆G_min": -57.19077595115554
         },
         {
          "rxn": "R_FBA",
          "∆G_max": 27.43320271427196,
          "∆G_mean": 4.226654853496903,
          "∆G_min": -10.920955113448002
         },
         {
          "rxn": "R_TPI",
          "∆G_max": 29.405641087604494,
          "∆G_mean": 6.3330333472229725,
          "∆G_min": -8.755390378310043
         },
         {
          "rxn": "R_GAPD_NAD",
          "∆G_max": 94.82213419846963,
          "∆G_mean": 38.86157788462889,
          "∆G_min": -9.061017549814075
         },
         {
          "rxn": "R_GAPD_NADP",
          "∆G_max": 98.83081923012111,
          "∆G_mean": 42.45182478387889,
          "∆G_min": -5.890299230816959
         },
         {
          "rxn": "R_PGK",
          "∆G_max": -0.782132802296978,
          "∆G_mean": -47.470568740559585,
          "∆G_min": -60.06180872992506
         },
         {
          "rxn": "R_PGM",
          "∆G_max": 16.009640708038887,
          "∆G_mean": 4.2299999999999995,
          "∆G_min": -7.549640708038886
         },
         {
          "rxn": "R_ENO",
          "∆G_max": 33.27735520870413,
          "∆G_mean": 5.616167279994251,
          "∆G_min": -14.028408122232786
         },
         {
          "rxn": "R_PYK",
          "∆G_max": -22.119500674734947,
          "∆G_mean": -23.716103510255298,
          "∆G_min": -25.46476189563797
         },
         {
          "rxn": "R_PDH",
          "∆G_max": -32.29099545146022,
          "∆G_mean": -38.717796291193366,
          "∆G_min": -87.13109813546995
         },
         {
          "rxn": "R_OAADC",
          "∆G_max": 71.68576814051461,
          "∆G_mean": 13.889167685959297,
          "∆G_min": -1.8373465052039046
         },
         {
          "rxn": "R_PPC",
          "∆G_max": 89.004579478676,
          "∆G_mean": 19.97777894719425,
          "∆G_min": -48.84555441152474
         },
         {
          "rxn": "R_ME2_NADP",
          "∆G_max": 7.607882286912135,
          "∆G_mean": 1.4360776147112873,
          "∆G_min": -46.95846426404578
         },
         {
          "rxn": "R_ME2_NAD",
          "∆G_max": 3.6991972552606356,
          "∆G_mean": -2.154169284538712,
          "∆G_min": -50.2291825830429
         },
         {
          "rxn": "R_MDH_NAD",
          "∆G_max": 22.828736353048356,
          "∆G_mean": 3.7399984014205874,
          "∆G_min": -15.500300045519904
         },
         {
          "rxn": "R_MDH_NADP",
          "∆G_max": 26.85742138469985,
          "∆G_mean": 6.995245300670584,
          "∆G_min": -13.019581726522789
         },
         {
          "rxn": "R_FUM",
          "∆G_max": 1.0431436902226894,
          "∆G_mean": -0.13817114003937103,
          "∆G_min": -1.2528518094674954
         },
         {
          "rxn": "R_SUCDi",
          "∆G_max": 24.11860897254241,
          "∆G_mean": -29.775762620514538,
          "∆G_min": -83.63493099620123
         },
         {
          "rxn": "R_SUCOAS",
          "∆G_max": 84.13017661044911,
          "∆G_mean": 12.214566235480365,
          "∆G_min": -9.835167319959293
         },
         {
          "rxn": "R_AKGDH",
          "∆G_max": -47.211954602888014,
          "∆G_mean": -56.03592017122998,
          "∆G_min": -114.81846261411533
         },
         {
          "rxn": "R_ICDHyr_NADP",
          "∆G_max": 3.3880597475719236,
          "∆G_mean": -3.2812975783190392,
          "∆G_min": -52.10533333842313
         },
         {
          "rxn": "R_ICDHyr_NAD",
          "∆G_max": -0.5006252840795735,
          "∆G_mean": -6.871544477569037,
          "∆G_min": -55.39605165742025
         },
         {
          "rxn": "R_ACONTa",
          "∆G_max": 20.65504243793233,
          "∆G_mean": 17.37272103086547,
          "∆G_min": -28.05652339272679
         },
         {
          "rxn": "R_ACONTb",
          "∆G_max": 31.003017142014123,
          "∆G_mean": -14.631990947472387,
          "∆G_min": -18.223588538688695
         },
         {
          "rxn": "R_CS_large",
          "∆G_max": -30.673419651188578,
          "∆G_mean": -32.93597109826007,
          "∆G_min": -35.1707965180329
         },
         {
          "rxn": "R_CS_small",
          "∆G_max": -30.673419651188578,
          "∆G_mean": -32.93597109826007,
          "∆G_min": -35.1707965180329
         },
         {
          "rxn": "R_ICL",
          "∆G_max": 7.010779929318149,
          "∆G_mean": -28.48068404207054,
          "∆G_min": -64.17066613141692
         },
         {
          "rxn": "R_MALS",
          "∆G_max": -33.43641560524831,
          "∆G_mean": -37.33609191841429,
          "∆G_min": -41.196888278042884
         },
         {
          "rxn": "R_OPNAD",
          "∆G_max": -172.574534662007,
          "∆G_mean": -262.8792101657369,
          "∆G_min": -274.21973607467044
         },
         {
          "rxn": "R_OPQ8",
          "∆G_max": -50.7021690256461,
          "∆G_mean": -188.7640441445658,
          "∆G_min": -247.84811072668694
         },
         {
          "rxn": "R_AXPr2",
          "∆G_max": -8.790789978376482,
          "∆G_mean": -10.04745616561403,
          "∆G_min": -11.216932250747647
         },
         {
          "rxn": "R_NADHr",
          "∆G_max": -52.94380280420537,
          "∆G_mean": -53.685166021171064,
          "∆G_min": -54.440188180139074
         },
         {
          "rxn": "R_NADPHr",
          "∆G_max": -56.18452112320249,
          "∆G_mean": -57.27541292042106,
          "∆G_min": -58.37887321179057
         },
         {
          "rxn": "R_ACCOAr",
          "∆G_max": 7.011395518268301,
          "∆G_mean": 1.3808687776255728,
          "∆G_min": -4.37609274708083
         },
         {
          "rxn": "R_Q8H2r",
          "∆G_max": 50.63856283215555,
          "∆G_mean": 0,
          "∆G_min": -50.63856283215555
         },
         {
          "rxn": "R_GLCtex",
          "∆G_max": 50.63856283215555,
          "∆G_mean": 0,
          "∆G_min": -50.63856283215555
         },
         {
          "rxn": "R_EX_pyr",
          "∆G_max": 15.442723621319878,
          "∆G_mean": 8.24790646526114,
          "∆G_min": -41.07350542140701
         },
         {
          "rxn": "R_EX_pep",
          "∆G_max": 13.85733024634945,
          "∆G_mean": 6.998102207785584,
          "∆G_min": -42.05735520870413
         },
         {
          "rxn": "R_EX_g6p",
          "∆G_max": 11.352278150144622,
          "∆G_mean": 4.586818241883867,
          "∆G_min": -44.381642960183505
         },
         {
          "rxn": "R_EX_6pgc",
          "∆G_max": 36.161263533688846,
          "∆G_mean": -13.1050544673459,
          "∆G_min": -20.223415578914974
         },
         {
          "rxn": "R_EX_r5p",
          "∆G_max": 23.219730078366922,
          "∆G_mean": 16.200565622456626,
          "∆G_min": -32.98970552521367
         },
         {
          "rxn": "R_EX_xu5p__D",
          "∆G_max": 50.63856283215555,
          "∆G_mean": 0,
          "∆G_min": -50.63856283215555
         },
         {
          "rxn": "R_EX_g3p",
          "∆G_max": 50.63856283215555,
          "∆G_mean": 34.20426948777983,
          "∆G_min": -16.409640708038886
         },
         {
          "rxn": "R_EX_e4p",
          "∆G_max": 50.63856283215555,
          "∆G_mean": 0,
          "∆G_min": -50.63856283215555
         },
         {
          "rxn": "R_EX_f6p",
          "∆G_max": 15.311885739310288,
          "∆G_mean": 8.480895756976809,
          "∆G_min": -40.54902602826317
         },
         {
          "rxn": "R_EX_3pg",
          "∆G_max": 50.63856283215555,
          "∆G_mean": 34.20426948777983,
          "∆G_min": -16.409640708038886
         },
         {
          "rxn": "R_EX_oaa",
          "∆G_max": 17.10722426997188,
          "∆G_mean": 9.555881154979831,
          "∆G_min": -39.98822416517529
         },
         {
          "rxn": "R_EX_malL",
          "∆G_max": 18.048886839889533,
          "∆G_mean": 10.970713535229352,
          "∆G_min": -38.26544141190894
         },
         {
          "rxn": "R_EX_akg",
          "∆G_max": 15.682016965592048,
          "∆G_mean": 8.346559070534502,
          "∆G_min": -41.068981183267645
         },
         {
          "rxn": "R_EX_succ",
          "∆G_max": 13.396081170808905,
          "∆G_mean": 5.996779774675442,
          "∆G_min": -43.458665885731925
         },
         {
          "rxn": "R_EX_icit",
          "∆G_max": 21.363588538688695,
          "∆G_mean": 13.931990947472388,
          "∆G_min": -35.54301714201412
         },
         {
          "rxn": "R_EX_adp",
          "∆G_max": 17.915864474304946,
          "∆G_mean": 11.013743037006849,
          "∆G_min": -38.07946481840059
         },
         {
          "rxn": "R_EX_amp",
          "∆G_max": 15.635062137608964,
          "∆G_mean": 8.699987618613077,
          "∆G_min": -40.42140411893411
         }
        ],
        "data-d7255ad842f014c46f35befde053a015": [
         {
          "Threshold": "hazardous",
          "ThresholdValue": 0
         }
        ]
       },
       "hconcat": [
        {
         "data": {
          "name": "data-beb21937bf5d2057af5ebf4a396216d3"
         },
         "layer": [
          {
           "encoding": {
            "x": {
             "field": "∆G_min",
             "type": "quantitative"
            },
            "x2": {
             "field": "∆G_max"
            },
            "y": {
             "field": "rxn",
             "type": "nominal"
            }
           },
           "height": 1000,
           "mark": "rect",
           "width": 400
          },
          {
           "encoding": {
            "tooltip": [
             {
              "field": "rxn",
              "type": "nominal"
             },
             {
              "field": "∆G_min",
              "type": "quantitative"
             },
             {
              "field": "∆G_mean",
              "type": "quantitative"
             },
             {
              "field": "∆G_max",
              "type": "quantitative"
             }
            ],
            "x": {
             "field": "∆G_mean",
             "type": "quantitative"
            },
            "y": {
             "field": "rxn",
             "type": "nominal"
            }
           },
           "mark": {
            "color": "red",
            "filled": true,
            "size": 100,
            "type": "point"
           },
           "selection": {
            "selector005": {
             "bind": "scales",
             "encodings": [
              "x",
              "y"
             ],
             "type": "interval"
            }
           }
          },
          {
           "data": {
            "name": "data-d7255ad842f014c46f35befde053a015"
           },
           "encoding": {
            "x": {
             "field": "ThresholdValue",
             "type": "quantitative"
            }
           },
           "mark": "rule"
          }
         ]
        },
        {
         "data": {
          "name": "data-56c1fbfd3003e68f0c4fa9a729cfedef"
         },
         "layer": [
          {
           "encoding": {
            "x": {
             "field": "flux_min",
             "type": "quantitative"
            },
            "x2": {
             "field": "flux_max"
            },
            "y": {
             "field": "rxn",
             "type": "nominal"
            }
           },
           "height": 1000,
           "mark": "rect",
           "width": 400
          },
          {
           "encoding": {
            "tooltip": [
             {
              "field": "rxn",
              "type": "nominal"
             },
             {
              "field": "flux",
              "type": "quantitative"
             }
            ],
            "x": {
             "field": "flux",
             "type": "quantitative"
            },
            "y": {
             "field": "rxn",
             "type": "nominal"
            }
           },
           "mark": {
            "color": "red",
            "filled": true,
            "size": 100,
            "type": "point"
           },
           "selection": {
            "selector006": {
             "bind": "scales",
             "encodings": [
              "x",
              "y"
             ],
             "type": "interval"
            }
           }
          },
          {
           "data": {
            "name": "data-d7255ad842f014c46f35befde053a015"
           },
           "encoding": {
            "x": {
             "field": "ThresholdValue",
             "type": "quantitative"
            }
           },
           "mark": "rule"
          }
         ]
        }
       ]
      },
      "image/png": "[encoded data removed]",
      "text/plain": [
       "<VegaLite 3 object>\n",
       "\n",
       "If you see this message, it means the renderer has not been properly enabled\n",
       "for the frontend that you are using. For more information, see\n",
       "https://altair-viz.github.io/user_guide/troubleshooting.html\n"
      ]
     },
     "execution_count": 28,
     "metadata": {},
     "output_type": "execute_result"
    }
   ],
   "source": [
    "flag, flux_df, dG_df = check_thermodynamic_feasibility(data_dict) \n",
    "dG_df['rxn'] = dG_df.index\n",
    "\n",
    "\n",
    "flux_df['rxn'] = flux_df.index\n",
    "flux_df['flux_min'] = flux_df['vref_mean (mmol/L/h)'] - flux_df['vref_std (mmol/L/h)']\n",
    "flux_df['flux_max'] = flux_df['vref_mean (mmol/L/h)'] + flux_df['vref_std (mmol/L/h)']\n",
    "flux_df['flux'] = flux_df['vref_mean (mmol/L/h)']\n",
    "\n",
    "height=1000\n",
    "width=400\n",
    "plot_dG_and_flux(dG_df,  flux_df, height, width)"
   ]
  },
  {
   "cell_type": "markdown",
   "metadata": {},
   "source": [
    "### Fixing dGs because of infeasible TMFA"
   ]
  },
  {
   "cell_type": "markdown",
   "metadata": {},
   "source": [
    "### Fixing standard ∆G ranges\n",
    " - The flux and ∆G range seem to be incompatible for reaction R_PGI\n",
    "   - defined as m_f6p_c <-> m_g6p_c, g6p almost an order of magnitude higher than f6p\n",
    "   - lower bound, current - 5 kJ/mol\n",
    " - The flux and ∆G range seem to be incompatible for reaction R_FBA\n",
    "   - defined as m_g3p_c + m_dhap_c <-> m_fdp_c, and g3p concentration is almost zero\n",
    "   - lower bound, current - 25 kJ/mol\n",
    " - The flux and ∆G range seem to be incompatible for reaction R_TPI\n",
    "   - defined as g3p <-> dhap, and g3p concentration is almost zero\n",
    "   - lower bound, current - 25 kJ/mol\n",
    " - The flux and ∆G range seem to be incompatible for reaction R_ENO\n",
    "   - defined as m_2pg_c <-> m_pep_c + m_h2o_c, and 2pg concentration is almost zero\n",
    "   - lower bound, current - 30 kJ/mol"
   ]
  },
  {
   "cell_type": "markdown",
   "metadata": {},
   "source": [
    "### Fixing standard ∆G ranges (new ones)\n",
    "\n",
    " - The flux and ∆G range seem to be incompatible for reaction R_OAADC\n",
    "   - defined as m_pyr_c + m_co2_c <-> m_oaa_c, no obvious reason since there is less oaa then pyr, maybe it's the co2 messing it up. I've set the lower bound to -5\n",
    " - The flux and ∆G range seem to be incompatible for reaction R_MDH\n",
    "   - defined as m_nad_c + m_mal__L_c <-> m_oaa_c + m_nadh_c, no obvious reason since mass action ratio is favorable, set lower bound to -5 \n",
    " - The flux and ∆G range seem to be incompatible for reaction R_SUCOAS\n",
    "   - defined m_pi_c + m_adp_c + m_succoa_c <-> m_succ_c + m_atp_c + m_coa_c, changed the values to the ones in eQuilibrator website 17/10/2019 (Pi(aq) + ADP(aq) + Succinyl-CoA(aq) ⇌ Succinate(aq) + ATP(aq) + CoA(aq)) , but still off. succoa concentration is measured as zero, i.e., quite low. set lower bound to -30"
   ]
  },
  {
   "cell_type": "markdown",
   "metadata": {},
   "source": [
    "### Fixing standard ∆G ranges (newer ones)\n",
    "\n",
    " - The flux and ∆G range seem to be incompatible for reaction ICL\n",
    "   - defined as  m_icit_c <-> m_glx_c + m_succ_c, there is way more glx and succ than icit, set lower bound to original -5"
   ]
  },
  {
   "cell_type": "code",
   "execution_count": 18,
   "metadata": {},
   "outputs": [
    {
     "name": "stdout",
     "output_type": "stream",
     "text": [
      "\n",
      "Checking if fluxes and Gibbs energies are compatible.\n",
      "\n",
      "Everything seems to be OK.\n"
     ]
    },
    {
     "data": {
      "application/vnd.vegalite.v3+json": {
       "$schema": "https://vega.github.io/schema/vega-lite/v3.4.0.json",
       "config": {
        "mark": {
         "tooltip": null
        },
        "view": {
         "height": 300,
         "width": 400
        }
       },
       "datasets": {
        "data-9f0eaca28d83c792732569c43df1bc61": [
         {
          "flux": 481,
          "flux_max": 541,
          "flux_min": 421,
          "rxn": "R_GLCabcpp",
          "vref_mean (mmol/L/h)": 481,
          "vref_mean (mmol/L/h).1": 481,
          "vref_std (mmol/L/h)": 60,
          "vref_std (mmol/L/h).1": 60
         },
         {
          "flux": 481,
          "flux_max": 521,
          "flux_min": 441,
          "rxn": "R_GLK",
          "vref_mean (mmol/L/h)": 481,
          "vref_mean (mmol/L/h).1": 481,
          "vref_std (mmol/L/h)": 40,
          "vref_std (mmol/L/h).1": 40
         },
         {
          "flux": 3654,
          "flux_max": 3724,
          "flux_min": 3584,
          "rxn": "R_GLCNt2rpp",
          "vref_mean (mmol/L/h)": 3654,
          "vref_mean (mmol/L/h).1": 3654,
          "vref_std (mmol/L/h)": 70,
          "vref_std (mmol/L/h).1": 70
         },
         {
          "flux": 3654,
          "flux_max": 3724,
          "flux_min": 3584,
          "rxn": "R_GNK",
          "vref_mean (mmol/L/h)": 3654,
          "vref_mean (mmol/L/h).1": 3654,
          "vref_std (mmol/L/h)": 70,
          "vref_std (mmol/L/h).1": 70
         },
         {
          "flux": 549,
          "flux_max": 609,
          "flux_min": 489,
          "rxn": "R_2DHGLCNkt_tpp",
          "vref_mean (mmol/L/h)": 549,
          "vref_mean (mmol/L/h).1": 549,
          "vref_std (mmol/L/h)": 60,
          "vref_std (mmol/L/h).1": 60
         },
         {
          "flux": 549,
          "flux_max": 609,
          "flux_min": 489,
          "rxn": "R_2DHGLCK",
          "vref_mean (mmol/L/h)": 549,
          "vref_mean (mmol/L/h).1": 549,
          "vref_std (mmol/L/h)": 60,
          "vref_std (mmol/L/h).1": 60
         },
         {
          "flux": 56,
          "flux_max": 116,
          "flux_min": -4,
          "rxn": "R_PGLCNDH_NAD",
          "vref_mean (mmol/L/h)": 56,
          "vref_mean (mmol/L/h).1": 56,
          "vref_std (mmol/L/h)": 60,
          "vref_std (mmol/L/h).1": 60
         },
         {
          "flux": 493,
          "flux_max": 553,
          "flux_min": 433,
          "rxn": "R_PGLCNDH_NADP",
          "vref_mean (mmol/L/h)": 493,
          "vref_mean (mmol/L/h).1": 493,
          "vref_std (mmol/L/h)": 60,
          "vref_std (mmol/L/h).1": 60
         },
         {
          "flux": 4203,
          "flux_max": 4243,
          "flux_min": 4163,
          "rxn": "R_GLCDpp",
          "vref_mean (mmol/L/h)": 4203,
          "vref_mean (mmol/L/h).1": 4203,
          "vref_std (mmol/L/h)": 40,
          "vref_std (mmol/L/h).1": 40
         },
         {
          "flux": 549,
          "flux_max": 609,
          "flux_min": 489,
          "rxn": "R_GAD2ktpp",
          "vref_mean (mmol/L/h)": 549,
          "vref_mean (mmol/L/h).1": 549,
          "vref_std (mmol/L/h)": 60,
          "vref_std (mmol/L/h).1": 60
         },
         {
          "flux": 55,
          "flux_max": 125,
          "flux_min": -15,
          "rxn": "R_G6PDH2_NAD",
          "vref_mean (mmol/L/h)": 55,
          "vref_mean (mmol/L/h).1": 55,
          "vref_std (mmol/L/h)": 70,
          "vref_std (mmol/L/h).1": 70
         },
         {
          "flux": 838,
          "flux_max": 908,
          "flux_min": 768,
          "rxn": "R_G6PDH2_NADP",
          "vref_mean (mmol/L/h)": 838,
          "vref_mean (mmol/L/h).1": 837,
          "vref_std (mmol/L/h)": 70,
          "vref_std (mmol/L/h).1": 70
         },
         {
          "flux": 893,
          "flux_max": 963,
          "flux_min": 823,
          "rxn": "R_PGL",
          "vref_mean (mmol/L/h)": 893,
          "vref_mean (mmol/L/h).1": 893,
          "vref_std (mmol/L/h)": 70,
          "vref_std (mmol/L/h).1": 70
         },
         {
          "flux": 39,
          "flux_max": 69,
          "flux_min": 9,
          "rxn": "R_GND_NAD",
          "vref_mean (mmol/L/h)": 39,
          "vref_mean (mmol/L/h).1": 39,
          "vref_std (mmol/L/h)": 30,
          "vref_std (mmol/L/h).1": 30
         },
         {
          "flux": 411,
          "flux_max": 441,
          "flux_min": 381,
          "rxn": "R_GND_NADP",
          "vref_mean (mmol/L/h)": 411,
          "vref_mean (mmol/L/h).1": 411,
          "vref_std (mmol/L/h)": 30,
          "vref_std (mmol/L/h).1": 30
         },
         {
          "flux": 336,
          "flux_max": 926,
          "flux_min": -254,
          "rxn": "R_RPI",
          "vref_mean (mmol/L/h)": 336,
          "vref_mean (mmol/L/h).1": 336,
          "vref_std (mmol/L/h)": 590,
          "vref_std (mmol/L/h).1": 590
         },
         {
          "flux": 114,
          "flux_max": 704,
          "flux_min": -476,
          "rxn": "R_RPE",
          "vref_mean (mmol/L/h)": 114,
          "vref_mean (mmol/L/h).1": 114,
          "vref_std (mmol/L/h)": 590,
          "vref_std (mmol/L/h).1": 590
         },
         {
          "flux": 114,
          "flux_max": 124,
          "flux_min": 104,
          "rxn": "R_TKT1",
          "vref_mean (mmol/L/h)": 114,
          "vref_mean (mmol/L/h).1": 114,
          "vref_std (mmol/L/h)": 10,
          "vref_std (mmol/L/h).1": 10
         },
         {
          "flux": 8,
          "flux_max": 12,
          "flux_min": 4,
          "rxn": "R_TKT2",
          "vref_mean (mmol/L/h)": 8,
          "vref_mean (mmol/L/h).1": 8,
          "vref_std (mmol/L/h)": 4,
          "vref_std (mmol/L/h).1": 4
         },
         {
          "flux": 114,
          "flux_max": 124,
          "flux_min": 104,
          "rxn": "R_TALA",
          "vref_mean (mmol/L/h)": 114,
          "vref_mean (mmol/L/h).1": 114,
          "vref_std (mmol/L/h)": 10,
          "vref_std (mmol/L/h).1": 10
         },
         {
          "flux": 4661,
          "flux_max": 4701,
          "flux_min": 4621,
          "rxn": "R_EDD",
          "vref_mean (mmol/L/h)": 4661,
          "vref_mean (mmol/L/h).1": 4661,
          "vref_std (mmol/L/h)": 40,
          "vref_std (mmol/L/h).1": 40
         },
         {
          "flux": 4661,
          "flux_max": 4701,
          "flux_min": 4621,
          "rxn": "R_EDA",
          "vref_mean (mmol/L/h)": 4661,
          "vref_mean (mmol/L/h).1": 4661,
          "vref_std (mmol/L/h)": 40,
          "vref_std (mmol/L/h).1": 40
         },
         {
          "flux": 435,
          "flux_max": 475,
          "flux_min": 395,
          "rxn": "R_PGI",
          "vref_mean (mmol/L/h)": 435,
          "vref_mean (mmol/L/h).1": 435,
          "vref_std (mmol/L/h)": 40,
          "vref_std (mmol/L/h).1": 40
         },
         {
          "flux": 351,
          "flux_max": 381,
          "flux_min": 321,
          "rxn": "R_FBP",
          "vref_mean (mmol/L/h)": 351,
          "vref_mean (mmol/L/h).1": 351,
          "vref_std (mmol/L/h)": 30,
          "vref_std (mmol/L/h).1": 30
         },
         {
          "flux": 351,
          "flux_max": 381,
          "flux_min": 321,
          "rxn": "R_FBA",
          "vref_mean (mmol/L/h)": 351,
          "vref_mean (mmol/L/h).1": 351,
          "vref_std (mmol/L/h)": 30,
          "vref_std (mmol/L/h).1": 30
         },
         {
          "flux": 351,
          "flux_max": 381,
          "flux_min": 321,
          "rxn": "R_TPI",
          "vref_mean (mmol/L/h)": 351,
          "vref_mean (mmol/L/h).1": 351,
          "vref_std (mmol/L/h)": 30,
          "vref_std (mmol/L/h).1": 30
         },
         {
          "flux": 2604,
          "flux_max": 2630,
          "flux_min": 2578,
          "rxn": "R_GAPD_NAD",
          "vref_mean (mmol/L/h)": 2604,
          "vref_mean (mmol/L/h).1": 2604,
          "vref_std (mmol/L/h)": 26,
          "vref_std (mmol/L/h).1": 26
         },
         {
          "flux": 1294,
          "flux_max": 1306,
          "flux_min": 1282,
          "rxn": "R_GAPD_NADP",
          "vref_mean (mmol/L/h)": 1294,
          "vref_mean (mmol/L/h).1": 1294,
          "vref_std (mmol/L/h)": 12,
          "vref_std (mmol/L/h).1": 12
         },
         {
          "flux": 3898,
          "flux_max": 3938,
          "flux_min": 3858,
          "rxn": "R_PGK",
          "vref_mean (mmol/L/h)": 3898,
          "vref_mean (mmol/L/h).1": 3898,
          "vref_std (mmol/L/h)": 40,
          "vref_std (mmol/L/h).1": 40
         },
         {
          "flux": 3326,
          "flux_max": 3396,
          "flux_min": 3256,
          "rxn": "R_PGM",
          "vref_mean (mmol/L/h)": 3326,
          "vref_mean (mmol/L/h).1": 3326,
          "vref_std (mmol/L/h)": 70,
          "vref_std (mmol/L/h).1": 70
         },
         {
          "flux": 3326,
          "flux_max": 3396,
          "flux_min": 3256,
          "rxn": "R_ENO",
          "vref_mean (mmol/L/h)": 3326,
          "vref_mean (mmol/L/h).1": 3326,
          "vref_std (mmol/L/h)": 70,
          "vref_std (mmol/L/h).1": 70
         },
         {
          "flux": 2968,
          "flux_max": 3048,
          "flux_min": 2888,
          "rxn": "R_PYK",
          "vref_mean (mmol/L/h)": 2968,
          "vref_mean (mmol/L/h).1": 2968,
          "vref_std (mmol/L/h)": 80,
          "vref_std (mmol/L/h).1": 80
         },
         {
          "flux": 5088,
          "flux_max": 5268,
          "flux_min": 4908,
          "rxn": "R_PDH",
          "vref_mean (mmol/L/h)": 5088,
          "vref_mean (mmol/L/h).1": 5088,
          "vref_std (mmol/L/h)": 180,
          "vref_std (mmol/L/h).1": 180
         },
         {
          "flux": 3387,
          "flux_max": 3537,
          "flux_min": 3237,
          "rxn": "R_OAADC",
          "vref_mean (mmol/L/h)": 3387,
          "vref_mean (mmol/L/h).1": 3387,
          "vref_std (mmol/L/h)": 150,
          "vref_std (mmol/L/h).1": 150
         },
         {
          "flux": 114,
          "flux_max": 244,
          "flux_min": -16,
          "rxn": "R_PPC",
          "vref_mean (mmol/L/h)": 114,
          "vref_mean (mmol/L/h).1": 114,
          "vref_std (mmol/L/h)": 130,
          "vref_std (mmol/L/h).1": 130
         },
         {
          "flux": 1980,
          "flux_max": 1999,
          "flux_min": 1961,
          "rxn": "R_ME2_NADP",
          "vref_mean (mmol/L/h)": 1980,
          "vref_mean (mmol/L/h).1": 1980,
          "vref_std (mmol/L/h)": 19,
          "vref_std (mmol/L/h).1": 19
         },
         {
          "flux": 72,
          "flux_max": 79,
          "flux_min": 65,
          "rxn": "R_ME2_NAD",
          "vref_mean (mmol/L/h)": 72,
          "vref_mean (mmol/L/h).1": 72,
          "vref_std (mmol/L/h)": 7,
          "vref_std (mmol/L/h).1": 7
         },
         {
          "flux": 1495,
          "flux_max": 1510,
          "flux_min": 1480,
          "rxn": "R_MDH_NAD",
          "vref_mean (mmol/L/h)": 1495,
          "vref_mean (mmol/L/h).1": 1495,
          "vref_std (mmol/L/h)": 15,
          "vref_std (mmol/L/h).1": 15
         },
         {
          "flux": 38,
          "flux_max": 41,
          "flux_min": 35,
          "rxn": "R_MDH_NADP",
          "vref_mean (mmol/L/h)": 38,
          "vref_mean (mmol/L/h).1": 38,
          "vref_std (mmol/L/h)": 3,
          "vref_std (mmol/L/h).1": 3
         },
         {
          "flux": 3593,
          "flux_max": 3813,
          "flux_min": 3373,
          "rxn": "R_FUM",
          "vref_mean (mmol/L/h)": 3593,
          "vref_mean (mmol/L/h).1": 3593,
          "vref_std (mmol/L/h)": 220,
          "vref_std (mmol/L/h).1": 220
         },
         {
          "flux": 3593,
          "flux_max": 3813,
          "flux_min": 3373,
          "rxn": "R_SUCDi",
          "vref_mean (mmol/L/h)": 3593,
          "vref_mean (mmol/L/h).1": 3593,
          "vref_std (mmol/L/h)": 220,
          "vref_std (mmol/L/h).1": 220
         },
         {
          "flux": 3593,
          "flux_max": 3813,
          "flux_min": 3373,
          "rxn": "R_SUCOAS",
          "vref_mean (mmol/L/h)": 3593,
          "vref_mean (mmol/L/h).1": 3593,
          "vref_std (mmol/L/h)": 220,
          "vref_std (mmol/L/h).1": 220
         },
         {
          "flux": 3593,
          "flux_max": 3813,
          "flux_min": 3373,
          "rxn": "R_AKGDH",
          "vref_mean (mmol/L/h)": 3593,
          "vref_mean (mmol/L/h).1": 3593,
          "vref_std (mmol/L/h)": 220,
          "vref_std (mmol/L/h).1": 220
         },
         {
          "flux": 3689,
          "flux_max": 3725,
          "flux_min": 3653,
          "rxn": "R_ICDHyr_NADP",
          "vref_mean (mmol/L/h)": 3689,
          "vref_mean (mmol/L/h).1": 3689,
          "vref_std (mmol/L/h)": 36,
          "vref_std (mmol/L/h).1": 36
         },
         {
          "flux": 461,
          "flux_max": 465,
          "flux_min": 457,
          "rxn": "R_ICDHyr_NAD",
          "vref_mean (mmol/L/h)": 461,
          "vref_mean (mmol/L/h).1": 461,
          "vref_std (mmol/L/h)": 4,
          "vref_std (mmol/L/h).1": 4
         },
         {
          "flux": 4150,
          "flux_max": 4360,
          "flux_min": 3940,
          "rxn": "R_ACONTa",
          "vref_mean (mmol/L/h)": 4150,
          "vref_mean (mmol/L/h).1": 4150,
          "vref_std (mmol/L/h)": 210,
          "vref_std (mmol/L/h).1": 210
         },
         {
          "flux": 4150,
          "flux_max": 4360,
          "flux_min": 3940,
          "rxn": "R_ACONTb",
          "vref_mean (mmol/L/h)": 4150,
          "vref_mean (mmol/L/h).1": 4150,
          "vref_std (mmol/L/h)": 210,
          "vref_std (mmol/L/h).1": 210
         },
         {
          "flux": 3237,
          "flux_max": 3269,
          "flux_min": 3205,
          "rxn": "R_CS_large",
          "vref_mean (mmol/L/h)": 3237,
          "vref_mean (mmol/L/h).1": 3237,
          "vref_std (mmol/L/h)": 32,
          "vref_std (mmol/L/h).1": 32
         },
         {
          "flux": 913,
          "flux_max": 922,
          "flux_min": 904,
          "rxn": "R_CS_small",
          "vref_mean (mmol/L/h)": 913,
          "vref_mean (mmol/L/h).1": 913,
          "vref_std (mmol/L/h)": 9,
          "vref_std (mmol/L/h).1": 9
         },
         {
          "flux": 10,
          "flux_max": 11,
          "flux_min": 9,
          "rxn": "R_ICL",
          "vref_mean (mmol/L/h)": 10,
          "vref_mean (mmol/L/h).1": 10,
          "vref_std (mmol/L/h)": 1,
          "vref_std (mmol/L/h).1": 1
         },
         {
          "flux": 10,
          "flux_max": 11,
          "flux_min": 9,
          "rxn": "R_MALS",
          "vref_mean (mmol/L/h)": 10,
          "vref_mean (mmol/L/h).1": 10,
          "vref_std (mmol/L/h)": 1,
          "vref_std (mmol/L/h).1": 1
         },
         {
          "flux": 10,
          "flux_max": 11,
          "flux_min": 9,
          "rxn": "R_GTHPi",
          "vref_mean (mmol/L/h)": 10,
          "vref_mean (mmol/L/h).1": 10,
          "vref_std (mmol/L/h)": 1,
          "vref_std (mmol/L/h).1": 1
         },
         {
          "flux": 10,
          "flux_max": 11,
          "flux_min": 9,
          "rxn": "R_GTHOr",
          "vref_mean (mmol/L/h)": 10,
          "vref_mean (mmol/L/h).1": 10,
          "vref_std (mmol/L/h)": 1,
          "vref_std (mmol/L/h).1": 1
         },
         {
          "flux": 5000,
          "flux_max": 5050,
          "flux_min": 4950,
          "rxn": "R_OPNAD",
          "vref_mean (mmol/L/h)": 5000,
          "vref_mean (mmol/L/h).1": 5000,
          "vref_std (mmol/L/h)": 50,
          "vref_std (mmol/L/h).1": 50
         },
         {
          "flux": 5500,
          "flux_max": 5550,
          "flux_min": 5450,
          "rxn": "R_OPQ8",
          "vref_mean (mmol/L/h)": 5500,
          "vref_mean (mmol/L/h).1": 5500,
          "vref_std (mmol/L/h)": 50,
          "vref_std (mmol/L/h).1": 50
         },
         {
          "flux": 24981.5,
          "flux_max": 25181.5,
          "flux_min": 24781.5,
          "rxn": "R_AXPr",
          "vref_mean (mmol/L/h)": 24981.5,
          "vref_mean (mmol/L/h).1": 24981.5,
          "vref_std (mmol/L/h)": 200,
          "vref_std (mmol/L/h).1": 200
         },
         {
          "flux": 8351,
          "flux_max": 8551,
          "flux_min": 8151,
          "rxn": "R_NADHr",
          "vref_mean (mmol/L/h)": 8351,
          "vref_mean (mmol/L/h).1": 9509,
          "vref_std (mmol/L/h)": 200,
          "vref_std (mmol/L/h).1": 200
         },
         {
          "flux": 7747,
          "flux_max": 7947,
          "flux_min": 7547,
          "rxn": "R_NADPHr",
          "vref_mean (mmol/L/h)": 7747,
          "vref_mean (mmol/L/h).1": 6589,
          "vref_std (mmol/L/h)": 200,
          "vref_std (mmol/L/h).1": 200
         },
         {
          "flux": 928,
          "flux_max": 1128,
          "flux_min": 728,
          "rxn": "R_ACCOAr",
          "vref_mean (mmol/L/h)": 928,
          "vref_mean (mmol/L/h).1": 938,
          "vref_std (mmol/L/h)": 200,
          "vref_std (mmol/L/h).1": 200
         },
         {
          "flux": 2845,
          "flux_max": 2945,
          "flux_min": 2745,
          "rxn": "R_Q8H2r",
          "vref_mean (mmol/L/h)": 2845,
          "vref_mean (mmol/L/h).1": 2845,
          "vref_std (mmol/L/h)": 100,
          "vref_std (mmol/L/h).1": 100
         },
         {
          "flux": 4684,
          "flux_max": 5295,
          "flux_min": 4073,
          "rxn": "R_GLCtex",
          "vref_mean (mmol/L/h)": 4684,
          "vref_mean (mmol/L/h).1": 4684,
          "vref_std (mmol/L/h)": 611,
          "vref_std (mmol/L/h).1": 611
         },
         {
          "flux": 1206,
          "flux_max": 1406,
          "flux_min": 1006,
          "rxn": "R_EX_pyr",
          "vref_mean (mmol/L/h)": 1206,
          "vref_mean (mmol/L/h).1": 1206,
          "vref_std (mmol/L/h)": 200,
          "vref_std (mmol/L/h).1": 200
         },
         {
          "flux": 472,
          "flux_max": 534,
          "flux_min": 410,
          "rxn": "R_EX_pep",
          "vref_mean (mmol/L/h)": 472,
          "vref_mean (mmol/L/h).1": 472,
          "vref_std (mmol/L/h)": 62,
          "vref_std (mmol/L/h).1": 62
         },
         {
          "flux": 10,
          "flux_max": 11,
          "flux_min": 9,
          "rxn": "R_EX_h2o2",
          "vref_mean (mmol/L/h)": 10,
          "vref_mean (mmol/L/h).1": 10,
          "vref_std (mmol/L/h)": 1,
          "vref_std (mmol/L/h).1": 1
         },
         {
          "flux": 23,
          "flux_max": 26,
          "flux_min": 20,
          "rxn": "R_EX_g6p",
          "vref_mean (mmol/L/h)": 23,
          "vref_mean (mmol/L/h).1": 23,
          "vref_std (mmol/L/h)": 3,
          "vref_std (mmol/L/h).1": 3
         },
         {
          "flux": 15,
          "flux_max": 17,
          "flux_min": 13,
          "rxn": "R_EX_6pgc",
          "vref_mean (mmol/L/h)": 15,
          "vref_mean (mmol/L/h).1": 15,
          "vref_std (mmol/L/h)": 2,
          "vref_std (mmol/L/h).1": 2
         },
         {
          "flux": 222,
          "flux_max": 251,
          "flux_min": 193,
          "rxn": "R_EX_r5p",
          "vref_mean (mmol/L/h)": 222,
          "vref_mean (mmol/L/h).1": 222,
          "vref_std (mmol/L/h)": 29,
          "vref_std (mmol/L/h).1": 29
         },
         {
          "flux": 8,
          "flux_max": 9,
          "flux_min": 7,
          "rxn": "R_EX_xu5p__D",
          "vref_mean (mmol/L/h)": 8,
          "vref_mean (mmol/L/h).1": 8,
          "vref_std (mmol/L/h)": 1,
          "vref_std (mmol/L/h).1": 1
         },
         {
          "flux": 69,
          "flux_max": 78,
          "flux_min": 60,
          "rxn": "R_EX_g3p",
          "vref_mean (mmol/L/h)": 69,
          "vref_mean (mmol/L/h).1": 69,
          "vref_std (mmol/L/h)": 9,
          "vref_std (mmol/L/h).1": 9
         },
         {
          "flux": 106,
          "flux_max": 120,
          "flux_min": 92,
          "rxn": "R_EX_e4p",
          "vref_mean (mmol/L/h)": 106,
          "vref_mean (mmol/L/h).1": 106,
          "vref_std (mmol/L/h)": 14,
          "vref_std (mmol/L/h).1": 14
         },
         {
          "flux": 38,
          "flux_max": 43,
          "flux_min": 33,
          "rxn": "R_EX_f6p",
          "vref_mean (mmol/L/h)": 38,
          "vref_mean (mmol/L/h).1": 38,
          "vref_std (mmol/L/h)": 5,
          "vref_std (mmol/L/h).1": 5
         },
         {
          "flux": 572,
          "flux_max": 647,
          "flux_min": 497,
          "rxn": "R_EX_3pg",
          "vref_mean (mmol/L/h)": 572,
          "vref_mean (mmol/L/h).1": 572,
          "vref_std (mmol/L/h)": 75,
          "vref_std (mmol/L/h).1": 75
         },
         {
          "flux": 656,
          "flux_max": 736,
          "flux_min": 576,
          "rxn": "R_EX_oaa",
          "vref_mean (mmol/L/h)": 656,
          "vref_mean (mmol/L/h).1": 656,
          "vref_std (mmol/L/h)": 80,
          "vref_std (mmol/L/h).1": 80
         },
         {
          "flux": 18,
          "flux_max": 19,
          "flux_min": 17,
          "rxn": "R_EX_malL",
          "vref_mean (mmol/L/h)": 18,
          "vref_mean (mmol/L/h).1": 8,
          "vref_std (mmol/L/h)": 1,
          "vref_std (mmol/L/h).1": 1
         },
         {
          "flux": 557,
          "flux_max": 627,
          "flux_min": 487,
          "rxn": "R_EX_akg",
          "vref_mean (mmol/L/h)": 557,
          "vref_mean (mmol/L/h).1": 557,
          "vref_std (mmol/L/h)": 70,
          "vref_std (mmol/L/h).1": 70
         },
         {
          "flux": 10,
          "flux_max": 10,
          "flux_min": 10,
          "rxn": "R_EX_succ",
          "vref_mean (mmol/L/h)": 10,
          "vref_mean (mmol/L/h).1": 0,
          "vref_std (mmol/L/h)": 0,
          "vref_std (mmol/L/h).1": 0
         },
         {
          "flux": -10,
          "flux_max": -10,
          "flux_min": -10,
          "rxn": "R_EX_icit",
          "vref_mean (mmol/L/h)": -10,
          "vref_mean (mmol/L/h).1": 0,
          "vref_std (mmol/L/h)": 0,
          "vref_std (mmol/L/h).1": 0
         }
        ],
        "data-aff8aa2576a19c88df12a9dfe8d54c3a": [
         {
          "rxn": "R_GLCabcpp",
          "∆G_max": 9.376988375905626,
          "∆G_mean": -38.99584312289824,
          "∆G_min": -129.49017250799469
         },
         {
          "rxn": "R_GLK",
          "∆G_max": 18.074888857953027,
          "∆G_mean": -27.04051898910412,
          "∆G_min": -29.870504639808757
         },
         {
          "rxn": "R_GLCNt2rpp",
          "∆G_max": 50.63856283215555,
          "∆G_mean": 0,
          "∆G_min": -50.63856283215555
         },
         {
          "rxn": "R_GNK",
          "∆G_max": 19.92450943145836,
          "∆G_mean": -28.31875521456616,
          "∆G_min": -34.33164206857911
         },
         {
          "rxn": "R_2DHGLCNkt_tpp",
          "∆G_max": 50.63856283215555,
          "∆G_mean": 0,
          "∆G_min": -50.63856283215555
         },
         {
          "rxn": "R_2DHGLCK",
          "∆G_max": 32.89180872992506,
          "∆G_mean": -16.983700747220258,
          "∆G_min": -66.77678932181968
         },
         {
          "rxn": "R_PGLCNDH_NAD",
          "∆G_max": 27.06746072948347,
          "∆G_mean": -19.29022048851697,
          "∆G_min": -23.51360375905405
         },
         {
          "rxn": "R_PGLCNDH_NADP",
          "∆G_max": 23.806742410486358,
          "∆G_mean": -22.880467387766963,
          "∆G_min": -27.432288790705545
         },
         {
          "rxn": "R_GLCDpp",
          "∆G_max": -16.322874335688894,
          "∆G_mean": -116.1,
          "∆G_min": -215.8771256643111
         },
         {
          "rxn": "R_GAD2ktpp",
          "∆G_max": 30.977125664311103,
          "∆G_mean": -66.5,
          "∆G_min": -163.9771256643111
         },
         {
          "rxn": "R_G6PDH2_NAD",
          "∆G_max": -5.827533669716303,
          "∆G_mean": -9.168015736945065,
          "∆G_min": -54.697840155978135
         },
         {
          "rxn": "R_G6PDH2_NADP",
          "∆G_max": -1.9788486380648043,
          "∆G_mean": -5.587768837695068,
          "∆G_min": -51.38712183698102
         },
         {
          "rxn": "R_PGL",
          "∆G_max": 11.781263533688847,
          "∆G_mean": -34.1750544673459,
          "∆G_min": -37.98341557891497
         },
         {
          "rxn": "R_GND_NAD",
          "∆G_max": -0.07423799526746677,
          "∆G_mean": -5.824467039798712,
          "∆G_min": -53.72784913194082
         },
         {
          "rxn": "R_GND_NADP",
          "∆G_max": 3.8244470363840293,
          "∆G_mean": -2.2342201405487145,
          "∆G_min": -50.44713081294371
         },
         {
          "rxn": "R_RPI",
          "∆G_max": -5.65328925850397,
          "∆G_mean": -6.928020469818933,
          "∆G_min": -8.21670867806485
         },
         {
          "rxn": "R_RPE",
          "∆G_max": 10.945568048437906,
          "∆G_mean": 7.8225451526376935,
          "∆G_min": -37.48554143185347
         },
         {
          "rxn": "R_TKT1",
          "∆G_max": 17.03394321318806,
          "∆G_mean": -31.024827218211616,
          "∆G_min": -44.88577427394985
         },
         {
          "rxn": "R_TKT2",
          "∆G_max": 38.93866673630205,
          "∆G_mean": -52.665165244756636,
          "∆G_min": -67.89044857146584
         },
         {
          "rxn": "R_TALA",
          "∆G_max": 47.425094776999345,
          "∆G_mean": 34.244497083691435,
          "∆G_min": -13.106098874131423
         },
         {
          "rxn": "R_EDD",
          "∆G_max": -25.136584421085026,
          "∆G_mean": -29.874945532654102,
          "∆G_min": -76.76126353368885
         },
         {
          "rxn": "R_EDA",
          "∆G_max": 13.779762943270912,
          "∆G_mean": -34.34431832871896,
          "∆G_min": -48.366106807494866
         },
         {
          "rxn": "R_PGI",
          "∆G_max": 1.9249658673382468,
          "∆G_mean": -1.1259224849070582,
          "∆G_min": -4.1727413462522485
         },
         {
          "rxn": "R_FBP",
          "∆G_max": -9.676737821776653,
          "∆G_mean": -12.332044982137015,
          "∆G_min": -57.19077595115554
         },
         {
          "rxn": "R_FBA",
          "∆G_max": 27.43320271427196,
          "∆G_mean": 4.226654853496903,
          "∆G_min": -10.920955113448002
         },
         {
          "rxn": "R_TPI",
          "∆G_max": 29.405641087604494,
          "∆G_mean": 6.3330333472229725,
          "∆G_min": -8.755390378310043
         },
         {
          "rxn": "R_GAPD_NAD",
          "∆G_max": 94.82213419846963,
          "∆G_mean": 38.86157788462889,
          "∆G_min": -9.061017549814075
         },
         {
          "rxn": "R_GAPD_NADP",
          "∆G_max": 98.83081923012111,
          "∆G_mean": 42.45182478387889,
          "∆G_min": -5.890299230816959
         },
         {
          "rxn": "R_PGK",
          "∆G_max": -0.782132802296978,
          "∆G_mean": -47.470568740559585,
          "∆G_min": -60.06180872992506
         },
         {
          "rxn": "R_PGM",
          "∆G_max": 16.009640708038887,
          "∆G_mean": 4.2299999999999995,
          "∆G_min": -7.549640708038886
         },
         {
          "rxn": "R_ENO",
          "∆G_max": 33.27735520870413,
          "∆G_mean": 5.616167279994251,
          "∆G_min": -14.028408122232786
         },
         {
          "rxn": "R_PYK",
          "∆G_max": -22.119500674734947,
          "∆G_mean": -23.716103510255298,
          "∆G_min": -25.46476189563797
         },
         {
          "rxn": "R_PDH",
          "∆G_max": -32.29099545146022,
          "∆G_mean": -38.717796291193366,
          "∆G_min": -87.13109813546995
         },
         {
          "rxn": "R_OAADC",
          "∆G_max": 71.68576814051461,
          "∆G_mean": 13.889167685959297,
          "∆G_min": -1.8373465052039046
         },
         {
          "rxn": "R_PPC",
          "∆G_max": 89.004579478676,
          "∆G_mean": 19.97777894719425,
          "∆G_min": -48.84555441152474
         },
         {
          "rxn": "R_ME2_NADP",
          "∆G_max": 7.607882286912135,
          "∆G_mean": 1.4360776147112873,
          "∆G_min": -46.95846426404578
         },
         {
          "rxn": "R_ME2_NAD",
          "∆G_max": 3.6991972552606356,
          "∆G_mean": -2.154169284538712,
          "∆G_min": -50.2291825830429
         },
         {
          "rxn": "R_MDH_NAD",
          "∆G_max": 22.828736353048356,
          "∆G_mean": 3.7399984014205874,
          "∆G_min": -15.500300045519904
         },
         {
          "rxn": "R_MDH_NADP",
          "∆G_max": 26.85742138469985,
          "∆G_mean": 6.995245300670584,
          "∆G_min": -13.019581726522789
         },
         {
          "rxn": "R_FUM",
          "∆G_max": 1.0431436902226894,
          "∆G_mean": -0.13817114003937103,
          "∆G_min": -1.2528518094674954
         },
         {
          "rxn": "R_SUCDi",
          "∆G_max": 24.11860897254241,
          "∆G_mean": -29.775762620514538,
          "∆G_min": -83.63493099620123
         },
         {
          "rxn": "R_SUCOAS",
          "∆G_max": 84.13017661044911,
          "∆G_mean": 12.214566235480365,
          "∆G_min": -9.835167319959293
         },
         {
          "rxn": "R_AKGDH",
          "∆G_max": -47.211954602888014,
          "∆G_mean": -56.03592017122998,
          "∆G_min": -114.81846261411533
         },
         {
          "rxn": "R_ICDHyr_NADP",
          "∆G_max": 3.3880597475719236,
          "∆G_mean": -3.2812975783190392,
          "∆G_min": -52.10533333842313
         },
         {
          "rxn": "R_ICDHyr_NAD",
          "∆G_max": -0.5006252840795735,
          "∆G_mean": -6.871544477569037,
          "∆G_min": -55.39605165742025
         },
         {
          "rxn": "R_ACONTa",
          "∆G_max": 20.65504243793233,
          "∆G_mean": 17.37272103086547,
          "∆G_min": -28.05652339272679
         },
         {
          "rxn": "R_ACONTb",
          "∆G_max": 31.003017142014123,
          "∆G_mean": -14.631990947472387,
          "∆G_min": -18.223588538688695
         },
         {
          "rxn": "R_CS_large",
          "∆G_max": -30.673419651188578,
          "∆G_mean": -32.93597109826007,
          "∆G_min": -35.1707965180329
         },
         {
          "rxn": "R_CS_small",
          "∆G_max": -30.673419651188578,
          "∆G_mean": -32.93597109826007,
          "∆G_min": -35.1707965180329
         },
         {
          "rxn": "R_ICL",
          "∆G_max": 7.010779929318149,
          "∆G_mean": -28.48068404207054,
          "∆G_min": -64.17066613141692
         },
         {
          "rxn": "R_MALS",
          "∆G_max": -33.43641560524831,
          "∆G_mean": -37.33609191841429,
          "∆G_min": -41.196888278042884
         },
         {
          "rxn": "R_GTHPi",
          "∆G_max": -243.16752463803905,
          "∆G_mean": -291.62676752397334,
          "∆G_min": -297.9975062598533
         },
         {
          "rxn": "R_GTHOr",
          "∆G_max": -17.702194509329743,
          "∆G_mean": -20.24650302076975,
          "∆G_min": -22.687965387576508
         },
         {
          "rxn": "R_OPNAD",
          "∆G_max": -172.574534662007,
          "∆G_mean": -262.8792101657369,
          "∆G_min": -274.21973607467044
         },
         {
          "rxn": "R_OPQ8",
          "∆G_max": -50.7021690256461,
          "∆G_mean": -188.7640441445658,
          "∆G_min": -247.84811072668694
         },
         {
          "rxn": "R_AXPr",
          "∆G_max": -193.23157445624994,
          "∆G_mean": -196.45584312289827,
          "∆G_min": -241.80160967583913
         },
         {
          "rxn": "R_NADHr",
          "∆G_max": -52.94380280420537,
          "∆G_mean": -53.685166021171064,
          "∆G_min": -54.440188180139074
         },
         {
          "rxn": "R_NADPHr",
          "∆G_max": -56.18452112320249,
          "∆G_mean": -57.27541292042106,
          "∆G_min": -58.37887321179057
         },
         {
          "rxn": "R_ACCOAr",
          "∆G_max": 7.011395518268301,
          "∆G_mean": 1.3808687776255728,
          "∆G_min": -4.37609274708083
         },
         {
          "rxn": "R_Q8H2r",
          "∆G_max": 50.63856283215555,
          "∆G_mean": 0,
          "∆G_min": -50.63856283215555
         },
         {
          "rxn": "R_GLCtex",
          "∆G_max": 50.63856283215555,
          "∆G_mean": 0,
          "∆G_min": -50.63856283215555
         },
         {
          "rxn": "R_EX_pyr",
          "∆G_max": 15.442723621319878,
          "∆G_mean": 8.24790646526114,
          "∆G_min": -41.07350542140701
         },
         {
          "rxn": "R_EX_pep",
          "∆G_max": 13.85733024634945,
          "∆G_mean": 6.998102207785584,
          "∆G_min": -42.05735520870413
         },
         {
          "rxn": "R_EX_h2o2",
          "∆G_max": 50.63856283215555,
          "∆G_mean": 34.20426948777983,
          "∆G_min": -16.409640708038886
         },
         {
          "rxn": "R_EX_g6p",
          "∆G_max": 11.352278150144622,
          "∆G_mean": 4.586818241883867,
          "∆G_min": -44.381642960183505
         },
         {
          "rxn": "R_EX_6pgc",
          "∆G_max": 36.161263533688846,
          "∆G_mean": -13.1050544673459,
          "∆G_min": -20.223415578914974
         },
         {
          "rxn": "R_EX_r5p",
          "∆G_max": 23.219730078366922,
          "∆G_mean": 16.200565622456626,
          "∆G_min": -32.98970552521367
         },
         {
          "rxn": "R_EX_xu5p__D",
          "∆G_max": 50.63856283215555,
          "∆G_mean": 0,
          "∆G_min": -50.63856283215555
         },
         {
          "rxn": "R_EX_g3p",
          "∆G_max": 50.63856283215555,
          "∆G_mean": 34.20426948777983,
          "∆G_min": -16.409640708038886
         },
         {
          "rxn": "R_EX_e4p",
          "∆G_max": 50.63856283215555,
          "∆G_mean": 0,
          "∆G_min": -50.63856283215555
         },
         {
          "rxn": "R_EX_f6p",
          "∆G_max": 15.311885739310288,
          "∆G_mean": 8.480895756976809,
          "∆G_min": -40.54902602826317
         },
         {
          "rxn": "R_EX_3pg",
          "∆G_max": 50.63856283215555,
          "∆G_mean": 34.20426948777983,
          "∆G_min": -16.409640708038886
         },
         {
          "rxn": "R_EX_oaa",
          "∆G_max": 17.10722426997188,
          "∆G_mean": 9.555881154979831,
          "∆G_min": -39.98822416517529
         },
         {
          "rxn": "R_EX_malL",
          "∆G_max": 18.048886839889533,
          "∆G_mean": 10.970713535229352,
          "∆G_min": -38.26544141190894
         },
         {
          "rxn": "R_EX_akg",
          "∆G_max": 15.682016965592048,
          "∆G_mean": 8.346559070534502,
          "∆G_min": -41.068981183267645
         },
         {
          "rxn": "R_EX_succ",
          "∆G_max": 8.396081170808905,
          "∆G_mean": 5.996779774675442,
          "∆G_min": -38.458665885731925
         },
         {
          "rxn": "R_EX_icit",
          "∆G_max": 16.363588538688695,
          "∆G_mean": 13.931990947472388,
          "∆G_min": -30.543017142014122
         }
        ],
        "data-d7255ad842f014c46f35befde053a015": [
         {
          "Threshold": "hazardous",
          "ThresholdValue": 0
         }
        ]
       },
       "hconcat": [
        {
         "data": {
          "name": "data-aff8aa2576a19c88df12a9dfe8d54c3a"
         },
         "layer": [
          {
           "encoding": {
            "x": {
             "field": "∆G_min",
             "type": "quantitative"
            },
            "x2": {
             "field": "∆G_max"
            },
            "y": {
             "field": "rxn",
             "type": "nominal"
            }
           },
           "height": 1000,
           "mark": "rect",
           "width": 400
          },
          {
           "encoding": {
            "tooltip": [
             {
              "field": "rxn",
              "type": "nominal"
             },
             {
              "field": "∆G_min",
              "type": "quantitative"
             },
             {
              "field": "∆G_mean",
              "type": "quantitative"
             },
             {
              "field": "∆G_max",
              "type": "quantitative"
             }
            ],
            "x": {
             "field": "∆G_mean",
             "type": "quantitative"
            },
            "y": {
             "field": "rxn",
             "type": "nominal"
            }
           },
           "mark": {
            "color": "red",
            "filled": true,
            "size": 100,
            "type": "point"
           },
           "selection": {
            "selector005": {
             "bind": "scales",
             "encodings": [
              "x",
              "y"
             ],
             "type": "interval"
            }
           }
          },
          {
           "data": {
            "name": "data-d7255ad842f014c46f35befde053a015"
           },
           "encoding": {
            "x": {
             "field": "ThresholdValue",
             "type": "quantitative"
            }
           },
           "mark": "rule"
          }
         ]
        },
        {
         "data": {
          "name": "data-9f0eaca28d83c792732569c43df1bc61"
         },
         "layer": [
          {
           "encoding": {
            "x": {
             "field": "flux_min",
             "type": "quantitative"
            },
            "x2": {
             "field": "flux_max"
            },
            "y": {
             "field": "rxn",
             "type": "nominal"
            }
           },
           "height": 1000,
           "mark": "rect",
           "width": 400
          },
          {
           "encoding": {
            "tooltip": [
             {
              "field": "rxn",
              "type": "nominal"
             },
             {
              "field": "flux",
              "type": "quantitative"
             }
            ],
            "x": {
             "field": "flux",
             "type": "quantitative"
            },
            "y": {
             "field": "rxn",
             "type": "nominal"
            }
           },
           "mark": {
            "color": "red",
            "filled": true,
            "size": 100,
            "type": "point"
           },
           "selection": {
            "selector006": {
             "bind": "scales",
             "encodings": [
              "x",
              "y"
             ],
             "type": "interval"
            }
           }
          },
          {
           "data": {
            "name": "data-d7255ad842f014c46f35befde053a015"
           },
           "encoding": {
            "x": {
             "field": "ThresholdValue",
             "type": "quantitative"
            }
           },
           "mark": "rule"
          }
         ]
        }
       ]
      },
      "image/png": "[encoded data removed]",
      "text/plain": [
       "<VegaLite 3 object>\n",
       "\n",
       "If you see this message, it means the renderer has not been properly enabled\n",
       "for the frontend that you are using. For more information, see\n",
       "https://altair-viz.github.io/user_guide/troubleshooting.html\n"
      ]
     },
     "execution_count": 18,
     "metadata": {},
     "output_type": "execute_result"
    }
   ],
   "source": [
    "file_in = os.path.join(models_dir,f'{model_name}.xlsx')\n",
    "data_dict = pd.read_excel(file_in, sheet_name=None, index_col=0)\n",
    "flag, flux_df, dG_df = check_thermodynamic_feasibility(data_dict) \n",
    "dG_df['rxn'] = dG_df.index\n",
    "\n",
    "\n",
    "flux_df['rxn'] = flux_df.index\n",
    "flux_df['flux_min'] = flux_df['vref_mean (mmol/L/h)'] - flux_df['vref_std (mmol/L/h)']\n",
    "flux_df['flux_max'] = flux_df['vref_mean (mmol/L/h)'] + flux_df['vref_std (mmol/L/h)']\n",
    "flux_df['flux'] = flux_df['vref_mean (mmol/L/h)']\n",
    "\n",
    "height=1000\n",
    "width=400\n",
    "plot_dG_and_flux(dG_df,  flux_df, height, width)"
   ]
  },
  {
   "cell_type": "markdown",
   "metadata": {},
   "source": [
    "#### Adding OP and glutathione reactions"
   ]
  },
  {
   "cell_type": "code",
   "execution_count": null,
   "metadata": {},
   "outputs": [],
   "source": []
  },
  {
   "cell_type": "markdown",
   "metadata": {},
   "source": [
    "# Create model from putida_TCA_OP_reg_no_gth"
   ]
  },
  {
   "cell_type": "code",
   "execution_count": 21,
   "metadata": {},
   "outputs": [
    {
     "name": "stdin",
     "output_type": "stream",
     "text": [
      "No KEGG id was found for q8h2. If you know it, please insert it below,otherwise all reaction involving q8h2 will be ignored.\n",
      " \n"
     ]
    },
    {
     "name": "stdout",
     "output_type": "stream",
     "text": [
      "R_OPNAD is not balanced.\n",
      "R_AXPr is not balanced.\n",
      "R_NADHr is not balanced.\n",
      "R_NADPHr is not balanced.\n",
      "R_ACCOAr is not balanced.\n"
     ]
    }
   ],
   "source": [
    "model_name = 'putida_TCA_OP_reg_no_gth'\n",
    "models_dir = '../../models'\n",
    "data_dir = '../../data/omics'\n",
    "\n",
    "file_in_stoic = os.path.join(models_dir, 'putida_TCA_OP_reg_no_gth.txt')\n",
    "file_in_metabolomics = os.path.join(data_dir, 'P. putida wt Glucose.xlsx')\n",
    "base_excel_file = os.path.join(models_dir, 'putida_TCA_OP_reg.xlsx')\n",
    "\n",
    "file_out = os.path.join(models_dir, f'{model_name}.xlsx')\n",
    "\n",
    "set_up_model(model_name, file_in_stoic, base_excel_file, file_out, use_equilibrator=True, file_in_mets_conc=file_in_metabolomics)"
   ]
  },
  {
   "cell_type": "code",
   "execution_count": 23,
   "metadata": {},
   "outputs": [
    {
     "name": "stdout",
     "output_type": "stream",
     "text": [
      "\n",
      "Checking if values are separated by a space in the kinetics sheet in columns order, promiscuous, inhibitors, activators, negative effector, and positive effector.\n",
      "It looks for dots, commas, and semi-colons.\n",
      "\n",
      "Everything seems to be OK.\n",
      "\n",
      "\n",
      "Checking if the order of reactions and metabolites is the same in all excel sheets.\n",
      "\n",
      "Everything seems to be OK.\n",
      "\n",
      "\n",
      "Checking if metabolites are both consumed and produced in the stoichiometric matrix, and if so checks if they are marked as balanced in the mets sheet. However, the metabolite might be balanced/not balanced anyways depending on the flux of the reactions that consume/produce it, so take this with a grain of salt.\n",
      "\n",
      "m_h2o_c is marked as not balanced but it seems to be balanced.\n",
      "m_pi_c is marked as not balanced but it seems to be balanced.\n",
      "m_co2_c is marked as not balanced but it seems to be balanced.\n",
      "\n",
      "Checking if fluxes and Gibbs energies are compatible.\n",
      "\n",
      "Everything seems to be OK.\n",
      "\n",
      "Checking if the fluxes for each metabolite production/consumptions add up to zero.\n",
      "\n",
      "Everything seems to be OK.\n",
      "\n",
      "Checking if the metabolite names in the substrate and product order columns in the kinetics sheet are valid, i.e., if they are indeed substrates and products of the respective reaction.\n",
      "\n",
      "The following metabolites in the substrate order column for reaction R_PGLCNDH_NAD are not part of the reaction substrates:\n",
      "{'m_nadph_c'}\n",
      "\n",
      "The following metabolites in the product order column for reaction R_PGLCNDH_NAD are not part of the reaction products:\n",
      "{'m_nadp_c'}\n",
      "\n",
      "The following metabolites in the substrate order column for reaction R_PGLCNDH_NADP are not part of the reaction substrates:\n",
      "{'m_nadh_c'}\n",
      "\n",
      "The following metabolites in the product order column for reaction R_PGLCNDH_NADP are not part of the reaction products:\n",
      "{'m_nad_c'}\n",
      "\n",
      "The following metabolites in the substrate order column for reaction R_G6PDH2_NAD are not part of the reaction substrates:\n",
      "{'m_nadp_c'}\n",
      "\n",
      "The following metabolites in the product order column for reaction R_G6PDH2_NAD are not part of the reaction products:\n",
      "{'m_nadph_c'}\n",
      "\n",
      "The following metabolites in the substrate order column for reaction R_G6PDH2_NADP are not part of the reaction substrates:\n",
      "{'m_nad_c'}\n",
      "\n",
      "The following metabolites in the product order column for reaction R_G6PDH2_NADP are not part of the reaction products:\n",
      "{'m_nadh_c'}\n",
      "\n",
      "The following metabolites in the substrate order column for reaction R_GND_NAD are not part of the reaction substrates:\n",
      "{'m_nadp_c'}\n",
      "\n",
      "The following metabolites in the product order column for reaction R_GND_NAD are not part of the reaction products:\n",
      "{'m_nadph_c'}\n",
      "\n",
      "The following metabolites in the substrate order column for reaction R_GND_NADP are not part of the reaction substrates:\n",
      "{'m_nad_c'}\n",
      "\n",
      "The following metabolites in the product order column for reaction R_GND_NADP are not part of the reaction products:\n",
      "{'m_nadh_c'}\n",
      "\n",
      "The following metabolites in the substrate order column for reaction R_GAPD_NAD are not part of the reaction substrates:\n",
      "{'m_nadp_c'}\n",
      "\n",
      "The following metabolites in the product order column for reaction R_GAPD_NAD are not part of the reaction products:\n",
      "{'m_nadph_c'}\n",
      "\n",
      "The following metabolites in the substrate order column for reaction R_GAPD_NADP are not part of the reaction substrates:\n",
      "{'m_nad_c'}\n",
      "\n",
      "The following metabolites in the product order column for reaction R_GAPD_NADP are not part of the reaction products:\n",
      "{'m_nadh_c'}\n",
      "\n",
      "The following metabolites in the substrate order column for reaction R_ME2_NADP are not part of the reaction substrates:\n",
      "{'m_nad_c'}\n",
      "\n",
      "The following metabolites in the product order column for reaction R_ME2_NADP are not part of the reaction products:\n",
      "{'m_nadh_c'}\n",
      "\n",
      "The following metabolites in the substrate order column for reaction R_ME2_NAD are not part of the reaction substrates:\n",
      "{'m_nadp_c'}\n",
      "\n",
      "The following metabolites in the product order column for reaction R_ME2_NAD are not part of the reaction products:\n",
      "{'m_nadph_c'}\n",
      "\n",
      "The following metabolites in the substrate order column for reaction R_MDH_NAD are not part of the reaction substrates:\n",
      "{'m_nadp_c'}\n",
      "\n",
      "The following metabolites in the product order column for reaction R_MDH_NAD are not part of the reaction products:\n",
      "{'m_nadph_c'}\n",
      "\n",
      "The following metabolites in the substrate order column for reaction R_MDH_NADP are not part of the reaction substrates:\n",
      "{'m_nad_c'}\n",
      "\n",
      "The following metabolites in the product order column for reaction R_MDH_NADP are not part of the reaction products:\n",
      "{'m_nadh_c'}\n",
      "\n",
      "The following metabolites in the substrate order column for reaction R_ICDHyr_NADP are not part of the reaction substrates:\n",
      "{'m_nad_c'}\n",
      "\n",
      "The following metabolites in the product order column for reaction R_ICDHyr_NADP are not part of the reaction products:\n",
      "{'m_nadh_c'}\n",
      "\n",
      "The following metabolites in the substrate order column for reaction R_ICDHyr_NAD are not part of the reaction substrates:\n",
      "{'m_nadp_c'}\n",
      "\n",
      "The following metabolites in the product order column for reaction R_ICDHyr_NAD are not part of the reaction products:\n",
      "{'m_nadph_c'}\n",
      "\n",
      "\n",
      "Checking if non enzymatic mechanisms come only after enzymatic ones and if fixedExchange is the very last one.\n",
      "\n",
      "Everything seems to be OK.\n",
      "\n"
     ]
    }
   ],
   "source": [
    "model_name = 'putida_TCA_OP_reg_no_gth'\n",
    "models_dir = '../../models'\n",
    "\n",
    "file_in = os.path.join(models_dir,f'{model_name}.xlsx')\n",
    "data_dict = pd.read_excel(file_in, sheet_name=None, index_col=0)\n",
    "full_model_check(data_dict)"
   ]
  },
  {
   "cell_type": "code",
   "execution_count": null,
   "metadata": {},
   "outputs": [],
   "source": []
  }
 ],
 "metadata": {
  "kernelspec": {
   "display_name": "Python 3",
   "language": "python",
   "name": "python3"
  },
  "language_info": {
   "codemirror_mode": {
    "name": "ipython",
    "version": 3
   },
   "file_extension": ".py",
   "mimetype": "text/x-python",
   "name": "python",
   "nbconvert_exporter": "python",
   "pygments_lexer": "ipython3",
   "version": "3.8.5"
  }
 },
 "nbformat": 4,
 "nbformat_minor": 4
}
