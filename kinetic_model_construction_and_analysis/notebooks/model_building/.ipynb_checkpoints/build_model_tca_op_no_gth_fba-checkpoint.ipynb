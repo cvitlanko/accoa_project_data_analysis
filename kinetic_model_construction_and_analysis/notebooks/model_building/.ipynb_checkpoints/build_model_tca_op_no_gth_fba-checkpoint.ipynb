{
 "cells": [
  {
   "cell_type": "code",
   "execution_count": 2,
   "metadata": {},
   "outputs": [],
   "source": [
    "%load_ext autoreload\n",
    "%autoreload 2"
   ]
  },
  {
   "cell_type": "code",
   "execution_count": 3,
   "metadata": {},
   "outputs": [
    {
     "name": "stdout",
     "output_type": "stream",
     "text": [
      "Downloading package metadata...\n",
      "Fragments already downloaded\n",
      "Downloading package metadata...\n",
      "Fragments already downloaded\n"
     ]
    }
   ],
   "source": [
    "from set_up_grasp_models.set_up_models.convert_mechanisms import generate_mechanisms\n",
    "from set_up_grasp_models.set_up_models.set_up_model import set_up_model\n",
    "from set_up_grasp_models.check_models.mass_balance_checks import check_flux_balance\n",
    "\n",
    "from set_up_grasp_models.check_models.format_checks import check_met_rxn_order, check_kinetics_met_separators, \\\n",
    "    check_kinetics_subs_prod_order, check_rxn_mechanism_order\n",
    "from set_up_grasp_models.check_models.thermodynamics_checks import check_thermodynamic_feasibility\n",
    "from set_up_grasp_models.check_models.mass_balance_checks import check_flux_balance, check_balanced_metabolites\n",
    "from set_up_grasp_models.set_up_models.manipulate_model import reorder_reactions\n",
    "\n",
    "from src.visualization.viz_thermodynamics import plot_dG_and_flux\n",
    "import pandas as pd\n",
    "import os"
   ]
  },
  {
   "cell_type": "markdown",
   "metadata": {},
   "source": [
    "# Create model from putida_TCA_OP_reg_no_gth_fba\n"
   ]
  },
  {
   "cell_type": "markdown",
   "metadata": {},
   "source": [
    " - Originally the base model was putida_TCA_OP_reg_no_gth\n",
    " - Added accoa reactions: ACCOAC, KAS15, MCOAT\n",
    " - Added oxidative phosphorylation reactions properly: CYTBO3_4pp, NADH16pp, ATPS4rpp\n",
    " - ThermoMets and thermoRxns ranges now calculated as mean +- 2\\*std (instead of 1\\* std)"
   ]
  },
  {
   "cell_type": "code",
   "execution_count": 5,
   "metadata": {
    "collapsed": true,
    "jupyter": {
     "outputs_hidden": true
    }
   },
   "outputs": [
    {
     "name": "stdin",
     "output_type": "stream",
     "text": [
      "No KEGG id was found for q8h2. If you know it, please insert it below,otherwise all reaction involving q8h2 will be ignored.\n",
      " \n"
     ]
    },
    {
     "name": "stdout",
     "output_type": "stream",
     "text": [
      "R_GLCabcpp: C00031 + C00002 + C00001 = C00031 + C00008 + C00009\n",
      "R_GLK: C00031 + C00002 = C00008 + C00092\n",
      "R_GLCNt2rpp: C00257 = C00257\n",
      "R_GNK: C00002 + C00257 = C00008 + C00345\n",
      "R_2DHGLCNkt_tpp: C06473 = C06473\n",
      "R_2DHGLCK: C00002 + C06473 = C00008 + C01218\n",
      "R_PGLCNDH_NAD: C01218 + C00004 = C00345 + C00003\n",
      "R_PGLCNDH_NADP: C01218 + C00005 = C00345 + C00006\n",
      "R_G6PDH2_NAD: C00092 + C00003 = C01236 + C00004\n",
      "R_G6PDH2_NADP: C00092 + C00006 = C01236 + C00005\n",
      "R_PGL: C01236 + C00001 = C00345\n",
      "R_GND_NAD: C00003 + C00345 = C00004 + C00011 + C00199\n",
      "R_GND_NADP: C00006 + C00345 = C00005 + C00011 + C00199\n",
      "R_RPI: C00199 = C00117\n",
      "R_RPE: C00199 = C00231\n",
      "R_TKT1: C00117 + C00231 = C00118 + C05382\n",
      "R_TALA: C00118 + C05382 = C00279 + C00085\n",
      "R_EDD: C00345 = C04442 + C00001\n",
      "R_EDA: C04442 = C00118 + C00022\n",
      "R_PGI: C00085 = C00092\n",
      "R_FBP: C00354 + C00001 = C00009 + C00085\n",
      "R_FBA: C00118 + C00111 = C00354\n",
      "R_TPI: C00118 = C00111\n",
      "R_GAPD_NAD: C00009 + C00003 + C00118 = C00004 + C00236\n",
      "R_GAPD_NADP: C00009 + C00006 + C00118 = C00005 + C00236\n",
      "R_PGK: C00008 + C00236 = C00002 + C00197\n",
      "R_PGM: C00197 = C00631\n",
      "R_ENO: C00631 = C00074 + C00001\n",
      "R_PYK: C00008 + C00074 = C00002 + C00022\n",
      "R_PDH: C00022 + C00010 + C00003 = C00011 + C00004 + C00024\n",
      "R_OAADC: C00022 + C00011 = C00036\n",
      "R_PPC: C00009 + C00036 = C00074 + C00011 + C00001\n",
      "R_ME2_NADP: C00006 + C00149 = C00022 + C00005 + C00011\n",
      "R_ME2_NAD: C00003 + C00149 = C00022 + C00004 + C00011\n",
      "R_MDH_NAD: C00003 + C00149 = C00036 + C00004\n",
      "R_MDH_NADP: C00006 + C00149 = C00036 + C00005\n",
      "R_FUM: C00122 + C00001 = C00149\n",
      "R_SUCOAS: C00009 + C00008 + C00091 = C00042 + C00002 + C00010\n",
      "R_AKGDH: C00003 + C00010 + C00026 = C00091 + C00004 + C00011\n",
      "R_ICDHyr_NADP: C00006 + C00311 = C00026 + C00011 + C00005\n",
      "R_ICDHyr_NAD: C00003 + C00311 = C00026 + C00011 + C00004\n",
      "R_ACONTa: C00158 = C00417 + C00001\n",
      "R_ACONTb: C00417 + C00001 = C00311\n"
     ]
    },
    {
     "name": "stderr",
     "output_type": "stream",
     "text": [
      "WARNING:root:cannot generate the reaction atom bag because compounds have unspecific formulas: Compound(id=23, inchi_key=ZSLZBFCDCINBPY-ZSJPKINUSA-J) + Compound(id=174, inchi_key=None) = Compound(id=15, inchi_key=RGJOEKWQDUBAIZ-IBOSZNHHSA-J) + Compound(id=16, inchi_key=CURLTUGMZLYLDI-UHFFFAOYSA-N) + Compound(id=1130, inchi_key=None)\n",
      "WARNING:root:cannot generate the reaction atom bag because compounds have unspecific formulas: Compound(id=42, inchi_key=LTYOQGRJFJAKNA-DVVLENMVSA-I) + Compound(id=858, inchi_key=None) = Compound(id=15, inchi_key=RGJOEKWQDUBAIZ-IBOSZNHHSA-J) + Compound(id=174, inchi_key=None)\n"
     ]
    },
    {
     "name": "stdout",
     "output_type": "stream",
     "text": [
      "R_CS_large: C00001 + C00024 + C00036 = C00158 + C00010\n",
      "R_CS_small: C00001 + C00024 + C00036 = C00158 + C00010\n",
      "R_ACCOAC: C00024 + C00002 + C00288 = C00008 + C00083 + C00009\n",
      "R_KAS15: C00024 + C01209 = C05744 + C00011 + C00010\n",
      "R_KAS15 is not balanced.\n",
      "Couldn't find a dG value for R_KAS15\n",
      "R_MCOATA: C00229 + C00083 = C00010 + C01209\n",
      "R_MCOATA is not balanced.\n",
      "Couldn't find a dG value for R_MCOATA\n",
      "R_ATPS4rpp: C00008 + 4.0 C00080 + C00009 = C00002 + C00001 + 3.0 C00080\n",
      "R_AXPr: C00002 = C00008 + C00009\n",
      "R_AXPr is not balanced.\n",
      "R_NADHr: C00004 = C00003\n",
      "R_NADHr is not balanced.\n",
      "R_NADPHr: C00005 = C00006\n",
      "R_NADPHr is not balanced.\n",
      "R_ACCOAr: C00024 = C00010\n",
      "R_ACCOAr is not balanced.\n",
      "R_GLCtex: C00031 = C00031\n",
      "                 average  stdev     min     max\n",
      "R_GLCabcpp        -26.39   0.31  -27.01  -25.77\n",
      "R_GLK             -17.27   0.44  -18.15  -16.39\n",
      "R_GLCNt2rpp         0.00   0.00    0.00    0.00\n",
      "R_GNK             -10.03   3.27  -16.57   -3.49\n",
      "R_2DHGLCNkt_tpp     0.00   0.00    0.00    0.00\n",
      "R_2DHGLCK         -11.80   3.53  -18.86   -4.74\n",
      "R_PGLCNDH_NAD     -16.77   1.91  -20.59  -12.95\n",
      "R_PGLCNDH_NADP    -17.58   1.94  -21.46  -13.70\n",
      "R_G6PDH2_NAD       -3.17   1.38   -5.93   -0.41\n",
      "R_G6PDH2_NADP      -2.37   1.35   -5.07    0.33\n",
      "R_PGL             -21.07   1.69  -24.45  -17.69\n",
      "R_GND_NAD          10.27   3.23    3.81   16.73\n",
      "R_GND_NADP         11.08   3.24    4.60   17.56\n",
      "R_RPI              -1.92   0.78   -3.48   -0.36\n",
      "R_RPE              -3.37   1.18   -5.73   -1.01\n",
      "R_TKT1             -3.89   1.96   -7.81    0.03\n",
      "R_TALA             -0.61   1.44   -3.49    2.27\n",
      "R_EDD             -42.98   2.62  -48.22  -37.74\n",
      "R_EDA              15.53   2.11   11.31   19.75\n",
      "R_PGI              -2.52   0.39   -3.30   -1.74\n",
      "R_FBP             -11.44   0.71  -12.86  -10.02\n",
      "R_FBA             -19.80   0.54  -20.88  -18.72\n",
      "R_TPI              -5.46   0.56   -6.58   -4.34\n",
      "R_GAPD_NAD          7.82   0.41    7.00    8.64\n",
      "R_GAPD_NADP         8.63   0.53    7.57    9.69\n",
      "R_PGK             -18.45   0.45  -19.35  -17.55\n",
      "R_PGM               4.23   0.37    3.49    4.97\n",
      "R_ENO              -4.09   0.31   -4.71   -3.47\n",
      "R_PYK             -27.65   0.43  -28.51  -26.79\n",
      "R_PDH             -35.00   3.28  -41.56  -28.44\n",
      "R_OAADC            17.37   3.18   11.01   23.73\n",
      "R_PPC              36.67   3.17   30.33   43.01\n",
      "R_ME2_NADP         13.94   3.20    7.54   20.34\n",
      "R_ME2_NAD          13.13   3.18    6.77   19.49\n",
      "R_MDH_NAD          30.51   0.31   29.89   31.13\n",
      "R_MDH_NADP         31.32   0.45   30.42   32.22\n",
      "R_FUM              -3.44   0.28   -4.00   -2.88\n",
      "R_SUCOAS            1.86   1.36   -0.86    4.58\n",
      "R_AKGDH           -27.38   3.96  -35.30  -19.46\n",
      "R_ICDHyr_NADP       6.36   3.25   -0.14   12.86\n",
      "R_ICDHyr_NAD        5.55   3.25   -0.95   12.05\n",
      "R_ACONTa            8.33   1.16    6.01   10.65\n",
      "R_ACONTb           -0.70   1.16   -3.02    1.62\n",
      "R_CS_large        -34.83   0.45  -35.73  -33.93\n",
      "R_CS_small        -34.83   0.45  -35.73  -33.93\n",
      "R_ACCOAC           -3.02   1.51   -6.04    0.00\n",
      "R_KAS15             0.00   0.00    0.00    0.00\n",
      "R_MCOATA            0.00   0.00    0.00    0.00\n",
      "R_ATPS4rpp         26.39   0.31   25.77   27.01\n",
      "R_AXPr           -183.85   0.80 -185.45 -182.25\n",
      "R_NADHr           -64.27   0.56  -65.39  -63.15\n",
      "R_NADPHr          -65.08   0.61  -66.30  -63.86\n",
      "R_ACCOAr           59.12   1.00   57.12   61.12\n",
      "R_GLCtex            0.00   0.00    0.00    0.00\n"
     ]
    }
   ],
   "source": [
    "model_name = 'putida_TCA_OP_reg_no_gth_fba'\n",
    "models_dir = '../../models'\n",
    "data_dir = '../../data/omics'\n",
    "\n",
    "file_in_stoic = os.path.join(models_dir, 'putida_TCA_OP_reg_no_gth_fba.txt')\n",
    "file_in_metabolomics = os.path.join(data_dir, 'P. putida wt Glucose.xlsx')\n",
    "file_in_meas_fluxes = os.path.join(data_dir, 'fba_flux.xlsx')\n",
    "base_excel_file = os.path.join(models_dir, 'putida_TCA_OP_reg_no_gth_no_omics.xlsx')\n",
    "\n",
    "file_out = os.path.join(models_dir, f'{model_name}.xlsx')\n",
    "\n",
    "set_up_model(model_name, file_in_stoic, base_excel_file, file_out, \n",
    "             use_equilibrator=True, file_in_mets_conc=file_in_metabolomics, mets_orient='columns',\n",
    "             file_in_meas_fluxes=file_in_meas_fluxes, fluxes_orient='rows')"
   ]
  },
  {
   "cell_type": "markdown",
   "metadata": {},
   "source": [
    "### Manual changes\n",
    "\n",
    " - **mets**\n",
    "   - added info for new metabolites\n",
    "\n",
    " - **rxns**\n",
    "   - added info for new reactions\n",
    "   \n",
    " - **thermoMets**\n",
    "    - set succoa, g3p, 3pg, succoas, malcoa, and 2pg concentration ranges from 0 to [10^-9, 10^-7] mol/L\n",
    "    - set water to [1, 1] mol/L\n",
    " \n",
    " - **thermoRxns**\n",
    "   - set exchange reaction bounds to [-5, 5] kJ/mol\n",
    "   - GLCDpp: equilibrator:  D-Glucose + Ubiquinone + H2O <=> D-Gluconate + Ubiquinol\n",
    "   - GAD2ktpp: equilibrator: D-Gluconate + Ubiquinone <=> 2-Keto-D-gluconic acid + Ubiquinol\n",
    "   - SUCDi: from equilibrator: Succinate + Ubiquinone = Fumarate + Ubiquinol\n",
    "   - R_ACCOAC: from equilibrator: ATP(aq) + Acetyl-CoA(aq) + HCO3-(aq) ⇌ ADP(aq) + Orthophosphate(aq) + Malonyl-CoA(aq)\n",
    "   - R_KAS15: from formation energies on  equilibrator:  Acetyl-CoA(aq)  = CO2(aq) + Coenzyme A(aq) , ignored carriers\n",
    "   - R_MCOATA: from formation energies on  equilibrator:  malcoa <=> Coenzyme A , ignored carriers, check data/omics/dG_calculation.ods\n",
    "   - R_CYTBO3_4pp: from equilibrator: 0.50 O2(aq) + Ubiquinol(aq) ⇌ Ubiquinone(aq) + H2O(l), check data/omics/dG_calculation.ods\n",
    "   - R_NADH16pp: from equilibrator: NADH(aq) + Ubiquinone(aq) ⇌ NAD+(aq) + Ubiquinol(aq)\n",
    "   - R_ATPS4rpp: from equilibrator: ADP + Orthophosphate <=> ATP + H2O\n",
    "\n",
    "\n",
    " - **measRates**\n",
    "\n",
    "    \n",
    " - **kinetics**\n",
    "    - added mechanisms for new reactions:\n",
    "      - R_ACCOAC: m_accoa_c + m_atp_c + m_hco3_c <-> m_adp_c + m_malcoa_c + m_pi_c\n",
    "      - R_KAS15: m_accoa_c + m_malACP_c <-> m_actACP_c + m_co2_c + m_coa_c\n",
    "      - R_MCOATA: m_ACP_c + m_malcoa_c <-> m_coa_c + m_malACP_c\n",
    "      - R_CYTBO3_4pp: 4 m_h_c + 0.5 m_o2_c + m_q8h2_c <-> m_h2o_c + 4 m_h_p + m_q8_c\n",
    "      - R_NADH16pp: 4 m_h_c + m_nadh_c + m_q8_c <-> 3 m_h_p + m_nad_c + m_q8h2_c\n",
    "      - R_ATPS4rpp: m_adp_c + 4 m_h_p + m_pi_c <-> m_atp_c + m_h2o_c + 3 m_h_c\n",
    "    - oxidative phosphorylation reactions have massAction mechanisms because of the protons"
   ]
  },
  {
   "cell_type": "code",
   "execution_count": 5,
   "metadata": {},
   "outputs": [],
   "source": [
    "def full_model_check(data_dict):\n",
    "    # check metabolite lists separators in kinetics sheet\n",
    "    check_kinetics_met_separators(data_dict)\n",
    "\n",
    "    # check if the order of metabolites and reactions in all excel sheets is correct\n",
    "    check_met_rxn_order(data_dict)\n",
    "\n",
    "    # check consistency between stoic sheet and mets sheet, take the results with a grain of salt\n",
    "    check_balanced_metabolites(data_dict)\n",
    "\n",
    "    # check if fluxes and Gibbs energies are compatible\n",
    "    check_thermodynamic_feasibility(data_dict)\n",
    "\n",
    "    # check if all metabolites marked as balanced are indeed mass balance, only works if fluxes for all reactions are\n",
    "    # either specified or can be calculated\n",
    "    check_flux_balance(data_dict)\n",
    "\n",
    "\n",
    "    check_kinetics_subs_prod_order(data_dict)\n",
    "\n",
    "\n",
    "    check_rxn_mechanism_order(data_dict)"
   ]
  },
  {
   "cell_type": "code",
   "execution_count": 18,
   "metadata": {
    "collapsed": true,
    "jupyter": {
     "outputs_hidden": true
    }
   },
   "outputs": [
    {
     "name": "stdout",
     "output_type": "stream",
     "text": [
      "\n",
      "Checking if values are separated by a space in the kinetics sheet in columns order, promiscuous, inhibitors, activators, negative effector, and positive effector.\n",
      "It looks for dots, commas, and semi-colons.\n",
      "\n",
      "Everything seems to be OK.\n",
      "\n",
      "\n",
      "Checking if the order of reactions and metabolites is the same in all excel sheets.\n",
      "\n",
      "Everything seems to be OK.\n",
      "\n",
      "\n",
      "Checking if metabolites are both consumed and produced in the stoichiometric matrix, and if so checks if they are marked as balanced in the mets sheet. However, the metabolite might be balanced/not balanced anyways depending on the flux of the reactions that consume/produce it, so take this with a grain of salt.\n",
      "\n",
      "m_h2o_c is marked as not balanced but it seems to be balanced.\n",
      "m_pi_c is marked as not balanced but it seems to be balanced.\n",
      "m_co2_c is marked as not balanced but it seems to be balanced.\n",
      "m_malACP_c is marked as not balanced but it seems to be balanced.\n",
      "\n",
      "Checking if fluxes and Gibbs energies are compatible.\n",
      "\n",
      "The flux and ∆G range seem to be incompatible for reaction R_PGI\n",
      "The flux and ∆G range seem to be incompatible for reaction R_FBA\n",
      "The flux and ∆G range seem to be incompatible for reaction R_TPI\n",
      "The flux and ∆G range seem to be incompatible for reaction R_ENO\n",
      "The flux and ∆G range seem to be incompatible for reaction R_OAADC\n",
      "The flux and ∆G range seem to be incompatible for reaction R_MDH_NAD\n",
      "The flux and ∆G range seem to be incompatible for reaction R_MDH_NADP\n",
      "The flux and ∆G range seem to be incompatible for reaction R_SUCOAS\n",
      "The flux and ∆G range seem to be incompatible for reaction R_MCOATA\n",
      "\n",
      "Checking if the fluxes for each metabolite production/consumptions add up to zero.\n",
      "\n",
      "The flux for m_ru5p__D_c is not balanced. The difference in flux is 5\n",
      "The flux for m_s7p_c is not balanced. The difference in flux is 4\n",
      "The flux for m_coa_c is not balanced. The difference in flux is -107\n",
      "The flux for m_accoa_c is not balanced. The difference in flux is 390\n",
      "The flux for m_fum_c is not balanced. The difference in flux is -193\n",
      "The flux for m_succoa_c is not balanced. The difference in flux is -283\n",
      "The flux for m_h_c is not balanced. The difference in flux is -27192\n",
      "The flux for m_h_p is not balanced. The difference in flux is 1621\n",
      "m_6pgc_e should be in balanced mets\n",
      "m_xu5p__D_e should be in balanced mets\n",
      "m_icit_e should be in balanced mets\n",
      "\n",
      "Checking if the metabolite names in the substrate and product order columns in the kinetics sheet are valid, i.e., if they are indeed substrates and products of the respective reaction.\n",
      "\n",
      "The following metabolites in the substrate order column for reaction R_PGLCNDH_NAD are not part of the reaction substrates:\n",
      "{'m_nadph_c'}\n",
      "\n",
      "The following metabolites in the product order column for reaction R_PGLCNDH_NAD are not part of the reaction products:\n",
      "{'m_nadp_c'}\n",
      "\n",
      "The following metabolites in the substrate order column for reaction R_PGLCNDH_NADP are not part of the reaction substrates:\n",
      "{'m_nadh_c'}\n",
      "\n",
      "The following metabolites in the product order column for reaction R_PGLCNDH_NADP are not part of the reaction products:\n",
      "{'m_nad_c'}\n",
      "\n",
      "The following metabolites in the substrate order column for reaction R_G6PDH2_NAD are not part of the reaction substrates:\n",
      "{'m_nadp_c'}\n",
      "\n",
      "The following metabolites in the product order column for reaction R_G6PDH2_NAD are not part of the reaction products:\n",
      "{'m_nadph_c'}\n",
      "\n",
      "The following metabolites in the substrate order column for reaction R_G6PDH2_NADP are not part of the reaction substrates:\n",
      "{'m_nad_c'}\n",
      "\n",
      "The following metabolites in the product order column for reaction R_G6PDH2_NADP are not part of the reaction products:\n",
      "{'m_nadh_c'}\n",
      "\n",
      "The following metabolites in the substrate order column for reaction R_GND_NAD are not part of the reaction substrates:\n",
      "{'m_nadp_c'}\n",
      "\n",
      "The following metabolites in the product order column for reaction R_GND_NAD are not part of the reaction products:\n",
      "{'m_nadph_c'}\n",
      "\n",
      "The following metabolites in the substrate order column for reaction R_GND_NADP are not part of the reaction substrates:\n",
      "{'m_nad_c'}\n",
      "\n",
      "The following metabolites in the product order column for reaction R_GND_NADP are not part of the reaction products:\n",
      "{'m_nadh_c'}\n",
      "\n",
      "The following metabolites in the substrate order column for reaction R_GAPD_NAD are not part of the reaction substrates:\n",
      "{'m_nadp_c'}\n",
      "\n",
      "The following metabolites in the product order column for reaction R_GAPD_NAD are not part of the reaction products:\n",
      "{'m_nadph_c'}\n",
      "\n",
      "The following metabolites in the substrate order column for reaction R_GAPD_NADP are not part of the reaction substrates:\n",
      "{'m_nad_c'}\n",
      "\n",
      "The following metabolites in the product order column for reaction R_GAPD_NADP are not part of the reaction products:\n",
      "{'m_nadh_c'}\n",
      "\n",
      "The following metabolites in the substrate order column for reaction R_ME2_NADP are not part of the reaction substrates:\n",
      "{'m_nad_c'}\n",
      "\n",
      "The following metabolites in the product order column for reaction R_ME2_NADP are not part of the reaction products:\n",
      "{'m_nadh_c'}\n",
      "\n",
      "The following metabolites in the substrate order column for reaction R_ME2_NAD are not part of the reaction substrates:\n",
      "{'m_nadp_c'}\n",
      "\n",
      "The following metabolites in the product order column for reaction R_ME2_NAD are not part of the reaction products:\n",
      "{'m_nadph_c'}\n",
      "\n",
      "The following metabolites in the substrate order column for reaction R_MDH_NAD are not part of the reaction substrates:\n",
      "{'m_nadp_c'}\n",
      "\n",
      "The following metabolites in the product order column for reaction R_MDH_NAD are not part of the reaction products:\n",
      "{'m_nadph_c'}\n",
      "\n",
      "The following metabolites in the substrate order column for reaction R_MDH_NADP are not part of the reaction substrates:\n",
      "{'m_nad_c'}\n",
      "\n",
      "The following metabolites in the product order column for reaction R_MDH_NADP are not part of the reaction products:\n",
      "{'m_nadh_c'}\n",
      "\n",
      "The following metabolites in the substrate order column for reaction R_ICDHyr_NADP are not part of the reaction substrates:\n",
      "{'m_nad_c'}\n",
      "\n",
      "The following metabolites in the product order column for reaction R_ICDHyr_NADP are not part of the reaction products:\n",
      "{'m_nadh_c'}\n",
      "\n",
      "The following metabolites in the substrate order column for reaction R_ICDHyr_NAD are not part of the reaction substrates:\n",
      "{'m_nadp_c'}\n",
      "\n",
      "The following metabolites in the product order column for reaction R_ICDHyr_NAD are not part of the reaction products:\n",
      "{'m_nadph_c'}\n",
      "\n",
      "The following reaction substrates are not part of the substrate order column for reaction R_ACCOAC :\n",
      "{'m_hco3_c'}\n",
      "\n",
      "The following reaction products are not part of the product order column for reaction R_ACCOAC :\n",
      "{'m_pi_c'}\n",
      "\n",
      "The following reaction substrates are not part of the substrate order column for reaction R_KAS15 :\n",
      "{'m_malACP_c'}\n",
      "\n",
      "The following reaction products are not part of the product order column for reaction R_KAS15 :\n",
      "{'m_actACP_c'}\n",
      "\n",
      "The following reaction substrates are not part of the substrate order column for reaction R_MCOATA :\n",
      "{'m_ACP_c'}\n",
      "\n",
      "The following reaction products are not part of the product order column for reaction R_MCOATA :\n",
      "{'m_malACP_c'}\n",
      "\n",
      "\n",
      "Checking if non enzymatic mechanisms come only after enzymatic ones and if fixedExchange is the very last one.\n",
      "\n",
      "Everything seems to be OK.\n",
      "\n"
     ]
    }
   ],
   "source": [
    "model_name = 'putida_TCA_OP_reg_no_gth_fba'\n",
    "models_dir = '../../models'\n",
    "\n",
    "file_in = os.path.join(models_dir,f'{model_name}.xlsx')\n",
    "data_dict = pd.read_excel(file_in, sheet_name=None, index_col=0)\n",
    "full_model_check(data_dict)"
   ]
  },
  {
   "cell_type": "markdown",
   "metadata": {},
   "source": [
    "Removed reactions:\n",
    " - ACCOAr\n",
    " - R_EX_icit\n",
    " - R_EX_xu5p__D\n",
    " - R_ACCOAr\n",
    " \n",
    "Added reactions:\n",
    " - R_EX_accoa: m_accoa_c <-> m_accoa_e\n",
    " - R_EX_coa: m_coa_c <-> m_coa_e\n",
    " - R_EX_ru5p__D: m_ru5p__D_c <-> m_ru5p__D_e\n",
    " - R_EX_fum: m_fum_c <-> m_fum_e\n",
    " - R_EX_s7p: m_s7p_c <-> m_s7p_e\n",
    " - R_EX_h_p: m_h_p <-> m_h_e\n",
    " - R_EX_h_c: m_h_c <-> m_h_e\n",
    " - R_EX_succoa\n"
   ]
  },
  {
   "cell_type": "code",
   "execution_count": 36,
   "metadata": {
    "collapsed": true,
    "jupyter": {
     "outputs_hidden": true
    }
   },
   "outputs": [
    {
     "name": "stdin",
     "output_type": "stream",
     "text": [
      "No KEGG id was found for q8h2. If you know it, please insert it below,otherwise all reaction involving q8h2 will be ignored.\n",
      " \n"
     ]
    },
    {
     "name": "stdout",
     "output_type": "stream",
     "text": [
      "R_GLCabcpp: C00031 + C00002 + C00001 = C00031 + C00008 + C00009\n",
      "R_GLK: C00031 + C00002 = C00008 + C00092\n",
      "R_GLCNt2rpp: C00257 = C00257\n",
      "R_GNK: C00002 + C00257 = C00008 + C00345\n",
      "R_2DHGLCNkt_tpp: C06473 = C06473\n",
      "R_2DHGLCK: C00002 + C06473 = C00008 + C01218\n",
      "R_PGLCNDH_NAD: C01218 + C00004 = C00345 + C00003\n",
      "R_PGLCNDH_NADP: C01218 + C00005 = C00345 + C00006\n",
      "R_G6PDH2_NAD: C00092 + C00003 = C01236 + C00004\n",
      "R_G6PDH2_NADP: C00092 + C00006 = C01236 + C00005\n",
      "R_PGL: C01236 + C00001 = C00345\n",
      "R_GND_NAD: C00003 + C00345 = C00004 + C00011 + C00199\n",
      "R_GND_NADP: C00006 + C00345 = C00005 + C00011 + C00199\n",
      "R_RPI: C00199 = C00117\n",
      "R_RPE: C00199 = C00231\n",
      "R_TKT1: C00117 + C00231 = C00118 + C05382\n",
      "R_TALA: C00118 + C05382 = C00279 + C00085\n",
      "R_EDD: C00345 = C04442 + C00001\n",
      "R_EDA: C04442 = C00118 + C00022\n",
      "R_PGI: C00085 = C00092\n",
      "R_FBP: C00354 + C00001 = C00009 + C00085\n",
      "R_FBA: C00118 + C00111 = C00354\n",
      "R_TPI: C00118 = C00111\n",
      "R_GAPD_NAD: C00009 + C00003 + C00118 = C00004 + C00236\n",
      "R_GAPD_NADP: C00009 + C00006 + C00118 = C00005 + C00236\n",
      "R_PGK: C00008 + C00236 = C00002 + C00197\n",
      "R_PGM: C00197 = C00631\n",
      "R_ENO: C00631 = C00074 + C00001\n",
      "R_PYK: C00008 + C00074 = C00002 + C00022\n",
      "R_PDH: C00022 + C00010 + C00003 = C00011 + C00004 + C00024\n",
      "R_OAADC: C00022 + C00011 = C00036\n",
      "R_PPC: C00009 + C00036 = C00074 + C00011 + C00001\n",
      "R_ME2_NADP: C00006 + C00149 = C00022 + C00005 + C00011\n",
      "R_ME2_NAD: C00003 + C00149 = C00022 + C00004 + C00011\n",
      "R_MDH_NAD: C00003 + C00149 = C00036 + C00004\n",
      "R_MDH_NADP: C00006 + C00149 = C00036 + C00005\n",
      "R_FUM: C00122 + C00001 = C00149\n",
      "R_SUCOAS: C00009 + C00008 + C00091 = C00042 + C00002 + C00010\n",
      "R_AKGDH: C00003 + C00010 + C00026 = C00091 + C00004 + C00011\n",
      "R_ICDHyr_NADP: C00006 + C00311 = C00026 + C00011 + C00005\n",
      "R_ICDHyr_NAD: C00003 + C00311 = C00026 + C00011 + C00004\n",
      "R_ACONTa: C00158 = C00417 + C00001\n",
      "R_ACONTb: C00417 + C00001 = C00311\n",
      "R_CS_large: C00001 + C00024 + C00036 = C00158 + C00010\n",
      "R_CS_small: C00001 + C00024 + C00036 = C00158 + C00010\n",
      "R_ACCOAC: C00024 + C00002 + C00288 = C00008 + C00083 + C00009\n"
     ]
    },
    {
     "name": "stderr",
     "output_type": "stream",
     "text": [
      "WARNING:root:cannot generate the reaction atom bag because compounds have unspecific formulas: Compound(id=23, inchi_key=ZSLZBFCDCINBPY-ZSJPKINUSA-J) + Compound(id=174, inchi_key=None) = Compound(id=15, inchi_key=RGJOEKWQDUBAIZ-IBOSZNHHSA-J) + Compound(id=16, inchi_key=CURLTUGMZLYLDI-UHFFFAOYSA-N) + Compound(id=1130, inchi_key=None)\n",
      "WARNING:root:cannot generate the reaction atom bag because compounds have unspecific formulas: Compound(id=42, inchi_key=LTYOQGRJFJAKNA-DVVLENMVSA-I) + Compound(id=858, inchi_key=None) = Compound(id=15, inchi_key=RGJOEKWQDUBAIZ-IBOSZNHHSA-J) + Compound(id=174, inchi_key=None)\n"
     ]
    },
    {
     "name": "stdout",
     "output_type": "stream",
     "text": [
      "R_KAS15: C00024 + C01209 = C05744 + C00011 + C00010\n",
      "R_KAS15 is not balanced.\n",
      "Couldn't find a dG value for R_KAS15\n",
      "R_MCOATA: C00229 + C00083 = C00010 + C01209\n",
      "R_MCOATA is not balanced.\n",
      "Couldn't find a dG value for R_MCOATA\n",
      "R_ATPS4rpp: C00008 + 4.0 C00080 + C00009 = C00002 + C00001 + 3.0 C00080\n",
      "R_AXPr: C00002 = C00008 + C00009\n",
      "R_AXPr is not balanced.\n",
      "R_NADHr: C00004 = C00003\n",
      "R_NADHr is not balanced.\n",
      "R_NADPHr: C00005 = C00006\n",
      "R_NADPHr is not balanced.\n",
      "R_ACCOAr: 3.64 C00024 = C00010\n",
      "R_ACCOAr is not balanced.\n",
      "R_GLCtex: C00031 = C00031\n",
      "                 average  stdev      min      max\n",
      "R_GLCabcpp        -26.39   0.31   -27.01   -25.77\n",
      "R_GLK             -17.27   0.44   -18.15   -16.39\n",
      "R_GLCNt2rpp         0.00   0.00     0.00     0.00\n",
      "R_GNK             -10.03   3.27   -16.57    -3.49\n",
      "R_2DHGLCNkt_tpp     0.00   0.00     0.00     0.00\n",
      "R_2DHGLCK         -11.80   3.53   -18.86    -4.74\n",
      "R_PGLCNDH_NAD     -16.77   1.91   -20.59   -12.95\n",
      "R_PGLCNDH_NADP    -17.58   1.94   -21.46   -13.70\n",
      "R_G6PDH2_NAD       -3.17   1.38    -5.93    -0.41\n",
      "R_G6PDH2_NADP      -2.37   1.35    -5.07     0.33\n",
      "R_PGL             -21.07   1.69   -24.45   -17.69\n",
      "R_GND_NAD          10.27   3.23     3.81    16.73\n",
      "R_GND_NADP         11.08   3.24     4.60    17.56\n",
      "R_RPI              -1.92   0.78    -3.48    -0.36\n",
      "R_RPE              -3.37   1.18    -5.73    -1.01\n",
      "R_TKT1             -3.89   1.96    -7.81     0.03\n",
      "R_TALA             -0.61   1.44    -3.49     2.27\n",
      "R_EDD             -42.98   2.62   -48.22   -37.74\n",
      "R_EDA              15.53   2.11    11.31    19.75\n",
      "R_PGI              -2.52   0.39    -3.30    -1.74\n",
      "R_FBP             -11.44   0.71   -12.86   -10.02\n",
      "R_FBA             -19.80   0.54   -20.88   -18.72\n",
      "R_TPI              -5.46   0.56    -6.58    -4.34\n",
      "R_GAPD_NAD          7.82   0.41     7.00     8.64\n",
      "R_GAPD_NADP         8.63   0.53     7.57     9.69\n",
      "R_PGK             -18.45   0.45   -19.35   -17.55\n",
      "R_PGM               4.23   0.37     3.49     4.97\n",
      "R_ENO              -4.09   0.31    -4.71    -3.47\n",
      "R_PYK             -27.65   0.43   -28.51   -26.79\n",
      "R_PDH             -35.00   3.28   -41.56   -28.44\n",
      "R_OAADC            17.37   3.18    11.01    23.73\n",
      "R_PPC              36.67   3.17    30.33    43.01\n",
      "R_ME2_NADP         13.94   3.20     7.54    20.34\n",
      "R_ME2_NAD          13.13   3.18     6.77    19.49\n",
      "R_MDH_NAD          30.51   0.31    29.89    31.13\n",
      "R_MDH_NADP         31.32   0.45    30.42    32.22\n",
      "R_FUM              -3.44   0.28    -4.00    -2.88\n",
      "R_SUCOAS            1.86   1.36    -0.86     4.58\n",
      "R_AKGDH           -27.38   3.96   -35.30   -19.46\n",
      "R_ICDHyr_NADP       6.36   3.25    -0.14    12.86\n",
      "R_ICDHyr_NAD        5.55   3.25    -0.95    12.05\n",
      "R_ACONTa            8.33   1.16     6.01    10.65\n",
      "R_ACONTb           -0.70   1.16    -3.02     1.62\n",
      "R_CS_large        -34.83   0.45   -35.73   -33.93\n",
      "R_CS_small        -34.83   0.45   -35.73   -33.93\n",
      "R_ACCOAC           -3.02   1.51    -6.04     0.00\n",
      "R_KAS15             0.00   0.00     0.00     0.00\n",
      "R_MCOATA            0.00   0.00     0.00     0.00\n",
      "R_ATPS4rpp         26.39   0.31    25.77    27.01\n",
      "R_AXPr           -183.85   0.80  -185.45  -182.25\n",
      "R_NADHr           -64.27   0.56   -65.39   -63.15\n",
      "R_NADPHr          -65.08   0.61   -66.30   -63.86\n",
      "R_ACCOAr         4968.08  20.58  4926.92  5009.24\n",
      "R_GLCtex            0.00   0.00     0.00     0.00\n"
     ]
    }
   ],
   "source": [
    "model_name = 'putida_TCA_OP_reg_no_gth_fba'\n",
    "models_dir = '../../models'\n",
    "data_dir = '../../data/omics'\n",
    "\n",
    "file_in_stoic = os.path.join(models_dir, 'putida_TCA_OP_reg_no_gth_fba.txt')\n",
    "file_in_metabolomics = os.path.join(data_dir, 'P. putida wt Glucose.xlsx')\n",
    "file_in_meas_fluxes = os.path.join(data_dir, 'fba_flux.xlsx')\n",
    "base_excel_file = os.path.join(models_dir, 'putida_TCA_OP_reg_no_gth_fba_backup.xlsx')\n",
    "\n",
    "file_out = os.path.join(models_dir, f'{model_name}.xlsx')\n",
    "\n",
    "set_up_model(model_name, file_in_stoic, base_excel_file, file_out, \n",
    "             use_equilibrator=True, file_in_mets_conc=file_in_metabolomics, mets_orient='columns',\n",
    "             file_in_meas_fluxes=file_in_meas_fluxes, fluxes_orient='rows')"
   ]
  },
  {
   "cell_type": "code",
   "execution_count": 57,
   "metadata": {
    "collapsed": true,
    "jupyter": {
     "outputs_hidden": true
    }
   },
   "outputs": [
    {
     "name": "stdout",
     "output_type": "stream",
     "text": [
      "\n",
      "Checking if values are separated by a space in the kinetics sheet in columns order, promiscuous, inhibitors, activators, negative effector, and positive effector.\n",
      "It looks for dots, commas, and semi-colons.\n",
      "\n",
      "Everything seems to be OK.\n",
      "\n",
      "\n",
      "Checking if the order of reactions and metabolites is the same in all excel sheets.\n",
      "\n",
      "Everything seems to be OK.\n",
      "\n",
      "\n",
      "Checking if metabolites are both consumed and produced in the stoichiometric matrix, and if so checks if they are marked as balanced in the mets sheet. However, the metabolite might be balanced/not balanced anyways depending on the flux of the reactions that consume/produce it, so take this with a grain of salt.\n",
      "\n",
      "m_h2o_c is marked as not balanced but it seems to be balanced.\n",
      "m_pi_c is marked as not balanced but it seems to be balanced.\n",
      "m_co2_c is marked as not balanced but it seems to be balanced.\n",
      "m_malACP_c is marked as not balanced but it seems to be balanced.\n",
      "\n",
      "Checking if fluxes and Gibbs energies are compatible.\n",
      "\n",
      "The flux and ∆G range seem to be incompatible for reaction R_PGI\n",
      "The flux and ∆G range seem to be incompatible for reaction R_FBA\n",
      "The flux and ∆G range seem to be incompatible for reaction R_TPI\n",
      "The flux and ∆G range seem to be incompatible for reaction R_ENO\n",
      "The flux and ∆G range seem to be incompatible for reaction R_OAADC\n",
      "The flux and ∆G range seem to be incompatible for reaction R_MDH_NAD\n",
      "The flux and ∆G range seem to be incompatible for reaction R_MDH_NADP\n",
      "The flux and ∆G range seem to be incompatible for reaction R_SUCOAS\n",
      "The flux and ∆G range seem to be incompatible for reaction R_MCOATA\n",
      "\n",
      "Checking if the fluxes for each metabolite production/consumptions add up to zero.\n",
      "\n",
      "The flux for m_nadh_c is not balanced. The difference in flux is 23\n",
      "The flux for m_nad_c is not balanced. The difference in flux is -23\n",
      "The flux for m_coa_c is not balanced. The difference in flux is -130\n",
      "The flux for m_accoa_c is not balanced. The difference in flux is 390\n",
      "The flux for m_succoa_c is not balanced. The difference in flux is 23\n",
      "The flux for m_akg_c is not balanced. The difference in flux is -23\n",
      "The flux for m_h_c is not balanced. The difference in flux is -27192.0\n",
      "The flux for m_h_p is not balanced. The difference in flux is 1621\n",
      "\n",
      "Checking if the metabolite names in the substrate and product order columns in the kinetics sheet are valid, i.e., if they are indeed substrates and products of the respective reaction.\n",
      "\n",
      "The following metabolites in the substrate order column for reaction R_PGLCNDH_NAD are not part of the reaction substrates:\n",
      "{'m_nadph_c'}\n",
      "\n",
      "The following metabolites in the product order column for reaction R_PGLCNDH_NAD are not part of the reaction products:\n",
      "{'m_nadp_c'}\n",
      "\n",
      "The following metabolites in the substrate order column for reaction R_PGLCNDH_NADP are not part of the reaction substrates:\n",
      "{'m_nadh_c'}\n",
      "\n",
      "The following metabolites in the product order column for reaction R_PGLCNDH_NADP are not part of the reaction products:\n",
      "{'m_nad_c'}\n",
      "\n",
      "The following metabolites in the substrate order column for reaction R_G6PDH2_NAD are not part of the reaction substrates:\n",
      "{'m_nadp_c'}\n",
      "\n",
      "The following metabolites in the product order column for reaction R_G6PDH2_NAD are not part of the reaction products:\n",
      "{'m_nadph_c'}\n",
      "\n",
      "The following metabolites in the substrate order column for reaction R_G6PDH2_NADP are not part of the reaction substrates:\n",
      "{'m_nad_c'}\n",
      "\n",
      "The following metabolites in the product order column for reaction R_G6PDH2_NADP are not part of the reaction products:\n",
      "{'m_nadh_c'}\n",
      "\n",
      "The following metabolites in the substrate order column for reaction R_GND_NAD are not part of the reaction substrates:\n",
      "{'m_nadp_c'}\n",
      "\n",
      "The following metabolites in the product order column for reaction R_GND_NAD are not part of the reaction products:\n",
      "{'m_nadph_c'}\n",
      "\n",
      "The following metabolites in the substrate order column for reaction R_GND_NADP are not part of the reaction substrates:\n",
      "{'m_nad_c'}\n",
      "\n",
      "The following metabolites in the product order column for reaction R_GND_NADP are not part of the reaction products:\n",
      "{'m_nadh_c'}\n",
      "\n",
      "The following metabolites in the substrate order column for reaction R_GAPD_NAD are not part of the reaction substrates:\n",
      "{'m_nadp_c'}\n",
      "\n",
      "The following metabolites in the product order column for reaction R_GAPD_NAD are not part of the reaction products:\n",
      "{'m_nadph_c'}\n",
      "\n",
      "The following metabolites in the substrate order column for reaction R_GAPD_NADP are not part of the reaction substrates:\n",
      "{'m_nad_c'}\n",
      "\n",
      "The following metabolites in the product order column for reaction R_GAPD_NADP are not part of the reaction products:\n",
      "{'m_nadh_c'}\n",
      "\n",
      "The following metabolites in the substrate order column for reaction R_ME2_NADP are not part of the reaction substrates:\n",
      "{'m_nad_c'}\n",
      "\n",
      "The following metabolites in the product order column for reaction R_ME2_NADP are not part of the reaction products:\n",
      "{'m_nadh_c'}\n",
      "\n",
      "The following metabolites in the substrate order column for reaction R_ME2_NAD are not part of the reaction substrates:\n",
      "{'m_nadp_c'}\n",
      "\n",
      "The following metabolites in the product order column for reaction R_ME2_NAD are not part of the reaction products:\n",
      "{'m_nadph_c'}\n",
      "\n",
      "The following metabolites in the substrate order column for reaction R_MDH_NAD are not part of the reaction substrates:\n",
      "{'m_nadp_c'}\n",
      "\n",
      "The following metabolites in the product order column for reaction R_MDH_NAD are not part of the reaction products:\n",
      "{'m_nadph_c'}\n",
      "\n",
      "The following metabolites in the substrate order column for reaction R_MDH_NADP are not part of the reaction substrates:\n",
      "{'m_nad_c'}\n",
      "\n",
      "The following metabolites in the product order column for reaction R_MDH_NADP are not part of the reaction products:\n",
      "{'m_nadh_c'}\n",
      "\n",
      "The following metabolites in the substrate order column for reaction R_ICDHyr_NADP are not part of the reaction substrates:\n",
      "{'m_nad_c'}\n",
      "\n",
      "The following metabolites in the product order column for reaction R_ICDHyr_NADP are not part of the reaction products:\n",
      "{'m_nadh_c'}\n",
      "\n",
      "The following metabolites in the substrate order column for reaction R_ICDHyr_NAD are not part of the reaction substrates:\n",
      "{'m_nadp_c'}\n",
      "\n",
      "The following metabolites in the product order column for reaction R_ICDHyr_NAD are not part of the reaction products:\n",
      "{'m_nadph_c'}\n",
      "\n",
      "The following reaction substrates are not part of the substrate order column for reaction R_ACCOAC :\n",
      "{'m_hco3_c'}\n",
      "\n",
      "The following reaction products are not part of the product order column for reaction R_ACCOAC :\n",
      "{'m_pi_c'}\n",
      "\n",
      "The following reaction substrates are not part of the substrate order column for reaction R_KAS15 :\n",
      "{'m_malACP_c'}\n",
      "\n",
      "The following reaction products are not part of the product order column for reaction R_KAS15 :\n",
      "{'m_actACP_c'}\n",
      "\n",
      "The following reaction substrates are not part of the substrate order column for reaction R_MCOATA :\n",
      "{'m_ACP_c'}\n",
      "\n",
      "The following reaction products are not part of the product order column for reaction R_MCOATA :\n",
      "{'m_malACP_c'}\n",
      "\n",
      "\n",
      "Checking if non enzymatic mechanisms come only after enzymatic ones and if fixedExchange is the very last one.\n",
      "\n",
      "Everything seems to be OK.\n",
      "\n"
     ]
    }
   ],
   "source": [
    "model_name = 'putida_TCA_OP_reg_no_gth_fba'\n",
    "models_dir = '../../models'\n",
    "\n",
    "file_in = os.path.join(models_dir,f'{model_name}.xlsx')\n",
    "data_dict = pd.read_excel(file_in, sheet_name=None, index_col=0)\n",
    "full_model_check(data_dict)"
   ]
  },
  {
   "cell_type": "markdown",
   "metadata": {},
   "source": [
    "Subsituted:\n",
    " - R_CYTBO3_4pp: 4 m_h_c + 0.5 m_o2_c + m_q8h2_c <-> m_h2o_c + 4 m_h_p + m_q8_c\n",
    " - R_NADH16pp: 4 m_h_c + m_nadh_c + m_q8_c <-> 3 m_h_p + m_nad_c + m_q8h2_c\n",
    " - R_ATPS4rpp: m_adp_c + 4 m_h_p + m_pi_c <-> m_atp_c + m_h2o_c + 3 m_h_c\n",
    " \n",
    "By:\n",
    " - R_OPNAD: m_nadh_c + m_q8_c + 1.875 m_adp_c + 1.875 m_pi_c <-> m_nad_c  + m_q8h2_c + 1.875 m_atp_c\n",
    " - R_OPQ8: m_q8h2_c + 1.875 m_adp_c + 1.875 m_pi_c <-> m_q8_c + 1.875 m_atp_c\n",
    " \n",
    "Because the protons were hard to balance.\n",
    "\n",
    "\n",
    "Also to balanced coa and accoa through a recyling reaction:\n",
    "\n",
    "Originally:\n",
    " - The flux for m_coa_c is not balanced. The difference in flux is -130\n",
    " - The flux for m_accoa_c is not balanced. The difference in flux is 390\n",
    "\n",
    "From mathematica: \n",
    "Solve[390/b == c && 3 <= c <= 4, {c, b}, Integers] ---> {{c -> 3, b -> 130}} \n",
    "\n",
    "coa is the easiest flux to fix because in SUCCOAS and AKGDH it is only coupled to succoa, so added 23 to AKGDH flux and set c=3"
   ]
  },
  {
   "cell_type": "code",
   "execution_count": 59,
   "metadata": {
    "collapsed": true,
    "jupyter": {
     "outputs_hidden": true
    }
   },
   "outputs": [
    {
     "name": "stdin",
     "output_type": "stream",
     "text": [
      "No KEGG id was found for q8h2. If you know it, please insert it below,otherwise all reaction involving q8h2 will be ignored.\n",
      " \n"
     ]
    },
    {
     "name": "stdout",
     "output_type": "stream",
     "text": [
      "R_GLCabcpp: C00031 + C00002 + C00001 = C00031 + C00008 + C00009\n",
      "R_GLK: C00031 + C00002 = C00008 + C00092\n",
      "R_GLCNt2rpp: C00257 = C00257\n",
      "R_GNK: C00002 + C00257 = C00008 + C00345\n",
      "R_2DHGLCNkt_tpp: C06473 = C06473\n",
      "R_2DHGLCK: C00002 + C06473 = C00008 + C01218\n",
      "R_PGLCNDH_NAD: C01218 + C00004 = C00345 + C00003\n",
      "R_PGLCNDH_NADP: C01218 + C00005 = C00345 + C00006\n",
      "R_G6PDH2_NAD: C00092 + C00003 = C01236 + C00004\n",
      "R_G6PDH2_NADP: C00092 + C00006 = C01236 + C00005\n",
      "R_PGL: C01236 + C00001 = C00345\n",
      "R_GND_NAD: C00003 + C00345 = C00004 + C00011 + C00199\n",
      "R_GND_NADP: C00006 + C00345 = C00005 + C00011 + C00199\n",
      "R_RPI: C00199 = C00117\n",
      "R_RPE: C00199 = C00231\n",
      "R_TKT1: C00117 + C00231 = C00118 + C05382\n",
      "R_TALA: C00118 + C05382 = C00279 + C00085\n",
      "R_EDD: C00345 = C04442 + C00001\n",
      "R_EDA: C04442 = C00118 + C00022\n",
      "R_PGI: C00085 = C00092\n",
      "R_FBP: C00354 + C00001 = C00009 + C00085\n",
      "R_FBA: C00118 + C00111 = C00354\n",
      "R_TPI: C00118 = C00111\n",
      "R_GAPD_NAD: C00009 + C00003 + C00118 = C00004 + C00236\n",
      "R_GAPD_NADP: C00009 + C00006 + C00118 = C00005 + C00236\n",
      "R_PGK: C00008 + C00236 = C00002 + C00197\n",
      "R_PGM: C00197 = C00631\n",
      "R_ENO: C00631 = C00074 + C00001\n",
      "R_PYK: C00008 + C00074 = C00002 + C00022\n",
      "R_PDH: C00022 + C00010 + C00003 = C00011 + C00004 + C00024\n",
      "R_OAADC: C00022 + C00011 = C00036\n",
      "R_PPC: C00009 + C00036 = C00074 + C00011 + C00001\n",
      "R_ME2_NADP: C00006 + C00149 = C00022 + C00005 + C00011\n",
      "R_ME2_NAD: C00003 + C00149 = C00022 + C00004 + C00011\n",
      "R_MDH_NAD: C00003 + C00149 = C00036 + C00004\n",
      "R_MDH_NADP: C00006 + C00149 = C00036 + C00005\n",
      "R_FUM: C00122 + C00001 = C00149\n",
      "R_SUCOAS: C00009 + C00008 + C00091 = C00042 + C00002 + C00010\n",
      "R_AKGDH: C00003 + C00010 + C00026 = C00091 + C00004 + C00011\n",
      "R_ICDHyr_NADP: C00006 + C00311 = C00026 + C00011 + C00005\n",
      "R_ICDHyr_NAD: C00003 + C00311 = C00026 + C00011 + C00004\n",
      "R_ACONTa: C00158 = C00417 + C00001\n",
      "R_ACONTb: C00417 + C00001 = C00311\n",
      "R_CS_large: C00001 + C00024 + C00036 = C00158 + C00010\n",
      "R_CS_small: C00001 + C00024 + C00036 = C00158 + C00010\n",
      "R_ACCOAC: C00024 + C00002 + C00288 = C00008 + C00083 + C00009\n"
     ]
    },
    {
     "name": "stderr",
     "output_type": "stream",
     "text": [
      "WARNING:root:cannot generate the reaction atom bag because compounds have unspecific formulas: Compound(id=23, inchi_key=ZSLZBFCDCINBPY-ZSJPKINUSA-J) + Compound(id=174, inchi_key=None) = Compound(id=15, inchi_key=RGJOEKWQDUBAIZ-IBOSZNHHSA-J) + Compound(id=16, inchi_key=CURLTUGMZLYLDI-UHFFFAOYSA-N) + Compound(id=1130, inchi_key=None)\n",
      "WARNING:root:cannot generate the reaction atom bag because compounds have unspecific formulas: Compound(id=42, inchi_key=LTYOQGRJFJAKNA-DVVLENMVSA-I) + Compound(id=858, inchi_key=None) = Compound(id=15, inchi_key=RGJOEKWQDUBAIZ-IBOSZNHHSA-J) + Compound(id=174, inchi_key=None)\n"
     ]
    },
    {
     "name": "stdout",
     "output_type": "stream",
     "text": [
      "R_KAS15: C00024 + C01209 = C05744 + C00011 + C00010\n",
      "R_KAS15 is not balanced.\n",
      "Couldn't find a dG value for R_KAS15\n",
      "R_MCOATA: C00229 + C00083 = C00010 + C01209\n",
      "R_MCOATA is not balanced.\n",
      "Couldn't find a dG value for R_MCOATA\n",
      "R_AXPr: C00002 = C00008 + C00009\n",
      "R_AXPr is not balanced.\n",
      "R_NADHr: C00004 = C00003\n",
      "R_NADHr is not balanced.\n",
      "R_NADPHr: C00005 = C00006\n",
      "R_NADPHr is not balanced.\n",
      "R_ACCOAr: 3.0 C00024 = C00010\n",
      "R_ACCOAr is not balanced.\n",
      "R_GLCtex: C00031 = C00031\n",
      "                 average  stdev      min      max\n",
      "R_GLCabcpp        -26.39   0.31   -27.01   -25.77\n",
      "R_GLK             -17.27   0.44   -18.15   -16.39\n",
      "R_GLCNt2rpp         0.00   0.00     0.00     0.00\n",
      "R_GNK             -10.03   3.27   -16.57    -3.49\n",
      "R_2DHGLCNkt_tpp     0.00   0.00     0.00     0.00\n",
      "R_2DHGLCK         -11.80   3.53   -18.86    -4.74\n",
      "R_PGLCNDH_NAD     -16.77   1.91   -20.59   -12.95\n",
      "R_PGLCNDH_NADP    -17.58   1.94   -21.46   -13.70\n",
      "R_G6PDH2_NAD       -3.17   1.38    -5.93    -0.41\n",
      "R_G6PDH2_NADP      -2.37   1.35    -5.07     0.33\n",
      "R_PGL             -21.07   1.69   -24.45   -17.69\n",
      "R_GND_NAD          10.27   3.23     3.81    16.73\n",
      "R_GND_NADP         11.08   3.24     4.60    17.56\n",
      "R_RPI              -1.92   0.78    -3.48    -0.36\n",
      "R_RPE              -3.37   1.18    -5.73    -1.01\n",
      "R_TKT1             -3.89   1.96    -7.81     0.03\n",
      "R_TALA             -0.61   1.44    -3.49     2.27\n",
      "R_EDD             -42.98   2.62   -48.22   -37.74\n",
      "R_EDA              15.53   2.11    11.31    19.75\n",
      "R_PGI              -2.52   0.39    -3.30    -1.74\n",
      "R_FBP             -11.44   0.71   -12.86   -10.02\n",
      "R_FBA             -19.80   0.54   -20.88   -18.72\n",
      "R_TPI              -5.46   0.56    -6.58    -4.34\n",
      "R_GAPD_NAD          7.82   0.41     7.00     8.64\n",
      "R_GAPD_NADP         8.63   0.53     7.57     9.69\n",
      "R_PGK             -18.45   0.45   -19.35   -17.55\n",
      "R_PGM               4.23   0.37     3.49     4.97\n",
      "R_ENO              -4.09   0.31    -4.71    -3.47\n",
      "R_PYK             -27.65   0.43   -28.51   -26.79\n",
      "R_PDH             -35.00   3.28   -41.56   -28.44\n",
      "R_OAADC            17.37   3.18    11.01    23.73\n",
      "R_PPC              36.67   3.17    30.33    43.01\n",
      "R_ME2_NADP         13.94   3.20     7.54    20.34\n",
      "R_ME2_NAD          13.13   3.18     6.77    19.49\n",
      "R_MDH_NAD          30.51   0.31    29.89    31.13\n",
      "R_MDH_NADP         31.32   0.45    30.42    32.22\n",
      "R_FUM              -3.44   0.28    -4.00    -2.88\n",
      "R_SUCOAS            1.86   1.36    -0.86     4.58\n",
      "R_AKGDH           -27.38   3.96   -35.30   -19.46\n",
      "R_ICDHyr_NADP       6.36   3.25    -0.14    12.86\n",
      "R_ICDHyr_NAD        5.55   3.25    -0.95    12.05\n",
      "R_ACONTa            8.33   1.16     6.01    10.65\n",
      "R_ACONTb           -0.70   1.16    -3.02     1.62\n",
      "R_CS_large        -34.83   0.45   -35.73   -33.93\n",
      "R_CS_small        -34.83   0.45   -35.73   -33.93\n",
      "R_ACCOAC           -3.02   1.51    -6.04     0.00\n",
      "R_KAS15             0.00   0.00     0.00     0.00\n",
      "R_MCOATA            0.00   0.00     0.00     0.00\n",
      "R_AXPr           -183.85   0.80  -185.45  -182.25\n",
      "R_NADHr           -64.27   0.56   -65.39   -63.15\n",
      "R_NADPHr          -65.08   0.61   -66.30   -63.86\n",
      "R_ACCOAr         3778.03  15.61  3746.81  3809.25\n",
      "R_GLCtex            0.00   0.00     0.00     0.00\n"
     ]
    }
   ],
   "source": [
    "model_name = 'putida_TCA_OP_reg_no_gth_fba'\n",
    "models_dir = '../../models'\n",
    "data_dir = '../../data/omics'\n",
    "\n",
    "file_in_stoic = os.path.join(models_dir, 'putida_TCA_OP_reg_no_gth_fba.txt')\n",
    "file_in_metabolomics = os.path.join(data_dir, 'P. putida wt Glucose.xlsx')\n",
    "file_in_meas_fluxes = os.path.join(data_dir, 'fba_flux.xlsx')\n",
    "base_excel_file = os.path.join(models_dir, 'putida_TCA_OP_reg_no_gth_fba_backup.xlsx')\n",
    "\n",
    "file_out = os.path.join(models_dir, f'{model_name}.xlsx')\n",
    "\n",
    "set_up_model(model_name, file_in_stoic, base_excel_file, file_out, \n",
    "             use_equilibrator=True, file_in_mets_conc=file_in_metabolomics, mets_orient='columns',\n",
    "             file_in_meas_fluxes=file_in_meas_fluxes, fluxes_orient='rows')"
   ]
  },
  {
   "cell_type": "markdown",
   "metadata": {},
   "source": [
    "### Manual changes\n",
    "\n",
    "\n",
    " - **rxns**\n",
    "   - added info for new reactions\n",
    "   \n",
    " - **thermoMets**\n",
    "    - set succoa, g3p, 3pg, succoas, malcoa, and 2pg concentration ranges from 0 to [10^-9, 10^-7] mol/L\n",
    "    - set water to [1, 1] mol/L\n",
    " \n",
    " - **thermoRxns**\n",
    "  \n",
    "   - R_OPNAD: from equilibrator: NADH + Ubiquinone + 1.875 ADP + 1.875 Pi <=> NAD+ + Ubiquinol + 1.875 ATP + 1.875 H2O\n",
    "   - R_OPQ8: Ubiquinol(aq) + 1.88 ADP(aq) + 1.88 Pi(aq) + 0.50 O2(aq) ⇌ Ubiquinone(aq) + 1.88 ATP(aq) + 2.88 H2O(l)\n",
    "\n",
    "\n",
    " - **measRates**\n",
    "    - set OPNAD flux to 2998\n",
    "    - set OPQ8 flux to 7315\n",
    "    - balance the remaining reactions\n",
    "    \n",
    "\n",
    "\n",
    "    \n",
    "To get the ATP flux right:\n",
    "Oxidative phosphorylation\n",
    "\n",
    "Three reactions with non-zero flux on GSM model:\n",
    " - R_CYTBO3_4pp: 4 m_h_c + 0.5 m_o2_c + m_q8h2_c <-> m_h2o_c + 4 m_h_p + m_q8_c - 15065\n",
    " - R_NADH16pp: 4 m_h_c + m_nadh_c + m_q8_c <-> 3 m_h_p + m_nad_c + m_q8h2_c  - 6235\n",
    " - R_ATPS4rpp: m_adp_c + 4 m_h_p + m_pi_c <-> m_atp_c + m_h2o_c + 3 m_h_c  -  19336\n",
    "\n",
    "\n",
    "The total ATP production must be 19336 mmol/L/h\n",
    "\n",
    "Since the above reactions have been substituted by the lumped reactions below:\n",
    " - R_OPNAD: m_nadh_c + m_q8_c + 1.875 m_adp_c + 1.875 m_pi_c <-> m_nad_c  + m_q8h2_c + 1.875 m_atp_c\n",
    " - R_OPQ8: m_q8h2_c + 1.875 m_adp_c + 1.875 m_pi_c <-> m_q8_c + 1.875 m_atp_c \n",
    "\n",
    "The sum of the flux through these reactions must be: 19336/1.875 = 10312.533333333333 -> 10313\n",
    "\n",
    "\n",
    "15065 + 6235 = 21300\n",
    "\n",
    "21300 - 10313 = 10987\n",
    "\n",
    "To make the fluxes add up to 10313:\n",
    "\n",
    "x = 7750;\n",
    "x/15065 = 0.514437\n",
    "(10987 - x)/6235 = 0.519166\n",
    "\n",
    "--> remove roughly the same  percentage from  both reactions fluxes\n",
    "\n",
    "i.e remove 7750 from R_CYTBO3_4pp and 3237 from R_NADH16pp:\n",
    "R_CYTBO3_4pp: 15065-7750=7315\n",
    "R_NADH16pp: 6235-3237=2998\n",
    "\n",
    "Thus:\n",
    " - R_OPNAD: m_nadh_c + m_q8_c + 1.875 m_adp_c + 1.875 m_pi_c <-> m_nad_c  + m_q8h2_c + 1.875 m_atp_c - 2998\n",
    " - R_OPQ8: m_q8h2_c + 1.875 m_adp_c + 1.875 m_pi_c <-> m_q8_c + 1.875 m_atp_c -  7315\n",
    "\n",
    "\n",
    "\n",
    "Changed oxidative phosphorylation reactions to include oxygen and water:\n",
    " - R_OPNAD: m_nadh_c + m_q8_c + 1.875 m_adp_c + 1.875 m_pi_c <-> m_nad_c  + m_q8h2_c + 1.875 m_atp_c + 1.875 m_h2o_c\n",
    " - R_OPQ8: m_q8h2_c + 1.875 m_adp_c + 1.875 m_pi_c + 0.5 m_o2_c <-> m_q8_c + 1.875 m_atp_c + 2.88 m_h2o_c\n",
    " \n",
    "So that they are the same as in eQuilibrator after balancing"
   ]
  },
  {
   "cell_type": "code",
   "execution_count": 84,
   "metadata": {
    "collapsed": true,
    "jupyter": {
     "outputs_hidden": true
    }
   },
   "outputs": [
    {
     "name": "stdout",
     "output_type": "stream",
     "text": [
      "\n",
      "Checking if values are separated by a space in the kinetics sheet in columns order, promiscuous, inhibitors, activators, negative effector, and positive effector.\n",
      "It looks for dots, commas, and semi-colons.\n",
      "\n",
      "Everything seems to be OK.\n",
      "\n",
      "\n",
      "Checking if the order of reactions and metabolites is the same in all excel sheets.\n",
      "\n",
      "Everything seems to be OK.\n",
      "\n",
      "\n",
      "Checking if metabolites are both consumed and produced in the stoichiometric matrix, and if so checks if they are marked as balanced in the mets sheet. However, the metabolite might be balanced/not balanced anyways depending on the flux of the reactions that consume/produce it, so take this with a grain of salt.\n",
      "\n",
      "m_h2o_c is marked as not balanced but it seems to be balanced.\n",
      "m_pi_c is marked as not balanced but it seems to be balanced.\n",
      "m_co2_c is marked as not balanced but it seems to be balanced.\n",
      "m_malACP_c is marked as not balanced but it seems to be balanced.\n",
      "\n",
      "Checking if fluxes and Gibbs energies are compatible.\n",
      "\n",
      "The flux and ∆G range seem to be incompatible for reaction R_PGI\n",
      "The flux and ∆G range seem to be incompatible for reaction R_FBA\n",
      "The flux and ∆G range seem to be incompatible for reaction R_TPI\n",
      "The flux and ∆G range seem to be incompatible for reaction R_ENO\n",
      "The flux and ∆G range seem to be incompatible for reaction R_OAADC\n",
      "The flux and ∆G range seem to be incompatible for reaction R_MDH_NAD\n",
      "The flux and ∆G range seem to be incompatible for reaction R_MDH_NADP\n",
      "The flux and ∆G range seem to be incompatible for reaction R_SUCOAS\n",
      "The flux and ∆G range seem to be incompatible for reaction R_MCOATA\n",
      "The flux and ∆G range seem to be incompatible for reaction R_ACCOAr\n",
      "\n",
      "Checking if the fluxes for each metabolite production/consumptions add up to zero.\n",
      "\n",
      "Everything seems to be OK.\n",
      "\n",
      "Checking if the metabolite names in the substrate and product order columns in the kinetics sheet are valid, i.e., if they are indeed substrates and products of the respective reaction.\n",
      "\n",
      "The following metabolites in the substrate order column for reaction R_PGLCNDH_NAD are not part of the reaction substrates:\n",
      "{'m_nadph_c'}\n",
      "\n",
      "The following metabolites in the product order column for reaction R_PGLCNDH_NAD are not part of the reaction products:\n",
      "{'m_nadp_c'}\n",
      "\n",
      "The following metabolites in the substrate order column for reaction R_PGLCNDH_NADP are not part of the reaction substrates:\n",
      "{'m_nadh_c'}\n",
      "\n",
      "The following metabolites in the product order column for reaction R_PGLCNDH_NADP are not part of the reaction products:\n",
      "{'m_nad_c'}\n",
      "\n",
      "The following metabolites in the substrate order column for reaction R_G6PDH2_NAD are not part of the reaction substrates:\n",
      "{'m_nadp_c'}\n",
      "\n",
      "The following metabolites in the product order column for reaction R_G6PDH2_NAD are not part of the reaction products:\n",
      "{'m_nadph_c'}\n",
      "\n",
      "The following metabolites in the substrate order column for reaction R_G6PDH2_NADP are not part of the reaction substrates:\n",
      "{'m_nad_c'}\n",
      "\n",
      "The following metabolites in the product order column for reaction R_G6PDH2_NADP are not part of the reaction products:\n",
      "{'m_nadh_c'}\n",
      "\n",
      "The following metabolites in the substrate order column for reaction R_GND_NAD are not part of the reaction substrates:\n",
      "{'m_nadp_c'}\n",
      "\n",
      "The following metabolites in the product order column for reaction R_GND_NAD are not part of the reaction products:\n",
      "{'m_nadph_c'}\n",
      "\n",
      "The following metabolites in the substrate order column for reaction R_GND_NADP are not part of the reaction substrates:\n",
      "{'m_nad_c'}\n",
      "\n",
      "The following metabolites in the product order column for reaction R_GND_NADP are not part of the reaction products:\n",
      "{'m_nadh_c'}\n",
      "\n",
      "The following metabolites in the substrate order column for reaction R_GAPD_NAD are not part of the reaction substrates:\n",
      "{'m_nadp_c'}\n",
      "\n",
      "The following metabolites in the product order column for reaction R_GAPD_NAD are not part of the reaction products:\n",
      "{'m_nadph_c'}\n",
      "\n",
      "The following metabolites in the substrate order column for reaction R_GAPD_NADP are not part of the reaction substrates:\n",
      "{'m_nad_c'}\n",
      "\n",
      "The following metabolites in the product order column for reaction R_GAPD_NADP are not part of the reaction products:\n",
      "{'m_nadh_c'}\n",
      "\n",
      "The following metabolites in the substrate order column for reaction R_ME2_NADP are not part of the reaction substrates:\n",
      "{'m_nad_c'}\n",
      "\n",
      "The following metabolites in the product order column for reaction R_ME2_NADP are not part of the reaction products:\n",
      "{'m_nadh_c'}\n",
      "\n",
      "The following metabolites in the substrate order column for reaction R_ME2_NAD are not part of the reaction substrates:\n",
      "{'m_nadp_c'}\n",
      "\n",
      "The following metabolites in the product order column for reaction R_ME2_NAD are not part of the reaction products:\n",
      "{'m_nadph_c'}\n",
      "\n",
      "The following metabolites in the substrate order column for reaction R_MDH_NAD are not part of the reaction substrates:\n",
      "{'m_nadp_c'}\n",
      "\n",
      "The following metabolites in the product order column for reaction R_MDH_NAD are not part of the reaction products:\n",
      "{'m_nadph_c'}\n",
      "\n",
      "The following metabolites in the substrate order column for reaction R_MDH_NADP are not part of the reaction substrates:\n",
      "{'m_nad_c'}\n",
      "\n",
      "The following metabolites in the product order column for reaction R_MDH_NADP are not part of the reaction products:\n",
      "{'m_nadh_c'}\n",
      "\n",
      "The following metabolites in the substrate order column for reaction R_ICDHyr_NADP are not part of the reaction substrates:\n",
      "{'m_nad_c'}\n",
      "\n",
      "The following metabolites in the product order column for reaction R_ICDHyr_NADP are not part of the reaction products:\n",
      "{'m_nadh_c'}\n",
      "\n",
      "The following metabolites in the substrate order column for reaction R_ICDHyr_NAD are not part of the reaction substrates:\n",
      "{'m_nadp_c'}\n",
      "\n",
      "The following metabolites in the product order column for reaction R_ICDHyr_NAD are not part of the reaction products:\n",
      "{'m_nadph_c'}\n",
      "\n",
      "The following reaction substrates are not part of the substrate order column for reaction R_ACCOAC :\n",
      "{'m_hco3_c'}\n",
      "\n",
      "The following reaction products are not part of the product order column for reaction R_ACCOAC :\n",
      "{'m_pi_c'}\n",
      "\n",
      "The following reaction substrates are not part of the substrate order column for reaction R_KAS15 :\n",
      "{'m_malACP_c'}\n",
      "\n",
      "The following reaction products are not part of the product order column for reaction R_KAS15 :\n",
      "{'m_actACP_c'}\n",
      "\n",
      "The following reaction substrates are not part of the substrate order column for reaction R_MCOATA :\n",
      "{'m_ACP_c'}\n",
      "\n",
      "The following reaction products are not part of the product order column for reaction R_MCOATA :\n",
      "{'m_malACP_c'}\n",
      "\n",
      "\n",
      "Checking if non enzymatic mechanisms come only after enzymatic ones and if fixedExchange is the very last one.\n",
      "\n",
      "Everything seems to be OK.\n",
      "\n"
     ]
    }
   ],
   "source": [
    "model_name = 'putida_TCA_OP_reg_no_gth_fba'\n",
    "models_dir = '../../models'\n",
    "\n",
    "file_in = os.path.join(models_dir,f'{model_name}.xlsx')\n",
    "data_dict = pd.read_excel(file_in, sheet_name=None, index_col=0)\n",
    "full_model_check(data_dict)"
   ]
  },
  {
   "cell_type": "code",
   "execution_count": 85,
   "metadata": {
    "collapsed": true,
    "jupyter": {
     "outputs_hidden": true
    }
   },
   "outputs": [
    {
     "name": "stdin",
     "output_type": "stream",
     "text": [
      "No KEGG id was found for q8h2. If you know it, please insert it below,otherwise all reaction involving q8h2 will be ignored.\n",
      " \n"
     ]
    },
    {
     "name": "stdout",
     "output_type": "stream",
     "text": [
      "R_GLCabcpp: C00031 + C00002 + C00001 = C00031 + C00008 + C00009\n",
      "R_GLK: C00031 + C00002 = C00008 + C00092\n",
      "R_GLCNt2rpp: C00257 = C00257\n",
      "R_GNK: C00002 + C00257 = C00008 + C00345\n",
      "R_2DHGLCNkt_tpp: C06473 = C06473\n",
      "R_2DHGLCK: C00002 + C06473 = C00008 + C01218\n",
      "R_PGLCNDH_NAD: C01218 + C00004 = C00345 + C00003\n",
      "R_PGLCNDH_NADP: C01218 + C00005 = C00345 + C00006\n",
      "R_G6PDH2_NAD: C00092 + C00003 = C01236 + C00004\n",
      "R_G6PDH2_NADP: C00092 + C00006 = C01236 + C00005\n",
      "R_PGL: C01236 + C00001 = C00345\n",
      "R_GND_NAD: C00003 + C00345 = C00004 + C00011 + C00199\n",
      "R_GND_NADP: C00006 + C00345 = C00005 + C00011 + C00199\n",
      "R_RPI: C00199 = C00117\n",
      "R_RPE: C00199 = C00231\n",
      "R_TKT1: C00117 + C00231 = C00118 + C05382\n",
      "R_TALA: C00118 + C05382 = C00279 + C00085\n",
      "R_EDD: C00345 = C04442 + C00001\n",
      "R_EDA: C04442 = C00118 + C00022\n",
      "R_PGI: C00085 = C00092\n",
      "R_FBP: C00354 + C00001 = C00009 + C00085\n",
      "R_FBA: C00118 + C00111 = C00354\n",
      "R_TPI: C00118 = C00111\n",
      "R_GAPD_NAD: C00009 + C00003 + C00118 = C00004 + C00236\n",
      "R_GAPD_NADP: C00009 + C00006 + C00118 = C00005 + C00236\n",
      "R_PGK: C00008 + C00236 = C00002 + C00197\n",
      "R_PGM: C00197 = C00631\n",
      "R_ENO: C00631 = C00074 + C00001\n",
      "R_PYK: C00008 + C00074 = C00002 + C00022\n",
      "R_PDH: C00022 + C00010 + C00003 = C00011 + C00004 + C00024\n",
      "R_OAADC: C00022 + C00011 = C00036\n",
      "R_PPC: C00009 + C00036 = C00074 + C00011 + C00001\n",
      "R_ME2_NADP: C00006 + C00149 = C00022 + C00005 + C00011\n",
      "R_ME2_NAD: C00003 + C00149 = C00022 + C00004 + C00011\n",
      "R_MDH_NAD: C00003 + C00149 = C00036 + C00004\n",
      "R_MDH_NADP: C00006 + C00149 = C00036 + C00005\n",
      "R_FUM: C00122 + C00001 = C00149\n",
      "R_SUCOAS: C00009 + C00008 + C00091 = C00042 + C00002 + C00010\n",
      "R_AKGDH: C00003 + C00010 + C00026 = C00091 + C00004 + C00011\n",
      "R_ICDHyr_NADP: C00006 + C00311 = C00026 + C00011 + C00005\n",
      "R_ICDHyr_NAD: C00003 + C00311 = C00026 + C00011 + C00004\n",
      "R_ACONTa: C00158 = C00417 + C00001\n",
      "R_ACONTb: C00417 + C00001 = C00311\n",
      "R_CS_large: C00001 + C00024 + C00036 = C00158 + C00010\n"
     ]
    },
    {
     "name": "stderr",
     "output_type": "stream",
     "text": [
      "WARNING:root:cannot generate the reaction atom bag because compounds have unspecific formulas: Compound(id=23, inchi_key=ZSLZBFCDCINBPY-ZSJPKINUSA-J) + Compound(id=174, inchi_key=None) = Compound(id=15, inchi_key=RGJOEKWQDUBAIZ-IBOSZNHHSA-J) + Compound(id=16, inchi_key=CURLTUGMZLYLDI-UHFFFAOYSA-N) + Compound(id=1130, inchi_key=None)\n"
     ]
    },
    {
     "name": "stdout",
     "output_type": "stream",
     "text": [
      "R_CS_small: C00001 + C00024 + C00036 = C00158 + C00010\n",
      "R_ACCOAC: C00024 + C00002 + C00288 = C00008 + C00083 + C00009\n",
      "R_KAS15: C00024 + C01209 = C05744 + C00011 + C00010\n",
      "R_KAS15 is not balanced.\n"
     ]
    },
    {
     "name": "stderr",
     "output_type": "stream",
     "text": [
      "WARNING:root:cannot generate the reaction atom bag because compounds have unspecific formulas: Compound(id=42, inchi_key=LTYOQGRJFJAKNA-DVVLENMVSA-I) + Compound(id=858, inchi_key=None) = Compound(id=15, inchi_key=RGJOEKWQDUBAIZ-IBOSZNHHSA-J) + Compound(id=174, inchi_key=None)\n"
     ]
    },
    {
     "name": "stdout",
     "output_type": "stream",
     "text": [
      "Couldn't find a dG value for R_KAS15\n",
      "R_MCOATA: C00229 + C00083 = C00010 + C01209\n",
      "R_MCOATA is not balanced.\n",
      "Couldn't find a dG value for R_MCOATA\n",
      "R_AXPr: C00002 = C00008 + C00009\n",
      "R_AXPr is not balanced.\n",
      "R_NADHr: C00004 = C00003\n",
      "R_NADHr is not balanced.\n",
      "R_NADPHr: C00005 = C00006\n",
      "R_NADPHr is not balanced.\n",
      "R_ACCOAr: 3.0 C00024 = C00010\n",
      "R_ACCOAr is not balanced.\n",
      "R_GLCtex: C00031 = C00031\n",
      "                 average  stdev      min      max\n",
      "R_GLCabcpp        -26.39   0.31   -27.01   -25.77\n",
      "R_GLK             -17.27   0.44   -18.15   -16.39\n",
      "R_GLCNt2rpp         0.00   0.00     0.00     0.00\n",
      "R_GNK             -10.03   3.27   -16.57    -3.49\n",
      "R_2DHGLCNkt_tpp     0.00   0.00     0.00     0.00\n",
      "R_2DHGLCK         -11.80   3.53   -18.86    -4.74\n",
      "R_PGLCNDH_NAD     -16.77   1.91   -20.59   -12.95\n",
      "R_PGLCNDH_NADP    -17.58   1.94   -21.46   -13.70\n",
      "R_G6PDH2_NAD       -3.17   1.38    -5.93    -0.41\n",
      "R_G6PDH2_NADP      -2.37   1.35    -5.07     0.33\n",
      "R_PGL             -21.07   1.69   -24.45   -17.69\n",
      "R_GND_NAD          10.27   3.23     3.81    16.73\n",
      "R_GND_NADP         11.08   3.24     4.60    17.56\n",
      "R_RPI              -1.92   0.78    -3.48    -0.36\n",
      "R_RPE              -3.37   1.18    -5.73    -1.01\n",
      "R_TKT1             -3.89   1.96    -7.81     0.03\n",
      "R_TALA             -0.61   1.44    -3.49     2.27\n",
      "R_EDD             -42.98   2.62   -48.22   -37.74\n",
      "R_EDA              15.53   2.11    11.31    19.75\n",
      "R_PGI              -2.52   0.39    -3.30    -1.74\n",
      "R_FBP             -11.44   0.71   -12.86   -10.02\n",
      "R_FBA             -19.80   0.54   -20.88   -18.72\n",
      "R_TPI              -5.46   0.56    -6.58    -4.34\n",
      "R_GAPD_NAD          7.82   0.41     7.00     8.64\n",
      "R_GAPD_NADP         8.63   0.53     7.57     9.69\n",
      "R_PGK             -18.45   0.45   -19.35   -17.55\n",
      "R_PGM               4.23   0.37     3.49     4.97\n",
      "R_ENO              -4.09   0.31    -4.71    -3.47\n",
      "R_PYK             -27.65   0.43   -28.51   -26.79\n",
      "R_PDH             -35.00   3.28   -41.56   -28.44\n",
      "R_OAADC            17.37   3.18    11.01    23.73\n",
      "R_PPC              36.67   3.17    30.33    43.01\n",
      "R_ME2_NADP         13.94   3.20     7.54    20.34\n",
      "R_ME2_NAD          13.13   3.18     6.77    19.49\n",
      "R_MDH_NAD          30.51   0.31    29.89    31.13\n",
      "R_MDH_NADP         31.32   0.45    30.42    32.22\n",
      "R_FUM              -3.44   0.28    -4.00    -2.88\n",
      "R_SUCOAS            1.86   1.36    -0.86     4.58\n",
      "R_AKGDH           -27.38   3.96   -35.30   -19.46\n",
      "R_ICDHyr_NADP       6.36   3.25    -0.14    12.86\n",
      "R_ICDHyr_NAD        5.55   3.25    -0.95    12.05\n",
      "R_ACONTa            8.33   1.16     6.01    10.65\n",
      "R_ACONTb           -0.70   1.16    -3.02     1.62\n",
      "R_CS_large        -34.83   0.45   -35.73   -33.93\n",
      "R_CS_small        -34.83   0.45   -35.73   -33.93\n",
      "R_ACCOAC           -3.02   1.51    -6.04     0.00\n",
      "R_KAS15             0.00   0.00     0.00     0.00\n",
      "R_MCOATA            0.00   0.00     0.00     0.00\n",
      "R_AXPr           -183.85   0.80  -185.45  -182.25\n",
      "R_NADHr           -64.27   0.56   -65.39   -63.15\n",
      "R_NADPHr          -65.08   0.61   -66.30   -63.86\n",
      "R_ACCOAr         3778.03  15.61  3746.81  3809.25\n",
      "R_GLCtex            0.00   0.00     0.00     0.00\n"
     ]
    }
   ],
   "source": [
    "model_name = 'putida_TCA_OP_reg_no_gth_fba'\n",
    "models_dir = '../../models'\n",
    "data_dir = '../../data/omics'\n",
    "\n",
    "file_in_stoic = os.path.join(models_dir, 'putida_TCA_OP_reg_no_gth_fba.txt')\n",
    "file_in_metabolomics = os.path.join(data_dir, 'P. putida wt Glucose.xlsx')\n",
    "file_in_meas_fluxes = os.path.join(data_dir, 'fba_flux.xlsx')\n",
    "base_excel_file = os.path.join(models_dir, 'putida_TCA_OP_reg_no_gth_fba_backup.xlsx')\n",
    "\n",
    "file_out = os.path.join(models_dir, f'{model_name}.xlsx')\n",
    "\n",
    "set_up_model(model_name, file_in_stoic, base_excel_file, file_out, \n",
    "             use_equilibrator=True, file_in_mets_conc=file_in_metabolomics, mets_orient='columns',\n",
    "             file_in_meas_fluxes=file_in_meas_fluxes, fluxes_orient='rows')"
   ]
  },
  {
   "cell_type": "code",
   "execution_count": 6,
   "metadata": {},
   "outputs": [
    {
     "name": "stdout",
     "output_type": "stream",
     "text": [
      "\n",
      "Checking if values are separated by a space in the kinetics sheet in columns order, promiscuous, inhibitors, activators, negative effector, and positive effector.\n",
      "It looks for dots, commas, and semi-colons.\n",
      "\n",
      "Everything seems to be OK.\n",
      "\n",
      "\n",
      "Checking if the order of reactions and metabolites is the same in all excel sheets.\n",
      "\n",
      "Everything seems to be OK.\n",
      "\n",
      "\n",
      "Checking if metabolites are both consumed and produced in the stoichiometric matrix, and if so checks if they are marked as balanced in the mets sheet. However, the metabolite might be balanced/not balanced anyways depending on the flux of the reactions that consume/produce it, so take this with a grain of salt.\n",
      "\n",
      "m_h2o_c is marked as not balanced but it seems to be balanced.\n",
      "m_pi_c is marked as not balanced but it seems to be balanced.\n",
      "m_co2_c is marked as not balanced but it seems to be balanced.\n",
      "m_malACP_c is marked as not balanced but it seems to be balanced.\n",
      "m_o2_c is not set as constant but maybe it should, since it does not seem to be balanced.\n",
      "\n",
      "Checking if fluxes and Gibbs energies are compatible.\n",
      "\n",
      "The flux and ∆G range seem to be incompatible for reaction R_PGI\n",
      "The flux and ∆G range seem to be incompatible for reaction R_FBA\n",
      "The flux and ∆G range seem to be incompatible for reaction R_TPI\n",
      "The flux and ∆G range seem to be incompatible for reaction R_ENO\n",
      "The flux and ∆G range seem to be incompatible for reaction R_OAADC\n",
      "The flux and ∆G range seem to be incompatible for reaction R_MDH_NAD\n",
      "The flux and ∆G range seem to be incompatible for reaction R_MDH_NADP\n",
      "The flux and ∆G range seem to be incompatible for reaction R_SUCOAS\n",
      "The flux and ∆G range seem to be incompatible for reaction R_MCOATA\n",
      "The flux and ∆G range seem to be incompatible for reaction R_ACCOAr\n",
      "\n",
      "Checking if the fluxes for each metabolite production/consumptions add up to zero.\n",
      "\n",
      "Everything seems to be OK.\n",
      "\n",
      "Checking if the metabolite names in the substrate and product order columns in the kinetics sheet are valid, i.e., if they are indeed substrates and products of the respective reaction.\n",
      "\n",
      "The following metabolites in the substrate order column for reaction R_PGLCNDH_NAD are not part of the reaction substrates:\n",
      "{'m_nadph_c'}\n",
      "\n",
      "The following metabolites in the product order column for reaction R_PGLCNDH_NAD are not part of the reaction products:\n",
      "{'m_nadp_c'}\n",
      "\n",
      "The following metabolites in the substrate order column for reaction R_PGLCNDH_NADP are not part of the reaction substrates:\n",
      "{'m_nadh_c'}\n",
      "\n",
      "The following metabolites in the product order column for reaction R_PGLCNDH_NADP are not part of the reaction products:\n",
      "{'m_nad_c'}\n",
      "\n",
      "The following metabolites in the substrate order column for reaction R_G6PDH2_NAD are not part of the reaction substrates:\n",
      "{'m_nadp_c'}\n",
      "\n",
      "The following metabolites in the product order column for reaction R_G6PDH2_NAD are not part of the reaction products:\n",
      "{'m_nadph_c'}\n",
      "\n",
      "The following metabolites in the substrate order column for reaction R_G6PDH2_NADP are not part of the reaction substrates:\n",
      "{'m_nad_c'}\n",
      "\n",
      "The following metabolites in the product order column for reaction R_G6PDH2_NADP are not part of the reaction products:\n",
      "{'m_nadh_c'}\n",
      "\n",
      "The following metabolites in the substrate order column for reaction R_GND_NAD are not part of the reaction substrates:\n",
      "{'m_nadp_c'}\n",
      "\n",
      "The following metabolites in the product order column for reaction R_GND_NAD are not part of the reaction products:\n",
      "{'m_nadph_c'}\n",
      "\n",
      "The following metabolites in the substrate order column for reaction R_GND_NADP are not part of the reaction substrates:\n",
      "{'m_nad_c'}\n",
      "\n",
      "The following metabolites in the product order column for reaction R_GND_NADP are not part of the reaction products:\n",
      "{'m_nadh_c'}\n",
      "\n",
      "The following metabolites in the substrate order column for reaction R_GAPD_NAD are not part of the reaction substrates:\n",
      "{'m_nadp_c'}\n",
      "\n",
      "The following metabolites in the product order column for reaction R_GAPD_NAD are not part of the reaction products:\n",
      "{'m_nadph_c'}\n",
      "\n",
      "The following metabolites in the substrate order column for reaction R_GAPD_NADP are not part of the reaction substrates:\n",
      "{'m_nad_c'}\n",
      "\n",
      "The following metabolites in the product order column for reaction R_GAPD_NADP are not part of the reaction products:\n",
      "{'m_nadh_c'}\n",
      "\n",
      "The following metabolites in the substrate order column for reaction R_ME2_NADP are not part of the reaction substrates:\n",
      "{'m_nad_c'}\n",
      "\n",
      "The following metabolites in the product order column for reaction R_ME2_NADP are not part of the reaction products:\n",
      "{'m_nadh_c'}\n",
      "\n",
      "The following metabolites in the substrate order column for reaction R_ME2_NAD are not part of the reaction substrates:\n",
      "{'m_nadp_c'}\n",
      "\n",
      "The following metabolites in the product order column for reaction R_ME2_NAD are not part of the reaction products:\n",
      "{'m_nadph_c'}\n",
      "\n",
      "The following metabolites in the substrate order column for reaction R_MDH_NAD are not part of the reaction substrates:\n",
      "{'m_nadp_c'}\n",
      "\n",
      "The following metabolites in the product order column for reaction R_MDH_NAD are not part of the reaction products:\n",
      "{'m_nadph_c'}\n",
      "\n",
      "The following metabolites in the substrate order column for reaction R_MDH_NADP are not part of the reaction substrates:\n",
      "{'m_nad_c'}\n",
      "\n",
      "The following metabolites in the product order column for reaction R_MDH_NADP are not part of the reaction products:\n",
      "{'m_nadh_c'}\n",
      "\n",
      "The following metabolites in the substrate order column for reaction R_ICDHyr_NADP are not part of the reaction substrates:\n",
      "{'m_nad_c'}\n",
      "\n",
      "The following metabolites in the product order column for reaction R_ICDHyr_NADP are not part of the reaction products:\n",
      "{'m_nadh_c'}\n",
      "\n",
      "The following metabolites in the substrate order column for reaction R_ICDHyr_NAD are not part of the reaction substrates:\n",
      "{'m_nadp_c'}\n",
      "\n",
      "The following metabolites in the product order column for reaction R_ICDHyr_NAD are not part of the reaction products:\n",
      "{'m_nadph_c'}\n",
      "\n",
      "The following reaction substrates are not part of the substrate order column for reaction R_ACCOAC :\n",
      "{'m_hco3_c'}\n",
      "\n",
      "The following reaction products are not part of the product order column for reaction R_ACCOAC :\n",
      "{'m_pi_c'}\n",
      "\n",
      "The following reaction substrates are not part of the substrate order column for reaction R_KAS15 :\n",
      "{'m_malACP_c'}\n",
      "\n",
      "The following reaction products are not part of the product order column for reaction R_KAS15 :\n",
      "{'m_actACP_c'}\n",
      "\n",
      "The following reaction substrates are not part of the substrate order column for reaction R_MCOATA :\n",
      "{'m_ACP_c'}\n",
      "\n",
      "The following reaction products are not part of the product order column for reaction R_MCOATA :\n",
      "{'m_malACP_c'}\n",
      "\n",
      "\n",
      "Checking if non enzymatic mechanisms come only after enzymatic ones and if fixedExchange is the very last one.\n",
      "\n",
      "Everything seems to be OK.\n",
      "\n"
     ]
    }
   ],
   "source": [
    "model_name = 'putida_TCA_OP_reg_no_gth_fba'\n",
    "models_dir = '../../models'\n",
    "\n",
    "file_in = os.path.join(models_dir,f'{model_name}.xlsx')\n",
    "data_dict = pd.read_excel(file_in, sheet_name=None, index_col=0)\n",
    "full_model_check(data_dict)"
   ]
  },
  {
   "cell_type": "code",
   "execution_count": 8,
   "metadata": {},
   "outputs": [
    {
     "name": "stdout",
     "output_type": "stream",
     "text": [
      "\n",
      "Checking if fluxes and Gibbs energies are compatible.\n",
      "\n",
      "The flux and ∆G range seem to be incompatible for reaction R_PGI\n",
      "The flux and ∆G range seem to be incompatible for reaction R_FBA\n",
      "The flux and ∆G range seem to be incompatible for reaction R_TPI\n",
      "The flux and ∆G range seem to be incompatible for reaction R_ENO\n",
      "The flux and ∆G range seem to be incompatible for reaction R_OAADC\n",
      "The flux and ∆G range seem to be incompatible for reaction R_MDH_NAD\n",
      "The flux and ∆G range seem to be incompatible for reaction R_MDH_NADP\n",
      "The flux and ∆G range seem to be incompatible for reaction R_SUCOAS\n",
      "The flux and ∆G range seem to be incompatible for reaction R_MCOATA\n",
      "The flux and ∆G range seem to be incompatible for reaction R_ACCOAr\n"
     ]
    },
    {
     "data": {
      "application/vnd.vegalite.v3+json": {
       "$schema": "https://vega.github.io/schema/vega-lite/v3.4.0.json",
       "config": {
        "mark": {
         "tooltip": null
        },
        "view": {
         "height": 300,
         "width": 400
        }
       },
       "datasets": {
        "data-026cce113e7c79705aaf8d9a3a0b2f9d": [
         {
          "flux": 450,
          "flux_max": 495,
          "flux_min": 405,
          "rxn": "R_GLCabcpp",
          "vref_mean (mmol/L/h)": 450,
          "vref_mean (mmol/L/h).1": 450,
          "vref_std (mmol/L/h)": 45,
          "vref_std (mmol/L/h).1": 45
         },
         {
          "flux": 450,
          "flux_max": 495,
          "flux_min": 405,
          "rxn": "R_GLK",
          "vref_mean (mmol/L/h)": 450,
          "vref_mean (mmol/L/h).1": 450,
          "vref_std (mmol/L/h)": 45,
          "vref_std (mmol/L/h).1": 45
         },
         {
          "flux": 3639,
          "flux_max": 4002.9,
          "flux_min": 3275.1,
          "rxn": "R_GLCNt2rpp",
          "vref_mean (mmol/L/h)": 3639,
          "vref_mean (mmol/L/h).1": 3639,
          "vref_std (mmol/L/h)": 363.9,
          "vref_std (mmol/L/h).1": 363.9
         },
         {
          "flux": 3639,
          "flux_max": 4002.9,
          "flux_min": 3275.1,
          "rxn": "R_GNK",
          "vref_mean (mmol/L/h)": 3639,
          "vref_mean (mmol/L/h).1": 3639,
          "vref_std (mmol/L/h)": 363.9,
          "vref_std (mmol/L/h).1": 363.9
         },
         {
          "flux": 595,
          "flux_max": 654.5,
          "flux_min": 535.5,
          "rxn": "R_2DHGLCNkt_tpp",
          "vref_mean (mmol/L/h)": 595,
          "vref_mean (mmol/L/h).1": 595,
          "vref_std (mmol/L/h)": 59.5,
          "vref_std (mmol/L/h).1": 59.5
         },
         {
          "flux": 595,
          "flux_max": 654.5,
          "flux_min": 535.5,
          "rxn": "R_2DHGLCK",
          "vref_mean (mmol/L/h)": 595,
          "vref_mean (mmol/L/h).1": 595,
          "vref_std (mmol/L/h)": 59.5,
          "vref_std (mmol/L/h).1": 59.5
         },
         {
          "flux": 61,
          "flux_max": 67.1,
          "flux_min": 54.9,
          "rxn": "R_PGLCNDH_NAD",
          "vref_mean (mmol/L/h)": 61,
          "vref_mean (mmol/L/h).1": 61,
          "vref_std (mmol/L/h)": 6.1,
          "vref_std (mmol/L/h).1": 6.1
         },
         {
          "flux": 534,
          "flux_max": 587.4,
          "flux_min": 480.6,
          "rxn": "R_PGLCNDH_NADP",
          "vref_mean (mmol/L/h)": 534,
          "vref_mean (mmol/L/h).1": 534,
          "vref_std (mmol/L/h)": 53.4,
          "vref_std (mmol/L/h).1": 53.4
         },
         {
          "flux": 4234,
          "flux_max": 4657.4,
          "flux_min": 3810.6,
          "rxn": "R_GLCDpp",
          "vref_mean (mmol/L/h)": 4234,
          "vref_mean (mmol/L/h).1": 4234,
          "vref_std (mmol/L/h)": 423.4,
          "vref_std (mmol/L/h).1": 423.4
         },
         {
          "flux": 595,
          "flux_max": 654.5,
          "flux_min": 535.5,
          "rxn": "R_GAD2ktpp",
          "vref_mean (mmol/L/h)": 595,
          "vref_mean (mmol/L/h).1": 595,
          "vref_std (mmol/L/h)": 59.5,
          "vref_std (mmol/L/h).1": 59.5
         },
         {
          "flux": 55,
          "flux_max": 60.5,
          "flux_min": 49.5,
          "rxn": "R_G6PDH2_NAD",
          "vref_mean (mmol/L/h)": 55,
          "vref_mean (mmol/L/h).1": 55,
          "vref_std (mmol/L/h)": 5.5,
          "vref_std (mmol/L/h).1": 5.5
         },
         {
          "flux": 837,
          "flux_max": 920.7,
          "flux_min": 753.3,
          "rxn": "R_G6PDH2_NADP",
          "vref_mean (mmol/L/h)": 837,
          "vref_mean (mmol/L/h).1": 837,
          "vref_std (mmol/L/h)": 83.7,
          "vref_std (mmol/L/h).1": 83.7
         },
         {
          "flux": 892,
          "flux_max": 981.2,
          "flux_min": 802.8,
          "rxn": "R_PGL",
          "vref_mean (mmol/L/h)": 892,
          "vref_mean (mmol/L/h).1": 892,
          "vref_std (mmol/L/h)": 89.2,
          "vref_std (mmol/L/h).1": 89.2
         },
         {
          "flux": 41,
          "flux_max": 45.1,
          "flux_min": 36.9,
          "rxn": "R_GND_NAD",
          "vref_mean (mmol/L/h)": 41,
          "vref_mean (mmol/L/h).1": 41,
          "vref_std (mmol/L/h)": 4.1,
          "vref_std (mmol/L/h).1": 4.1
         },
         {
          "flux": 432,
          "flux_max": 475.2,
          "flux_min": 388.8,
          "rxn": "R_GND_NADP",
          "vref_mean (mmol/L/h)": 432,
          "vref_mean (mmol/L/h).1": 432,
          "vref_std (mmol/L/h)": 43.2,
          "vref_std (mmol/L/h).1": 43.2
         },
         {
          "flux": 357,
          "flux_max": 392.7,
          "flux_min": 321.3,
          "rxn": "R_RPI",
          "vref_mean (mmol/L/h)": 357,
          "vref_mean (mmol/L/h).1": 357,
          "vref_std (mmol/L/h)": 35.7,
          "vref_std (mmol/L/h).1": 35.7
         },
         {
          "flux": 111,
          "flux_max": 122.1,
          "flux_min": 99.9,
          "rxn": "R_RPE",
          "vref_mean (mmol/L/h)": 111,
          "vref_mean (mmol/L/h).1": 111,
          "vref_std (mmol/L/h)": 11.1,
          "vref_std (mmol/L/h).1": 11.1
         },
         {
          "flux": 111,
          "flux_max": 122.1,
          "flux_min": 99.9,
          "rxn": "R_TKT1",
          "vref_mean (mmol/L/h)": 111,
          "vref_mean (mmol/L/h).1": 111,
          "vref_std (mmol/L/h)": 11.1,
          "vref_std (mmol/L/h).1": 11.1
         },
         {
          "flux": 107,
          "flux_max": 117.7,
          "flux_min": 96.3,
          "rxn": "R_TALA",
          "vref_mean (mmol/L/h)": 107,
          "vref_mean (mmol/L/h).1": 107,
          "vref_std (mmol/L/h)": 10.7,
          "vref_std (mmol/L/h).1": 10.7
         },
         {
          "flux": 4653,
          "flux_max": 5118.3,
          "flux_min": 4187.7,
          "rxn": "R_EDD",
          "vref_mean (mmol/L/h)": 4653,
          "vref_mean (mmol/L/h).1": 4653,
          "vref_std (mmol/L/h)": 465.3,
          "vref_std (mmol/L/h).1": 465.3
         },
         {
          "flux": 4653,
          "flux_max": 5118.3,
          "flux_min": 4187.7,
          "rxn": "R_EDA",
          "vref_mean (mmol/L/h)": 4653,
          "vref_mean (mmol/L/h).1": 4653,
          "vref_std (mmol/L/h)": 465.3,
          "vref_std (mmol/L/h).1": 465.3
         },
         {
          "flux": 460,
          "flux_max": 506,
          "flux_min": 414,
          "rxn": "R_PGI",
          "vref_mean (mmol/L/h)": 460,
          "vref_mean (mmol/L/h).1": 460,
          "vref_std (mmol/L/h)": 46,
          "vref_std (mmol/L/h).1": 46
         },
         {
          "flux": 374,
          "flux_max": 411.4,
          "flux_min": 336.6,
          "rxn": "R_FBP",
          "vref_mean (mmol/L/h)": 374,
          "vref_mean (mmol/L/h).1": 374,
          "vref_std (mmol/L/h)": 37.4,
          "vref_std (mmol/L/h).1": 37.4
         },
         {
          "flux": 374,
          "flux_max": 411.4,
          "flux_min": 336.6,
          "rxn": "R_FBA",
          "vref_mean (mmol/L/h)": 374,
          "vref_mean (mmol/L/h).1": 374,
          "vref_std (mmol/L/h)": 37.4,
          "vref_std (mmol/L/h).1": 37.4
         },
         {
          "flux": 374,
          "flux_max": 411.4,
          "flux_min": 336.6,
          "rxn": "R_TPI",
          "vref_mean (mmol/L/h)": 374,
          "vref_mean (mmol/L/h).1": 374,
          "vref_std (mmol/L/h)": 37.4,
          "vref_std (mmol/L/h).1": 37.4
         },
         {
          "flux": 2625,
          "flux_max": 2887.5,
          "flux_min": 2362.5,
          "rxn": "R_GAPD_NAD",
          "vref_mean (mmol/L/h)": 2625,
          "vref_mean (mmol/L/h).1": 2625,
          "vref_std (mmol/L/h)": 262.5,
          "vref_std (mmol/L/h).1": 262.5
         },
         {
          "flux": 1304,
          "flux_max": 1434.4,
          "flux_min": 1173.6,
          "rxn": "R_GAPD_NADP",
          "vref_mean (mmol/L/h)": 1304,
          "vref_mean (mmol/L/h).1": 1304,
          "vref_std (mmol/L/h)": 130.4,
          "vref_std (mmol/L/h).1": 130.4
         },
         {
          "flux": 3929,
          "flux_max": 4321.9,
          "flux_min": 3536.1,
          "rxn": "R_PGK",
          "vref_mean (mmol/L/h)": 3929,
          "vref_mean (mmol/L/h).1": 3929,
          "vref_std (mmol/L/h)": 392.9,
          "vref_std (mmol/L/h).1": 392.9
         },
         {
          "flux": 3379,
          "flux_max": 3716.9,
          "flux_min": 3041.1,
          "rxn": "R_PGM",
          "vref_mean (mmol/L/h)": 3379,
          "vref_mean (mmol/L/h).1": 3379,
          "vref_std (mmol/L/h)": 337.9,
          "vref_std (mmol/L/h).1": 337.9
         },
         {
          "flux": 3379,
          "flux_max": 3716.9,
          "flux_min": 3041.1,
          "rxn": "R_ENO",
          "vref_mean (mmol/L/h)": 3379,
          "vref_mean (mmol/L/h).1": 3379,
          "vref_std (mmol/L/h)": 337.9,
          "vref_std (mmol/L/h).1": 337.9
         },
         {
          "flux": 3029,
          "flux_max": 3331.9,
          "flux_min": 2726.1,
          "rxn": "R_PYK",
          "vref_mean (mmol/L/h)": 3029,
          "vref_mean (mmol/L/h).1": 3029,
          "vref_std (mmol/L/h)": 302.9,
          "vref_std (mmol/L/h).1": 302.9
         },
         {
          "flux": 4951,
          "flux_max": 5446.1,
          "flux_min": 4455.9,
          "rxn": "R_PDH",
          "vref_mean (mmol/L/h)": 4951,
          "vref_mean (mmol/L/h).1": 4951,
          "vref_std (mmol/L/h)": 495.1,
          "vref_std (mmol/L/h).1": 495.1
         },
         {
          "flux": 3502,
          "flux_max": 3852.2,
          "flux_min": 3151.8,
          "rxn": "R_OAADC",
          "vref_mean (mmol/L/h)": 3502,
          "vref_mean (mmol/L/h).1": 3502,
          "vref_std (mmol/L/h)": 350.2,
          "vref_std (mmol/L/h).1": 350.2
         },
         {
          "flux": 15,
          "flux_max": 16.5,
          "flux_min": 13.5,
          "rxn": "R_PPC",
          "vref_mean (mmol/L/h)": 15,
          "vref_mean (mmol/L/h).1": 15,
          "vref_std (mmol/L/h)": 1.5,
          "vref_std (mmol/L/h).1": 1.5
         },
         {
          "flux": 1848,
          "flux_max": 2032.8,
          "flux_min": 1663.2,
          "rxn": "R_ME2_NADP",
          "vref_mean (mmol/L/h)": 1848,
          "vref_mean (mmol/L/h).1": 1848,
          "vref_std (mmol/L/h)": 184.8,
          "vref_std (mmol/L/h).1": 184.8
         },
         {
          "flux": 67,
          "flux_max": 73.7,
          "flux_min": 60.3,
          "rxn": "R_ME2_NAD",
          "vref_mean (mmol/L/h)": 67,
          "vref_mean (mmol/L/h).1": 67,
          "vref_std (mmol/L/h)": 6.7,
          "vref_std (mmol/L/h).1": 6.7
         },
         {
          "flux": 1413,
          "flux_max": 1554.3,
          "flux_min": 1271.7,
          "rxn": "R_MDH_NAD",
          "vref_mean (mmol/L/h)": 1413,
          "vref_mean (mmol/L/h).1": 1413,
          "vref_std (mmol/L/h)": 141.3,
          "vref_std (mmol/L/h).1": 141.3
         },
         {
          "flux": 36,
          "flux_max": 39.6,
          "flux_min": 32.4,
          "rxn": "R_MDH_NADP",
          "vref_mean (mmol/L/h)": 36,
          "vref_mean (mmol/L/h).1": 36,
          "vref_std (mmol/L/h)": 3.6,
          "vref_std (mmol/L/h).1": 3.6
         },
         {
          "flux": 3761,
          "flux_max": 4137.1,
          "flux_min": 3384.9,
          "rxn": "R_FUM",
          "vref_mean (mmol/L/h)": 3761,
          "vref_mean (mmol/L/h).1": 3761,
          "vref_std (mmol/L/h)": 376.1,
          "vref_std (mmol/L/h).1": 376.1
         },
         {
          "flux": 3568,
          "flux_max": 3924.8,
          "flux_min": 3211.2,
          "rxn": "R_SUCDi",
          "vref_mean (mmol/L/h)": 3568,
          "vref_mean (mmol/L/h).1": 3568,
          "vref_std (mmol/L/h)": 356.8,
          "vref_std (mmol/L/h).1": 356.8
         },
         {
          "flux": 3761,
          "flux_max": 4137.1,
          "flux_min": 3384.9,
          "rxn": "R_SUCOAS",
          "vref_mean (mmol/L/h)": 3761,
          "vref_mean (mmol/L/h).1": 3761,
          "vref_std (mmol/L/h)": 376.1,
          "vref_std (mmol/L/h).1": 376.1
         },
         {
          "flux": 3501,
          "flux_max": 3848.8,
          "flux_min": 3153.2,
          "rxn": "R_AKGDH",
          "vref_mean (mmol/L/h)": 3501,
          "vref_mean (mmol/L/h).1": 3501,
          "vref_std (mmol/L/h)": 347.8,
          "vref_std (mmol/L/h).1": 347.8
         },
         {
          "flux": 3547,
          "flux_max": 3901.7,
          "flux_min": 3192.3,
          "rxn": "R_ICDHyr_NADP",
          "vref_mean (mmol/L/h)": 3547,
          "vref_mean (mmol/L/h).1": 3547,
          "vref_std (mmol/L/h)": 354.7,
          "vref_std (mmol/L/h).1": 354.7
         },
         {
          "flux": 443,
          "flux_max": 487.3,
          "flux_min": 398.7,
          "rxn": "R_ICDHyr_NAD",
          "vref_mean (mmol/L/h)": 443,
          "vref_mean (mmol/L/h).1": 443,
          "vref_std (mmol/L/h)": 44.3,
          "vref_std (mmol/L/h).1": 44.3
         },
         {
          "flux": 3990,
          "flux_max": 4389,
          "flux_min": 3591,
          "rxn": "R_ACONTa",
          "vref_mean (mmol/L/h)": 3990,
          "vref_mean (mmol/L/h).1": 3990,
          "vref_std (mmol/L/h)": 399,
          "vref_std (mmol/L/h).1": 399
         },
         {
          "flux": 3990,
          "flux_max": 4389,
          "flux_min": 3591,
          "rxn": "R_ACONTb",
          "vref_mean (mmol/L/h)": 3990,
          "vref_mean (mmol/L/h).1": 3990,
          "vref_std (mmol/L/h)": 399,
          "vref_std (mmol/L/h).1": 399
         },
         {
          "flux": 3112,
          "flux_max": 3423.2,
          "flux_min": 2800.8,
          "rxn": "R_CS_large",
          "vref_mean (mmol/L/h)": 3112,
          "vref_mean (mmol/L/h).1": 3112,
          "vref_std (mmol/L/h)": 311.2,
          "vref_std (mmol/L/h).1": 311.2
         },
         {
          "flux": 878,
          "flux_max": 965.8,
          "flux_min": 790.2,
          "rxn": "R_CS_small",
          "vref_mean (mmol/L/h)": 878,
          "vref_mean (mmol/L/h).1": 878,
          "vref_std (mmol/L/h)": 87.8,
          "vref_std (mmol/L/h).1": 87.8
         },
         {
          "flux": 498,
          "flux_max": 547.8,
          "flux_min": 448.2,
          "rxn": "R_ACCOAC",
          "vref_mean (mmol/L/h)": 498,
          "vref_mean (mmol/L/h).1": 498,
          "vref_std (mmol/L/h)": 49.8,
          "vref_std (mmol/L/h).1": 49.8
         },
         {
          "flux": 73,
          "flux_max": 80.3,
          "flux_min": 65.7,
          "rxn": "R_KAS15",
          "vref_mean (mmol/L/h)": 73,
          "vref_mean (mmol/L/h).1": 73,
          "vref_std (mmol/L/h)": 7.3,
          "vref_std (mmol/L/h).1": 7.3
         },
         {
          "flux": 498,
          "flux_max": 547.8,
          "flux_min": 448.2,
          "rxn": "R_MCOATA",
          "vref_mean (mmol/L/h)": 498,
          "vref_mean (mmol/L/h).1": 498,
          "vref_std (mmol/L/h)": 49.8,
          "vref_std (mmol/L/h).1": 49.8
         },
         {
          "flux": 2998,
          "flux_max": 3297.8,
          "flux_min": 2698.2,
          "rxn": "R_OPNAD",
          "vref_mean (mmol/L/h)": 2998,
          "vref_mean (mmol/L/h).1": 2998,
          "vref_std (mmol/L/h)": 299.8,
          "vref_std (mmol/L/h).1": 299.8
         },
         {
          "flux": 7315,
          "flux_max": 8046.5,
          "flux_min": 6583.5,
          "rxn": "R_OPQ8",
          "vref_mean (mmol/L/h)": 7315,
          "vref_mean (mmol/L/h).1": 7315,
          "vref_std (mmol/L/h)": 731.5,
          "vref_std (mmol/L/h).1": 731.5
         },
         {
          "flux": 24423.875,
          "flux_max": 26866.2625,
          "flux_min": 21981.4875,
          "rxn": "R_AXPr",
          "vref_mean (mmol/L/h)": 24423.875,
          "vref_mean (mmol/L/h).1": 24423.875,
          "vref_std (mmol/L/h)": 2442.3875,
          "vref_std (mmol/L/h).1": 2442.3875
         },
         {
          "flux": 10037,
          "flux_max": 11040.7,
          "flux_min": 9033.3,
          "rxn": "R_NADHr",
          "vref_mean (mmol/L/h)": 10037,
          "vref_mean (mmol/L/h).1": 10037,
          "vref_std (mmol/L/h)": 1003.7,
          "vref_std (mmol/L/h).1": 1003.7
         },
         {
          "flux": 7470,
          "flux_max": 8217,
          "flux_min": 6723,
          "rxn": "R_NADPHr",
          "vref_mean (mmol/L/h)": 7470,
          "vref_mean (mmol/L/h).1": 7470,
          "vref_std (mmol/L/h)": 747,
          "vref_std (mmol/L/h).1": 747
         },
         {
          "flux": 130,
          "flux_max": 143,
          "flux_min": 117,
          "rxn": "R_ACCOAr",
          "vref_mean (mmol/L/h)": 130,
          "vref_mean (mmol/L/h).1": 130,
          "vref_std (mmol/L/h)": 13,
          "vref_std (mmol/L/h).1": 13
         },
         {
          "flux": 4080,
          "flux_max": 4488,
          "flux_min": 3672,
          "rxn": "R_Q8H2r",
          "vref_mean (mmol/L/h)": 4080,
          "vref_mean (mmol/L/h).1": 4080,
          "vref_std (mmol/L/h)": 408,
          "vref_std (mmol/L/h).1": 408
         },
         {
          "flux": 4684,
          "flux_max": 5152.4,
          "flux_min": 4215.6,
          "rxn": "R_GLCtex",
          "vref_mean (mmol/L/h)": 4684,
          "vref_mean (mmol/L/h).1": 4684,
          "vref_std (mmol/L/h)": 468.4,
          "vref_std (mmol/L/h).1": 468.4
         },
         {
          "flux": 1144,
          "flux_max": 1258.4,
          "flux_min": 1029.6,
          "rxn": "R_EX_pyr",
          "vref_mean (mmol/L/h)": 1144,
          "vref_mean (mmol/L/h).1": 1144,
          "vref_std (mmol/L/h)": 114.4,
          "vref_std (mmol/L/h).1": 114.4
         },
         {
          "flux": 365,
          "flux_max": 401.5,
          "flux_min": 328.5,
          "rxn": "R_EX_pep",
          "vref_mean (mmol/L/h)": 365,
          "vref_mean (mmol/L/h).1": 365,
          "vref_std (mmol/L/h)": 36.5,
          "vref_std (mmol/L/h).1": 36.5
         },
         {
          "flux": 18,
          "flux_max": 19.8,
          "flux_min": 16.2,
          "rxn": "R_EX_g6p",
          "vref_mean (mmol/L/h)": 18,
          "vref_mean (mmol/L/h).1": 18,
          "vref_std (mmol/L/h)": 1.8,
          "vref_std (mmol/L/h).1": 1.8
         },
         {
          "flux": 246,
          "flux_max": 270.6,
          "flux_min": 221.4,
          "rxn": "R_EX_r5p",
          "vref_mean (mmol/L/h)": 246,
          "vref_mean (mmol/L/h).1": 246,
          "vref_std (mmol/L/h)": 24.6,
          "vref_std (mmol/L/h).1": 24.6
         },
         {
          "flux": -20,
          "flux_max": -22,
          "flux_min": -18,
          "rxn": "R_EX_g3p",
          "vref_mean (mmol/L/h)": -20,
          "vref_mean (mmol/L/h).1": -20,
          "vref_std (mmol/L/h)": -2,
          "vref_std (mmol/L/h).1": -2
         },
         {
          "flux": 107,
          "flux_max": 117.7,
          "flux_min": 96.3,
          "rxn": "R_EX_e4p",
          "vref_mean (mmol/L/h)": 107,
          "vref_mean (mmol/L/h).1": 107,
          "vref_std (mmol/L/h)": 10.7,
          "vref_std (mmol/L/h).1": 10.7
         },
         {
          "flux": 21,
          "flux_max": 23.1,
          "flux_min": 18.9,
          "rxn": "R_EX_f6p",
          "vref_mean (mmol/L/h)": 21,
          "vref_mean (mmol/L/h).1": 21,
          "vref_std (mmol/L/h)": 2.1,
          "vref_std (mmol/L/h).1": 2.1
         },
         {
          "flux": 550,
          "flux_max": 605,
          "flux_min": 495,
          "rxn": "R_EX_3pg",
          "vref_mean (mmol/L/h)": 550,
          "vref_mean (mmol/L/h).1": 550,
          "vref_std (mmol/L/h)": 55,
          "vref_std (mmol/L/h).1": 55
         },
         {
          "flux": 946,
          "flux_max": 1040.6,
          "flux_min": 851.4,
          "rxn": "R_EX_oaa",
          "vref_mean (mmol/L/h)": 946,
          "vref_mean (mmol/L/h).1": 946,
          "vref_std (mmol/L/h)": 94.6,
          "vref_std (mmol/L/h).1": 94.6
         },
         {
          "flux": 397,
          "flux_max": 436.7,
          "flux_min": 357.3,
          "rxn": "R_EX_malL",
          "vref_mean (mmol/L/h)": 397,
          "vref_mean (mmol/L/h).1": 397,
          "vref_std (mmol/L/h)": 39.7,
          "vref_std (mmol/L/h).1": 39.7
         },
         {
          "flux": 489,
          "flux_max": 537.9,
          "flux_min": 440.1,
          "rxn": "R_EX_akg",
          "vref_mean (mmol/L/h)": 489,
          "vref_mean (mmol/L/h).1": 489,
          "vref_std (mmol/L/h)": 48.9,
          "vref_std (mmol/L/h).1": 48.9
         },
         {
          "flux": 193,
          "flux_max": 212.3,
          "flux_min": 173.7,
          "rxn": "R_EX_succ",
          "vref_mean (mmol/L/h)": 193,
          "vref_mean (mmol/L/h).1": 193,
          "vref_std (mmol/L/h)": 19.3,
          "vref_std (mmol/L/h).1": 19.3
         },
         {
          "flux": 5,
          "flux_max": 5.5,
          "flux_min": 4.5,
          "rxn": "R_EX_ru5p__D",
          "vref_mean (mmol/L/h)": 5,
          "vref_mean (mmol/L/h).1": 5,
          "vref_std (mmol/L/h)": 0.5,
          "vref_std (mmol/L/h).1": 0.5
         },
         {
          "flux": -193,
          "flux_max": -212.3,
          "flux_min": -173.7,
          "rxn": "R_EX_fum",
          "vref_mean (mmol/L/h)": -193,
          "vref_mean (mmol/L/h).1": -193,
          "vref_std (mmol/L/h)": -19.3,
          "vref_std (mmol/L/h).1": -19.3
         },
         {
          "flux": 4,
          "flux_max": 4.4,
          "flux_min": 3.6,
          "rxn": "R_EX_s7p",
          "vref_mean (mmol/L/h)": 4,
          "vref_mean (mmol/L/h).1": 4,
          "vref_std (mmol/L/h)": 0.4,
          "vref_std (mmol/L/h).1": 0.4
         },
         {
          "flux": -260,
          "flux_max": -286,
          "flux_min": -234,
          "rxn": "R_EX_succoa",
          "vref_mean (mmol/L/h)": -260,
          "vref_mean (mmol/L/h).1": -260,
          "vref_std (mmol/L/h)": -26,
          "vref_std (mmol/L/h).1": -26
         }
        ],
        "data-d7255ad842f014c46f35befde053a015": [
         {
          "Threshold": "hazardous",
          "ThresholdValue": 0
         }
        ],
        "data-e2d4e4510c87e6e89039b7aa12630c4c": [
         {
          "rxn": "R_GLCabcpp",
          "∆G_max": 10.531035708013622,
          "∆G_mean": -38.99584312289824,
          "∆G_min": -130.37319554787663
         },
         {
          "rxn": "R_GLK",
          "∆G_max": 19.405273407876564,
          "∆G_mean": -27.04051898910412,
          "∆G_min": -30.932619422966823
         },
         {
          "rxn": "R_GLCNt2rpp",
          "∆G_max": 50.63856283215555,
          "∆G_mean": 0,
          "∆G_min": -50.63856283215555
         },
         {
          "rxn": "R_GNK",
          "∆G_max": 24.341394695451257,
          "∆G_mean": -28.31875521456616,
          "∆G_min": -38.653397778065866
         },
         {
          "rxn": "R_2DHGLCNkt_tpp",
          "∆G_max": 50.63856283215555,
          "∆G_mean": 0,
          "∆G_min": -50.63856283215555
         },
         {
          "rxn": "R_2DHGLCK",
          "∆G_max": 37.265856062033066,
          "∆G_mean": -16.983700747220258,
          "∆G_min": -70.87981236170165
         },
         {
          "rxn": "R_PGLCNDH_NAD",
          "∆G_max": 29.449829278485492,
          "∆G_mean": -19.29022048851697,
          "∆G_min": -26.113302040400846
         },
         {
          "rxn": "R_PGLCNDH_NADP",
          "∆G_max": 26.52726413501156,
          "∆G_mean": -22.880467387766966,
          "∆G_min": -30.36794521947664
         },
         {
          "rxn": "R_GLCDpp",
          "∆G_max": -16.322874335688894,
          "∆G_mean": -116.1,
          "∆G_min": -215.8771256643111
         },
         {
          "rxn": "R_GAD2ktpp",
          "∆G_max": 30.977125664311103,
          "∆G_mean": -66.5,
          "∆G_min": -163.9771256643111
         },
         {
          "rxn": "R_G6PDH2_NAD",
          "∆G_max": -4.187476314698197,
          "∆G_mean": -9.168015736945065,
          "∆G_min": -56.2937079909108
         },
         {
          "rxn": "R_G6PDH2_NADP",
          "∆G_max": -0.06283313562240267,
          "∆G_mean": -5.587768837695066,
          "∆G_min": -53.261142847436865
         },
         {
          "rxn": "R_PGL",
          "∆G_max": 13.77410146557374,
          "∆G_mean": -34.1750544673459,
          "∆G_min": -40.152148248519765
         },
         {
          "rxn": "R_GND_NAD",
          "∆G_max": 4.036359828959988,
          "∆G_mean": -5.824467039798712,
          "∆G_min": -57.678559081931176
         },
         {
          "rxn": "R_GND_NADP",
          "∆G_max": 8.251003008035779,
          "∆G_mean": -2.2342201405487145,
          "∆G_min": -54.715993938457245
         },
         {
          "rxn": "R_RPI",
          "∆G_max": -4.382290176791521,
          "∆G_mean": -6.928020469818934,
          "∆G_min": -9.531392963789463
         },
         {
          "rxn": "R_RPE",
          "∆G_max": 12.373909449426252,
          "∆G_mean": 7.8225451526376935,
          "∆G_min": -38.85644097473414
         },
         {
          "rxn": "R_TKT1",
          "∆G_max": 19.508151284878522,
          "∆G_mean": -31.024827218211612,
          "∆G_min": -47.30319582846284
         },
         {
          "rxn": "R_TALA",
          "∆G_max": 49.18397190047296,
          "∆G_mean": 34.244497083691435,
          "∆G_min": -14.835656923213069
         },
         {
          "rxn": "R_EDD",
          "∆G_max": -22.037851751480236,
          "∆G_mean": -29.874945532654102,
          "∆G_min": -79.68410146557375
         },
         {
          "rxn": "R_EDA",
          "∆G_max": 16.234197635483422,
          "∆G_mean": -34.34431832871896,
          "∆G_min": -51.06814161663482
         },
         {
          "rxn": "R_PGI",
          "∆G_max": 2.480437805388922,
          "∆G_mean": 1.3740775150929414,
          "∆G_min": 0.28405366078693106
         },
         {
          "rxn": "R_FBP",
          "∆G_max": -8.737283553751551,
          "∆G_mean": -12.332044982137015,
          "∆G_min": -58.12873263588774
         },
         {
          "rxn": "R_FBA",
          "∆G_max": 28.470520260624802,
          "∆G_mean": 16.726654853496917,
          "∆G_min": 13.149613467584633
         },
         {
          "rxn": "R_TPI",
          "∆G_max": 30.22973148823147,
          "∆G_mean": 18.833033347222962,
          "∆G_min": 15.296114039834174
         },
         {
          "rxn": "R_GAPD_NAD",
          "∆G_max": 95.4430998102116,
          "∆G_mean": 38.86157788462889,
          "∆G_min": -9.640548166931193
         },
         {
          "rxn": "R_GAPD_NADP",
          "∆G_max": 99.8777429892874,
          "∆G_mean": 42.45182478387889,
          "∆G_min": -6.897983023457263
         },
         {
          "rxn": "R_PGK",
          "∆G_max": 0.24089023758498485,
          "∆G_mean": -47.47056874055958,
          "∆G_min": -61.35585606203307
         },
         {
          "rxn": "R_PGM",
          "∆G_max": 16.379640708038885,
          "∆G_mean": 4.23,
          "∆G_min": -7.9196407080388855
         },
         {
          "rxn": "R_ENO",
          "∆G_max": 33.71467307033954,
          "∆G_mean": 23.11616727999425,
          "∆G_min": 20.511061548510032
         },
         {
          "rxn": "R_PYK",
          "∆G_max": -20.62151261338329,
          "∆G_mean": -23.716103510255298,
          "∆G_min": -27.458161898521343
         },
         {
          "rxn": "R_PDH",
          "∆G_max": -27.23037798051092,
          "∆G_mean": -38.717796291193366,
          "∆G_min": -91.47504071698678
         },
         {
          "rxn": "R_OAADC",
          "∆G_max": 75.95511580285256,
          "∆G_mean": 23.484167685959292,
          "∆G_min": 12.56170853598497
         },
         {
          "rxn": "R_PPC",
          "∆G_max": 93.56840760691003,
          "∆G_mean": 39.22777894719426,
          "∆G_min": -14.163397593979923
         },
         {
          "rxn": "R_ME2_NADP",
          "∆G_max": 12.091757921269425,
          "∆G_mean": 1.436077614711289,
          "∆G_min": -51.50754587320087
         },
         {
          "rxn": "R_ME2_NAD",
          "∆G_max": 7.85711474219363,
          "∆G_mean": -2.154169284538712,
          "∆G_min": -54.450111016674796
         },
         {
          "rxn": "R_MDH_NAD",
          "∆G_max": 24.269532000966834,
          "∆G_mean": 21.339998401420576,
          "∆G_min": 17.674296063389534
         },
         {
          "rxn": "R_MDH_NADP",
          "∆G_max": 28.744175180042625,
          "∆G_mean": 24.930245300670578,
          "∆G_min": 20.376861206863467
         },
         {
          "rxn": "R_FUM",
          "∆G_max": 2.3722001023530677,
          "∆G_mean": -0.1381711400393688,
          "∆G_min": -2.352964558765299
         },
         {
          "rxn": "R_SUCDi",
          "∆G_max": 25.460349695363774,
          "∆G_mean": -29.77576262051454,
          "∆G_min": -84.84382782749492
         },
         {
          "rxn": "R_SUCOAS",
          "∆G_max": 86.92421618143077,
          "∆G_mean": 27.464566235480365,
          "∆G_min": 16.649966733967105
         },
         {
          "rxn": "R_AKGDH",
          "∆G_max": -41.348785367773054,
          "∆G_mean": -56.035920171229975,
          "∆G_min": -119.78170137106085
         },
         {
          "rxn": "R_ICDHyr_NADP",
          "∆G_max": 8.57449539447612,
          "∆G_mean": -3.2812975783190392,
          "∆G_min": -57.11087060371002
         },
         {
          "rxn": "R_ICDHyr_NAD",
          "∆G_max": 4.379852215400329,
          "∆G_mean": -6.871544477569039,
          "∆G_min": -60.09343574718395
         },
         {
          "rxn": "R_ACONTa",
          "∆G_max": 22.299434713404914,
          "∆G_mean": 17.372721030865474,
          "∆G_min": -29.521611985304638
         },
         {
          "rxn": "R_ACONTb",
          "∆G_max": 32.61534044875132,
          "∆G_mean": -14.631990947472385,
          "∆G_min": -20.391205391159726
         },
         {
          "rxn": "R_CS_large",
          "∆G_max": -28.101843519824918,
          "∆G_mean": -32.93597109826006,
          "∆G_min": -37.580118696770825
         },
         {
          "rxn": "R_CS_small",
          "∆G_max": -28.101843519824918,
          "∆G_mean": -32.93597109826006,
          "∆G_min": -37.580118696770825
         },
         {
          "rxn": "R_ACCOAC",
          "∆G_max": 20.011772220912867,
          "∆G_mean": -35.620477232530234,
          "∆G_min": -98.90064915804429
         },
         {
          "rxn": "R_KAS15",
          "∆G_max": -262.3048847314084,
          "∆G_mean": -332.7412735980525,
          "∆G_min": -445.93565581547875
         },
         {
          "rxn": "R_MCOATA",
          "∆G_max": 525.0036601717702,
          "∆G_mean": 453.91764526293554,
          "∆G_min": 390.278923459
         },
         {
          "rxn": "R_OPNAD",
          "∆G_max": 135.60797698704434,
          "∆G_mean": -0.979210165736859,
          "∆G_min": -59.15185326627052
         },
         {
          "rxn": "R_OPQ8",
          "∆G_max": 90.74394076722008,
          "∆G_mean": -68.2529729567268,
          "∆G_min": -127.67828929737972
         },
         {
          "rxn": "R_AXPr",
          "∆G_max": -191.58752712414193,
          "∆G_mean": -196.45584312289824,
          "∆G_min": -243.1746327157211
         },
         {
          "rxn": "R_NADHr",
          "∆G_max": -52.21427218708825,
          "∆G_mean": -53.685166021171064,
          "∆G_min": -55.21115379188108
         },
         {
          "rxn": "R_NADPHr",
          "∆G_max": -55.09683733056218,
          "∆G_mean": -57.27541292042107,
          "∆G_min": -59.505796970956865
         },
         {
          "rxn": "R_ACCOAr",
          "∆G_max": 41.24069006448732,
          "∆G_mean": 34.560139533921266,
          "∆G_min": 27.371382982516558
         },
         {
          "rxn": "R_Q8H2r",
          "∆G_max": 50.63856283215555,
          "∆G_mean": 0,
          "∆G_min": -50.63856283215555
         },
         {
          "rxn": "R_GLCtex",
          "∆G_max": 50.63856283215555,
          "∆G_mean": 0,
          "∆G_min": -50.63856283215555
         },
         {
          "rxn": "R_EX_pyr",
          "∆G_max": 16.03475843045983,
          "∆G_mean": 8.24790646526114,
          "∆G_min": -41.41794011361953
         },
         {
          "rxn": "R_EX_pep",
          "∆G_max": 14.00786057560663,
          "∆G_mean": 6.998102207785584,
          "∆G_min": -42.18467307033954
         },
         {
          "rxn": "R_EX_g6p",
          "∆G_max": 11.401369893420725,
          "∆G_mean": 4.586818241883867,
          "∆G_min": -44.427980177999046
         },
         {
          "rxn": "R_EX_r5p",
          "∆G_max": 23.563514821210877,
          "∆G_mean": 16.200565622456626,
          "∆G_min": -33.23236320593777
         },
         {
          "rxn": "R_EX_g3p",
          "∆G_max": 50.63856283215555,
          "∆G_mean": 34.20426948777983,
          "∆G_min": -16.409640708038886
         },
         {
          "rxn": "R_EX_e4p",
          "∆G_max": 50.63856283215555,
          "∆G_mean": 0,
          "∆G_min": -50.63856283215555
         },
         {
          "rxn": "R_EX_f6p",
          "∆G_max": 15.43102045954542,
          "∆G_mean": 8.480895756976809,
          "∆G_min": -40.65313927794789
         },
         {
          "rxn": "R_EX_3pg",
          "∆G_max": 50.63856283215555,
          "∆G_mean": 34.20426948777983,
          "∆G_min": -16.409640708038886
         },
         {
          "rxn": "R_EX_oaa",
          "∆G_max": 18.373734536570495,
          "∆G_mean": 9.55588115497984,
          "∆G_min": -40.485537018373286
         },
         {
          "rxn": "R_EX_malL",
          "∆G_max": 18.471404022868015,
          "∆G_mean": 10.970713535229352,
          "∆G_min": -38.54480441928377
         },
         {
          "rxn": "R_EX_akg",
          "∆G_max": 16.507547131501433,
          "∆G_mean": 8.346559070534502,
          "∆G_min": -41.48087621853451
         },
         {
          "rxn": "R_EX_succ",
          "∆G_max": 14.340226327310942,
          "∆G_mean": 5.996779774675442,
          "∆G_min": -43.89786931227008
         },
         {
          "rxn": "R_EX_ru5p__D",
          "∆G_max": 18.383909449426252,
          "∆G_mean": 11.192545152637694,
          "∆G_min": -38.12644097473414
         },
         {
          "rxn": "R_EX_fum",
          "∆G_max": 22.345958515224844,
          "∆G_mean": 14.272542395189982,
          "∆G_min": -35.52012336805283
         },
         {
          "rxn": "R_EX_s7p",
          "∆G_max": 16.260832622525065,
          "∆G_mean": 9.131123352888407,
          "∆G_min": -40.143558587784305
         },
         {
          "rxn": "R_EX_succoa",
          "∆G_max": 50.63856283215555,
          "∆G_mean": 34.20426948777983,
          "∆G_min": -16.409640708038886
         }
        ]
       },
       "hconcat": [
        {
         "data": {
          "name": "data-e2d4e4510c87e6e89039b7aa12630c4c"
         },
         "layer": [
          {
           "encoding": {
            "x": {
             "field": "∆G_min",
             "type": "quantitative"
            },
            "x2": {
             "field": "∆G_max"
            },
            "y": {
             "field": "rxn",
             "type": "nominal"
            }
           },
           "height": 1000,
           "mark": "rect",
           "width": 400
          },
          {
           "encoding": {
            "tooltip": [
             {
              "field": "rxn",
              "type": "nominal"
             },
             {
              "field": "∆G_min",
              "type": "quantitative"
             },
             {
              "field": "∆G_mean",
              "type": "quantitative"
             },
             {
              "field": "∆G_max",
              "type": "quantitative"
             }
            ],
            "x": {
             "field": "∆G_mean",
             "type": "quantitative"
            },
            "y": {
             "field": "rxn",
             "type": "nominal"
            }
           },
           "mark": {
            "color": "red",
            "filled": true,
            "size": 100,
            "type": "point"
           },
           "selection": {
            "selector003": {
             "bind": "scales",
             "encodings": [
              "x",
              "y"
             ],
             "type": "interval"
            }
           }
          },
          {
           "data": {
            "name": "data-d7255ad842f014c46f35befde053a015"
           },
           "encoding": {
            "x": {
             "field": "ThresholdValue",
             "type": "quantitative"
            }
           },
           "mark": "rule"
          }
         ]
        },
        {
         "data": {
          "name": "data-026cce113e7c79705aaf8d9a3a0b2f9d"
         },
         "layer": [
          {
           "encoding": {
            "x": {
             "field": "flux_min",
             "type": "quantitative"
            },
            "x2": {
             "field": "flux_max"
            },
            "y": {
             "field": "rxn",
             "type": "nominal"
            }
           },
           "height": 1000,
           "mark": "rect",
           "width": 400
          },
          {
           "encoding": {
            "tooltip": [
             {
              "field": "rxn",
              "type": "nominal"
             },
             {
              "field": "flux",
              "type": "quantitative"
             }
            ],
            "x": {
             "field": "flux",
             "type": "quantitative"
            },
            "y": {
             "field": "rxn",
             "type": "nominal"
            }
           },
           "mark": {
            "color": "red",
            "filled": true,
            "size": 100,
            "type": "point"
           },
           "selection": {
            "selector004": {
             "bind": "scales",
             "encodings": [
              "x",
              "y"
             ],
             "type": "interval"
            }
           }
          },
          {
           "data": {
            "name": "data-d7255ad842f014c46f35befde053a015"
           },
           "encoding": {
            "x": {
             "field": "ThresholdValue",
             "type": "quantitative"
            }
           },
           "mark": "rule"
          }
         ]
        }
       ]
      },
      "image/png": "[encoded data removed]",
      "text/plain": [
       "<VegaLite 3 object>\n",
       "\n",
       "If you see this message, it means the renderer has not been properly enabled\n",
       "for the frontend that you are using. For more information, see\n",
       "https://altair-viz.github.io/user_guide/troubleshooting.html\n"
      ]
     },
     "execution_count": 8,
     "metadata": {},
     "output_type": "execute_result"
    }
   ],
   "source": [
    "flag, flux_df, dG_df = check_thermodynamic_feasibility(data_dict) \n",
    "dG_df['rxn'] = dG_df.index\n",
    "\n",
    "\n",
    "flux_df['rxn'] = flux_df.index\n",
    "flux_df['flux_min'] = flux_df['vref_mean (mmol/L/h)'] - flux_df['vref_std (mmol/L/h)']\n",
    "flux_df['flux_max'] = flux_df['vref_mean (mmol/L/h)'] + flux_df['vref_std (mmol/L/h)']\n",
    "flux_df['flux'] = flux_df['vref_mean (mmol/L/h)']\n",
    "\n",
    "height=1000\n",
    "width=400\n",
    "plot_dG_and_flux(dG_df,  flux_df, height, width)"
   ]
  },
  {
   "cell_type": "markdown",
   "metadata": {},
   "source": [
    "### Fixing dGs because of infeasible TMFA"
   ]
  },
  {
   "cell_type": "markdown",
   "metadata": {},
   "source": [
    "### Fixing standard ∆G ranges\n",
    " - The flux and ∆G range seem to be incompatible for reaction R_PGI\n",
    "   - defined as m_f6p_c <-> m_g6p_c, g6p almost an order of magnitude higher than f6p\n",
    "   - lower bound, current - 5 kJ/mol\n",
    " - The flux and ∆G range seem to be incompatible for reaction R_FBA\n",
    "   - defined as m_g3p_c + m_dhap_c <-> m_fdp_c, and g3p concentration is almost zero\n",
    "   - lower bound, current - 15 kJ/mol\n",
    " - The flux and ∆G range seem to be incompatible for reaction R_TPI\n",
    "   - defined as g3p <-> dhap, and g3p concentration is almost zero\n",
    "   - lower bound, current - 20 kJ/mol\n",
    " - The flux and ∆G range seem to be incompatible for reaction R_ENO\n",
    "   - defined as m_2pg_c <-> m_pep_c + m_h2o_c, and 2pg concentration is almost zero\n",
    "   - lower bound, current - 25 kJ/mol"
   ]
  },
  {
   "cell_type": "markdown",
   "metadata": {},
   "source": [
    "### Fixing standard ∆G ranges  - TCA cycle\n",
    "\n",
    " - The flux and ∆G range seem to be incompatible for reaction R_OAADC\n",
    "   - defined as m_pyr_c + m_co2_c <-> m_oaa_c, no obvious reason since there is less oaa then pyr, maybe it's the co2 messing it up. I've set the lower bound to current one -15\n",
    " - The flux and ∆G range seem to be incompatible for reaction R_MDH\n",
    "   - defined as m_nad_c + m_mal__L_c <-> m_oaa_c + m_nadh_c, no obvious reason since mass action ratio is favorable, set lower bound to current one -20 for NAD and -25 for NADP\n",
    " - The flux and ∆G range seem to be incompatible for reaction R_SUCOAS\n",
    "   - defined m_pi_c + m_adp_c + m_succoa_c <-> m_succ_c + m_atp_c + m_coa_c, changed the values to the ones in eQuilibrator website 28/2/2020 (Pi(aq) + ADP(aq) + Succinyl-CoA(aq) ⇌ Succinate(aq) + ATP(aq) + CoA(aq)) , but still off. succoa concentration is measured as zero, i.e., quite low. set lower bound to current one -20\n",
    "   \n",
    "   \n",
    "GRASP also had a problem with PPC, lower bound ended up being -5.33 kJ/mol, vs. the original 30.33 kJ/mol.\n",
    "  "
   ]
  },
  {
   "cell_type": "markdown",
   "metadata": {},
   "source": [
    "### Fixing standard ∆G ranges  - glyoxylate shunt\n",
    "\n",
    " - The flux and ∆G range seem to be incompatible for reaction ICL\n",
    "   - defined as  m_icit_c <-> m_glx_c + m_succ_c, there is way more glx and succ than icit, set lower bound to original -5"
   ]
  },
  {
   "cell_type": "markdown",
   "metadata": {},
   "source": [
    "### Fixing standard ∆G ranges - accoa reactions\n",
    "\n",
    " - The flux and ∆G range seem to be incompatible for reaction MCOATA\n",
    "   - this one was estimated without the carriers, and it doesn't seem to have worked out, so i'll just set it to [-5, 5]\n",
    " - The flux and ∆G range seem to be incompatible for reaction R_ACCOAr  \n",
    "   - this is a fake reaction to recycle accoa and coa, i'll set the lower bound to -35 kJ/mol"
   ]
  },
  {
   "cell_type": "code",
   "execution_count": 11,
   "metadata": {},
   "outputs": [
    {
     "name": "stdout",
     "output_type": "stream",
     "text": [
      "\n",
      "Checking if fluxes and Gibbs energies are compatible.\n",
      "\n",
      "Everything seems to be OK.\n"
     ]
    },
    {
     "data": {
      "application/vnd.vegalite.v3+json": {
       "$schema": "https://vega.github.io/schema/vega-lite/v3.4.0.json",
       "config": {
        "mark": {
         "tooltip": null
        },
        "view": {
         "height": 300,
         "width": 400
        }
       },
       "datasets": {
        "data-026cce113e7c79705aaf8d9a3a0b2f9d": [
         {
          "flux": 450,
          "flux_max": 495,
          "flux_min": 405,
          "rxn": "R_GLCabcpp",
          "vref_mean (mmol/L/h)": 450,
          "vref_mean (mmol/L/h).1": 450,
          "vref_std (mmol/L/h)": 45,
          "vref_std (mmol/L/h).1": 45
         },
         {
          "flux": 450,
          "flux_max": 495,
          "flux_min": 405,
          "rxn": "R_GLK",
          "vref_mean (mmol/L/h)": 450,
          "vref_mean (mmol/L/h).1": 450,
          "vref_std (mmol/L/h)": 45,
          "vref_std (mmol/L/h).1": 45
         },
         {
          "flux": 3639,
          "flux_max": 4002.9,
          "flux_min": 3275.1,
          "rxn": "R_GLCNt2rpp",
          "vref_mean (mmol/L/h)": 3639,
          "vref_mean (mmol/L/h).1": 3639,
          "vref_std (mmol/L/h)": 363.9,
          "vref_std (mmol/L/h).1": 363.9
         },
         {
          "flux": 3639,
          "flux_max": 4002.9,
          "flux_min": 3275.1,
          "rxn": "R_GNK",
          "vref_mean (mmol/L/h)": 3639,
          "vref_mean (mmol/L/h).1": 3639,
          "vref_std (mmol/L/h)": 363.9,
          "vref_std (mmol/L/h).1": 363.9
         },
         {
          "flux": 595,
          "flux_max": 654.5,
          "flux_min": 535.5,
          "rxn": "R_2DHGLCNkt_tpp",
          "vref_mean (mmol/L/h)": 595,
          "vref_mean (mmol/L/h).1": 595,
          "vref_std (mmol/L/h)": 59.5,
          "vref_std (mmol/L/h).1": 59.5
         },
         {
          "flux": 595,
          "flux_max": 654.5,
          "flux_min": 535.5,
          "rxn": "R_2DHGLCK",
          "vref_mean (mmol/L/h)": 595,
          "vref_mean (mmol/L/h).1": 595,
          "vref_std (mmol/L/h)": 59.5,
          "vref_std (mmol/L/h).1": 59.5
         },
         {
          "flux": 61,
          "flux_max": 67.1,
          "flux_min": 54.9,
          "rxn": "R_PGLCNDH_NAD",
          "vref_mean (mmol/L/h)": 61,
          "vref_mean (mmol/L/h).1": 61,
          "vref_std (mmol/L/h)": 6.1,
          "vref_std (mmol/L/h).1": 6.1
         },
         {
          "flux": 534,
          "flux_max": 587.4,
          "flux_min": 480.6,
          "rxn": "R_PGLCNDH_NADP",
          "vref_mean (mmol/L/h)": 534,
          "vref_mean (mmol/L/h).1": 534,
          "vref_std (mmol/L/h)": 53.4,
          "vref_std (mmol/L/h).1": 53.4
         },
         {
          "flux": 4234,
          "flux_max": 4657.4,
          "flux_min": 3810.6,
          "rxn": "R_GLCDpp",
          "vref_mean (mmol/L/h)": 4234,
          "vref_mean (mmol/L/h).1": 4234,
          "vref_std (mmol/L/h)": 423.4,
          "vref_std (mmol/L/h).1": 423.4
         },
         {
          "flux": 595,
          "flux_max": 654.5,
          "flux_min": 535.5,
          "rxn": "R_GAD2ktpp",
          "vref_mean (mmol/L/h)": 595,
          "vref_mean (mmol/L/h).1": 595,
          "vref_std (mmol/L/h)": 59.5,
          "vref_std (mmol/L/h).1": 59.5
         },
         {
          "flux": 55,
          "flux_max": 60.5,
          "flux_min": 49.5,
          "rxn": "R_G6PDH2_NAD",
          "vref_mean (mmol/L/h)": 55,
          "vref_mean (mmol/L/h).1": 55,
          "vref_std (mmol/L/h)": 5.5,
          "vref_std (mmol/L/h).1": 5.5
         },
         {
          "flux": 837,
          "flux_max": 920.7,
          "flux_min": 753.3,
          "rxn": "R_G6PDH2_NADP",
          "vref_mean (mmol/L/h)": 837,
          "vref_mean (mmol/L/h).1": 837,
          "vref_std (mmol/L/h)": 83.7,
          "vref_std (mmol/L/h).1": 83.7
         },
         {
          "flux": 892,
          "flux_max": 981.2,
          "flux_min": 802.8,
          "rxn": "R_PGL",
          "vref_mean (mmol/L/h)": 892,
          "vref_mean (mmol/L/h).1": 892,
          "vref_std (mmol/L/h)": 89.2,
          "vref_std (mmol/L/h).1": 89.2
         },
         {
          "flux": 41,
          "flux_max": 45.1,
          "flux_min": 36.9,
          "rxn": "R_GND_NAD",
          "vref_mean (mmol/L/h)": 41,
          "vref_mean (mmol/L/h).1": 41,
          "vref_std (mmol/L/h)": 4.1,
          "vref_std (mmol/L/h).1": 4.1
         },
         {
          "flux": 432,
          "flux_max": 475.2,
          "flux_min": 388.8,
          "rxn": "R_GND_NADP",
          "vref_mean (mmol/L/h)": 432,
          "vref_mean (mmol/L/h).1": 432,
          "vref_std (mmol/L/h)": 43.2,
          "vref_std (mmol/L/h).1": 43.2
         },
         {
          "flux": 357,
          "flux_max": 392.7,
          "flux_min": 321.3,
          "rxn": "R_RPI",
          "vref_mean (mmol/L/h)": 357,
          "vref_mean (mmol/L/h).1": 357,
          "vref_std (mmol/L/h)": 35.7,
          "vref_std (mmol/L/h).1": 35.7
         },
         {
          "flux": 111,
          "flux_max": 122.1,
          "flux_min": 99.9,
          "rxn": "R_RPE",
          "vref_mean (mmol/L/h)": 111,
          "vref_mean (mmol/L/h).1": 111,
          "vref_std (mmol/L/h)": 11.1,
          "vref_std (mmol/L/h).1": 11.1
         },
         {
          "flux": 111,
          "flux_max": 122.1,
          "flux_min": 99.9,
          "rxn": "R_TKT1",
          "vref_mean (mmol/L/h)": 111,
          "vref_mean (mmol/L/h).1": 111,
          "vref_std (mmol/L/h)": 11.1,
          "vref_std (mmol/L/h).1": 11.1
         },
         {
          "flux": 107,
          "flux_max": 117.7,
          "flux_min": 96.3,
          "rxn": "R_TALA",
          "vref_mean (mmol/L/h)": 107,
          "vref_mean (mmol/L/h).1": 107,
          "vref_std (mmol/L/h)": 10.7,
          "vref_std (mmol/L/h).1": 10.7
         },
         {
          "flux": 4653,
          "flux_max": 5118.3,
          "flux_min": 4187.7,
          "rxn": "R_EDD",
          "vref_mean (mmol/L/h)": 4653,
          "vref_mean (mmol/L/h).1": 4653,
          "vref_std (mmol/L/h)": 465.3,
          "vref_std (mmol/L/h).1": 465.3
         },
         {
          "flux": 4653,
          "flux_max": 5118.3,
          "flux_min": 4187.7,
          "rxn": "R_EDA",
          "vref_mean (mmol/L/h)": 4653,
          "vref_mean (mmol/L/h).1": 4653,
          "vref_std (mmol/L/h)": 465.3,
          "vref_std (mmol/L/h).1": 465.3
         },
         {
          "flux": 460,
          "flux_max": 506,
          "flux_min": 414,
          "rxn": "R_PGI",
          "vref_mean (mmol/L/h)": 460,
          "vref_mean (mmol/L/h).1": 460,
          "vref_std (mmol/L/h)": 46,
          "vref_std (mmol/L/h).1": 46
         },
         {
          "flux": 374,
          "flux_max": 411.4,
          "flux_min": 336.6,
          "rxn": "R_FBP",
          "vref_mean (mmol/L/h)": 374,
          "vref_mean (mmol/L/h).1": 374,
          "vref_std (mmol/L/h)": 37.4,
          "vref_std (mmol/L/h).1": 37.4
         },
         {
          "flux": 374,
          "flux_max": 411.4,
          "flux_min": 336.6,
          "rxn": "R_FBA",
          "vref_mean (mmol/L/h)": 374,
          "vref_mean (mmol/L/h).1": 374,
          "vref_std (mmol/L/h)": 37.4,
          "vref_std (mmol/L/h).1": 37.4
         },
         {
          "flux": 374,
          "flux_max": 411.4,
          "flux_min": 336.6,
          "rxn": "R_TPI",
          "vref_mean (mmol/L/h)": 374,
          "vref_mean (mmol/L/h).1": 374,
          "vref_std (mmol/L/h)": 37.4,
          "vref_std (mmol/L/h).1": 37.4
         },
         {
          "flux": 2625,
          "flux_max": 2887.5,
          "flux_min": 2362.5,
          "rxn": "R_GAPD_NAD",
          "vref_mean (mmol/L/h)": 2625,
          "vref_mean (mmol/L/h).1": 2625,
          "vref_std (mmol/L/h)": 262.5,
          "vref_std (mmol/L/h).1": 262.5
         },
         {
          "flux": 1304,
          "flux_max": 1434.4,
          "flux_min": 1173.6,
          "rxn": "R_GAPD_NADP",
          "vref_mean (mmol/L/h)": 1304,
          "vref_mean (mmol/L/h).1": 1304,
          "vref_std (mmol/L/h)": 130.4,
          "vref_std (mmol/L/h).1": 130.4
         },
         {
          "flux": 3929,
          "flux_max": 4321.9,
          "flux_min": 3536.1,
          "rxn": "R_PGK",
          "vref_mean (mmol/L/h)": 3929,
          "vref_mean (mmol/L/h).1": 3929,
          "vref_std (mmol/L/h)": 392.9,
          "vref_std (mmol/L/h).1": 392.9
         },
         {
          "flux": 3379,
          "flux_max": 3716.9,
          "flux_min": 3041.1,
          "rxn": "R_PGM",
          "vref_mean (mmol/L/h)": 3379,
          "vref_mean (mmol/L/h).1": 3379,
          "vref_std (mmol/L/h)": 337.9,
          "vref_std (mmol/L/h).1": 337.9
         },
         {
          "flux": 3379,
          "flux_max": 3716.9,
          "flux_min": 3041.1,
          "rxn": "R_ENO",
          "vref_mean (mmol/L/h)": 3379,
          "vref_mean (mmol/L/h).1": 3379,
          "vref_std (mmol/L/h)": 337.9,
          "vref_std (mmol/L/h).1": 337.9
         },
         {
          "flux": 3029,
          "flux_max": 3331.9,
          "flux_min": 2726.1,
          "rxn": "R_PYK",
          "vref_mean (mmol/L/h)": 3029,
          "vref_mean (mmol/L/h).1": 3029,
          "vref_std (mmol/L/h)": 302.9,
          "vref_std (mmol/L/h).1": 302.9
         },
         {
          "flux": 4951,
          "flux_max": 5446.1,
          "flux_min": 4455.9,
          "rxn": "R_PDH",
          "vref_mean (mmol/L/h)": 4951,
          "vref_mean (mmol/L/h).1": 4951,
          "vref_std (mmol/L/h)": 495.1,
          "vref_std (mmol/L/h).1": 495.1
         },
         {
          "flux": 3502,
          "flux_max": 3852.2,
          "flux_min": 3151.8,
          "rxn": "R_OAADC",
          "vref_mean (mmol/L/h)": 3502,
          "vref_mean (mmol/L/h).1": 3502,
          "vref_std (mmol/L/h)": 350.2,
          "vref_std (mmol/L/h).1": 350.2
         },
         {
          "flux": 15,
          "flux_max": 16.5,
          "flux_min": 13.5,
          "rxn": "R_PPC",
          "vref_mean (mmol/L/h)": 15,
          "vref_mean (mmol/L/h).1": 15,
          "vref_std (mmol/L/h)": 1.5,
          "vref_std (mmol/L/h).1": 1.5
         },
         {
          "flux": 1848,
          "flux_max": 2032.8,
          "flux_min": 1663.2,
          "rxn": "R_ME2_NADP",
          "vref_mean (mmol/L/h)": 1848,
          "vref_mean (mmol/L/h).1": 1848,
          "vref_std (mmol/L/h)": 184.8,
          "vref_std (mmol/L/h).1": 184.8
         },
         {
          "flux": 67,
          "flux_max": 73.7,
          "flux_min": 60.3,
          "rxn": "R_ME2_NAD",
          "vref_mean (mmol/L/h)": 67,
          "vref_mean (mmol/L/h).1": 67,
          "vref_std (mmol/L/h)": 6.7,
          "vref_std (mmol/L/h).1": 6.7
         },
         {
          "flux": 1413,
          "flux_max": 1554.3,
          "flux_min": 1271.7,
          "rxn": "R_MDH_NAD",
          "vref_mean (mmol/L/h)": 1413,
          "vref_mean (mmol/L/h).1": 1413,
          "vref_std (mmol/L/h)": 141.3,
          "vref_std (mmol/L/h).1": 141.3
         },
         {
          "flux": 36,
          "flux_max": 39.6,
          "flux_min": 32.4,
          "rxn": "R_MDH_NADP",
          "vref_mean (mmol/L/h)": 36,
          "vref_mean (mmol/L/h).1": 36,
          "vref_std (mmol/L/h)": 3.6,
          "vref_std (mmol/L/h).1": 3.6
         },
         {
          "flux": 3761,
          "flux_max": 4137.1,
          "flux_min": 3384.9,
          "rxn": "R_FUM",
          "vref_mean (mmol/L/h)": 3761,
          "vref_mean (mmol/L/h).1": 3761,
          "vref_std (mmol/L/h)": 376.1,
          "vref_std (mmol/L/h).1": 376.1
         },
         {
          "flux": 3568,
          "flux_max": 3924.8,
          "flux_min": 3211.2,
          "rxn": "R_SUCDi",
          "vref_mean (mmol/L/h)": 3568,
          "vref_mean (mmol/L/h).1": 3568,
          "vref_std (mmol/L/h)": 356.8,
          "vref_std (mmol/L/h).1": 356.8
         },
         {
          "flux": 3761,
          "flux_max": 4137.1,
          "flux_min": 3384.9,
          "rxn": "R_SUCOAS",
          "vref_mean (mmol/L/h)": 3761,
          "vref_mean (mmol/L/h).1": 3761,
          "vref_std (mmol/L/h)": 376.1,
          "vref_std (mmol/L/h).1": 376.1
         },
         {
          "flux": 3501,
          "flux_max": 3848.8,
          "flux_min": 3153.2,
          "rxn": "R_AKGDH",
          "vref_mean (mmol/L/h)": 3501,
          "vref_mean (mmol/L/h).1": 3501,
          "vref_std (mmol/L/h)": 347.8,
          "vref_std (mmol/L/h).1": 347.8
         },
         {
          "flux": 3547,
          "flux_max": 3901.7,
          "flux_min": 3192.3,
          "rxn": "R_ICDHyr_NADP",
          "vref_mean (mmol/L/h)": 3547,
          "vref_mean (mmol/L/h).1": 3547,
          "vref_std (mmol/L/h)": 354.7,
          "vref_std (mmol/L/h).1": 354.7
         },
         {
          "flux": 443,
          "flux_max": 487.3,
          "flux_min": 398.7,
          "rxn": "R_ICDHyr_NAD",
          "vref_mean (mmol/L/h)": 443,
          "vref_mean (mmol/L/h).1": 443,
          "vref_std (mmol/L/h)": 44.3,
          "vref_std (mmol/L/h).1": 44.3
         },
         {
          "flux": 3990,
          "flux_max": 4389,
          "flux_min": 3591,
          "rxn": "R_ACONTa",
          "vref_mean (mmol/L/h)": 3990,
          "vref_mean (mmol/L/h).1": 3990,
          "vref_std (mmol/L/h)": 399,
          "vref_std (mmol/L/h).1": 399
         },
         {
          "flux": 3990,
          "flux_max": 4389,
          "flux_min": 3591,
          "rxn": "R_ACONTb",
          "vref_mean (mmol/L/h)": 3990,
          "vref_mean (mmol/L/h).1": 3990,
          "vref_std (mmol/L/h)": 399,
          "vref_std (mmol/L/h).1": 399
         },
         {
          "flux": 3112,
          "flux_max": 3423.2,
          "flux_min": 2800.8,
          "rxn": "R_CS_large",
          "vref_mean (mmol/L/h)": 3112,
          "vref_mean (mmol/L/h).1": 3112,
          "vref_std (mmol/L/h)": 311.2,
          "vref_std (mmol/L/h).1": 311.2
         },
         {
          "flux": 878,
          "flux_max": 965.8,
          "flux_min": 790.2,
          "rxn": "R_CS_small",
          "vref_mean (mmol/L/h)": 878,
          "vref_mean (mmol/L/h).1": 878,
          "vref_std (mmol/L/h)": 87.8,
          "vref_std (mmol/L/h).1": 87.8
         },
         {
          "flux": 498,
          "flux_max": 547.8,
          "flux_min": 448.2,
          "rxn": "R_ACCOAC",
          "vref_mean (mmol/L/h)": 498,
          "vref_mean (mmol/L/h).1": 498,
          "vref_std (mmol/L/h)": 49.8,
          "vref_std (mmol/L/h).1": 49.8
         },
         {
          "flux": 73,
          "flux_max": 80.3,
          "flux_min": 65.7,
          "rxn": "R_KAS15",
          "vref_mean (mmol/L/h)": 73,
          "vref_mean (mmol/L/h).1": 73,
          "vref_std (mmol/L/h)": 7.3,
          "vref_std (mmol/L/h).1": 7.3
         },
         {
          "flux": 498,
          "flux_max": 547.8,
          "flux_min": 448.2,
          "rxn": "R_MCOATA",
          "vref_mean (mmol/L/h)": 498,
          "vref_mean (mmol/L/h).1": 498,
          "vref_std (mmol/L/h)": 49.8,
          "vref_std (mmol/L/h).1": 49.8
         },
         {
          "flux": 2998,
          "flux_max": 3297.8,
          "flux_min": 2698.2,
          "rxn": "R_OPNAD",
          "vref_mean (mmol/L/h)": 2998,
          "vref_mean (mmol/L/h).1": 2998,
          "vref_std (mmol/L/h)": 299.8,
          "vref_std (mmol/L/h).1": 299.8
         },
         {
          "flux": 7315,
          "flux_max": 8046.5,
          "flux_min": 6583.5,
          "rxn": "R_OPQ8",
          "vref_mean (mmol/L/h)": 7315,
          "vref_mean (mmol/L/h).1": 7315,
          "vref_std (mmol/L/h)": 731.5,
          "vref_std (mmol/L/h).1": 731.5
         },
         {
          "flux": 24423.875,
          "flux_max": 26866.2625,
          "flux_min": 21981.4875,
          "rxn": "R_AXPr",
          "vref_mean (mmol/L/h)": 24423.875,
          "vref_mean (mmol/L/h).1": 24423.875,
          "vref_std (mmol/L/h)": 2442.3875,
          "vref_std (mmol/L/h).1": 2442.3875
         },
         {
          "flux": 10037,
          "flux_max": 11040.7,
          "flux_min": 9033.3,
          "rxn": "R_NADHr",
          "vref_mean (mmol/L/h)": 10037,
          "vref_mean (mmol/L/h).1": 10037,
          "vref_std (mmol/L/h)": 1003.7,
          "vref_std (mmol/L/h).1": 1003.7
         },
         {
          "flux": 7470,
          "flux_max": 8217,
          "flux_min": 6723,
          "rxn": "R_NADPHr",
          "vref_mean (mmol/L/h)": 7470,
          "vref_mean (mmol/L/h).1": 7470,
          "vref_std (mmol/L/h)": 747,
          "vref_std (mmol/L/h).1": 747
         },
         {
          "flux": 130,
          "flux_max": 143,
          "flux_min": 117,
          "rxn": "R_ACCOAr",
          "vref_mean (mmol/L/h)": 130,
          "vref_mean (mmol/L/h).1": 130,
          "vref_std (mmol/L/h)": 13,
          "vref_std (mmol/L/h).1": 13
         },
         {
          "flux": 4080,
          "flux_max": 4488,
          "flux_min": 3672,
          "rxn": "R_Q8H2r",
          "vref_mean (mmol/L/h)": 4080,
          "vref_mean (mmol/L/h).1": 4080,
          "vref_std (mmol/L/h)": 408,
          "vref_std (mmol/L/h).1": 408
         },
         {
          "flux": 4684,
          "flux_max": 5152.4,
          "flux_min": 4215.6,
          "rxn": "R_GLCtex",
          "vref_mean (mmol/L/h)": 4684,
          "vref_mean (mmol/L/h).1": 4684,
          "vref_std (mmol/L/h)": 468.4,
          "vref_std (mmol/L/h).1": 468.4
         },
         {
          "flux": 1144,
          "flux_max": 1258.4,
          "flux_min": 1029.6,
          "rxn": "R_EX_pyr",
          "vref_mean (mmol/L/h)": 1144,
          "vref_mean (mmol/L/h).1": 1144,
          "vref_std (mmol/L/h)": 114.4,
          "vref_std (mmol/L/h).1": 114.4
         },
         {
          "flux": 365,
          "flux_max": 401.5,
          "flux_min": 328.5,
          "rxn": "R_EX_pep",
          "vref_mean (mmol/L/h)": 365,
          "vref_mean (mmol/L/h).1": 365,
          "vref_std (mmol/L/h)": 36.5,
          "vref_std (mmol/L/h).1": 36.5
         },
         {
          "flux": 18,
          "flux_max": 19.8,
          "flux_min": 16.2,
          "rxn": "R_EX_g6p",
          "vref_mean (mmol/L/h)": 18,
          "vref_mean (mmol/L/h).1": 18,
          "vref_std (mmol/L/h)": 1.8,
          "vref_std (mmol/L/h).1": 1.8
         },
         {
          "flux": 246,
          "flux_max": 270.6,
          "flux_min": 221.4,
          "rxn": "R_EX_r5p",
          "vref_mean (mmol/L/h)": 246,
          "vref_mean (mmol/L/h).1": 246,
          "vref_std (mmol/L/h)": 24.6,
          "vref_std (mmol/L/h).1": 24.6
         },
         {
          "flux": -20,
          "flux_max": -22,
          "flux_min": -18,
          "rxn": "R_EX_g3p",
          "vref_mean (mmol/L/h)": -20,
          "vref_mean (mmol/L/h).1": -20,
          "vref_std (mmol/L/h)": -2,
          "vref_std (mmol/L/h).1": -2
         },
         {
          "flux": 107,
          "flux_max": 117.7,
          "flux_min": 96.3,
          "rxn": "R_EX_e4p",
          "vref_mean (mmol/L/h)": 107,
          "vref_mean (mmol/L/h).1": 107,
          "vref_std (mmol/L/h)": 10.7,
          "vref_std (mmol/L/h).1": 10.7
         },
         {
          "flux": 21,
          "flux_max": 23.1,
          "flux_min": 18.9,
          "rxn": "R_EX_f6p",
          "vref_mean (mmol/L/h)": 21,
          "vref_mean (mmol/L/h).1": 21,
          "vref_std (mmol/L/h)": 2.1,
          "vref_std (mmol/L/h).1": 2.1
         },
         {
          "flux": 550,
          "flux_max": 605,
          "flux_min": 495,
          "rxn": "R_EX_3pg",
          "vref_mean (mmol/L/h)": 550,
          "vref_mean (mmol/L/h).1": 550,
          "vref_std (mmol/L/h)": 55,
          "vref_std (mmol/L/h).1": 55
         },
         {
          "flux": 946,
          "flux_max": 1040.6,
          "flux_min": 851.4,
          "rxn": "R_EX_oaa",
          "vref_mean (mmol/L/h)": 946,
          "vref_mean (mmol/L/h).1": 946,
          "vref_std (mmol/L/h)": 94.6,
          "vref_std (mmol/L/h).1": 94.6
         },
         {
          "flux": 397,
          "flux_max": 436.7,
          "flux_min": 357.3,
          "rxn": "R_EX_malL",
          "vref_mean (mmol/L/h)": 397,
          "vref_mean (mmol/L/h).1": 397,
          "vref_std (mmol/L/h)": 39.7,
          "vref_std (mmol/L/h).1": 39.7
         },
         {
          "flux": 489,
          "flux_max": 537.9,
          "flux_min": 440.1,
          "rxn": "R_EX_akg",
          "vref_mean (mmol/L/h)": 489,
          "vref_mean (mmol/L/h).1": 489,
          "vref_std (mmol/L/h)": 48.9,
          "vref_std (mmol/L/h).1": 48.9
         },
         {
          "flux": 193,
          "flux_max": 212.3,
          "flux_min": 173.7,
          "rxn": "R_EX_succ",
          "vref_mean (mmol/L/h)": 193,
          "vref_mean (mmol/L/h).1": 193,
          "vref_std (mmol/L/h)": 19.3,
          "vref_std (mmol/L/h).1": 19.3
         },
         {
          "flux": 5,
          "flux_max": 5.5,
          "flux_min": 4.5,
          "rxn": "R_EX_ru5p__D",
          "vref_mean (mmol/L/h)": 5,
          "vref_mean (mmol/L/h).1": 5,
          "vref_std (mmol/L/h)": 0.5,
          "vref_std (mmol/L/h).1": 0.5
         },
         {
          "flux": -193,
          "flux_max": -212.3,
          "flux_min": -173.7,
          "rxn": "R_EX_fum",
          "vref_mean (mmol/L/h)": -193,
          "vref_mean (mmol/L/h).1": -193,
          "vref_std (mmol/L/h)": -19.3,
          "vref_std (mmol/L/h).1": -19.3
         },
         {
          "flux": 4,
          "flux_max": 4.4,
          "flux_min": 3.6,
          "rxn": "R_EX_s7p",
          "vref_mean (mmol/L/h)": 4,
          "vref_mean (mmol/L/h).1": 4,
          "vref_std (mmol/L/h)": 0.4,
          "vref_std (mmol/L/h).1": 0.4
         },
         {
          "flux": -260,
          "flux_max": -286,
          "flux_min": -234,
          "rxn": "R_EX_succoa",
          "vref_mean (mmol/L/h)": -260,
          "vref_mean (mmol/L/h).1": -260,
          "vref_std (mmol/L/h)": -26,
          "vref_std (mmol/L/h).1": -26
         }
        ],
        "data-7d1a8a984ecc874dde12d916b8ca10ac": [
         {
          "rxn": "R_GLCabcpp",
          "∆G_max": 10.531035708013622,
          "∆G_mean": -38.99584312289824,
          "∆G_min": -130.37319554787663
         },
         {
          "rxn": "R_GLK",
          "∆G_max": 19.405273407876564,
          "∆G_mean": -27.04051898910412,
          "∆G_min": -30.932619422966823
         },
         {
          "rxn": "R_GLCNt2rpp",
          "∆G_max": 50.63856283215555,
          "∆G_mean": 0,
          "∆G_min": -50.63856283215555
         },
         {
          "rxn": "R_GNK",
          "∆G_max": 24.341394695451257,
          "∆G_mean": -28.31875521456616,
          "∆G_min": -38.653397778065866
         },
         {
          "rxn": "R_2DHGLCNkt_tpp",
          "∆G_max": 50.63856283215555,
          "∆G_mean": 0,
          "∆G_min": -50.63856283215555
         },
         {
          "rxn": "R_2DHGLCK",
          "∆G_max": 37.265856062033066,
          "∆G_mean": -16.983700747220258,
          "∆G_min": -70.87981236170165
         },
         {
          "rxn": "R_PGLCNDH_NAD",
          "∆G_max": 29.449829278485492,
          "∆G_mean": -19.29022048851697,
          "∆G_min": -26.113302040400846
         },
         {
          "rxn": "R_PGLCNDH_NADP",
          "∆G_max": 26.52726413501156,
          "∆G_mean": -22.880467387766966,
          "∆G_min": -30.36794521947664
         },
         {
          "rxn": "R_GLCDpp",
          "∆G_max": -16.322874335688894,
          "∆G_mean": -116.1,
          "∆G_min": -215.8771256643111
         },
         {
          "rxn": "R_GAD2ktpp",
          "∆G_max": 30.977125664311103,
          "∆G_mean": -66.5,
          "∆G_min": -163.9771256643111
         },
         {
          "rxn": "R_G6PDH2_NAD",
          "∆G_max": -4.187476314698197,
          "∆G_mean": -9.168015736945065,
          "∆G_min": -56.2937079909108
         },
         {
          "rxn": "R_G6PDH2_NADP",
          "∆G_max": -0.06283313562240267,
          "∆G_mean": -5.587768837695066,
          "∆G_min": -53.261142847436865
         },
         {
          "rxn": "R_PGL",
          "∆G_max": 13.77410146557374,
          "∆G_mean": -34.1750544673459,
          "∆G_min": -40.152148248519765
         },
         {
          "rxn": "R_GND_NAD",
          "∆G_max": 4.036359828959988,
          "∆G_mean": -5.824467039798712,
          "∆G_min": -57.678559081931176
         },
         {
          "rxn": "R_GND_NADP",
          "∆G_max": 8.251003008035779,
          "∆G_mean": -2.2342201405487145,
          "∆G_min": -54.715993938457245
         },
         {
          "rxn": "R_RPI",
          "∆G_max": -4.382290176791521,
          "∆G_mean": -6.928020469818934,
          "∆G_min": -9.531392963789463
         },
         {
          "rxn": "R_RPE",
          "∆G_max": 12.373909449426252,
          "∆G_mean": 7.8225451526376935,
          "∆G_min": -38.85644097473414
         },
         {
          "rxn": "R_TKT1",
          "∆G_max": 19.508151284878522,
          "∆G_mean": -31.024827218211612,
          "∆G_min": -47.30319582846284
         },
         {
          "rxn": "R_TALA",
          "∆G_max": 49.18397190047296,
          "∆G_mean": 34.244497083691435,
          "∆G_min": -14.835656923213069
         },
         {
          "rxn": "R_EDD",
          "∆G_max": -22.037851751480236,
          "∆G_mean": -29.874945532654102,
          "∆G_min": -79.68410146557375
         },
         {
          "rxn": "R_EDA",
          "∆G_max": 16.234197635483422,
          "∆G_mean": -34.34431832871896,
          "∆G_min": -51.06814161663482
         },
         {
          "rxn": "R_PGI",
          "∆G_max": 2.480437805388922,
          "∆G_mean": -1.125922484907059,
          "∆G_min": -4.71594633921307
         },
         {
          "rxn": "R_FBP",
          "∆G_max": -8.737283553751551,
          "∆G_mean": -12.332044982137015,
          "∆G_min": -58.12873263588774
         },
         {
          "rxn": "R_FBA",
          "∆G_max": 28.470520260624802,
          "∆G_mean": 9.226654853496914,
          "∆G_min": -1.8503865324153708
         },
         {
          "rxn": "R_TPI",
          "∆G_max": 30.22973148823147,
          "∆G_mean": 8.833033347222964,
          "∆G_min": -4.703885960165824
         },
         {
          "rxn": "R_GAPD_NAD",
          "∆G_max": 95.4430998102116,
          "∆G_mean": 38.86157788462889,
          "∆G_min": -9.640548166931193
         },
         {
          "rxn": "R_GAPD_NADP",
          "∆G_max": 99.8777429892874,
          "∆G_mean": 42.45182478387889,
          "∆G_min": -6.897983023457263
         },
         {
          "rxn": "R_PGK",
          "∆G_max": 0.24089023758498485,
          "∆G_mean": -47.47056874055958,
          "∆G_min": -61.35585606203307
         },
         {
          "rxn": "R_PGM",
          "∆G_max": 16.379640708038885,
          "∆G_mean": 4.23,
          "∆G_min": -7.9196407080388855
         },
         {
          "rxn": "R_ENO",
          "∆G_max": 33.71467307033954,
          "∆G_mean": 10.61616727999425,
          "∆G_min": -4.488938451489968
         },
         {
          "rxn": "R_PYK",
          "∆G_max": -20.62151261338329,
          "∆G_mean": -23.716103510255298,
          "∆G_min": -27.458161898521343
         },
         {
          "rxn": "R_PDH",
          "∆G_max": -27.23037798051092,
          "∆G_mean": -38.717796291193366,
          "∆G_min": -91.47504071698678
         },
         {
          "rxn": "R_OAADC",
          "∆G_max": 75.95511580285256,
          "∆G_mean": 15.98416768595929,
          "∆G_min": -2.4382914640150304
         },
         {
          "rxn": "R_PPC",
          "∆G_max": 93.56840760691003,
          "∆G_mean": 39.22777894719426,
          "∆G_min": -14.163397593979923
         },
         {
          "rxn": "R_ME2_NADP",
          "∆G_max": 12.091757921269425,
          "∆G_mean": 1.436077614711289,
          "∆G_min": -51.50754587320087
         },
         {
          "rxn": "R_ME2_NAD",
          "∆G_max": 7.85711474219363,
          "∆G_mean": -2.154169284538712,
          "∆G_min": -54.450111016674796
         },
         {
          "rxn": "R_MDH_NAD",
          "∆G_max": 24.269532000966834,
          "∆G_mean": 11.339998401420576,
          "∆G_min": -2.3257039366104664
         },
         {
          "rxn": "R_MDH_NADP",
          "∆G_max": 28.744175180042625,
          "∆G_mean": 12.43024530067058,
          "∆G_min": -4.623138793136535
         },
         {
          "rxn": "R_FUM",
          "∆G_max": 2.3722001023530677,
          "∆G_mean": -0.1381711400393688,
          "∆G_min": -2.352964558765299
         },
         {
          "rxn": "R_SUCDi",
          "∆G_max": 25.460349695363774,
          "∆G_mean": -29.77576262051454,
          "∆G_min": -84.84382782749492
         },
         {
          "rxn": "R_SUCOAS",
          "∆G_max": 86.92421618143077,
          "∆G_mean": 17.464566235480365,
          "∆G_min": -3.350033266032895
         },
         {
          "rxn": "R_AKGDH",
          "∆G_max": -41.348785367773054,
          "∆G_mean": -56.035920171229975,
          "∆G_min": -119.78170137106085
         },
         {
          "rxn": "R_ICDHyr_NADP",
          "∆G_max": 8.57449539447612,
          "∆G_mean": -3.2812975783190392,
          "∆G_min": -57.11087060371002
         },
         {
          "rxn": "R_ICDHyr_NAD",
          "∆G_max": 4.379852215400329,
          "∆G_mean": -6.871544477569039,
          "∆G_min": -60.09343574718395
         },
         {
          "rxn": "R_ACONTa",
          "∆G_max": 22.299434713404914,
          "∆G_mean": 17.372721030865474,
          "∆G_min": -29.521611985304638
         },
         {
          "rxn": "R_ACONTb",
          "∆G_max": 32.61534044875132,
          "∆G_mean": -14.631990947472385,
          "∆G_min": -20.391205391159726
         },
         {
          "rxn": "R_CS_large",
          "∆G_max": -28.101843519824918,
          "∆G_mean": -32.93597109826006,
          "∆G_min": -37.580118696770825
         },
         {
          "rxn": "R_CS_small",
          "∆G_max": -28.101843519824918,
          "∆G_mean": -32.93597109826006,
          "∆G_min": -37.580118696770825
         },
         {
          "rxn": "R_ACCOAC",
          "∆G_max": 20.011772220912867,
          "∆G_mean": -35.620477232530234,
          "∆G_min": -98.90064915804429
         },
         {
          "rxn": "R_KAS15",
          "∆G_max": -262.3048847314084,
          "∆G_mean": -332.7412735980525,
          "∆G_min": -445.93565581547875
         },
         {
          "rxn": "R_MCOATA",
          "∆G_max": 87.70366017177014,
          "∆G_mean": 26.41764526293555,
          "∆G_min": -27.421076540999984
         },
         {
          "rxn": "R_OPNAD",
          "∆G_max": 135.60797698704434,
          "∆G_mean": -0.979210165736859,
          "∆G_min": -59.15185326627052
         },
         {
          "rxn": "R_OPQ8",
          "∆G_max": 90.74394076722008,
          "∆G_mean": -68.2529729567268,
          "∆G_min": -127.67828929737972
         },
         {
          "rxn": "R_AXPr",
          "∆G_max": -191.58752712414193,
          "∆G_mean": -196.45584312289824,
          "∆G_min": -243.1746327157211
         },
         {
          "rxn": "R_NADHr",
          "∆G_max": -52.21427218708825,
          "∆G_mean": -53.685166021171064,
          "∆G_min": -55.21115379188108
         },
         {
          "rxn": "R_NADPHr",
          "∆G_max": -55.09683733056218,
          "∆G_mean": -57.27541292042107,
          "∆G_min": -59.505796970956865
         },
         {
          "rxn": "R_ACCOAr",
          "∆G_max": 41.24069006448732,
          "∆G_mean": 19.560139533921266,
          "∆G_min": -2.6286170174834425
         },
         {
          "rxn": "R_Q8H2r",
          "∆G_max": 50.63856283215555,
          "∆G_mean": 0,
          "∆G_min": -50.63856283215555
         },
         {
          "rxn": "R_GLCtex",
          "∆G_max": 50.63856283215555,
          "∆G_mean": 0,
          "∆G_min": -50.63856283215555
         },
         {
          "rxn": "R_EX_pyr",
          "∆G_max": 16.03475843045983,
          "∆G_mean": 8.24790646526114,
          "∆G_min": -41.41794011361953
         },
         {
          "rxn": "R_EX_pep",
          "∆G_max": 14.00786057560663,
          "∆G_mean": 6.998102207785584,
          "∆G_min": -42.18467307033954
         },
         {
          "rxn": "R_EX_g6p",
          "∆G_max": 11.401369893420725,
          "∆G_mean": 4.586818241883867,
          "∆G_min": -44.427980177999046
         },
         {
          "rxn": "R_EX_r5p",
          "∆G_max": 23.563514821210877,
          "∆G_mean": 16.200565622456626,
          "∆G_min": -33.23236320593777
         },
         {
          "rxn": "R_EX_g3p",
          "∆G_max": 50.63856283215555,
          "∆G_mean": 34.20426948777983,
          "∆G_min": -16.409640708038886
         },
         {
          "rxn": "R_EX_e4p",
          "∆G_max": 50.63856283215555,
          "∆G_mean": 0,
          "∆G_min": -50.63856283215555
         },
         {
          "rxn": "R_EX_f6p",
          "∆G_max": 15.43102045954542,
          "∆G_mean": 8.480895756976809,
          "∆G_min": -40.65313927794789
         },
         {
          "rxn": "R_EX_3pg",
          "∆G_max": 50.63856283215555,
          "∆G_mean": 34.20426948777983,
          "∆G_min": -16.409640708038886
         },
         {
          "rxn": "R_EX_oaa",
          "∆G_max": 18.373734536570495,
          "∆G_mean": 9.55588115497984,
          "∆G_min": -40.485537018373286
         },
         {
          "rxn": "R_EX_malL",
          "∆G_max": 18.471404022868015,
          "∆G_mean": 10.970713535229352,
          "∆G_min": -38.54480441928377
         },
         {
          "rxn": "R_EX_akg",
          "∆G_max": 16.507547131501433,
          "∆G_mean": 8.346559070534502,
          "∆G_min": -41.48087621853451
         },
         {
          "rxn": "R_EX_succ",
          "∆G_max": 14.340226327310942,
          "∆G_mean": 5.996779774675442,
          "∆G_min": -43.89786931227008
         },
         {
          "rxn": "R_EX_ru5p__D",
          "∆G_max": 18.383909449426252,
          "∆G_mean": 11.192545152637694,
          "∆G_min": -38.12644097473414
         },
         {
          "rxn": "R_EX_fum",
          "∆G_max": 22.345958515224844,
          "∆G_mean": 14.272542395189982,
          "∆G_min": -35.52012336805283
         },
         {
          "rxn": "R_EX_s7p",
          "∆G_max": 16.260832622525065,
          "∆G_mean": 9.131123352888407,
          "∆G_min": -40.143558587784305
         },
         {
          "rxn": "R_EX_succoa",
          "∆G_max": 50.63856283215555,
          "∆G_mean": 34.20426948777983,
          "∆G_min": -16.409640708038886
         }
        ],
        "data-d7255ad842f014c46f35befde053a015": [
         {
          "Threshold": "hazardous",
          "ThresholdValue": 0
         }
        ]
       },
       "hconcat": [
        {
         "data": {
          "name": "data-7d1a8a984ecc874dde12d916b8ca10ac"
         },
         "layer": [
          {
           "encoding": {
            "x": {
             "field": "∆G_min",
             "type": "quantitative"
            },
            "x2": {
             "field": "∆G_max"
            },
            "y": {
             "field": "rxn",
             "type": "nominal"
            }
           },
           "height": 1000,
           "mark": "rect",
           "width": 400
          },
          {
           "encoding": {
            "tooltip": [
             {
              "field": "rxn",
              "type": "nominal"
             },
             {
              "field": "∆G_min",
              "type": "quantitative"
             },
             {
              "field": "∆G_mean",
              "type": "quantitative"
             },
             {
              "field": "∆G_max",
              "type": "quantitative"
             }
            ],
            "x": {
             "field": "∆G_mean",
             "type": "quantitative"
            },
            "y": {
             "field": "rxn",
             "type": "nominal"
            }
           },
           "mark": {
            "color": "red",
            "filled": true,
            "size": 100,
            "type": "point"
           },
           "selection": {
            "selector009": {
             "bind": "scales",
             "encodings": [
              "x",
              "y"
             ],
             "type": "interval"
            }
           }
          },
          {
           "data": {
            "name": "data-d7255ad842f014c46f35befde053a015"
           },
           "encoding": {
            "x": {
             "field": "ThresholdValue",
             "type": "quantitative"
            }
           },
           "mark": "rule"
          }
         ]
        },
        {
         "data": {
          "name": "data-026cce113e7c79705aaf8d9a3a0b2f9d"
         },
         "layer": [
          {
           "encoding": {
            "x": {
             "field": "flux_min",
             "type": "quantitative"
            },
            "x2": {
             "field": "flux_max"
            },
            "y": {
             "field": "rxn",
             "type": "nominal"
            }
           },
           "height": 1000,
           "mark": "rect",
           "width": 400
          },
          {
           "encoding": {
            "tooltip": [
             {
              "field": "rxn",
              "type": "nominal"
             },
             {
              "field": "flux",
              "type": "quantitative"
             }
            ],
            "x": {
             "field": "flux",
             "type": "quantitative"
            },
            "y": {
             "field": "rxn",
             "type": "nominal"
            }
           },
           "mark": {
            "color": "red",
            "filled": true,
            "size": 100,
            "type": "point"
           },
           "selection": {
            "selector010": {
             "bind": "scales",
             "encodings": [
              "x",
              "y"
             ],
             "type": "interval"
            }
           }
          },
          {
           "data": {
            "name": "data-d7255ad842f014c46f35befde053a015"
           },
           "encoding": {
            "x": {
             "field": "ThresholdValue",
             "type": "quantitative"
            }
           },
           "mark": "rule"
          }
         ]
        }
       ]
      },
      "image/png": "[encoded data removed]",
      "text/plain": [
       "<VegaLite 3 object>\n",
       "\n",
       "If you see this message, it means the renderer has not been properly enabled\n",
       "for the frontend that you are using. For more information, see\n",
       "https://altair-viz.github.io/user_guide/troubleshooting.html\n"
      ]
     },
     "execution_count": 11,
     "metadata": {},
     "output_type": "execute_result"
    }
   ],
   "source": [
    "file_in = os.path.join(models_dir,f'{model_name}.xlsx')\n",
    "data_dict = pd.read_excel(file_in, sheet_name=None, index_col=0)\n",
    "flag, flux_df, dG_df = check_thermodynamic_feasibility(data_dict) \n",
    "dG_df['rxn'] = dG_df.index\n",
    "\n",
    "\n",
    "flux_df['rxn'] = flux_df.index\n",
    "flux_df['flux_min'] = flux_df['vref_mean (mmol/L/h)'] - flux_df['vref_std (mmol/L/h)']\n",
    "flux_df['flux_max'] = flux_df['vref_mean (mmol/L/h)'] + flux_df['vref_std (mmol/L/h)']\n",
    "flux_df['flux'] = flux_df['vref_mean (mmol/L/h)']\n",
    "\n",
    "height=1000\n",
    "width=400\n",
    "plot_dG_and_flux(dG_df,  flux_df, height, width)"
   ]
  },
  {
   "cell_type": "markdown",
   "metadata": {},
   "source": [
    "#### Adding OP and glutathione reactions"
   ]
  },
  {
   "cell_type": "code",
   "execution_count": null,
   "metadata": {},
   "outputs": [],
   "source": []
  },
  {
   "cell_type": "markdown",
   "metadata": {},
   "source": [
    "# Create model from putida_TCA_OP_reg_no_gth"
   ]
  },
  {
   "cell_type": "code",
   "execution_count": 21,
   "metadata": {},
   "outputs": [
    {
     "name": "stdin",
     "output_type": "stream",
     "text": [
      "No KEGG id was found for q8h2. If you know it, please insert it below,otherwise all reaction involving q8h2 will be ignored.\n",
      " \n"
     ]
    },
    {
     "name": "stdout",
     "output_type": "stream",
     "text": [
      "R_OPNAD is not balanced.\n",
      "R_AXPr is not balanced.\n",
      "R_NADHr is not balanced.\n",
      "R_NADPHr is not balanced.\n",
      "R_ACCOAr is not balanced.\n"
     ]
    }
   ],
   "source": [
    "model_name = 'putida_TCA_OP_reg_no_gth'\n",
    "models_dir = '../../models'\n",
    "data_dir = '../../data/omics'\n",
    "\n",
    "file_in_stoic = os.path.join(models_dir, 'putida_TCA_OP_reg_no_gth.txt')\n",
    "file_in_metabolomics = os.path.join(data_dir, 'P. putida wt Glucose.xlsx')\n",
    "base_excel_file = os.path.join(models_dir, 'putida_TCA_OP_reg.xlsx')\n",
    "\n",
    "file_out = os.path.join(models_dir, f'{model_name}.xlsx')\n",
    "\n",
    "set_up_model(model_name, file_in_stoic, base_excel_file, file_out, use_equilibrator=True, file_in_mets_conc=file_in_metabolomics)"
   ]
  },
  {
   "cell_type": "code",
   "execution_count": 23,
   "metadata": {},
   "outputs": [
    {
     "name": "stdout",
     "output_type": "stream",
     "text": [
      "\n",
      "Checking if values are separated by a space in the kinetics sheet in columns order, promiscuous, inhibitors, activators, negative effector, and positive effector.\n",
      "It looks for dots, commas, and semi-colons.\n",
      "\n",
      "Everything seems to be OK.\n",
      "\n",
      "\n",
      "Checking if the order of reactions and metabolites is the same in all excel sheets.\n",
      "\n",
      "Everything seems to be OK.\n",
      "\n",
      "\n",
      "Checking if metabolites are both consumed and produced in the stoichiometric matrix, and if so checks if they are marked as balanced in the mets sheet. However, the metabolite might be balanced/not balanced anyways depending on the flux of the reactions that consume/produce it, so take this with a grain of salt.\n",
      "\n",
      "m_h2o_c is marked as not balanced but it seems to be balanced.\n",
      "m_pi_c is marked as not balanced but it seems to be balanced.\n",
      "m_co2_c is marked as not balanced but it seems to be balanced.\n",
      "\n",
      "Checking if fluxes and Gibbs energies are compatible.\n",
      "\n",
      "Everything seems to be OK.\n",
      "\n",
      "Checking if the fluxes for each metabolite production/consumptions add up to zero.\n",
      "\n",
      "Everything seems to be OK.\n",
      "\n",
      "Checking if the metabolite names in the substrate and product order columns in the kinetics sheet are valid, i.e., if they are indeed substrates and products of the respective reaction.\n",
      "\n",
      "The following metabolites in the substrate order column for reaction R_PGLCNDH_NAD are not part of the reaction substrates:\n",
      "{'m_nadph_c'}\n",
      "\n",
      "The following metabolites in the product order column for reaction R_PGLCNDH_NAD are not part of the reaction products:\n",
      "{'m_nadp_c'}\n",
      "\n",
      "The following metabolites in the substrate order column for reaction R_PGLCNDH_NADP are not part of the reaction substrates:\n",
      "{'m_nadh_c'}\n",
      "\n",
      "The following metabolites in the product order column for reaction R_PGLCNDH_NADP are not part of the reaction products:\n",
      "{'m_nad_c'}\n",
      "\n",
      "The following metabolites in the substrate order column for reaction R_G6PDH2_NAD are not part of the reaction substrates:\n",
      "{'m_nadp_c'}\n",
      "\n",
      "The following metabolites in the product order column for reaction R_G6PDH2_NAD are not part of the reaction products:\n",
      "{'m_nadph_c'}\n",
      "\n",
      "The following metabolites in the substrate order column for reaction R_G6PDH2_NADP are not part of the reaction substrates:\n",
      "{'m_nad_c'}\n",
      "\n",
      "The following metabolites in the product order column for reaction R_G6PDH2_NADP are not part of the reaction products:\n",
      "{'m_nadh_c'}\n",
      "\n",
      "The following metabolites in the substrate order column for reaction R_GND_NAD are not part of the reaction substrates:\n",
      "{'m_nadp_c'}\n",
      "\n",
      "The following metabolites in the product order column for reaction R_GND_NAD are not part of the reaction products:\n",
      "{'m_nadph_c'}\n",
      "\n",
      "The following metabolites in the substrate order column for reaction R_GND_NADP are not part of the reaction substrates:\n",
      "{'m_nad_c'}\n",
      "\n",
      "The following metabolites in the product order column for reaction R_GND_NADP are not part of the reaction products:\n",
      "{'m_nadh_c'}\n",
      "\n",
      "The following metabolites in the substrate order column for reaction R_GAPD_NAD are not part of the reaction substrates:\n",
      "{'m_nadp_c'}\n",
      "\n",
      "The following metabolites in the product order column for reaction R_GAPD_NAD are not part of the reaction products:\n",
      "{'m_nadph_c'}\n",
      "\n",
      "The following metabolites in the substrate order column for reaction R_GAPD_NADP are not part of the reaction substrates:\n",
      "{'m_nad_c'}\n",
      "\n",
      "The following metabolites in the product order column for reaction R_GAPD_NADP are not part of the reaction products:\n",
      "{'m_nadh_c'}\n",
      "\n",
      "The following metabolites in the substrate order column for reaction R_ME2_NADP are not part of the reaction substrates:\n",
      "{'m_nad_c'}\n",
      "\n",
      "The following metabolites in the product order column for reaction R_ME2_NADP are not part of the reaction products:\n",
      "{'m_nadh_c'}\n",
      "\n",
      "The following metabolites in the substrate order column for reaction R_ME2_NAD are not part of the reaction substrates:\n",
      "{'m_nadp_c'}\n",
      "\n",
      "The following metabolites in the product order column for reaction R_ME2_NAD are not part of the reaction products:\n",
      "{'m_nadph_c'}\n",
      "\n",
      "The following metabolites in the substrate order column for reaction R_MDH_NAD are not part of the reaction substrates:\n",
      "{'m_nadp_c'}\n",
      "\n",
      "The following metabolites in the product order column for reaction R_MDH_NAD are not part of the reaction products:\n",
      "{'m_nadph_c'}\n",
      "\n",
      "The following metabolites in the substrate order column for reaction R_MDH_NADP are not part of the reaction substrates:\n",
      "{'m_nad_c'}\n",
      "\n",
      "The following metabolites in the product order column for reaction R_MDH_NADP are not part of the reaction products:\n",
      "{'m_nadh_c'}\n",
      "\n",
      "The following metabolites in the substrate order column for reaction R_ICDHyr_NADP are not part of the reaction substrates:\n",
      "{'m_nad_c'}\n",
      "\n",
      "The following metabolites in the product order column for reaction R_ICDHyr_NADP are not part of the reaction products:\n",
      "{'m_nadh_c'}\n",
      "\n",
      "The following metabolites in the substrate order column for reaction R_ICDHyr_NAD are not part of the reaction substrates:\n",
      "{'m_nadp_c'}\n",
      "\n",
      "The following metabolites in the product order column for reaction R_ICDHyr_NAD are not part of the reaction products:\n",
      "{'m_nadph_c'}\n",
      "\n",
      "\n",
      "Checking if non enzymatic mechanisms come only after enzymatic ones and if fixedExchange is the very last one.\n",
      "\n",
      "Everything seems to be OK.\n",
      "\n"
     ]
    }
   ],
   "source": [
    "model_name = 'putida_TCA_OP_reg_no_gth'\n",
    "models_dir = '../../models'\n",
    "\n",
    "file_in = os.path.join(models_dir,f'{model_name}.xlsx')\n",
    "data_dict = pd.read_excel(file_in, sheet_name=None, index_col=0)\n",
    "full_model_check(data_dict)"
   ]
  },
  {
   "cell_type": "code",
   "execution_count": null,
   "metadata": {},
   "outputs": [],
   "source": []
  }
 ],
 "metadata": {
  "kernelspec": {
   "display_name": "Python 3",
   "language": "python",
   "name": "python3"
  },
  "language_info": {
   "codemirror_mode": {
    "name": "ipython",
    "version": 3
   },
   "file_extension": ".py",
   "mimetype": "text/x-python",
   "name": "python",
   "nbconvert_exporter": "python",
   "pygments_lexer": "ipython3",
   "version": "3.8.5"
  }
 },
 "nbformat": 4,
 "nbformat_minor": 4
}
