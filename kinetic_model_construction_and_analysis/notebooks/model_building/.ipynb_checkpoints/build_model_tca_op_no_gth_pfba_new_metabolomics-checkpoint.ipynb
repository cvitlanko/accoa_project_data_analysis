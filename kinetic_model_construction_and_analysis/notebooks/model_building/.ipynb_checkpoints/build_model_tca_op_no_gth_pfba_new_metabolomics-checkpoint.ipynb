{
 "cells": [
  {
   "cell_type": "code",
   "execution_count": 1,
   "metadata": {},
   "outputs": [],
   "source": [
    "%load_ext autoreload\n",
    "%autoreload 2"
   ]
  },
  {
   "cell_type": "code",
   "execution_count": 2,
   "metadata": {},
   "outputs": [
    {
     "name": "stdout",
     "output_type": "stream",
     "text": [
      "Downloading package metadata...\n",
      "Fragments already downloaded\n",
      "Downloading package metadata...\n",
      "Fragments already downloaded\n"
     ]
    }
   ],
   "source": [
    "from set_up_grasp_models.set_up_models.convert_mechanisms import generate_mechanisms\n",
    "from set_up_grasp_models.set_up_models.set_up_model import set_up_model\n",
    "from set_up_grasp_models.check_models.mass_balance_checks import check_flux_balance\n",
    "\n",
    "from set_up_grasp_models.check_models.format_checks import check_met_rxn_order, check_kinetics_met_separators, \\\n",
    "    check_kinetics_subs_prod_order, check_rxn_mechanism_order\n",
    "from set_up_grasp_models.check_models.thermodynamics_checks import check_thermodynamic_feasibility\n",
    "from set_up_grasp_models.check_models.mass_balance_checks import check_flux_balance, check_balanced_metabolites\n",
    "from set_up_grasp_models.set_up_models.manipulate_model import reorder_reactions\n",
    "\n",
    "from src.visualization.viz_thermodynamics import plot_dG_and_flux\n",
    "import pandas as pd\n",
    "import os"
   ]
  },
  {
   "cell_type": "markdown",
   "metadata": {},
   "source": [
    "# Create model for putida_TCA_OP_reg_no_gth_pfba_amp_new_mets\n"
   ]
  },
  {
   "cell_type": "markdown",
   "metadata": {},
   "source": [
    " - Originally the base model was putida_TCA_OP_reg_no_gth_pfba_amp\n",
    " - Both thermoMets and thermoRxns should change"
   ]
  },
  {
   "cell_type": "code",
   "execution_count": 8,
   "metadata": {},
   "outputs": [
    {
     "name": "stdin",
     "output_type": "stream",
     "text": [
      "No KEGG id was found for q8h2. If you know it, please insert it below,otherwise all reaction involving q8h2 will be ignored.\n",
      " \n"
     ]
    },
    {
     "name": "stderr",
     "output_type": "stream",
     "text": [
      "WARNING:root:cannot generate the reaction atom bag because compounds have unspecific formulas: Compound(id=23, inchi_key=ZSLZBFCDCINBPY-ZSJPKINUSA-J) + Compound(id=174, inchi_key=None) = Compound(id=15, inchi_key=RGJOEKWQDUBAIZ-IBOSZNHHSA-J) + Compound(id=16, inchi_key=CURLTUGMZLYLDI-UHFFFAOYSA-N) + Compound(id=1130, inchi_key=None)\n"
     ]
    },
    {
     "name": "stdout",
     "output_type": "stream",
     "text": [
      "R_KAS15 is not balanced.\n"
     ]
    },
    {
     "name": "stderr",
     "output_type": "stream",
     "text": [
      "WARNING:root:cannot generate the reaction atom bag because compounds have unspecific formulas: Compound(id=42, inchi_key=LTYOQGRJFJAKNA-DVVLENMVSA-I) + Compound(id=858, inchi_key=None) = Compound(id=15, inchi_key=RGJOEKWQDUBAIZ-IBOSZNHHSA-J) + Compound(id=174, inchi_key=None)\n"
     ]
    },
    {
     "name": "stdout",
     "output_type": "stream",
     "text": [
      "There is no standard Gibbs energy for R_KAS15.\n",
      "R_MCOATA is not balanced.\n",
      "There is no standard Gibbs energy for R_MCOATA.\n",
      "R_AXPr is not balanced.\n",
      "R_NADHr is not balanced.\n",
      "R_NADPHr is not balanced.\n",
      "R_ACCOAr is not balanced.\n"
     ]
    }
   ],
   "source": [
    "model_name = 'putida_TCA_OP_reg_no_gth_pfba_amp_new_mets'\n",
    "models_dir = '../../models'\n",
    "data_dir = '../../data/omics'\n",
    "\n",
    "file_in_stoic = os.path.join(models_dir, 'putida_TCA_OP_reg_no_gth_pfba_amp.txt')\n",
    "base_excel_file = os.path.join(models_dir, 'putida_TCA_OP_reg_no_gth_pfba_amp_no_thermo.xlsx')\n",
    "\n",
    "file_in_metabolomics = os.path.join(data_dir, 'Metabolomics_for_Marta_extra.xlsx')\n",
    "#file_in_meas_fluxes = os.path.join(data_dir, 'pfba_flux.xlsx')\n",
    "\n",
    "file_out = os.path.join(models_dir, f'{model_name}.xlsx')\n",
    "\n",
    "set_up_model(model_name, file_in_stoic, base_excel_file, file_out, \n",
    "             use_equilibrator=True, file_in_mets_conc=file_in_metabolomics, mets_orient='rows')"
   ]
  },
  {
   "cell_type": "markdown",
   "metadata": {},
   "source": [
    "### Manual changes\n",
    "   \n",
    " - **thermoMets**\n",
    "    - set succoa, g3p, m_xu5p__D_c, 3pg, succoas, malcoa, and 2pg concentration ranges from 0 to [10^-9, 10^-7] mol/L\n",
    "    - set water to [1, 1] mol/L\n",
    " \n",
    " - **thermoRxns**\n",
    "   - set exchange reaction bounds to [-5, 5] kJ/mol\n",
    "   - GLCDpp: equilibrator:  D-Glucose + Ubiquinone + H2O <=> D-Gluconate + Ubiquinol\n",
    "   - GAD2ktpp: equilibrator: D-Gluconate + Ubiquinone <=> 2-Keto-D-gluconic acid + Ubiquinol\n",
    "   - SUCDi: from equilibrator: Succinate + Ubiquinone = Fumarate + Ubiquinol\n",
    "   - R_ACCOAC: from equilibrator: ATP(aq) + Acetyl-CoA(aq) + HCO3-(aq) ⇌ ADP(aq) + Orthophosphate(aq) + Malonyl-CoA(aq) (now the api worked)\n",
    "   - R_KAS15: from formation energies on  equilibrator:  Acetyl-CoA(aq)  = CO2(aq) + Coenzyme A(aq) , ignored carriers\n",
    "   - R_MCOATA: from formation energies on  equilibrator:  malcoa <=> Coenzyme A , ignored carriers, check data/omics/dG_calculation.ods\n",
    "   - R_CYTBO3_4pp: from equilibrator: 0.50 O2(aq) + Ubiquinol(aq) ⇌ Ubiquinone(aq) + H2O(l), check data/omics/dG_calculation.ods\n",
    "   - R_NADH16pp: from equilibrator: NADH(aq) + Ubiquinone(aq) ⇌ NAD+(aq) + Ubiquinol(aq)\n",
    "   - R_ATPS4rpp: from equilibrator: ADP + Orthophosphate <=> ATP + H2O\n",
    "   \n",
    "   - Adjusted lower bounds:\n",
    "     - RPI - 1kJ/mol\n",
    "     - FBA - 15kJ/mol\n",
    "     - TPI - 20kJ/mol, -5 kJ/mol after TMFA failed\n",
    "     - ENO - 20kJ/mol, -5 kJ/mol after TMFA failed\n",
    "     - OAADC - 10kJ/mol\n",
    "     - MDH_NAD - 20kJ/mol\n",
    "     - MDH_NADP - 20kJ/mol\n",
    "     - SUCCOAS - 20kJ/mol\n",
    "     \n",
    "   - set PPC to [-5.33, 43.01] kJ/mol after TMFA failed\n",
    "\n",
    "\n",
    "   - Took ACCOAC, KAS15, MCOATA, OPNAD, OPQ8, ACCOAr from putida_TCA_OP_reg_no_gth_pfba_amp."
   ]
  },
  {
   "cell_type": "code",
   "execution_count": 14,
   "metadata": {},
   "outputs": [],
   "source": [
    "def full_model_check(data_dict):\n",
    "    # check metabolite lists separators in kinetics sheet\n",
    "    check_kinetics_met_separators(data_dict)\n",
    "\n",
    "    # check if the order of metabolites and reactions in all excel sheets is correct\n",
    "    check_met_rxn_order(data_dict)\n",
    "\n",
    "    # check consistency between stoic sheet and mets sheet, take the results with a grain of salt\n",
    "    check_balanced_metabolites(data_dict)\n",
    "\n",
    "    # check if fluxes and Gibbs energies are compatible\n",
    "    check_thermodynamic_feasibility(data_dict)\n",
    "\n",
    "    # check if all metabolites marked as balanced are indeed mass balance, only works if fluxes for all reactions are\n",
    "    # either specified or can be calculated\n",
    "    check_flux_balance(data_dict)\n",
    "\n",
    "\n",
    "    check_kinetics_subs_prod_order(data_dict)\n",
    "\n",
    "\n",
    "    check_rxn_mechanism_order(data_dict)"
   ]
  },
  {
   "cell_type": "code",
   "execution_count": 15,
   "metadata": {},
   "outputs": [
    {
     "name": "stdout",
     "output_type": "stream",
     "text": [
      "\n",
      "Checking if values are separated by a space in the kinetics sheet in columns order, promiscuous, inhibitors, activators, negative effector, and positive effector.\n",
      "It looks for dots, commas, and semi-colons.\n",
      "\n",
      "Everything seems to be OK.\n",
      "\n",
      "\n",
      "Checking if the order of reactions and metabolites is the same in all excel sheets.\n",
      "\n",
      "Everything seems to be OK.\n",
      "\n",
      "\n",
      "Checking if metabolites are both consumed and produced in the stoichiometric matrix, and if so checks if they are marked as balanced in the mets sheet. However, the metabolite might be balanced/not balanced anyways depending on the flux of the reactions that consume/produce it, so take this with a grain of salt.\n",
      "\n",
      "m_h2o_c is marked as not balanced but it seems to be balanced.\n",
      "m_pi_c is marked as not balanced but it seems to be balanced.\n",
      "m_co2_c is marked as not balanced but it seems to be balanced.\n",
      "m_malACP_c is marked as not balanced but it seems to be balanced.\n",
      "m_amp_c is marked as not balanced but it seems to be balanced.\n",
      "\n",
      "Checking if fluxes and Gibbs energies are compatible.\n",
      "\n",
      "Everything seems to be OK.\n",
      "\n",
      "Checking if the fluxes for each metabolite production/consumptions add up to zero.\n",
      "\n",
      "m_amp_c should be in balanced mets\n",
      "\n",
      "Checking if the metabolite names in the substrate and product order columns in the kinetics sheet are valid, i.e., if they are indeed substrates and products of the respective reaction.\n",
      "\n",
      "The following metabolites in the substrate order column for reaction R_PGLCNDH_NAD are not part of the reaction substrates:\n",
      "{'m_nadph_c'}\n",
      "\n",
      "The following metabolites in the product order column for reaction R_PGLCNDH_NAD are not part of the reaction products:\n",
      "{'m_nadp_c'}\n",
      "\n",
      "The following metabolites in the substrate order column for reaction R_PGLCNDH_NADP are not part of the reaction substrates:\n",
      "{'m_nadh_c'}\n",
      "\n",
      "The following metabolites in the product order column for reaction R_PGLCNDH_NADP are not part of the reaction products:\n",
      "{'m_nad_c'}\n",
      "\n",
      "The following metabolites in the substrate order column for reaction R_G6PDH2_NAD are not part of the reaction substrates:\n",
      "{'m_nadp_c'}\n",
      "\n",
      "The following metabolites in the product order column for reaction R_G6PDH2_NAD are not part of the reaction products:\n",
      "{'m_nadph_c'}\n",
      "\n",
      "The following metabolites in the substrate order column for reaction R_G6PDH2_NADP are not part of the reaction substrates:\n",
      "{'m_nad_c'}\n",
      "\n",
      "The following metabolites in the product order column for reaction R_G6PDH2_NADP are not part of the reaction products:\n",
      "{'m_nadh_c'}\n",
      "\n",
      "The following metabolites in the substrate order column for reaction R_GND_NAD are not part of the reaction substrates:\n",
      "{'m_nadp_c'}\n",
      "\n",
      "The following metabolites in the product order column for reaction R_GND_NAD are not part of the reaction products:\n",
      "{'m_nadph_c'}\n",
      "\n",
      "The following metabolites in the substrate order column for reaction R_GND_NADP are not part of the reaction substrates:\n",
      "{'m_nad_c'}\n",
      "\n",
      "The following metabolites in the product order column for reaction R_GND_NADP are not part of the reaction products:\n",
      "{'m_nadh_c'}\n",
      "\n",
      "The following metabolites in the substrate order column for reaction R_GAPD_NAD are not part of the reaction substrates:\n",
      "{'m_nadp_c'}\n",
      "\n",
      "The following metabolites in the product order column for reaction R_GAPD_NAD are not part of the reaction products:\n",
      "{'m_nadph_c'}\n",
      "\n",
      "The following metabolites in the substrate order column for reaction R_GAPD_NADP are not part of the reaction substrates:\n",
      "{'m_nad_c'}\n",
      "\n",
      "The following metabolites in the product order column for reaction R_GAPD_NADP are not part of the reaction products:\n",
      "{'m_nadh_c'}\n",
      "\n",
      "The following metabolites in the substrate order column for reaction R_ME2_NADP are not part of the reaction substrates:\n",
      "{'m_nad_c'}\n",
      "\n",
      "The following metabolites in the product order column for reaction R_ME2_NADP are not part of the reaction products:\n",
      "{'m_nadh_c'}\n",
      "\n",
      "The following metabolites in the substrate order column for reaction R_ME2_NAD are not part of the reaction substrates:\n",
      "{'m_nadp_c'}\n",
      "\n",
      "The following metabolites in the product order column for reaction R_ME2_NAD are not part of the reaction products:\n",
      "{'m_nadph_c'}\n",
      "\n",
      "The following metabolites in the substrate order column for reaction R_MDH_NAD are not part of the reaction substrates:\n",
      "{'m_nadp_c'}\n",
      "\n",
      "The following metabolites in the product order column for reaction R_MDH_NAD are not part of the reaction products:\n",
      "{'m_nadph_c'}\n",
      "\n",
      "The following metabolites in the substrate order column for reaction R_MDH_NADP are not part of the reaction substrates:\n",
      "{'m_nad_c'}\n",
      "\n",
      "The following metabolites in the product order column for reaction R_MDH_NADP are not part of the reaction products:\n",
      "{'m_nadh_c'}\n",
      "\n",
      "The following metabolites in the substrate order column for reaction R_ICDHyr_NADP are not part of the reaction substrates:\n",
      "{'m_nad_c'}\n",
      "\n",
      "The following metabolites in the product order column for reaction R_ICDHyr_NADP are not part of the reaction products:\n",
      "{'m_nadh_c'}\n",
      "\n",
      "The following metabolites in the substrate order column for reaction R_ICDHyr_NAD are not part of the reaction substrates:\n",
      "{'m_nadp_c'}\n",
      "\n",
      "The following metabolites in the product order column for reaction R_ICDHyr_NAD are not part of the reaction products:\n",
      "{'m_nadph_c'}\n",
      "\n",
      "The following reaction substrates are not part of the substrate order column for reaction R_ACCOAC :\n",
      "{'m_hco3_c'}\n",
      "\n",
      "The following reaction products are not part of the product order column for reaction R_ACCOAC :\n",
      "{'m_pi_c'}\n",
      "\n",
      "The following reaction substrates are not part of the substrate order column for reaction R_KAS15 :\n",
      "{'m_malACP_c'}\n",
      "\n",
      "The following reaction products are not part of the product order column for reaction R_KAS15 :\n",
      "{'m_actACP_c'}\n",
      "\n",
      "The following reaction substrates are not part of the substrate order column for reaction R_MCOATA :\n",
      "{'m_ACP_c'}\n",
      "\n",
      "The following reaction products are not part of the product order column for reaction R_MCOATA :\n",
      "{'m_malACP_c'}\n",
      "\n",
      "\n",
      "Checking if non enzymatic mechanisms come only after enzymatic ones and if fixedExchange is the very last one.\n",
      "\n",
      "Everything seems to be OK.\n",
      "\n"
     ]
    }
   ],
   "source": [
    "model_name = 'putida_TCA_OP_reg_no_gth_pfba_amp_new_mets'\n",
    "models_dir = '../../models'\n",
    "\n",
    "file_in = os.path.join(models_dir,f'{model_name}.xlsx')\n",
    "data_dict = pd.read_excel(file_in, sheet_name=None, index_col=0)\n",
    "full_model_check(data_dict)"
   ]
  },
  {
   "cell_type": "code",
   "execution_count": 16,
   "metadata": {},
   "outputs": [
    {
     "name": "stdout",
     "output_type": "stream",
     "text": [
      "\n",
      "Checking if fluxes and Gibbs energies are compatible.\n",
      "\n",
      "Everything seems to be OK.\n"
     ]
    },
    {
     "data": {
      "application/vnd.vegalite.v3+json": {
       "$schema": "https://vega.github.io/schema/vega-lite/v3.3.0.json",
       "config": {
        "mark": {
         "tooltip": null
        },
        "view": {
         "height": 300,
         "width": 400
        }
       },
       "datasets": {
        "data-18737f45919422dc9ff2b46f0f3815c0": [
         {
          "flux": 473,
          "flux_max": 520.3,
          "flux_min": 425.7,
          "rxn": "R_GLCabcpp",
          "vref_mean (mmol/L/h)": 473,
          "vref_mean2 (mmol/L/h)": 473,
          "vref_std (mmol/L/h)": 47.3,
          "vref_std2 (mmol/L/h)": 47.3
         },
         {
          "flux": 473,
          "flux_max": 520.3,
          "flux_min": 425.7,
          "rxn": "R_GLK",
          "vref_mean (mmol/L/h)": 473,
          "vref_mean2 (mmol/L/h)": 473,
          "vref_std (mmol/L/h)": 47.3,
          "vref_std2 (mmol/L/h)": 47.3
         },
         {
          "flux": 3708,
          "flux_max": 4078.7,
          "flux_min": 3337.3,
          "rxn": "R_GLCNt2rpp",
          "vref_mean (mmol/L/h)": 3708,
          "vref_mean2 (mmol/L/h)": 3708,
          "vref_std (mmol/L/h)": 370.7,
          "vref_std2 (mmol/L/h)": 370.7
         },
         {
          "flux": 3708,
          "flux_max": 4078.7,
          "flux_min": 3337.3,
          "rxn": "R_GNK",
          "vref_mean (mmol/L/h)": 3708,
          "vref_mean2 (mmol/L/h)": 3708,
          "vref_std (mmol/L/h)": 370.7,
          "vref_std2 (mmol/L/h)": 370.7
         },
         {
          "flux": 503,
          "flux_max": 553.3,
          "flux_min": 452.7,
          "rxn": "R_2DHGLCNkt_tpp",
          "vref_mean (mmol/L/h)": 503,
          "vref_mean2 (mmol/L/h)": 503,
          "vref_std (mmol/L/h)": 50.3,
          "vref_std2 (mmol/L/h)": 50.3
         },
         {
          "flux": 503,
          "flux_max": 553.3,
          "flux_min": 452.7,
          "rxn": "R_2DHGLCK",
          "vref_mean (mmol/L/h)": 503,
          "vref_mean2 (mmol/L/h)": 503,
          "vref_std (mmol/L/h)": 50.3,
          "vref_std2 (mmol/L/h)": 50.3
         },
         {
          "flux": 51,
          "flux_max": 56.1,
          "flux_min": 45.9,
          "rxn": "R_PGLCNDH_NAD",
          "vref_mean (mmol/L/h)": 51,
          "vref_mean2 (mmol/L/h)": 51,
          "vref_std (mmol/L/h)": 5.1,
          "vref_std2 (mmol/L/h)": 5.1
         },
         {
          "flux": 452,
          "flux_max": 497.2,
          "flux_min": 406.8,
          "rxn": "R_PGLCNDH_NADP",
          "vref_mean (mmol/L/h)": 452,
          "vref_mean2 (mmol/L/h)": 452,
          "vref_std (mmol/L/h)": 45.2,
          "vref_std2 (mmol/L/h)": 45.2
         },
         {
          "flux": 4211,
          "flux_max": 4632.1,
          "flux_min": 3789.9,
          "rxn": "R_GLCDpp",
          "vref_mean (mmol/L/h)": 4211,
          "vref_mean2 (mmol/L/h)": 4211,
          "vref_std (mmol/L/h)": 421.1,
          "vref_std2 (mmol/L/h)": 421.1
         },
         {
          "flux": 503,
          "flux_max": 553.3,
          "flux_min": 452.7,
          "rxn": "R_GAD2ktpp",
          "vref_mean (mmol/L/h)": 503,
          "vref_mean2 (mmol/L/h)": 503,
          "vref_std (mmol/L/h)": 50.3,
          "vref_std2 (mmol/L/h)": 50.3
         },
         {
          "flux": 55,
          "flux_max": 60.5,
          "flux_min": 49.5,
          "rxn": "R_G6PDH2_NAD",
          "vref_mean (mmol/L/h)": 55,
          "vref_mean2 (mmol/L/h)": 55,
          "vref_std (mmol/L/h)": 5.5,
          "vref_std2 (mmol/L/h)": 5.5
         },
         {
          "flux": 838,
          "flux_max": 921.8,
          "flux_min": 754.2,
          "rxn": "R_G6PDH2_NADP",
          "vref_mean (mmol/L/h)": 838,
          "vref_mean2 (mmol/L/h)": 838,
          "vref_std (mmol/L/h)": 83.8,
          "vref_std2 (mmol/L/h)": 83.8
         },
         {
          "flux": 893,
          "flux_max": 982.3,
          "flux_min": 803.7,
          "rxn": "R_PGL",
          "vref_mean (mmol/L/h)": 893,
          "vref_mean2 (mmol/L/h)": 893,
          "vref_std (mmol/L/h)": 89.3,
          "vref_std2 (mmol/L/h)": 89.3
         },
         {
          "flux": 41,
          "flux_max": 45.1,
          "flux_min": 36.9,
          "rxn": "R_GND_NAD",
          "vref_mean (mmol/L/h)": 41,
          "vref_mean2 (mmol/L/h)": 41,
          "vref_std (mmol/L/h)": 4.1,
          "vref_std2 (mmol/L/h)": 4.1
         },
         {
          "flux": 432,
          "flux_max": 475.2,
          "flux_min": 388.8,
          "rxn": "R_GND_NADP",
          "vref_mean (mmol/L/h)": 432,
          "vref_mean2 (mmol/L/h)": 432,
          "vref_std (mmol/L/h)": 43.2,
          "vref_std2 (mmol/L/h)": 43.2
         },
         {
          "flux": 357,
          "flux_max": 392.7,
          "flux_min": 321.3,
          "rxn": "R_RPI",
          "vref_mean (mmol/L/h)": 357,
          "vref_mean2 (mmol/L/h)": 357,
          "vref_std (mmol/L/h)": 35.7,
          "vref_std2 (mmol/L/h)": 35.7
         },
         {
          "flux": 111,
          "flux_max": 122.1,
          "flux_min": 99.9,
          "rxn": "R_RPE",
          "vref_mean (mmol/L/h)": 111,
          "vref_mean2 (mmol/L/h)": 111,
          "vref_std (mmol/L/h)": 11.1,
          "vref_std2 (mmol/L/h)": 11.1
         },
         {
          "flux": 111,
          "flux_max": 122.1,
          "flux_min": 99.9,
          "rxn": "R_TKT1",
          "vref_mean (mmol/L/h)": 111,
          "vref_mean2 (mmol/L/h)": 111,
          "vref_std (mmol/L/h)": 11.1,
          "vref_std2 (mmol/L/h)": 11.1
         },
         {
          "flux": 107,
          "flux_max": 117.7,
          "flux_min": 96.3,
          "rxn": "R_TALA",
          "vref_mean (mmol/L/h)": 107,
          "vref_mean2 (mmol/L/h)": 107,
          "vref_std (mmol/L/h)": 10.7,
          "vref_std2 (mmol/L/h)": 10.7
         },
         {
          "flux": 4631,
          "flux_max": 5094.1,
          "flux_min": 4167.9,
          "rxn": "R_EDD",
          "vref_mean (mmol/L/h)": 4631,
          "vref_mean2 (mmol/L/h)": 4631,
          "vref_std (mmol/L/h)": 463.1,
          "vref_std2 (mmol/L/h)": 463.1
         },
         {
          "flux": 4631,
          "flux_max": 5094.1,
          "flux_min": 4167.9,
          "rxn": "R_EDA",
          "vref_mean (mmol/L/h)": 4631,
          "vref_mean2 (mmol/L/h)": 4631,
          "vref_std (mmol/L/h)": 463.1,
          "vref_std2 (mmol/L/h)": 463.1
         },
         {
          "flux": 438,
          "flux_max": 481.8,
          "flux_min": 394.2,
          "rxn": "R_PGI",
          "vref_mean (mmol/L/h)": 438,
          "vref_mean2 (mmol/L/h)": 438,
          "vref_std (mmol/L/h)": 43.8,
          "vref_std2 (mmol/L/h)": 43.8
         },
         {
          "flux": 352,
          "flux_max": 387.2,
          "flux_min": 316.8,
          "rxn": "R_FBP",
          "vref_mean (mmol/L/h)": 352,
          "vref_mean2 (mmol/L/h)": 352,
          "vref_std (mmol/L/h)": 35.2,
          "vref_std2 (mmol/L/h)": 35.2
         },
         {
          "flux": 352,
          "flux_max": 387.2,
          "flux_min": 316.8,
          "rxn": "R_FBA",
          "vref_mean (mmol/L/h)": 352,
          "vref_mean2 (mmol/L/h)": 352,
          "vref_std (mmol/L/h)": 35.2,
          "vref_std2 (mmol/L/h)": 35.2
         },
         {
          "flux": 374,
          "flux_max": 411.4,
          "flux_min": 336.6,
          "rxn": "R_TPI",
          "vref_mean (mmol/L/h)": 374,
          "vref_mean2 (mmol/L/h)": 374,
          "vref_std (mmol/L/h)": 37.4,
          "vref_std2 (mmol/L/h)": 37.4
         },
         {
          "flux": 2584,
          "flux_max": 2842.4,
          "flux_min": 2325.6,
          "rxn": "R_GAPD_NAD",
          "vref_mean (mmol/L/h)": 2584,
          "vref_mean2 (mmol/L/h)": 2584,
          "vref_std (mmol/L/h)": 258.4,
          "vref_std2 (mmol/L/h)": 258.4
         },
         {
          "flux": 1284,
          "flux_max": 1412.4,
          "flux_min": 1155.6,
          "rxn": "R_GAPD_NADP",
          "vref_mean (mmol/L/h)": 1284,
          "vref_mean2 (mmol/L/h)": 1284,
          "vref_std (mmol/L/h)": 128.4,
          "vref_std2 (mmol/L/h)": 128.4
         },
         {
          "flux": 3929,
          "flux_max": 4321.9,
          "flux_min": 3536.1,
          "rxn": "R_PGK",
          "vref_mean (mmol/L/h)": 3929,
          "vref_mean2 (mmol/L/h)": 3929,
          "vref_std (mmol/L/h)": 392.9,
          "vref_std2 (mmol/L/h)": 392.9
         },
         {
          "flux": 3379,
          "flux_max": 3716.9,
          "flux_min": 3041.1,
          "rxn": "R_PGM",
          "vref_mean (mmol/L/h)": 3379,
          "vref_mean2 (mmol/L/h)": 3379,
          "vref_std (mmol/L/h)": 337.9,
          "vref_std2 (mmol/L/h)": 337.9
         },
         {
          "flux": 3379,
          "flux_max": 3716.9,
          "flux_min": 3041.1,
          "rxn": "R_ENO",
          "vref_mean (mmol/L/h)": 3379,
          "vref_mean2 (mmol/L/h)": 3379,
          "vref_std (mmol/L/h)": 337.9,
          "vref_std2 (mmol/L/h)": 337.9
         },
         {
          "flux": 3029,
          "flux_max": 3331.9,
          "flux_min": 2726.1,
          "rxn": "R_PYK",
          "vref_mean (mmol/L/h)": 3029,
          "vref_mean2 (mmol/L/h)": 3029,
          "vref_std (mmol/L/h)": 302.9,
          "vref_std2 (mmol/L/h)": 302.9
         },
         {
          "flux": 4951,
          "flux_max": 5446.1,
          "flux_min": 4455.9,
          "rxn": "R_PDH",
          "vref_mean (mmol/L/h)": 4951,
          "vref_mean2 (mmol/L/h)": 4951,
          "vref_std (mmol/L/h)": 495.1,
          "vref_std2 (mmol/L/h)": 495.1
         },
         {
          "flux": 3502,
          "flux_max": 3852.2,
          "flux_min": 3151.8,
          "rxn": "R_OAADC",
          "vref_mean (mmol/L/h)": 3502,
          "vref_mean2 (mmol/L/h)": 3502,
          "vref_std (mmol/L/h)": 350.2,
          "vref_std2 (mmol/L/h)": 350.2
         },
         {
          "flux": 15,
          "flux_max": 16.5,
          "flux_min": 13.5,
          "rxn": "R_PPC",
          "vref_mean (mmol/L/h)": 15,
          "vref_mean2 (mmol/L/h)": 15,
          "vref_std (mmol/L/h)": 1.5,
          "vref_std2 (mmol/L/h)": 1.5
         },
         {
          "flux": 1848,
          "flux_max": 2032.8,
          "flux_min": 1663.2,
          "rxn": "R_ME2_NADP",
          "vref_mean (mmol/L/h)": 1848,
          "vref_mean2 (mmol/L/h)": 1848,
          "vref_std (mmol/L/h)": 184.8,
          "vref_std2 (mmol/L/h)": 184.8
         },
         {
          "flux": 67,
          "flux_max": 73.7,
          "flux_min": 60.3,
          "rxn": "R_ME2_NAD",
          "vref_mean (mmol/L/h)": 67,
          "vref_mean2 (mmol/L/h)": 67,
          "vref_std (mmol/L/h)": 6.7,
          "vref_std2 (mmol/L/h)": 6.7
         },
         {
          "flux": 1413,
          "flux_max": 1554.3,
          "flux_min": 1271.7,
          "rxn": "R_MDH_NAD",
          "vref_mean (mmol/L/h)": 1413,
          "vref_mean2 (mmol/L/h)": 1413,
          "vref_std (mmol/L/h)": 141.3,
          "vref_std2 (mmol/L/h)": 141.3
         },
         {
          "flux": 36,
          "flux_max": 39.6,
          "flux_min": 32.4,
          "rxn": "R_MDH_NADP",
          "vref_mean (mmol/L/h)": 36,
          "vref_mean2 (mmol/L/h)": 36,
          "vref_std (mmol/L/h)": 3.6,
          "vref_std2 (mmol/L/h)": 3.6
         },
         {
          "flux": 3708,
          "flux_max": 4078.8,
          "flux_min": 3337.2,
          "rxn": "R_FUM",
          "vref_mean (mmol/L/h)": 3708,
          "vref_mean2 (mmol/L/h)": 3708,
          "vref_std (mmol/L/h)": 370.8,
          "vref_std2 (mmol/L/h)": 370.8
         },
         {
          "flux": 3430,
          "flux_max": 3773,
          "flux_min": 3087,
          "rxn": "R_SUCDi",
          "vref_mean (mmol/L/h)": 3430,
          "vref_mean2 (mmol/L/h)": 3430,
          "vref_std (mmol/L/h)": 343,
          "vref_std2 (mmol/L/h)": 343
         },
         {
          "flux": 3425,
          "flux_max": 3082.5,
          "flux_min": 3767.5,
          "rxn": "R_SUCOAS",
          "vref_mean (mmol/L/h)": 3425,
          "vref_mean2 (mmol/L/h)": 3425,
          "vref_std (mmol/L/h)": -342.5,
          "vref_std2 (mmol/L/h)": -342.5
         },
         {
          "flux": 3425,
          "flux_max": 3767.5,
          "flux_min": 3082.5,
          "rxn": "R_AKGDH",
          "vref_mean (mmol/L/h)": 3425,
          "vref_mean2 (mmol/L/h)": 3425,
          "vref_std (mmol/L/h)": 342.5,
          "vref_std2 (mmol/L/h)": 342.5
         },
         {
          "flux": 3547,
          "flux_max": 3901.7,
          "flux_min": 3192.3,
          "rxn": "R_ICDHyr_NADP",
          "vref_mean (mmol/L/h)": 3547,
          "vref_mean2 (mmol/L/h)": 3547,
          "vref_std (mmol/L/h)": 354.7,
          "vref_std2 (mmol/L/h)": 354.7
         },
         {
          "flux": 443,
          "flux_max": 487.3,
          "flux_min": 398.7,
          "rxn": "R_ICDHyr_NAD",
          "vref_mean (mmol/L/h)": 443,
          "vref_mean2 (mmol/L/h)": 443,
          "vref_std (mmol/L/h)": 44.3,
          "vref_std2 (mmol/L/h)": 44.3
         },
         {
          "flux": 3990,
          "flux_max": 4389,
          "flux_min": 3591,
          "rxn": "R_ACONTa",
          "vref_mean (mmol/L/h)": 3990,
          "vref_mean2 (mmol/L/h)": 3990,
          "vref_std (mmol/L/h)": 399,
          "vref_std2 (mmol/L/h)": 399
         },
         {
          "flux": 3990,
          "flux_max": 4389,
          "flux_min": 3591,
          "rxn": "R_ACONTb",
          "vref_mean (mmol/L/h)": 3990,
          "vref_mean2 (mmol/L/h)": 3990,
          "vref_std (mmol/L/h)": 399,
          "vref_std2 (mmol/L/h)": 399
         },
         {
          "flux": 3990,
          "flux_max": 4389,
          "flux_min": 3591,
          "rxn": "R_CS",
          "vref_mean (mmol/L/h)": 3990,
          "vref_mean2 (mmol/L/h)": 3990,
          "vref_std (mmol/L/h)": 399,
          "vref_std2 (mmol/L/h)": 399
         },
         {
          "flux": 498,
          "flux_max": 547.8,
          "flux_min": 448.2,
          "rxn": "R_ACCOAC",
          "vref_mean (mmol/L/h)": 498,
          "vref_mean2 (mmol/L/h)": 498,
          "vref_std (mmol/L/h)": 49.8,
          "vref_std2 (mmol/L/h)": 49.8
         },
         {
          "flux": 73,
          "flux_max": 80.3,
          "flux_min": 65.7,
          "rxn": "R_KAS15",
          "vref_mean (mmol/L/h)": 73,
          "vref_mean2 (mmol/L/h)": 73,
          "vref_std (mmol/L/h)": 7.3,
          "vref_std2 (mmol/L/h)": 7.3
         },
         {
          "flux": 498,
          "flux_max": 547.8,
          "flux_min": 448.2,
          "rxn": "R_MCOATA",
          "vref_mean (mmol/L/h)": 498,
          "vref_mean2 (mmol/L/h)": 498,
          "vref_std (mmol/L/h)": 49.8,
          "vref_std2 (mmol/L/h)": 49.8
         },
         {
          "flux": 2190,
          "flux_max": 2409,
          "flux_min": 1971,
          "rxn": "R_OPNAD",
          "vref_mean (mmol/L/h)": 2190,
          "vref_mean2 (mmol/L/h)": 2190,
          "vref_std (mmol/L/h)": 219,
          "vref_std2 (mmol/L/h)": 219
         },
         {
          "flux": 6371,
          "flux_max": 7008.1,
          "flux_min": 5733.9,
          "rxn": "R_OPQ8",
          "vref_mean (mmol/L/h)": 6371,
          "vref_mean2 (mmol/L/h)": 6371,
          "vref_std (mmol/L/h)": 637.1,
          "vref_std2 (mmol/L/h)": 637.1
         },
         {
          "flux": 20779.875,
          "flux_max": 22857.8625,
          "flux_min": 18701.8875,
          "rxn": "R_AXPr",
          "vref_mean (mmol/L/h)": 20779.875,
          "vref_mean2 (mmol/L/h)": 20779.875,
          "vref_std (mmol/L/h)": 2077.9875,
          "vref_std2 (mmol/L/h)": 2077.9875
         },
         {
          "flux": 10738,
          "flux_max": 11811.8,
          "flux_min": 9664.2,
          "rxn": "R_NADHr",
          "vref_mean (mmol/L/h)": 10738,
          "vref_mean2 (mmol/L/h)": 10738,
          "vref_std (mmol/L/h)": 1073.8,
          "vref_std2 (mmol/L/h)": 1073.8
         },
         {
          "flux": 7533,
          "flux_max": 8286.3,
          "flux_min": 6779.7,
          "rxn": "R_NADPHr",
          "vref_mean (mmol/L/h)": 7533,
          "vref_mean2 (mmol/L/h)": 7533,
          "vref_std (mmol/L/h)": 753.3,
          "vref_std2 (mmol/L/h)": 753.3
         },
         {
          "flux": 390,
          "flux_max": 429,
          "flux_min": 351,
          "rxn": "R_ACCOAr",
          "vref_mean (mmol/L/h)": 390,
          "vref_mean2 (mmol/L/h)": 390,
          "vref_std (mmol/L/h)": 39,
          "vref_std2 (mmol/L/h)": 39
         },
         {
          "flux": 3963,
          "flux_max": 4359.3,
          "flux_min": 3566.7,
          "rxn": "R_Q8H2r",
          "vref_mean (mmol/L/h)": 3963,
          "vref_mean2 (mmol/L/h)": 3963,
          "vref_std (mmol/L/h)": 396.3,
          "vref_std2 (mmol/L/h)": 396.3
         },
         {
          "flux": 4684,
          "flux_max": 5152.4,
          "flux_min": 4215.6,
          "rxn": "R_GLCtex",
          "vref_mean (mmol/L/h)": 4684,
          "vref_mean2 (mmol/L/h)": 4684,
          "vref_std (mmol/L/h)": 468.4,
          "vref_std2 (mmol/L/h)": 468.4
         },
         {
          "flux": 1122,
          "flux_max": 1234.2,
          "flux_min": 1009.8,
          "rxn": "R_EX_pyr",
          "vref_mean (mmol/L/h)": 1122,
          "vref_mean2 (mmol/L/h)": 1122,
          "vref_std (mmol/L/h)": 112.2,
          "vref_std2 (mmol/L/h)": 112.2
         },
         {
          "flux": 365,
          "flux_max": 401.5,
          "flux_min": 328.5,
          "rxn": "R_EX_pep",
          "vref_mean (mmol/L/h)": 365,
          "vref_mean2 (mmol/L/h)": 365,
          "vref_std (mmol/L/h)": 36.5,
          "vref_std2 (mmol/L/h)": 36.5
         },
         {
          "flux": 18,
          "flux_max": 19.8,
          "flux_min": 16.2,
          "rxn": "R_EX_g6p",
          "vref_mean (mmol/L/h)": 18,
          "vref_mean2 (mmol/L/h)": 18,
          "vref_std (mmol/L/h)": 1.8,
          "vref_std2 (mmol/L/h)": 1.8
         },
         {
          "flux": 246,
          "flux_max": 270.6,
          "flux_min": 221.4,
          "rxn": "R_EX_r5p",
          "vref_mean (mmol/L/h)": 246,
          "vref_mean2 (mmol/L/h)": 246,
          "vref_std (mmol/L/h)": 24.6,
          "vref_std2 (mmol/L/h)": 24.6
         },
         {
          "flux": 41,
          "flux_max": 45.1,
          "flux_min": 36.9,
          "rxn": "R_EX_g3p",
          "vref_mean (mmol/L/h)": 41,
          "vref_mean2 (mmol/L/h)": 41,
          "vref_std (mmol/L/h)": 4.1,
          "vref_std2 (mmol/L/h)": 4.1
         },
         {
          "flux": 107,
          "flux_max": 117.7,
          "flux_min": 96.3,
          "rxn": "R_EX_e4p",
          "vref_mean (mmol/L/h)": 107,
          "vref_mean2 (mmol/L/h)": 107,
          "vref_std (mmol/L/h)": 10.7,
          "vref_std2 (mmol/L/h)": 10.7
         },
         {
          "flux": 21,
          "flux_max": 23.1,
          "flux_min": 18.9,
          "rxn": "R_EX_f6p",
          "vref_mean (mmol/L/h)": 21,
          "vref_mean2 (mmol/L/h)": 21,
          "vref_std (mmol/L/h)": 2.1,
          "vref_std2 (mmol/L/h)": 2.1
         },
         {
          "flux": 550,
          "flux_max": 605,
          "flux_min": 495,
          "rxn": "R_EX_3pg",
          "vref_mean (mmol/L/h)": 550,
          "vref_mean2 (mmol/L/h)": 550,
          "vref_std (mmol/L/h)": 55,
          "vref_std2 (mmol/L/h)": 55
         },
         {
          "flux": 946,
          "flux_max": 1040.6,
          "flux_min": 851.4,
          "rxn": "R_EX_oaa",
          "vref_mean (mmol/L/h)": 946,
          "vref_mean2 (mmol/L/h)": 946,
          "vref_std (mmol/L/h)": 94.6,
          "vref_std2 (mmol/L/h)": 94.6
         },
         {
          "flux": 344,
          "flux_max": 378.4,
          "flux_min": 309.6,
          "rxn": "R_EX_malL",
          "vref_mean (mmol/L/h)": 344,
          "vref_mean2 (mmol/L/h)": 344,
          "vref_std (mmol/L/h)": 34.4,
          "vref_std2 (mmol/L/h)": 34.4
         },
         {
          "flux": 565,
          "flux_max": 621.5,
          "flux_min": 508.5,
          "rxn": "R_EX_akg",
          "vref_mean (mmol/L/h)": 565,
          "vref_mean2 (mmol/L/h)": 565,
          "vref_std (mmol/L/h)": 56.5,
          "vref_std2 (mmol/L/h)": 56.5
         },
         {
          "flux": -5,
          "flux_max": -5.5,
          "flux_min": -4.5,
          "rxn": "R_EX_succ",
          "vref_mean (mmol/L/h)": -5,
          "vref_mean2 (mmol/L/h)": -5,
          "vref_std (mmol/L/h)": -0.5,
          "vref_std2 (mmol/L/h)": -0.5
         },
         {
          "flux": 5,
          "flux_max": 5.5,
          "flux_min": 4.5,
          "rxn": "R_EX_ru5p__D",
          "vref_mean (mmol/L/h)": 5,
          "vref_mean2 (mmol/L/h)": 5,
          "vref_std (mmol/L/h)": 0.5,
          "vref_std2 (mmol/L/h)": 0.5
         },
         {
          "flux": -278,
          "flux_max": -305.8,
          "flux_min": -250.2,
          "rxn": "R_EX_fum",
          "vref_mean (mmol/L/h)": -278,
          "vref_mean2 (mmol/L/h)": -278,
          "vref_std (mmol/L/h)": -27.8,
          "vref_std2 (mmol/L/h)": -27.8
         },
         {
          "flux": 4,
          "flux_max": 4.4,
          "flux_min": 3.6,
          "rxn": "R_EX_s7p",
          "vref_mean (mmol/L/h)": 4,
          "vref_mean2 (mmol/L/h)": 4,
          "vref_std (mmol/L/h)": 0.4,
          "vref_std2 (mmol/L/h)": 0.4
         },
         {
          "flux": -61,
          "flux_max": -67.1,
          "flux_min": -54.9,
          "rxn": "R_EX_13dpg",
          "vref_mean (mmol/L/h)": -61,
          "vref_mean2 (mmol/L/h)": -61,
          "vref_std (mmol/L/h)": -6.1,
          "vref_std2 (mmol/L/h)": -6.1
         },
         {
          "flux": 22,
          "flux_max": 24.2,
          "flux_min": 19.8,
          "rxn": "R_EX_dhap",
          "vref_mean (mmol/L/h)": 22,
          "vref_mean2 (mmol/L/h)": 22,
          "vref_std (mmol/L/h)": 2.2,
          "vref_std2 (mmol/L/h)": 2.2
         },
         {
          "flux": 10,
          "flux_max": 11,
          "flux_min": 9,
          "rxn": "R_EX_amp_in",
          "vref_mean (mmol/L/h)": 10,
          "vref_mean2 (mmol/L/h)": 10,
          "vref_std (mmol/L/h)": 1,
          "vref_std2 (mmol/L/h)": 1
         },
         {
          "flux": 10,
          "flux_max": 11,
          "flux_min": 9,
          "rxn": "R_EX_amp_out",
          "vref_mean (mmol/L/h)": 10,
          "vref_mean2 (mmol/L/h)": 10,
          "vref_std (mmol/L/h)": 1,
          "vref_std2 (mmol/L/h)": 1
         }
        ],
        "data-bd0330fd1c758d063fa9dd99a1c05cea": [
         {
          "rxn": "R_GLCabcpp",
          "∆G_max": 14.597026753828022,
          "∆G_mean": -35.478099554541316,
          "∆G_min": -127.75714465174912
         },
         {
          "rxn": "R_GLK",
          "∆G_max": 24.621702390144712,
          "∆G_mean": -23.112414067137628,
          "∆G_min": -29.07458480567657
         },
         {
          "rxn": "R_GLCNt2rpp",
          "∆G_max": 50.63856283215555,
          "∆G_mean": 0,
          "∆G_min": -50.63856283215555
         },
         {
          "rxn": "R_GNK",
          "∆G_max": 36.29511281608983,
          "∆G_mean": -17.09900364119251,
          "∆G_min": -28.721174379731462
         },
         {
          "rxn": "R_2DHGLCNkt_tpp",
          "∆G_max": 50.63856283215555,
          "∆G_mean": 0,
          "∆G_min": -50.63856283215555
         },
         {
          "rxn": "R_2DHGLCK",
          "∆G_max": 41.331847107847466,
          "∆G_mean": -13.465957178863327,
          "∆G_min": -68.26376146557412
         },
         {
          "rxn": "R_PGLCNDH_NAD",
          "∆G_max": 38.3488976570186,
          "∆G_mean": -12.325218800263752,
          "∆G_min": -21.227389538802704
         },
         {
          "rxn": "R_PGLCNDH_NADP",
          "∆G_max": 39.02514752128373,
          "∆G_mean": -11.70896893599863,
          "∆G_min": -20.671139674537596
         },
         {
          "rxn": "R_GLCDpp",
          "∆G_max": -16.322874335688894,
          "∆G_mean": -116.1,
          "∆G_min": -215.8771256643111
         },
         {
          "rxn": "R_GAD2ktpp",
          "∆G_max": 30.977125664311103,
          "∆G_mean": -66.5,
          "∆G_min": -163.9771256643111
         },
         {
          "rxn": "R_G6PDH2_NAD",
          "∆G_max": -0.9992000352521877,
          "∆G_mean": -8.84137077379113,
          "∆G_min": -58.45548723107347
         },
         {
          "rxn": "R_G6PDH2_NADP",
          "∆G_max": -1.6854498995172964,
          "∆G_mean": -9.467620638056248,
          "∆G_min": -59.021737095338594
         },
         {
          "rxn": "R_PGL",
          "∆G_max": 21.66182854039791,
          "∆G_mean": -26.473046462329183,
          "∆G_min": -32.83597574631288
         },
         {
          "rxn": "R_GND_NAD",
          "∆G_max": 2.3004113407251587,
          "∆G_mean": -10.075393590043888,
          "∆G_min": -64.65511730965139
         },
         {
          "rxn": "R_GND_NADP",
          "∆G_max": 1.7041614764600475,
          "∆G_mean": -10.691643454309006,
          "∆G_min": -65.29136717391653
         },
         {
          "rxn": "R_RPI",
          "∆G_max": 8.043641697001094,
          "∆G_mean": 3.8844002424458437,
          "∆G_min": -0.27484121210940593
         },
         {
          "rxn": "R_RPE",
          "∆G_max": -23.77752282550331,
          "∆G_mean": -29.095799473150187,
          "∆G_min": -42.006404988097444
         },
         {
          "rxn": "R_TKT1",
          "∆G_max": 10.991003606893614,
          "∆G_mean": -6.437878555700526,
          "∆G_min": -23.866760718294667
         },
         {
          "rxn": "R_TALA",
          "∆G_max": 50.997273586612394,
          "∆G_mean": 34.583738787681426,
          "∆G_min": -16.009412862692542
         },
         {
          "rxn": "R_EDD",
          "∆G_max": -29.354024253687115,
          "∆G_mean": -37.576953537670825,
          "∆G_min": -87.57182854039792
         },
         {
          "rxn": "R_EDA",
          "∆G_max": 20.795304651792346,
          "∆G_mean": -29.872239736256475,
          "∆G_min": -46.79214034295734
         },
         {
          "rxn": "R_PGI",
          "∆G_max": -0.08473640573631935,
          "∆G_mean": -2.9639778602915605,
          "∆G_min": -5.843219314846801
         },
         {
          "rxn": "R_FBP",
          "∆G_max": -8.811199964850678,
          "∆G_mean": -14.04776344106447,
          "∆G_min": -61.488245706116714
         },
         {
          "rxn": "R_FBA",
          "∆G_max": 32.15179622006581,
          "∆G_mean": 11.755583442793398,
          "∆G_min": -0.6163273970835732
         },
         {
          "rxn": "R_TPI",
          "∆G_max": 34.438845460795264,
          "∆G_mean": 12.768239945848007,
          "∆G_min": -1.310036701798868
         },
         {
          "rxn": "R_GAPD_NAD",
          "∆G_max": 97.87335981082035,
          "∆G_mean": 39.59858420139239,
          "∆G_min": -10.651889470640125
         },
         {
          "rxn": "R_GAPD_NADP",
          "∆G_max": 97.49710994655526,
          "∆G_mean": 38.98233433712728,
          "∆G_min": -11.508139334905248
         },
         {
          "rxn": "R_PGK",
          "∆G_max": -2.375160658542539,
          "∆G_mean": -50.98831230891651,
          "∆G_min": -65.42184710784747
         },
         {
          "rxn": "R_PGM",
          "∆G_max": 16.379640708038885,
          "∆G_mean": 4.23,
          "∆G_min": -7.9196407080388855
         },
         {
          "rxn": "R_ENO",
          "∆G_max": 33.61579653223447,
          "∆G_mean": 12.445191017287215,
          "∆G_min": -1.1330856303596555
         },
         {
          "rxn": "R_PYK",
          "∆G_max": -17.032309314332206,
          "∆G_mean": -22.090792223442698,
          "∆G_min": -27.1492751325532
         },
         {
          "rxn": "R_PDH",
          "∆G_max": -28.225624871108824,
          "∆G_mean": -41.96703706420302,
          "∆G_min": -97.4803949760406
         },
         {
          "rxn": "R_OAADC",
          "∆G_max": 70.32048235041252,
          "∆G_mean": 12.940000085360257,
          "∆G_min": -2.2365633908535383
         },
         {
          "rxn": "R_PPC",
          "∆G_max": 93.70669597933454,
          "∆G_mean": 39.62889169262376,
          "∆G_min": -14.448912594087027
         },
         {
          "rxn": "R_ME2_NADP",
          "∆G_max": 14.363223336097988,
          "∆G_mean": 2.047418405328937,
          "∆G_min": -52.47230531427858
         },
         {
          "rxn": "R_ME2_NAD",
          "∆G_max": 14.939473200363096,
          "∆G_mean": 2.663668269594057,
          "∆G_min": -51.81605545001345
         },
         {
          "rxn": "R_MDH_NAD",
          "∆G_max": 25.432151264064807,
          "∆G_mean": 10.61366835495431,
          "∆G_min": -4.204814554156181
         },
         {
          "rxn": "R_MDH_NADP",
          "∆G_max": 25.095901399799697,
          "∆G_mean": 9.997418490689194,
          "∆G_min": -5.101064418421307
         },
         {
          "rxn": "R_FUM",
          "∆G_max": -4.222652713492521,
          "∆G_mean": -6.88189416804776,
          "∆G_min": -9.541135622603003
         },
         {
          "rxn": "R_SUCDi",
          "∆G_max": 30.69839021507203,
          "∆G_mean": -24.139414071638754,
          "∆G_min": -78.97721835834955
         },
         {
          "rxn": "R_SUCOAS",
          "∆G_max": 87.2094529685371,
          "∆G_mean": 17.0847309963075,
          "∆G_min": -3.6757163898783105
         },
         {
          "rxn": "R_AKGDH",
          "∆G_max": -39.083625574151796,
          "∆G_mean": -55.044072960337616,
          "∆G_min": -120.36879493256721
         },
         {
          "rxn": "R_ICDHyr_NADP",
          "∆G_max": -1.1951634994986247,
          "∆G_mean": -13.610968430267668,
          "∆G_min": -68.23069214987515
         },
         {
          "rxn": "R_ICDHyr_NAD",
          "∆G_max": -0.5789136352335138,
          "∆G_mean": -12.994718566002547,
          "∆G_min": -67.61444228561004
         },
         {
          "rxn": "R_ACONTa",
          "∆G_max": 19.633472105744815,
          "∆G_mean": 14.330542821761112,
          "∆G_min": -32.74433218096598
         },
         {
          "rxn": "R_ACONTb",
          "∆G_max": 37.40893707136462,
          "∆G_mean": -9.665937931362471,
          "∆G_min": -14.968867215346165
         },
         {
          "rxn": "R_CS",
          "∆G_max": -24.209052474598007,
          "∆G_mean": -29.307535383708494,
          "∆G_min": -34.406018292818985
         },
         {
          "rxn": "R_ACCOAC",
          "∆G_max": 22.968229272536792,
          "∆G_mean": -34.22785166182087,
          "∆G_min": -99.01626146347894
         },
         {
          "rxn": "R_KAS15",
          "∆G_max": -261.87197879237243,
          "∆G_mean": -333.2271051007418,
          "∆G_min": -446.78615019794955
         },
         {
          "rxn": "R_MCOATA",
          "∆G_max": 89.24610010499659,
          "∆G_mean": 28.056931757893786,
          "∆G_min": -25.539907721908634
         },
         {
          "rxn": "R_OPNAD",
          "∆G_max": 131.71422286051418,
          "∆G_mean": -8.311985673169609,
          "∆G_min": -69.20584647778126
         },
         {
          "rxn": "R_OPQ8",
          "∆G_max": 85.83884533698098,
          "∆G_mean": -74.84874214739604,
          "∆G_min": -135.30202250828174
         },
         {
          "rxn": "R_AXPr",
          "∆G_max": -187.52153607832753,
          "∆G_mean": -192.9380995545413,
          "∆G_min": -240.55858181959354
         },
         {
          "rxn": "R_NADHr",
          "∆G_max": -51.202930883379324,
          "∆G_mean": -54.42217233793457,
          "∆G_min": -57.641413792489814
         },
         {
          "rxn": "R_NADPHr",
          "∆G_max": -50.486681019114194,
          "∆G_mean": -53.80592247366945,
          "∆G_min": -57.12516392822471
         },
         {
          "rxn": "R_ACCOAr",
          "∆G_max": 7.994278729491478,
          "∆G_mean": 0.895037274936237,
          "∆G_min": -6.204204179619005
         },
         {
          "rxn": "R_Q8H2r",
          "∆G_max": 50.63856283215555,
          "∆G_mean": 0,
          "∆G_min": -50.63856283215555
         },
         {
          "rxn": "R_GLCtex",
          "∆G_max": 50.63856283215555,
          "∆G_mean": 0,
          "∆G_min": -50.63856283215555
         },
         {
          "rxn": "R_EX_pyr",
          "∆G_max": 11.758757156782355,
          "∆G_mean": 3.775827872798649,
          "∆G_min": -45.979047129928446
         },
         {
          "rxn": "R_EX_pep",
          "∆G_max": 15.652007754476317,
          "∆G_mean": 7.669078470492622,
          "∆G_min": -42.08579653223447
         },
         {
          "rxn": "R_EX_g6p",
          "∆G_max": 12.159386172257996,
          "∆G_mean": 4.1764568882743,
          "∆G_min": -45.578418114452795
         },
         {
          "rxn": "R_EX_r5p",
          "∆G_max": 10.156999056167507,
          "∆G_mean": 2.174069772183805,
          "∆G_min": -47.58080523054329
         },
         {
          "rxn": "R_EX_g3p",
          "∆G_max": 50.63856283215555,
          "∆G_mean": 34.20426948777983,
          "∆G_min": -16.409640708038886
         },
         {
          "rxn": "R_EX_e4p",
          "∆G_max": 50.63856283215555,
          "∆G_mean": 0,
          "∆G_min": -50.63856283215555
         },
         {
          "rxn": "R_EX_f6p",
          "∆G_max": 11.715408311966437,
          "∆G_mean": 3.7324790279827407,
          "∆G_min": -46.02239597474435
         },
         {
          "rxn": "R_EX_3pg",
          "∆G_max": 50.63856283215555,
          "∆G_mean": 34.20426948777983,
          "∆G_min": -16.409640708038886
         },
         {
          "rxn": "R_EX_oaa",
          "∆G_max": 18.61089944710008,
          "∆G_mean": 10.627970163116382,
          "∆G_min": -39.12690483961072
         },
         {
          "rxn": "R_EX_malL",
          "∆G_max": 18.562395464119824,
          "∆G_mean": 10.579466180136125,
          "∆G_min": -39.175408822590974
         },
         {
          "rxn": "R_EX_akg",
          "∆G_max": 18.223615743605297,
          "∆G_mean": 10.240686459621601,
          "∆G_min": -39.51418854310549
         },
         {
          "rxn": "R_EX_succ",
          "∆G_max": 12.481087224433303,
          "∆G_mean": 4.498157940449609,
          "∆G_min": -45.25671706227749
         },
         {
          "rxn": "R_EX_ru5p__D",
          "∆G_max": 16.46139929861335,
          "∆G_mean": 8.478470014629648,
          "∆G_min": -41.27640498809745
         },
         {
          "rxn": "R_EX_fum",
          "∆G_max": 15.120501296072057,
          "∆G_mean": 7.137572012088363,
          "∆G_min": -42.61730299063873
         },
         {
          "rxn": "R_EX_s7p",
          "∆G_max": 12.70487761186804,
          "∆G_mean": 4.721948327884331,
          "∆G_min": -45.03292667484277
         },
         {
          "rxn": "R_EX_13dpg",
          "∆G_max": 50.63856283215555,
          "∆G_mean": 0,
          "∆G_min": -50.63856283215555
         },
         {
          "rxn": "R_EX_dhap",
          "∆G_max": 13.958958825915532,
          "∆G_mean": 5.97602954193183,
          "∆G_min": -43.77884546079527
         },
         {
          "rxn": "R_EX_amp_in",
          "∆G_max": 41.50954020404777,
          "∆G_mean": -8.245334798679323,
          "∆G_min": -16.228264082663014
         },
         {
          "rxn": "R_EX_amp_out",
          "∆G_max": 16.228264082663014,
          "∆G_mean": 8.245334798679323,
          "∆G_min": -41.50954020404777
         }
        ],
        "data-d7255ad842f014c46f35befde053a015": [
         {
          "Threshold": "hazardous",
          "ThresholdValue": 0
         }
        ]
       },
       "hconcat": [
        {
         "data": {
          "name": "data-bd0330fd1c758d063fa9dd99a1c05cea"
         },
         "layer": [
          {
           "encoding": {
            "x": {
             "field": "∆G_min",
             "type": "quantitative"
            },
            "x2": {
             "field": "∆G_max"
            },
            "y": {
             "field": "rxn",
             "type": "nominal"
            }
           },
           "height": 1000,
           "mark": "rect",
           "width": 400
          },
          {
           "encoding": {
            "tooltip": [
             {
              "field": "rxn",
              "type": "nominal"
             },
             {
              "field": "∆G_min",
              "type": "quantitative"
             },
             {
              "field": "∆G_mean",
              "type": "quantitative"
             },
             {
              "field": "∆G_max",
              "type": "quantitative"
             }
            ],
            "x": {
             "field": "∆G_mean",
             "type": "quantitative"
            },
            "y": {
             "field": "rxn",
             "type": "nominal"
            }
           },
           "mark": {
            "color": "red",
            "filled": true,
            "size": 100,
            "type": "point"
           },
           "selection": {
            "selector003": {
             "bind": "scales",
             "encodings": [
              "x",
              "y"
             ],
             "type": "interval"
            }
           }
          },
          {
           "data": {
            "name": "data-d7255ad842f014c46f35befde053a015"
           },
           "encoding": {
            "x": {
             "field": "ThresholdValue",
             "type": "quantitative"
            }
           },
           "mark": "rule"
          }
         ]
        },
        {
         "data": {
          "name": "data-18737f45919422dc9ff2b46f0f3815c0"
         },
         "layer": [
          {
           "encoding": {
            "x": {
             "field": "flux_min",
             "type": "quantitative"
            },
            "x2": {
             "field": "flux_max"
            },
            "y": {
             "field": "rxn",
             "type": "nominal"
            }
           },
           "height": 1000,
           "mark": "rect",
           "width": 400
          },
          {
           "encoding": {
            "tooltip": [
             {
              "field": "rxn",
              "type": "nominal"
             },
             {
              "field": "flux",
              "type": "quantitative"
             }
            ],
            "x": {
             "field": "flux",
             "type": "quantitative"
            },
            "y": {
             "field": "rxn",
             "type": "nominal"
            }
           },
           "mark": {
            "color": "red",
            "filled": true,
            "size": 100,
            "type": "point"
           },
           "selection": {
            "selector004": {
             "bind": "scales",
             "encodings": [
              "x",
              "y"
             ],
             "type": "interval"
            }
           }
          },
          {
           "data": {
            "name": "data-d7255ad842f014c46f35befde053a015"
           },
           "encoding": {
            "x": {
             "field": "ThresholdValue",
             "type": "quantitative"
            }
           },
           "mark": "rule"
          }
         ]
        }
       ]
      },
      "image/png": "[encoded data removed]",
      "text/plain": [
       "<VegaLite 3 object>\n",
       "\n",
       "If you see this message, it means the renderer has not been properly enabled\n",
       "for the frontend that you are using. For more information, see\n",
       "https://altair-viz.github.io/user_guide/troubleshooting.html\n"
      ]
     },
     "execution_count": 16,
     "metadata": {},
     "output_type": "execute_result"
    }
   ],
   "source": [
    "flag, flux_df, dG_df = check_thermodynamic_feasibility(data_dict) \n",
    "dG_df['rxn'] = dG_df.index\n",
    "\n",
    "\n",
    "flux_df['rxn'] = flux_df.index\n",
    "flux_df['flux_min'] = flux_df['vref_mean (mmol/L/h)'] - flux_df['vref_std (mmol/L/h)']\n",
    "flux_df['flux_max'] = flux_df['vref_mean (mmol/L/h)'] + flux_df['vref_std (mmol/L/h)']\n",
    "flux_df['flux'] = flux_df['vref_mean (mmol/L/h)']\n",
    "\n",
    "height=1000\n",
    "width=400\n",
    "plot_dG_and_flux(dG_df,  flux_df, height, width)"
   ]
  },
  {
   "cell_type": "code",
   "execution_count": null,
   "metadata": {},
   "outputs": [],
   "source": []
  }
 ],
 "metadata": {
  "kernelspec": {
   "display_name": "Python 3",
   "language": "python",
   "name": "python3"
  },
  "language_info": {
   "codemirror_mode": {
    "name": "ipython",
    "version": 3
   },
   "file_extension": ".py",
   "mimetype": "text/x-python",
   "name": "python",
   "nbconvert_exporter": "python",
   "pygments_lexer": "ipython3",
   "version": "3.8.5"
  }
 },
 "nbformat": 4,
 "nbformat_minor": 4
}
