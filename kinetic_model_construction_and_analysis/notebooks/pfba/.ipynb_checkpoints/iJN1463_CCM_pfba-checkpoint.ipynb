{
 "cells": [
  {
   "cell_type": "code",
   "execution_count": 1,
   "metadata": {},
   "outputs": [],
   "source": [
    "import pandas as pd\n",
    "import numpy as np\n",
    "from cobra import Model, Reaction, Metabolite\n",
    "from cobra.flux_analysis import pfba\n",
    "from cobra.io import read_sbml_model\n",
    "\n",
    "pd.set_option('display.max_rows', 500)"
   ]
  },
  {
   "cell_type": "code",
   "execution_count": 2,
   "metadata": {},
   "outputs": [],
   "source": [
    "from cobra.flux_analysis import flux_variability_analysis"
   ]
  },
  {
   "cell_type": "markdown",
   "metadata": {},
   "source": [
    "## Abbreviations\n",
    "\n",
    " - CCM: Central Carbon Metabolism\n",
    " - GSM: Genome-Scale Model"
   ]
  },
  {
   "cell_type": "markdown",
   "metadata": {},
   "source": [
    "### Worflow\n",
    "\n",
    "1. Set up model with the central carbon metabolism reactions of interest, the CCM model\n",
    "2. Import iJN1462 P. putida model, the GSM model\n",
    "3. Set the fluxes of the reactions in the GSM model that are also part of the CCM model to the fluxes of the CCM model\n",
    "4. Set the fluxes of the exchange reactions\n",
    "5. Run pFBA\n",
    "6. Export the pFBA results"
   ]
  },
  {
   "cell_type": "code",
   "execution_count": 3,
   "metadata": {},
   "outputs": [],
   "source": [
    "def build_ccm_model(reactions):\n",
    "    \"\"\" Build Central Carbon Metabolism model for the given reactions\"\"\"\n",
    "    \n",
    "    ccm_model = Model('putida_no_gth')\n",
    "    excluded_rxns = ['R_ACCOAr', 'R_AXPr', 'R_NADHr', 'R_NADPHr', 'R_Q8H2r', 'R_OPNAD', 'R_OPQ8']\n",
    "    orig_ccm_rxns_ids = []\n",
    "    \n",
    "    for i in range(reactions['rxn_id'].shape[0]):\n",
    "        r = Reaction(reactions['rxn_id'][i])\n",
    "        ccm_model.add_reaction(r);\n",
    "        r.build_reaction_from_string(reactions['rxn_stoic'][i]);\n",
    "        ccm_model.reactions.get_by_id(reactions['rxn_id'][i]).lower_bound = reactions['lb'][i]\n",
    "        ccm_model.reactions.get_by_id(reactions['rxn_id'][i]).upper_bound = reactions['ub'][i]\n",
    "\n",
    "        if not reactions['rxn_id'][i].startswith('R_EX_') and reactions['rxn_id'][i] not in excluded_rxns:\n",
    "            orig_ccm_rxns_ids.append(reactions['rxn_id'][i])\n",
    "            \n",
    "    return ccm_model, orig_ccm_rxns_ids\n"
   ]
  },
  {
   "cell_type": "code",
   "execution_count": 4,
   "metadata": {},
   "outputs": [],
   "source": [
    "def get_ids(object_list):\n",
    "    \"\"\" Get all ids from a cobrapy objects, e.g. reactions or metabolites\"\"\"\n",
    "    return [obj.id for obj in object_list]\n",
    "\n",
    "def find_complete_id(rxn_id, rxn_id_set):\n",
    "    \"\"\" Find a given id given only a partial match\"\"\"\n",
    "    \n",
    "    complete_rxn_ids = [complete_rxn_id for complete_rxn_id in rxn_id_set if complete_rxn_id.find(rxn_id) !=-1]\n",
    "    return complete_rxn_ids\n"
   ]
  },
  {
   "cell_type": "code",
   "execution_count": 5,
   "metadata": {},
   "outputs": [
    {
     "name": "stdout",
     "output_type": "stream",
     "text": [
      "\n",
      "--------------------------------------------\n",
      "Warning: your license will expire in 10 days\n",
      "--------------------------------------------\n",
      "\n",
      "Using license file /Users/svevol/gurobi.lic\n",
      "Academic license - for non-commercial use only\n",
      "unknown metabolite 'm_glc__D_p' created\n",
      "unknown metabolite 'm_atp_c' created\n",
      "unknown metabolite 'm_h2o_c' created\n",
      "unknown metabolite 'm_glc__D_c' created\n",
      "unknown metabolite 'm_adp_c' created\n",
      "unknown metabolite 'm_pi_c' created\n",
      "unknown metabolite 'm_g6p_c' created\n",
      "unknown metabolite 'glc__D_e' created\n",
      "unknown metabolite 'glc__D_p' created\n",
      "unknown metabolite 'm_glcn_p' created\n",
      "unknown metabolite 'm_glcn_c' created\n",
      "unknown metabolite 'm_6pgc_c' created\n",
      "unknown metabolite 'm_2dhglcn_p' created\n",
      "unknown metabolite 'm_2dhglcn_c' created\n",
      "unknown metabolite 'm_6p2dhglcn_c' created\n",
      "unknown metabolite 'm_nadph_c' created\n",
      "unknown metabolite 'm_nadp_c' created\n",
      "unknown metabolite 'm_q8_c' created\n",
      "unknown metabolite 'm_q8h2_c' created\n",
      "unknown metabolite 'm_6pgl_c' created\n",
      "unknown metabolite 'm_co2_c' created\n",
      "unknown metabolite 'm_ru5p__D_c' created\n",
      "unknown metabolite 'm_r5p_c' created\n",
      "unknown metabolite 'm_xu5p__D_c' created\n",
      "unknown metabolite 'm_g3p_c' created\n",
      "unknown metabolite 'm_s7p_c' created\n",
      "unknown metabolite 'm_e4p_c' created\n",
      "unknown metabolite 'm_f6p_c' created\n",
      "unknown metabolite 'm_2ddg6p_c' created\n",
      "unknown metabolite 'm_pyr_c' created\n",
      "unknown metabolite 'm_fdp_c' created\n",
      "unknown metabolite 'm_dhap_c' created\n",
      "unknown metabolite 'm_nad_c' created\n",
      "unknown metabolite 'm_nadh_c' created\n",
      "unknown metabolite 'm_13dpg_c' created\n",
      "unknown metabolite 'm_3pg_c' created\n",
      "unknown metabolite 'm_2pg_c' created\n",
      "unknown metabolite 'm_pep_c' created\n",
      "unknown metabolite 'm_coa_c' created\n",
      "unknown metabolite 'm_accoa_c' created\n",
      "unknown metabolite 'm_oaa_c' created\n",
      "unknown metabolite 'm_h2o_c<' created\n",
      "unknown metabolite 'm_mal__L_c' created\n",
      "unknown metabolite 'm_fum_c' created\n",
      "unknown metabolite 'm_succ_c' created\n",
      "unknown metabolite 'm_succoa_c' created\n",
      "unknown metabolite 'm_akg_c' created\n",
      "unknown metabolite 'm_icit_c' created\n",
      "unknown metabolite 'm_cit_c' created\n",
      "unknown metabolite 'm_acon_C_c' created\n",
      "unknown metabolite 'm_glx_c' created\n"
     ]
    }
   ],
   "source": [
    "ccm_reactions = pd.read_excel('../../models/cobra/PputidaCCM_reactions_scope.xlsx')\n",
    "ccm_model, orig_ccm_rxns_ids = build_ccm_model(ccm_reactions)"
   ]
  },
  {
   "cell_type": "code",
   "execution_count": 6,
   "metadata": {},
   "outputs": [],
   "source": [
    "ccm_rxns_ids=['GLCabcpp',\n",
    " 'HEX1',\n",
    " 'GLCtex',          \n",
    " 'GLCNt2rpp',  'GNK',  '2DHGLCNkt_tpp', '2DHGLCK', 'PGLCNDH', 'GLCDpp','GAD2ktpp', 'G6PDH2r', 'PGL',\n",
    " 'GND', 'RPI', 'RPE', 'TKT1', 'TKT2', 'TALA', 'EDD', 'EDA', 'PGI', 'FBP',\n",
    " 'FBA', 'TPI', 'GAPD', 'PGK', 'PGM', 'ENO', 'PYK', 'PDH', 'OAADC', 'PPC', 'ME2', 'MDH', 'FUM', 'SUCDi',\n",
    " 'SUCOAS', 'AKGDH', 'ICDHyr', 'ACONTa', 'ACONTb', 'CS', 'ICL', 'MALS']"
   ]
  },
  {
   "cell_type": "code",
   "execution_count": 7,
   "metadata": {},
   "outputs": [],
   "source": [
    "gsm_model = read_sbml_model('../../models/cobra/iJN1463.xml')\n"
   ]
  },
  {
   "cell_type": "markdown",
   "metadata": {},
   "source": [
    "## Define fluxes of GSM model based on the CCM model"
   ]
  },
  {
   "cell_type": "code",
   "execution_count": 8,
   "metadata": {},
   "outputs": [
    {
     "name": "stdout",
     "output_type": "stream",
     "text": [
      "GLCabcpp\n",
      "R_GLCabcpp: m_atp_c + m_glc__D_p + m_h2o_c --> m_adp_c + m_glc__D_c + m_pi_c\n",
      "GLCabcpp: atp_c + glc__D_p + h2o_c --> adp_c + glc__D_c + h_c + pi_c\n",
      "[0.59, 0.67]\n",
      "[0.59, 0.67]\n",
      "\n",
      "HEX1\n",
      "R_HEX1: m_atp_c + m_glc__D_c --> m_adp_c + m_g6p_c\n",
      "HEX1: atp_c + glc__D_c --> adp_c + g6p_c + h_c\n",
      "[0.59, 0.67]\n",
      "[0.59, 0.67]\n",
      "\n",
      "GLCtex\n",
      "R_GLCtex: glc__D_e --> glc__D_p\n",
      "GLCtex: glc__D_e --> glc__D_p\n",
      "[6.14, 6.14]\n",
      "[6.14, 6.14]\n",
      "\n",
      "GLCNt2rpp\n",
      "R_GLCNt2rpp: m_glcn_p --> m_glcn_c\n",
      "GLCNt2rpp: glcn_p + h_p --> glcn_c + h_c\n",
      "[4.72, 4.86]\n",
      "[4.72, 4.86]\n",
      "\n",
      "GNK\n",
      "R_GNK: m_atp_c + m_glcn_c --> m_6pgc_c + m_adp_c\n",
      "GNK: atp_c + glcn_c --> 6pgc_c + adp_c + h_c\n",
      "[4.72, 4.86]\n",
      "[4.72, 4.86]\n",
      "\n",
      "2DHGLCNkt_tpp\n",
      "R_2DHGLCNkt_tpp: m_2dhglcn_p --> m_2dhglcn_c\n",
      "2DHGLCNkt_tpp: 2dhglcn_p + h_p --> 2dhglcn_c + h_c\n",
      "[0.66, 0.78]\n",
      "[0.66, 0.78]\n",
      "\n",
      "2DHGLCK\n",
      "R_2DHGLCK: m_2dhglcn_c + m_atp_c --> m_6p2dhglcn_c + m_adp_c\n",
      "2DHGLCK: 2dhglcn_c + atp_c + 2.0 h_c --> 6p2dhglcn_c + adp_c\n",
      "[0.66, 0.78]\n",
      "[0.66, 0.78]\n",
      "\n",
      "PGLCNDH\n",
      "R_PGLCNDH: m_6p2dhglcn_c + m_nadph_c --> m_6pgc_c + m_nadp_c\n",
      "PGLCNDH: 6p2dhglcn_c + nadph_c --> 6pgc_c + 2.0 h_c + nadp_c\n",
      "[0.66, 0.78]\n",
      "[0.66, 0.78]\n",
      "\n",
      "GLCDpp\n",
      "R_GLCDpp: m_glc__D_p + m_q8_c --> m_glcn_p + m_q8h2_c\n",
      "GLCDpp: glc__D_p + h2o_p + q8_c --> glcn_p + h_p + q8h2_c\n",
      "[5.47, 5.55]\n",
      "[5.47, 5.55]\n",
      "\n",
      "GAD2ktpp\n",
      "R_GAD2ktpp: m_glcn_p + m_q8_c --> m_2dhglcn_p + m_q8h2_c\n",
      "GAD2ktpp: glcn_p + q8_c --> 2dhglcn_p + q8h2_c\n",
      "[0.66, 0.78]\n",
      "[0.66, 0.78]\n",
      "\n",
      "G6PDH2r\n",
      "R_G6PDH2r: m_g6p_c + m_nadp_c --> m_6pgl_c + m_nadph_c\n",
      "G6PDH2r: g6p_c + nadp_c --> 6pgl_c + h_c + nadph_c\n",
      "[1.1, 1.24]\n",
      "[1.1, 1.24]\n",
      "\n",
      "PGL\n",
      "R_PGL: m_6pgl_c + m_h2o_c --> m_6pgc_c\n",
      "[1.1, 1.24]\n",
      "[1.1, 1.24]\n",
      "R_G6PDH2r: m_g6p_c + m_nadp_c --> m_6pgl_c + m_nadph_c\n",
      "PGL: 6pgl_c + h2o_c --> 6pgc_c + h_c\n",
      "[1.1, 1.24]\n",
      "[1.1, 1.24]\n",
      "\n",
      "GND\n",
      "R_GND: m_6pgc_c + m_nadp_c --> m_co2_c + m_nadph_c + m_ru5p__D_c\n",
      "GND: 6pgc_c + nadp_c --> co2_c + nadph_c + ru5p__D_c\n",
      "[0.56, 0.62]\n",
      "[0.56, 0.62]\n",
      "\n",
      "RPI\n",
      "R_RPI: m_r5p_c <=> m_ru5p__D_c\n",
      "RPI: r5p_c <=> ru5p__D_c\n",
      "[-1.03, 0.15]\n",
      "[-1.03, 0.15]\n",
      "\n",
      "RPE\n",
      "R_RPE: m_ru5p__D_c <=> m_xu5p__D_c\n",
      "RPE: ru5p__D_c <=> xu5p__D_c\n",
      "[-0.44, 0.74]\n",
      "[-0.44, 0.74]\n",
      "\n",
      "TKT1\n",
      "R_TKT1: m_r5p_c + m_xu5p__D_c --> m_g3p_c + m_s7p_c\n",
      "TKT1: r5p_c + xu5p__D_c --> g3p_c + s7p_c\n",
      "[0.14, 0.16]\n",
      "[0.14, 0.16]\n",
      "\n",
      "TKT2\n",
      "R_TKT2: m_e4p_c + m_xu5p__D_c --> m_f6p_c + m_g3p_c\n",
      "TKT2: e4p_c + xu5p__D_c --> f6p_c + g3p_c\n",
      "[0.0, 0.02]\n",
      "[0.0, 0.02]\n",
      "\n",
      "TALA\n",
      "R_TALA: m_g3p_c + m_s7p_c --> m_e4p_c + m_f6p_c\n",
      "TALA: g3p_c + s7p_c --> e4p_c + f6p_c\n",
      "[0.14, 0.16]\n",
      "[0.14, 0.16]\n",
      "\n",
      "EDD\n",
      "R_EDD: m_6pgc_c --> m_2ddg6p_c + m_h2o_c\n",
      "EDD: 6pgc_c --> 2ddg6p_c + h2o_c\n",
      "[6.07, 6.15]\n",
      "[6.07, 6.15]\n",
      "\n",
      "EDA\n",
      "R_EDA: m_2ddg6p_c --> m_g3p_c + m_pyr_c\n",
      "EDA: 2ddg6p_c --> g3p_c + pyr_c\n",
      "[6.07, 6.15]\n",
      "[6.07, 6.15]\n",
      "\n",
      "PGI\n",
      "R_PGI: m_g6p_c <-- m_f6p_c\n",
      "PGI: g6p_c <-- f6p_c\n",
      "[-0.61, -0.53]\n",
      "[-0.61, -0.53]\n",
      "\n",
      "FBP\n",
      "R_FBP: m_fdp_c + m_h2o_c --> m_f6p_c + m_pi_c\n",
      "FBP: fdp_c + h2o_c --> f6p_c + pi_c\n",
      "[0.43, 0.49]\n",
      "[0.43, 0.49]\n",
      "\n",
      "FBA\n",
      "R_FBA: m_fdp_c <-- m_dhap_c + m_g3p_c\n",
      "FBA: fdp_c <-- dhap_c + g3p_c\n",
      "[-0.49, -0.43]\n",
      "[-0.49, -0.43]\n",
      "\n",
      "TPI\n",
      "R_TPI: m_dhap_c <-- m_g3p_c\n",
      "TPI: dhap_c <-- g3p_c\n",
      "[-0.49, -0.43]\n",
      "[-0.49, -0.43]\n",
      "\n",
      "GAPD\n",
      "R_GAPD: m_g3p_c + m_nad_c + m_pi_c --> m_13dpg_c + m_nadh_c\n",
      "GAPD: g3p_c + nad_c + pi_c --> 13dpg_c + h_c + nadh_c\n",
      "[5.07, 5.15]\n",
      "[5.07, 5.15]\n",
      "\n",
      "PGK\n",
      "R_PGK: m_3pg_c + m_atp_c <-- m_13dpg_c + m_adp_c\n",
      "PGK: 3pg_c + atp_c <-- 13dpg_c + adp_c\n",
      "[-5.15, -5.07]\n",
      "[-5.15, -5.07]\n",
      "\n",
      "PGM\n",
      "R_PGM: m_2pg_c <-- m_3pg_c\n",
      "PGM: 2pg_c <-- 3pg_c\n",
      "[-4.43, -4.29]\n",
      "[-4.43, -4.29]\n",
      "\n",
      "ENO\n",
      "R_ENO: m_2pg_c --> m_h2o_c + m_pep_c\n",
      "ENO: 2pg_c --> h2o_c + pep_c\n",
      "[4.29, 4.43]\n",
      "[4.29, 4.43]\n",
      "\n",
      "PYK\n",
      "R_PYK: m_adp_c + m_pep_c --> m_atp_c + m_pyr_c\n",
      "PYK: adp_c + h_c + pep_c --> atp_c + pyr_c\n",
      "[3.81, 3.97]\n",
      "[3.81, 3.97]\n",
      "\n",
      "PDH\n",
      "R_PDH: m_coa_c + m_nad_c + m_pyr_c --> m_accoa_c + m_co2_c + m_nadh_c\n",
      "[6.49, 6.85]\n",
      "[6.49, 6.85]\n",
      "R_PYK: m_adp_c + m_pep_c --> m_atp_c + m_pyr_c\n",
      "PDH: coa_c + nad_c + pyr_c --> accoa_c + co2_c + nadh_c\n",
      "[6.49, 6.85]\n",
      "[3.81, 3.97]\n",
      "\n",
      "OAADC\n",
      "R_OAADC: m_oaa_c <-- m_co2_c + m_pyr_c\n",
      "OAADC: h_c + oaa_c <-- co2_c + pyr_c\n",
      "[-4.59, -4.29]\n",
      "[-4.59, -4.29]\n",
      "\n",
      "PPC\n",
      "R_PPC: m_co2_c + m_h2o_c< + m_pep_c <-- m_oaa_c + m_pi_c\n",
      "PPC: co2_c + h2o_c + pep_c <-- h_c + oaa_c + pi_c\n",
      "[-0.28, -0.02]\n",
      "[-0.28, -0.02]\n",
      "\n",
      "ME2\n",
      "R_ME2: m_mal__L_c + m_nadp_c --> m_co2_c + m_nadph_c + m_pyr_c\n",
      "ME2: mal__L_c + nadp_c --> co2_c + nadph_c + pyr_c\n",
      "[2.51, 2.87]\n",
      "[2.51, 2.87]\n",
      "\n",
      "MDH\n",
      "R_MDH: m_mal__L_c + m_nad_c --> m_nadh_c + m_oaa_c\n",
      "MDH: mal__L_c + nad_c --> h_c + nadh_c + oaa_c\n",
      "[1.9, 2.12]\n",
      "[1.9, 2.12]\n",
      "\n",
      "FUM\n",
      "R_FUM: m_fum_c + m_h2o_c --> m_mal__L_c\n",
      "FUM: fum_c + h2o_c --> mal__L_c\n",
      "[4.49, 4.93]\n",
      "[4.49, 4.93]\n",
      "\n",
      "SUCDi\n",
      "R_SUCDi: m_q8_c + m_succ_c --> m_fum_c + m_q8h2_c\n",
      "SUCDi: q8_c + succ_c --> fum_c + q8h2_c\n",
      "[4.49, 4.93]\n",
      "[4.49, 4.93]\n",
      "\n",
      "SUCOAS\n",
      "R_SUCOAS: m_atp_c + m_coa_c + m_succ_c <-- m_adp_c + m_pi_c + m_succoa_c\n",
      "SUCOAS: atp_c + coa_c + succ_c <-- adp_c + pi_c + succoa_c\n",
      "[-4.93, -4.49]\n",
      "[-4.93, -4.49]\n",
      "\n",
      "AKGDH\n",
      "R_AKGDH: m_akg_c + m_coa_c + m_nad_c --> m_co2_c + m_nadh_c + m_succoa_c\n",
      "AKGDH: akg_c + coa_c + nad_c --> co2_c + nadh_c + succoa_c\n",
      "[4.49, 4.93]\n",
      "[4.49, 4.93]\n",
      "\n",
      "ICDHyr\n",
      "R_ICDHyr: m_icit_c + m_nadp_c --> m_akg_c + m_co2_c + m_nadph_c\n",
      "ICDHyr: icit_c + nadp_c --> akg_c + co2_c + nadph_c\n",
      "[5.23, 5.65]\n",
      "[5.23, 5.65]\n",
      "\n",
      "ACONTa\n",
      "R_ACONTa: m_cit_c --> m_acon_C_c + m_h2o_c\n",
      "ACONTa: cit_c --> acon_C_c + h2o_c\n",
      "[5.23, 5.65]\n",
      "[5.23, 5.65]\n",
      "\n",
      "ACONTb\n",
      "R_ACONTb: m_acon_C_c + m_h2o_c --> m_icit_c\n",
      "ACONTb: acon_C_c + h2o_c --> icit_c\n",
      "[5.23, 5.65]\n",
      "[5.23, 5.65]\n",
      "\n",
      "CS\n",
      "R_CS: m_accoa_c + m_h2o_c + m_oaa_c --> m_cit_c + m_coa_c\n",
      "CS: accoa_c + h2o_c + oaa_c --> cit_c + coa_c + h_c\n",
      "[5.23, 5.65]\n",
      "[5.23, 5.65]\n",
      "\n",
      "ICL\n",
      "R_ICL: m_icit_c --> m_glx_c + m_succ_c\n",
      "ICL: icit_c --> glx_c + succ_c\n",
      "[0.0, 0.026]\n",
      "[0.0, 0.026]\n",
      "\n",
      "MALS\n",
      "R_MALS: m_accoa_c + m_glx_c + m_h2o_c --> m_coa_c + m_mal__L_c\n",
      "MALS: accoa_c + glx_c + h2o_c --> coa_c + h_c + mal__L_c\n",
      "[0.0, 0.026]\n",
      "[0.0, 0.026]\n",
      "\n"
     ]
    }
   ],
   "source": [
    "# define GSM fluxed based on CCM model\n",
    "\n",
    "for rxn_id in ccm_rxns_ids:\n",
    "    print(rxn_id)\n",
    "    if rxn_id in ['PGL', 'PDH']:\n",
    "        \n",
    "        gsm_model.reactions.get_by_id(rxn_id).lower_bound = ccm_model.reactions.get_by_id(f'R_{rxn_id}').lower_bound\n",
    "        gsm_model.reactions.get_by_id(rxn_id).upper_bound = ccm_model.reactions.get_by_id(f'R_{rxn_id}').upper_bound\n",
    "        \n",
    "        print(ccm_model.reactions.get_by_id(f'R_{rxn_id}'))\n",
    "        print(f'[{gsm_model.reactions.get_by_id(rxn_id).lower_bound}, {gsm_model.reactions.get_by_id(rxn_id).upper_bound}]')\n",
    "        print(f'[{ccm_model.reactions.get_by_id(f\"R_{rxn_id}\").lower_bound}, {ccm_model.reactions.get_by_id(f\"R_{rxn_id}\").upper_bound}]')\n",
    "    else:\n",
    "        ccm_rxn_id = find_complete_id(rxn_id, orig_ccm_rxns_ids)[0]\n",
    "        gsm_model.reactions.get_by_id(rxn_id).lower_bound = ccm_model.reactions.get_by_id(ccm_rxn_id).lower_bound\n",
    "        gsm_model.reactions.get_by_id(rxn_id).upper_bound = ccm_model.reactions.get_by_id(ccm_rxn_id).upper_bound\n",
    "    \n",
    "    print(ccm_model.reactions.get_by_id(ccm_rxn_id))\n",
    "    print(gsm_model.reactions.get_by_id(rxn_id))\n",
    "    print(f'[{gsm_model.reactions.get_by_id(rxn_id).lower_bound}, {gsm_model.reactions.get_by_id(rxn_id).upper_bound}]')\n",
    "    print(f'[{ccm_model.reactions.get_by_id(ccm_rxn_id).lower_bound}, {ccm_model.reactions.get_by_id(ccm_rxn_id).upper_bound}]')\n",
    "    print('')\n",
    "    \n"
   ]
  },
  {
   "cell_type": "code",
   "execution_count": 9,
   "metadata": {},
   "outputs": [
    {
     "name": "stdout",
     "output_type": "stream",
     "text": [
      "44\n",
      "44\n"
     ]
    },
    {
     "data": {
      "text/plain": [
       "set()"
      ]
     },
     "execution_count": 9,
     "metadata": {},
     "output_type": "execute_result"
    }
   ],
   "source": [
    "# make sure that the CCM model and the GSM model include the same reactions\n",
    "gsm_rxns_ids = get_ids(gsm_model.reactions)\n",
    "print(len(set(gsm_rxns_ids).intersection(set(ccm_rxns_ids))))\n",
    "print(len(ccm_rxns_ids))\n",
    "set(ccm_rxns_ids).difference(set(gsm_rxns_ids))"
   ]
  },
  {
   "cell_type": "code",
   "execution_count": 10,
   "metadata": {},
   "outputs": [],
   "source": [
    "# set correct flux direction for glucose exchange reaction\n",
    "gsm_model.reactions.get_by_id('EX_glc__D_e').lower_bound = -ccm_model.reactions.get_by_id('R_GLCtex').upper_bound\n",
    "gsm_model.reactions.get_by_id('EX_glc__D_e').upper_bound = -ccm_model.reactions.get_by_id('R_GLCtex').lower_bound "
   ]
  },
  {
   "cell_type": "code",
   "execution_count": 11,
   "metadata": {},
   "outputs": [],
   "source": [
    "# fix the flux for exchange reactions for glcn and 2dhglcn\n",
    "gsm_model.reactions.get_by_id('EX_glcn_e').lower_bound = gsm_model.reactions.get_by_id('EX_glcn_e').upper_bound = 0\n",
    "gsm_model.reactions.get_by_id('EX_2dhglcn_e').lower_bound = gsm_model.reactions.get_by_id('EX_2dhglcn_e').upper_bound = 0"
   ]
  },
  {
   "cell_type": "markdown",
   "metadata": {},
   "source": [
    "### Run pFBA"
   ]
  },
  {
   "cell_type": "code",
   "execution_count": 12,
   "metadata": {},
   "outputs": [],
   "source": [
    "pfba_solution = pfba(gsm_model)"
   ]
  },
  {
   "cell_type": "code",
   "execution_count": 13,
   "metadata": {},
   "outputs": [
    {
     "data": {
      "text/plain": [
       "0.33778749192786256"
      ]
     },
     "execution_count": 13,
     "metadata": {},
     "output_type": "execute_result"
    }
   ],
   "source": [
    "pfba_solution.fluxes.BIOMASS_KT2440_WT3"
   ]
  },
  {
   "cell_type": "code",
   "execution_count": 14,
   "metadata": {},
   "outputs": [
    {
     "data": {
      "text/plain": [
       "-6.14"
      ]
     },
     "execution_count": 14,
     "metadata": {},
     "output_type": "execute_result"
    }
   ],
   "source": [
    "pfba_solution.fluxes.EX_glc__D_e"
   ]
  },
  {
   "cell_type": "code",
   "execution_count": 15,
   "metadata": {},
   "outputs": [],
   "source": [
    "#Add constrain that TKT1/15=TKT2\n",
    "tkt1_tkt2 = gsm_model.problem.Constraint(\n",
    "    15*gsm_model.reactions.TKT2.flux_expression - gsm_model.reactions.TKT1.flux_expression,\n",
    "    lb=0,\n",
    "    ub=0)\n",
    "gsm_model.add_cons_vars(tkt1_tkt2)"
   ]
  },
  {
   "cell_type": "code",
   "execution_count": 16,
   "metadata": {},
   "outputs": [],
   "source": [
    "pfba_solution = pfba(gsm_model)"
   ]
  },
  {
   "cell_type": "code",
   "execution_count": 17,
   "metadata": {},
   "outputs": [
    {
     "data": {
      "text/plain": [
       "0.32477208426787824"
      ]
     },
     "execution_count": 17,
     "metadata": {},
     "output_type": "execute_result"
    }
   ],
   "source": [
    "pfba_solution.fluxes.BIOMASS_KT2440_WT3"
   ]
  },
  {
   "cell_type": "code",
   "execution_count": 18,
   "metadata": {},
   "outputs": [
    {
     "data": {
      "text/plain": [
       "-6.14"
      ]
     },
     "execution_count": 18,
     "metadata": {},
     "output_type": "execute_result"
    }
   ],
   "source": [
    "pfba_solution.fluxes.EX_glc__D_e"
   ]
  },
  {
   "cell_type": "markdown",
   "metadata": {},
   "source": [
    "### Get final fluxes and convert from mmol/gCDW/h to mmol/L/h"
   ]
  },
  {
   "cell_type": "markdown",
   "metadata": {},
   "source": [
    "mmol/L/h = mmol/gCDW/h * gCDW / cell_volume"
   ]
  },
  {
   "cell_type": "code",
   "execution_count": 19,
   "metadata": {},
   "outputs": [],
   "source": [
    "# values from Ishii\n",
    "gCDW = 2.8*10**-13\n",
    "cell_volume = 0.74*(4.96*10**-16)"
   ]
  },
  {
   "cell_type": "code",
   "execution_count": 20,
   "metadata": {},
   "outputs": [
    {
     "data": {
      "text/plain": [
       "GLCabcpp          0.620000\n",
       "HEX1              0.620000\n",
       "GLCtex            6.140000\n",
       "GLCNt2rpp         4.860000\n",
       "GNK               4.860000\n",
       "2DHGLCNkt_tpp     0.660000\n",
       "2DHGLCK           0.660000\n",
       "PGLCNDH           0.660000\n",
       "GLCDpp            5.520000\n",
       "GAD2ktpp          0.660000\n",
       "G6PDH2r           1.170000\n",
       "PGL               1.170000\n",
       "GND               0.620000\n",
       "RPI              -0.456809\n",
       "RPE               0.157108\n",
       "TKT1              0.147289\n",
       "TKT2              0.009819\n",
       "TALA              0.141641\n",
       "EDD               6.070000\n",
       "EDA               6.070000\n",
       "PGI              -0.595288\n",
       "FBP               0.469529\n",
       "FBA              -0.469529\n",
       "TPI              -0.490000\n",
       "GAPD              5.070000\n",
       "PGK              -5.150000\n",
       "PGM              -4.430000\n",
       "ENO               4.430000\n",
       "PYK               3.970000\n",
       "PDH               6.490000\n",
       "OAADC            -4.590000\n",
       "PPC              -0.020000\n",
       "ME2               2.510000\n",
       "MDH               1.900000\n",
       "FUM               4.846019\n",
       "SUCDi             4.495689\n",
       "SUCOAS           -4.490000\n",
       "AKGDH             4.490000\n",
       "ICDHyr            5.230000\n",
       "ACONTa            5.230000\n",
       "ACONTb            5.230000\n",
       "CS                5.230000\n",
       "ICL               0.000000\n",
       "MALS              0.000000\n",
       "CYTBO3_4pp       16.649400\n",
       "NADH16pp          5.429985\n",
       "ATPS4rpp         20.450677\n",
       "ACCOAC            0.628188\n",
       "MCOATA            0.628106\n",
       "KAS15             0.092211\n",
       "Name: fluxes, dtype: float64"
      ]
     },
     "execution_count": 20,
     "metadata": {},
     "output_type": "execute_result"
    }
   ],
   "source": [
    "pfba_solution.fluxes[ccm_rxns_ids+['CYTBO3_4pp', 'NADH16pp', 'ATPS4rpp','ACCOAC', 'MCOATA', 'KAS15']]"
   ]
  },
  {
   "cell_type": "code",
   "execution_count": 31,
   "metadata": {},
   "outputs": [
    {
     "data": {
      "text/plain": [
       "GLCabcpp           472.972973\n",
       "HEX1               472.972973\n",
       "GLCtex            4683.958152\n",
       "GLCNt2rpp         3707.497820\n",
       "GNK               3707.497820\n",
       "2DHGLCNkt_tpp      503.487358\n",
       "2DHGLCK            503.487358\n",
       "PGLCNDH            503.487358\n",
       "GLCDpp            4210.985179\n",
       "GAD2ktpp           503.487358\n",
       "G6PDH2r            892.545772\n",
       "PGL                892.545772\n",
       "GND                472.972973\n",
       "RPI               -348.480853\n",
       "RPE                119.851659\n",
       "TKT1               112.360930\n",
       "TKT2                 7.490729\n",
       "TALA               108.051966\n",
       "EDD               4630.557977\n",
       "EDA               4630.557977\n",
       "PGI               -454.121360\n",
       "FBP                358.185046\n",
       "FBA               -358.185046\n",
       "TPI               -373.801221\n",
       "GAPD              3867.698344\n",
       "PGK              -3928.727114\n",
       "PGM              -3379.468178\n",
       "ENO               3379.468178\n",
       "PYK               3028.552746\n",
       "PDH               4950.959024\n",
       "OAADC            -3501.525719\n",
       "PPC                -15.257193\n",
       "ME2               1914.777681\n",
       "MDH               1449.433304\n",
       "FUM               3696.832323\n",
       "SUCDi             3429.579689\n",
       "SUCOAS           -3425.239756\n",
       "AKGDH             3425.239756\n",
       "ICDHyr            3989.755885\n",
       "ACONTa            3989.755885\n",
       "ACONTb            3989.755885\n",
       "CS                3989.755885\n",
       "ICL                  0.000000\n",
       "MALS                 0.000000\n",
       "CYTBO3_4pp       12701.155056\n",
       "NADH16pp          4142.316597\n",
       "ATPS4rpp         15600.996079\n",
       "ACCOAC             479.219367\n",
       "MCOATA             479.156437\n",
       "KAS15               70.343984\n",
       "Name: fluxes, dtype: float64"
      ]
     },
     "execution_count": 31,
     "metadata": {},
     "output_type": "execute_result"
    }
   ],
   "source": [
    "pfba_solution.fluxes[ccm_rxns_ids+['CYTBO3_4pp', 'NADH16pp', 'ATPS4rpp','ACCOAC', 'MCOATA', 'KAS15']] * gCDW/cell_volume"
   ]
  },
  {
   "cell_type": "markdown",
   "metadata": {},
   "source": [
    "### Export pfba fluxes"
   ]
  },
  {
   "cell_type": "code",
   "execution_count": 33,
   "metadata": {},
   "outputs": [],
   "source": [
    "round(pfba_solution.fluxes[ccm_rxns_ids+['CYTBO3_4pp', 'NADH16pp', 'ATPS4rpp','ACCOAC', 'MCOATA', 'KAS15']] * gCDW/cell_volume, 0).to_csv('data/pfba_fluxes_with_tkt2.csv')"
   ]
  },
  {
   "cell_type": "code",
   "execution_count": null,
   "metadata": {},
   "outputs": [],
   "source": []
  }
 ],
 "metadata": {
  "kernelspec": {
   "display_name": "Python (rbcenv)",
   "language": "python",
   "name": "rbc-env"
  },
  "language_info": {
   "codemirror_mode": {
    "name": "ipython",
    "version": 3
   },
   "file_extension": ".py",
   "mimetype": "text/x-python",
   "name": "python",
   "nbconvert_exporter": "python",
   "pygments_lexer": "ipython3",
   "version": "3.7.3"
  }
 },
 "nbformat": 4,
 "nbformat_minor": 4
}
